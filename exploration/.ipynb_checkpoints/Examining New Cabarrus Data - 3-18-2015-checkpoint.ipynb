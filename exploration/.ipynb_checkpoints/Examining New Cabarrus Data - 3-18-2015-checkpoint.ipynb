{
 "cells": [
  {
   "cell_type": "code",
   "execution_count": 4,
   "metadata": {
    "collapsed": false
   },
   "outputs": [],
   "source": [
    "import pandas as pd"
   ]
  },
  {
   "cell_type": "code",
   "execution_count": 23,
   "metadata": {
    "collapsed": false
   },
   "outputs": [],
   "source": [
    "datapath = '/Users/liyan/Dropbox (Personal)/Updated Data 6-13 graders plus High Priority/'"
   ]
  },
  {
   "cell_type": "code",
   "execution_count": 24,
   "metadata": {
    "collapsed": false
   },
   "outputs": [
    {
     "data": {
      "text/plain": [
       "['Additional U Chicago Data 2015 0201.docx',\n",
       " 'cleaned data',\n",
       " 'Dropout Reason Code Descriptions.docx',\n",
       " 'Dropout_Data_0708_1314.txt',\n",
       " 'GPA Files description.docx',\n",
       " 'List of schools.xlsx',\n",
       " 'Student Address File Definition.docx',\n",
       " 'Student Demographic  Attendance  File Notes.docx',\n",
       " 'Student_Address_History 6-13 thru 1314.txt',\n",
       " 'Student_Demographic_Attendance plus specials 6-13 thru 1314.txt',\n",
       " 'Student_GPA_Detail 6-13 Thru 1314 Update.txt',\n",
       " 'Student_GPA_Detail 6-13 Thru 1314.txt',\n",
       " 'Student_GPA_YearlySummary 6-13 Thru 1314 update.txt',\n",
       " 'Student_GPA_YearlySummary 6-13 Thru 1314.txt',\n",
       " 'Student_Suspension_Data 6-13 thru 1314.txt']"
      ]
     },
     "execution_count": 24,
     "metadata": {},
     "output_type": "execute_result"
    }
   ],
   "source": [
    "import os\n",
    "os.listdir(datapath)"
   ]
  },
  {
   "cell_type": "code",
   "execution_count": 8,
   "metadata": {
    "collapsed": false
   },
   "outputs": [],
   "source": [
    "# Examining the dropout data"
   ]
  },
  {
   "cell_type": "code",
   "execution_count": 26,
   "metadata": {
    "collapsed": false
   },
   "outputs": [],
   "source": [
    "dropout_data = pd.read_table(datapath + 'cleaned_data/' + 'dropouts.txt')"
   ]
  },
  {
   "cell_type": "code",
   "execution_count": 27,
   "metadata": {
    "collapsed": false
   },
   "outputs": [
    {
     "data": {
      "text/plain": [
       "(2095, 10)"
      ]
     },
     "execution_count": 27,
     "metadata": {},
     "output_type": "execute_result"
    }
   ],
   "source": [
    "dropout_data.shape"
   ]
  },
  {
   "cell_type": "code",
   "execution_count": 28,
   "metadata": {
    "collapsed": false
   },
   "outputs": [
    {
     "data": {
      "text/html": [
       "<div style=\"max-height:1000px;max-width:1500px;overflow:auto;\">\n",
       "<table border=\"1\" class=\"dataframe\">\n",
       "  <thead>\n",
       "    <tr style=\"text-align: right;\">\n",
       "      <th></th>\n",
       "      <th>School</th>\n",
       "      <th>SchoolName</th>\n",
       "      <th>External_Student_ID</th>\n",
       "      <th>DO_year</th>\n",
       "      <th>Grade</th>\n",
       "      <th>Age</th>\n",
       "      <th>Gender</th>\n",
       "      <th>Ethnicity</th>\n",
       "      <th>Wcode</th>\n",
       "      <th>Reason</th>\n",
       "    </tr>\n",
       "  </thead>\n",
       "  <tbody>\n",
       "    <tr>\n",
       "      <th>0</th>\n",
       "      <td> 307</td>\n",
       "      <td> Cox Mill High School</td>\n",
       "      <td>  2725</td>\n",
       "      <td> 2009/10</td>\n",
       "      <td>  9</td>\n",
       "      <td> 17</td>\n",
       "      <td> M</td>\n",
       "      <td> WHTE</td>\n",
       "      <td> W2</td>\n",
       "      <td> ATTD</td>\n",
       "    </tr>\n",
       "    <tr>\n",
       "      <th>1</th>\n",
       "      <td> 307</td>\n",
       "      <td> Cox Mill High School</td>\n",
       "      <td> 11910</td>\n",
       "      <td> 2009/10</td>\n",
       "      <td>  9</td>\n",
       "      <td> 17</td>\n",
       "      <td> M</td>\n",
       "      <td> WHTE</td>\n",
       "      <td> W2</td>\n",
       "      <td> MOVE</td>\n",
       "    </tr>\n",
       "    <tr>\n",
       "      <th>2</th>\n",
       "      <td> 307</td>\n",
       "      <td> Cox Mill High School</td>\n",
       "      <td> 12045</td>\n",
       "      <td> 2009/10</td>\n",
       "      <td>  9</td>\n",
       "      <td> 16</td>\n",
       "      <td> M</td>\n",
       "      <td> WHTE</td>\n",
       "      <td> W2</td>\n",
       "      <td> ATTD</td>\n",
       "    </tr>\n",
       "    <tr>\n",
       "      <th>3</th>\n",
       "      <td> 307</td>\n",
       "      <td> Cox Mill High School</td>\n",
       "      <td> 12655</td>\n",
       "      <td> 2009/10</td>\n",
       "      <td> 11</td>\n",
       "      <td> 18</td>\n",
       "      <td> M</td>\n",
       "      <td> WHTE</td>\n",
       "      <td> W2</td>\n",
       "      <td> ATTD</td>\n",
       "    </tr>\n",
       "    <tr>\n",
       "      <th>4</th>\n",
       "      <td> 307</td>\n",
       "      <td> Cox Mill High School</td>\n",
       "      <td> 12911</td>\n",
       "      <td> 2009/10</td>\n",
       "      <td>  9</td>\n",
       "      <td> 17</td>\n",
       "      <td> M</td>\n",
       "      <td> BLCK</td>\n",
       "      <td> W2</td>\n",
       "      <td> LTSU</td>\n",
       "    </tr>\n",
       "  </tbody>\n",
       "</table>\n",
       "</div>"
      ],
      "text/plain": [
       "   School            SchoolName  External_Student_ID  DO_year  Grade  Age  \\\n",
       "0     307  Cox Mill High School                 2725  2009/10      9   17   \n",
       "1     307  Cox Mill High School                11910  2009/10      9   17   \n",
       "2     307  Cox Mill High School                12045  2009/10      9   16   \n",
       "3     307  Cox Mill High School                12655  2009/10     11   18   \n",
       "4     307  Cox Mill High School                12911  2009/10      9   17   \n",
       "\n",
       "  Gender Ethnicity Wcode Reason  \n",
       "0      M      WHTE    W2   ATTD  \n",
       "1      M      WHTE    W2   MOVE  \n",
       "2      M      WHTE    W2   ATTD  \n",
       "3      M      WHTE    W2   ATTD  \n",
       "4      M      BLCK    W2   LTSU  "
      ]
     },
     "execution_count": 28,
     "metadata": {},
     "output_type": "execute_result"
    }
   ],
   "source": [
    "dropout_data.head()"
   ]
  },
  {
   "cell_type": "code",
   "execution_count": 29,
   "metadata": {
    "collapsed": false
   },
   "outputs": [
    {
     "data": {
      "text/plain": [
       "ATTD    1020\n",
       "COMM     322\n",
       "MOVE     219\n",
       "LTSU     134\n",
       "ACAD     126\n",
       "UNKN      78\n",
       "WORK      46\n",
       "DISC      24\n",
       "RNAW      22\n",
       "PREG      20\n",
       "INCR      17\n",
       "HEAL      15\n",
       "HOME      13\n",
       "EMPL      12\n",
       "ENGA      11\n",
       "CHLD       6\n",
       "MARR       2\n",
       "ABUS       2\n",
       "PSEM       1\n",
       "EXPL       1\n",
       "dtype: int64"
      ]
     },
     "execution_count": 29,
     "metadata": {},
     "output_type": "execute_result"
    }
   ],
   "source": [
    "# I should probably exclude students who are marked as 'Move' from \n",
    "# actually being a dropout\n",
    "# There's 219 of students who are marked as being such.\n",
    "dropout_data['Reason'].value_counts()"
   ]
  },
  {
   "cell_type": "code",
   "execution_count": 30,
   "metadata": {
    "collapsed": false
   },
   "outputs": [
    {
     "data": {
      "text/plain": [
       "2007/08    402\n",
       "2006/07    401\n",
       "2008/09    360\n",
       "2009/10    218\n",
       "2010/11    200\n",
       "2012/13    196\n",
       "2011/12    193\n",
       "2013/14    125\n",
       "dtype: int64"
      ]
     },
     "execution_count": 30,
     "metadata": {},
     "output_type": "execute_result"
    }
   ],
   "source": [
    "# It looks like dropouts are decreasing over the years\n",
    "# Though there's a sharp 30% drop from the 2011-2012 to 2013-2014 \n",
    "# school year\n",
    "dropout_data['DO_year'].value_counts()"
   ]
  },
  {
   "cell_type": "code",
   "execution_count": 31,
   "metadata": {
    "collapsed": false
   },
   "outputs": [],
   "source": [
    "# Examining Student Address History\n",
    "filename = 'Student_Address_History 6-13 thru 1314.txt'"
   ]
  },
  {
   "cell_type": "code",
   "execution_count": 32,
   "metadata": {
    "collapsed": false
   },
   "outputs": [],
   "source": [
    "add_hist = pd.read_table(datapath + filename)"
   ]
  },
  {
   "cell_type": "code",
   "execution_count": 33,
   "metadata": {
    "collapsed": false
   },
   "outputs": [
    {
     "data": {
      "text/html": [
       "<div style=\"max-height:1000px;max-width:1500px;overflow:auto;\">\n",
       "<table border=\"1\" class=\"dataframe\">\n",
       "  <thead>\n",
       "    <tr style=\"text-align: right;\">\n",
       "      <th></th>\n",
       "      <th>ReportingYear</th>\n",
       "      <th>External_Student_ID</th>\n",
       "      <th>Street</th>\n",
       "      <th>CITY</th>\n",
       "      <th>STATE</th>\n",
       "      <th>ZIP</th>\n",
       "      <th>Grade</th>\n",
       "    </tr>\n",
       "  </thead>\n",
       "  <tbody>\n",
       "    <tr>\n",
       "      <th>0</th>\n",
       "      <td> 2008</td>\n",
       "      <td> 1000</td>\n",
       "      <td>                167 Eastover Dr SE</td>\n",
       "      <td> Concord</td>\n",
       "      <td> NC</td>\n",
       "      <td> 28025</td>\n",
       "      <td> 7</td>\n",
       "    </tr>\n",
       "    <tr>\n",
       "      <th>1</th>\n",
       "      <td> 2008</td>\n",
       "      <td> 1001</td>\n",
       "      <td>                167 Eastover Dr SE</td>\n",
       "      <td> Concord</td>\n",
       "      <td> NC</td>\n",
       "      <td> 28025</td>\n",
       "      <td> 7</td>\n",
       "    </tr>\n",
       "    <tr>\n",
       "      <th>2</th>\n",
       "      <td> 2008</td>\n",
       "      <td> 1003</td>\n",
       "      <td>            4314 Concord Pointe LN</td>\n",
       "      <td> Concord</td>\n",
       "      <td> NC</td>\n",
       "      <td> 28027</td>\n",
       "      <td> 9</td>\n",
       "    </tr>\n",
       "    <tr>\n",
       "      <th>3</th>\n",
       "      <td> 2008</td>\n",
       "      <td> 1004</td>\n",
       "      <td>                  948 Tartan Ln Nw</td>\n",
       "      <td> Concord</td>\n",
       "      <td> NC</td>\n",
       "      <td> 28027</td>\n",
       "      <td> 6</td>\n",
       "    </tr>\n",
       "    <tr>\n",
       "      <th>4</th>\n",
       "      <td> 2008</td>\n",
       "      <td> 1005</td>\n",
       "      <td> 3180 Patrick Henry Drive   APT# J</td>\n",
       "      <td> Concord</td>\n",
       "      <td> NC</td>\n",
       "      <td> 28027</td>\n",
       "      <td> 9</td>\n",
       "    </tr>\n",
       "  </tbody>\n",
       "</table>\n",
       "</div>"
      ],
      "text/plain": [
       "   ReportingYear  External_Student_ID                             Street  \\\n",
       "0           2008                 1000                 167 Eastover Dr SE   \n",
       "1           2008                 1001                 167 Eastover Dr SE   \n",
       "2           2008                 1003             4314 Concord Pointe LN   \n",
       "3           2008                 1004                   948 Tartan Ln Nw   \n",
       "4           2008                 1005  3180 Patrick Henry Drive   APT# J   \n",
       "\n",
       "      CITY STATE    ZIP  Grade  \n",
       "0  Concord    NC  28025      7  \n",
       "1  Concord    NC  28025      7  \n",
       "2  Concord    NC  28027      9  \n",
       "3  Concord    NC  28027      6  \n",
       "4  Concord    NC  28027      9  "
      ]
     },
     "execution_count": 33,
     "metadata": {},
     "output_type": "execute_result"
    }
   ],
   "source": [
    "add_hist.head()"
   ]
  },
  {
   "cell_type": "code",
   "execution_count": 34,
   "metadata": {
    "collapsed": false
   },
   "outputs": [
    {
     "data": {
      "text/plain": [
       "9     18637\n",
       "7     16820\n",
       "8     16787\n",
       "6     16732\n",
       "10    16315\n",
       "11    14091\n",
       "12    12998\n",
       "13        6\n",
       "99        2\n",
       "dtype: int64"
      ]
     },
     "execution_count": 34,
     "metadata": {},
     "output_type": "execute_result"
    }
   ],
   "source": [
    "# There's 6th and 7th grade data!\n",
    "add_hist['Grade'].value_counts()"
   ]
  },
  {
   "cell_type": "code",
   "execution_count": 35,
   "metadata": {
    "collapsed": false
   },
   "outputs": [
    {
     "data": {
      "text/plain": [
       "2014    18799\n",
       "2013    16657\n",
       "2012    16164\n",
       "2011    15731\n",
       "2010    15233\n",
       "2009    14959\n",
       "2008    14845\n",
       "dtype: int64"
      ]
     },
     "execution_count": 35,
     "metadata": {},
     "output_type": "execute_result"
    }
   ],
   "source": [
    "# Hooray! 2014 is here\n",
    "add_hist['ReportingYear'].value_counts()"
   ]
  },
  {
   "cell_type": "code",
   "execution_count": 40,
   "metadata": {
    "collapsed": false
   },
   "outputs": [],
   "source": [
    "# Examining demographic & attendance\n",
    "filename = 'demographic_attendance.txt'"
   ]
  },
  {
   "cell_type": "code",
   "execution_count": 41,
   "metadata": {
    "collapsed": false
   },
   "outputs": [],
   "source": [
    "demog_attend = pd.read_csv(datapath + 'cleaned_data/' + filename, delimiter='\\t')"
   ]
  },
  {
   "cell_type": "code",
   "execution_count": 42,
   "metadata": {
    "collapsed": false
   },
   "outputs": [
    {
     "data": {
      "text/plain": [
       "(111276, 30)"
      ]
     },
     "execution_count": 42,
     "metadata": {},
     "output_type": "execute_result"
    }
   ],
   "source": [
    "demog_attend.shape"
   ]
  },
  {
   "cell_type": "code",
   "execution_count": 43,
   "metadata": {
    "collapsed": false
   },
   "outputs": [
    {
     "data": {
      "text/plain": [
       "2014    17457\n",
       "2013    17010\n",
       "2012    16503\n",
       "2011    15984\n",
       "2010    15498\n",
       "2009    15206\n",
       "2008    13618\n",
       "dtype: int64"
      ]
     },
     "execution_count": 43,
     "metadata": {},
     "output_type": "execute_result"
    }
   ],
   "source": [
    "demog_attend['ReportingYear'].value_counts()"
   ]
  },
  {
   "cell_type": "code",
   "execution_count": 45,
   "metadata": {
    "collapsed": false
   },
   "outputs": [
    {
     "data": {
      "text/plain": [
       "N    60068\n",
       "Y    51188\n",
       "dtype: int64"
      ]
     },
     "execution_count": 45,
     "metadata": {},
     "output_type": "execute_result"
    }
   ],
   "source": [
    "demog_attend['TransOut_Before_Grade12_Year'].value_counts()"
   ]
  },
  {
   "cell_type": "code",
   "execution_count": 46,
   "metadata": {
    "collapsed": false
   },
   "outputs": [
    {
     "data": {
      "text/plain": [
       "2014    12727\n",
       "2013    10516\n",
       "2012     8824\n",
       "2011     7158\n",
       "2010     4750\n",
       "2009     3116\n",
       "2008       19\n",
       "dtype: int64"
      ]
     },
     "execution_count": 46,
     "metadata": {},
     "output_type": "execute_result"
    }
   ],
   "source": [
    "demog_attend['grad_year'].value_counts()"
   ]
  },
  {
   "cell_type": "code",
   "execution_count": 47,
   "metadata": {
    "collapsed": false
   },
   "outputs": [
    {
     "data": {
      "text/plain": [
       "['ReportingYear',\n",
       " 'SchoolYear',\n",
       " 'External_Student_ID',\n",
       " 'school_code',\n",
       " 'grade',\n",
       " 'ethnic',\n",
       " 'sex',\n",
       " 'swd',\n",
       " 'eds',\n",
       " 'lep',\n",
       " 'daysabs',\n",
       " 'exc_abs',\n",
       " 'unexc_abs',\n",
       " 'times_tardy',\n",
       " 'FirstEntryDate',\n",
       " 'LastExitDate',\n",
       " 'FirstEntry_ReportingYear',\n",
       " 'LastExit_ReportingYear',\n",
       " 'FirstEntry_Grade',\n",
       " 'LastEntry_Grade',\n",
       " 'TransFered_Before_EOY',\n",
       " 'Grade_repeats',\n",
       " 'RepeatedGrades',\n",
       " 'RepeatedYears',\n",
       " 'TransOut_Before_Grade12_Year',\n",
       " 'g8year',\n",
       " 'graduate',\n",
       " 'grad_year',\n",
       " 'Expected_GradYear',\n",
       " 'Grad_4yr']"
      ]
     },
     "execution_count": 47,
     "metadata": {},
     "output_type": "execute_result"
    }
   ],
   "source": [
    "list(demog_attend.columns)"
   ]
  },
  {
   "cell_type": "code",
   "execution_count": 48,
   "metadata": {
    "collapsed": false
   },
   "outputs": [],
   "source": [
    "# Recreating the results on Cabarrus' website regarding # of graduating"
   ]
  },
  {
   "cell_type": "code",
   "execution_count": 49,
   "metadata": {
    "collapsed": false
   },
   "outputs": [],
   "source": [
    "# There are 49 students who transferred out before grade 12, yet \n",
    "# are marked as graduated\n",
    "# There are 76 students who graduated, have a grad year of 2013\n",
    "# but were not recorded as being in 8th grade in 2009\n",
    "grad_year = 2013\n",
    "g8_year = grad_year-4\n",
    "numerator = demog_attend[(demog_attend['graduate'] == 'Y')\n",
    "                         #& (demog_attend['Expected_GradYear'] == grad_year)\n",
    "                         #& (demog_attend['g8year'] == g8_year)\n",
    "                         & (demog_attend['TransOut_Before_Grade12_Year'] == 'N')\n",
    "                         ]['External_Student_ID'].unique().size"
   ]
  },
  {
   "cell_type": "code",
   "execution_count": 50,
   "metadata": {
    "collapsed": false
   },
   "outputs": [
    {
     "data": {
      "text/plain": [
       "53922"
      ]
     },
     "execution_count": 50,
     "metadata": {},
     "output_type": "execute_result"
    }
   ],
   "source": [
    "demog_attend['Grad_4yr'].isnull().sum()"
   ]
  },
  {
   "cell_type": "code",
   "execution_count": 51,
   "metadata": {
    "collapsed": false
   },
   "outputs": [],
   "source": [
    "x = demog_attend[demog_attend['graduate'].isnull()\n",
    "             & (demog_attend['Grad_4yr'].isnull())\n",
    "             & (demog_attend['Expected_GradYear'].isnull())\n",
    "             & (demog_attend['TransOut_Before_Grade12_Year'] == 'N')\n",
    "             & (demog_attend['RepeatedGrades'].isnull())]"
   ]
  },
  {
   "cell_type": "code",
   "execution_count": 52,
   "metadata": {
    "collapsed": false
   },
   "outputs": [
    {
     "data": {
      "text/plain": [
       "3354"
      ]
     },
     "execution_count": 52,
     "metadata": {},
     "output_type": "execute_result"
    }
   ],
   "source": [
    "x['External_Student_ID'].unique().size"
   ]
  },
  {
   "cell_type": "code",
   "execution_count": 53,
   "metadata": {
    "collapsed": false
   },
   "outputs": [
    {
     "data": {
      "text/plain": [
       "Series([], dtype: int64)"
      ]
     },
     "execution_count": 53,
     "metadata": {},
     "output_type": "execute_result"
    }
   ],
   "source": [
    "x['Expected_GradYear'].value_counts()"
   ]
  },
  {
   "cell_type": "code",
   "execution_count": 54,
   "metadata": {
    "collapsed": false
   },
   "outputs": [],
   "source": [
    "strange_ids = set(x['External_Student_ID'])"
   ]
  },
  {
   "cell_type": "code",
   "execution_count": 55,
   "metadata": {
    "collapsed": false
   },
   "outputs": [],
   "source": [
    "a = add_hist[add_hist['External_Student_ID'].isin(strange_ids)].set_index(['ReportingYear', 'Grade'])"
   ]
  },
  {
   "cell_type": "code",
   "execution_count": 56,
   "metadata": {
    "collapsed": false
   },
   "outputs": [
    {
     "name": "stderr",
     "output_type": "stream",
     "text": [
      "//anaconda/lib/python2.7/site-packages/pandas/core/index.py:4159: PerformanceWarning: indexing past lexsort depth may impact performance.\n",
      "  PerformanceWarning)\n"
     ]
    },
    {
     "data": {
      "text/html": [
       "<div style=\"max-height:1000px;max-width:1500px;overflow:auto;\">\n",
       "<table border=\"1\" class=\"dataframe\">\n",
       "  <thead>\n",
       "    <tr style=\"text-align: right;\">\n",
       "      <th></th>\n",
       "      <th></th>\n",
       "      <th>External_Student_ID</th>\n",
       "      <th>Street</th>\n",
       "      <th>CITY</th>\n",
       "      <th>STATE</th>\n",
       "      <th>ZIP</th>\n",
       "    </tr>\n",
       "    <tr>\n",
       "      <th>ReportingYear</th>\n",
       "      <th>Grade</th>\n",
       "      <th></th>\n",
       "      <th></th>\n",
       "      <th></th>\n",
       "      <th></th>\n",
       "      <th></th>\n",
       "    </tr>\n",
       "  </thead>\n",
       "  <tbody>\n",
       "    <tr>\n",
       "      <th rowspan=\"3\" valign=\"top\">2013</th>\n",
       "      <th>12</th>\n",
       "      <td>  6856</td>\n",
       "      <td> 104 South Hampton Dr</td>\n",
       "      <td>   Concord</td>\n",
       "      <td> NC</td>\n",
       "      <td> 28027</td>\n",
       "    </tr>\n",
       "    <tr>\n",
       "      <th>12</th>\n",
       "      <td> 54532</td>\n",
       "      <td>      9844 Legolas Ln</td>\n",
       "      <td> Charlotte</td>\n",
       "      <td> NC</td>\n",
       "      <td> 28269</td>\n",
       "    </tr>\n",
       "    <tr>\n",
       "      <th>12</th>\n",
       "      <td> 55369</td>\n",
       "      <td>    1263 Creekside Dr</td>\n",
       "      <td>   Concord</td>\n",
       "      <td> NC</td>\n",
       "      <td> 28027</td>\n",
       "    </tr>\n",
       "  </tbody>\n",
       "</table>\n",
       "</div>"
      ],
      "text/plain": [
       "                     External_Student_ID                Street       CITY  \\\n",
       "ReportingYear Grade                                                         \n",
       "2013          12                    6856  104 South Hampton Dr    Concord   \n",
       "              12                   54532       9844 Legolas Ln  Charlotte   \n",
       "              12                   55369     1263 Creekside Dr    Concord   \n",
       "\n",
       "                    STATE    ZIP  \n",
       "ReportingYear Grade               \n",
       "2013          12       NC  28027  \n",
       "              12       NC  28269  \n",
       "              12       NC  28027  "
      ]
     },
     "execution_count": 56,
     "metadata": {},
     "output_type": "execute_result"
    }
   ],
   "source": [
    "a.ix[2013, 12]"
   ]
  },
  {
   "cell_type": "code",
   "execution_count": 57,
   "metadata": {
    "collapsed": false
   },
   "outputs": [
    {
     "data": {
      "text/plain": [
       "10628"
      ]
     },
     "execution_count": 57,
     "metadata": {},
     "output_type": "execute_result"
    }
   ],
   "source": [
    "numerator"
   ]
  },
  {
   "cell_type": "code",
   "execution_count": 58,
   "metadata": {
    "collapsed": false
   },
   "outputs": [
    {
     "data": {
      "text/plain": [
       "N    10244\n",
       "dtype: int64"
      ]
     },
     "execution_count": 58,
     "metadata": {},
     "output_type": "execute_result"
    }
   ],
   "source": [
    "# Graduate and grad_year can be null, yet we have ~3500 students for whom\n",
    "# grad_4yr is not null. Why is that?\n",
    "demog_attend[demog_attend['grad_year'].isnull()\n",
    "            & demog_attend['Grad_4yr'].notnull()]['Grad_4yr'].value_counts()#['External_Student_ID'].unique().size"
   ]
  },
  {
   "cell_type": "code",
   "execution_count": 59,
   "metadata": {
    "collapsed": false
   },
   "outputs": [],
   "source": [
    "present_in_9th = set(demog_attend[(demog_attend['ReportingYear'] == g8_year+1)\n",
    "                             & (demog_attend['grade'] == 9)\n",
    "                             & (demog_attend['Expected_GradYear'] == grad_year)\n",
    "                             & (demog_attend['TransOut_Before_Grade12_Year'] == 'N')]['External_Student_ID']\n",
    "                             )"
   ]
  },
  {
   "cell_type": "code",
   "execution_count": 60,
   "metadata": {
    "collapsed": false
   },
   "outputs": [
    {
     "data": {
      "text/plain": [
       "1740"
      ]
     },
     "execution_count": 60,
     "metadata": {},
     "output_type": "execute_result"
    }
   ],
   "source": [
    "len(present_in_9th)"
   ]
  },
  {
   "cell_type": "code",
   "execution_count": 61,
   "metadata": {
    "collapsed": false
   },
   "outputs": [],
   "source": [
    "present_in_9th_year_before = set(demog_attend[(demog_attend['ReportingYear'] == g8_year+2)\n",
    "                             & (demog_attend['grade'] == 9)\n",
    "                             & (demog_attend['Expected_GradYear'] == grad_year)\n",
    "                             & (demog_attend['TransOut_Before_Grade12_Year'] == 'N')]['External_Student_ID'])"
   ]
  },
  {
   "cell_type": "code",
   "execution_count": 62,
   "metadata": {
    "collapsed": false
   },
   "outputs": [],
   "source": [
    "present_in_9th_first_time = present_in_9th - present_in_9th_year_before"
   ]
  },
  {
   "cell_type": "code",
   "execution_count": 63,
   "metadata": {
    "collapsed": false
   },
   "outputs": [],
   "source": [
    "transfer_2011 = set(demog_attend[(demog_attend['FirstEntry_ReportingYear'] == g8_year+2)\n",
    "                             & (demog_attend['grade'] == 10)\n",
    "                             & (demog_attend['Expected_GradYear'] == grad_year)\n",
    "                             & (demog_attend['TransOut_Before_Grade12_Year'] == 'N')\n",
    "                             ]['External_Student_ID'])"
   ]
  },
  {
   "cell_type": "code",
   "execution_count": 64,
   "metadata": {
    "collapsed": false
   },
   "outputs": [],
   "source": [
    "transfer_2012 = set(demog_attend[(demog_attend['FirstEntry_ReportingYear'] == g8_year+3)\n",
    "                    & (demog_attend['grade'] == 11)\n",
    "                    & (demog_attend['Expected_GradYear'] == grad_year)\n",
    "                    & (demog_attend['TransOut_Before_Grade12_Year'] == 'N')\n",
    "                    ]['External_Student_ID'])"
   ]
  },
  {
   "cell_type": "code",
   "execution_count": 65,
   "metadata": {
    "collapsed": false
   },
   "outputs": [],
   "source": [
    "transfer_2013 = set(demog_attend[(demog_attend['FirstEntry_ReportingYear'] == g8_year+4)\n",
    "                    & (demog_attend['grade'] == 12)\n",
    "                    & (demog_attend['Expected_GradYear'] == grad_year)\n",
    "                    & (demog_attend['TransOut_Before_Grade12_Year'] == 'N')\n",
    "                    ]['External_Student_ID'])"
   ]
  },
  {
   "cell_type": "code",
   "execution_count": 66,
   "metadata": {
    "collapsed": false
   },
   "outputs": [
    {
     "name": "stdout",
     "output_type": "stream",
     "text": [
      "1708\n",
      "59\n",
      "71\n",
      "55\n"
     ]
    }
   ],
   "source": [
    "print len(present_in_9th_first_time)\n",
    "print len(transfer_2011)\n",
    "print len(transfer_2012)\n",
    "print len(transfer_2013)\n",
    "denom = present_in_9th.union(transfer_2011).union(transfer_2012).union(transfer_2013)"
   ]
  },
  {
   "cell_type": "code",
   "execution_count": 67,
   "metadata": {
    "collapsed": false
   },
   "outputs": [
    {
     "data": {
      "text/plain": [
       "10628"
      ]
     },
     "execution_count": 67,
     "metadata": {},
     "output_type": "execute_result"
    }
   ],
   "source": [
    "numerator"
   ]
  },
  {
   "cell_type": "code",
   "execution_count": 68,
   "metadata": {
    "collapsed": false
   },
   "outputs": [
    {
     "name": "stdout",
     "output_type": "stream",
     "text": [
      "1925\n"
     ]
    }
   ],
   "source": [
    "print(len(denom))"
   ]
  },
  {
   "cell_type": "code",
   "execution_count": 69,
   "metadata": {
    "collapsed": false
   },
   "outputs": [
    {
     "data": {
      "text/plain": [
       "5.521038961038961"
      ]
     },
     "execution_count": 69,
     "metadata": {},
     "output_type": "execute_result"
    }
   ],
   "source": [
    "# This is different from the website, which records Cabarrus having a 86.5%\n",
    "# graduation rate in 2012-2013\n",
    "# http://www.cabarrus.k12.nc.us/site/Default.aspx?PageType=3&DomainID=4&PageID=1&ViewID=047e6be3-6d87-4130-8424-d8e4e9ed6c2a&FlexDataID=4744\n",
    "float(numerator)/len(denom)"
   ]
  },
  {
   "cell_type": "code",
   "execution_count": 70,
   "metadata": {
    "collapsed": false
   },
   "outputs": [
    {
     "data": {
      "text/plain": [
       "Y    49874\n",
       "N    14272\n",
       "dtype: int64"
      ]
     },
     "execution_count": 70,
     "metadata": {},
     "output_type": "execute_result"
    }
   ],
   "source": [
    "demog_attend[demog_attend['graduate'].isnull()]['TransOut_Before_Grade12_Year'].value_counts()"
   ]
  },
  {
   "cell_type": "code",
   "execution_count": 71,
   "metadata": {
    "collapsed": false
   },
   "outputs": [],
   "source": [
    "# Other questions to ask Brian"
   ]
  },
  {
   "cell_type": "code",
   "execution_count": 72,
   "metadata": {
    "collapsed": false
   },
   "outputs": [],
   "source": [
    "strange = demog_attend[demog_attend['graduate'].isnull()\n",
    "             & (demog_attend['TransOut_Before_Grade12_Year'] == 'N')\n",
    "             & (demog_attend['Expected_GradYear'] <= 2014)\n",
    "             ]"
   ]
  },
  {
   "cell_type": "code",
   "execution_count": 73,
   "metadata": {
    "collapsed": false
   },
   "outputs": [
    {
     "data": {
      "text/plain": [
       "134"
      ]
     },
     "execution_count": 73,
     "metadata": {},
     "output_type": "execute_result"
    }
   ],
   "source": [
    "# Most of the individuals for whom graduation is not known transferred out before \n",
    "# grade 12. But ~4000 did not, yet are still not known\n",
    "# Grad_4yr is more reliable than graduate. It will be null if \n",
    "# the student has not graduated yet (e.g, they grad in 2015)\n",
    "strange[strange['RepeatedGrades'] > 0]['External_Student_ID'].unique().size"
   ]
  },
  {
   "cell_type": "code",
   "execution_count": 74,
   "metadata": {
    "collapsed": false
   },
   "outputs": [
    {
     "data": {
      "text/plain": [
       "Series([], dtype: int64)"
      ]
     },
     "execution_count": 74,
     "metadata": {},
     "output_type": "execute_result"
    }
   ],
   "source": [
    "strange['grad_year'].value_counts()"
   ]
  },
  {
   "cell_type": "code",
   "execution_count": 75,
   "metadata": {
    "collapsed": false
   },
   "outputs": [
    {
     "data": {
      "text/plain": [
       "0"
      ]
     },
     "execution_count": 75,
     "metadata": {},
     "output_type": "execute_result"
    }
   ],
   "source": [
    "strange['Grad_4yr'].isnull().sum()#.value_counts()"
   ]
  },
  {
   "cell_type": "code",
   "execution_count": 76,
   "metadata": {
    "collapsed": false
   },
   "outputs": [
    {
     "data": {
      "text/plain": [
       "2014    728\n",
       "2013    490\n",
       "2012    321\n",
       "2011    315\n",
       "2010    238\n",
       "2009    185\n",
       "2008     15\n",
       "2007      7\n",
       "2005      2\n",
       "dtype: int64"
      ]
     },
     "execution_count": 76,
     "metadata": {},
     "output_type": "execute_result"
    }
   ],
   "source": [
    "strange['Expected_GradYear'].value_counts()"
   ]
  },
  {
   "cell_type": "code",
   "execution_count": 77,
   "metadata": {
    "collapsed": false
   },
   "outputs": [
    {
     "data": {
      "text/plain": [
       "N    2301\n",
       "dtype: int64"
      ]
     },
     "execution_count": 77,
     "metadata": {},
     "output_type": "execute_result"
    }
   ],
   "source": [
    "strange['Grad_4yr'].value_counts()"
   ]
  },
  {
   "cell_type": "code",
   "execution_count": 78,
   "metadata": {
    "collapsed": false
   },
   "outputs": [
    {
     "data": {
      "text/plain": [
       "9                 176\n",
       "12                144\n",
       "11                127\n",
       "10                123\n",
       "11, 11             48\n",
       "9, 11              21\n",
       "9, 9               15\n",
       "12, 12             11\n",
       "12, 12, 12, 12     11\n",
       "10, 12             11\n",
       "8                  10\n",
       "8, 10               8\n",
       "11, 12              8\n",
       "10, 10              8\n",
       "11, 11, 11          8\n",
       "9, 10               7\n",
       "8, 11               7\n",
       "9, 12               7\n",
       "10, 11, 11          7\n",
       "11, 12, 12          6\n",
       "10, 11              5\n",
       "12, 12, 12          4\n",
       "dtype: int64"
      ]
     },
     "execution_count": 78,
     "metadata": {},
     "output_type": "execute_result"
    }
   ],
   "source": [
    "strange['RepeatedGrades'].value_counts()"
   ]
  },
  {
   "cell_type": "code",
   "execution_count": 79,
   "metadata": {
    "collapsed": false
   },
   "outputs": [
    {
     "data": {
      "text/plain": [
       "64166"
      ]
     },
     "execution_count": 79,
     "metadata": {},
     "output_type": "execute_result"
    }
   ],
   "source": [
    "demog_attend['graduate'].isnull().sum()"
   ]
  },
  {
   "cell_type": "code",
   "execution_count": 80,
   "metadata": {
    "collapsed": false
   },
   "outputs": [
    {
     "data": {
      "text/plain": [
       "1909"
      ]
     },
     "execution_count": 80,
     "metadata": {},
     "output_type": "execute_result"
    }
   ],
   "source": [
    "demog_attend[demog_attend['grad_year'] == 2012]['External_Student_ID'].unique().size"
   ]
  },
  {
   "cell_type": "code",
   "execution_count": 81,
   "metadata": {
    "collapsed": false
   },
   "outputs": [
    {
     "data": {
      "text/plain": [
       "['ReportingYear',\n",
       " 'SchoolYear',\n",
       " 'External_Student_ID',\n",
       " 'school_code',\n",
       " 'grade',\n",
       " 'ethnic',\n",
       " 'sex',\n",
       " 'swd',\n",
       " 'eds',\n",
       " 'lep',\n",
       " 'daysabs',\n",
       " 'exc_abs',\n",
       " 'unexc_abs',\n",
       " 'times_tardy',\n",
       " 'FirstEntryDate',\n",
       " 'LastExitDate',\n",
       " 'FirstEntry_ReportingYear',\n",
       " 'LastExit_ReportingYear',\n",
       " 'FirstEntry_Grade',\n",
       " 'LastEntry_Grade',\n",
       " 'TransFered_Before_EOY',\n",
       " 'Grade_repeats',\n",
       " 'RepeatedGrades',\n",
       " 'RepeatedYears',\n",
       " 'TransOut_Before_Grade12_Year',\n",
       " 'g8year',\n",
       " 'graduate',\n",
       " 'grad_year',\n",
       " 'Expected_GradYear',\n",
       " 'Grad_4yr']"
      ]
     },
     "execution_count": 81,
     "metadata": {},
     "output_type": "execute_result"
    }
   ],
   "source": [
    "list(demog_attend.columns)"
   ]
  },
  {
   "cell_type": "code",
   "execution_count": 82,
   "metadata": {
    "collapsed": false
   },
   "outputs": [
    {
     "data": {
      "text/plain": [
       "9     17983\n",
       "7     16692\n",
       "8     16617\n",
       "6     16609\n",
       "10    16139\n",
       "11    13968\n",
       "12    13262\n",
       "13        6\n",
       "dtype: int64"
      ]
     },
     "execution_count": 82,
     "metadata": {},
     "output_type": "execute_result"
    }
   ],
   "source": [
    "# There's 6th and 7th grade data!\n",
    "demog_attend['grade'].value_counts()"
   ]
  },
  {
   "cell_type": "code",
   "execution_count": 83,
   "metadata": {
    "collapsed": false
   },
   "outputs": [
    {
     "data": {
      "text/plain": [
       "2014    15129\n",
       "2013    13226\n",
       "2012    10631\n",
       "2011     8557\n",
       "2010     5769\n",
       "2009     3638\n",
       "2008      208\n",
       "2015      162\n",
       "2007       28\n",
       "2017        2\n",
       "2006        2\n",
       "2005        2\n",
       "dtype: int64"
      ]
     },
     "execution_count": 83,
     "metadata": {},
     "output_type": "execute_result"
    }
   ],
   "source": [
    "demog_attend['Expected_GradYear'].value_counts()"
   ]
  },
  {
   "cell_type": "code",
   "execution_count": 84,
   "metadata": {
    "collapsed": false
   },
   "outputs": [
    {
     "data": {
      "text/plain": [
       "2014    12727\n",
       "2013    10516\n",
       "2012     8824\n",
       "2011     7158\n",
       "2010     4750\n",
       "2009     3116\n",
       "2008       19\n",
       "dtype: int64"
      ]
     },
     "execution_count": 84,
     "metadata": {},
     "output_type": "execute_result"
    }
   ],
   "source": [
    "demog_attend['grad_year'].value_counts()"
   ]
  },
  {
   "cell_type": "code",
   "execution_count": 85,
   "metadata": {
    "collapsed": false
   },
   "outputs": [
    {
     "data": {
      "text/plain": [
       "Y    47110\n",
       "dtype: int64"
      ]
     },
     "execution_count": 85,
     "metadata": {},
     "output_type": "execute_result"
    }
   ],
   "source": [
    "demog_attend['graduate'].value_counts()"
   ]
  },
  {
   "cell_type": "code",
   "execution_count": 92,
   "metadata": {
    "collapsed": false
   },
   "outputs": [],
   "source": [
    "# Looking at Yearly GPA\n",
    "filename = 'gpa_yearly.txt'"
   ]
  },
  {
   "cell_type": "code",
   "execution_count": 93,
   "metadata": {
    "collapsed": false
   },
   "outputs": [],
   "source": [
    "yearly_gpa = pd.read_table(datapath + 'cleaned_data/' + filename)"
   ]
  },
  {
   "cell_type": "code",
   "execution_count": 94,
   "metadata": {
    "collapsed": false
   },
   "outputs": [
    {
     "data": {
      "text/plain": [
       "(101477, 18)"
      ]
     },
     "execution_count": 94,
     "metadata": {},
     "output_type": "execute_result"
    }
   ],
   "source": [
    "yearly_gpa.shape"
   ]
  },
  {
   "cell_type": "code",
   "execution_count": 95,
   "metadata": {
    "collapsed": false
   },
   "outputs": [
    {
     "data": {
      "text/html": [
       "<div style=\"max-height:1000px;max-width:1500px;overflow:auto;\">\n",
       "<table border=\"1\" class=\"dataframe\">\n",
       "  <thead>\n",
       "    <tr style=\"text-align: right;\">\n",
       "      <th></th>\n",
       "      <th>External_Student_ID</th>\n",
       "      <th>ReportingYear</th>\n",
       "      <th>SchoolYear</th>\n",
       "      <th>Num_Marks</th>\n",
       "      <th>Num_ENG</th>\n",
       "      <th>Num_Math</th>\n",
       "      <th>Num_Science</th>\n",
       "      <th>Num_SocSci</th>\n",
       "      <th>GPA</th>\n",
       "      <th>GPA_ENG</th>\n",
       "      <th>GPA_Math</th>\n",
       "      <th>GPA_Science</th>\n",
       "      <th>GPA_SocSci</th>\n",
       "      <th>NumAdvanced</th>\n",
       "      <th>NumAdvanced_ENG</th>\n",
       "      <th>NumAdvanced_Math</th>\n",
       "      <th>NumAdvanced_Science</th>\n",
       "      <th>NumAdvanced_SocSci</th>\n",
       "    </tr>\n",
       "  </thead>\n",
       "  <tbody>\n",
       "    <tr>\n",
       "      <th>0</th>\n",
       "      <td>  7464</td>\n",
       "      <td> 2009</td>\n",
       "      <td> 2008-2009</td>\n",
       "      <td>  9</td>\n",
       "      <td> 1</td>\n",
       "      <td> 1</td>\n",
       "      <td> 1</td>\n",
       "      <td> 2</td>\n",
       "      <td> 80.11</td>\n",
       "      <td> 79.0</td>\n",
       "      <td> 87</td>\n",
       "      <td> 75</td>\n",
       "      <td> 74.00</td>\n",
       "      <td> 1</td>\n",
       "      <td> 0</td>\n",
       "      <td> 0</td>\n",
       "      <td> 0</td>\n",
       "      <td> 1</td>\n",
       "    </tr>\n",
       "    <tr>\n",
       "      <th>1</th>\n",
       "      <td> 10177</td>\n",
       "      <td> 2008</td>\n",
       "      <td> 2007-2008</td>\n",
       "      <td>  8</td>\n",
       "      <td> 2</td>\n",
       "      <td> 1</td>\n",
       "      <td> 1</td>\n",
       "      <td> 1</td>\n",
       "      <td> 67.63</td>\n",
       "      <td> 82.0</td>\n",
       "      <td> 70</td>\n",
       "      <td>  0</td>\n",
       "      <td> 72.00</td>\n",
       "      <td> 1</td>\n",
       "      <td> 1</td>\n",
       "      <td> 0</td>\n",
       "      <td> 0</td>\n",
       "      <td> 0</td>\n",
       "    </tr>\n",
       "    <tr>\n",
       "      <th>2</th>\n",
       "      <td> 13347</td>\n",
       "      <td> 2009</td>\n",
       "      <td> 2008-2009</td>\n",
       "      <td>  7</td>\n",
       "      <td> 1</td>\n",
       "      <td> 1</td>\n",
       "      <td> 1</td>\n",
       "      <td> 1</td>\n",
       "      <td> 95.57</td>\n",
       "      <td> 92.0</td>\n",
       "      <td> 96</td>\n",
       "      <td> 91</td>\n",
       "      <td> 94.00</td>\n",
       "      <td> 0</td>\n",
       "      <td> 0</td>\n",
       "      <td> 0</td>\n",
       "      <td> 0</td>\n",
       "      <td> 0</td>\n",
       "    </tr>\n",
       "    <tr>\n",
       "      <th>3</th>\n",
       "      <td> 13420</td>\n",
       "      <td> 2014</td>\n",
       "      <td> 2013-2014</td>\n",
       "      <td> 11</td>\n",
       "      <td> 2</td>\n",
       "      <td> 1</td>\n",
       "      <td> 1</td>\n",
       "      <td> 3</td>\n",
       "      <td> 84.39</td>\n",
       "      <td> 74.5</td>\n",
       "      <td> 82</td>\n",
       "      <td> 82</td>\n",
       "      <td> 86.43</td>\n",
       "      <td> 0</td>\n",
       "      <td> 0</td>\n",
       "      <td> 0</td>\n",
       "      <td> 0</td>\n",
       "      <td> 0</td>\n",
       "    </tr>\n",
       "    <tr>\n",
       "      <th>4</th>\n",
       "      <td> 16060</td>\n",
       "      <td> 2008</td>\n",
       "      <td> 2007-2008</td>\n",
       "      <td>  9</td>\n",
       "      <td> 2</td>\n",
       "      <td> 1</td>\n",
       "      <td> 2</td>\n",
       "      <td> 1</td>\n",
       "      <td> 89.11</td>\n",
       "      <td> 80.0</td>\n",
       "      <td> 93</td>\n",
       "      <td> 94</td>\n",
       "      <td> 82.00</td>\n",
       "      <td> 1</td>\n",
       "      <td> 1</td>\n",
       "      <td> 0</td>\n",
       "      <td> 0</td>\n",
       "      <td> 0</td>\n",
       "    </tr>\n",
       "  </tbody>\n",
       "</table>\n",
       "</div>"
      ],
      "text/plain": [
       "   External_Student_ID  ReportingYear SchoolYear  Num_Marks  Num_ENG  \\\n",
       "0                 7464           2009  2008-2009          9        1   \n",
       "1                10177           2008  2007-2008          8        2   \n",
       "2                13347           2009  2008-2009          7        1   \n",
       "3                13420           2014  2013-2014         11        2   \n",
       "4                16060           2008  2007-2008          9        2   \n",
       "\n",
       "   Num_Math  Num_Science  Num_SocSci    GPA  GPA_ENG  GPA_Math  GPA_Science  \\\n",
       "0         1            1           2  80.11     79.0        87           75   \n",
       "1         1            1           1  67.63     82.0        70            0   \n",
       "2         1            1           1  95.57     92.0        96           91   \n",
       "3         1            1           3  84.39     74.5        82           82   \n",
       "4         1            2           1  89.11     80.0        93           94   \n",
       "\n",
       "   GPA_SocSci  NumAdvanced  NumAdvanced_ENG  NumAdvanced_Math  \\\n",
       "0       74.00            1                0                 0   \n",
       "1       72.00            1                1                 0   \n",
       "2       94.00            0                0                 0   \n",
       "3       86.43            0                0                 0   \n",
       "4       82.00            1                1                 0   \n",
       "\n",
       "   NumAdvanced_Science  NumAdvanced_SocSci  \n",
       "0                    0                   1  \n",
       "1                    0                   0  \n",
       "2                    0                   0  \n",
       "3                    0                   0  \n",
       "4                    0                   0  "
      ]
     },
     "execution_count": 95,
     "metadata": {},
     "output_type": "execute_result"
    }
   ],
   "source": [
    "yearly_gpa.head()"
   ]
  },
  {
   "cell_type": "code",
   "execution_count": 96,
   "metadata": {
    "collapsed": false
   },
   "outputs": [
    {
     "data": {
      "text/plain": [
       "2013    15645\n",
       "2014    15550\n",
       "2012    15148\n",
       "2011    14687\n",
       "2010    14186\n",
       "2009    13862\n",
       "2008    12399\n",
       "dtype: int64"
      ]
     },
     "execution_count": 96,
     "metadata": {},
     "output_type": "execute_result"
    }
   ],
   "source": [
    "yearly_gpa['ReportingYear'].value_counts()"
   ]
  },
  {
   "cell_type": "code",
   "execution_count": 98,
   "metadata": {
    "collapsed": false
   },
   "outputs": [
    {
     "data": {
      "text/plain": [
       "2012-2013    15645\n",
       "2013-2014    15550\n",
       "2011-2012    15148\n",
       "2010-2011    14687\n",
       "2009-2010    14186\n",
       "2008-2009    13862\n",
       "2007-2008    12399\n",
       "dtype: int64"
      ]
     },
     "execution_count": 98,
     "metadata": {},
     "output_type": "execute_result"
    }
   ],
   "source": [
    "# We're missing a lot of data from the 2013-2014 school year\n",
    "## NOTE: Not anymore! Brian updated on 3/18/2015\n",
    "yearly_gpa['SchoolYear'].value_counts()"
   ]
  },
  {
   "cell_type": "code",
   "execution_count": 99,
   "metadata": {
    "collapsed": false
   },
   "outputs": [],
   "source": [
    "## Looking at detailed GPA\n",
    "filename = 'gpa_detailed.txt'\n",
    "detailed_gpa = pd.read_table(datapath + 'cleaned_data/' + filename)"
   ]
  },
  {
   "cell_type": "code",
   "execution_count": 100,
   "metadata": {
    "collapsed": false
   },
   "outputs": [
    {
     "data": {
      "text/plain": [
       "(755291, 15)"
      ]
     },
     "execution_count": 100,
     "metadata": {},
     "output_type": "execute_result"
    }
   ],
   "source": [
    "detailed_gpa.shape"
   ]
  },
  {
   "cell_type": "code",
   "execution_count": 101,
   "metadata": {
    "collapsed": false
   },
   "outputs": [
    {
     "data": {
      "text/html": [
       "<div style=\"max-height:1000px;max-width:1500px;overflow:auto;\">\n",
       "<table border=\"1\" class=\"dataframe\">\n",
       "  <thead>\n",
       "    <tr style=\"text-align: right;\">\n",
       "      <th></th>\n",
       "      <th>External_Student_ID</th>\n",
       "      <th>Grade</th>\n",
       "      <th>ReportingYear</th>\n",
       "      <th>School Number</th>\n",
       "      <th>Course Code</th>\n",
       "      <th>Course Title</th>\n",
       "      <th>Section Number</th>\n",
       "      <th>StartDate</th>\n",
       "      <th>EndDate</th>\n",
       "      <th>ReportingPeriod</th>\n",
       "      <th>Mark</th>\n",
       "      <th>Value</th>\n",
       "      <th>FinalMark</th>\n",
       "      <th>Subject</th>\n",
       "      <th>AdvancedCourse</th>\n",
       "    </tr>\n",
       "  </thead>\n",
       "  <tbody>\n",
       "    <tr>\n",
       "      <th>0</th>\n",
       "      <td> 1000</td>\n",
       "      <td> 7</td>\n",
       "      <td> 2008</td>\n",
       "      <td> 130313</td>\n",
       "      <td> 0990CY70</td>\n",
       "      <td>    7TH GRADE HEALTH/PE</td>\n",
       "      <td> 4</td>\n",
       "      <td> 2007-08-25</td>\n",
       "      <td> 2008-06-11</td>\n",
       "      <td> Year Final</td>\n",
       "      <td> 97</td>\n",
       "      <td> 97</td>\n",
       "      <td> Y</td>\n",
       "      <td>            NaN</td>\n",
       "      <td> 0</td>\n",
       "    </tr>\n",
       "    <tr>\n",
       "      <th>1</th>\n",
       "      <td> 1000</td>\n",
       "      <td> 7</td>\n",
       "      <td> 2008</td>\n",
       "      <td> 130313</td>\n",
       "      <td> 1010CY72</td>\n",
       "      <td>          Language Arts</td>\n",
       "      <td> 1</td>\n",
       "      <td> 2007-08-25</td>\n",
       "      <td> 2008-06-11</td>\n",
       "      <td> Year Final</td>\n",
       "      <td> 92</td>\n",
       "      <td> 92</td>\n",
       "      <td> Y</td>\n",
       "      <td>        English</td>\n",
       "      <td> 0</td>\n",
       "    </tr>\n",
       "    <tr>\n",
       "      <th>2</th>\n",
       "      <td> 1000</td>\n",
       "      <td> 7</td>\n",
       "      <td> 2008</td>\n",
       "      <td> 130313</td>\n",
       "      <td> 2001CY72</td>\n",
       "      <td> Math             (K-8)</td>\n",
       "      <td> 4</td>\n",
       "      <td> 2007-08-25</td>\n",
       "      <td> 2008-06-11</td>\n",
       "      <td> Year Final</td>\n",
       "      <td> 98</td>\n",
       "      <td> 98</td>\n",
       "      <td> Y</td>\n",
       "      <td>    Mathematics</td>\n",
       "      <td> 0</td>\n",
       "    </tr>\n",
       "    <tr>\n",
       "      <th>3</th>\n",
       "      <td> 1000</td>\n",
       "      <td> 7</td>\n",
       "      <td> 2008</td>\n",
       "      <td> 130313</td>\n",
       "      <td> 3001CY72</td>\n",
       "      <td> Science          (K-8)</td>\n",
       "      <td> 2</td>\n",
       "      <td> 2007-08-25</td>\n",
       "      <td> 2008-06-11</td>\n",
       "      <td> Year Final</td>\n",
       "      <td> 92</td>\n",
       "      <td> 92</td>\n",
       "      <td> Y</td>\n",
       "      <td>        Science</td>\n",
       "      <td> 0</td>\n",
       "    </tr>\n",
       "    <tr>\n",
       "      <th>4</th>\n",
       "      <td> 1000</td>\n",
       "      <td> 7</td>\n",
       "      <td> 2008</td>\n",
       "      <td> 130313</td>\n",
       "      <td> 4001CY72</td>\n",
       "      <td> Social Studies   (K-8)</td>\n",
       "      <td> 3</td>\n",
       "      <td> 2007-08-25</td>\n",
       "      <td> 2008-06-11</td>\n",
       "      <td> Year Final</td>\n",
       "      <td> 97</td>\n",
       "      <td> 97</td>\n",
       "      <td> Y</td>\n",
       "      <td> Social Science</td>\n",
       "      <td> 0</td>\n",
       "    </tr>\n",
       "  </tbody>\n",
       "</table>\n",
       "</div>"
      ],
      "text/plain": [
       "   External_Student_ID  Grade  ReportingYear  School Number Course Code  \\\n",
       "0                 1000      7           2008         130313    0990CY70   \n",
       "1                 1000      7           2008         130313    1010CY72   \n",
       "2                 1000      7           2008         130313    2001CY72   \n",
       "3                 1000      7           2008         130313    3001CY72   \n",
       "4                 1000      7           2008         130313    4001CY72   \n",
       "\n",
       "             Course Title  Section Number   StartDate     EndDate  \\\n",
       "0     7TH GRADE HEALTH/PE               4  2007-08-25  2008-06-11   \n",
       "1           Language Arts               1  2007-08-25  2008-06-11   \n",
       "2  Math             (K-8)               4  2007-08-25  2008-06-11   \n",
       "3  Science          (K-8)               2  2007-08-25  2008-06-11   \n",
       "4  Social Studies   (K-8)               3  2007-08-25  2008-06-11   \n",
       "\n",
       "  ReportingPeriod Mark  Value FinalMark         Subject  AdvancedCourse  \n",
       "0      Year Final   97     97         Y             NaN               0  \n",
       "1      Year Final   92     92         Y         English               0  \n",
       "2      Year Final   98     98         Y     Mathematics               0  \n",
       "3      Year Final   92     92         Y         Science               0  \n",
       "4      Year Final   97     97         Y  Social Science               0  "
      ]
     },
     "execution_count": 101,
     "metadata": {},
     "output_type": "execute_result"
    }
   ],
   "source": [
    "detailed_gpa.head()"
   ]
  },
  {
   "cell_type": "code",
   "execution_count": 104,
   "metadata": {
    "collapsed": false
   },
   "outputs": [
    {
     "data": {
      "text/plain": [
       "2013    115913\n",
       "2014    114684\n",
       "2012    113249\n",
       "2011    112881\n",
       "2010    108605\n",
       "2009    104395\n",
       "2008     85564\n",
       "dtype: int64"
      ]
     },
     "execution_count": 104,
     "metadata": {},
     "output_type": "execute_result"
    }
   ],
   "source": [
    "detailed_gpa['ReportingYear'].value_counts()"
   ]
  },
  {
   "cell_type": "code",
   "execution_count": 102,
   "metadata": {
    "collapsed": false
   },
   "outputs": [
    {
     "data": {
      "text/plain": [
       "2013-06-08    77518\n",
       "2012-06-09    74652\n",
       "2011-06-10    73597\n",
       "2010-06-11    70881\n",
       "2009-06-11    68576\n",
       "2008-06-11    54992\n",
       "2014-06-10    41608\n",
       "2011-01-26    38289\n",
       "2010-01-20    37283\n",
       "2012-01-20    36924\n",
       "2015-01-20    33677\n",
       "2014-01-21    32961\n",
       "2013-01-23    31471\n",
       "2009-01-22    29846\n",
       "2008-01-23    26729\n",
       "2009-01-21     5973\n",
       "2013-01-18     4929\n",
       "2008-06-10     3718\n",
       "2014-10-27     1182\n",
       "2013-05-24     1100\n",
       "2013-12-18     1045\n",
       "2015-01-05     1024\n",
       "2012-12-18      895\n",
       "2014-05-23      883\n",
       "2012-05-22      868\n",
       "2011-12-20      805\n",
       "2015-06-10      594\n",
       "2011-05-26      535\n",
       "2010-12-21      423\n",
       "2013-10-21      395\n",
       "2014-03-30      362\n",
       "2014-04-27      295\n",
       "2013-10-07      253\n",
       "2010-05-27      221\n",
       "2009-12-22      220\n",
       "2014-03-05      218\n",
       "2007-11-28       84\n",
       "2013-11-21       78\n",
       "2014-10-06       59\n",
       "2014-06-03       48\n",
       "2008-03-06       41\n",
       "2011-01-19       37\n",
       "2014-12-01        2\n",
       "dtype: int64"
      ]
     },
     "execution_count": 102,
     "metadata": {},
     "output_type": "execute_result"
    }
   ],
   "source": [
    "detailed_gpa['EndDate'].value_counts()"
   ]
  },
  {
   "cell_type": "code",
   "execution_count": 34,
   "metadata": {
    "collapsed": false
   },
   "outputs": [],
   "source": [
    "## looking at suspension data"
   ]
  },
  {
   "cell_type": "code",
   "execution_count": 35,
   "metadata": {
    "collapsed": false
   },
   "outputs": [],
   "source": [
    "suspension = pd.read_table(datapath + 'Student_Suspension_Data 6-13 thru 1314.txt')"
   ]
  },
  {
   "cell_type": "code",
   "execution_count": 36,
   "metadata": {
    "collapsed": false
   },
   "outputs": [
    {
     "data": {
      "text/plain": [
       "(234562, 10)"
      ]
     },
     "execution_count": 36,
     "metadata": {},
     "output_type": "execute_result"
    }
   ],
   "source": [
    "suspension.shape"
   ]
  },
  {
   "cell_type": "code",
   "execution_count": 37,
   "metadata": {
    "collapsed": false
   },
   "outputs": [
    {
     "data": {
      "text/html": [
       "<div style=\"max-height:1000px;max-width:1500px;overflow:auto;\">\n",
       "<table border=\"1\" class=\"dataframe\">\n",
       "  <thead>\n",
       "    <tr style=\"text-align: right;\">\n",
       "      <th></th>\n",
       "      <th>Home School</th>\n",
       "      <th>External_Student_ID</th>\n",
       "      <th>Gender</th>\n",
       "      <th>Ethnicity</th>\n",
       "      <th>Grade</th>\n",
       "      <th>Action Type Desc</th>\n",
       "      <th>Length of Suspension</th>\n",
       "      <th>Incident Date</th>\n",
       "      <th>EC Indicator</th>\n",
       "      <th>LEP Indicator</th>\n",
       "    </tr>\n",
       "  </thead>\n",
       "  <tbody>\n",
       "    <tr>\n",
       "      <th>0</th>\n",
       "      <td> 130310</td>\n",
       "      <td>  1324</td>\n",
       "      <td> M</td>\n",
       "      <td>    Black</td>\n",
       "      <td> 10</td>\n",
       "      <td>                 ISS In-school Suspension</td>\n",
       "      <td> 1</td>\n",
       "      <td>  12/3/2007</td>\n",
       "      <td> N</td>\n",
       "      <td> N</td>\n",
       "    </tr>\n",
       "    <tr>\n",
       "      <th>1</th>\n",
       "      <td> 130310</td>\n",
       "      <td> 10540</td>\n",
       "      <td> M</td>\n",
       "      <td> Hispanic</td>\n",
       "      <td>  9</td>\n",
       "      <td> OSS 10 days or less (Out-of-School Susp)</td>\n",
       "      <td> 1</td>\n",
       "      <td>  5/19/2008</td>\n",
       "      <td> N</td>\n",
       "      <td> N</td>\n",
       "    </tr>\n",
       "    <tr>\n",
       "      <th>2</th>\n",
       "      <td> 130310</td>\n",
       "      <td> 11384</td>\n",
       "      <td> M</td>\n",
       "      <td>    White</td>\n",
       "      <td>  9</td>\n",
       "      <td> OSS 10 days or less (Out-of-School Susp)</td>\n",
       "      <td> 1</td>\n",
       "      <td>  1/31/2008</td>\n",
       "      <td> N</td>\n",
       "      <td> N</td>\n",
       "    </tr>\n",
       "    <tr>\n",
       "      <th>3</th>\n",
       "      <td> 130310</td>\n",
       "      <td>  5280</td>\n",
       "      <td> M</td>\n",
       "      <td>    Black</td>\n",
       "      <td>  9</td>\n",
       "      <td> OSS 10 days or less (Out-of-School Susp)</td>\n",
       "      <td> 1</td>\n",
       "      <td> 11/15/2007</td>\n",
       "      <td> N</td>\n",
       "      <td> N</td>\n",
       "    </tr>\n",
       "    <tr>\n",
       "      <th>4</th>\n",
       "      <td> 130310</td>\n",
       "      <td> 11775</td>\n",
       "      <td> F</td>\n",
       "      <td> Hispanic</td>\n",
       "      <td>  9</td>\n",
       "      <td>                 ISS In-school Suspension</td>\n",
       "      <td> 1</td>\n",
       "      <td> 12/17/2007</td>\n",
       "      <td> N</td>\n",
       "      <td> N</td>\n",
       "    </tr>\n",
       "  </tbody>\n",
       "</table>\n",
       "</div>"
      ],
      "text/plain": [
       "   Home School  External_Student_ID Gender Ethnicity  Grade  \\\n",
       "0       130310                 1324      M     Black     10   \n",
       "1       130310                10540      M  Hispanic      9   \n",
       "2       130310                11384      M     White      9   \n",
       "3       130310                 5280      M     Black      9   \n",
       "4       130310                11775      F  Hispanic      9   \n",
       "\n",
       "                           Action Type Desc  Length of Suspension  \\\n",
       "0                  ISS In-school Suspension                     1   \n",
       "1  OSS 10 days or less (Out-of-School Susp)                     1   \n",
       "2  OSS 10 days or less (Out-of-School Susp)                     1   \n",
       "3  OSS 10 days or less (Out-of-School Susp)                     1   \n",
       "4                  ISS In-school Suspension                     1   \n",
       "\n",
       "  Incident Date EC Indicator LEP Indicator  \n",
       "0     12/3/2007            N             N  \n",
       "1     5/19/2008            N             N  \n",
       "2     1/31/2008            N             N  \n",
       "3    11/15/2007            N             N  \n",
       "4    12/17/2007            N             N  "
      ]
     },
     "execution_count": 37,
     "metadata": {},
     "output_type": "execute_result"
    }
   ],
   "source": [
    "suspension.head()"
   ]
  },
  {
   "cell_type": "code",
   "execution_count": 38,
   "metadata": {
    "collapsed": false
   },
   "outputs": [
    {
     "data": {
      "text/plain": [
       "'2008'"
      ]
     },
     "execution_count": 38,
     "metadata": {},
     "output_type": "execute_result"
    }
   ],
   "source": [
    "suspension['Incident Date'].iloc[1][-4:]"
   ]
  },
  {
   "cell_type": "code",
   "execution_count": 39,
   "metadata": {
    "collapsed": false
   },
   "outputs": [
    {
     "data": {
      "text/plain": [
       "2008    49367\n",
       "2009    47817\n",
       "2010    44267\n",
       "2011    39961\n",
       "2012    23197\n",
       "2007    18897\n",
       "2013     7947\n",
       "2014     2921\n",
       "2004       10\n",
       "2000        4\n",
       "2001        3\n",
       "2003        1\n",
       "1998        1\n",
       "dtype: int64"
      ]
     },
     "execution_count": 39,
     "metadata": {},
     "output_type": "execute_result"
    }
   ],
   "source": [
    "suspension['Incident Date'].apply(lambda s: s[-4:] if pd.notnull(s) else s).value_counts()"
   ]
  },
  {
   "cell_type": "code",
   "execution_count": null,
   "metadata": {
    "collapsed": false
   },
   "outputs": [],
   "source": []
  }
 ],
 "metadata": {
  "kernelspec": {
   "display_name": "Python 2",
   "language": "python",
   "name": "python2"
  },
  "language_info": {
   "codemirror_mode": {
    "name": "ipython",
    "version": 2
   },
   "file_extension": ".py",
   "mimetype": "text/x-python",
   "name": "python",
   "nbconvert_exporter": "python",
   "pygments_lexer": "ipython2",
   "version": "2.7.9"
  }
 },
 "nbformat": 4,
 "nbformat_minor": 0
}
