{
 "cells": [
  {
   "cell_type": "code",
   "execution_count": 2,
   "metadata": {
    "collapsed": false
   },
   "outputs": [],
   "source": [
    "import pandas as pd"
   ]
  },
  {
   "cell_type": "code",
   "execution_count": 16,
   "metadata": {
    "collapsed": false
   },
   "outputs": [],
   "source": [
    "datapath = '/Users/liyan/Dropbox (Personal)/Updated Data 6-13 graders plus High Priority/cleaned_data/'\n",
    "address_history = pd.read_table(datapath + 'address_history.txt')\n",
    "demographic_attendance = pd.read_table(datapath + 'demographic_attendance.txt')\n",
    "yearly_gpa = pd.read_table(datapath + 'gpa_yearly.txt')"
   ]
  },
  {
   "cell_type": "code",
   "execution_count": 17,
   "metadata": {
    "collapsed": false
   },
   "outputs": [
    {
     "name": "stdout",
     "output_type": "stream",
     "text": [
      "(112388, 7)\n",
      "(111276, 30)\n",
      "(101477, 18)\n"
     ]
    }
   ],
   "source": [
    "print address_history.shape\n",
    "print demographic_attendance.shape\n",
    "print yearly_gpa.shape"
   ]
  },
  {
   "cell_type": "code",
   "execution_count": 4,
   "metadata": {
    "collapsed": false
   },
   "outputs": [
    {
     "data": {
      "text/plain": [
       "35385"
      ]
     },
     "execution_count": 4,
     "metadata": {},
     "output_type": "execute_result"
    }
   ],
   "source": [
    "len(set(address_history['External_Student_ID']))"
   ]
  },
  {
   "cell_type": "code",
   "execution_count": 5,
   "metadata": {
    "collapsed": false
   },
   "outputs": [
    {
     "data": {
      "text/plain": [
       "34162"
      ]
     },
     "execution_count": 5,
     "metadata": {},
     "output_type": "execute_result"
    }
   ],
   "source": [
    "len(set(demographic_attendance['External_Student_ID']))"
   ]
  },
  {
   "cell_type": "code",
   "execution_count": 6,
   "metadata": {
    "collapsed": false
   },
   "outputs": [
    {
     "data": {
      "text/plain": [
       "32412"
      ]
     },
     "execution_count": 6,
     "metadata": {},
     "output_type": "execute_result"
    }
   ],
   "source": [
    "len(set(yearly_gpa['External_Student_ID']))"
   ]
  },
  {
   "cell_type": "code",
   "execution_count": 8,
   "metadata": {
    "collapsed": false
   },
   "outputs": [],
   "source": [
    "all_student_ids = list(set(address_history['External_Student_ID']).union(\n",
    "                            set(demographic_attendance['External_Student_ID']).union(\n",
    "                            set(yearly_gpa['External_Student_ID']))))"
   ]
  },
  {
   "cell_type": "code",
   "execution_count": 9,
   "metadata": {
    "collapsed": false
   },
   "outputs": [
    {
     "data": {
      "text/plain": [
       "36654"
      ]
     },
     "execution_count": 9,
     "metadata": {},
     "output_type": "execute_result"
    }
   ],
   "source": [
    "len(all_student_ids)"
   ]
  },
  {
   "cell_type": "code",
   "execution_count": 10,
   "metadata": {
    "collapsed": false
   },
   "outputs": [
    {
     "data": {
      "text/plain": [
       "['ReportingYear',\n",
       " 'SchoolYear',\n",
       " 'External_Student_ID',\n",
       " 'school_code',\n",
       " 'grade',\n",
       " 'ethnic',\n",
       " 'sex',\n",
       " 'swd',\n",
       " 'eds',\n",
       " 'lep',\n",
       " 'daysabs',\n",
       " 'exc_abs',\n",
       " 'unexc_abs',\n",
       " 'times_tardy',\n",
       " 'FirstEntryDate',\n",
       " 'LastExitDate',\n",
       " 'FirstEntry_ReportingYear',\n",
       " 'LastExit_ReportingYear',\n",
       " 'FirstEntry_Grade',\n",
       " 'LastEntry_Grade',\n",
       " 'TransFered_Before_EOY',\n",
       " 'Grade_repeats',\n",
       " 'RepeatedGrades',\n",
       " 'RepeatedYears',\n",
       " 'TransOut_Before_Grade12_Year',\n",
       " 'g8year',\n",
       " 'graduate',\n",
       " 'grad_year',\n",
       " 'Expected_GradYear',\n",
       " 'Grad_4yr']"
      ]
     },
     "execution_count": 10,
     "metadata": {},
     "output_type": "execute_result"
    }
   ],
   "source": [
    "list(demographic_attendance.columns)"
   ]
  },
  {
   "cell_type": "code",
   "execution_count": 11,
   "metadata": {
    "collapsed": false
   },
   "outputs": [],
   "source": [
    "data = pd.DataFrame(data={'External_Student_ID': all_student_ids})"
   ]
  },
  {
   "cell_type": "code",
   "execution_count": 12,
   "metadata": {
    "collapsed": false
   },
   "outputs": [
    {
     "data": {
      "text/html": [
       "<div style=\"max-height:1000px;max-width:1500px;overflow:auto;\">\n",
       "<table border=\"1\" class=\"dataframe\">\n",
       "  <thead>\n",
       "    <tr style=\"text-align: right;\">\n",
       "      <th></th>\n",
       "      <th>External_Student_ID</th>\n",
       "    </tr>\n",
       "  </thead>\n",
       "  <tbody>\n",
       "    <tr>\n",
       "      <th>0</th>\n",
       "      <td> 1000</td>\n",
       "    </tr>\n",
       "    <tr>\n",
       "      <th>1</th>\n",
       "      <td> 1001</td>\n",
       "    </tr>\n",
       "    <tr>\n",
       "      <th>2</th>\n",
       "      <td> 1002</td>\n",
       "    </tr>\n",
       "    <tr>\n",
       "      <th>3</th>\n",
       "      <td> 1003</td>\n",
       "    </tr>\n",
       "    <tr>\n",
       "      <th>4</th>\n",
       "      <td> 1004</td>\n",
       "    </tr>\n",
       "  </tbody>\n",
       "</table>\n",
       "</div>"
      ],
      "text/plain": [
       "   External_Student_ID\n",
       "0                 1000\n",
       "1                 1001\n",
       "2                 1002\n",
       "3                 1003\n",
       "4                 1004"
      ]
     },
     "execution_count": 12,
     "metadata": {},
     "output_type": "execute_result"
    }
   ],
   "source": [
    "data.head()"
   ]
  },
  {
   "cell_type": "code",
   "execution_count": 13,
   "metadata": {
    "collapsed": false
   },
   "outputs": [
    {
     "data": {
      "text/plain": [
       "['ReportingYear',\n",
       " 'SchoolYear',\n",
       " 'External_Student_ID',\n",
       " 'school_code',\n",
       " 'grade',\n",
       " 'ethnic',\n",
       " 'sex',\n",
       " 'swd',\n",
       " 'eds',\n",
       " 'lep',\n",
       " 'daysabs',\n",
       " 'exc_abs',\n",
       " 'unexc_abs',\n",
       " 'times_tardy',\n",
       " 'FirstEntryDate',\n",
       " 'LastExitDate',\n",
       " 'FirstEntry_ReportingYear',\n",
       " 'LastExit_ReportingYear',\n",
       " 'FirstEntry_Grade',\n",
       " 'LastEntry_Grade',\n",
       " 'TransFered_Before_EOY',\n",
       " 'Grade_repeats',\n",
       " 'RepeatedGrades',\n",
       " 'RepeatedYears',\n",
       " 'TransOut_Before_Grade12_Year',\n",
       " 'g8year',\n",
       " 'graduate',\n",
       " 'grad_year',\n",
       " 'Expected_GradYear',\n",
       " 'Grad_4yr']"
      ]
     },
     "execution_count": 13,
     "metadata": {},
     "output_type": "execute_result"
    }
   ],
   "source": [
    "list(demographic_attendance.columns)"
   ]
  },
  {
   "cell_type": "code",
   "execution_count": 22,
   "metadata": {
    "collapsed": false
   },
   "outputs": [],
   "source": [
    "# these are all the variables that are static across years, so I can just merge them onto the data now\n",
    "# Duplicates need to be dropped because these are static fields, so they shouldn't have changed over time\n",
    "df = demographic_attendance[['FirstEntryDate',\n",
    "                         'External_Student_ID',\n",
    "                         'LastExitDate',\n",
    "                         'FirstEntry_ReportingYear',\n",
    "                         'LastExit_ReportingYear',\n",
    "                         'FirstEntry_Grade',\n",
    "                         'LastEntry_Grade',\n",
    "                         'Grade_repeats',\n",
    "                         'RepeatedGrades',\n",
    "                         'RepeatedYears',\n",
    "                         'TransOut_Before_Grade12_Year',\n",
    "                         'g8year',\n",
    "                         'graduate',\n",
    "                         'grad_year',\n",
    "                         'Expected_GradYear',\n",
    "                         'Grad_4yr']].drop_duplicates()"
   ]
  },
  {
   "cell_type": "code",
   "execution_count": 23,
   "metadata": {
    "collapsed": false,
    "scrolled": true
   },
   "outputs": [
    {
     "data": {
      "text/plain": [
       "(34162, 16)"
      ]
     },
     "execution_count": 23,
     "metadata": {},
     "output_type": "execute_result"
    }
   ],
   "source": [
    "df.shape"
   ]
  },
  {
   "cell_type": "code",
   "execution_count": 24,
   "metadata": {
    "collapsed": false
   },
   "outputs": [],
   "source": [
    "data = data.merge(df, on='External_Student_ID', how='left')"
   ]
  },
  {
   "cell_type": "code",
   "execution_count": 25,
   "metadata": {
    "collapsed": false
   },
   "outputs": [
    {
     "data": {
      "text/plain": [
       "(36654, 16)"
      ]
     },
     "execution_count": 25,
     "metadata": {},
     "output_type": "execute_result"
    }
   ],
   "source": [
    "# Makes sense, as there are 36654 total students in Cabarrus as of the 3-18-2015 data\n",
    "data.shape"
   ]
  },
  {
   "cell_type": "code",
   "execution_count": 27,
   "metadata": {
    "collapsed": false
   },
   "outputs": [
    {
     "data": {
      "text/html": [
       "<div style=\"max-height:1000px;max-width:1500px;overflow:auto;\">\n",
       "<table border=\"1\" class=\"dataframe\">\n",
       "  <thead>\n",
       "    <tr style=\"text-align: right;\">\n",
       "      <th></th>\n",
       "      <th>External_Student_ID</th>\n",
       "      <th>FirstEntryDate</th>\n",
       "      <th>LastExitDate</th>\n",
       "      <th>FirstEntry_ReportingYear</th>\n",
       "      <th>LastExit_ReportingYear</th>\n",
       "      <th>FirstEntry_Grade</th>\n",
       "      <th>LastEntry_Grade</th>\n",
       "      <th>Grade_repeats</th>\n",
       "      <th>RepeatedGrades</th>\n",
       "      <th>RepeatedYears</th>\n",
       "      <th>TransOut_Before_Grade12_Year</th>\n",
       "      <th>g8year</th>\n",
       "      <th>graduate</th>\n",
       "      <th>grad_year</th>\n",
       "      <th>Expected_GradYear</th>\n",
       "      <th>Grad_4yr</th>\n",
       "    </tr>\n",
       "  </thead>\n",
       "  <tbody>\n",
       "  </tbody>\n",
       "</table>\n",
       "</div>"
      ],
      "text/plain": [
       "Empty DataFrame\n",
       "Columns: [External_Student_ID, FirstEntryDate, LastExitDate, FirstEntry_ReportingYear, LastExit_ReportingYear, FirstEntry_Grade, LastEntry_Grade, Grade_repeats, RepeatedGrades, RepeatedYears, TransOut_Before_Grade12_Year, g8year, graduate, grad_year, Expected_GradYear, Grad_4yr]\n",
       "Index: []"
      ]
     },
     "execution_count": 27,
     "metadata": {},
     "output_type": "execute_result"
    }
   ],
   "source": [
    "data[data.duplicated(subset=['External_Student_ID'])]"
   ]
  },
  {
   "cell_type": "code",
   "execution_count": 27,
   "metadata": {
    "collapsed": false
   },
   "outputs": [],
   "source": [
    "def merge_data_by_years(to_merge, data, reporting_year, how='left'):\n",
    "    \"\"\"\n",
    "    Generalized version of merging each particular df\n",
    "    \"\"\"\n",
    "    groups = to_merge.groupby(reporting_year).groups\n",
    "    for group, rows in groups.iteritems():\n",
    "        temp = to_merge.ix[rows].drop([reporting_year], axis=1)\n",
    "        temp.rename(columns={col: col + '_' + str(group) for col in temp.columns},\n",
    "                    inplace=True) # appends school year to each col\n",
    "        data = data.merge(temp, left_on='External_Student_ID', \n",
    "                          right_on = 'External_Student_ID_' + str(group), \n",
    "                          how=how)\n",
    "        data.drop('External_Student_ID_' + str(group), axis=1, inplace=True)\n",
    "    return data"
   ]
  },
  {
   "cell_type": "code",
   "execution_count": 28,
   "metadata": {
    "collapsed": false
   },
   "outputs": [
    {
     "data": {
      "text/plain": [
       "(35435, 17)"
      ]
     },
     "execution_count": 28,
     "metadata": {},
     "output_type": "execute_result"
    }
   ],
   "source": [
    "data.shape"
   ]
  },
  {
   "cell_type": "code",
   "execution_count": 187,
   "metadata": {
    "collapsed": false
   },
   "outputs": [],
   "source": [
    "# ~ 3,000 students are double or triple entered during the same year for \n",
    "# demographic attendance and the address history data\n",
    "# Options: (1) take the last one (we could be missing data from earlier)\n",
    "# (2) take the sum on the integer columns (but we may be inflating on \n",
    "# certain variables e.g., times_tardy and exc_abs seem to be totals\n",
    "# and not recorded per semester. It's not clear how reporting practices\n",
    "# work.)\n",
    "# I'm going to go with (1) for now because I don't think it's worth the time\n",
    "# and I've been told that you these should be entered during the end of the \n",
    "# year"
   ]
  },
  {
   "cell_type": "code",
   "execution_count": 35,
   "metadata": {
    "collapsed": false
   },
   "outputs": [],
   "source": [
    "deduped_add_hist = address_history.drop_duplicates(['External_Student_ID', 'ReportingYear'],\n",
    "                                                   take_last=True)"
   ]
  },
  {
   "cell_type": "code",
   "execution_count": 36,
   "metadata": {
    "collapsed": false
   },
   "outputs": [],
   "source": [
    "include_cols = ['ReportingYear',\n",
    " 'External_Student_ID',\n",
    " 'Street',\n",
    " 'CITY',\n",
    " 'STATE',\n",
    " 'ZIP',]"
   ]
  },
  {
   "cell_type": "code",
   "execution_count": 37,
   "metadata": {
    "collapsed": false
   },
   "outputs": [],
   "source": [
    "merged = merge_data_by_years(deduped_add_hist[include_cols], data, 'ReportingYear')"
   ]
  },
  {
   "cell_type": "code",
   "execution_count": 38,
   "metadata": {
    "collapsed": false
   },
   "outputs": [
    {
     "name": "stdout",
     "output_type": "stream",
     "text": [
      "(35435, 45)\n"
     ]
    }
   ],
   "source": [
    "print merged.shape"
   ]
  },
  {
   "cell_type": "code",
   "execution_count": 39,
   "metadata": {
    "collapsed": false
   },
   "outputs": [],
   "source": [
    "deduplicated_demog_attend = demographic_attendance.drop_duplicates(['External_Student_ID', 'ReportingYear'],\n",
    "                                       take_last=True)"
   ]
  },
  {
   "cell_type": "code",
   "execution_count": 40,
   "metadata": {
    "collapsed": false
   },
   "outputs": [],
   "source": [
    "include_cols = ['ReportingYear',\n",
    " 'External_Student_ID',\n",
    " 'school_code',\n",
    " 'grade',\n",
    " 'ethnic',\n",
    " 'sex',\n",
    " 'swd',\n",
    " 'eds',\n",
    " 'lep',\n",
    " 'daysabs',\n",
    " 'exc_abs',\n",
    " 'unexc_abs',\n",
    " 'times_tardy',]"
   ]
  },
  {
   "cell_type": "code",
   "execution_count": 41,
   "metadata": {
    "collapsed": false
   },
   "outputs": [],
   "source": [
    "merged = merge_data_by_years(deduplicated_demog_attend[include_cols], merged, 'ReportingYear')"
   ]
  },
  {
   "cell_type": "code",
   "execution_count": 42,
   "metadata": {
    "collapsed": false
   },
   "outputs": [
    {
     "name": "stdout",
     "output_type": "stream",
     "text": [
      "(35435, 122)\n"
     ]
    }
   ],
   "source": [
    "print merged.shape"
   ]
  },
  {
   "cell_type": "code",
   "execution_count": 43,
   "metadata": {
    "collapsed": false
   },
   "outputs": [],
   "source": [
    "merged = merge_data_by_years(yearly_gpa, merged, 'ReportingYear')"
   ]
  },
  {
   "cell_type": "code",
   "execution_count": 44,
   "metadata": {
    "collapsed": false
   },
   "outputs": [
    {
     "name": "stdout",
     "output_type": "stream",
     "text": [
      "(35435, 234)\n"
     ]
    }
   ],
   "source": [
    "print merged.shape"
   ]
  },
  {
   "cell_type": "code",
   "execution_count": 45,
   "metadata": {
    "collapsed": false
   },
   "outputs": [
    {
     "data": {
      "text/html": [
       "<div style=\"max-height:1000px;max-width:1500px;overflow:auto;\">\n",
       "<table border=\"1\" class=\"dataframe\">\n",
       "  <thead>\n",
       "    <tr style=\"text-align: right;\">\n",
       "      <th></th>\n",
       "      <th>External_Student_ID</th>\n",
       "      <th>FirstEntryDate</th>\n",
       "      <th>LastExitDate</th>\n",
       "      <th>FirstEntry_ReportingYear</th>\n",
       "      <th>LastExit_ReportingYear</th>\n",
       "      <th>FirstEntry_Grade</th>\n",
       "      <th>LastEntry_Grade</th>\n",
       "      <th>Transferred_Before_EOY</th>\n",
       "      <th>Grade_repeats</th>\n",
       "      <th>RepeatedGrades</th>\n",
       "      <th>...</th>\n",
       "      <th>GPA_2014</th>\n",
       "      <th>GPA_ENG_2014</th>\n",
       "      <th>GPA_Math_2014</th>\n",
       "      <th>GPA_Science_2014</th>\n",
       "      <th>GPA_SocSci_2014</th>\n",
       "      <th>NumAdvanced_2014</th>\n",
       "      <th>NumAdvanced_ENG_2014</th>\n",
       "      <th>NumAdvanced_Math_2014</th>\n",
       "      <th>NumAdvanced_Science_2014</th>\n",
       "      <th>NumAdvanced_SocSci_2014</th>\n",
       "    </tr>\n",
       "  </thead>\n",
       "  <tbody>\n",
       "    <tr>\n",
       "      <th>0</th>\n",
       "      <td> 1000</td>\n",
       "      <td> 8/27/2007</td>\n",
       "      <td> 6/10/2008</td>\n",
       "      <td> 2008</td>\n",
       "      <td> 2008</td>\n",
       "      <td> 7</td>\n",
       "      <td>  7</td>\n",
       "      <td> N</td>\n",
       "      <td> 0</td>\n",
       "      <td> NaN</td>\n",
       "      <td>...</td>\n",
       "      <td>NaN</td>\n",
       "      <td>NaN</td>\n",
       "      <td>NaN</td>\n",
       "      <td>NaN</td>\n",
       "      <td>NaN</td>\n",
       "      <td>NaN</td>\n",
       "      <td>NaN</td>\n",
       "      <td>NaN</td>\n",
       "      <td>NaN</td>\n",
       "      <td>NaN</td>\n",
       "    </tr>\n",
       "    <tr>\n",
       "      <th>1</th>\n",
       "      <td> 1001</td>\n",
       "      <td> 8/27/2007</td>\n",
       "      <td> 6/10/2008</td>\n",
       "      <td> 2008</td>\n",
       "      <td> 2008</td>\n",
       "      <td> 7</td>\n",
       "      <td>  7</td>\n",
       "      <td> N</td>\n",
       "      <td> 0</td>\n",
       "      <td> NaN</td>\n",
       "      <td>...</td>\n",
       "      <td>NaN</td>\n",
       "      <td>NaN</td>\n",
       "      <td>NaN</td>\n",
       "      <td>NaN</td>\n",
       "      <td>NaN</td>\n",
       "      <td>NaN</td>\n",
       "      <td>NaN</td>\n",
       "      <td>NaN</td>\n",
       "      <td>NaN</td>\n",
       "      <td>NaN</td>\n",
       "    </tr>\n",
       "    <tr>\n",
       "      <th>2</th>\n",
       "      <td> 1002</td>\n",
       "      <td> 4/27/2009</td>\n",
       "      <td> 2/28/2013</td>\n",
       "      <td> 2009</td>\n",
       "      <td> 2013</td>\n",
       "      <td> 6</td>\n",
       "      <td>  9</td>\n",
       "      <td> Y</td>\n",
       "      <td> 1</td>\n",
       "      <td>   9</td>\n",
       "      <td>...</td>\n",
       "      <td>NaN</td>\n",
       "      <td>NaN</td>\n",
       "      <td>NaN</td>\n",
       "      <td>NaN</td>\n",
       "      <td>NaN</td>\n",
       "      <td>NaN</td>\n",
       "      <td>NaN</td>\n",
       "      <td>NaN</td>\n",
       "      <td>NaN</td>\n",
       "      <td>NaN</td>\n",
       "    </tr>\n",
       "    <tr>\n",
       "      <th>3</th>\n",
       "      <td> 1003</td>\n",
       "      <td> 8/28/2007</td>\n",
       "      <td> 1/28/2011</td>\n",
       "      <td> 2008</td>\n",
       "      <td> 2011</td>\n",
       "      <td> 9</td>\n",
       "      <td> 12</td>\n",
       "      <td> Y</td>\n",
       "      <td> 0</td>\n",
       "      <td> NaN</td>\n",
       "      <td>...</td>\n",
       "      <td>NaN</td>\n",
       "      <td>NaN</td>\n",
       "      <td>NaN</td>\n",
       "      <td>NaN</td>\n",
       "      <td>NaN</td>\n",
       "      <td>NaN</td>\n",
       "      <td>NaN</td>\n",
       "      <td>NaN</td>\n",
       "      <td>NaN</td>\n",
       "      <td>NaN</td>\n",
       "    </tr>\n",
       "    <tr>\n",
       "      <th>4</th>\n",
       "      <td> 1004</td>\n",
       "      <td> 8/27/2007</td>\n",
       "      <td> 3/20/2012</td>\n",
       "      <td> 2008</td>\n",
       "      <td> 2012</td>\n",
       "      <td> 6</td>\n",
       "      <td>  9</td>\n",
       "      <td> Y</td>\n",
       "      <td> 1</td>\n",
       "      <td>   9</td>\n",
       "      <td>...</td>\n",
       "      <td>NaN</td>\n",
       "      <td>NaN</td>\n",
       "      <td>NaN</td>\n",
       "      <td>NaN</td>\n",
       "      <td>NaN</td>\n",
       "      <td>NaN</td>\n",
       "      <td>NaN</td>\n",
       "      <td>NaN</td>\n",
       "      <td>NaN</td>\n",
       "      <td>NaN</td>\n",
       "    </tr>\n",
       "  </tbody>\n",
       "</table>\n",
       "<p>5 rows × 234 columns</p>\n",
       "</div>"
      ],
      "text/plain": [
       "   External_Student_ID FirstEntryDate LastExitDate  FirstEntry_ReportingYear  \\\n",
       "0                 1000      8/27/2007    6/10/2008                      2008   \n",
       "1                 1001      8/27/2007    6/10/2008                      2008   \n",
       "2                 1002      4/27/2009    2/28/2013                      2009   \n",
       "3                 1003      8/28/2007    1/28/2011                      2008   \n",
       "4                 1004      8/27/2007    3/20/2012                      2008   \n",
       "\n",
       "   LastExit_ReportingYear  FirstEntry_Grade  LastEntry_Grade  \\\n",
       "0                    2008                 7                7   \n",
       "1                    2008                 7                7   \n",
       "2                    2013                 6                9   \n",
       "3                    2011                 9               12   \n",
       "4                    2012                 6                9   \n",
       "\n",
       "  Transferred_Before_EOY  Grade_repeats RepeatedGrades  \\\n",
       "0                      N              0            NaN   \n",
       "1                      N              0            NaN   \n",
       "2                      Y              1              9   \n",
       "3                      Y              0            NaN   \n",
       "4                      Y              1              9   \n",
       "\n",
       "            ...           GPA_2014 GPA_ENG_2014  GPA_Math_2014  \\\n",
       "0           ...                NaN          NaN            NaN   \n",
       "1           ...                NaN          NaN            NaN   \n",
       "2           ...                NaN          NaN            NaN   \n",
       "3           ...                NaN          NaN            NaN   \n",
       "4           ...                NaN          NaN            NaN   \n",
       "\n",
       "  GPA_Science_2014  GPA_SocSci_2014  NumAdvanced_2014 NumAdvanced_ENG_2014  \\\n",
       "0              NaN              NaN               NaN                  NaN   \n",
       "1              NaN              NaN               NaN                  NaN   \n",
       "2              NaN              NaN               NaN                  NaN   \n",
       "3              NaN              NaN               NaN                  NaN   \n",
       "4              NaN              NaN               NaN                  NaN   \n",
       "\n",
       "  NumAdvanced_Math_2014 NumAdvanced_Science_2014 NumAdvanced_SocSci_2014  \n",
       "0                   NaN                      NaN                     NaN  \n",
       "1                   NaN                      NaN                     NaN  \n",
       "2                   NaN                      NaN                     NaN  \n",
       "3                   NaN                      NaN                     NaN  \n",
       "4                   NaN                      NaN                     NaN  \n",
       "\n",
       "[5 rows x 234 columns]"
      ]
     },
     "execution_count": 45,
     "metadata": {},
     "output_type": "execute_result"
    }
   ],
   "source": [
    "merged.head()"
   ]
  },
  {
   "cell_type": "code",
   "execution_count": 46,
   "metadata": {
    "collapsed": false
   },
   "outputs": [
    {
     "data": {
      "text/plain": [
       "(35435, 234)"
      ]
     },
     "execution_count": 46,
     "metadata": {},
     "output_type": "execute_result"
    }
   ],
   "source": [
    "merged.shape"
   ]
  },
  {
   "cell_type": "code",
   "execution_count": 47,
   "metadata": {
    "collapsed": false
   },
   "outputs": [
    {
     "data": {
      "text/plain": [
       "['External_Student_ID',\n",
       " 'FirstEntryDate',\n",
       " 'LastExitDate',\n",
       " 'FirstEntry_ReportingYear',\n",
       " 'LastExit_ReportingYear',\n",
       " 'FirstEntry_Grade',\n",
       " 'LastEntry_Grade',\n",
       " 'Transferred_Before_EOY',\n",
       " 'Grade_repeats',\n",
       " 'RepeatedGrades',\n",
       " 'RepeatedYears',\n",
       " 'TransOut_Before_Grade12_Year',\n",
       " 'g8year',\n",
       " 'graduate',\n",
       " 'grad_year',\n",
       " 'Expected_GradYear',\n",
       " 'Grad_4yr',\n",
       " 'Street_2008',\n",
       " 'CITY_2008',\n",
       " 'STATE_2008',\n",
       " 'ZIP_2008',\n",
       " 'Street_2009',\n",
       " 'CITY_2009',\n",
       " 'STATE_2009',\n",
       " 'ZIP_2009',\n",
       " 'Street_2010',\n",
       " 'CITY_2010',\n",
       " 'STATE_2010',\n",
       " 'ZIP_2010',\n",
       " 'Street_2011',\n",
       " 'CITY_2011',\n",
       " 'STATE_2011',\n",
       " 'ZIP_2011',\n",
       " 'Street_2012',\n",
       " 'CITY_2012',\n",
       " 'STATE_2012',\n",
       " 'ZIP_2012',\n",
       " 'Street_2013',\n",
       " 'CITY_2013',\n",
       " 'STATE_2013',\n",
       " 'ZIP_2013',\n",
       " 'Street_2014',\n",
       " 'CITY_2014',\n",
       " 'STATE_2014',\n",
       " 'ZIP_2014',\n",
       " 'school_code_2008',\n",
       " 'grade_2008',\n",
       " 'ethnic_2008',\n",
       " 'sex_2008',\n",
       " 'swd_2008',\n",
       " 'eds_2008',\n",
       " 'lep_2008',\n",
       " 'daysabs_2008',\n",
       " 'exc_abs_2008',\n",
       " 'unexc_abs_2008',\n",
       " 'times_tardy_2008',\n",
       " 'school_code_2009',\n",
       " 'grade_2009',\n",
       " 'ethnic_2009',\n",
       " 'sex_2009',\n",
       " 'swd_2009',\n",
       " 'eds_2009',\n",
       " 'lep_2009',\n",
       " 'daysabs_2009',\n",
       " 'exc_abs_2009',\n",
       " 'unexc_abs_2009',\n",
       " 'times_tardy_2009',\n",
       " 'school_code_2010',\n",
       " 'grade_2010',\n",
       " 'ethnic_2010',\n",
       " 'sex_2010',\n",
       " 'swd_2010',\n",
       " 'eds_2010',\n",
       " 'lep_2010',\n",
       " 'daysabs_2010',\n",
       " 'exc_abs_2010',\n",
       " 'unexc_abs_2010',\n",
       " 'times_tardy_2010',\n",
       " 'school_code_2011',\n",
       " 'grade_2011',\n",
       " 'ethnic_2011',\n",
       " 'sex_2011',\n",
       " 'swd_2011',\n",
       " 'eds_2011',\n",
       " 'lep_2011',\n",
       " 'daysabs_2011',\n",
       " 'exc_abs_2011',\n",
       " 'unexc_abs_2011',\n",
       " 'times_tardy_2011',\n",
       " 'school_code_2012',\n",
       " 'grade_2012',\n",
       " 'ethnic_2012',\n",
       " 'sex_2012',\n",
       " 'swd_2012',\n",
       " 'eds_2012',\n",
       " 'lep_2012',\n",
       " 'daysabs_2012',\n",
       " 'exc_abs_2012',\n",
       " 'unexc_abs_2012',\n",
       " 'times_tardy_2012',\n",
       " 'school_code_2013',\n",
       " 'grade_2013',\n",
       " 'ethnic_2013',\n",
       " 'sex_2013',\n",
       " 'swd_2013',\n",
       " 'eds_2013',\n",
       " 'lep_2013',\n",
       " 'daysabs_2013',\n",
       " 'exc_abs_2013',\n",
       " 'unexc_abs_2013',\n",
       " 'times_tardy_2013',\n",
       " 'school_code_2014',\n",
       " 'grade_2014',\n",
       " 'ethnic_2014',\n",
       " 'sex_2014',\n",
       " 'swd_2014',\n",
       " 'eds_2014',\n",
       " 'lep_2014',\n",
       " 'daysabs_2014',\n",
       " 'exc_abs_2014',\n",
       " 'unexc_abs_2014',\n",
       " 'times_tardy_2014',\n",
       " 'SchoolYear_2008',\n",
       " 'Num_Marks_2008',\n",
       " 'Num_ENG_2008',\n",
       " 'Num_Math_2008',\n",
       " 'Num_Science_2008',\n",
       " 'Num_SocSci_2008',\n",
       " 'GPA_2008',\n",
       " 'GPA_ENG_2008',\n",
       " 'GPA_Math_2008',\n",
       " 'GPA_Science_2008',\n",
       " 'GPA_SocSci_2008',\n",
       " 'NumAdvanced_2008',\n",
       " 'NumAdvanced_ENG_2008',\n",
       " 'NumAdvanced_Math_2008',\n",
       " 'NumAdvanced_Science_2008',\n",
       " 'NumAdvanced_SocSci_2008',\n",
       " 'SchoolYear_2009',\n",
       " 'Num_Marks_2009',\n",
       " 'Num_ENG_2009',\n",
       " 'Num_Math_2009',\n",
       " 'Num_Science_2009',\n",
       " 'Num_SocSci_2009',\n",
       " 'GPA_2009',\n",
       " 'GPA_ENG_2009',\n",
       " 'GPA_Math_2009',\n",
       " 'GPA_Science_2009',\n",
       " 'GPA_SocSci_2009',\n",
       " 'NumAdvanced_2009',\n",
       " 'NumAdvanced_ENG_2009',\n",
       " 'NumAdvanced_Math_2009',\n",
       " 'NumAdvanced_Science_2009',\n",
       " 'NumAdvanced_SocSci_2009',\n",
       " 'SchoolYear_2010',\n",
       " 'Num_Marks_2010',\n",
       " 'Num_ENG_2010',\n",
       " 'Num_Math_2010',\n",
       " 'Num_Science_2010',\n",
       " 'Num_SocSci_2010',\n",
       " 'GPA_2010',\n",
       " 'GPA_ENG_2010',\n",
       " 'GPA_Math_2010',\n",
       " 'GPA_Science_2010',\n",
       " 'GPA_SocSci_2010',\n",
       " 'NumAdvanced_2010',\n",
       " 'NumAdvanced_ENG_2010',\n",
       " 'NumAdvanced_Math_2010',\n",
       " 'NumAdvanced_Science_2010',\n",
       " 'NumAdvanced_SocSci_2010',\n",
       " 'SchoolYear_2011',\n",
       " 'Num_Marks_2011',\n",
       " 'Num_ENG_2011',\n",
       " 'Num_Math_2011',\n",
       " 'Num_Science_2011',\n",
       " 'Num_SocSci_2011',\n",
       " 'GPA_2011',\n",
       " 'GPA_ENG_2011',\n",
       " 'GPA_Math_2011',\n",
       " 'GPA_Science_2011',\n",
       " 'GPA_SocSci_2011',\n",
       " 'NumAdvanced_2011',\n",
       " 'NumAdvanced_ENG_2011',\n",
       " 'NumAdvanced_Math_2011',\n",
       " 'NumAdvanced_Science_2011',\n",
       " 'NumAdvanced_SocSci_2011',\n",
       " 'SchoolYear_2012',\n",
       " 'Num_Marks_2012',\n",
       " 'Num_ENG_2012',\n",
       " 'Num_Math_2012',\n",
       " 'Num_Science_2012',\n",
       " 'Num_SocSci_2012',\n",
       " 'GPA_2012',\n",
       " 'GPA_ENG_2012',\n",
       " 'GPA_Math_2012',\n",
       " 'GPA_Science_2012',\n",
       " 'GPA_SocSci_2012',\n",
       " 'NumAdvanced_2012',\n",
       " 'NumAdvanced_ENG_2012',\n",
       " 'NumAdvanced_Math_2012',\n",
       " 'NumAdvanced_Science_2012',\n",
       " 'NumAdvanced_SocSci_2012',\n",
       " 'SchoolYear_2013',\n",
       " 'Num_Marks_2013',\n",
       " 'Num_ENG_2013',\n",
       " 'Num_Math_2013',\n",
       " 'Num_Science_2013',\n",
       " 'Num_SocSci_2013',\n",
       " 'GPA_2013',\n",
       " 'GPA_ENG_2013',\n",
       " 'GPA_Math_2013',\n",
       " 'GPA_Science_2013',\n",
       " 'GPA_SocSci_2013',\n",
       " 'NumAdvanced_2013',\n",
       " 'NumAdvanced_ENG_2013',\n",
       " 'NumAdvanced_Math_2013',\n",
       " 'NumAdvanced_Science_2013',\n",
       " 'NumAdvanced_SocSci_2013',\n",
       " 'SchoolYear_2014',\n",
       " 'Num_Marks_2014',\n",
       " 'Num_ENG_2014',\n",
       " 'Num_Math_2014',\n",
       " 'Num_Science_2014',\n",
       " 'Num_SocSci_2014',\n",
       " 'GPA_2014',\n",
       " 'GPA_ENG_2014',\n",
       " 'GPA_Math_2014',\n",
       " 'GPA_Science_2014',\n",
       " 'GPA_SocSci_2014',\n",
       " 'NumAdvanced_2014',\n",
       " 'NumAdvanced_ENG_2014',\n",
       " 'NumAdvanced_Math_2014',\n",
       " 'NumAdvanced_Science_2014',\n",
       " 'NumAdvanced_SocSci_2014']"
      ]
     },
     "execution_count": 47,
     "metadata": {},
     "output_type": "execute_result"
    }
   ],
   "source": [
    "list(merged.columns)"
   ]
  },
  {
   "cell_type": "code",
   "execution_count": null,
   "metadata": {
    "collapsed": false
   },
   "outputs": [],
   "source": [
    "merged.to_csv(path_or_buf='master_2-9-2015.csv', index=False)"
   ]
  },
  {
   "cell_type": "code",
   "execution_count": null,
   "metadata": {
    "collapsed": false
   },
   "outputs": [],
   "source": []
  }
 ],
 "metadata": {
  "kernelspec": {
   "display_name": "Python 2",
   "language": "python",
   "name": "python2"
  },
  "language_info": {
   "codemirror_mode": {
    "name": "ipython",
    "version": 2
   },
   "file_extension": ".py",
   "mimetype": "text/x-python",
   "name": "python",
   "nbconvert_exporter": "python",
   "pygments_lexer": "ipython2",
   "version": "2.7.9"
  }
 },
 "nbformat": 4,
 "nbformat_minor": 0
}
