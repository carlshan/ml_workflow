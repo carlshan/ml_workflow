{
 "metadata": {
  "name": "",
  "signature": "sha256:b5506510cde26b4620d4139e66d1d1b0bbdd6b3abac27c9e1f0ca7806fd43e08"
 },
 "nbformat": 3,
 "nbformat_minor": 0,
 "worksheets": [
  {
   "cells": [
    {
     "cell_type": "code",
     "collapsed": false,
     "input": [
      "## Last modified: 12/15/14 by Nasir Bhanpuri\n",
      "## Based on code examples in Modeling Combined Outcomes - 2012 Predict 2013 - Modular\n"
     ],
     "language": "python",
     "metadata": {},
     "outputs": [],
     "prompt_number": 1
    },
    {
     "cell_type": "code",
     "collapsed": false,
     "input": [
      "%pylab inline \n",
      "import pandas as pd\n",
      "import numpy as np\n",
      "import matplotlib.pylab as pl\n",
      "import sys\n",
      "sys.path.append('../etl/')\n",
      "import util\n",
      "import diagnostics as dg\n",
      "from sklearn.ensemble import RandomForestClassifier, ExtraTreesClassifier, GradientBoostingClassifier, AdaBoostClassifier\n",
      "from sklearn.linear_model import LogisticRegression\n",
      "from sklearn import preprocessing, decomposition, svm\n",
      "from sklearn.tree import DecisionTreeClassifier\n",
      "import preprocessing_two_sets as ppt\n",
      "import selection as sln\n",
      "import pipeline as ppl\n",
      "import preprocessing as pp\n",
      "import classification_two_sets as cts"
     ],
     "language": "python",
     "metadata": {},
     "outputs": [
      {
       "output_type": "stream",
       "stream": "stdout",
       "text": [
        "Populating the interactive namespace from numpy and matplotlib\n"
       ]
      }
     ],
     "prompt_number": 2
    },
    {
     "cell_type": "markdown",
     "metadata": {},
     "source": [
      "# I. Load and organize data by cohort"
     ]
    },
    {
     "cell_type": "code",
     "collapsed": false,
     "input": [
      "#Load master data file\n",
      "data_path = 's3://dsapp-edu-data/NC-Cabarrus/cleaned_data/'\n",
      "data_filename = 'master_10_17_2014.csv'\n",
      "data = pd.read_csv(data_path+data_filename)\n",
      "dropout_data = pd.read_csv(data_path + 'Dropout_Data_0708_1213_20141001_clean_2014_10_1.txt')\n",
      "#This file is redundant but ok to use for now"
     ],
     "language": "python",
     "metadata": {},
     "outputs": [
      {
       "output_type": "stream",
       "stream": "stderr",
       "text": [
        "/Users/Nasir/anaconda/lib/python2.7/site-packages/pandas/io/parsers.py:1154: DtypeWarning: Columns (194,195,196) have mixed types. Specify dtype option on import or set low_memory=False.\n",
        "  data = self._reader.read(nrows)\n"
       ]
      }
     ],
     "prompt_number": 3
    },
    {
     "cell_type": "code",
     "collapsed": false,
     "input": [
      "#Complete set of columns to include\n",
      "include_cols = [\n",
      " 'External_Student_ID',\n",
      " 'Grade_8th_grade',\n",
      " 'STATE_12th_grade',\n",
      " 'STATE_11th_grade',\n",
      " 'eds_8th_grade',\n",
      " 'GPA_Math_11th_grade',\n",
      " 'GPA_Math_12th_grade',\n",
      " 'GPA_Math_9th_grade',\n",
      " 'GPA_Math_10th_grade',\n",
      " 'swd_8th_grade',\n",
      " #'Street_8th_grade',\n",
      " 'CITY_10th_grade',\n",
      " 'NumAdvanced_8th_grade',\n",
      " 'CITY_9th_grade',\n",
      " 'STATE_10th_grade',\n",
      " 'grade_11th_grade',\n",
      " 'STATE_9th_grade',\n",
      " 'lep_8th_grade',\n",
      " 'GPA_SocSci_9th_grade',\n",
      " 'Grade_11th_grade',\n",
      " 'GPA_SocSci_10th_grade',\n",
      " 'reporting_year_8th_grade',\n",
      " #'Street_11th_grade',\n",
      " #'Street_12th_grade',\n",
      " 'GPA_Science_8th_grade',\n",
      " 'sex_11th_grade',\n",
      " 'GPA_Science_12th_grade',\n",
      " 'sex_9th_grade',\n",
      " 'sex_10th_grade',\n",
      " 'Num_Marks_8th_grade',\n",
      " 'daysabs_10th_grade',\n",
      " 'daysabs_9th_grade',\n",
      " 'NumAdvanced_SocSci_8th_grade',\n",
      " 'times_tardy_8th_grade',\n",
      " 'lep_11th_grade',\n",
      " 'lep_10th_grade',\n",
      " 'lep_9th_grade',\n",
      " 'sex_8th_grade',\n",
      " #'Street_9th_grade',\n",
      " #'Street_10th_grade',\n",
      " 'Grade_12th_grade',\n",
      " 'Grade_10th_grade',\n",
      " 'Grade_9th_grade',\n",
      " 'GPA_Science_10th_grade',\n",
      " 'GPA_Science_9th_grade',\n",
      " 'GPA_Science_11th_grade',\n",
      " 'GPA_9th_grade',\n",
      " 'GPA_10th_grade',\n",
      " 'GPA_11th_grade',\n",
      " 'GPA_12th_grade',\n",
      " 'NumAdvanced_SocSci_11th_grade',\n",
      " 'Num_Science_8th_grade',\n",
      " 'NumAdvanced_SocSci_9th_grade',\n",
      " 'NumAdvanced_SocSci_10th_grade',\n",
      " 'GPA_SocSci_8th_grade',\n",
      " 'reporting_year_10th_grade',\n",
      " 'reporting_year_9th_grade',\n",
      " 'CITY_8th_grade',\n",
      " 'eds_10th_grade',\n",
      " 'eds_11th_grade',\n",
      " 'grade_8th_grade',\n",
      " 'Num_SocSci_8th_grade',\n",
      " 'GPA_ENG_8th_grade',\n",
      " 'Num_Marks_10th_grade',\n",
      " 'Num_Marks_9th_grade',\n",
      " 'Num_Marks_12th_grade',\n",
      " 'Num_Marks_11th_grade',\n",
      " 'NumAdvanced_Science_8th_grade',\n",
      " 'Num_Science_12th_grade',\n",
      " 'Num_Science_11th_grade',\n",
      " 'Num_Science_10th_grade',\n",
      " 'Num_Science_9th_grade',\n",
      " 'GPA_SocSci_11th_grade',\n",
      " 'GPA_SocSci_12th_grade',\n",
      " 'GPA_8th_grade',\n",
      " 'NumAdvanced_ENG_8th_grade',\n",
      " 'reporting_year_11th_grade',\n",
      " 'grade_10th_grade',\n",
      " 'grade_9th_grade',\n",
      " 'exc_abs_8th_grade',\n",
      " 'daysabs_8th_grade',\n",
      " 'Num_ENG_8th_grade',\n",
      " 'Num_SocSci_9th_grade',\n",
      " 'Num_SocSci_10th_grade',\n",
      " 'Num_SocSci_11th_grade',\n",
      " 'Num_SocSci_12th_grade',\n",
      " 'GPA_ENG_12th_grade',\n",
      " 'GPA_ENG_11th_grade',\n",
      " 'GPA_ENG_10th_grade',\n",
      " 'GPA_ENG_9th_grade',\n",
      " 'ZIP_8th_grade',\n",
      " 'NumAdvanced_Science_10th_grade',\n",
      " 'NumAdvanced_Science_12th_grade',\n",
      " 'NumAdvanced_Science_11th_grade',\n",
      " 'times_tardy_11th_grade',\n",
      " 'times_tardy_10th_grade',\n",
      " 'times_tardy_9th_grade',\n",
      " 'NumAdvanced_ENG_12th_grade',\n",
      " 'NumAdvanced_ENG_11th_grade',\n",
      " 'NumAdvanced_ENG_10th_grade',\n",
      " 'NumAdvanced_ENG_9th_grade',\n",
      " 'ZIP_12th_grade',\n",
      " 'ethnic_8th_grade',\n",
      " 'CITY_11th_grade',\n",
      " 'CITY_12th_grade',\n",
      " 'Num_ENG_10th_grade',\n",
      " 'Num_ENG_9th_grade',\n",
      " 'Num_ENG_12th_grade',\n",
      " 'Num_ENG_11th_grade',\n",
      " 'daysabs_11th_grade',\n",
      " 'Num_Math_8th_grade',\n",
      " 'eds_9th_grade',\n",
      " 'unexc_abs_9th_grade',\n",
      " 'unexc_abs_10th_grade',\n",
      " 'unexc_abs_11th_grade',\n",
      " 'ZIP_10th_grade',\n",
      " 'ZIP_9th_grade',\n",
      " 'ZIP_11th_grade',\n",
      " 'NumAdvanced_Math_11th_grade',\n",
      " 'NumAdvanced_Math_12th_grade',\n",
      " 'NumAdvanced_Math_9th_grade',\n",
      " 'NumAdvanced_Math_10th_grade',\n",
      " 'NumAdvanced_SocSci_12th_grade',\n",
      " 'Num_Math_9th_grade',\n",
      " 'Num_Math_10th_grade',\n",
      " 'Num_Math_11th_grade',\n",
      " 'Num_Math_12th_grade',\n",
      " 'school_code_11th_grade',\n",
      " 'school_code_9th_grade',\n",
      " 'ethnic_11th_grade',\n",
      " 'ethnic_9th_grade',\n",
      " 'ethnic_10th_grade',\n",
      " 'exc_abs_9th_grade',\n",
      " 'unexc_abs_8th_grade',\n",
      " 'STATE_8th_grade',\n",
      " 'NumAdvanced_Math_8th_grade',\n",
      " 'exc_abs_11th_grade',\n",
      " 'exc_abs_10th_grade',\n",
      " 'NumAdvanced_Science_9th_grade',\n",
      " 'school_code_10th_grade',\n",
      " 'GPA_Math_8th_grade',\n",
      " 'swd_9th_grade',\n",
      " 'swd_10th_grade',\n",
      " 'swd_11th_grade',\n",
      " 'school_code_8th_grade',\n",
      " 'NumAdvanced_9th_grade',\n",
      " 'NumAdvanced_10th_grade',\n",
      " 'NumAdvanced_11th_grade',\n",
      " 'NumAdvanced_12th_grade',\n",
      " 'earliest_reporting_year_majority_vote',\n",
      " 'earliest_recorded_grade_majority_vote',\n",
      " 'retained_in_8_majority_vote',\n",
      " 'retained_in_9_majority_vote',\n",
      " 'retained_in_10_majority_vote',\n",
      " 'retained_in_11_majority_vote',\n",
      " 'retained_in_12_majority_vote',\n",
      " 'expected_graduation_year_majority_vote',\n",
      " #'Grade_dropout',\n",
      " #'dropout_outcome',\n",
      " 'fail_to_finish_high_school_in_4_years',\n",
      " 'transferred_out_before_graduating',]"
     ],
     "language": "python",
     "metadata": {},
     "outputs": [],
     "prompt_number": 4
    },
    {
     "cell_type": "code",
     "collapsed": false,
     "input": [
      "#Find data for specific cohorts\n",
      "cohort_12 = data[data['expected_graduation_year_majority_vote'] == 2012]\n",
      "cohort_13 = data[data['expected_graduation_year_majority_vote'] == 2013]\n",
      "#Rename to standard names based on grade number\n",
      "renamed_12 = cohort_12.rename(columns = util.make_rename_col_dict(cohort_12.columns, 2012))[include_cols]\n",
      "renamed_13 = cohort_13.rename(columns = util.make_rename_col_dict(cohort_13.columns, 2013))[include_cols]\n"
     ],
     "language": "python",
     "metadata": {},
     "outputs": [],
     "prompt_number": 5
    },
    {
     "cell_type": "markdown",
     "metadata": {},
     "source": [
      "## II. Pull data for specified grades and run analysis"
     ]
    },
    {
     "cell_type": "markdown",
     "metadata": {},
     "source": [
      "### 8th Grade only"
     ]
    },
    {
     "cell_type": "code",
     "collapsed": false,
     "input": [
      "#For Cabarrus lowest grade with data is 8th grade\n",
      "lowestGrade = 8\n",
      "modelGrade = 8 #Grade for modeling\n",
      "\n",
      "#Dropout information\n",
      "d_id = sln.findDropoutIDs(lowestGrade,modelGrade,dropout_data,dropout_grade_col='Grade')\n",
      "#Data for given grade\n",
      "train_data, test_data = sln.dataForGrade(renamed_12, renamed_13, lowestGrade, modelGrade, outcome_col = 'fail_to_finish_high_school_in_4_years',\n",
      "                                     transfer_col = 'transferred_out_before_graduating', audit_col = 'GPA_8th_grade',\n",
      "                                     id_col = 'External_Student_ID', dropout_ids = d_id)\n",
      "\n",
      "#Adjust ethnic values in train_data. For production, this would occur much earlier, when cleaning data.\n",
      "train_data.ethnic_8th_grade = [e[0] for e in train_data.ethnic_8th_grade]"
     ],
     "language": "python",
     "metadata": {},
     "outputs": [],
     "prompt_number": 6
    },
    {
     "cell_type": "code",
     "collapsed": false,
     "input": [
      "#Hand-picked features\n",
      "id_col = 'External_Student_ID'\n",
      "outcome_col = 'fail_to_finish_high_school_in_4_years'\n",
      "transfer_col = 'transferred_out_before_graduating'\n",
      "drop_cols = [id_col, outcome_col]\n",
      "important_features = train_data.columns.tolist()\n",
      "median_features = ['GPA_Science_8th_grade',\n",
      "                     'GPA_8th_grade',\n",
      "                     'GPA_SocSci_8th_grade',\n",
      "                     'GPA_Math_8th_grade',\n",
      "                     'exc_abs_8th_grade',\n",
      "                     'unexc_abs_8th_grade',\n",
      "                     'GPA_ENG_8th_grade',\n",
      "                     'NumAdvanced_8th_grade',\n",
      "                     'Num_Marks_8th_grade',\n",
      "                     'NumAdvanced_SocSci_8th_grade',\n",
      "                     'times_tardy_8th_grade',\n",
      "                     'Num_Science_8th_grade',\n",
      "                     'Num_SocSci_8th_grade',\n",
      "                     'NumAdvanced_Science_8th_grade',\n",
      "                     'NumAdvanced_ENG_8th_grade',\n",
      "                     'Num_ENG_8th_grade',\n",
      "                     'Num_Math_8th_grade',\n",
      "                     'NumAdvanced_Math_8th_grade',\n",
      "]"
     ],
     "language": "python",
     "metadata": {},
     "outputs": [],
     "prompt_number": 7
    },
    {
     "cell_type": "code",
     "collapsed": false,
     "input": [
      "#Create quartiled versions of continuous features and add to datasets\n",
      "featForQuart = ['GPA_Science_8th_grade',\n",
      "                     'GPA_8th_grade',\n",
      "                     'GPA_SocSci_8th_grade',\n",
      "                     'GPA_Math_8th_grade',\n",
      "                     'exc_abs_8th_grade',\n",
      "                     'unexc_abs_8th_grade',\n",
      "                     'GPA_ENG_8th_grade',\n",
      "                     ]\n",
      "\n",
      "for f in featForQuart:\n",
      "    train_data = pp.appendQuart(train_data,f)\n",
      "    test_data = pp.appendQuart(test_data,f)\n",
      "    important_features.append(f+'Q')\n",
      "    #median_features.append(f+'Q')"
     ],
     "language": "python",
     "metadata": {},
     "outputs": [],
     "prompt_number": 8
    },
    {
     "cell_type": "markdown",
     "metadata": {},
     "source": [
      "### Aggregate results from multiple runs with the same model but different randomization seed"
     ]
    },
    {
     "cell_type": "code",
     "collapsed": false,
     "input": [
      "multiRunResults = []"
     ],
     "language": "python",
     "metadata": {},
     "outputs": [],
     "prompt_number": 9
    },
    {
     "cell_type": "code",
     "collapsed": false,
     "input": [
      "#Equations for patsy package - * = interactions & individual terms, : = interactions only\n",
      "#D = all demographic features, AN = all non-demographic features, TN = top non-demographic features\n",
      "#X = interaction, Db = binary demographic features, Dc = categorical demographic features\n",
      "#ANq = all non-demographic features grouped into quartiles\n",
      "f_D = '''\n",
      "    fail_to_finish_high_school_in_4_years ~ C(school_code_8th_grade) +\n",
      "    C(eds_8th_grade) + C(swd_8th_grade) + C(lep_8th_grade) + C(sex_8th_grade) + C(ethnic_8th_grade) + \n",
      "    C(CITY_8th_grade) + C(ZIP_8th_grade)\n",
      "    '''\n",
      "f_TN = '''\n",
      "    fail_to_finish_high_school_in_4_years ~ GPA_Science_8th_grade + GPA_8th_grade + GPA_SocSci_8th_grade + \n",
      "    GPA_Math_8th_grade + exc_abs_8th_grade + unexc_abs_8th_grade + GPA_ENG_8th_grade\n",
      "    '''\n",
      "f_TN_D = '''\n",
      "    fail_to_finish_high_school_in_4_years ~ GPA_Science_8th_grade + GPA_8th_grade + GPA_SocSci_8th_grade + \n",
      "    GPA_Math_8th_grade + exc_abs_8th_grade + unexc_abs_8th_grade + GPA_ENG_8th_grade + \n",
      "    C(school_code_8th_grade) + C(eds_8th_grade) + C(swd_8th_grade) + C(lep_8th_grade) + C(sex_8th_grade) + \n",
      "    C(ethnic_8th_grade) + C(CITY_8th_grade) + C(ZIP_8th_grade)\n",
      "    '''\n",
      "f_AN_D = '''\n",
      "    fail_to_finish_high_school_in_4_years ~ GPA_Science_8th_grade + GPA_8th_grade + GPA_SocSci_8th_grade + \n",
      "    GPA_Math_8th_grade + exc_abs_8th_grade + unexc_abs_8th_grade + GPA_ENG_8th_grade + \n",
      "    NumAdvanced_8th_grade + Num_Marks_8th_grade + NumAdvanced_SocSci_8th_grade + times_tardy_8th_grade +\n",
      "    Num_Science_8th_grade + Num_SocSci_8th_grade + NumAdvanced_Science_8th_grade + NumAdvanced_ENG_8th_grade +\n",
      "    Num_ENG_8th_grade + Num_Math_8th_grade + NumAdvanced_Math_8th_grade + C(retained_in_8_majority_vote) +\n",
      "    C(school_code_8th_grade) + C(eds_8th_grade) + C(swd_8th_grade) + \n",
      "    C(lep_8th_grade) + C(sex_8th_grade) + C(ethnic_8th_grade) + C(CITY_8th_grade) + C(ZIP_8th_grade)\n",
      "    '''\n",
      "f_AN_D_ANXD = '''\n",
      "    fail_to_finish_high_school_in_4_years ~ (GPA_Science_8th_grade + GPA_8th_grade + GPA_SocSci_8th_grade + \n",
      "    GPA_Math_8th_grade + exc_abs_8th_grade + unexc_abs_8th_grade + GPA_ENG_8th_grade + \n",
      "    NumAdvanced_8th_grade + Num_Marks_8th_grade + NumAdvanced_SocSci_8th_grade + times_tardy_8th_grade +\n",
      "    Num_Science_8th_grade + Num_SocSci_8th_grade + NumAdvanced_Science_8th_grade + NumAdvanced_ENG_8th_grade +\n",
      "    Num_ENG_8th_grade + Num_Math_8th_grade + NumAdvanced_Math_8th_grade + C(retained_in_8_majority_vote)) *\n",
      "    (C(school_code_8th_grade) + C(eds_8th_grade) + C(swd_8th_grade) + \n",
      "    C(lep_8th_grade) + C(sex_8th_grade) + C(ethnic_8th_grade) + C(CITY_8th_grade) + C(ZIP_8th_grade))\n",
      "    '''\n",
      "f_AN_D_ANXD_DbXDc = '''\n",
      "    fail_to_finish_high_school_in_4_years ~ (GPA_Science_8th_grade + GPA_8th_grade + GPA_SocSci_8th_grade + \n",
      "    GPA_Math_8th_grade + exc_abs_8th_grade + unexc_abs_8th_grade + GPA_ENG_8th_grade + \n",
      "    NumAdvanced_8th_grade + Num_Marks_8th_grade + NumAdvanced_SocSci_8th_grade + times_tardy_8th_grade +\n",
      "    Num_Science_8th_grade + Num_SocSci_8th_grade + NumAdvanced_Science_8th_grade + NumAdvanced_ENG_8th_grade +\n",
      "    Num_ENG_8th_grade + Num_Math_8th_grade + NumAdvanced_Math_8th_grade + C(retained_in_8_majority_vote)) *\n",
      "    (C(school_code_8th_grade) + C(eds_8th_grade) + C(swd_8th_grade) + \n",
      "    C(lep_8th_grade) + C(sex_8th_grade) + C(ethnic_8th_grade) + C(CITY_8th_grade) + C(ZIP_8th_grade)) + \n",
      "    (C(eds_8th_grade) + C(swd_8th_grade) + C(lep_8th_grade) + C(sex_8th_grade)) : \n",
      "    (C(ethnic_8th_grade) + C(CITY_8th_grade) + C(school_code_8th_grade) + C(ZIP_8th_grade))\n",
      "    '''\n",
      "f_AN_D_ANqXD = '''\n",
      "    fail_to_finish_high_school_in_4_years ~ (GPA_Science_8th_grade + GPA_8th_grade + GPA_SocSci_8th_grade + \n",
      "    GPA_Math_8th_grade + exc_abs_8th_grade + unexc_abs_8th_grade + GPA_ENG_8th_grade + \n",
      "    NumAdvanced_8th_grade + Num_Marks_8th_grade + NumAdvanced_SocSci_8th_grade + times_tardy_8th_grade +\n",
      "    Num_Science_8th_grade + Num_SocSci_8th_grade + NumAdvanced_Science_8th_grade + NumAdvanced_ENG_8th_grade +\n",
      "    Num_ENG_8th_grade + Num_Math_8th_grade + NumAdvanced_Math_8th_grade + C(retained_in_8_majority_vote)) +\n",
      "    (GPA_Science_8th_gradeQ + GPA_8th_gradeQ + GPA_SocSci_8th_gradeQ + GPA_Math_8th_gradeQ + exc_abs_8th_gradeQ +\n",
      "    unexc_abs_8th_gradeQ + GPA_ENG_8th_gradeQ)*\n",
      "    (C(school_code_8th_grade) + C(eds_8th_grade) + C(swd_8th_grade) + \n",
      "    C(lep_8th_grade) + C(sex_8th_grade) + C(ethnic_8th_grade) + C(CITY_8th_grade) + C(ZIP_8th_grade))\n",
      "    '''\n",
      "f_AN_D_ANqXD_DbXDc = '''\n",
      "    fail_to_finish_high_school_in_4_years ~ (GPA_Science_8th_grade + GPA_8th_grade + GPA_SocSci_8th_grade + \n",
      "    GPA_Math_8th_grade + exc_abs_8th_grade + unexc_abs_8th_grade + GPA_ENG_8th_grade + \n",
      "    NumAdvanced_8th_grade + Num_Marks_8th_grade + NumAdvanced_SocSci_8th_grade + times_tardy_8th_grade +\n",
      "    Num_Science_8th_grade + Num_SocSci_8th_grade + NumAdvanced_Science_8th_grade + NumAdvanced_ENG_8th_grade +\n",
      "    Num_ENG_8th_grade + Num_Math_8th_grade + NumAdvanced_Math_8th_grade + C(retained_in_8_majority_vote)) +\n",
      "    (GPA_Science_8th_gradeQ + GPA_8th_gradeQ + GPA_SocSci_8th_gradeQ + GPA_Math_8th_gradeQ + exc_abs_8th_gradeQ +\n",
      "    unexc_abs_8th_gradeQ + GPA_ENG_8th_gradeQ) *\n",
      "    (C(school_code_8th_grade) + C(eds_8th_grade) + C(swd_8th_grade) + \n",
      "    C(lep_8th_grade) + C(sex_8th_grade) + C(ethnic_8th_grade) + C(CITY_8th_grade) + C(ZIP_8th_grade)) + \n",
      "    (C(eds_8th_grade) + C(swd_8th_grade) + C(lep_8th_grade) + C(sex_8th_grade)) : \n",
      "    (C(ethnic_8th_grade) + C(CITY_8th_grade) + C(school_code_8th_grade) + C(ZIP_8th_grade))\n",
      "    '''"
     ],
     "language": "python",
     "metadata": {},
     "outputs": [],
     "prompt_number": 10
    },
    {
     "cell_type": "markdown",
     "metadata": {},
     "source": [
      "### Testing convertRunsToMeanStdAddInfo"
     ]
    },
    {
     "cell_type": "code",
     "collapsed": false,
     "input": [
      "#Takes about a minute to run for 100 RFs\n",
      "clf_name = 'RF5'\n",
      "resN = []\n",
      "num_runs = 5\n",
      "for i in range(0,num_runs):\n",
      "    clf = RandomForestClassifier(n_estimators=100, criterion='entropy', random_state = i)\n",
      "    res = ppl.runPipe(train_data, test_data, important_features, outcome_col, imputeFuncStr= 'imputeWithEmpDraws',clf = clf, \n",
      "              clf_name = clf_name, patsyf = f_TN_D, printOutput = False, seed = i)\n",
      "    resN.append(res)\n",
      "    \n",
      "dfR1 = pd.DataFrame(resN)\n",
      "runMeanStd = ppl.convertRunsToMeanStdAddInfo(dfR1,clf,clf_name,num_runs,modelGrade,f_TN_D,'imputeWithEmpDraws',patsyfstr = 'f_TN_D')\n",
      "multiRunResults.append(runMeanStd)"
     ],
     "language": "python",
     "metadata": {},
     "outputs": [],
     "prompt_number": 12
    },
    {
     "cell_type": "code",
     "collapsed": false,
     "input": [
      "dfToSave = pd.DataFrame(multiRunResults)\n",
      "dfToSave"
     ],
     "language": "python",
     "metadata": {},
     "outputs": [
      {
       "html": [
        "<div style=\"max-height:1000px;max-width:1500px;overflow:auto;\">\n",
        "<table border=\"1\" class=\"dataframe\">\n",
        "  <thead>\n",
        "    <tr style=\"text-align: right;\">\n",
        "      <th></th>\n",
        "      <th>Prec_Top_100_mean</th>\n",
        "      <th>Prec_Top_100_std</th>\n",
        "      <th>Prec_Top_10perc_mean</th>\n",
        "      <th>Prec_Top_10perc_std</th>\n",
        "      <th>Prec_Top_200_mean</th>\n",
        "      <th>Prec_Top_200_std</th>\n",
        "      <th>Prec_Top_20perc_mean</th>\n",
        "      <th>Prec_Top_20perc_std</th>\n",
        "      <th>Prec_Top_30_mean</th>\n",
        "      <th>Prec_Top_30_std</th>\n",
        "      <th>...</th>\n",
        "      <th>num_runs</th>\n",
        "      <th>patsyf</th>\n",
        "      <th>patsyfstr</th>\n",
        "      <th>pr_auc_mean</th>\n",
        "      <th>pr_auc_std</th>\n",
        "      <th>pred_probas_mean</th>\n",
        "      <th>pred_probas_std</th>\n",
        "      <th>roc_auc_mean</th>\n",
        "      <th>roc_auc_std</th>\n",
        "      <th>timestamp</th>\n",
        "    </tr>\n",
        "  </thead>\n",
        "  <tbody>\n",
        "    <tr>\n",
        "      <th>0</th>\n",
        "      <td> 56</td>\n",
        "      <td> 2.236068</td>\n",
        "      <td> 48.7</td>\n",
        "      <td> 1.085242</td>\n",
        "      <td> 45.4</td>\n",
        "      <td> 1.140175</td>\n",
        "      <td> 34.748</td>\n",
        "      <td> 0.489306</td>\n",
        "      <td> 73.332</td>\n",
        "      <td> 4.712867</td>\n",
        "      <td>...</td>\n",
        "      <td> 5</td>\n",
        "      <td> \\n    fail_to_finish_high_school_in_4_years ~ ...</td>\n",
        "      <td> f_TN_D</td>\n",
        "      <td> 0.451625</td>\n",
        "      <td> 0.006702</td>\n",
        "      <td> 0     0.058\n",
        "1     0.070\n",
        "2     0.102\n",
        "3     0.03...</td>\n",
        "      <td> 0     0.019235\n",
        "1     0.015811\n",
        "2     0.021679\n",
        "3...</td>\n",
        "      <td> 0.821837</td>\n",
        "      <td> 0.002827</td>\n",
        "      <td>2014-12-19 12:03:28.071450</td>\n",
        "    </tr>\n",
        "  </tbody>\n",
        "</table>\n",
        "<p>1 rows \u00d7 35 columns</p>\n",
        "</div>"
       ],
       "metadata": {},
       "output_type": "pyout",
       "prompt_number": 13,
       "text": [
        "   Prec_Top_100_mean  Prec_Top_100_std  Prec_Top_10perc_mean  \\\n",
        "0                 56          2.236068                  48.7   \n",
        "\n",
        "   Prec_Top_10perc_std  Prec_Top_200_mean  Prec_Top_200_std  \\\n",
        "0             1.085242               45.4          1.140175   \n",
        "\n",
        "   Prec_Top_20perc_mean  Prec_Top_20perc_std  Prec_Top_30_mean  \\\n",
        "0                34.748             0.489306            73.332   \n",
        "\n",
        "   Prec_Top_30_std            ...              num_runs  \\\n",
        "0         4.712867            ...                     5   \n",
        "\n",
        "                                              patsyf  patsyfstr  pr_auc_mean  \\\n",
        "0  \\n    fail_to_finish_high_school_in_4_years ~ ...     f_TN_D     0.451625   \n",
        "\n",
        "   pr_auc_std                                   pred_probas_mean  \\\n",
        "0    0.006702  0     0.058\n",
        "1     0.070\n",
        "2     0.102\n",
        "3     0.03...   \n",
        "\n",
        "                                     pred_probas_std  roc_auc_mean  \\\n",
        "0  0     0.019235\n",
        "1     0.015811\n",
        "2     0.021679\n",
        "3...      0.821837   \n",
        "\n",
        "  roc_auc_std                  timestamp  \n",
        "0    0.002827 2014-12-19 12:03:28.071450  \n",
        "\n",
        "[1 rows x 35 columns]"
       ]
      }
     ],
     "prompt_number": 13
    },
    {
     "cell_type": "markdown",
     "metadata": {},
     "source": [
      "### Looping through different model options\n",
      "* Ony RF100, different patsy strings and different imputation methods"
     ]
    },
    {
     "cell_type": "code",
     "collapsed": false,
     "input": [
      "#Loop through different options\n",
      "#Start with only RF100 classifier\n",
      "num_runs = 100\n",
      "\n",
      "#allClf_names = ['RF100','RF500','LR1_hiC','LR1_loC','LR2_hiC','LR2_loC','SVM_lin','SVM_poly','SVM_sig']\n",
      "allClf_names = ['RF100']\n",
      "allPatsyStrs = ['f_D', 'f_TN', 'f_TN_D', 'f_AN_D', 'f_AN_D_ANXD', 'f_AN_D_ANXD_DbXDc', 'f_AN_D_ANqXD', 'f_AN_D_ANqXD_DbXDc']\n",
      "allPatsyFs = [f_D, f_TN, f_TN_D, f_AN_D, f_AN_D_ANXD, f_AN_D_ANXD_DbXDc, f_AN_D_ANqXD, f_AN_D_ANqXD_DbXDc]\n",
      "impTypeStrs = ['imputeWithMedianOrMode','imputeWithEmpDraws','imputeWithNegOne']\n",
      "\n",
      "for clf_name in allClf_names:\n",
      "    print \"Classifier: \" + clf_name\n",
      "    \n",
      "    for p, patsyf in enumerate(allPatsyFs):\n",
      "        print \"Patsy Function Name: \" + allPatsyStrs[p]\n",
      "        print \"Patsy Function: \" + patsyf\n",
      "        \n",
      "        for imp in impTypeStrs:\n",
      "            print \"Imputation type: \" + imp\n",
      "            resN = []\n",
      "            for i in range(0,num_runs):\n",
      "                if (i+1)%25 == 0:\n",
      "                    print \"Run #: \" + str(i+1)\n",
      "                clf = cts.defaultClassifiers(clf_name,random_state=i)\n",
      "                resN.append(ppl.runPipe(train_data, test_data, important_features, outcome_col,median_features=median_features,\n",
      "                                        imputeFuncStr = imp, clf = clf, clf_name = clf_name, patsyf = patsyf, \n",
      "                                        printOutput = False, seed = i))\n",
      "\n",
      "            multiRunResults.append(ppl.convertRunsToMeanStdAddInfo(pd.DataFrame(resN),clf,clf_name,num_runs,modelGrade,\n",
      "                                                                   patsyf, imp))\n",
      "\n",
      "    "
     ],
     "language": "python",
     "metadata": {},
     "outputs": [
      {
       "output_type": "stream",
       "stream": "stdout",
       "text": [
        "Classifier: RF100\n",
        "Patsy Function Name: f_D\n",
        "Patsy Function: \n",
        "    fail_to_finish_high_school_in_4_years ~ C(school_code_8th_grade) +\n",
        "    C(eds_8th_grade) + C(swd_8th_grade) + C(lep_8th_grade) + C(sex_8th_grade) + C(ethnic_8th_grade) + \n",
        "    C(CITY_8th_grade) + C(ZIP_8th_grade)\n",
        "    \n",
        "Imputation type: imputeWithMedianOrMode\n",
        "Run #: 25"
       ]
      },
      {
       "output_type": "stream",
       "stream": "stdout",
       "text": [
        "\n",
        "Run #: 50"
       ]
      },
      {
       "output_type": "stream",
       "stream": "stdout",
       "text": [
        "\n",
        "Run #: 75"
       ]
      },
      {
       "output_type": "stream",
       "stream": "stdout",
       "text": [
        "\n",
        "Run #: 100"
       ]
      },
      {
       "output_type": "stream",
       "stream": "stdout",
       "text": [
        "\n",
        "Imputation type: imputeWithEmpDraws"
       ]
      },
      {
       "output_type": "stream",
       "stream": "stdout",
       "text": [
        "\n",
        "Run #: 25"
       ]
      },
      {
       "output_type": "stream",
       "stream": "stdout",
       "text": [
        "\n",
        "Run #: 50"
       ]
      },
      {
       "output_type": "stream",
       "stream": "stdout",
       "text": [
        "\n",
        "Run #: 75"
       ]
      },
      {
       "output_type": "stream",
       "stream": "stdout",
       "text": [
        "\n",
        "Run #: 100"
       ]
      },
      {
       "output_type": "stream",
       "stream": "stdout",
       "text": [
        "\n",
        "Imputation type: imputeWithNegOne"
       ]
      },
      {
       "output_type": "stream",
       "stream": "stdout",
       "text": [
        "\n",
        "Run #: 25"
       ]
      },
      {
       "output_type": "stream",
       "stream": "stdout",
       "text": [
        "\n",
        "Run #: 50"
       ]
      },
      {
       "output_type": "stream",
       "stream": "stdout",
       "text": [
        "\n",
        "Run #: 75"
       ]
      },
      {
       "output_type": "stream",
       "stream": "stdout",
       "text": [
        "\n",
        "Run #: 100"
       ]
      },
      {
       "output_type": "stream",
       "stream": "stdout",
       "text": [
        "\n",
        "Patsy Function Name: f_TN"
       ]
      },
      {
       "output_type": "stream",
       "stream": "stdout",
       "text": [
        "\n",
        "Patsy Function: \n",
        "    fail_to_finish_high_school_in_4_years ~ GPA_Science_8th_grade + GPA_8th_grade + GPA_SocSci_8th_grade + \n",
        "    GPA_Math_8th_grade + exc_abs_8th_grade + unexc_abs_8th_grade + GPA_ENG_8th_grade\n",
        "    \n",
        "Imputation type: imputeWithMedianOrMode\n",
        "Run #: 25"
       ]
      },
      {
       "output_type": "stream",
       "stream": "stdout",
       "text": [
        "\n",
        "Run #: 50"
       ]
      },
      {
       "output_type": "stream",
       "stream": "stdout",
       "text": [
        "\n",
        "Run #: 75"
       ]
      },
      {
       "output_type": "stream",
       "stream": "stdout",
       "text": [
        "\n",
        "Run #: 100"
       ]
      },
      {
       "output_type": "stream",
       "stream": "stdout",
       "text": [
        "\n",
        "Imputation type: imputeWithEmpDraws"
       ]
      },
      {
       "output_type": "stream",
       "stream": "stdout",
       "text": [
        "\n",
        "Run #: 25"
       ]
      },
      {
       "output_type": "stream",
       "stream": "stdout",
       "text": [
        "\n",
        "Run #: 50"
       ]
      },
      {
       "output_type": "stream",
       "stream": "stdout",
       "text": [
        "\n",
        "Run #: 75"
       ]
      },
      {
       "output_type": "stream",
       "stream": "stdout",
       "text": [
        "\n",
        "Run #: 100"
       ]
      },
      {
       "output_type": "stream",
       "stream": "stdout",
       "text": [
        "\n",
        "Imputation type: imputeWithNegOne"
       ]
      },
      {
       "output_type": "stream",
       "stream": "stdout",
       "text": [
        "\n",
        "Run #: 25"
       ]
      },
      {
       "output_type": "stream",
       "stream": "stdout",
       "text": [
        "\n",
        "Run #: 50"
       ]
      },
      {
       "output_type": "stream",
       "stream": "stdout",
       "text": [
        "\n",
        "Run #: 75"
       ]
      },
      {
       "output_type": "stream",
       "stream": "stdout",
       "text": [
        "\n",
        "Run #: 100"
       ]
      },
      {
       "output_type": "stream",
       "stream": "stdout",
       "text": [
        "\n",
        "Patsy Function Name: f_TN_D"
       ]
      },
      {
       "output_type": "stream",
       "stream": "stdout",
       "text": [
        "\n",
        "Patsy Function: \n",
        "    fail_to_finish_high_school_in_4_years ~ GPA_Science_8th_grade + GPA_8th_grade + GPA_SocSci_8th_grade + \n",
        "    GPA_Math_8th_grade + exc_abs_8th_grade + unexc_abs_8th_grade + GPA_ENG_8th_grade + \n",
        "    C(school_code_8th_grade) + C(eds_8th_grade) + C(swd_8th_grade) + C(lep_8th_grade) + C(sex_8th_grade) + \n",
        "    C(ethnic_8th_grade) + C(CITY_8th_grade) + C(ZIP_8th_grade)\n",
        "    \n",
        "Imputation type: imputeWithMedianOrMode\n",
        "Run #: 25"
       ]
      },
      {
       "output_type": "stream",
       "stream": "stdout",
       "text": [
        "\n",
        "Run #: 50"
       ]
      },
      {
       "output_type": "stream",
       "stream": "stdout",
       "text": [
        "\n",
        "Run #: 75"
       ]
      },
      {
       "output_type": "stream",
       "stream": "stdout",
       "text": [
        "\n",
        "Run #: 100"
       ]
      },
      {
       "output_type": "stream",
       "stream": "stdout",
       "text": [
        "\n",
        "Imputation type: imputeWithEmpDraws"
       ]
      },
      {
       "output_type": "stream",
       "stream": "stdout",
       "text": [
        "\n",
        "Run #: 25"
       ]
      },
      {
       "output_type": "stream",
       "stream": "stdout",
       "text": [
        "\n",
        "Run #: 50"
       ]
      },
      {
       "output_type": "stream",
       "stream": "stdout",
       "text": [
        "\n",
        "Run #: 75"
       ]
      },
      {
       "output_type": "stream",
       "stream": "stdout",
       "text": [
        "\n",
        "Run #: 100"
       ]
      },
      {
       "output_type": "stream",
       "stream": "stdout",
       "text": [
        "\n",
        "Imputation type: imputeWithNegOne"
       ]
      },
      {
       "output_type": "stream",
       "stream": "stdout",
       "text": [
        "\n",
        "Run #: 25"
       ]
      },
      {
       "output_type": "stream",
       "stream": "stdout",
       "text": [
        "\n",
        "Run #: 50"
       ]
      },
      {
       "output_type": "stream",
       "stream": "stdout",
       "text": [
        "\n",
        "Run #: 75"
       ]
      },
      {
       "output_type": "stream",
       "stream": "stdout",
       "text": [
        "\n",
        "Run #: 100"
       ]
      },
      {
       "output_type": "stream",
       "stream": "stdout",
       "text": [
        "\n",
        "Patsy Function Name: f_AN_D"
       ]
      },
      {
       "output_type": "stream",
       "stream": "stdout",
       "text": [
        "\n",
        "Patsy Function: \n",
        "    fail_to_finish_high_school_in_4_years ~ GPA_Science_8th_grade + GPA_8th_grade + GPA_SocSci_8th_grade + \n",
        "    GPA_Math_8th_grade + exc_abs_8th_grade + unexc_abs_8th_grade + GPA_ENG_8th_grade + \n",
        "    NumAdvanced_8th_grade + Num_Marks_8th_grade + NumAdvanced_SocSci_8th_grade + times_tardy_8th_grade +\n",
        "    Num_Science_8th_grade + Num_SocSci_8th_grade + NumAdvanced_Science_8th_grade + NumAdvanced_ENG_8th_grade +\n",
        "    Num_ENG_8th_grade + Num_Math_8th_grade + NumAdvanced_Math_8th_grade + C(retained_in_8_majority_vote) +\n",
        "    C(school_code_8th_grade) + C(eds_8th_grade) + C(swd_8th_grade) + \n",
        "    C(lep_8th_grade) + C(sex_8th_grade) + C(ethnic_8th_grade) + C(CITY_8th_grade) + C(ZIP_8th_grade)\n",
        "    \n",
        "Imputation type: imputeWithMedianOrMode\n",
        "Run #: 25"
       ]
      },
      {
       "output_type": "stream",
       "stream": "stdout",
       "text": [
        "\n",
        "Run #: 50"
       ]
      },
      {
       "output_type": "stream",
       "stream": "stdout",
       "text": [
        "\n",
        "Run #: 75"
       ]
      },
      {
       "output_type": "stream",
       "stream": "stdout",
       "text": [
        "\n",
        "Run #: 100"
       ]
      },
      {
       "output_type": "stream",
       "stream": "stdout",
       "text": [
        "\n",
        "Imputation type: imputeWithEmpDraws"
       ]
      },
      {
       "output_type": "stream",
       "stream": "stdout",
       "text": [
        "\n",
        "Run #: 25"
       ]
      },
      {
       "output_type": "stream",
       "stream": "stdout",
       "text": [
        "\n",
        "Run #: 50"
       ]
      },
      {
       "output_type": "stream",
       "stream": "stdout",
       "text": [
        "\n",
        "Run #: 75"
       ]
      },
      {
       "output_type": "stream",
       "stream": "stdout",
       "text": [
        "\n",
        "Run #: 100"
       ]
      },
      {
       "output_type": "stream",
       "stream": "stdout",
       "text": [
        "\n",
        "Imputation type: imputeWithNegOne"
       ]
      },
      {
       "output_type": "stream",
       "stream": "stdout",
       "text": [
        "\n",
        "Run #: 25"
       ]
      },
      {
       "output_type": "stream",
       "stream": "stdout",
       "text": [
        "\n",
        "Run #: 50"
       ]
      },
      {
       "output_type": "stream",
       "stream": "stdout",
       "text": [
        "\n",
        "Run #: 75"
       ]
      },
      {
       "output_type": "stream",
       "stream": "stdout",
       "text": [
        "\n",
        "Run #: 100"
       ]
      },
      {
       "output_type": "stream",
       "stream": "stdout",
       "text": [
        "\n",
        "Patsy Function Name: f_AN_D_ANXD"
       ]
      },
      {
       "output_type": "stream",
       "stream": "stdout",
       "text": [
        "\n",
        "Patsy Function: \n",
        "    fail_to_finish_high_school_in_4_years ~ (GPA_Science_8th_grade + GPA_8th_grade + GPA_SocSci_8th_grade + \n",
        "    GPA_Math_8th_grade + exc_abs_8th_grade + unexc_abs_8th_grade + GPA_ENG_8th_grade + \n",
        "    NumAdvanced_8th_grade + Num_Marks_8th_grade + NumAdvanced_SocSci_8th_grade + times_tardy_8th_grade +\n",
        "    Num_Science_8th_grade + Num_SocSci_8th_grade + NumAdvanced_Science_8th_grade + NumAdvanced_ENG_8th_grade +\n",
        "    Num_ENG_8th_grade + Num_Math_8th_grade + NumAdvanced_Math_8th_grade + C(retained_in_8_majority_vote)) *\n",
        "    (C(school_code_8th_grade) + C(eds_8th_grade) + C(swd_8th_grade) + \n",
        "    C(lep_8th_grade) + C(sex_8th_grade) + C(ethnic_8th_grade) + C(CITY_8th_grade) + C(ZIP_8th_grade))\n",
        "    \n",
        "Imputation type: imputeWithMedianOrMode\n",
        "Run #: 25"
       ]
      },
      {
       "output_type": "stream",
       "stream": "stdout",
       "text": [
        "\n",
        "Run #: 50"
       ]
      },
      {
       "output_type": "stream",
       "stream": "stdout",
       "text": [
        "\n",
        "Run #: 75"
       ]
      },
      {
       "output_type": "stream",
       "stream": "stdout",
       "text": [
        "\n",
        "Run #: 100"
       ]
      },
      {
       "output_type": "stream",
       "stream": "stdout",
       "text": [
        "\n",
        "Imputation type: imputeWithEmpDraws"
       ]
      },
      {
       "output_type": "stream",
       "stream": "stdout",
       "text": [
        "\n",
        "Run #: 25"
       ]
      },
      {
       "output_type": "stream",
       "stream": "stdout",
       "text": [
        "\n",
        "Run #: 50"
       ]
      },
      {
       "output_type": "stream",
       "stream": "stdout",
       "text": [
        "\n",
        "Run #: 75"
       ]
      },
      {
       "output_type": "stream",
       "stream": "stdout",
       "text": [
        "\n",
        "Run #: 100"
       ]
      },
      {
       "output_type": "stream",
       "stream": "stdout",
       "text": [
        "\n",
        "Imputation type: imputeWithNegOne"
       ]
      },
      {
       "output_type": "stream",
       "stream": "stdout",
       "text": [
        "\n",
        "Run #: 25"
       ]
      },
      {
       "output_type": "stream",
       "stream": "stdout",
       "text": [
        "\n",
        "Run #: 50"
       ]
      },
      {
       "output_type": "stream",
       "stream": "stdout",
       "text": [
        "\n",
        "Run #: 75"
       ]
      },
      {
       "output_type": "stream",
       "stream": "stdout",
       "text": [
        "\n",
        "Run #: 100"
       ]
      },
      {
       "output_type": "stream",
       "stream": "stdout",
       "text": [
        "\n",
        "Patsy Function Name: f_AN_D_ANXD_DbXDc"
       ]
      },
      {
       "output_type": "stream",
       "stream": "stdout",
       "text": [
        "\n",
        "Patsy Function: \n",
        "    fail_to_finish_high_school_in_4_years ~ (GPA_Science_8th_grade + GPA_8th_grade + GPA_SocSci_8th_grade + \n",
        "    GPA_Math_8th_grade + exc_abs_8th_grade + unexc_abs_8th_grade + GPA_ENG_8th_grade + \n",
        "    NumAdvanced_8th_grade + Num_Marks_8th_grade + NumAdvanced_SocSci_8th_grade + times_tardy_8th_grade +\n",
        "    Num_Science_8th_grade + Num_SocSci_8th_grade + NumAdvanced_Science_8th_grade + NumAdvanced_ENG_8th_grade +\n",
        "    Num_ENG_8th_grade + Num_Math_8th_grade + NumAdvanced_Math_8th_grade + C(retained_in_8_majority_vote)) *\n",
        "    (C(school_code_8th_grade) + C(eds_8th_grade) + C(swd_8th_grade) + \n",
        "    C(lep_8th_grade) + C(sex_8th_grade) + C(ethnic_8th_grade) + C(CITY_8th_grade)) + \n",
        "    (C(eds_8th_grade) + C(swd_8th_grade) + C(lep_8th_grade) + C(sex_8th_grade)) : \n",
        "    (C(ethnic_8th_grade) + C(CITY_8th_grade) + C(school_code_8th_grade) + C(ZIP_8th_grade))\n",
        "    \n",
        "Imputation type: imputeWithMedianOrMode\n",
        "Run #: 25"
       ]
      },
      {
       "output_type": "stream",
       "stream": "stdout",
       "text": [
        "\n",
        "Run #: 50"
       ]
      },
      {
       "output_type": "stream",
       "stream": "stdout",
       "text": [
        "\n",
        "Run #: 75"
       ]
      },
      {
       "output_type": "stream",
       "stream": "stdout",
       "text": [
        "\n",
        "Run #: 100"
       ]
      },
      {
       "output_type": "stream",
       "stream": "stdout",
       "text": [
        "\n",
        "Imputation type: imputeWithEmpDraws"
       ]
      },
      {
       "output_type": "stream",
       "stream": "stdout",
       "text": [
        "\n",
        "Run #: 25"
       ]
      },
      {
       "output_type": "stream",
       "stream": "stdout",
       "text": [
        "\n",
        "Run #: 50"
       ]
      },
      {
       "output_type": "stream",
       "stream": "stdout",
       "text": [
        "\n",
        "Run #: 75"
       ]
      },
      {
       "output_type": "stream",
       "stream": "stdout",
       "text": [
        "\n",
        "Run #: 100"
       ]
      },
      {
       "output_type": "stream",
       "stream": "stdout",
       "text": [
        "\n",
        "Imputation type: imputeWithNegOne"
       ]
      },
      {
       "output_type": "stream",
       "stream": "stdout",
       "text": [
        "\n",
        "Run #: 25"
       ]
      },
      {
       "output_type": "stream",
       "stream": "stdout",
       "text": [
        "\n",
        "Run #: 50"
       ]
      },
      {
       "output_type": "stream",
       "stream": "stdout",
       "text": [
        "\n",
        "Run #: 75"
       ]
      },
      {
       "output_type": "stream",
       "stream": "stdout",
       "text": [
        "\n",
        "Run #: 100"
       ]
      },
      {
       "output_type": "stream",
       "stream": "stdout",
       "text": [
        "\n",
        "Patsy Function Name: f_AN_D_ANqXD"
       ]
      },
      {
       "output_type": "stream",
       "stream": "stdout",
       "text": [
        "\n",
        "Patsy Function: \n",
        "    fail_to_finish_high_school_in_4_years ~ (GPA_Science_8th_grade + GPA_8th_grade + GPA_SocSci_8th_grade + \n",
        "    GPA_Math_8th_grade + exc_abs_8th_grade + unexc_abs_8th_grade + GPA_ENG_8th_grade + \n",
        "    NumAdvanced_8th_grade + Num_Marks_8th_grade + NumAdvanced_SocSci_8th_grade + times_tardy_8th_grade +\n",
        "    Num_Science_8th_grade + Num_SocSci_8th_grade + NumAdvanced_Science_8th_grade + NumAdvanced_ENG_8th_grade +\n",
        "    Num_ENG_8th_grade + Num_Math_8th_grade + NumAdvanced_Math_8th_grade + C(retained_in_8_majority_vote)) +\n",
        "    (GPA_Science_8th_gradeQ + GPA_8th_gradeQ + GPA_SocSci_8th_gradeQ + GPA_Math_8th_gradeQ + exc_abs_8th_gradeQ +\n",
        "    unexc_abs_8th_gradeQ + GPA_ENG_8th_gradeQ)*\n",
        "    (C(school_code_8th_grade) + C(eds_8th_grade) + C(swd_8th_grade) + \n",
        "    C(lep_8th_grade) + C(sex_8th_grade) + C(ethnic_8th_grade) + C(CITY_8th_grade) + C(ZIP_8th_grade))\n",
        "    \n",
        "Imputation type: imputeWithMedianOrMode\n",
        "Run #: 25"
       ]
      },
      {
       "output_type": "stream",
       "stream": "stdout",
       "text": [
        "\n",
        "Run #: 50"
       ]
      },
      {
       "output_type": "stream",
       "stream": "stdout",
       "text": [
        "\n",
        "Run #: 75"
       ]
      },
      {
       "output_type": "stream",
       "stream": "stdout",
       "text": [
        "\n",
        "Run #: 100"
       ]
      },
      {
       "output_type": "stream",
       "stream": "stdout",
       "text": [
        "\n",
        "Imputation type: imputeWithEmpDraws"
       ]
      },
      {
       "output_type": "stream",
       "stream": "stdout",
       "text": [
        "\n",
        "Run #: 25"
       ]
      },
      {
       "output_type": "stream",
       "stream": "stdout",
       "text": [
        "\n",
        "Run #: 50"
       ]
      },
      {
       "output_type": "stream",
       "stream": "stdout",
       "text": [
        "\n",
        "Run #: 75"
       ]
      },
      {
       "output_type": "stream",
       "stream": "stdout",
       "text": [
        "\n",
        "Run #: 100"
       ]
      },
      {
       "output_type": "stream",
       "stream": "stdout",
       "text": [
        "\n",
        "Imputation type: imputeWithNegOne"
       ]
      },
      {
       "output_type": "stream",
       "stream": "stdout",
       "text": [
        "\n",
        "Run #: 25"
       ]
      },
      {
       "output_type": "stream",
       "stream": "stdout",
       "text": [
        "\n",
        "Run #: 50"
       ]
      },
      {
       "output_type": "stream",
       "stream": "stdout",
       "text": [
        "\n",
        "Run #: 75"
       ]
      },
      {
       "output_type": "stream",
       "stream": "stdout",
       "text": [
        "\n",
        "Run #: 100"
       ]
      },
      {
       "output_type": "stream",
       "stream": "stdout",
       "text": [
        "\n",
        "Patsy Function Name: f_AN_D_ANqXD_DbXDc"
       ]
      },
      {
       "output_type": "stream",
       "stream": "stdout",
       "text": [
        "\n",
        "Patsy Function: \n",
        "    fail_to_finish_high_school_in_4_years ~ (GPA_Science_8th_grade + GPA_8th_grade + GPA_SocSci_8th_grade + \n",
        "    GPA_Math_8th_grade + exc_abs_8th_grade + unexc_abs_8th_grade + GPA_ENG_8th_grade + \n",
        "    NumAdvanced_8th_grade + Num_Marks_8th_grade + NumAdvanced_SocSci_8th_grade + times_tardy_8th_grade +\n",
        "    Num_Science_8th_grade + Num_SocSci_8th_grade + NumAdvanced_Science_8th_grade + NumAdvanced_ENG_8th_grade +\n",
        "    Num_ENG_8th_grade + Num_Math_8th_grade + NumAdvanced_Math_8th_grade + C(retained_in_8_majority_vote)) +\n",
        "    (GPA_Science_8th_gradeQ + GPA_8th_gradeQ + GPA_SocSci_8th_gradeQ + GPA_Math_8th_gradeQ + exc_abs_8th_gradeQ +\n",
        "    unexc_abs_8th_gradeQ + GPA_ENG_8th_gradeQ) *\n",
        "    (C(school_code_8th_grade) + C(eds_8th_grade) + C(swd_8th_grade) + \n",
        "    C(lep_8th_grade) + C(sex_8th_grade) + C(ethnic_8th_grade) + C(CITY_8th_grade) + C(ZIP_8th_grade)) + \n",
        "    (C(eds_8th_grade) + C(swd_8th_grade) + C(lep_8th_grade) + C(sex_8th_grade)) : \n",
        "    (C(ethnic_8th_grade) + C(CITY_8th_grade) + C(school_code_8th_grade) + C(ZIP_8th_grade))\n",
        "    \n",
        "Imputation type: imputeWithMedianOrMode\n",
        "Run #: 25"
       ]
      },
      {
       "output_type": "stream",
       "stream": "stdout",
       "text": [
        "\n",
        "Run #: 50"
       ]
      },
      {
       "output_type": "stream",
       "stream": "stdout",
       "text": [
        "\n",
        "Run #: 75"
       ]
      },
      {
       "output_type": "stream",
       "stream": "stdout",
       "text": [
        "\n",
        "Run #: 100"
       ]
      },
      {
       "output_type": "stream",
       "stream": "stdout",
       "text": [
        "\n",
        "Imputation type: imputeWithEmpDraws"
       ]
      },
      {
       "output_type": "stream",
       "stream": "stdout",
       "text": [
        "\n",
        "Run #: 25"
       ]
      },
      {
       "output_type": "stream",
       "stream": "stdout",
       "text": [
        "\n",
        "Run #: 50"
       ]
      },
      {
       "output_type": "stream",
       "stream": "stdout",
       "text": [
        "\n",
        "Run #: 75"
       ]
      },
      {
       "output_type": "stream",
       "stream": "stdout",
       "text": [
        "\n",
        "Run #: 100"
       ]
      },
      {
       "output_type": "stream",
       "stream": "stdout",
       "text": [
        "\n",
        "Imputation type: imputeWithNegOne"
       ]
      },
      {
       "output_type": "stream",
       "stream": "stdout",
       "text": [
        "\n",
        "Run #: 25"
       ]
      },
      {
       "output_type": "stream",
       "stream": "stdout",
       "text": [
        "\n",
        "Run #: 50"
       ]
      },
      {
       "output_type": "stream",
       "stream": "stdout",
       "text": [
        "\n",
        "Run #: 75"
       ]
      },
      {
       "output_type": "stream",
       "stream": "stdout",
       "text": [
        "\n",
        "Run #: 100"
       ]
      },
      {
       "output_type": "stream",
       "stream": "stdout",
       "text": [
        "\n"
       ]
      }
     ],
     "prompt_number": 15
    },
    {
     "cell_type": "code",
     "collapsed": false,
     "input": [
      "MRdfRF100 = pd.DataFrame(multiRunResults)"
     ],
     "language": "python",
     "metadata": {},
     "outputs": [],
     "prompt_number": 25
    },
    {
     "cell_type": "code",
     "collapsed": false,
     "input": [
      "MRdfRF100"
     ],
     "language": "python",
     "metadata": {},
     "outputs": [
      {
       "html": [
        "<div style=\"max-height:1000px;max-width:1500px;overflow:auto;\">\n",
        "<table border=\"1\" class=\"dataframe\">\n",
        "  <thead>\n",
        "    <tr style=\"text-align: right;\">\n",
        "      <th></th>\n",
        "      <th>Prec_Top_100_mean</th>\n",
        "      <th>Prec_Top_100_std</th>\n",
        "      <th>Prec_Top_10perc_mean</th>\n",
        "      <th>Prec_Top_10perc_std</th>\n",
        "      <th>Prec_Top_200_mean</th>\n",
        "      <th>Prec_Top_200_std</th>\n",
        "      <th>Prec_Top_20perc_mean</th>\n",
        "      <th>Prec_Top_20perc_std</th>\n",
        "      <th>Prec_Top_30_mean</th>\n",
        "      <th>Prec_Top_30_std</th>\n",
        "      <th>...</th>\n",
        "      <th>num_features</th>\n",
        "      <th>num_runs</th>\n",
        "      <th>patsyf</th>\n",
        "      <th>pr_auc_mean</th>\n",
        "      <th>pr_auc_std</th>\n",
        "      <th>pred_probas_mean</th>\n",
        "      <th>pred_probas_std</th>\n",
        "      <th>roc_auc_mean</th>\n",
        "      <th>roc_auc_std</th>\n",
        "      <th>timestamp</th>\n",
        "    </tr>\n",
        "  </thead>\n",
        "  <tbody>\n",
        "    <tr>\n",
        "      <th>0 </th>\n",
        "      <td> 55.80</td>\n",
        "      <td> 3.271085</td>\n",
        "      <td> 48.7000</td>\n",
        "      <td> 0.738207</td>\n",
        "      <td> 46.400</td>\n",
        "      <td> 0.651920</td>\n",
        "      <td> 34.6340</td>\n",
        "      <td> 0.158840</td>\n",
        "      <td> 72.6680</td>\n",
        "      <td> 4.346392</td>\n",
        "      <td>...</td>\n",
        "      <td>   52</td>\n",
        "      <td>   5</td>\n",
        "      <td> \\n    fail_to_finish_high_school_in_4_years ~ ...</td>\n",
        "      <td> 0.452710</td>\n",
        "      <td> 0.010655</td>\n",
        "      <td> 0     0.050\n",
        "1     0.066\n",
        "2     0.094\n",
        "3     0.03...</td>\n",
        "      <td> 0     0.030000\n",
        "1     0.018166\n",
        "2     0.016733\n",
        "3...</td>\n",
        "      <td> 0.822395</td>\n",
        "      <td> 0.006358</td>\n",
        "      <td>2014-12-16 17:47:10.082356</td>\n",
        "    </tr>\n",
        "    <tr>\n",
        "      <th>1 </th>\n",
        "      <td> 29.53</td>\n",
        "      <td> 1.811607</td>\n",
        "      <td> 27.0954</td>\n",
        "      <td> 0.802397</td>\n",
        "      <td> 26.245</td>\n",
        "      <td> 0.799289</td>\n",
        "      <td> 24.1951</td>\n",
        "      <td> 0.663901</td>\n",
        "      <td> 29.5668</td>\n",
        "      <td> 2.944246</td>\n",
        "      <td>...</td>\n",
        "      <td>   45</td>\n",
        "      <td> 100</td>\n",
        "      <td> \\n    fail_to_finish_high_school_in_4_years ~ ...</td>\n",
        "      <td> 0.201095</td>\n",
        "      <td> 0.003131</td>\n",
        "      <td> 0     0.023771\n",
        "1     0.332702\n",
        "2     0.002173\n",
        "3...</td>\n",
        "      <td> 0     0.001779\n",
        "1     0.015325\n",
        "2     0.003633\n",
        "3...</td>\n",
        "      <td> 0.635148</td>\n",
        "      <td> 0.003283</td>\n",
        "      <td>2014-12-16 17:55:58.300549</td>\n",
        "    </tr>\n",
        "    <tr>\n",
        "      <th>2 </th>\n",
        "      <td> 29.53</td>\n",
        "      <td> 1.811607</td>\n",
        "      <td> 27.0954</td>\n",
        "      <td> 0.802397</td>\n",
        "      <td> 26.245</td>\n",
        "      <td> 0.799289</td>\n",
        "      <td> 24.1951</td>\n",
        "      <td> 0.663901</td>\n",
        "      <td> 29.5668</td>\n",
        "      <td> 2.944246</td>\n",
        "      <td>...</td>\n",
        "      <td>   45</td>\n",
        "      <td> 100</td>\n",
        "      <td> \\n    fail_to_finish_high_school_in_4_years ~ ...</td>\n",
        "      <td> 0.201095</td>\n",
        "      <td> 0.003131</td>\n",
        "      <td> 0     0.023771\n",
        "1     0.332702\n",
        "2     0.002173\n",
        "3...</td>\n",
        "      <td> 0     0.001779\n",
        "1     0.015325\n",
        "2     0.003633\n",
        "3...</td>\n",
        "      <td> 0.635148</td>\n",
        "      <td> 0.003283</td>\n",
        "      <td>2014-12-16 17:58:26.910085</td>\n",
        "    </tr>\n",
        "    <tr>\n",
        "      <th>3 </th>\n",
        "      <td> 29.53</td>\n",
        "      <td> 1.811607</td>\n",
        "      <td> 27.0954</td>\n",
        "      <td> 0.802397</td>\n",
        "      <td> 26.245</td>\n",
        "      <td> 0.799289</td>\n",
        "      <td> 24.1951</td>\n",
        "      <td> 0.663901</td>\n",
        "      <td> 29.5668</td>\n",
        "      <td> 2.944246</td>\n",
        "      <td>...</td>\n",
        "      <td>   45</td>\n",
        "      <td> 100</td>\n",
        "      <td> \\n    fail_to_finish_high_school_in_4_years ~ ...</td>\n",
        "      <td> 0.201095</td>\n",
        "      <td> 0.003131</td>\n",
        "      <td> 0     0.023771\n",
        "1     0.332702\n",
        "2     0.002173\n",
        "3...</td>\n",
        "      <td> 0     0.001779\n",
        "1     0.015325\n",
        "2     0.003633\n",
        "3...</td>\n",
        "      <td> 0.635148</td>\n",
        "      <td> 0.003283</td>\n",
        "      <td>2014-12-16 18:00:00.146729</td>\n",
        "    </tr>\n",
        "    <tr>\n",
        "      <th>4 </th>\n",
        "      <td> 57.47</td>\n",
        "      <td> 1.731788</td>\n",
        "      <td> 47.0785</td>\n",
        "      <td> 1.133097</td>\n",
        "      <td> 45.240</td>\n",
        "      <td> 1.048038</td>\n",
        "      <td> 33.6332</td>\n",
        "      <td> 0.507240</td>\n",
        "      <td> 74.4996</td>\n",
        "      <td> 4.675538</td>\n",
        "      <td>...</td>\n",
        "      <td>    8</td>\n",
        "      <td> 100</td>\n",
        "      <td> \\n    fail_to_finish_high_school_in_4_years ~ ...</td>\n",
        "      <td> 0.451788</td>\n",
        "      <td> 0.008799</td>\n",
        "      <td> 0     0.1017\n",
        "1     0.0742\n",
        "2     0.1457\n",
        "3     0...</td>\n",
        "      <td> 0     0.029407\n",
        "1     0.028610\n",
        "2     0.032976\n",
        "3...</td>\n",
        "      <td> 0.816983</td>\n",
        "      <td> 0.003438</td>\n",
        "      <td>2014-12-16 18:01:27.238225</td>\n",
        "    </tr>\n",
        "    <tr>\n",
        "      <th>5 </th>\n",
        "      <td> 57.44</td>\n",
        "      <td> 1.913904</td>\n",
        "      <td> 46.4576</td>\n",
        "      <td> 1.203910</td>\n",
        "      <td> 44.650</td>\n",
        "      <td> 1.090593</td>\n",
        "      <td> 33.9611</td>\n",
        "      <td> 0.687100</td>\n",
        "      <td> 75.3335</td>\n",
        "      <td> 4.877812</td>\n",
        "      <td>...</td>\n",
        "      <td>    8</td>\n",
        "      <td> 100</td>\n",
        "      <td> \\n    fail_to_finish_high_school_in_4_years ~ ...</td>\n",
        "      <td> 0.452421</td>\n",
        "      <td> 0.008812</td>\n",
        "      <td> 0     0.0968\n",
        "1     0.0774\n",
        "2     0.1396\n",
        "3     0...</td>\n",
        "      <td> 0     0.029332\n",
        "1     0.029631\n",
        "2     0.036651\n",
        "3...</td>\n",
        "      <td> 0.819061</td>\n",
        "      <td> 0.003606</td>\n",
        "      <td>2014-12-16 18:03:30.613147</td>\n",
        "    </tr>\n",
        "    <tr>\n",
        "      <th>6 </th>\n",
        "      <td> 57.40</td>\n",
        "      <td> 1.792239</td>\n",
        "      <td> 47.7962</td>\n",
        "      <td> 1.269961</td>\n",
        "      <td> 45.400</td>\n",
        "      <td> 1.125912</td>\n",
        "      <td> 34.8246</td>\n",
        "      <td> 0.642444</td>\n",
        "      <td> 73.5333</td>\n",
        "      <td> 4.588941</td>\n",
        "      <td>...</td>\n",
        "      <td>    8</td>\n",
        "      <td> 100</td>\n",
        "      <td> \\n    fail_to_finish_high_school_in_4_years ~ ...</td>\n",
        "      <td> 0.449511</td>\n",
        "      <td> 0.007612</td>\n",
        "      <td> 0     0.1277\n",
        "1     0.1287\n",
        "2     0.1124\n",
        "3     0...</td>\n",
        "      <td> 0     0.033055\n",
        "1     0.032988\n",
        "2     0.033124\n",
        "3...</td>\n",
        "      <td> 0.820731</td>\n",
        "      <td> 0.003155</td>\n",
        "      <td>2014-12-16 18:04:35.843098</td>\n",
        "    </tr>\n",
        "    <tr>\n",
        "      <th>7 </th>\n",
        "      <td> 56.14</td>\n",
        "      <td> 1.901727</td>\n",
        "      <td> 49.1642</td>\n",
        "      <td> 1.199996</td>\n",
        "      <td> 46.645</td>\n",
        "      <td> 1.078474</td>\n",
        "      <td> 35.0996</td>\n",
        "      <td> 0.558284</td>\n",
        "      <td> 68.8671</td>\n",
        "      <td> 3.796728</td>\n",
        "      <td>...</td>\n",
        "      <td>   52</td>\n",
        "      <td> 100</td>\n",
        "      <td> \\n    fail_to_finish_high_school_in_4_years ~ ...</td>\n",
        "      <td> 0.450053</td>\n",
        "      <td> 0.006868</td>\n",
        "      <td> 0     0.0490\n",
        "1     0.0714\n",
        "2     0.1333\n",
        "3     0...</td>\n",
        "      <td> 0     0.021812\n",
        "1     0.025307\n",
        "2     0.034054\n",
        "3...</td>\n",
        "      <td> 0.822125</td>\n",
        "      <td> 0.003964</td>\n",
        "      <td>2014-12-16 18:06:26.543720</td>\n",
        "    </tr>\n",
        "    <tr>\n",
        "      <th>8 </th>\n",
        "      <td> 56.63</td>\n",
        "      <td> 1.905097</td>\n",
        "      <td> 49.3389</td>\n",
        "      <td> 1.171952</td>\n",
        "      <td> 46.685</td>\n",
        "      <td> 1.086313</td>\n",
        "      <td> 34.9502</td>\n",
        "      <td> 0.690750</td>\n",
        "      <td> 67.9337</td>\n",
        "      <td> 4.257636</td>\n",
        "      <td>...</td>\n",
        "      <td>   52</td>\n",
        "      <td> 100</td>\n",
        "      <td> \\n    fail_to_finish_high_school_in_4_years ~ ...</td>\n",
        "      <td> 0.450881</td>\n",
        "      <td> 0.007022</td>\n",
        "      <td> 0     0.0514\n",
        "1     0.0747\n",
        "2     0.1296\n",
        "3     0...</td>\n",
        "      <td> 0     0.023226\n",
        "1     0.029179\n",
        "2     0.037817\n",
        "3...</td>\n",
        "      <td> 0.824106</td>\n",
        "      <td> 0.004490</td>\n",
        "      <td>2014-12-16 18:08:53.711117</td>\n",
        "    </tr>\n",
        "    <tr>\n",
        "      <th>9 </th>\n",
        "      <td> 57.72</td>\n",
        "      <td> 2.005447</td>\n",
        "      <td> 49.8247</td>\n",
        "      <td> 1.176413</td>\n",
        "      <td> 47.205</td>\n",
        "      <td> 0.992637</td>\n",
        "      <td> 34.8937</td>\n",
        "      <td> 0.644665</td>\n",
        "      <td> 69.8666</td>\n",
        "      <td> 4.017497</td>\n",
        "      <td>...</td>\n",
        "      <td>   52</td>\n",
        "      <td> 100</td>\n",
        "      <td> \\n    fail_to_finish_high_school_in_4_years ~ ...</td>\n",
        "      <td> 0.451100</td>\n",
        "      <td> 0.008542</td>\n",
        "      <td> 0     0.0590\n",
        "1     0.1047\n",
        "2     0.1199\n",
        "3     0...</td>\n",
        "      <td> 0     0.022808\n",
        "1     0.032395\n",
        "2     0.036722\n",
        "3...</td>\n",
        "      <td> 0.823979</td>\n",
        "      <td> 0.003767</td>\n",
        "      <td>2014-12-16 18:10:24.234854</td>\n",
        "    </tr>\n",
        "    <tr>\n",
        "      <th>10</th>\n",
        "      <td> 58.78</td>\n",
        "      <td> 2.134753</td>\n",
        "      <td> 50.5537</td>\n",
        "      <td> 1.093693</td>\n",
        "      <td> 48.100</td>\n",
        "      <td> 1.103255</td>\n",
        "      <td> 35.4213</td>\n",
        "      <td> 0.640022</td>\n",
        "      <td> 73.9334</td>\n",
        "      <td> 3.860464</td>\n",
        "      <td>...</td>\n",
        "      <td>   64</td>\n",
        "      <td> 100</td>\n",
        "      <td> \\n    fail_to_finish_high_school_in_4_years ~ ...</td>\n",
        "      <td> 0.471009</td>\n",
        "      <td> 0.008391</td>\n",
        "      <td> 0     0.0509\n",
        "1     0.0551\n",
        "2     0.1098\n",
        "3     0...</td>\n",
        "      <td> 0     0.022297\n",
        "1     0.023203\n",
        "2     0.029232\n",
        "3...</td>\n",
        "      <td> 0.828014</td>\n",
        "      <td> 0.004011</td>\n",
        "      <td>2014-12-16 18:12:20.227345</td>\n",
        "    </tr>\n",
        "    <tr>\n",
        "      <th>11</th>\n",
        "      <td> 59.28</td>\n",
        "      <td> 1.902046</td>\n",
        "      <td> 50.6386</td>\n",
        "      <td> 1.326022</td>\n",
        "      <td> 48.030</td>\n",
        "      <td> 1.091334</td>\n",
        "      <td> 35.3477</td>\n",
        "      <td> 0.604792</td>\n",
        "      <td> 73.7002</td>\n",
        "      <td> 4.208334</td>\n",
        "      <td>...</td>\n",
        "      <td>   64</td>\n",
        "      <td> 100</td>\n",
        "      <td> \\n    fail_to_finish_high_school_in_4_years ~ ...</td>\n",
        "      <td> 0.473622</td>\n",
        "      <td> 0.009433</td>\n",
        "      <td> 0     0.0531\n",
        "1     0.0619\n",
        "2     0.1074\n",
        "3     0...</td>\n",
        "      <td> 0     0.020236\n",
        "1     0.023428\n",
        "2     0.029970\n",
        "3...</td>\n",
        "      <td> 0.828422</td>\n",
        "      <td> 0.004124</td>\n",
        "      <td>2014-12-16 18:14:54.708815</td>\n",
        "    </tr>\n",
        "    <tr>\n",
        "      <th>12</th>\n",
        "      <td> 60.20</td>\n",
        "      <td> 1.896302</td>\n",
        "      <td> 50.7911</td>\n",
        "      <td> 1.189610</td>\n",
        "      <td> 48.060</td>\n",
        "      <td> 1.204537</td>\n",
        "      <td> 35.2322</td>\n",
        "      <td> 0.736246</td>\n",
        "      <td> 73.9331</td>\n",
        "      <td> 3.918024</td>\n",
        "      <td>...</td>\n",
        "      <td>   64</td>\n",
        "      <td> 100</td>\n",
        "      <td> \\n    fail_to_finish_high_school_in_4_years ~ ...</td>\n",
        "      <td> 0.471692</td>\n",
        "      <td> 0.008952</td>\n",
        "      <td> 0     0.0622\n",
        "1     0.0903\n",
        "2     0.0900\n",
        "3     0...</td>\n",
        "      <td> 0     0.024478\n",
        "1     0.031122\n",
        "2     0.028356\n",
        "3...</td>\n",
        "      <td> 0.827786</td>\n",
        "      <td> 0.003868</td>\n",
        "      <td>2014-12-16 18:16:30.010169</td>\n",
        "    </tr>\n",
        "    <tr>\n",
        "      <th>13</th>\n",
        "      <td> 59.03</td>\n",
        "      <td> 2.007335</td>\n",
        "      <td> 49.4069</td>\n",
        "      <td> 1.354254</td>\n",
        "      <td> 47.165</td>\n",
        "      <td> 1.132743</td>\n",
        "      <td> 35.4098</td>\n",
        "      <td> 0.616122</td>\n",
        "      <td> 72.0998</td>\n",
        "      <td> 4.228300</td>\n",
        "      <td>...</td>\n",
        "      <td>  900</td>\n",
        "      <td> 100</td>\n",
        "      <td> \\n    fail_to_finish_high_school_in_4_years ~ ...</td>\n",
        "      <td> 0.461775</td>\n",
        "      <td> 0.007077</td>\n",
        "      <td> 0     0.0477\n",
        "1     0.0646\n",
        "2     0.1502\n",
        "3     0...</td>\n",
        "      <td> 0     0.021171\n",
        "1     0.026147\n",
        "2     0.036125\n",
        "3...</td>\n",
        "      <td> 0.820613</td>\n",
        "      <td> 0.004831</td>\n",
        "      <td>2014-12-16 18:19:38.552423</td>\n",
        "    </tr>\n",
        "    <tr>\n",
        "      <th>14</th>\n",
        "      <td> 59.00</td>\n",
        "      <td> 2.005044</td>\n",
        "      <td> 49.6267</td>\n",
        "      <td> 1.333264</td>\n",
        "      <td> 47.190</td>\n",
        "      <td> 1.197177</td>\n",
        "      <td> 35.3536</td>\n",
        "      <td> 0.717654</td>\n",
        "      <td> 72.6335</td>\n",
        "      <td> 3.857568</td>\n",
        "      <td>...</td>\n",
        "      <td>  900</td>\n",
        "      <td> 100</td>\n",
        "      <td> \\n    fail_to_finish_high_school_in_4_years ~ ...</td>\n",
        "      <td> 0.461906</td>\n",
        "      <td> 0.008317</td>\n",
        "      <td> 0     0.0468\n",
        "1     0.0663\n",
        "2     0.1549\n",
        "3     0...</td>\n",
        "      <td> 0     0.021690\n",
        "1     0.024768\n",
        "2     0.039504\n",
        "3...</td>\n",
        "      <td> 0.821169</td>\n",
        "      <td> 0.003953</td>\n",
        "      <td>2014-12-16 18:23:29.781805</td>\n",
        "    </tr>\n",
        "    <tr>\n",
        "      <th>15</th>\n",
        "      <td> 59.44</td>\n",
        "      <td> 2.066178</td>\n",
        "      <td> 49.7177</td>\n",
        "      <td> 1.374737</td>\n",
        "      <td> 47.335</td>\n",
        "      <td> 1.257412</td>\n",
        "      <td> 35.1355</td>\n",
        "      <td> 0.730358</td>\n",
        "      <td> 72.1662</td>\n",
        "      <td> 3.830504</td>\n",
        "      <td>...</td>\n",
        "      <td>  900</td>\n",
        "      <td> 100</td>\n",
        "      <td> \\n    fail_to_finish_high_school_in_4_years ~ ...</td>\n",
        "      <td> 0.461454</td>\n",
        "      <td> 0.007702</td>\n",
        "      <td> 0     0.0724\n",
        "1     0.1106\n",
        "2     0.1483\n",
        "3     0...</td>\n",
        "      <td> 0     0.024909\n",
        "1     0.033690\n",
        "2     0.037011\n",
        "3...</td>\n",
        "      <td> 0.817319</td>\n",
        "      <td> 0.006152</td>\n",
        "      <td>2014-12-16 18:26:28.663551</td>\n",
        "    </tr>\n",
        "    <tr>\n",
        "      <th>16</th>\n",
        "      <td> 58.63</td>\n",
        "      <td> 1.915672</td>\n",
        "      <td> 48.4861</td>\n",
        "      <td> 1.359081</td>\n",
        "      <td> 46.265</td>\n",
        "      <td> 1.305495</td>\n",
        "      <td> 35.0571</td>\n",
        "      <td> 0.580072</td>\n",
        "      <td> 73.6332</td>\n",
        "      <td> 4.370480</td>\n",
        "      <td>...</td>\n",
        "      <td>  824</td>\n",
        "      <td> 100</td>\n",
        "      <td> \\n    fail_to_finish_high_school_in_4_years ~ ...</td>\n",
        "      <td> 0.458006</td>\n",
        "      <td> 0.007064</td>\n",
        "      <td> 0     0.0426\n",
        "1     0.0856\n",
        "2     0.0994\n",
        "3     0...</td>\n",
        "      <td> 0     0.020480\n",
        "1     0.028791\n",
        "2     0.030445\n",
        "3...</td>\n",
        "      <td> 0.819957</td>\n",
        "      <td> 0.004168</td>\n",
        "      <td>2014-12-16 18:29:39.909599</td>\n",
        "    </tr>\n",
        "    <tr>\n",
        "      <th>17</th>\n",
        "      <td> 58.82</td>\n",
        "      <td> 2.006958</td>\n",
        "      <td> 48.7965</td>\n",
        "      <td> 1.341091</td>\n",
        "      <td> 46.580</td>\n",
        "      <td> 1.184325</td>\n",
        "      <td> 34.9103</td>\n",
        "      <td> 0.624371</td>\n",
        "      <td> 72.8000</td>\n",
        "      <td> 4.282925</td>\n",
        "      <td>...</td>\n",
        "      <td>  824</td>\n",
        "      <td> 100</td>\n",
        "      <td> \\n    fail_to_finish_high_school_in_4_years ~ ...</td>\n",
        "      <td> 0.458907</td>\n",
        "      <td> 0.007314</td>\n",
        "      <td> 0     0.0417\n",
        "1     0.0886\n",
        "2     0.0950\n",
        "3     0...</td>\n",
        "      <td> 0     0.019178\n",
        "1     0.029474\n",
        "2     0.030928\n",
        "3...</td>\n",
        "      <td> 0.821226</td>\n",
        "      <td> 0.004240</td>\n",
        "      <td>2014-12-16 18:33:24.284432</td>\n",
        "    </tr>\n",
        "    <tr>\n",
        "      <th>18</th>\n",
        "      <td> 58.90</td>\n",
        "      <td> 1.811858</td>\n",
        "      <td> 48.8758</td>\n",
        "      <td> 1.468591</td>\n",
        "      <td> 46.570</td>\n",
        "      <td> 1.178554</td>\n",
        "      <td> 34.9243</td>\n",
        "      <td> 0.677280</td>\n",
        "      <td> 72.9000</td>\n",
        "      <td> 4.281798</td>\n",
        "      <td>...</td>\n",
        "      <td>  824</td>\n",
        "      <td> 100</td>\n",
        "      <td> \\n    fail_to_finish_high_school_in_4_years ~ ...</td>\n",
        "      <td> 0.456675</td>\n",
        "      <td> 0.008176</td>\n",
        "      <td> 0     0.0743\n",
        "1     0.1349\n",
        "2     0.1009\n",
        "3     0...</td>\n",
        "      <td> 0     0.026903\n",
        "1     0.031414\n",
        "2     0.026708\n",
        "3...</td>\n",
        "      <td> 0.815544</td>\n",
        "      <td> 0.005549</td>\n",
        "      <td>2014-12-16 18:36:14.469684</td>\n",
        "    </tr>\n",
        "    <tr>\n",
        "      <th>19</th>\n",
        "      <td> 59.77</td>\n",
        "      <td> 1.984053</td>\n",
        "      <td> 48.1525</td>\n",
        "      <td> 1.402416</td>\n",
        "      <td> 45.860</td>\n",
        "      <td> 1.193586</td>\n",
        "      <td> 34.0595</td>\n",
        "      <td> 0.737196</td>\n",
        "      <td> 73.9997</td>\n",
        "      <td> 4.075792</td>\n",
        "      <td>...</td>\n",
        "      <td> 1009</td>\n",
        "      <td> 100</td>\n",
        "      <td> \\n    fail_to_finish_high_school_in_4_years ~ ...</td>\n",
        "      <td> 0.453310</td>\n",
        "      <td> 0.007805</td>\n",
        "      <td> 0     0.0520\n",
        "1     0.0570\n",
        "2     0.1412\n",
        "3     0...</td>\n",
        "      <td> 0     0.022563\n",
        "1     0.022808\n",
        "2     0.037289\n",
        "3...</td>\n",
        "      <td> 0.819106</td>\n",
        "      <td> 0.004054</td>\n",
        "      <td>2014-12-16 18:39:44.884894</td>\n",
        "    </tr>\n",
        "    <tr>\n",
        "      <th>20</th>\n",
        "      <td> 60.02</td>\n",
        "      <td> 2.300549</td>\n",
        "      <td> 47.9146</td>\n",
        "      <td> 1.475976</td>\n",
        "      <td> 45.780</td>\n",
        "      <td> 1.343371</td>\n",
        "      <td> 34.1954</td>\n",
        "      <td> 0.761250</td>\n",
        "      <td> 73.3996</td>\n",
        "      <td> 4.367574</td>\n",
        "      <td>...</td>\n",
        "      <td> 1009</td>\n",
        "      <td> 100</td>\n",
        "      <td> \\n    fail_to_finish_high_school_in_4_years ~ ...</td>\n",
        "      <td> 0.454919</td>\n",
        "      <td> 0.009336</td>\n",
        "      <td> 0     0.0513\n",
        "1     0.0552\n",
        "2     0.1683\n",
        "3     0...</td>\n",
        "      <td> 0     0.022503\n",
        "1     0.022540\n",
        "2     0.038640\n",
        "3...</td>\n",
        "      <td> 0.820710</td>\n",
        "      <td> 0.003813</td>\n",
        "      <td>2014-12-16 21:41:24.983962</td>\n",
        "    </tr>\n",
        "    <tr>\n",
        "      <th>21</th>\n",
        "      <td> 57.10</td>\n",
        "      <td> 2.153222</td>\n",
        "      <td> 46.2484</td>\n",
        "      <td> 1.578250</td>\n",
        "      <td> 43.815</td>\n",
        "      <td> 1.303947</td>\n",
        "      <td> 33.4384</td>\n",
        "      <td> 0.718615</td>\n",
        "      <td> 69.2668</td>\n",
        "      <td> 3.717218</td>\n",
        "      <td>...</td>\n",
        "      <td> 1189</td>\n",
        "      <td> 100</td>\n",
        "      <td> \\n    fail_to_finish_high_school_in_4_years ~ ...</td>\n",
        "      <td> 0.428495</td>\n",
        "      <td> 0.008346</td>\n",
        "      <td> 0     0.0434\n",
        "1     0.1152\n",
        "2     0.1304\n",
        "3     0...</td>\n",
        "      <td> 0     0.021983\n",
        "1     0.031156\n",
        "2     0.033902\n",
        "3...</td>\n",
        "      <td> 0.814868</td>\n",
        "      <td> 0.004439</td>\n",
        "      <td>2014-12-16 21:44:54.635452</td>\n",
        "    </tr>\n",
        "    <tr>\n",
        "      <th>22</th>\n",
        "      <td> 57.31</td>\n",
        "      <td> 2.038493</td>\n",
        "      <td> 47.6440</td>\n",
        "      <td> 1.204572</td>\n",
        "      <td> 45.235</td>\n",
        "      <td> 1.149121</td>\n",
        "      <td> 34.0626</td>\n",
        "      <td> 0.665750</td>\n",
        "      <td> 72.0665</td>\n",
        "      <td> 3.842790</td>\n",
        "      <td>...</td>\n",
        "      <td> 1237</td>\n",
        "      <td> 100</td>\n",
        "      <td> \\n    fail_to_finish_high_school_in_4_years ~ ...</td>\n",
        "      <td> 0.440392</td>\n",
        "      <td> 0.008234</td>\n",
        "      <td> 0     0.0473\n",
        "1     0.0563\n",
        "2     0.1564\n",
        "3     0...</td>\n",
        "      <td> 0     0.018083\n",
        "1     0.021957\n",
        "2     0.036722\n",
        "3...</td>\n",
        "      <td> 0.815958</td>\n",
        "      <td> 0.004105</td>\n",
        "      <td>2014-12-16 21:48:46.874218</td>\n",
        "    </tr>\n",
        "    <tr>\n",
        "      <th>23</th>\n",
        "      <td> 57.84</td>\n",
        "      <td> 2.277337</td>\n",
        "      <td> 47.6838</td>\n",
        "      <td> 1.585651</td>\n",
        "      <td> 45.260</td>\n",
        "      <td> 1.305544</td>\n",
        "      <td> 34.2125</td>\n",
        "      <td> 0.663211</td>\n",
        "      <td> 72.0334</td>\n",
        "      <td> 3.989009</td>\n",
        "      <td>...</td>\n",
        "      <td> 1237</td>\n",
        "      <td> 100</td>\n",
        "      <td> \\n    fail_to_finish_high_school_in_4_years ~ ...</td>\n",
        "      <td> 0.443303</td>\n",
        "      <td> 0.008485</td>\n",
        "      <td> 0     0.0465\n",
        "1     0.0545\n",
        "2     0.1775\n",
        "3     0...</td>\n",
        "      <td> 0     0.018661\n",
        "1     0.024053\n",
        "2     0.041497\n",
        "3...</td>\n",
        "      <td> 0.816558</td>\n",
        "      <td> 0.004190</td>\n",
        "      <td>2014-12-16 21:53:17.038362</td>\n",
        "    </tr>\n",
        "    <tr>\n",
        "      <th>24</th>\n",
        "      <td> 56.26</td>\n",
        "      <td> 2.082248</td>\n",
        "      <td> 45.8300</td>\n",
        "      <td> 1.402771</td>\n",
        "      <td> 43.725</td>\n",
        "      <td> 1.181454</td>\n",
        "      <td> 33.1780</td>\n",
        "      <td> 0.624885</td>\n",
        "      <td> 69.4670</td>\n",
        "      <td> 3.983795</td>\n",
        "      <td>...</td>\n",
        "      <td> 1417</td>\n",
        "      <td> 100</td>\n",
        "      <td> \\n    fail_to_finish_high_school_in_4_years ~ ...</td>\n",
        "      <td> 0.422955</td>\n",
        "      <td> 0.008449</td>\n",
        "      <td> 0     0.0368\n",
        "1     0.1280\n",
        "2     0.1346\n",
        "3     0...</td>\n",
        "      <td> 0     0.017746\n",
        "1     0.033181\n",
        "2     0.031251\n",
        "3...</td>\n",
        "      <td> 0.813248</td>\n",
        "      <td> 0.003779</td>\n",
        "      <td>2014-12-16 21:57:03.782485</td>\n",
        "    </tr>\n",
        "  </tbody>\n",
        "</table>\n",
        "<p>25 rows \u00d7 35 columns</p>\n",
        "</div>"
       ],
       "metadata": {},
       "output_type": "pyout",
       "prompt_number": 26,
       "text": [
        "    Prec_Top_100_mean  Prec_Top_100_std  Prec_Top_10perc_mean  \\\n",
        "0               55.80          3.271085               48.7000   \n",
        "1               29.53          1.811607               27.0954   \n",
        "2               29.53          1.811607               27.0954   \n",
        "3               29.53          1.811607               27.0954   \n",
        "4               57.47          1.731788               47.0785   \n",
        "5               57.44          1.913904               46.4576   \n",
        "6               57.40          1.792239               47.7962   \n",
        "7               56.14          1.901727               49.1642   \n",
        "8               56.63          1.905097               49.3389   \n",
        "9               57.72          2.005447               49.8247   \n",
        "10              58.78          2.134753               50.5537   \n",
        "11              59.28          1.902046               50.6386   \n",
        "12              60.20          1.896302               50.7911   \n",
        "13              59.03          2.007335               49.4069   \n",
        "14              59.00          2.005044               49.6267   \n",
        "15              59.44          2.066178               49.7177   \n",
        "16              58.63          1.915672               48.4861   \n",
        "17              58.82          2.006958               48.7965   \n",
        "18              58.90          1.811858               48.8758   \n",
        "19              59.77          1.984053               48.1525   \n",
        "20              60.02          2.300549               47.9146   \n",
        "21              57.10          2.153222               46.2484   \n",
        "22              57.31          2.038493               47.6440   \n",
        "23              57.84          2.277337               47.6838   \n",
        "24              56.26          2.082248               45.8300   \n",
        "\n",
        "    Prec_Top_10perc_std  Prec_Top_200_mean  Prec_Top_200_std  \\\n",
        "0              0.738207             46.400          0.651920   \n",
        "1              0.802397             26.245          0.799289   \n",
        "2              0.802397             26.245          0.799289   \n",
        "3              0.802397             26.245          0.799289   \n",
        "4              1.133097             45.240          1.048038   \n",
        "5              1.203910             44.650          1.090593   \n",
        "6              1.269961             45.400          1.125912   \n",
        "7              1.199996             46.645          1.078474   \n",
        "8              1.171952             46.685          1.086313   \n",
        "9              1.176413             47.205          0.992637   \n",
        "10             1.093693             48.100          1.103255   \n",
        "11             1.326022             48.030          1.091334   \n",
        "12             1.189610             48.060          1.204537   \n",
        "13             1.354254             47.165          1.132743   \n",
        "14             1.333264             47.190          1.197177   \n",
        "15             1.374737             47.335          1.257412   \n",
        "16             1.359081             46.265          1.305495   \n",
        "17             1.341091             46.580          1.184325   \n",
        "18             1.468591             46.570          1.178554   \n",
        "19             1.402416             45.860          1.193586   \n",
        "20             1.475976             45.780          1.343371   \n",
        "21             1.578250             43.815          1.303947   \n",
        "22             1.204572             45.235          1.149121   \n",
        "23             1.585651             45.260          1.305544   \n",
        "24             1.402771             43.725          1.181454   \n",
        "\n",
        "    Prec_Top_20perc_mean  Prec_Top_20perc_std  Prec_Top_30_mean  \\\n",
        "0                34.6340             0.158840           72.6680   \n",
        "1                24.1951             0.663901           29.5668   \n",
        "2                24.1951             0.663901           29.5668   \n",
        "3                24.1951             0.663901           29.5668   \n",
        "4                33.6332             0.507240           74.4996   \n",
        "5                33.9611             0.687100           75.3335   \n",
        "6                34.8246             0.642444           73.5333   \n",
        "7                35.0996             0.558284           68.8671   \n",
        "8                34.9502             0.690750           67.9337   \n",
        "9                34.8937             0.644665           69.8666   \n",
        "10               35.4213             0.640022           73.9334   \n",
        "11               35.3477             0.604792           73.7002   \n",
        "12               35.2322             0.736246           73.9331   \n",
        "13               35.4098             0.616122           72.0998   \n",
        "14               35.3536             0.717654           72.6335   \n",
        "15               35.1355             0.730358           72.1662   \n",
        "16               35.0571             0.580072           73.6332   \n",
        "17               34.9103             0.624371           72.8000   \n",
        "18               34.9243             0.677280           72.9000   \n",
        "19               34.0595             0.737196           73.9997   \n",
        "20               34.1954             0.761250           73.3996   \n",
        "21               33.4384             0.718615           69.2668   \n",
        "22               34.0626             0.665750           72.0665   \n",
        "23               34.2125             0.663211           72.0334   \n",
        "24               33.1780             0.624885           69.4670   \n",
        "\n",
        "    Prec_Top_30_std            ...              num_features  num_runs  \\\n",
        "0          4.346392            ...                        52         5   \n",
        "1          2.944246            ...                        45       100   \n",
        "2          2.944246            ...                        45       100   \n",
        "3          2.944246            ...                        45       100   \n",
        "4          4.675538            ...                         8       100   \n",
        "5          4.877812            ...                         8       100   \n",
        "6          4.588941            ...                         8       100   \n",
        "7          3.796728            ...                        52       100   \n",
        "8          4.257636            ...                        52       100   \n",
        "9          4.017497            ...                        52       100   \n",
        "10         3.860464            ...                        64       100   \n",
        "11         4.208334            ...                        64       100   \n",
        "12         3.918024            ...                        64       100   \n",
        "13         4.228300            ...                       900       100   \n",
        "14         3.857568            ...                       900       100   \n",
        "15         3.830504            ...                       900       100   \n",
        "16         4.370480            ...                       824       100   \n",
        "17         4.282925            ...                       824       100   \n",
        "18         4.281798            ...                       824       100   \n",
        "19         4.075792            ...                      1009       100   \n",
        "20         4.367574            ...                      1009       100   \n",
        "21         3.717218            ...                      1189       100   \n",
        "22         3.842790            ...                      1237       100   \n",
        "23         3.989009            ...                      1237       100   \n",
        "24         3.983795            ...                      1417       100   \n",
        "\n",
        "                                               patsyf  pr_auc_mean  \\\n",
        "0   \\n    fail_to_finish_high_school_in_4_years ~ ...     0.452710   \n",
        "1   \\n    fail_to_finish_high_school_in_4_years ~ ...     0.201095   \n",
        "2   \\n    fail_to_finish_high_school_in_4_years ~ ...     0.201095   \n",
        "3   \\n    fail_to_finish_high_school_in_4_years ~ ...     0.201095   \n",
        "4   \\n    fail_to_finish_high_school_in_4_years ~ ...     0.451788   \n",
        "5   \\n    fail_to_finish_high_school_in_4_years ~ ...     0.452421   \n",
        "6   \\n    fail_to_finish_high_school_in_4_years ~ ...     0.449511   \n",
        "7   \\n    fail_to_finish_high_school_in_4_years ~ ...     0.450053   \n",
        "8   \\n    fail_to_finish_high_school_in_4_years ~ ...     0.450881   \n",
        "9   \\n    fail_to_finish_high_school_in_4_years ~ ...     0.451100   \n",
        "10  \\n    fail_to_finish_high_school_in_4_years ~ ...     0.471009   \n",
        "11  \\n    fail_to_finish_high_school_in_4_years ~ ...     0.473622   \n",
        "12  \\n    fail_to_finish_high_school_in_4_years ~ ...     0.471692   \n",
        "13  \\n    fail_to_finish_high_school_in_4_years ~ ...     0.461775   \n",
        "14  \\n    fail_to_finish_high_school_in_4_years ~ ...     0.461906   \n",
        "15  \\n    fail_to_finish_high_school_in_4_years ~ ...     0.461454   \n",
        "16  \\n    fail_to_finish_high_school_in_4_years ~ ...     0.458006   \n",
        "17  \\n    fail_to_finish_high_school_in_4_years ~ ...     0.458907   \n",
        "18  \\n    fail_to_finish_high_school_in_4_years ~ ...     0.456675   \n",
        "19  \\n    fail_to_finish_high_school_in_4_years ~ ...     0.453310   \n",
        "20  \\n    fail_to_finish_high_school_in_4_years ~ ...     0.454919   \n",
        "21  \\n    fail_to_finish_high_school_in_4_years ~ ...     0.428495   \n",
        "22  \\n    fail_to_finish_high_school_in_4_years ~ ...     0.440392   \n",
        "23  \\n    fail_to_finish_high_school_in_4_years ~ ...     0.443303   \n",
        "24  \\n    fail_to_finish_high_school_in_4_years ~ ...     0.422955   \n",
        "\n",
        "    pr_auc_std                                   pred_probas_mean  \\\n",
        "0     0.010655  0     0.050\n",
        "1     0.066\n",
        "2     0.094\n",
        "3     0.03...   \n",
        "1     0.003131  0     0.023771\n",
        "1     0.332702\n",
        "2     0.002173\n",
        "3...   \n",
        "2     0.003131  0     0.023771\n",
        "1     0.332702\n",
        "2     0.002173\n",
        "3...   \n",
        "3     0.003131  0     0.023771\n",
        "1     0.332702\n",
        "2     0.002173\n",
        "3...   \n",
        "4     0.008799  0     0.1017\n",
        "1     0.0742\n",
        "2     0.1457\n",
        "3     0...   \n",
        "5     0.008812  0     0.0968\n",
        "1     0.0774\n",
        "2     0.1396\n",
        "3     0...   \n",
        "6     0.007612  0     0.1277\n",
        "1     0.1287\n",
        "2     0.1124\n",
        "3     0...   \n",
        "7     0.006868  0     0.0490\n",
        "1     0.0714\n",
        "2     0.1333\n",
        "3     0...   \n",
        "8     0.007022  0     0.0514\n",
        "1     0.0747\n",
        "2     0.1296\n",
        "3     0...   \n",
        "9     0.008542  0     0.0590\n",
        "1     0.1047\n",
        "2     0.1199\n",
        "3     0...   \n",
        "10    0.008391  0     0.0509\n",
        "1     0.0551\n",
        "2     0.1098\n",
        "3     0...   \n",
        "11    0.009433  0     0.0531\n",
        "1     0.0619\n",
        "2     0.1074\n",
        "3     0...   \n",
        "12    0.008952  0     0.0622\n",
        "1     0.0903\n",
        "2     0.0900\n",
        "3     0...   \n",
        "13    0.007077  0     0.0477\n",
        "1     0.0646\n",
        "2     0.1502\n",
        "3     0...   \n",
        "14    0.008317  0     0.0468\n",
        "1     0.0663\n",
        "2     0.1549\n",
        "3     0...   \n",
        "15    0.007702  0     0.0724\n",
        "1     0.1106\n",
        "2     0.1483\n",
        "3     0...   \n",
        "16    0.007064  0     0.0426\n",
        "1     0.0856\n",
        "2     0.0994\n",
        "3     0...   \n",
        "17    0.007314  0     0.0417\n",
        "1     0.0886\n",
        "2     0.0950\n",
        "3     0...   \n",
        "18    0.008176  0     0.0743\n",
        "1     0.1349\n",
        "2     0.1009\n",
        "3     0...   \n",
        "19    0.007805  0     0.0520\n",
        "1     0.0570\n",
        "2     0.1412\n",
        "3     0...   \n",
        "20    0.009336  0     0.0513\n",
        "1     0.0552\n",
        "2     0.1683\n",
        "3     0...   \n",
        "21    0.008346  0     0.0434\n",
        "1     0.1152\n",
        "2     0.1304\n",
        "3     0...   \n",
        "22    0.008234  0     0.0473\n",
        "1     0.0563\n",
        "2     0.1564\n",
        "3     0...   \n",
        "23    0.008485  0     0.0465\n",
        "1     0.0545\n",
        "2     0.1775\n",
        "3     0...   \n",
        "24    0.008449  0     0.0368\n",
        "1     0.1280\n",
        "2     0.1346\n",
        "3     0...   \n",
        "\n",
        "                                      pred_probas_std  roc_auc_mean  \\\n",
        "0   0     0.030000\n",
        "1     0.018166\n",
        "2     0.016733\n",
        "3...      0.822395   \n",
        "1   0     0.001779\n",
        "1     0.015325\n",
        "2     0.003633\n",
        "3...      0.635148   \n",
        "2   0     0.001779\n",
        "1     0.015325\n",
        "2     0.003633\n",
        "3...      0.635148   \n",
        "3   0     0.001779\n",
        "1     0.015325\n",
        "2     0.003633\n",
        "3...      0.635148   \n",
        "4   0     0.029407\n",
        "1     0.028610\n",
        "2     0.032976\n",
        "3...      0.816983   \n",
        "5   0     0.029332\n",
        "1     0.029631\n",
        "2     0.036651\n",
        "3...      0.819061   \n",
        "6   0     0.033055\n",
        "1     0.032988\n",
        "2     0.033124\n",
        "3...      0.820731   \n",
        "7   0     0.021812\n",
        "1     0.025307\n",
        "2     0.034054\n",
        "3...      0.822125   \n",
        "8   0     0.023226\n",
        "1     0.029179\n",
        "2     0.037817\n",
        "3...      0.824106   \n",
        "9   0     0.022808\n",
        "1     0.032395\n",
        "2     0.036722\n",
        "3...      0.823979   \n",
        "10  0     0.022297\n",
        "1     0.023203\n",
        "2     0.029232\n",
        "3...      0.828014   \n",
        "11  0     0.020236\n",
        "1     0.023428\n",
        "2     0.029970\n",
        "3...      0.828422   \n",
        "12  0     0.024478\n",
        "1     0.031122\n",
        "2     0.028356\n",
        "3...      0.827786   \n",
        "13  0     0.021171\n",
        "1     0.026147\n",
        "2     0.036125\n",
        "3...      0.820613   \n",
        "14  0     0.021690\n",
        "1     0.024768\n",
        "2     0.039504\n",
        "3...      0.821169   \n",
        "15  0     0.024909\n",
        "1     0.033690\n",
        "2     0.037011\n",
        "3...      0.817319   \n",
        "16  0     0.020480\n",
        "1     0.028791\n",
        "2     0.030445\n",
        "3...      0.819957   \n",
        "17  0     0.019178\n",
        "1     0.029474\n",
        "2     0.030928\n",
        "3...      0.821226   \n",
        "18  0     0.026903\n",
        "1     0.031414\n",
        "2     0.026708\n",
        "3...      0.815544   \n",
        "19  0     0.022563\n",
        "1     0.022808\n",
        "2     0.037289\n",
        "3...      0.819106   \n",
        "20  0     0.022503\n",
        "1     0.022540\n",
        "2     0.038640\n",
        "3...      0.820710   \n",
        "21  0     0.021983\n",
        "1     0.031156\n",
        "2     0.033902\n",
        "3...      0.814868   \n",
        "22  0     0.018083\n",
        "1     0.021957\n",
        "2     0.036722\n",
        "3...      0.815958   \n",
        "23  0     0.018661\n",
        "1     0.024053\n",
        "2     0.041497\n",
        "3...      0.816558   \n",
        "24  0     0.017746\n",
        "1     0.033181\n",
        "2     0.031251\n",
        "3...      0.813248   \n",
        "\n",
        "   roc_auc_std                  timestamp  \n",
        "0     0.006358 2014-12-16 17:47:10.082356  \n",
        "1     0.003283 2014-12-16 17:55:58.300549  \n",
        "2     0.003283 2014-12-16 17:58:26.910085  \n",
        "3     0.003283 2014-12-16 18:00:00.146729  \n",
        "4     0.003438 2014-12-16 18:01:27.238225  \n",
        "5     0.003606 2014-12-16 18:03:30.613147  \n",
        "6     0.003155 2014-12-16 18:04:35.843098  \n",
        "7     0.003964 2014-12-16 18:06:26.543720  \n",
        "8     0.004490 2014-12-16 18:08:53.711117  \n",
        "9     0.003767 2014-12-16 18:10:24.234854  \n",
        "10    0.004011 2014-12-16 18:12:20.227345  \n",
        "11    0.004124 2014-12-16 18:14:54.708815  \n",
        "12    0.003868 2014-12-16 18:16:30.010169  \n",
        "13    0.004831 2014-12-16 18:19:38.552423  \n",
        "14    0.003953 2014-12-16 18:23:29.781805  \n",
        "15    0.006152 2014-12-16 18:26:28.663551  \n",
        "16    0.004168 2014-12-16 18:29:39.909599  \n",
        "17    0.004240 2014-12-16 18:33:24.284432  \n",
        "18    0.005549 2014-12-16 18:36:14.469684  \n",
        "19    0.004054 2014-12-16 18:39:44.884894  \n",
        "20    0.003813 2014-12-16 21:41:24.983962  \n",
        "21    0.004439 2014-12-16 21:44:54.635452  \n",
        "22    0.004105 2014-12-16 21:48:46.874218  \n",
        "23    0.004190 2014-12-16 21:53:17.038362  \n",
        "24    0.003779 2014-12-16 21:57:03.782485  \n",
        "\n",
        "[25 rows x 35 columns]"
       ]
      }
     ],
     "prompt_number": 26
    },
    {
     "cell_type": "code",
     "collapsed": false,
     "input": [
      "# Save output \n",
      "fname = 'MRdfRF100.csv'\n",
      "MRdfRF100.to_csv('/Users/Nasir/Documents/DSaPP/Cabarrus County Public Schools/Results/' + fname)"
     ],
     "language": "python",
     "metadata": {},
     "outputs": [],
     "prompt_number": 31
    },
    {
     "cell_type": "code",
     "collapsed": false,
     "input": [
      "sortByPR = MRdfRF100.sort(columns = 'pr_auc_mean',axis = 0,ascending=False)"
     ],
     "language": "python",
     "metadata": {},
     "outputs": [],
     "prompt_number": 27
    },
    {
     "cell_type": "code",
     "collapsed": false,
     "input": [
      "sortByPR.patsyf[0]"
     ],
     "language": "python",
     "metadata": {},
     "outputs": [
      {
       "metadata": {},
       "output_type": "pyout",
       "prompt_number": 28,
       "text": [
        "'\\n    fail_to_finish_high_school_in_4_years ~ GPA_Science_8th_grade + GPA_8th_grade + GPA_SocSci_8th_grade + \\n    GPA_Math_8th_grade + exc_abs_8th_grade + unexc_abs_8th_grade + GPA_ENG_8th_grade + \\n    C(school_code_8th_grade) + C(eds_8th_grade) + C(swd_8th_grade) + C(lep_8th_grade) + C(sex_8th_grade) + \\n    C(ethnic_8th_grade) + C(CITY_8th_grade) + C(ZIP_8th_grade)\\n    '"
       ]
      }
     ],
     "prompt_number": 28
    },
    {
     "cell_type": "code",
     "collapsed": false,
     "input": [
      "sortByPR.feature_importance_lastRun[0]"
     ],
     "language": "python",
     "metadata": {},
     "outputs": [
      {
       "metadata": {},
       "output_type": "pyout",
       "prompt_number": 29,
       "text": [
        "(array(['GPA_8th_grade', 'GPA_ENG_8th_grade', 'GPA_Science_8th_grade',\n",
        "        'GPA_Math_8th_grade', 'unexc_abs_8th_grade', 'GPA_SocSci_8th_grade',\n",
        "        'exc_abs_8th_grade', 'C(eds_8th_grade)[T.Y]',\n",
        "        'C(school_code_8th_grade)[T.130317.0]', 'C(sex_8th_grade)[T.M]',\n",
        "        'C(ethnic_8th_grade)[T.W]', 'C(swd_8th_grade)[T.Y]',\n",
        "        'C(ZIP_8th_grade)[T.28025.0]', 'C(ZIP_8th_grade)[T.28027.0]',\n",
        "        'C(school_code_8th_grade)[T.130315.0]', 'C(ethnic_8th_grade)[T.B]',\n",
        "        'C(school_code_8th_grade)[T.130318.0]',\n",
        "        'C(school_code_8th_grade)[T.130320.0]',\n",
        "        'C(CITY_8th_grade)[T.Concord]',\n",
        "        'C(school_code_8th_grade)[T.130327.0]',\n",
        "        'C(school_code_8th_grade)[T.130323.0]', 'C(ethnic_8th_grade)[T.H]',\n",
        "        'C(lep_8th_grade)[T.N]', 'C(school_code_8th_grade)[T.130334.0]',\n",
        "        'C(CITY_8th_grade)[T.Harrisburg]', 'C(lep_8th_grade)[T.Y]',\n",
        "        'C(ZIP_8th_grade)[T.28075.0]', 'C(CITY_8th_grade)[T.Kannapolis]',\n",
        "        'C(CITY_8th_grade)[T.Mount Pleasant]', 'C(ethnic_8th_grade)[T.M]',\n",
        "        'C(CITY_8th_grade)[T.Midland]', 'C(ZIP_8th_grade)[T.28107.0]',\n",
        "        'C(ZIP_8th_grade)[T.28081.0]', 'C(ZIP_8th_grade)[T.28124.0]',\n",
        "        'C(ZIP_8th_grade)[T.28083.0]', 'C(ZIP_8th_grade)[T.28215.0]',\n",
        "        'C(CITY_8th_grade)[T.Rockwell]', 'C(ZIP_8th_grade)[T.28138.0]',\n",
        "        'C(ZIP_8th_grade)[T.28269.0]', 'C(ZIP_8th_grade)[T.28078.0]',\n",
        "        'C(CITY_8th_grade)[T.Huntersville]', 'C(lep_8th_grade)[T.U]',\n",
        "        'C(ZIP_8th_grade)[T.28036.0]', 'C(CITY_8th_grade)[T.Davidson]',\n",
        "        'C(ZIP_8th_grade)[T.28071.0]', 'C(ZIP_8th_grade)[T.28026.0]',\n",
        "        'C(CITY_8th_grade)[T.Gold Hill]', 'C(ZIP_8th_grade)[T.28213.0]',\n",
        "        'C(CITY_8th_grade)[T.Locust]', 'C(ZIP_8th_grade)[T.28097.0]',\n",
        "        'C(ethnic_8th_grade)[T.I]', 'Intercept'], dtype=object),\n",
        " array([  1.60873559e-01,   1.22006192e-01,   1.08968274e-01,\n",
        "          1.01942329e-01,   1.00640556e-01,   9.57415748e-02,\n",
        "          7.06861001e-02,   1.69397820e-02,   1.47646421e-02,\n",
        "          1.46263232e-02,   1.44762272e-02,   1.43862541e-02,\n",
        "          1.39270979e-02,   1.23881573e-02,   1.12276610e-02,\n",
        "          1.12217500e-02,   9.73453405e-03,   9.47823151e-03,\n",
        "          8.50125832e-03,   8.25804027e-03,   7.82340439e-03,\n",
        "          6.56226600e-03,   5.61996925e-03,   5.45793227e-03,\n",
        "          4.69029303e-03,   4.63927531e-03,   4.60150803e-03,\n",
        "          4.36524240e-03,   4.12922656e-03,   4.11976562e-03,\n",
        "          3.97576981e-03,   3.78371222e-03,   3.59373719e-03,\n",
        "          3.03341728e-03,   2.40716919e-03,   1.85472827e-03,\n",
        "          1.73660173e-03,   1.69767025e-03,   1.17549298e-03,\n",
        "          1.05512968e-03,   6.43764561e-04,   6.38482929e-04,\n",
        "          5.07376742e-04,   3.61555356e-04,   2.10433613e-04,\n",
        "          1.57081408e-04,   1.43093405e-04,   1.11726078e-04,\n",
        "          9.85927505e-05,   1.53029060e-05,   1.73491696e-06,\n",
        "          0.00000000e+00]))"
       ]
      }
     ],
     "prompt_number": 29
    },
    {
     "cell_type": "code",
     "collapsed": false,
     "input": [
      "#Loop through other classifiers - linear SVM\n",
      "\n",
      "num_runs = 100\n",
      "\n",
      "allClf_names = ['SVM_lin']\n",
      "allPatsyStrs = ['f_D', 'f_TN', 'f_TN_D', 'f_AN_D', 'f_AN_D_ANXD', 'f_AN_D_ANXD_DbXDc', 'f_AN_D_ANqXD', 'f_AN_D_ANqXD_DbXDc']\n",
      "allPatsyFs = [f_D, f_TN, f_TN_D, f_AN_D, f_AN_D_ANXD, f_AN_D_ANXD_DbXDc, f_AN_D_ANqXD, f_AN_D_ANqXD_DbXDc]\n",
      "impTypeStrs = ['imputeWithMedianOrMode','imputeWithEmpDraws','imputeWithNegOne']\n",
      "\n",
      "for clf_name in allClf_names:\n",
      "    print \"Classifier: \" + clf_name\n",
      "    \n",
      "    for p, patsyf in enumerate(allPatsyFs):\n",
      "        print \"Patsy Function Name: \" + allPatsyStrs[p]\n",
      "        print \"Patsy Function: \" + patsyf\n",
      "        \n",
      "        for imp in impTypeStrs:\n",
      "            print \"Imputation type: \" + imp\n",
      "            resN = []\n",
      "            for i in range(0,num_runs):\n",
      "                if (i+1)%25 == 0:\n",
      "                    print \"Run #: \" + str(i+1)\n",
      "                clf = cts.defaultClassifiers(clf_name,random_state=i)\n",
      "                resN.append(ppl.runPipe(train_data, test_data, important_features, outcome_col,median_features=median_features,\n",
      "                                        imputeFuncStr = imp, clf = clf, clf_name = clf_name, patsyf = patsyf, \n",
      "                                        printOutput = False, seed = i, do_get_feature_importances=False))\n",
      "\n",
      "            multiRunResults.append(ppl.convertRunsToMeanStdAddInfo(pd.DataFrame(resN),clf,clf_name,num_runs,modelGrade,\n",
      "                                                                   patsyf, imp))\n",
      "# Save output\n",
      "MRdf = pd.DataFrame(multiRunResults)\n",
      "fname = 'MRdfSVM_lin.csv'\n",
      "MRdf.to_csv('/Users/Nasir/Documents/DSaPP/Cabarrus County Public Schools/Results/' + fname)"
     ],
     "language": "python",
     "metadata": {},
     "outputs": [
      {
       "output_type": "stream",
       "stream": "stdout",
       "text": [
        "Classifier: SVM_lin\n",
        "Patsy Function Name: f_D\n",
        "Patsy Function: \n",
        "    fail_to_finish_high_school_in_4_years ~ C(school_code_8th_grade) +\n",
        "    C(eds_8th_grade) + C(swd_8th_grade) + C(lep_8th_grade) + C(sex_8th_grade) + C(ethnic_8th_grade) + \n",
        "    C(CITY_8th_grade) + C(ZIP_8th_grade)\n",
        "    \n",
        "Imputation type: imputeWithMedianOrMode\n",
        "Run #: 25"
       ]
      },
      {
       "output_type": "stream",
       "stream": "stdout",
       "text": [
        "\n",
        "Run #: 50"
       ]
      },
      {
       "output_type": "stream",
       "stream": "stdout",
       "text": [
        "\n",
        "Run #: 75"
       ]
      },
      {
       "output_type": "stream",
       "stream": "stdout",
       "text": [
        "\n",
        "Run #: 100"
       ]
      },
      {
       "output_type": "stream",
       "stream": "stdout",
       "text": [
        "\n",
        "Imputation type: imputeWithEmpDraws"
       ]
      },
      {
       "output_type": "stream",
       "stream": "stdout",
       "text": [
        "\n",
        "Run #: 25"
       ]
      },
      {
       "output_type": "stream",
       "stream": "stdout",
       "text": [
        "\n",
        "Run #: 50"
       ]
      },
      {
       "output_type": "stream",
       "stream": "stdout",
       "text": [
        "\n",
        "Run #: 75"
       ]
      },
      {
       "output_type": "stream",
       "stream": "stdout",
       "text": [
        "\n",
        "Run #: 100"
       ]
      },
      {
       "output_type": "stream",
       "stream": "stdout",
       "text": [
        "\n",
        "Imputation type: imputeWithNegOne"
       ]
      },
      {
       "output_type": "stream",
       "stream": "stdout",
       "text": [
        "\n",
        "Run #: 25"
       ]
      },
      {
       "output_type": "stream",
       "stream": "stdout",
       "text": [
        "\n",
        "Run #: 50"
       ]
      },
      {
       "output_type": "stream",
       "stream": "stdout",
       "text": [
        "\n",
        "Run #: 75"
       ]
      },
      {
       "output_type": "stream",
       "stream": "stdout",
       "text": [
        "\n",
        "Run #: 100"
       ]
      },
      {
       "output_type": "stream",
       "stream": "stdout",
       "text": [
        "\n",
        "Patsy Function Name: f_TN"
       ]
      },
      {
       "output_type": "stream",
       "stream": "stdout",
       "text": [
        "\n",
        "Patsy Function: \n",
        "    fail_to_finish_high_school_in_4_years ~ GPA_Science_8th_grade + GPA_8th_grade + GPA_SocSci_8th_grade + \n",
        "    GPA_Math_8th_grade + exc_abs_8th_grade + unexc_abs_8th_grade + GPA_ENG_8th_grade\n",
        "    \n",
        "Imputation type: imputeWithMedianOrMode\n",
        "Run #: 25"
       ]
      },
      {
       "output_type": "stream",
       "stream": "stdout",
       "text": [
        "\n",
        "Run #: 50"
       ]
      },
      {
       "output_type": "stream",
       "stream": "stdout",
       "text": [
        "\n",
        "Run #: 75"
       ]
      },
      {
       "output_type": "stream",
       "stream": "stdout",
       "text": [
        "\n",
        "Run #: 100"
       ]
      },
      {
       "output_type": "stream",
       "stream": "stdout",
       "text": [
        "\n",
        "Imputation type: imputeWithEmpDraws"
       ]
      },
      {
       "output_type": "stream",
       "stream": "stdout",
       "text": [
        "\n",
        "Run #: 25"
       ]
      },
      {
       "output_type": "stream",
       "stream": "stdout",
       "text": [
        "\n",
        "Run #: 50"
       ]
      },
      {
       "output_type": "stream",
       "stream": "stdout",
       "text": [
        "\n",
        "Run #: 75"
       ]
      },
      {
       "output_type": "stream",
       "stream": "stdout",
       "text": [
        "\n",
        "Run #: 100"
       ]
      },
      {
       "output_type": "stream",
       "stream": "stdout",
       "text": [
        "\n",
        "Imputation type: imputeWithNegOne"
       ]
      },
      {
       "output_type": "stream",
       "stream": "stdout",
       "text": [
        "\n",
        "Run #: 25"
       ]
      },
      {
       "output_type": "stream",
       "stream": "stdout",
       "text": [
        "\n",
        "Run #: 50"
       ]
      },
      {
       "output_type": "stream",
       "stream": "stdout",
       "text": [
        "\n",
        "Run #: 75"
       ]
      },
      {
       "output_type": "stream",
       "stream": "stdout",
       "text": [
        "\n",
        "Run #: 100"
       ]
      },
      {
       "output_type": "stream",
       "stream": "stdout",
       "text": [
        "\n",
        "Patsy Function Name: f_TN_D"
       ]
      },
      {
       "output_type": "stream",
       "stream": "stdout",
       "text": [
        "\n",
        "Patsy Function: \n",
        "    fail_to_finish_high_school_in_4_years ~ GPA_Science_8th_grade + GPA_8th_grade + GPA_SocSci_8th_grade + \n",
        "    GPA_Math_8th_grade + exc_abs_8th_grade + unexc_abs_8th_grade + GPA_ENG_8th_grade + \n",
        "    C(school_code_8th_grade) + C(eds_8th_grade) + C(swd_8th_grade) + C(lep_8th_grade) + C(sex_8th_grade) + \n",
        "    C(ethnic_8th_grade) + C(CITY_8th_grade) + C(ZIP_8th_grade)\n",
        "    \n",
        "Imputation type: imputeWithMedianOrMode\n",
        "Run #: 25"
       ]
      },
      {
       "output_type": "stream",
       "stream": "stdout",
       "text": [
        "\n",
        "Run #: 50"
       ]
      },
      {
       "output_type": "stream",
       "stream": "stdout",
       "text": [
        "\n",
        "Run #: 75"
       ]
      },
      {
       "output_type": "stream",
       "stream": "stdout",
       "text": [
        "\n",
        "Run #: 100"
       ]
      },
      {
       "output_type": "stream",
       "stream": "stdout",
       "text": [
        "\n",
        "Imputation type: imputeWithEmpDraws"
       ]
      },
      {
       "output_type": "stream",
       "stream": "stdout",
       "text": [
        "\n",
        "Run #: 25"
       ]
      },
      {
       "output_type": "stream",
       "stream": "stdout",
       "text": [
        "\n",
        "Run #: 50"
       ]
      },
      {
       "output_type": "stream",
       "stream": "stdout",
       "text": [
        "\n",
        "Run #: 75"
       ]
      },
      {
       "output_type": "stream",
       "stream": "stdout",
       "text": [
        "\n",
        "Run #: 100"
       ]
      },
      {
       "output_type": "stream",
       "stream": "stdout",
       "text": [
        "\n",
        "Imputation type: imputeWithNegOne"
       ]
      },
      {
       "output_type": "stream",
       "stream": "stdout",
       "text": [
        "\n",
        "Run #: 25"
       ]
      },
      {
       "output_type": "stream",
       "stream": "stdout",
       "text": [
        "\n",
        "Run #: 50"
       ]
      },
      {
       "output_type": "stream",
       "stream": "stdout",
       "text": [
        "\n",
        "Run #: 75"
       ]
      },
      {
       "output_type": "stream",
       "stream": "stdout",
       "text": [
        "\n",
        "Run #: 100"
       ]
      },
      {
       "output_type": "stream",
       "stream": "stdout",
       "text": [
        "\n",
        "Patsy Function Name: f_AN_D"
       ]
      },
      {
       "output_type": "stream",
       "stream": "stdout",
       "text": [
        "\n",
        "Patsy Function: \n",
        "    fail_to_finish_high_school_in_4_years ~ GPA_Science_8th_grade + GPA_8th_grade + GPA_SocSci_8th_grade + \n",
        "    GPA_Math_8th_grade + exc_abs_8th_grade + unexc_abs_8th_grade + GPA_ENG_8th_grade + \n",
        "    NumAdvanced_8th_grade + Num_Marks_8th_grade + NumAdvanced_SocSci_8th_grade + times_tardy_8th_grade +\n",
        "    Num_Science_8th_grade + Num_SocSci_8th_grade + NumAdvanced_Science_8th_grade + NumAdvanced_ENG_8th_grade +\n",
        "    Num_ENG_8th_grade + Num_Math_8th_grade + NumAdvanced_Math_8th_grade + C(retained_in_8_majority_vote) +\n",
        "    C(school_code_8th_grade) + C(eds_8th_grade) + C(swd_8th_grade) + \n",
        "    C(lep_8th_grade) + C(sex_8th_grade) + C(ethnic_8th_grade) + C(CITY_8th_grade) + C(ZIP_8th_grade)\n",
        "    \n",
        "Imputation type: imputeWithMedianOrMode\n",
        "Run #: 25"
       ]
      },
      {
       "output_type": "stream",
       "stream": "stdout",
       "text": [
        "\n",
        "Run #: 50"
       ]
      },
      {
       "output_type": "stream",
       "stream": "stdout",
       "text": [
        "\n",
        "Run #: 75"
       ]
      },
      {
       "output_type": "stream",
       "stream": "stdout",
       "text": [
        "\n",
        "Run #: 100"
       ]
      },
      {
       "output_type": "stream",
       "stream": "stdout",
       "text": [
        "\n",
        "Imputation type: imputeWithEmpDraws"
       ]
      },
      {
       "output_type": "stream",
       "stream": "stdout",
       "text": [
        "\n",
        "Run #: 25"
       ]
      },
      {
       "output_type": "stream",
       "stream": "stdout",
       "text": [
        "\n",
        "Run #: 50"
       ]
      },
      {
       "output_type": "stream",
       "stream": "stdout",
       "text": [
        "\n",
        "Run #: 75"
       ]
      },
      {
       "output_type": "stream",
       "stream": "stdout",
       "text": [
        "\n",
        "Run #: 100"
       ]
      },
      {
       "output_type": "stream",
       "stream": "stdout",
       "text": [
        "\n",
        "Imputation type: imputeWithNegOne"
       ]
      },
      {
       "output_type": "stream",
       "stream": "stdout",
       "text": [
        "\n",
        "Run #: 25"
       ]
      },
      {
       "output_type": "stream",
       "stream": "stdout",
       "text": [
        "\n",
        "Run #: 50"
       ]
      },
      {
       "output_type": "stream",
       "stream": "stdout",
       "text": [
        "\n",
        "Run #: 75"
       ]
      },
      {
       "output_type": "stream",
       "stream": "stdout",
       "text": [
        "\n",
        "Run #: 100"
       ]
      },
      {
       "output_type": "stream",
       "stream": "stdout",
       "text": [
        "\n",
        "Patsy Function Name: f_AN_D_ANXD"
       ]
      },
      {
       "output_type": "stream",
       "stream": "stdout",
       "text": [
        "\n",
        "Patsy Function: \n",
        "    fail_to_finish_high_school_in_4_years ~ (GPA_Science_8th_grade + GPA_8th_grade + GPA_SocSci_8th_grade + \n",
        "    GPA_Math_8th_grade + exc_abs_8th_grade + unexc_abs_8th_grade + GPA_ENG_8th_grade + \n",
        "    NumAdvanced_8th_grade + Num_Marks_8th_grade + NumAdvanced_SocSci_8th_grade + times_tardy_8th_grade +\n",
        "    Num_Science_8th_grade + Num_SocSci_8th_grade + NumAdvanced_Science_8th_grade + NumAdvanced_ENG_8th_grade +\n",
        "    Num_ENG_8th_grade + Num_Math_8th_grade + NumAdvanced_Math_8th_grade + C(retained_in_8_majority_vote)) *\n",
        "    (C(school_code_8th_grade) + C(eds_8th_grade) + C(swd_8th_grade) + \n",
        "    C(lep_8th_grade) + C(sex_8th_grade) + C(ethnic_8th_grade) + C(CITY_8th_grade) + C(ZIP_8th_grade))\n",
        "    \n",
        "Imputation type: imputeWithMedianOrMode\n",
        "Run #: 25"
       ]
      },
      {
       "output_type": "stream",
       "stream": "stdout",
       "text": [
        "\n",
        "Run #: 50"
       ]
      },
      {
       "output_type": "stream",
       "stream": "stdout",
       "text": [
        "\n",
        "Run #: 75"
       ]
      },
      {
       "output_type": "stream",
       "stream": "stdout",
       "text": [
        "\n",
        "Run #: 100"
       ]
      },
      {
       "output_type": "stream",
       "stream": "stdout",
       "text": [
        "\n",
        "Imputation type: imputeWithEmpDraws"
       ]
      },
      {
       "output_type": "stream",
       "stream": "stdout",
       "text": [
        "\n",
        "Run #: 25"
       ]
      },
      {
       "output_type": "stream",
       "stream": "stdout",
       "text": [
        "\n",
        "Run #: 50"
       ]
      },
      {
       "output_type": "stream",
       "stream": "stdout",
       "text": [
        "\n",
        "Run #: 75"
       ]
      },
      {
       "output_type": "stream",
       "stream": "stdout",
       "text": [
        "\n",
        "Run #: 100"
       ]
      },
      {
       "output_type": "stream",
       "stream": "stdout",
       "text": [
        "\n",
        "Imputation type: imputeWithNegOne"
       ]
      },
      {
       "output_type": "stream",
       "stream": "stdout",
       "text": [
        "\n",
        "Run #: 25"
       ]
      },
      {
       "output_type": "stream",
       "stream": "stdout",
       "text": [
        "\n",
        "Run #: 50"
       ]
      },
      {
       "output_type": "stream",
       "stream": "stdout",
       "text": [
        "\n",
        "Run #: 75"
       ]
      },
      {
       "output_type": "stream",
       "stream": "stdout",
       "text": [
        "\n",
        "Run #: 100"
       ]
      },
      {
       "output_type": "stream",
       "stream": "stdout",
       "text": [
        "\n",
        "Patsy Function Name: f_AN_D_ANXD_DbXDc"
       ]
      },
      {
       "output_type": "stream",
       "stream": "stdout",
       "text": [
        "\n",
        "Patsy Function: \n",
        "    fail_to_finish_high_school_in_4_years ~ (GPA_Science_8th_grade + GPA_8th_grade + GPA_SocSci_8th_grade + \n",
        "    GPA_Math_8th_grade + exc_abs_8th_grade + unexc_abs_8th_grade + GPA_ENG_8th_grade + \n",
        "    NumAdvanced_8th_grade + Num_Marks_8th_grade + NumAdvanced_SocSci_8th_grade + times_tardy_8th_grade +\n",
        "    Num_Science_8th_grade + Num_SocSci_8th_grade + NumAdvanced_Science_8th_grade + NumAdvanced_ENG_8th_grade +\n",
        "    Num_ENG_8th_grade + Num_Math_8th_grade + NumAdvanced_Math_8th_grade + C(retained_in_8_majority_vote)) *\n",
        "    (C(school_code_8th_grade) + C(eds_8th_grade) + C(swd_8th_grade) + \n",
        "    C(lep_8th_grade) + C(sex_8th_grade) + C(ethnic_8th_grade) + C(CITY_8th_grade) + C(ZIP_8th_grade)) + \n",
        "    (C(eds_8th_grade) + C(swd_8th_grade) + C(lep_8th_grade) + C(sex_8th_grade)) : \n",
        "    (C(ethnic_8th_grade) + C(CITY_8th_grade) + C(school_code_8th_grade) + C(ZIP_8th_grade))\n",
        "    \n",
        "Imputation type: imputeWithMedianOrMode\n",
        "Run #: 25"
       ]
      },
      {
       "output_type": "stream",
       "stream": "stdout",
       "text": [
        "\n",
        "Run #: 50"
       ]
      },
      {
       "output_type": "stream",
       "stream": "stdout",
       "text": [
        "\n",
        "Run #: 75"
       ]
      },
      {
       "output_type": "stream",
       "stream": "stdout",
       "text": [
        "\n",
        "Run #: 100"
       ]
      },
      {
       "output_type": "stream",
       "stream": "stdout",
       "text": [
        "\n",
        "Imputation type: imputeWithEmpDraws"
       ]
      },
      {
       "output_type": "stream",
       "stream": "stdout",
       "text": [
        "\n",
        "Run #: 25"
       ]
      },
      {
       "output_type": "stream",
       "stream": "stdout",
       "text": [
        "\n",
        "Run #: 50"
       ]
      },
      {
       "output_type": "stream",
       "stream": "stdout",
       "text": [
        "\n",
        "Run #: 75"
       ]
      },
      {
       "output_type": "stream",
       "stream": "stdout",
       "text": [
        "\n",
        "Run #: 100"
       ]
      },
      {
       "output_type": "stream",
       "stream": "stdout",
       "text": [
        "\n",
        "Imputation type: imputeWithNegOne"
       ]
      },
      {
       "output_type": "stream",
       "stream": "stdout",
       "text": [
        "\n",
        "Run #: 25"
       ]
      },
      {
       "output_type": "stream",
       "stream": "stdout",
       "text": [
        "\n",
        "Run #: 50"
       ]
      },
      {
       "output_type": "stream",
       "stream": "stdout",
       "text": [
        "\n",
        "Run #: 75"
       ]
      },
      {
       "output_type": "stream",
       "stream": "stdout",
       "text": [
        "\n",
        "Run #: 100"
       ]
      },
      {
       "output_type": "stream",
       "stream": "stdout",
       "text": [
        "\n",
        "Patsy Function Name: f_AN_D_ANqXD"
       ]
      },
      {
       "output_type": "stream",
       "stream": "stdout",
       "text": [
        "\n",
        "Patsy Function: \n",
        "    fail_to_finish_high_school_in_4_years ~ (GPA_Science_8th_grade + GPA_8th_grade + GPA_SocSci_8th_grade + \n",
        "    GPA_Math_8th_grade + exc_abs_8th_grade + unexc_abs_8th_grade + GPA_ENG_8th_grade + \n",
        "    NumAdvanced_8th_grade + Num_Marks_8th_grade + NumAdvanced_SocSci_8th_grade + times_tardy_8th_grade +\n",
        "    Num_Science_8th_grade + Num_SocSci_8th_grade + NumAdvanced_Science_8th_grade + NumAdvanced_ENG_8th_grade +\n",
        "    Num_ENG_8th_grade + Num_Math_8th_grade + NumAdvanced_Math_8th_grade + C(retained_in_8_majority_vote)) +\n",
        "    (GPA_Science_8th_gradeQ + GPA_8th_gradeQ + GPA_SocSci_8th_gradeQ + GPA_Math_8th_gradeQ + exc_abs_8th_gradeQ +\n",
        "    unexc_abs_8th_gradeQ + GPA_ENG_8th_gradeQ)*\n",
        "    (C(school_code_8th_grade) + C(eds_8th_grade) + C(swd_8th_grade) + \n",
        "    C(lep_8th_grade) + C(sex_8th_grade) + C(ethnic_8th_grade) + C(CITY_8th_grade) + C(ZIP_8th_grade))\n",
        "    \n",
        "Imputation type: imputeWithMedianOrMode\n",
        "Run #: 25"
       ]
      },
      {
       "output_type": "stream",
       "stream": "stdout",
       "text": [
        "\n",
        "Run #: 50"
       ]
      },
      {
       "output_type": "stream",
       "stream": "stdout",
       "text": [
        "\n",
        "Run #: 75"
       ]
      },
      {
       "output_type": "stream",
       "stream": "stdout",
       "text": [
        "\n",
        "Run #: 100"
       ]
      },
      {
       "output_type": "stream",
       "stream": "stdout",
       "text": [
        "\n",
        "Imputation type: imputeWithEmpDraws"
       ]
      },
      {
       "output_type": "stream",
       "stream": "stdout",
       "text": [
        "\n",
        "Run #: 25"
       ]
      },
      {
       "output_type": "stream",
       "stream": "stdout",
       "text": [
        "\n",
        "Run #: 50"
       ]
      },
      {
       "output_type": "stream",
       "stream": "stdout",
       "text": [
        "\n",
        "Run #: 75"
       ]
      },
      {
       "output_type": "stream",
       "stream": "stdout",
       "text": [
        "\n",
        "Run #: 100"
       ]
      },
      {
       "output_type": "stream",
       "stream": "stdout",
       "text": [
        "\n",
        "Imputation type: imputeWithNegOne"
       ]
      },
      {
       "output_type": "stream",
       "stream": "stdout",
       "text": [
        "\n",
        "Run #: 25"
       ]
      },
      {
       "output_type": "stream",
       "stream": "stdout",
       "text": [
        "\n",
        "Run #: 50"
       ]
      },
      {
       "output_type": "stream",
       "stream": "stdout",
       "text": [
        "\n",
        "Run #: 75"
       ]
      },
      {
       "output_type": "stream",
       "stream": "stdout",
       "text": [
        "\n",
        "Run #: 100"
       ]
      },
      {
       "output_type": "stream",
       "stream": "stdout",
       "text": [
        "\n",
        "Patsy Function Name: f_AN_D_ANqXD_DbXDc"
       ]
      },
      {
       "output_type": "stream",
       "stream": "stdout",
       "text": [
        "\n",
        "Patsy Function: \n",
        "    fail_to_finish_high_school_in_4_years ~ (GPA_Science_8th_grade + GPA_8th_grade + GPA_SocSci_8th_grade + \n",
        "    GPA_Math_8th_grade + exc_abs_8th_grade + unexc_abs_8th_grade + GPA_ENG_8th_grade + \n",
        "    NumAdvanced_8th_grade + Num_Marks_8th_grade + NumAdvanced_SocSci_8th_grade + times_tardy_8th_grade +\n",
        "    Num_Science_8th_grade + Num_SocSci_8th_grade + NumAdvanced_Science_8th_grade + NumAdvanced_ENG_8th_grade +\n",
        "    Num_ENG_8th_grade + Num_Math_8th_grade + NumAdvanced_Math_8th_grade + C(retained_in_8_majority_vote)) +\n",
        "    (GPA_Science_8th_gradeQ + GPA_8th_gradeQ + GPA_SocSci_8th_gradeQ + GPA_Math_8th_gradeQ + exc_abs_8th_gradeQ +\n",
        "    unexc_abs_8th_gradeQ + GPA_ENG_8th_gradeQ) *\n",
        "    (C(school_code_8th_grade) + C(eds_8th_grade) + C(swd_8th_grade) + \n",
        "    C(lep_8th_grade) + C(sex_8th_grade) + C(ethnic_8th_grade) + C(CITY_8th_grade) + C(ZIP_8th_grade)) + \n",
        "    (C(eds_8th_grade) + C(swd_8th_grade) + C(lep_8th_grade) + C(sex_8th_grade)) : \n",
        "    (C(ethnic_8th_grade) + C(CITY_8th_grade) + C(school_code_8th_grade) + C(ZIP_8th_grade))\n",
        "    \n",
        "Imputation type: imputeWithMedianOrMode\n",
        "Run #: 25"
       ]
      },
      {
       "output_type": "stream",
       "stream": "stdout",
       "text": [
        "\n",
        "Run #: 50"
       ]
      },
      {
       "output_type": "stream",
       "stream": "stdout",
       "text": [
        "\n",
        "Run #: 75"
       ]
      },
      {
       "output_type": "stream",
       "stream": "stdout",
       "text": [
        "\n",
        "Run #: 100"
       ]
      },
      {
       "output_type": "stream",
       "stream": "stdout",
       "text": [
        "\n",
        "Imputation type: imputeWithEmpDraws"
       ]
      },
      {
       "output_type": "stream",
       "stream": "stdout",
       "text": [
        "\n",
        "Run #: 25"
       ]
      },
      {
       "output_type": "stream",
       "stream": "stdout",
       "text": [
        "\n",
        "Run #: 50"
       ]
      },
      {
       "output_type": "stream",
       "stream": "stdout",
       "text": [
        "\n",
        "Run #: 75"
       ]
      },
      {
       "output_type": "stream",
       "stream": "stdout",
       "text": [
        "\n",
        "Run #: 100"
       ]
      },
      {
       "output_type": "stream",
       "stream": "stdout",
       "text": [
        "\n",
        "Imputation type: imputeWithNegOne"
       ]
      },
      {
       "output_type": "stream",
       "stream": "stdout",
       "text": [
        "\n",
        "Run #: 25"
       ]
      },
      {
       "output_type": "stream",
       "stream": "stdout",
       "text": [
        "\n",
        "Run #: 50"
       ]
      },
      {
       "output_type": "stream",
       "stream": "stdout",
       "text": [
        "\n",
        "Run #: 75"
       ]
      },
      {
       "output_type": "stream",
       "stream": "stdout",
       "text": [
        "\n",
        "Run #: 100"
       ]
      },
      {
       "output_type": "stream",
       "stream": "stdout",
       "text": [
        "\n"
       ]
      },
      {
       "ename": "NameError",
       "evalue": "name 'MRdfRF100' is not defined",
       "output_type": "pyerr",
       "traceback": [
        "\u001b[0;31m---------------------------------------------------------------------------\u001b[0m\n\u001b[0;31mNameError\u001b[0m                                 Traceback (most recent call last)",
        "\u001b[0;32m<ipython-input-13-b24e4a833293>\u001b[0m in \u001b[0;36m<module>\u001b[0;34m()\u001b[0m\n\u001b[1;32m     30\u001b[0m \u001b[0;31m# Save output\u001b[0m\u001b[0;34m\u001b[0m\u001b[0;34m\u001b[0m\u001b[0m\n\u001b[1;32m     31\u001b[0m \u001b[0mfname\u001b[0m \u001b[0;34m=\u001b[0m \u001b[0;34m'MRdfSVM_lin.csv'\u001b[0m\u001b[0;34m\u001b[0m\u001b[0m\n\u001b[0;32m---> 32\u001b[0;31m \u001b[0mMRdfRF100\u001b[0m\u001b[0;34m.\u001b[0m\u001b[0mto_csv\u001b[0m\u001b[0;34m(\u001b[0m\u001b[0;34m'/Users/Nasir/Documents/DSaPP/Cabarrus County Public Schools/Results/'\u001b[0m \u001b[0;34m+\u001b[0m \u001b[0mfname\u001b[0m\u001b[0;34m)\u001b[0m\u001b[0;34m\u001b[0m\u001b[0m\n\u001b[0m",
        "\u001b[0;31mNameError\u001b[0m: name 'MRdfRF100' is not defined"
       ]
      }
     ],
     "prompt_number": 13
    },
    {
     "cell_type": "code",
     "collapsed": false,
     "input": [
      "# Save output \n",
      "MRdf = pd.DataFrame(multiRunResults)\n",
      "fname = 'MRdfSVM_lin.csv'\n",
      "MRdf.to_csv('/Users/Nasir/Documents/DSaPP/Cabarrus County Public Schools/Results/' + fname)\n"
     ],
     "language": "python",
     "metadata": {},
     "outputs": [],
     "prompt_number": 16
    },
    {
     "cell_type": "code",
     "collapsed": false,
     "input": [
      "#Loop through other classifiers - RF500 \n",
      "\n",
      "multiRunResults2 = []\n",
      "num_runs = 100\n",
      "\n",
      "allClf_names = ['RF500'] \n",
      "allPatsyStrs = ['f_D', 'f_TN', 'f_TN_D', 'f_AN_D', 'f_AN_D_ANXD', 'f_AN_D_ANXD_DbXDc', 'f_AN_D_ANqXD', 'f_AN_D_ANqXD_DbXDc']\n",
      "allPatsyFs = [f_D, f_TN, f_TN_D, f_AN_D, f_AN_D_ANXD, f_AN_D_ANXD_DbXDc, f_AN_D_ANqXD, f_AN_D_ANqXD_DbXDc]\n",
      "impTypeStrs = ['imputeWithMedianOrMode','imputeWithEmpDraws','imputeWithNegOne']\n",
      "\n",
      "for clf_name in allClf_names:\n",
      "    print \"Classifier: \" + clf_name\n",
      "    \n",
      "    for p, patsyf in enumerate(allPatsyFs):\n",
      "        print \"Patsy Function Name: \" + allPatsyStrs[p]\n",
      "        print \"Patsy Function: \" + patsyf\n",
      "        \n",
      "        for imp in impTypeStrs:\n",
      "            print \"Imputation type: \" + imp\n",
      "            resN = []\n",
      "            for i in range(0,num_runs):\n",
      "                if (i+1)%25 == 0:\n",
      "                    print \"Run #: \" + str(i+1)\n",
      "                clf = cts.defaultClassifiers(clf_name,random_state=i)\n",
      "                resN.append(ppl.runPipe(train_data, test_data, important_features, outcome_col,median_features=median_features,\n",
      "                                        imputeFuncStr = imp, clf = clf, clf_name = clf_name, patsyf = patsyf, \n",
      "                                        printOutput = False, seed = i, do_get_feature_importances=False))\n",
      "\n",
      "            multiRunResults2.append(ppl.convertRunsToMeanStdAddInfo(pd.DataFrame(resN),clf,clf_name,num_runs,modelGrade,\n",
      "                                                                   patsyf, imp))"
     ],
     "language": "python",
     "metadata": {},
     "outputs": []
    },
    {
     "cell_type": "code",
     "collapsed": false,
     "input": [
      "# Save output\n",
      "MRdf = pd.DataFrame(multiRunResults2)\n",
      "fname = 'MRdfRF500.csv'\n",
      "MRdf.to_csv('/Users/Nasir/Documents/DSaPP/Cabarrus County Public Schools/Results/' + fname)"
     ],
     "language": "python",
     "metadata": {},
     "outputs": [],
     "prompt_number": 18
    },
    {
     "cell_type": "code",
     "collapsed": false,
     "input": [
      "#Loop through other classifiers -  LRs\n",
      "\n",
      "multiRunResults3 = []\n",
      "num_runs = 100\n",
      "\n",
      "allClf_names = ['LR1_hiC','LR1_loC','LR2_hiC','LR2_loC'] \n",
      "allPatsyStrs = ['f_D', 'f_TN', 'f_TN_D', 'f_AN_D', 'f_AN_D_ANXD', 'f_AN_D_ANXD_DbXDc', 'f_AN_D_ANqXD', 'f_AN_D_ANqXD_DbXDc']\n",
      "allPatsyFs = [f_D, f_TN, f_TN_D, f_AN_D, f_AN_D_ANXD, f_AN_D_ANXD_DbXDc, f_AN_D_ANqXD, f_AN_D_ANqXD_DbXDc]\n",
      "impTypeStrs = ['imputeWithMedianOrMode','imputeWithEmpDraws','imputeWithNegOne']\n",
      "\n",
      "for clf_name in allClf_names:\n",
      "    print \"Classifier: \" + clf_name\n",
      "    \n",
      "    for p, patsyf in enumerate(allPatsyFs):\n",
      "        print \"Patsy Function Name: \" + allPatsyStrs[p]\n",
      "        print \"Patsy Function: \" + patsyf\n",
      "        \n",
      "        for imp in impTypeStrs:\n",
      "            print \"Imputation type: \" + imp\n",
      "            resN = []\n",
      "            for i in range(0,num_runs):\n",
      "                if (i+1)%25 == 0:\n",
      "                    print \"Run #: \" + str(i+1)\n",
      "                clf = cts.defaultClassifiers(clf_name,random_state=i)\n",
      "                resN.append(ppl.runPipe(train_data, test_data, important_features, outcome_col,median_features=median_features,\n",
      "                                        imputeFuncStr = imp, clf = clf, clf_name = clf_name, patsyf = patsyf, \n",
      "                                        printOutput = False, seed = i, do_get_feature_importances=False))\n",
      "\n",
      "            multiRunResults3.append(ppl.convertRunsToMeanStdAddInfo(pd.DataFrame(resN),clf,clf_name,num_runs,modelGrade,\n",
      "                                                                   patsyf, imp, allPatsyStrs[p]))\n",
      "# Save output\n",
      "MRdf = pd.DataFrame(multiRunResults3)\n",
      "fname = 'MRdfLRs.csv'\n",
      "MRdf.to_csv('/Users/Nasir/Documents/DSaPP/Cabarrus County Public Schools/Results/' + fname)            \n"
     ],
     "language": "python",
     "metadata": {},
     "outputs": [
      {
       "output_type": "stream",
       "stream": "stdout",
       "text": [
        "Classifier: LR1_hiC\n",
        "Patsy Function Name: f_D\n",
        "Patsy Function: \n",
        "    fail_to_finish_high_school_in_4_years ~ C(school_code_8th_grade) +\n",
        "    C(eds_8th_grade) + C(swd_8th_grade) + C(lep_8th_grade) + C(sex_8th_grade) + C(ethnic_8th_grade) + \n",
        "    C(CITY_8th_grade) + C(ZIP_8th_grade)\n",
        "    \n",
        "Imputation type: imputeWithMedianOrMode\n",
        "Run #: 25"
       ]
      },
      {
       "output_type": "stream",
       "stream": "stdout",
       "text": [
        "\n",
        "Run #: 50"
       ]
      },
      {
       "output_type": "stream",
       "stream": "stdout",
       "text": [
        "\n",
        "Run #: 75"
       ]
      },
      {
       "output_type": "stream",
       "stream": "stdout",
       "text": [
        "\n",
        "Run #: 100"
       ]
      },
      {
       "output_type": "stream",
       "stream": "stdout",
       "text": [
        "\n",
        "Imputation type: imputeWithEmpDraws"
       ]
      },
      {
       "output_type": "stream",
       "stream": "stdout",
       "text": [
        "\n",
        "Run #: 25"
       ]
      },
      {
       "output_type": "stream",
       "stream": "stdout",
       "text": [
        "\n",
        "Run #: 50"
       ]
      },
      {
       "output_type": "stream",
       "stream": "stdout",
       "text": [
        "\n",
        "Run #: 75"
       ]
      },
      {
       "output_type": "stream",
       "stream": "stdout",
       "text": [
        "\n",
        "Run #: 100"
       ]
      },
      {
       "output_type": "stream",
       "stream": "stdout",
       "text": [
        "\n",
        "Imputation type: imputeWithNegOne"
       ]
      },
      {
       "output_type": "stream",
       "stream": "stdout",
       "text": [
        "\n",
        "Run #: 25"
       ]
      },
      {
       "output_type": "stream",
       "stream": "stdout",
       "text": [
        "\n",
        "Run #: 50"
       ]
      },
      {
       "output_type": "stream",
       "stream": "stdout",
       "text": [
        "\n",
        "Run #: 75"
       ]
      },
      {
       "output_type": "stream",
       "stream": "stdout",
       "text": [
        "\n",
        "Run #: 100"
       ]
      },
      {
       "output_type": "stream",
       "stream": "stdout",
       "text": [
        "\n",
        "Patsy Function Name: f_TN"
       ]
      },
      {
       "output_type": "stream",
       "stream": "stdout",
       "text": [
        "\n",
        "Patsy Function: \n",
        "    fail_to_finish_high_school_in_4_years ~ GPA_Science_8th_grade + GPA_8th_grade + GPA_SocSci_8th_grade + \n",
        "    GPA_Math_8th_grade + exc_abs_8th_grade + unexc_abs_8th_grade + GPA_ENG_8th_grade\n",
        "    \n",
        "Imputation type: imputeWithMedianOrMode\n",
        "Run #: 25"
       ]
      },
      {
       "output_type": "stream",
       "stream": "stdout",
       "text": [
        "\n",
        "Run #: 50"
       ]
      },
      {
       "output_type": "stream",
       "stream": "stdout",
       "text": [
        "\n",
        "Run #: 75"
       ]
      },
      {
       "output_type": "stream",
       "stream": "stdout",
       "text": [
        "\n",
        "Run #: 100"
       ]
      },
      {
       "output_type": "stream",
       "stream": "stdout",
       "text": [
        "\n",
        "Imputation type: imputeWithEmpDraws"
       ]
      },
      {
       "output_type": "stream",
       "stream": "stdout",
       "text": [
        "\n",
        "Run #: 25"
       ]
      },
      {
       "output_type": "stream",
       "stream": "stdout",
       "text": [
        "\n",
        "Run #: 50"
       ]
      },
      {
       "output_type": "stream",
       "stream": "stdout",
       "text": [
        "\n",
        "Run #: 75"
       ]
      },
      {
       "output_type": "stream",
       "stream": "stdout",
       "text": [
        "\n",
        "Run #: 100"
       ]
      },
      {
       "output_type": "stream",
       "stream": "stdout",
       "text": [
        "\n",
        "Imputation type: imputeWithNegOne"
       ]
      },
      {
       "output_type": "stream",
       "stream": "stdout",
       "text": [
        "\n",
        "Run #: 25"
       ]
      },
      {
       "output_type": "stream",
       "stream": "stdout",
       "text": [
        "\n",
        "Run #: 50"
       ]
      },
      {
       "output_type": "stream",
       "stream": "stdout",
       "text": [
        "\n",
        "Run #: 75"
       ]
      },
      {
       "output_type": "stream",
       "stream": "stdout",
       "text": [
        "\n",
        "Run #: 100"
       ]
      },
      {
       "output_type": "stream",
       "stream": "stdout",
       "text": [
        "\n",
        "Patsy Function Name: f_TN_D"
       ]
      },
      {
       "output_type": "stream",
       "stream": "stdout",
       "text": [
        "\n",
        "Patsy Function: \n",
        "    fail_to_finish_high_school_in_4_years ~ GPA_Science_8th_grade + GPA_8th_grade + GPA_SocSci_8th_grade + \n",
        "    GPA_Math_8th_grade + exc_abs_8th_grade + unexc_abs_8th_grade + GPA_ENG_8th_grade + \n",
        "    C(school_code_8th_grade) + C(eds_8th_grade) + C(swd_8th_grade) + C(lep_8th_grade) + C(sex_8th_grade) + \n",
        "    C(ethnic_8th_grade) + C(CITY_8th_grade) + C(ZIP_8th_grade)\n",
        "    \n",
        "Imputation type: imputeWithMedianOrMode\n",
        "Run #: 25"
       ]
      },
      {
       "output_type": "stream",
       "stream": "stdout",
       "text": [
        "\n",
        "Run #: 50"
       ]
      },
      {
       "output_type": "stream",
       "stream": "stdout",
       "text": [
        "\n",
        "Run #: 75"
       ]
      },
      {
       "output_type": "stream",
       "stream": "stdout",
       "text": [
        "\n",
        "Run #: 100"
       ]
      },
      {
       "output_type": "stream",
       "stream": "stdout",
       "text": [
        "\n",
        "Imputation type: imputeWithEmpDraws"
       ]
      },
      {
       "output_type": "stream",
       "stream": "stdout",
       "text": [
        "\n",
        "Run #: 25"
       ]
      },
      {
       "output_type": "stream",
       "stream": "stdout",
       "text": [
        "\n",
        "Run #: 50"
       ]
      },
      {
       "output_type": "stream",
       "stream": "stdout",
       "text": [
        "\n",
        "Run #: 75"
       ]
      },
      {
       "output_type": "stream",
       "stream": "stdout",
       "text": [
        "\n",
        "Run #: 100"
       ]
      },
      {
       "output_type": "stream",
       "stream": "stdout",
       "text": [
        "\n",
        "Imputation type: imputeWithNegOne"
       ]
      },
      {
       "output_type": "stream",
       "stream": "stdout",
       "text": [
        "\n",
        "Run #: 25"
       ]
      },
      {
       "output_type": "stream",
       "stream": "stdout",
       "text": [
        "\n",
        "Run #: 50"
       ]
      },
      {
       "output_type": "stream",
       "stream": "stdout",
       "text": [
        "\n",
        "Run #: 75"
       ]
      },
      {
       "output_type": "stream",
       "stream": "stdout",
       "text": [
        "\n",
        "Run #: 100"
       ]
      },
      {
       "output_type": "stream",
       "stream": "stdout",
       "text": [
        "\n",
        "Patsy Function Name: f_AN_D"
       ]
      },
      {
       "output_type": "stream",
       "stream": "stdout",
       "text": [
        "\n",
        "Patsy Function: \n",
        "    fail_to_finish_high_school_in_4_years ~ GPA_Science_8th_grade + GPA_8th_grade + GPA_SocSci_8th_grade + \n",
        "    GPA_Math_8th_grade + exc_abs_8th_grade + unexc_abs_8th_grade + GPA_ENG_8th_grade + \n",
        "    NumAdvanced_8th_grade + Num_Marks_8th_grade + NumAdvanced_SocSci_8th_grade + times_tardy_8th_grade +\n",
        "    Num_Science_8th_grade + Num_SocSci_8th_grade + NumAdvanced_Science_8th_grade + NumAdvanced_ENG_8th_grade +\n",
        "    Num_ENG_8th_grade + Num_Math_8th_grade + NumAdvanced_Math_8th_grade + C(retained_in_8_majority_vote) +\n",
        "    C(school_code_8th_grade) + C(eds_8th_grade) + C(swd_8th_grade) + \n",
        "    C(lep_8th_grade) + C(sex_8th_grade) + C(ethnic_8th_grade) + C(CITY_8th_grade) + C(ZIP_8th_grade)\n",
        "    \n",
        "Imputation type: imputeWithMedianOrMode\n",
        "Run #: 25"
       ]
      },
      {
       "output_type": "stream",
       "stream": "stdout",
       "text": [
        "\n",
        "Run #: 50"
       ]
      },
      {
       "output_type": "stream",
       "stream": "stdout",
       "text": [
        "\n",
        "Run #: 75"
       ]
      },
      {
       "output_type": "stream",
       "stream": "stdout",
       "text": [
        "\n",
        "Run #: 100"
       ]
      },
      {
       "output_type": "stream",
       "stream": "stdout",
       "text": [
        "\n",
        "Imputation type: imputeWithEmpDraws"
       ]
      },
      {
       "output_type": "stream",
       "stream": "stdout",
       "text": [
        "\n",
        "Run #: 25"
       ]
      },
      {
       "output_type": "stream",
       "stream": "stdout",
       "text": [
        "\n",
        "Run #: 50"
       ]
      },
      {
       "output_type": "stream",
       "stream": "stdout",
       "text": [
        "\n",
        "Run #: 75"
       ]
      },
      {
       "output_type": "stream",
       "stream": "stdout",
       "text": [
        "\n",
        "Run #: 100"
       ]
      },
      {
       "output_type": "stream",
       "stream": "stdout",
       "text": [
        "\n",
        "Imputation type: imputeWithNegOne"
       ]
      },
      {
       "output_type": "stream",
       "stream": "stdout",
       "text": [
        "\n",
        "Run #: 25"
       ]
      },
      {
       "output_type": "stream",
       "stream": "stdout",
       "text": [
        "\n",
        "Run #: 50"
       ]
      },
      {
       "output_type": "stream",
       "stream": "stdout",
       "text": [
        "\n",
        "Run #: 75"
       ]
      },
      {
       "output_type": "stream",
       "stream": "stdout",
       "text": [
        "\n",
        "Run #: 100"
       ]
      },
      {
       "output_type": "stream",
       "stream": "stdout",
       "text": [
        "\n",
        "Patsy Function Name: f_AN_D_ANXD"
       ]
      },
      {
       "output_type": "stream",
       "stream": "stdout",
       "text": [
        "\n",
        "Patsy Function: \n",
        "    fail_to_finish_high_school_in_4_years ~ (GPA_Science_8th_grade + GPA_8th_grade + GPA_SocSci_8th_grade + \n",
        "    GPA_Math_8th_grade + exc_abs_8th_grade + unexc_abs_8th_grade + GPA_ENG_8th_grade + \n",
        "    NumAdvanced_8th_grade + Num_Marks_8th_grade + NumAdvanced_SocSci_8th_grade + times_tardy_8th_grade +\n",
        "    Num_Science_8th_grade + Num_SocSci_8th_grade + NumAdvanced_Science_8th_grade + NumAdvanced_ENG_8th_grade +\n",
        "    Num_ENG_8th_grade + Num_Math_8th_grade + NumAdvanced_Math_8th_grade + C(retained_in_8_majority_vote)) *\n",
        "    (C(school_code_8th_grade) + C(eds_8th_grade) + C(swd_8th_grade) + \n",
        "    C(lep_8th_grade) + C(sex_8th_grade) + C(ethnic_8th_grade) + C(CITY_8th_grade) + C(ZIP_8th_grade))\n",
        "    \n",
        "Imputation type: imputeWithMedianOrMode\n",
        "Run #: 25"
       ]
      },
      {
       "output_type": "stream",
       "stream": "stdout",
       "text": [
        "\n"
       ]
      },
      {
       "ename": "KeyboardInterrupt",
       "evalue": "",
       "output_type": "pyerr",
       "traceback": [
        "\u001b[0;31m---------------------------------------------------------------------------\u001b[0m\n\u001b[0;31mKeyboardInterrupt\u001b[0m                         Traceback (most recent call last)",
        "\u001b[0;32m<ipython-input-19-cadf234569ff>\u001b[0m in \u001b[0;36m<module>\u001b[0;34m()\u001b[0m\n\u001b[1;32m     25\u001b[0m                 resN.append(ppl.runPipe(train_data, test_data, important_features, outcome_col,median_features=median_features,\n\u001b[1;32m     26\u001b[0m                                         \u001b[0mimputeFuncStr\u001b[0m \u001b[0;34m=\u001b[0m \u001b[0mimp\u001b[0m\u001b[0;34m,\u001b[0m \u001b[0mclf\u001b[0m \u001b[0;34m=\u001b[0m \u001b[0mclf\u001b[0m\u001b[0;34m,\u001b[0m \u001b[0mclf_name\u001b[0m \u001b[0;34m=\u001b[0m \u001b[0mclf_name\u001b[0m\u001b[0;34m,\u001b[0m \u001b[0mpatsyf\u001b[0m \u001b[0;34m=\u001b[0m \u001b[0mpatsyf\u001b[0m\u001b[0;34m,\u001b[0m\u001b[0;34m\u001b[0m\u001b[0m\n\u001b[0;32m---> 27\u001b[0;31m                                         printOutput = False, seed = i, do_get_feature_importances=False))\n\u001b[0m\u001b[1;32m     28\u001b[0m \u001b[0;34m\u001b[0m\u001b[0m\n\u001b[1;32m     29\u001b[0m             multiRunResults3.append(ppl.convertRunsToMeanStdAddInfo(pd.DataFrame(resN),clf,clf_name,num_runs,modelGrade,\n",
        "\u001b[0;32m/Users/Nasir/Documents/DSaPP/SharedGit/DSAPP-Education/model/pipeline.py\u001b[0m in \u001b[0;36mrunPipe\u001b[0;34m(train_data, test_data, important_features, outcome_col, median_features, imputeFuncStr, clf, clf_name, patsyf, preprocessFuncStr, printOutput, seed, do_get_feature_importances)\u001b[0m\n\u001b[1;32m     38\u001b[0m                                                                     printFeatureSelection=printOutput, seed = seed)\n\u001b[1;32m     39\u001b[0m \u001b[0;34m\u001b[0m\u001b[0m\n\u001b[0;32m---> 40\u001b[0;31m     \u001b[0mfitted_clf\u001b[0m \u001b[0;34m=\u001b[0m \u001b[0mclf\u001b[0m\u001b[0;34m.\u001b[0m\u001b[0mfit\u001b[0m\u001b[0;34m(\u001b[0m\u001b[0mtrain_X\u001b[0m\u001b[0;34m,\u001b[0m\u001b[0mtrain_y\u001b[0m\u001b[0;34m)\u001b[0m\u001b[0;34m\u001b[0m\u001b[0m\n\u001b[0m\u001b[1;32m     41\u001b[0m \u001b[0;34m\u001b[0m\u001b[0m\n\u001b[1;32m     42\u001b[0m     R = dg.runDiagnostics(fitted_clf, test_X, test_y, allFeatures, clf_name, do_get_feature_importances=do_get_feature_importances, \n",
        "\u001b[0;32m/Users/Nasir/anaconda/lib/python2.7/site-packages/sklearn/svm/base.pyc\u001b[0m in \u001b[0;36mfit\u001b[0;34m(self, X, y)\u001b[0m\n\u001b[1;32m    701\u001b[0m                                               \u001b[0mself\u001b[0m\u001b[0;34m.\u001b[0m\u001b[0mC\u001b[0m\u001b[0;34m,\u001b[0m\u001b[0;34m\u001b[0m\u001b[0m\n\u001b[1;32m    702\u001b[0m                                               \u001b[0mself\u001b[0m\u001b[0;34m.\u001b[0m\u001b[0mclass_weight_\u001b[0m\u001b[0;34m,\u001b[0m\u001b[0;34m\u001b[0m\u001b[0m\n\u001b[0;32m--> 703\u001b[0;31m                                               rnd.randint(np.iinfo('i').max))\n\u001b[0m\u001b[1;32m    704\u001b[0m         \u001b[0;31m# Regarding rnd.randint(..) in the above signature:\u001b[0m\u001b[0;34m\u001b[0m\u001b[0;34m\u001b[0m\u001b[0m\n\u001b[1;32m    705\u001b[0m         \u001b[0;31m# seed for srand in range [0..INT_MAX); due to limitations in Numpy\u001b[0m\u001b[0;34m\u001b[0m\u001b[0;34m\u001b[0m\u001b[0m\n",
        "\u001b[0;31mKeyboardInterrupt\u001b[0m: "
       ]
      }
     ],
     "prompt_number": 19
    },
    {
     "cell_type": "code",
     "collapsed": false,
     "input": [
      "#Loop through other classifiers - other LRs\n",
      "\n",
      "multiRunResults4 = []\n",
      "num_runs = 100\n",
      "\n",
      "allClf_names = ['LR1_loC','LR2_hiC','LR2_loC'] \n",
      "allPatsyStrs = ['f_D', 'f_TN', 'f_TN_D', 'f_AN_D'] \n",
      "allPatsyFs = [f_D, f_TN, f_TN_D, f_AN_D] \n",
      "impTypeStrs = ['imputeWithMedianOrMode','imputeWithEmpDraws','imputeWithNegOne']\n",
      "\n",
      "for clf_name in allClf_names:\n",
      "    print \"Classifier: \" + clf_name\n",
      "    \n",
      "    for p, patsyf in enumerate(allPatsyFs):\n",
      "        print \"Patsy Function Name: \" + allPatsyStrs[p]\n",
      "        print \"Patsy Function: \" + patsyf\n",
      "        \n",
      "        for imp in impTypeStrs:\n",
      "            print \"Imputation type: \" + imp\n",
      "            resN = []\n",
      "            for i in range(0,num_runs):\n",
      "                if (i+1)%25 == 0:\n",
      "                    print \"Run #: \" + str(i+1)\n",
      "                clf = cts.defaultClassifiers(clf_name,random_state=i)\n",
      "                resN.append(ppl.runPipe(train_data, test_data, important_features, outcome_col,median_features=median_features,\n",
      "                                        imputeFuncStr = imp, clf = clf, clf_name = clf_name, patsyf = patsyf, \n",
      "                                        printOutput = False, seed = i, do_get_feature_importances=False))\n",
      "\n",
      "            multiRunResults4.append(ppl.convertRunsToMeanStdAddInfo(pd.DataFrame(resN),clf,clf_name,num_runs,modelGrade,\n",
      "                                                                   patsyf, imp, allPatsyStrs[p]))\n",
      "# Save output\n",
      "MRdf = pd.DataFrame(multiRunResults4)\n",
      "fname = 'MRdfLRsOther.csv'\n",
      "MRdf.to_csv('/Users/Nasir/Documents/DSaPP/Cabarrus County Public Schools/Results/' + fname)            \n"
     ],
     "language": "python",
     "metadata": {},
     "outputs": [
      {
       "output_type": "stream",
       "stream": "stdout",
       "text": [
        "Classifier: LR1_loC\n",
        "Patsy Function Name: f_D\n",
        "Patsy Function: \n",
        "    fail_to_finish_high_school_in_4_years ~ C(school_code_8th_grade) +\n",
        "    C(eds_8th_grade) + C(swd_8th_grade) + C(lep_8th_grade) + C(sex_8th_grade) + C(ethnic_8th_grade) + \n",
        "    C(CITY_8th_grade) + C(ZIP_8th_grade)\n",
        "    \n",
        "Imputation type: imputeWithMedianOrMode\n",
        "Run #: 25"
       ]
      },
      {
       "output_type": "stream",
       "stream": "stdout",
       "text": [
        "\n",
        "Run #: 50"
       ]
      },
      {
       "output_type": "stream",
       "stream": "stdout",
       "text": [
        "\n",
        "Run #: 75"
       ]
      },
      {
       "output_type": "stream",
       "stream": "stdout",
       "text": [
        "\n",
        "Run #: 100"
       ]
      },
      {
       "output_type": "stream",
       "stream": "stdout",
       "text": [
        "\n",
        "Imputation type: imputeWithEmpDraws"
       ]
      },
      {
       "output_type": "stream",
       "stream": "stdout",
       "text": [
        "\n",
        "Run #: 25"
       ]
      },
      {
       "output_type": "stream",
       "stream": "stdout",
       "text": [
        "\n",
        "Run #: 50"
       ]
      },
      {
       "output_type": "stream",
       "stream": "stdout",
       "text": [
        "\n",
        "Run #: 75"
       ]
      },
      {
       "output_type": "stream",
       "stream": "stdout",
       "text": [
        "\n",
        "Run #: 100"
       ]
      },
      {
       "output_type": "stream",
       "stream": "stdout",
       "text": [
        "\n",
        "Imputation type: imputeWithNegOne"
       ]
      },
      {
       "output_type": "stream",
       "stream": "stdout",
       "text": [
        "\n",
        "Run #: 25"
       ]
      },
      {
       "output_type": "stream",
       "stream": "stdout",
       "text": [
        "\n",
        "Run #: 50"
       ]
      },
      {
       "output_type": "stream",
       "stream": "stdout",
       "text": [
        "\n",
        "Run #: 75"
       ]
      },
      {
       "output_type": "stream",
       "stream": "stdout",
       "text": [
        "\n",
        "Run #: 100"
       ]
      },
      {
       "output_type": "stream",
       "stream": "stdout",
       "text": [
        "\n",
        "Patsy Function Name: f_TN"
       ]
      },
      {
       "output_type": "stream",
       "stream": "stdout",
       "text": [
        "\n",
        "Patsy Function: \n",
        "    fail_to_finish_high_school_in_4_years ~ GPA_Science_8th_grade + GPA_8th_grade + GPA_SocSci_8th_grade + \n",
        "    GPA_Math_8th_grade + exc_abs_8th_grade + unexc_abs_8th_grade + GPA_ENG_8th_grade\n",
        "    \n",
        "Imputation type: imputeWithMedianOrMode\n",
        "Run #: 25"
       ]
      },
      {
       "output_type": "stream",
       "stream": "stdout",
       "text": [
        "\n",
        "Run #: 50"
       ]
      },
      {
       "output_type": "stream",
       "stream": "stdout",
       "text": [
        "\n",
        "Run #: 75"
       ]
      },
      {
       "output_type": "stream",
       "stream": "stdout",
       "text": [
        "\n",
        "Run #: 100"
       ]
      },
      {
       "output_type": "stream",
       "stream": "stdout",
       "text": [
        "\n",
        "Imputation type: imputeWithEmpDraws"
       ]
      },
      {
       "output_type": "stream",
       "stream": "stdout",
       "text": [
        "\n",
        "Run #: 25"
       ]
      },
      {
       "output_type": "stream",
       "stream": "stdout",
       "text": [
        "\n",
        "Run #: 50"
       ]
      },
      {
       "output_type": "stream",
       "stream": "stdout",
       "text": [
        "\n",
        "Run #: 75"
       ]
      },
      {
       "output_type": "stream",
       "stream": "stdout",
       "text": [
        "\n",
        "Run #: 100"
       ]
      },
      {
       "output_type": "stream",
       "stream": "stdout",
       "text": [
        "\n",
        "Imputation type: imputeWithNegOne"
       ]
      },
      {
       "output_type": "stream",
       "stream": "stdout",
       "text": [
        "\n",
        "Run #: 25"
       ]
      },
      {
       "output_type": "stream",
       "stream": "stdout",
       "text": [
        "\n",
        "Run #: 50"
       ]
      },
      {
       "output_type": "stream",
       "stream": "stdout",
       "text": [
        "\n",
        "Run #: 75"
       ]
      },
      {
       "output_type": "stream",
       "stream": "stdout",
       "text": [
        "\n",
        "Run #: 100"
       ]
      },
      {
       "output_type": "stream",
       "stream": "stdout",
       "text": [
        "\n",
        "Patsy Function Name: f_TN_D"
       ]
      },
      {
       "output_type": "stream",
       "stream": "stdout",
       "text": [
        "\n",
        "Patsy Function: \n",
        "    fail_to_finish_high_school_in_4_years ~ GPA_Science_8th_grade + GPA_8th_grade + GPA_SocSci_8th_grade + \n",
        "    GPA_Math_8th_grade + exc_abs_8th_grade + unexc_abs_8th_grade + GPA_ENG_8th_grade + \n",
        "    C(school_code_8th_grade) + C(eds_8th_grade) + C(swd_8th_grade) + C(lep_8th_grade) + C(sex_8th_grade) + \n",
        "    C(ethnic_8th_grade) + C(CITY_8th_grade) + C(ZIP_8th_grade)\n",
        "    \n",
        "Imputation type: imputeWithMedianOrMode\n",
        "Run #: 25"
       ]
      },
      {
       "output_type": "stream",
       "stream": "stdout",
       "text": [
        "\n",
        "Run #: 50"
       ]
      },
      {
       "output_type": "stream",
       "stream": "stdout",
       "text": [
        "\n",
        "Run #: 75"
       ]
      },
      {
       "output_type": "stream",
       "stream": "stdout",
       "text": [
        "\n",
        "Run #: 100"
       ]
      },
      {
       "output_type": "stream",
       "stream": "stdout",
       "text": [
        "\n",
        "Imputation type: imputeWithEmpDraws"
       ]
      },
      {
       "output_type": "stream",
       "stream": "stdout",
       "text": [
        "\n",
        "Run #: 25"
       ]
      },
      {
       "output_type": "stream",
       "stream": "stdout",
       "text": [
        "\n",
        "Run #: 50"
       ]
      },
      {
       "output_type": "stream",
       "stream": "stdout",
       "text": [
        "\n",
        "Run #: 75"
       ]
      },
      {
       "output_type": "stream",
       "stream": "stdout",
       "text": [
        "\n",
        "Run #: 100"
       ]
      },
      {
       "output_type": "stream",
       "stream": "stdout",
       "text": [
        "\n",
        "Imputation type: imputeWithNegOne"
       ]
      },
      {
       "output_type": "stream",
       "stream": "stdout",
       "text": [
        "\n",
        "Run #: 25"
       ]
      },
      {
       "output_type": "stream",
       "stream": "stdout",
       "text": [
        "\n",
        "Run #: 50"
       ]
      },
      {
       "output_type": "stream",
       "stream": "stdout",
       "text": [
        "\n",
        "Run #: 75"
       ]
      },
      {
       "output_type": "stream",
       "stream": "stdout",
       "text": [
        "\n",
        "Run #: 100"
       ]
      },
      {
       "output_type": "stream",
       "stream": "stdout",
       "text": [
        "\n",
        "Patsy Function Name: f_AN_D"
       ]
      },
      {
       "output_type": "stream",
       "stream": "stdout",
       "text": [
        "\n",
        "Patsy Function: \n",
        "    fail_to_finish_high_school_in_4_years ~ GPA_Science_8th_grade + GPA_8th_grade + GPA_SocSci_8th_grade + \n",
        "    GPA_Math_8th_grade + exc_abs_8th_grade + unexc_abs_8th_grade + GPA_ENG_8th_grade + \n",
        "    NumAdvanced_8th_grade + Num_Marks_8th_grade + NumAdvanced_SocSci_8th_grade + times_tardy_8th_grade +\n",
        "    Num_Science_8th_grade + Num_SocSci_8th_grade + NumAdvanced_Science_8th_grade + NumAdvanced_ENG_8th_grade +\n",
        "    Num_ENG_8th_grade + Num_Math_8th_grade + NumAdvanced_Math_8th_grade + C(retained_in_8_majority_vote) +\n",
        "    C(school_code_8th_grade) + C(eds_8th_grade) + C(swd_8th_grade) + \n",
        "    C(lep_8th_grade) + C(sex_8th_grade) + C(ethnic_8th_grade) + C(CITY_8th_grade) + C(ZIP_8th_grade)\n",
        "    \n",
        "Imputation type: imputeWithMedianOrMode\n",
        "Run #: 25"
       ]
      },
      {
       "output_type": "stream",
       "stream": "stdout",
       "text": [
        "\n",
        "Run #: 50"
       ]
      },
      {
       "output_type": "stream",
       "stream": "stdout",
       "text": [
        "\n",
        "Run #: 75"
       ]
      },
      {
       "output_type": "stream",
       "stream": "stdout",
       "text": [
        "\n",
        "Run #: 100"
       ]
      },
      {
       "output_type": "stream",
       "stream": "stdout",
       "text": [
        "\n",
        "Imputation type: imputeWithEmpDraws"
       ]
      },
      {
       "output_type": "stream",
       "stream": "stdout",
       "text": [
        "\n",
        "Run #: 25"
       ]
      },
      {
       "output_type": "stream",
       "stream": "stdout",
       "text": [
        "\n",
        "Run #: 50"
       ]
      },
      {
       "output_type": "stream",
       "stream": "stdout",
       "text": [
        "\n",
        "Run #: 75"
       ]
      },
      {
       "output_type": "stream",
       "stream": "stdout",
       "text": [
        "\n",
        "Run #: 100"
       ]
      },
      {
       "output_type": "stream",
       "stream": "stdout",
       "text": [
        "\n",
        "Imputation type: imputeWithNegOne"
       ]
      },
      {
       "output_type": "stream",
       "stream": "stdout",
       "text": [
        "\n",
        "Run #: 25"
       ]
      },
      {
       "output_type": "stream",
       "stream": "stdout",
       "text": [
        "\n",
        "Run #: 50"
       ]
      },
      {
       "output_type": "stream",
       "stream": "stdout",
       "text": [
        "\n",
        "Run #: 75"
       ]
      },
      {
       "output_type": "stream",
       "stream": "stdout",
       "text": [
        "\n",
        "Run #: 100"
       ]
      },
      {
       "output_type": "stream",
       "stream": "stdout",
       "text": [
        "\n",
        "Classifier: LR2_hiC"
       ]
      },
      {
       "output_type": "stream",
       "stream": "stdout",
       "text": [
        "\n",
        "Patsy Function Name: f_D\n",
        "Patsy Function: \n",
        "    fail_to_finish_high_school_in_4_years ~ C(school_code_8th_grade) +\n",
        "    C(eds_8th_grade) + C(swd_8th_grade) + C(lep_8th_grade) + C(sex_8th_grade) + C(ethnic_8th_grade) + \n",
        "    C(CITY_8th_grade) + C(ZIP_8th_grade)\n",
        "    \n",
        "Imputation type: imputeWithMedianOrMode\n",
        "Run #: 25"
       ]
      },
      {
       "output_type": "stream",
       "stream": "stdout",
       "text": [
        "\n",
        "Run #: 50"
       ]
      },
      {
       "output_type": "stream",
       "stream": "stdout",
       "text": [
        "\n",
        "Run #: 75"
       ]
      },
      {
       "output_type": "stream",
       "stream": "stdout",
       "text": [
        "\n",
        "Run #: 100"
       ]
      },
      {
       "output_type": "stream",
       "stream": "stdout",
       "text": [
        "\n",
        "Imputation type: imputeWithEmpDraws"
       ]
      },
      {
       "output_type": "stream",
       "stream": "stdout",
       "text": [
        "\n",
        "Run #: 25"
       ]
      },
      {
       "output_type": "stream",
       "stream": "stdout",
       "text": [
        "\n",
        "Run #: 50"
       ]
      },
      {
       "output_type": "stream",
       "stream": "stdout",
       "text": [
        "\n",
        "Run #: 75"
       ]
      },
      {
       "output_type": "stream",
       "stream": "stdout",
       "text": [
        "\n",
        "Run #: 100"
       ]
      },
      {
       "output_type": "stream",
       "stream": "stdout",
       "text": [
        "\n",
        "Imputation type: imputeWithNegOne"
       ]
      },
      {
       "output_type": "stream",
       "stream": "stdout",
       "text": [
        "\n",
        "Run #: 25"
       ]
      },
      {
       "output_type": "stream",
       "stream": "stdout",
       "text": [
        "\n",
        "Run #: 50"
       ]
      },
      {
       "output_type": "stream",
       "stream": "stdout",
       "text": [
        "\n",
        "Run #: 75"
       ]
      },
      {
       "output_type": "stream",
       "stream": "stdout",
       "text": [
        "\n",
        "Run #: 100"
       ]
      },
      {
       "output_type": "stream",
       "stream": "stdout",
       "text": [
        "\n",
        "Patsy Function Name: f_TN"
       ]
      },
      {
       "output_type": "stream",
       "stream": "stdout",
       "text": [
        "\n",
        "Patsy Function: \n",
        "    fail_to_finish_high_school_in_4_years ~ GPA_Science_8th_grade + GPA_8th_grade + GPA_SocSci_8th_grade + \n",
        "    GPA_Math_8th_grade + exc_abs_8th_grade + unexc_abs_8th_grade + GPA_ENG_8th_grade\n",
        "    \n",
        "Imputation type: imputeWithMedianOrMode\n",
        "Run #: 25"
       ]
      },
      {
       "output_type": "stream",
       "stream": "stdout",
       "text": [
        "\n",
        "Run #: 50"
       ]
      },
      {
       "output_type": "stream",
       "stream": "stdout",
       "text": [
        "\n",
        "Run #: 75"
       ]
      },
      {
       "output_type": "stream",
       "stream": "stdout",
       "text": [
        "\n",
        "Run #: 100"
       ]
      },
      {
       "output_type": "stream",
       "stream": "stdout",
       "text": [
        "\n",
        "Imputation type: imputeWithEmpDraws"
       ]
      },
      {
       "output_type": "stream",
       "stream": "stdout",
       "text": [
        "\n",
        "Run #: 25"
       ]
      },
      {
       "output_type": "stream",
       "stream": "stdout",
       "text": [
        "\n",
        "Run #: 50"
       ]
      },
      {
       "output_type": "stream",
       "stream": "stdout",
       "text": [
        "\n",
        "Run #: 75"
       ]
      },
      {
       "output_type": "stream",
       "stream": "stdout",
       "text": [
        "\n",
        "Run #: 100"
       ]
      },
      {
       "output_type": "stream",
       "stream": "stdout",
       "text": [
        "\n",
        "Imputation type: imputeWithNegOne"
       ]
      },
      {
       "output_type": "stream",
       "stream": "stdout",
       "text": [
        "\n",
        "Run #: 25"
       ]
      },
      {
       "output_type": "stream",
       "stream": "stdout",
       "text": [
        "\n",
        "Run #: 50"
       ]
      },
      {
       "output_type": "stream",
       "stream": "stdout",
       "text": [
        "\n",
        "Run #: 75"
       ]
      },
      {
       "output_type": "stream",
       "stream": "stdout",
       "text": [
        "\n",
        "Run #: 100"
       ]
      },
      {
       "output_type": "stream",
       "stream": "stdout",
       "text": [
        "\n",
        "Patsy Function Name: f_TN_D"
       ]
      },
      {
       "output_type": "stream",
       "stream": "stdout",
       "text": [
        "\n",
        "Patsy Function: \n",
        "    fail_to_finish_high_school_in_4_years ~ GPA_Science_8th_grade + GPA_8th_grade + GPA_SocSci_8th_grade + \n",
        "    GPA_Math_8th_grade + exc_abs_8th_grade + unexc_abs_8th_grade + GPA_ENG_8th_grade + \n",
        "    C(school_code_8th_grade) + C(eds_8th_grade) + C(swd_8th_grade) + C(lep_8th_grade) + C(sex_8th_grade) + \n",
        "    C(ethnic_8th_grade) + C(CITY_8th_grade) + C(ZIP_8th_grade)\n",
        "    \n",
        "Imputation type: imputeWithMedianOrMode\n",
        "Run #: 25"
       ]
      },
      {
       "output_type": "stream",
       "stream": "stdout",
       "text": [
        "\n",
        "Run #: 50"
       ]
      },
      {
       "output_type": "stream",
       "stream": "stdout",
       "text": [
        "\n",
        "Run #: 75"
       ]
      },
      {
       "output_type": "stream",
       "stream": "stdout",
       "text": [
        "\n",
        "Run #: 100"
       ]
      },
      {
       "output_type": "stream",
       "stream": "stdout",
       "text": [
        "\n",
        "Imputation type: imputeWithEmpDraws"
       ]
      },
      {
       "output_type": "stream",
       "stream": "stdout",
       "text": [
        "\n",
        "Run #: 25"
       ]
      },
      {
       "output_type": "stream",
       "stream": "stdout",
       "text": [
        "\n",
        "Run #: 50"
       ]
      },
      {
       "output_type": "stream",
       "stream": "stdout",
       "text": [
        "\n",
        "Run #: 75"
       ]
      },
      {
       "output_type": "stream",
       "stream": "stdout",
       "text": [
        "\n",
        "Run #: 100"
       ]
      },
      {
       "output_type": "stream",
       "stream": "stdout",
       "text": [
        "\n",
        "Imputation type: imputeWithNegOne"
       ]
      },
      {
       "output_type": "stream",
       "stream": "stdout",
       "text": [
        "\n",
        "Run #: 25"
       ]
      },
      {
       "output_type": "stream",
       "stream": "stdout",
       "text": [
        "\n",
        "Run #: 50"
       ]
      },
      {
       "output_type": "stream",
       "stream": "stdout",
       "text": [
        "\n",
        "Run #: 75"
       ]
      },
      {
       "output_type": "stream",
       "stream": "stdout",
       "text": [
        "\n",
        "Run #: 100"
       ]
      },
      {
       "output_type": "stream",
       "stream": "stdout",
       "text": [
        "\n",
        "Patsy Function Name: f_AN_D"
       ]
      },
      {
       "output_type": "stream",
       "stream": "stdout",
       "text": [
        "\n",
        "Patsy Function: \n",
        "    fail_to_finish_high_school_in_4_years ~ GPA_Science_8th_grade + GPA_8th_grade + GPA_SocSci_8th_grade + \n",
        "    GPA_Math_8th_grade + exc_abs_8th_grade + unexc_abs_8th_grade + GPA_ENG_8th_grade + \n",
        "    NumAdvanced_8th_grade + Num_Marks_8th_grade + NumAdvanced_SocSci_8th_grade + times_tardy_8th_grade +\n",
        "    Num_Science_8th_grade + Num_SocSci_8th_grade + NumAdvanced_Science_8th_grade + NumAdvanced_ENG_8th_grade +\n",
        "    Num_ENG_8th_grade + Num_Math_8th_grade + NumAdvanced_Math_8th_grade + C(retained_in_8_majority_vote) +\n",
        "    C(school_code_8th_grade) + C(eds_8th_grade) + C(swd_8th_grade) + \n",
        "    C(lep_8th_grade) + C(sex_8th_grade) + C(ethnic_8th_grade) + C(CITY_8th_grade) + C(ZIP_8th_grade)\n",
        "    \n",
        "Imputation type: imputeWithMedianOrMode\n",
        "Run #: 25"
       ]
      },
      {
       "output_type": "stream",
       "stream": "stdout",
       "text": [
        "\n",
        "Run #: 50"
       ]
      },
      {
       "output_type": "stream",
       "stream": "stdout",
       "text": [
        "\n",
        "Run #: 75"
       ]
      },
      {
       "output_type": "stream",
       "stream": "stdout",
       "text": [
        "\n",
        "Run #: 100"
       ]
      },
      {
       "output_type": "stream",
       "stream": "stdout",
       "text": [
        "\n",
        "Imputation type: imputeWithEmpDraws"
       ]
      },
      {
       "output_type": "stream",
       "stream": "stdout",
       "text": [
        "\n",
        "Run #: 25"
       ]
      },
      {
       "output_type": "stream",
       "stream": "stdout",
       "text": [
        "\n",
        "Run #: 50"
       ]
      },
      {
       "output_type": "stream",
       "stream": "stdout",
       "text": [
        "\n",
        "Run #: 75"
       ]
      },
      {
       "output_type": "stream",
       "stream": "stdout",
       "text": [
        "\n",
        "Run #: 100"
       ]
      },
      {
       "output_type": "stream",
       "stream": "stdout",
       "text": [
        "\n",
        "Imputation type: imputeWithNegOne"
       ]
      },
      {
       "output_type": "stream",
       "stream": "stdout",
       "text": [
        "\n",
        "Run #: 25"
       ]
      },
      {
       "output_type": "stream",
       "stream": "stdout",
       "text": [
        "\n",
        "Run #: 50"
       ]
      },
      {
       "output_type": "stream",
       "stream": "stdout",
       "text": [
        "\n",
        "Run #: 75"
       ]
      },
      {
       "output_type": "stream",
       "stream": "stdout",
       "text": [
        "\n",
        "Run #: 100"
       ]
      },
      {
       "output_type": "stream",
       "stream": "stdout",
       "text": [
        "\n",
        "Classifier: LR2_loC"
       ]
      },
      {
       "output_type": "stream",
       "stream": "stdout",
       "text": [
        "\n",
        "Patsy Function Name: f_D\n",
        "Patsy Function: \n",
        "    fail_to_finish_high_school_in_4_years ~ C(school_code_8th_grade) +\n",
        "    C(eds_8th_grade) + C(swd_8th_grade) + C(lep_8th_grade) + C(sex_8th_grade) + C(ethnic_8th_grade) + \n",
        "    C(CITY_8th_grade) + C(ZIP_8th_grade)\n",
        "    \n",
        "Imputation type: imputeWithMedianOrMode\n",
        "Run #: 25"
       ]
      },
      {
       "output_type": "stream",
       "stream": "stdout",
       "text": [
        "\n",
        "Run #: 50"
       ]
      },
      {
       "output_type": "stream",
       "stream": "stdout",
       "text": [
        "\n",
        "Run #: 75"
       ]
      },
      {
       "output_type": "stream",
       "stream": "stdout",
       "text": [
        "\n",
        "Run #: 100"
       ]
      },
      {
       "output_type": "stream",
       "stream": "stdout",
       "text": [
        "\n",
        "Imputation type: imputeWithEmpDraws"
       ]
      },
      {
       "output_type": "stream",
       "stream": "stdout",
       "text": [
        "\n",
        "Run #: 25"
       ]
      },
      {
       "output_type": "stream",
       "stream": "stdout",
       "text": [
        "\n",
        "Run #: 50"
       ]
      },
      {
       "output_type": "stream",
       "stream": "stdout",
       "text": [
        "\n",
        "Run #: 75"
       ]
      },
      {
       "output_type": "stream",
       "stream": "stdout",
       "text": [
        "\n",
        "Run #: 100"
       ]
      },
      {
       "output_type": "stream",
       "stream": "stdout",
       "text": [
        "\n",
        "Imputation type: imputeWithNegOne"
       ]
      },
      {
       "output_type": "stream",
       "stream": "stdout",
       "text": [
        "\n",
        "Run #: 25"
       ]
      },
      {
       "output_type": "stream",
       "stream": "stdout",
       "text": [
        "\n",
        "Run #: 50"
       ]
      },
      {
       "output_type": "stream",
       "stream": "stdout",
       "text": [
        "\n",
        "Run #: 75"
       ]
      },
      {
       "output_type": "stream",
       "stream": "stdout",
       "text": [
        "\n",
        "Run #: 100"
       ]
      },
      {
       "output_type": "stream",
       "stream": "stdout",
       "text": [
        "\n",
        "Patsy Function Name: f_TN"
       ]
      },
      {
       "output_type": "stream",
       "stream": "stdout",
       "text": [
        "\n",
        "Patsy Function: \n",
        "    fail_to_finish_high_school_in_4_years ~ GPA_Science_8th_grade + GPA_8th_grade + GPA_SocSci_8th_grade + \n",
        "    GPA_Math_8th_grade + exc_abs_8th_grade + unexc_abs_8th_grade + GPA_ENG_8th_grade\n",
        "    \n",
        "Imputation type: imputeWithMedianOrMode\n",
        "Run #: 25"
       ]
      },
      {
       "output_type": "stream",
       "stream": "stdout",
       "text": [
        "\n",
        "Run #: 50"
       ]
      },
      {
       "output_type": "stream",
       "stream": "stdout",
       "text": [
        "\n",
        "Run #: 75"
       ]
      },
      {
       "output_type": "stream",
       "stream": "stdout",
       "text": [
        "\n",
        "Run #: 100"
       ]
      },
      {
       "output_type": "stream",
       "stream": "stdout",
       "text": [
        "\n",
        "Imputation type: imputeWithEmpDraws"
       ]
      },
      {
       "output_type": "stream",
       "stream": "stdout",
       "text": [
        "\n",
        "Run #: 25"
       ]
      },
      {
       "output_type": "stream",
       "stream": "stdout",
       "text": [
        "\n",
        "Run #: 50"
       ]
      },
      {
       "output_type": "stream",
       "stream": "stdout",
       "text": [
        "\n",
        "Run #: 75"
       ]
      },
      {
       "output_type": "stream",
       "stream": "stdout",
       "text": [
        "\n",
        "Run #: 100"
       ]
      },
      {
       "output_type": "stream",
       "stream": "stdout",
       "text": [
        "\n",
        "Imputation type: imputeWithNegOne"
       ]
      },
      {
       "output_type": "stream",
       "stream": "stdout",
       "text": [
        "\n",
        "Run #: 25"
       ]
      },
      {
       "output_type": "stream",
       "stream": "stdout",
       "text": [
        "\n",
        "Run #: 50"
       ]
      },
      {
       "output_type": "stream",
       "stream": "stdout",
       "text": [
        "\n",
        "Run #: 75"
       ]
      },
      {
       "output_type": "stream",
       "stream": "stdout",
       "text": [
        "\n",
        "Run #: 100"
       ]
      },
      {
       "output_type": "stream",
       "stream": "stdout",
       "text": [
        "\n",
        "Patsy Function Name: f_TN_D"
       ]
      },
      {
       "output_type": "stream",
       "stream": "stdout",
       "text": [
        "\n",
        "Patsy Function: \n",
        "    fail_to_finish_high_school_in_4_years ~ GPA_Science_8th_grade + GPA_8th_grade + GPA_SocSci_8th_grade + \n",
        "    GPA_Math_8th_grade + exc_abs_8th_grade + unexc_abs_8th_grade + GPA_ENG_8th_grade + \n",
        "    C(school_code_8th_grade) + C(eds_8th_grade) + C(swd_8th_grade) + C(lep_8th_grade) + C(sex_8th_grade) + \n",
        "    C(ethnic_8th_grade) + C(CITY_8th_grade) + C(ZIP_8th_grade)\n",
        "    \n",
        "Imputation type: imputeWithMedianOrMode\n",
        "Run #: 25"
       ]
      },
      {
       "output_type": "stream",
       "stream": "stdout",
       "text": [
        "\n",
        "Run #: 50"
       ]
      },
      {
       "output_type": "stream",
       "stream": "stdout",
       "text": [
        "\n",
        "Run #: 75"
       ]
      },
      {
       "output_type": "stream",
       "stream": "stdout",
       "text": [
        "\n",
        "Run #: 100"
       ]
      },
      {
       "output_type": "stream",
       "stream": "stdout",
       "text": [
        "\n",
        "Imputation type: imputeWithEmpDraws"
       ]
      },
      {
       "output_type": "stream",
       "stream": "stdout",
       "text": [
        "\n",
        "Run #: 25"
       ]
      },
      {
       "output_type": "stream",
       "stream": "stdout",
       "text": [
        "\n",
        "Run #: 50"
       ]
      },
      {
       "output_type": "stream",
       "stream": "stdout",
       "text": [
        "\n",
        "Run #: 75"
       ]
      },
      {
       "output_type": "stream",
       "stream": "stdout",
       "text": [
        "\n",
        "Run #: 100"
       ]
      },
      {
       "output_type": "stream",
       "stream": "stdout",
       "text": [
        "\n",
        "Imputation type: imputeWithNegOne"
       ]
      },
      {
       "output_type": "stream",
       "stream": "stdout",
       "text": [
        "\n",
        "Run #: 25"
       ]
      },
      {
       "output_type": "stream",
       "stream": "stdout",
       "text": [
        "\n",
        "Run #: 50"
       ]
      },
      {
       "output_type": "stream",
       "stream": "stdout",
       "text": [
        "\n",
        "Run #: 75"
       ]
      },
      {
       "output_type": "stream",
       "stream": "stdout",
       "text": [
        "\n",
        "Run #: 100"
       ]
      },
      {
       "output_type": "stream",
       "stream": "stdout",
       "text": [
        "\n",
        "Patsy Function Name: f_AN_D"
       ]
      },
      {
       "output_type": "stream",
       "stream": "stdout",
       "text": [
        "\n",
        "Patsy Function: \n",
        "    fail_to_finish_high_school_in_4_years ~ GPA_Science_8th_grade + GPA_8th_grade + GPA_SocSci_8th_grade + \n",
        "    GPA_Math_8th_grade + exc_abs_8th_grade + unexc_abs_8th_grade + GPA_ENG_8th_grade + \n",
        "    NumAdvanced_8th_grade + Num_Marks_8th_grade + NumAdvanced_SocSci_8th_grade + times_tardy_8th_grade +\n",
        "    Num_Science_8th_grade + Num_SocSci_8th_grade + NumAdvanced_Science_8th_grade + NumAdvanced_ENG_8th_grade +\n",
        "    Num_ENG_8th_grade + Num_Math_8th_grade + NumAdvanced_Math_8th_grade + C(retained_in_8_majority_vote) +\n",
        "    C(school_code_8th_grade) + C(eds_8th_grade) + C(swd_8th_grade) + \n",
        "    C(lep_8th_grade) + C(sex_8th_grade) + C(ethnic_8th_grade) + C(CITY_8th_grade) + C(ZIP_8th_grade)\n",
        "    \n",
        "Imputation type: imputeWithMedianOrMode\n",
        "Run #: 25"
       ]
      },
      {
       "output_type": "stream",
       "stream": "stdout",
       "text": [
        "\n",
        "Run #: 50"
       ]
      },
      {
       "output_type": "stream",
       "stream": "stdout",
       "text": [
        "\n",
        "Run #: 75"
       ]
      },
      {
       "output_type": "stream",
       "stream": "stdout",
       "text": [
        "\n",
        "Run #: 100"
       ]
      },
      {
       "output_type": "stream",
       "stream": "stdout",
       "text": [
        "\n",
        "Imputation type: imputeWithEmpDraws"
       ]
      },
      {
       "output_type": "stream",
       "stream": "stdout",
       "text": [
        "\n",
        "Run #: 25"
       ]
      },
      {
       "output_type": "stream",
       "stream": "stdout",
       "text": [
        "\n",
        "Run #: 50"
       ]
      },
      {
       "output_type": "stream",
       "stream": "stdout",
       "text": [
        "\n",
        "Run #: 75"
       ]
      },
      {
       "output_type": "stream",
       "stream": "stdout",
       "text": [
        "\n",
        "Run #: 100"
       ]
      },
      {
       "output_type": "stream",
       "stream": "stdout",
       "text": [
        "\n",
        "Imputation type: imputeWithNegOne"
       ]
      },
      {
       "output_type": "stream",
       "stream": "stdout",
       "text": [
        "\n",
        "Run #: 25"
       ]
      },
      {
       "output_type": "stream",
       "stream": "stdout",
       "text": [
        "\n",
        "Run #: 50"
       ]
      },
      {
       "output_type": "stream",
       "stream": "stdout",
       "text": [
        "\n",
        "Run #: 75"
       ]
      },
      {
       "output_type": "stream",
       "stream": "stdout",
       "text": [
        "\n",
        "Run #: 100"
       ]
      },
      {
       "output_type": "stream",
       "stream": "stdout",
       "text": [
        "\n"
       ]
      }
     ],
     "prompt_number": 16
    },
    {
     "cell_type": "code",
     "collapsed": false,
     "input": [
      "MRdf = pd.DataFrame(multiRunResults3)"
     ],
     "language": "python",
     "metadata": {},
     "outputs": [],
     "prompt_number": 20
    },
    {
     "cell_type": "code",
     "collapsed": false,
     "input": [
      "MRdf = pd.DataFrame(multiRunResults3)\n",
      "fname = 'MRdfLRsNoIxn.csv'\n",
      "MRdf.to_csv('/Users/Nasir/Documents/DSaPP/Cabarrus County Public Schools/Results/' + fname)            \n"
     ],
     "language": "python",
     "metadata": {},
     "outputs": [],
     "prompt_number": 23
    },
    {
     "cell_type": "markdown",
     "metadata": {},
     "source": [
      "* Longs lists (>1000 rows) do not seem to be saved to csv properly as a single table item\n",
      "    * Only the first and last few items appear in saved file\n",
      "* Check if they exist in pandas dataframe\n",
      "    * Might be helpful to save patsy function string as well\n",
      "        * For now can use num features as proxy\n",
      "* Create simple plots for comparing models\n",
      "* TODO: Add patsystr as a feature in final results dataframe\n",
      "* LR seems to get stuck when interaction terms are added\n",
      "    * TODO: Try running loop with only interaction patsy equations because others are completed\n",
      "    * DONE: gets stuck and too slow"
     ]
    },
    {
     "cell_type": "markdown",
     "metadata": {},
     "source": [
      "### Debugging quarterly equations - Done!\n",
      "* Conclusion: due to not having quarterly feature names in impotant_features list.\n",
      "    * Now those names are added when the features are created\n",
      "    * Also some bugs with  impute median/mode -> taking wrong value with mode - DONE"
     ]
    },
    {
     "cell_type": "markdown",
     "metadata": {},
     "source": [
      "## For 9th grade"
     ]
    },
    {
     "cell_type": "code",
     "collapsed": false,
     "input": [
      "#For Cabarrus lowest grade with data is 8th grade\n",
      "lowestGrade = 8\n",
      "modelGrade = 9 #Grade for modeling\n",
      "\n",
      "#Dropout information\n",
      "d_id = sln.findDropoutIDs(lowestGrade,modelGrade,dropout_data,dropout_grade_col='Grade')\n",
      "#Data for given grade\n",
      "train_data, test_data = sln.dataForGrade(renamed_12, renamed_13, lowestGrade, modelGrade, outcome_col = 'fail_to_finish_high_school_in_4_years',\n",
      "                                     transfer_col = 'transferred_out_before_graduating', audit_col = 'GPA_9th_grade',\n",
      "                                     id_col = 'External_Student_ID', dropout_ids = d_id)\n",
      "\n",
      "#Adjust ethnic values in train_data. For production, this would occur much earlier, when cleaning data.\n",
      "for i,e in enumerate(train_data.ethnic_8th_grade):\n",
      "    if isinstance(e,str):\n",
      "        train_data.ethnic_8th_grade[i] = e[0]\n",
      "        "
     ],
     "language": "python",
     "metadata": {},
     "outputs": [],
     "prompt_number": 80
    },
    {
     "cell_type": "code",
     "collapsed": false,
     "input": [
      "#Hand-picked features\n",
      "id_col = 'External_Student_ID'\n",
      "outcome_col = 'fail_to_finish_high_school_in_4_years'\n",
      "transfer_col = 'transferred_out_before_graduating'\n",
      "drop_cols = [id_col, outcome_col]\n",
      "important_features = train_data.columns.tolist()\n",
      "median_features = ['GPA_Science_8th_grade',\n",
      "                     'GPA_8th_grade',\n",
      "                     'GPA_SocSci_8th_grade',\n",
      "                     'GPA_Math_8th_grade',\n",
      "                     'exc_abs_8th_grade',\n",
      "                     'unexc_abs_8th_grade',\n",
      "                     'GPA_ENG_8th_grade',\n",
      "                     'NumAdvanced_8th_grade',\n",
      "                     'Num_Marks_8th_grade',\n",
      "                     'NumAdvanced_SocSci_8th_grade',\n",
      "                     'times_tardy_8th_grade',\n",
      "                     'Num_Science_8th_grade',\n",
      "                     'Num_SocSci_8th_grade',\n",
      "                     'NumAdvanced_Science_8th_grade',\n",
      "                     'NumAdvanced_ENG_8th_grade',\n",
      "                     'Num_ENG_8th_grade',\n",
      "                     'Num_Math_8th_grade',\n",
      "                     'NumAdvanced_Math_8th_grade',\n",
      "                     'GPA_Science_9th_grade',\n",
      "                     'GPA_9th_grade',\n",
      "                     'GPA_SocSci_9th_grade',\n",
      "                     'GPA_Math_9th_grade',\n",
      "                     'exc_abs_9th_grade',\n",
      "                     'unexc_abs_9th_grade',\n",
      "                     'GPA_ENG_9th_grade',\n",
      "                     'NumAdvanced_9th_grade',\n",
      "                     'Num_Marks_9th_grade',\n",
      "                     'NumAdvanced_SocSci_9th_grade',\n",
      "                     'times_tardy_9th_grade',\n",
      "                     'Num_Science_9th_grade',\n",
      "                     'Num_SocSci_9th_grade',\n",
      "                     'NumAdvanced_Science_9th_grade',\n",
      "                     'NumAdvanced_ENG_9th_grade',\n",
      "                     'Num_ENG_9th_grade',\n",
      "                     'Num_Math_9th_grade',\n",
      "                     'NumAdvanced_Math_9th_grade',\n",
      "]"
     ],
     "language": "python",
     "metadata": {},
     "outputs": [],
     "prompt_number": 81
    },
    {
     "cell_type": "code",
     "collapsed": false,
     "input": [
      "#Create quartiled versions of continuous features and add to datasets\n",
      "featForQuart = ['GPA_Science_8th_grade',\n",
      "                     'GPA_8th_grade',\n",
      "                     'GPA_SocSci_8th_grade',\n",
      "                     'GPA_Math_8th_grade',\n",
      "                     'exc_abs_8th_grade',\n",
      "                     'unexc_abs_8th_grade',\n",
      "                     'GPA_ENG_8th_grade',\n",
      "                     'GPA_Science_9th_grade',\n",
      "                     'GPA_9th_grade',\n",
      "                     'GPA_SocSci_9th_grade',\n",
      "                     'GPA_Math_9th_grade',\n",
      "                     'exc_abs_9th_grade',\n",
      "                     'unexc_abs_9th_grade',\n",
      "                     'GPA_ENG_9th_grade',]\n",
      "\n",
      "for f in featForQuart:\n",
      "    try:\n",
      "        train_data = pp.appendQuart(train_data,f)\n",
      "        test_data = pp.appendQuart(test_data,f)\n",
      "        important_features.append(f+'Q')\n",
      "        #median_features.append(f+'Q')\n",
      "    except:\n",
      "        print \"No q for \" + f\n"
     ],
     "language": "python",
     "metadata": {},
     "outputs": [
      {
       "output_type": "stream",
       "stream": "stdout",
       "text": [
        "No q for unexc_abs_8th_grade\n",
        "No q for unexc_abs_9th_grade"
       ]
      },
      {
       "output_type": "stream",
       "stream": "stdout",
       "text": [
        "\n"
       ]
      }
     ],
     "prompt_number": 82
    },
    {
     "cell_type": "code",
     "collapsed": false,
     "input": [
      "multiRunResults9 = []"
     ],
     "language": "python",
     "metadata": {},
     "outputs": [],
     "prompt_number": 83
    },
    {
     "cell_type": "code",
     "collapsed": false,
     "input": [
      "#Equations for patsy package - * = interactions & individual terms, : = interactions only\n",
      "f_D = '''\n",
      "    fail_to_finish_high_school_in_4_years ~ C(school_code_8th_grade) +\n",
      "    C(eds_8th_grade) + C(swd_8th_grade) + C(lep_8th_grade) + C(sex_8th_grade) + C(ethnic_8th_grade) + \n",
      "    C(CITY_8th_grade) + C(ZIP_8th_grade) +\n",
      "    C(school_code_9th_grade) +\n",
      "    C(eds_9th_grade) + C(swd_9th_grade) + C(lep_9th_grade) + C(sex_9th_grade) + C(ethnic_9th_grade) + \n",
      "    C(CITY_9th_grade) + C(ZIP_9th_grade)\n",
      "    '''\n",
      "f_TN = '''\n",
      "    fail_to_finish_high_school_in_4_years ~ GPA_Science_8th_grade + GPA_8th_grade + GPA_SocSci_8th_grade + \n",
      "    GPA_Math_8th_grade + exc_abs_8th_grade + unexc_abs_8th_grade + GPA_ENG_8th_grade +\n",
      "GPA_Science_9th_grade + GPA_9th_grade + GPA_SocSci_9th_grade + \n",
      "    GPA_Math_9th_grade + exc_abs_9th_grade + unexc_abs_9th_grade + GPA_ENG_9th_grade\n",
      "    '''\n",
      "f_TN_D = '''\n",
      "    fail_to_finish_high_school_in_4_years ~ GPA_Science_8th_grade + GPA_8th_grade + GPA_SocSci_8th_grade + \n",
      "    GPA_Math_8th_grade + exc_abs_8th_grade + unexc_abs_8th_grade + GPA_ENG_8th_grade + \n",
      "GPA_Science_9th_grade + GPA_9th_grade + GPA_SocSci_9th_grade + \n",
      "    GPA_Math_9th_grade + exc_abs_9th_grade + unexc_abs_9th_grade + GPA_ENG_9th_grade +\n",
      "    C(school_code_8th_grade) + C(eds_8th_grade) + C(swd_8th_grade) + C(lep_8th_grade) + C(sex_8th_grade) + \n",
      "    C(ethnic_8th_grade) + C(CITY_8th_grade) + C(ZIP_8th_grade) +\n",
      "C(school_code_9th_grade) + C(eds_9th_grade) + C(swd_9th_grade) + C(lep_9th_grade) + C(sex_9th_grade) + \n",
      "    C(ethnic_9th_grade) + C(CITY_9th_grade) + C(ZIP_9th_grade)\n",
      "    '''\n",
      "f_AN_D = '''\n",
      "    fail_to_finish_high_school_in_4_years ~ GPA_Science_8th_grade + GPA_8th_grade + GPA_SocSci_8th_grade + \n",
      "    GPA_Math_8th_grade + exc_abs_8th_grade + unexc_abs_8th_grade + GPA_ENG_8th_grade + \n",
      "    NumAdvanced_8th_grade + Num_Marks_8th_grade + NumAdvanced_SocSci_8th_grade + times_tardy_8th_grade +\n",
      "    Num_Science_8th_grade + Num_SocSci_8th_grade + NumAdvanced_Science_8th_grade + NumAdvanced_ENG_8th_grade +\n",
      "    Num_ENG_8th_grade + Num_Math_8th_grade + NumAdvanced_Math_8th_grade + C(retained_in_8_majority_vote) +\n",
      "GPA_Science_9th_grade + GPA_9th_grade + GPA_SocSci_9th_grade + \n",
      "    GPA_Math_9th_grade + exc_abs_9th_grade + unexc_abs_9th_grade + GPA_ENG_9th_grade + \n",
      "    NumAdvanced_9th_grade + Num_Marks_9th_grade + NumAdvanced_SocSci_9th_grade + times_tardy_9th_grade +\n",
      "    Num_Science_9th_grade + Num_SocSci_9th_grade + NumAdvanced_Science_9th_grade + NumAdvanced_ENG_9th_grade +\n",
      "    Num_ENG_9th_grade + Num_Math_9th_grade + NumAdvanced_Math_9th_grade + C(retained_in_9_majority_vote) +\n",
      "    C(school_code_8th_grade) + C(eds_8th_grade) + C(swd_8th_grade) + \n",
      "    C(lep_8th_grade) + C(sex_8th_grade) + C(ethnic_8th_grade) + C(CITY_8th_grade) + C(ZIP_8th_grade) +\n",
      "C(school_code_9th_grade) + C(eds_9th_grade) + C(swd_9th_grade) + C(lep_9th_grade) + C(sex_9th_grade) + \n",
      "    C(ethnic_9th_grade) + C(CITY_9th_grade) + C(ZIP_9th_grade)\n",
      "    '''\n",
      "f_AN_D_ANXD = '''\n",
      "    fail_to_finish_high_school_in_4_years ~ (GPA_Science_8th_grade + GPA_8th_grade + GPA_SocSci_8th_grade + \n",
      "    GPA_Math_8th_grade + exc_abs_8th_grade + unexc_abs_8th_grade + GPA_ENG_8th_grade + \n",
      "    NumAdvanced_8th_grade + Num_Marks_8th_grade + NumAdvanced_SocSci_8th_grade + times_tardy_8th_grade +\n",
      "    Num_Science_8th_grade + Num_SocSci_8th_grade + NumAdvanced_Science_8th_grade + NumAdvanced_ENG_8th_grade +\n",
      "    Num_ENG_8th_grade + Num_Math_8th_grade + NumAdvanced_Math_8th_grade + C(retained_in_8_majority_vote) +\n",
      "GPA_Science_9th_grade + GPA_9th_grade + GPA_SocSci_9th_grade + \n",
      "    GPA_Math_9th_grade + exc_abs_9th_grade + unexc_abs_9th_grade + GPA_ENG_9th_grade + \n",
      "    NumAdvanced_9th_grade + Num_Marks_9th_grade + NumAdvanced_SocSci_9th_grade + times_tardy_9th_grade +\n",
      "    Num_Science_9th_grade + Num_SocSci_9th_grade + NumAdvanced_Science_9th_grade + NumAdvanced_ENG_9th_grade +\n",
      "    Num_ENG_9th_grade + Num_Math_9th_grade + NumAdvanced_Math_9th_grade + C(retained_in_9_majority_vote)) *\n",
      "    (C(school_code_8th_grade) + C(eds_8th_grade) + C(swd_8th_grade) + \n",
      "    C(lep_8th_grade) + C(sex_8th_grade) + C(ethnic_8th_grade) + C(CITY_8th_grade) + C(ZIP_8th_grade) +\n",
      "C(school_code_9th_grade) + C(eds_9th_grade) + C(swd_9th_grade) + C(lep_9th_grade) + C(sex_9th_grade) + \n",
      "    C(ethnic_9th_grade) + C(CITY_9th_grade) + C(ZIP_9th_grade))\n",
      "    '''\n",
      "f_AN_D_ANXD_DbXDc = '''\n",
      "    fail_to_finish_high_school_in_4_years ~ (GPA_Science_8th_grade + GPA_8th_grade + GPA_SocSci_8th_grade + \n",
      "    GPA_Math_8th_grade + exc_abs_8th_grade + unexc_abs_8th_grade + GPA_ENG_8th_grade + \n",
      "    NumAdvanced_8th_grade + Num_Marks_8th_grade + NumAdvanced_SocSci_8th_grade + times_tardy_8th_grade +\n",
      "    Num_Science_8th_grade + Num_SocSci_8th_grade + NumAdvanced_Science_8th_grade + NumAdvanced_ENG_8th_grade +\n",
      "    Num_ENG_8th_grade + Num_Math_8th_grade + NumAdvanced_Math_8th_grade + C(retained_in_8_majority_vote) +\n",
      "GPA_Science_9th_grade + GPA_9th_grade + GPA_SocSci_9th_grade + \n",
      "    GPA_Math_9th_grade + exc_abs_9th_grade + unexc_abs_9th_grade + GPA_ENG_9th_grade + \n",
      "    NumAdvanced_9th_grade + Num_Marks_9th_grade + NumAdvanced_SocSci_9th_grade + times_tardy_9th_grade +\n",
      "    Num_Science_9th_grade + Num_SocSci_9th_grade + NumAdvanced_Science_9th_grade + NumAdvanced_ENG_9th_grade +\n",
      "    Num_ENG_9th_grade + Num_Math_9th_grade + NumAdvanced_Math_9th_grade + C(retained_in_9_majority_vote)) *\n",
      "    (C(school_code_8th_grade) + C(eds_8th_grade) + C(swd_8th_grade) + \n",
      "    C(lep_8th_grade) + C(sex_8th_grade) + C(ethnic_8th_grade) + C(CITY_8th_grade) + C(ZIP_8th_grade) +\n",
      "C(school_code_9th_grade) + C(eds_9th_grade) + C(swd_9th_grade) + C(lep_9th_grade) + C(sex_9th_grade) + \n",
      "    C(ethnic_9th_grade) + C(CITY_9th_grade) + C(ZIP_9th_grade)) + \n",
      "    (C(eds_8th_grade) + C(swd_8th_grade) + C(lep_8th_grade) + C(sex_8th_grade) +\n",
      "C(eds_9th_grade) + C(swd_9th_grade) + C(lep_9th_grade) + C(sex_8th_grade)) : \n",
      "    (C(ethnic_8th_grade) + C(CITY_8th_grade) + C(school_code_8th_grade) + C(ZIP_8th_grade) +\n",
      "C(ethnic_9th_grade) + C(CITY_9th_grade) + C(school_code_9th_grade) + C(ZIP_9th_grade))\n",
      "    '''\n",
      "f_AN_D_ANqXD = '''\n",
      "    fail_to_finish_high_school_in_4_years ~ (GPA_Science_8th_grade + GPA_8th_grade + GPA_SocSci_8th_grade + \n",
      "    GPA_Math_8th_grade + exc_abs_8th_grade + unexc_abs_8th_grade + GPA_ENG_8th_grade + \n",
      "    NumAdvanced_8th_grade + Num_Marks_8th_grade + NumAdvanced_SocSci_8th_grade + times_tardy_8th_grade +\n",
      "    Num_Science_8th_grade + Num_SocSci_8th_grade + NumAdvanced_Science_8th_grade + NumAdvanced_ENG_8th_grade +\n",
      "    Num_ENG_8th_grade + Num_Math_8th_grade + NumAdvanced_Math_8th_grade + C(retained_in_8_majority_vote) +\n",
      "GPA_Science_9th_grade + GPA_9th_grade + GPA_SocSci_9th_grade + \n",
      "    GPA_Math_9th_grade + exc_abs_9th_grade + unexc_abs_9th_grade + GPA_ENG_9th_grade + \n",
      "    NumAdvanced_9th_grade + Num_Marks_9th_grade + NumAdvanced_SocSci_9th_grade + times_tardy_9th_grade +\n",
      "    Num_Science_9th_grade + Num_SocSci_9th_grade + NumAdvanced_Science_9th_grade + NumAdvanced_ENG_9th_grade +\n",
      "    Num_ENG_9th_grade + Num_Math_9th_grade + NumAdvanced_Math_9th_grade + C(retained_in_9_majority_vote)) +\n",
      "    (GPA_Science_8th_gradeQ + GPA_8th_gradeQ + GPA_SocSci_8th_gradeQ + GPA_Math_8th_gradeQ + exc_abs_8th_gradeQ +\n",
      "    GPA_ENG_8th_gradeQ +\n",
      "GPA_Science_9th_gradeQ + GPA_9th_gradeQ + GPA_SocSci_9th_gradeQ + GPA_Math_9th_gradeQ + exc_abs_9th_gradeQ +\n",
      "    GPA_ENG_9th_gradeQ)*\n",
      "    (C(school_code_8th_grade) + C(eds_8th_grade) + C(swd_8th_grade) + \n",
      "    C(lep_8th_grade) + C(sex_8th_grade) + C(ethnic_8th_grade) + C(CITY_8th_grade) + C(ZIP_8th_grade) +\n",
      "C(school_code_9th_grade) + C(eds_9th_grade) + C(swd_9th_grade) + C(lep_9th_grade) + C(sex_9th_grade) + \n",
      "    C(ethnic_9th_grade) + C(CITY_9th_grade) + C(ZIP_9th_grade))\n",
      "    '''\n",
      "f_AN_D_ANqXD_DbXDc = '''\n",
      "    fail_to_finish_high_school_in_4_years ~ (GPA_Science_8th_grade + GPA_8th_grade + GPA_SocSci_8th_grade + \n",
      "    GPA_Math_8th_grade + exc_abs_8th_grade + unexc_abs_8th_grade + GPA_ENG_8th_grade + \n",
      "    NumAdvanced_8th_grade + Num_Marks_8th_grade + NumAdvanced_SocSci_8th_grade + times_tardy_8th_grade +\n",
      "    Num_Science_8th_grade + Num_SocSci_8th_grade + NumAdvanced_Science_8th_grade + NumAdvanced_ENG_8th_grade +\n",
      "    Num_ENG_8th_grade + Num_Math_8th_grade + NumAdvanced_Math_8th_grade + C(retained_in_8_majority_vote) +\n",
      "GPA_Science_9th_grade + GPA_9th_grade + GPA_SocSci_9th_grade + \n",
      "    GPA_Math_9th_grade + exc_abs_9th_grade + unexc_abs_9th_grade + GPA_ENG_9th_grade + \n",
      "    NumAdvanced_9th_grade + Num_Marks_9th_grade + NumAdvanced_SocSci_9th_grade + times_tardy_9th_grade +\n",
      "    Num_Science_9th_grade + Num_SocSci_9th_grade + NumAdvanced_Science_9th_grade + NumAdvanced_ENG_9th_grade +\n",
      "    Num_ENG_9th_grade + Num_Math_9th_grade + NumAdvanced_Math_9th_grade + C(retained_in_9_majority_vote)) +\n",
      "    (GPA_Science_8th_gradeQ + GPA_8th_gradeQ + GPA_SocSci_8th_gradeQ + GPA_Math_8th_gradeQ + exc_abs_8th_gradeQ +\n",
      "    GPA_ENG_8th_gradeQ +\n",
      "GPA_Science_9th_gradeQ + GPA_9th_gradeQ + GPA_SocSci_9th_gradeQ + GPA_Math_9th_gradeQ + exc_abs_9th_gradeQ +\n",
      "    GPA_ENG_9th_gradeQ) *\n",
      "    (C(school_code_8th_grade) + C(eds_8th_grade) + C(swd_8th_grade) + \n",
      "    C(lep_8th_grade) + C(sex_8th_grade) + C(ethnic_8th_grade) + C(CITY_8th_grade) + C(ZIP_8th_grade) +\n",
      "C(school_code_9th_grade) + C(eds_9th_grade) + C(swd_9th_grade) + C(lep_9th_grade) + C(sex_9th_grade) + \n",
      "    C(ethnic_9th_grade) + C(CITY_9th_grade) + C(ZIP_9th_grade)) + \n",
      "    (C(eds_8th_grade) + C(swd_8th_grade) + C(lep_8th_grade) + C(sex_8th_grade) +\n",
      "C(eds_9th_grade) + C(swd_9th_grade) + C(lep_9th_grade) + C(sex_8th_grade)) : \n",
      "    (C(ethnic_8th_grade) + C(CITY_8th_grade) + C(school_code_8th_grade) + C(ZIP_8th_grade) +\n",
      "C(ethnic_9th_grade) + C(CITY_9th_grade) + C(school_code_9th_grade) + C(ZIP_9th_grade))\n",
      "    '''"
     ],
     "language": "python",
     "metadata": {},
     "outputs": [],
     "prompt_number": 84
    },
    {
     "cell_type": "code",
     "collapsed": false,
     "input": [
      "modelGrade"
     ],
     "language": "python",
     "metadata": {},
     "outputs": [
      {
       "metadata": {},
       "output_type": "pyout",
       "prompt_number": 85,
       "text": [
        "9"
       ]
      }
     ],
     "prompt_number": 85
    },
    {
     "cell_type": "code",
     "collapsed": false,
     "input": [
      "important_features"
     ],
     "language": "python",
     "metadata": {},
     "outputs": [
      {
       "metadata": {},
       "output_type": "pyout",
       "prompt_number": 86,
       "text": [
        "['Grade_8th_grade',\n",
        " 'eds_8th_grade',\n",
        " 'swd_8th_grade',\n",
        " 'NumAdvanced_8th_grade',\n",
        " 'lep_8th_grade',\n",
        " 'reporting_year_8th_grade',\n",
        " 'GPA_Science_8th_grade',\n",
        " 'Num_Marks_8th_grade',\n",
        " 'NumAdvanced_SocSci_8th_grade',\n",
        " 'times_tardy_8th_grade',\n",
        " 'sex_8th_grade',\n",
        " 'Num_Science_8th_grade',\n",
        " 'GPA_SocSci_8th_grade',\n",
        " 'CITY_8th_grade',\n",
        " 'grade_8th_grade',\n",
        " 'Num_SocSci_8th_grade',\n",
        " 'GPA_ENG_8th_grade',\n",
        " 'NumAdvanced_Science_8th_grade',\n",
        " 'GPA_8th_grade',\n",
        " 'NumAdvanced_ENG_8th_grade',\n",
        " 'exc_abs_8th_grade',\n",
        " 'daysabs_8th_grade',\n",
        " 'Num_ENG_8th_grade',\n",
        " 'ZIP_8th_grade',\n",
        " 'ethnic_8th_grade',\n",
        " 'Num_Math_8th_grade',\n",
        " 'unexc_abs_8th_grade',\n",
        " 'STATE_8th_grade',\n",
        " 'NumAdvanced_Math_8th_grade',\n",
        " 'GPA_Math_8th_grade',\n",
        " 'school_code_8th_grade',\n",
        " 'retained_in_8_majority_vote',\n",
        " 'GPA_Math_9th_grade',\n",
        " 'CITY_9th_grade',\n",
        " 'STATE_9th_grade',\n",
        " 'GPA_SocSci_9th_grade',\n",
        " 'sex_9th_grade',\n",
        " 'daysabs_9th_grade',\n",
        " 'lep_9th_grade',\n",
        " 'Grade_9th_grade',\n",
        " 'GPA_Science_9th_grade',\n",
        " 'GPA_9th_grade',\n",
        " 'NumAdvanced_SocSci_9th_grade',\n",
        " 'reporting_year_9th_grade',\n",
        " 'Num_Marks_9th_grade',\n",
        " 'Num_Science_9th_grade',\n",
        " 'grade_9th_grade',\n",
        " 'Num_SocSci_9th_grade',\n",
        " 'GPA_ENG_9th_grade',\n",
        " 'times_tardy_9th_grade',\n",
        " 'NumAdvanced_ENG_9th_grade',\n",
        " 'Num_ENG_9th_grade',\n",
        " 'eds_9th_grade',\n",
        " 'unexc_abs_9th_grade',\n",
        " 'ZIP_9th_grade',\n",
        " 'NumAdvanced_Math_9th_grade',\n",
        " 'Num_Math_9th_grade',\n",
        " 'school_code_9th_grade',\n",
        " 'ethnic_9th_grade',\n",
        " 'exc_abs_9th_grade',\n",
        " 'NumAdvanced_Science_9th_grade',\n",
        " 'swd_9th_grade',\n",
        " 'NumAdvanced_9th_grade',\n",
        " 'retained_in_9_majority_vote',\n",
        " 'fail_to_finish_high_school_in_4_years',\n",
        " 'GPA_Science_8th_gradeQ',\n",
        " 'GPA_8th_gradeQ',\n",
        " 'GPA_SocSci_8th_gradeQ',\n",
        " 'GPA_Math_8th_gradeQ',\n",
        " 'exc_abs_8th_gradeQ',\n",
        " 'GPA_ENG_8th_gradeQ',\n",
        " 'GPA_Science_9th_gradeQ',\n",
        " 'GPA_9th_gradeQ',\n",
        " 'GPA_SocSci_9th_gradeQ',\n",
        " 'GPA_Math_9th_gradeQ',\n",
        " 'exc_abs_9th_gradeQ',\n",
        " 'GPA_ENG_9th_gradeQ']"
       ]
      }
     ],
     "prompt_number": 86
    },
    {
     "cell_type": "code",
     "collapsed": false,
     "input": [
      "#Loop through different options\n",
      "#Start with only RF100 classifier\n",
      "num_runs = 100\n",
      "\n",
      "#allClf_names = ['RF100','RF500','LR1_hiC','LR1_loC','LR2_hiC','LR2_loC','SVM_lin','SVM_poly','SVM_sig']\n",
      "allClf_names = ['RF100']\n",
      "#allPatsyStrs = ['f_D', 'f_TN', 'f_TN_D', 'f_AN_D', 'f_AN_D_ANXD', 'f_AN_D_ANXD_DbXDc', 'f_AN_D_ANqXD', 'f_AN_D_ANqXD_DbXDc']\n",
      "allPatsyStrs = ['f_AN_D_ANqXD', 'f_AN_D_ANqXD_DbXDc']\n",
      "#allPatsyFs = [f_D, f_TN, f_TN_D, f_AN_D, f_AN_D_ANXD, f_AN_D_ANXD_DbXDc, f_AN_D_ANqXD, f_AN_D_ANqXD_DbXDc]\n",
      "allPatsyFs = [f_AN_D_ANqXD, f_AN_D_ANqXD_DbXDc]\n",
      "impTypeStrs = ['imputeWithMedianOrMode','imputeWithEmpDraws','imputeWithNegOne']\n",
      "\n",
      "for clf_name in allClf_names:\n",
      "    print \"Classifier: \" + clf_name\n",
      "    \n",
      "    for p, patsyf in enumerate(allPatsyFs):\n",
      "        print \"Patsy Function Name: \" + allPatsyStrs[p]\n",
      "        print \"Patsy Function: \" + patsyf\n",
      "        \n",
      "        for imp in impTypeStrs:\n",
      "            print \"Imputation type: \" + imp\n",
      "            resN = []\n",
      "            for i in range(0,num_runs):\n",
      "                if (i+1)%25 == 0:\n",
      "                    print \"Run #: \" + str(i+1)\n",
      "                clf = cts.defaultClassifiers(clf_name,random_state=i)\n",
      "                resN.append(ppl.runPipe(train_data, test_data, important_features, outcome_col,median_features=median_features,\n",
      "                                        imputeFuncStr = imp, clf = clf, clf_name = clf_name, patsyf = patsyf, \n",
      "                                        printOutput = False, seed = i))\n",
      "\n",
      "            multiRunResults.append(ppl.convertRunsToMeanStdAddInfo(pd.DataFrame(resN),clf,clf_name,num_runs,modelGrade,\n",
      "                                                                   patsyf, imp, allPatsyStrs[p]))\n",
      "\n",
      "    "
     ],
     "language": "python",
     "metadata": {},
     "outputs": [
      {
       "output_type": "stream",
       "stream": "stdout",
       "text": [
        "Classifier: RF100\n",
        "Patsy Function Name: f_AN_D_ANqXD\n",
        "Patsy Function: \n",
        "    fail_to_finish_high_school_in_4_years ~ (GPA_Science_8th_grade + GPA_8th_grade + GPA_SocSci_8th_grade + \n",
        "    GPA_Math_8th_grade + exc_abs_8th_grade + unexc_abs_8th_grade + GPA_ENG_8th_grade + \n",
        "    NumAdvanced_8th_grade + Num_Marks_8th_grade + NumAdvanced_SocSci_8th_grade + times_tardy_8th_grade +\n",
        "    Num_Science_8th_grade + Num_SocSci_8th_grade + NumAdvanced_Science_8th_grade + NumAdvanced_ENG_8th_grade +\n",
        "    Num_ENG_8th_grade + Num_Math_8th_grade + NumAdvanced_Math_8th_grade + C(retained_in_8_majority_vote) +\n",
        "GPA_Science_9th_grade + GPA_9th_grade + GPA_SocSci_9th_grade + \n",
        "    GPA_Math_9th_grade + exc_abs_9th_grade + unexc_abs_9th_grade + GPA_ENG_9th_grade + \n",
        "    NumAdvanced_9th_grade + Num_Marks_9th_grade + NumAdvanced_SocSci_9th_grade + times_tardy_9th_grade +\n",
        "    Num_Science_9th_grade + Num_SocSci_9th_grade + NumAdvanced_Science_9th_grade + NumAdvanced_ENG_9th_grade +\n",
        "    Num_ENG_9th_grade + Num_Math_9th_grade + NumAdvanced_Math_9th_grade + C(retained_in_9_majority_vote)) +\n",
        "    (GPA_Science_8th_gradeQ + GPA_8th_gradeQ + GPA_SocSci_8th_gradeQ + GPA_Math_8th_gradeQ + exc_abs_8th_gradeQ +\n",
        "    GPA_ENG_8th_gradeQ +\n",
        "GPA_Science_9th_gradeQ + GPA_9th_gradeQ + GPA_SocSci_9th_gradeQ + GPA_Math_9th_gradeQ + exc_abs_9th_gradeQ +\n",
        "    GPA_ENG_9th_gradeQ)*\n",
        "    (C(school_code_8th_grade) + C(eds_8th_grade) + C(swd_8th_grade) + \n",
        "    C(lep_8th_grade) + C(sex_8th_grade) + C(ethnic_8th_grade) + C(CITY_8th_grade) + C(ZIP_8th_grade) +\n",
        "C(school_code_9th_grade) + C(eds_9th_grade) + C(swd_9th_grade) + C(lep_9th_grade) + C(sex_9th_grade) + \n",
        "    C(ethnic_9th_grade) + C(CITY_9th_grade) + C(ZIP_9th_grade))\n",
        "    \n",
        "Imputation type: imputeWithMedianOrMode\n",
        "Run #: 25"
       ]
      },
      {
       "output_type": "stream",
       "stream": "stdout",
       "text": [
        "\n",
        "Run #: 50"
       ]
      },
      {
       "output_type": "stream",
       "stream": "stdout",
       "text": [
        "\n",
        "Run #: 75"
       ]
      },
      {
       "output_type": "stream",
       "stream": "stdout",
       "text": [
        "\n",
        "Run #: 100"
       ]
      },
      {
       "output_type": "stream",
       "stream": "stdout",
       "text": [
        "\n",
        "Imputation type: imputeWithEmpDraws"
       ]
      },
      {
       "output_type": "stream",
       "stream": "stdout",
       "text": [
        "\n",
        "Run #: 25"
       ]
      },
      {
       "output_type": "stream",
       "stream": "stdout",
       "text": [
        "\n",
        "Run #: 50"
       ]
      },
      {
       "output_type": "stream",
       "stream": "stdout",
       "text": [
        "\n",
        "Run #: 75"
       ]
      },
      {
       "output_type": "stream",
       "stream": "stdout",
       "text": [
        "\n",
        "Run #: 100"
       ]
      },
      {
       "output_type": "stream",
       "stream": "stdout",
       "text": [
        "\n",
        "Imputation type: imputeWithNegOne"
       ]
      },
      {
       "output_type": "stream",
       "stream": "stdout",
       "text": [
        "\n",
        "Run #: 25"
       ]
      },
      {
       "output_type": "stream",
       "stream": "stdout",
       "text": [
        "\n",
        "Run #: 50"
       ]
      },
      {
       "output_type": "stream",
       "stream": "stdout",
       "text": [
        "\n",
        "Run #: 75"
       ]
      },
      {
       "output_type": "stream",
       "stream": "stdout",
       "text": [
        "\n",
        "Run #: 100"
       ]
      },
      {
       "output_type": "stream",
       "stream": "stdout",
       "text": [
        "\n",
        "Patsy Function Name: f_AN_D_ANqXD_DbXDc"
       ]
      },
      {
       "output_type": "stream",
       "stream": "stdout",
       "text": [
        "\n",
        "Patsy Function: \n",
        "    fail_to_finish_high_school_in_4_years ~ (GPA_Science_8th_grade + GPA_8th_grade + GPA_SocSci_8th_grade + \n",
        "    GPA_Math_8th_grade + exc_abs_8th_grade + unexc_abs_8th_grade + GPA_ENG_8th_grade + \n",
        "    NumAdvanced_8th_grade + Num_Marks_8th_grade + NumAdvanced_SocSci_8th_grade + times_tardy_8th_grade +\n",
        "    Num_Science_8th_grade + Num_SocSci_8th_grade + NumAdvanced_Science_8th_grade + NumAdvanced_ENG_8th_grade +\n",
        "    Num_ENG_8th_grade + Num_Math_8th_grade + NumAdvanced_Math_8th_grade + C(retained_in_8_majority_vote) +\n",
        "GPA_Science_9th_grade + GPA_9th_grade + GPA_SocSci_9th_grade + \n",
        "    GPA_Math_9th_grade + exc_abs_9th_grade + unexc_abs_9th_grade + GPA_ENG_9th_grade + \n",
        "    NumAdvanced_9th_grade + Num_Marks_9th_grade + NumAdvanced_SocSci_9th_grade + times_tardy_9th_grade +\n",
        "    Num_Science_9th_grade + Num_SocSci_9th_grade + NumAdvanced_Science_9th_grade + NumAdvanced_ENG_9th_grade +\n",
        "    Num_ENG_9th_grade + Num_Math_9th_grade + NumAdvanced_Math_9th_grade + C(retained_in_9_majority_vote)) +\n",
        "    (GPA_Science_8th_gradeQ + GPA_8th_gradeQ + GPA_SocSci_8th_gradeQ + GPA_Math_8th_gradeQ + exc_abs_8th_gradeQ +\n",
        "    GPA_ENG_8th_gradeQ +\n",
        "GPA_Science_9th_gradeQ + GPA_9th_gradeQ + GPA_SocSci_9th_gradeQ + GPA_Math_9th_gradeQ + exc_abs_9th_gradeQ +\n",
        "    GPA_ENG_9th_gradeQ) *\n",
        "    (C(school_code_8th_grade) + C(eds_8th_grade) + C(swd_8th_grade) + \n",
        "    C(lep_8th_grade) + C(sex_8th_grade) + C(ethnic_8th_grade) + C(CITY_8th_grade) + C(ZIP_8th_grade) +\n",
        "C(school_code_9th_grade) + C(eds_9th_grade) + C(swd_9th_grade) + C(lep_9th_grade) + C(sex_9th_grade) + \n",
        "    C(ethnic_9th_grade) + C(CITY_9th_grade) + C(ZIP_9th_grade)) + \n",
        "    (C(eds_8th_grade) + C(swd_8th_grade) + C(lep_8th_grade) + C(sex_8th_grade) +\n",
        "C(eds_9th_grade) + C(swd_9th_grade) + C(lep_9th_grade) + C(sex_8th_grade)) : \n",
        "    (C(ethnic_8th_grade) + C(CITY_8th_grade) + C(school_code_8th_grade) + C(ZIP_8th_grade) +\n",
        "C(ethnic_9th_grade) + C(CITY_9th_grade) + C(school_code_9th_grade) + C(ZIP_9th_grade))\n",
        "    \n",
        "Imputation type: imputeWithMedianOrMode\n",
        "Run #: 25"
       ]
      },
      {
       "output_type": "stream",
       "stream": "stdout",
       "text": [
        "\n",
        "Run #: 50"
       ]
      },
      {
       "output_type": "stream",
       "stream": "stdout",
       "text": [
        "\n",
        "Run #: 75"
       ]
      },
      {
       "output_type": "stream",
       "stream": "stdout",
       "text": [
        "\n",
        "Run #: 100"
       ]
      },
      {
       "output_type": "stream",
       "stream": "stdout",
       "text": [
        "\n",
        "Imputation type: imputeWithEmpDraws"
       ]
      },
      {
       "output_type": "stream",
       "stream": "stdout",
       "text": [
        "\n",
        "Run #: 25"
       ]
      },
      {
       "output_type": "stream",
       "stream": "stdout",
       "text": [
        "\n",
        "Run #: 50"
       ]
      },
      {
       "output_type": "stream",
       "stream": "stdout",
       "text": [
        "\n",
        "Run #: 75"
       ]
      },
      {
       "output_type": "stream",
       "stream": "stdout",
       "text": [
        "\n",
        "Run #: 100"
       ]
      },
      {
       "output_type": "stream",
       "stream": "stdout",
       "text": [
        "\n",
        "Imputation type: imputeWithNegOne"
       ]
      },
      {
       "output_type": "stream",
       "stream": "stdout",
       "text": [
        "\n",
        "Run #: 25"
       ]
      },
      {
       "output_type": "stream",
       "stream": "stdout",
       "text": [
        "\n",
        "Run #: 50"
       ]
      },
      {
       "output_type": "stream",
       "stream": "stdout",
       "text": [
        "\n",
        "Run #: 75"
       ]
      },
      {
       "output_type": "stream",
       "stream": "stdout",
       "text": [
        "\n",
        "Run #: 100"
       ]
      },
      {
       "output_type": "stream",
       "stream": "stdout",
       "text": [
        "\n"
       ]
      }
     ],
     "prompt_number": 93
    },
    {
     "cell_type": "code",
     "collapsed": false,
     "input": [
      "MRdf = pd.DataFrame(multiRunResults)\n",
      "fname = 'MRdfRF100_9.csv'\n",
      "MRdf.to_csv('/Users/Nasir/Documents/DSaPP/Cabarrus County Public Schools/Results/' + fname)   "
     ],
     "language": "python",
     "metadata": {},
     "outputs": [],
     "prompt_number": 96
    },
    {
     "cell_type": "code",
     "collapsed": false,
     "input": [
      "#Loop through different options\n",
      "#Start with only RF100 classifier\n",
      "multiRunResults_svm9 = []\n",
      "num_runs = 100\n",
      "\n",
      "#allClf_names = ['RF100','RF500','LR1_hiC','LR1_loC','LR2_hiC','LR2_loC','SVM_lin','SVM_poly','SVM_sig']\n",
      "allClf_names = ['SVM_lin']\n",
      "allPatsyStrs = ['f_D', 'f_TN', 'f_TN_D', 'f_AN_D', 'f_AN_D_ANXD', 'f_AN_D_ANXD_DbXDc', 'f_AN_D_ANqXD', 'f_AN_D_ANqXD_DbXDc']\n",
      "allPatsyFs = [f_D, f_TN, f_TN_D, f_AN_D, f_AN_D_ANXD, f_AN_D_ANXD_DbXDc, f_AN_D_ANqXD, f_AN_D_ANqXD_DbXDc]\n",
      "impTypeStrs = ['imputeWithMedianOrMode','imputeWithEmpDraws','imputeWithNegOne']\n",
      "\n",
      "for clf_name in allClf_names:\n",
      "    print \"Classifier: \" + clf_name\n",
      "    \n",
      "    for p, patsyf in enumerate(allPatsyFs):\n",
      "        print \"Patsy Function Name: \" + allPatsyStrs[p]\n",
      "        print \"Patsy Function: \" + patsyf\n",
      "        \n",
      "        for imp in impTypeStrs:\n",
      "            print \"Imputation type: \" + imp\n",
      "            resN = []\n",
      "            for i in range(0,num_runs):\n",
      "                if (i+1)%25 == 0:\n",
      "                    print \"Run #: \" + str(i+1)\n",
      "                clf = cts.defaultClassifiers(clf_name,random_state=i)\n",
      "                resN.append(ppl.runPipe(train_data, test_data, important_features, outcome_col,median_features=median_features,\n",
      "                                        imputeFuncStr = imp, clf = clf, clf_name = clf_name, patsyf = patsyf, \n",
      "                                        printOutput = False, seed = i, do_get_feature_importances = False))\n",
      "\n",
      "            multiRunResults_svm9.append(ppl.convertRunsToMeanStdAddInfo(pd.DataFrame(resN),clf,clf_name,num_runs,modelGrade,\n",
      "                                                                   patsyf, imp, allPatsyStrs[p]))\n",
      "\n",
      "    "
     ],
     "language": "python",
     "metadata": {},
     "outputs": [
      {
       "output_type": "stream",
       "stream": "stdout",
       "text": [
        "Classifier: SVM_lin\n",
        "Patsy Function Name: f_D\n",
        "Patsy Function: \n",
        "    fail_to_finish_high_school_in_4_years ~ C(school_code_8th_grade) +\n",
        "    C(eds_8th_grade) + C(swd_8th_grade) + C(lep_8th_grade) + C(sex_8th_grade) + C(ethnic_8th_grade) + \n",
        "    C(CITY_8th_grade) + C(ZIP_8th_grade) +\n",
        "    C(school_code_9th_grade) +\n",
        "    C(eds_9th_grade) + C(swd_9th_grade) + C(lep_9th_grade) + C(sex_9th_grade) + C(ethnic_9th_grade) + \n",
        "    C(CITY_9th_grade) + C(ZIP_9th_grade)\n",
        "    \n",
        "Imputation type: imputeWithMedianOrMode\n",
        "Run #: 25"
       ]
      },
      {
       "output_type": "stream",
       "stream": "stdout",
       "text": [
        "\n",
        "Run #: 50"
       ]
      },
      {
       "output_type": "stream",
       "stream": "stdout",
       "text": [
        "\n",
        "Run #: 75"
       ]
      },
      {
       "output_type": "stream",
       "stream": "stdout",
       "text": [
        "\n",
        "Run #: 100"
       ]
      },
      {
       "output_type": "stream",
       "stream": "stdout",
       "text": [
        "\n",
        "Imputation type: imputeWithEmpDraws"
       ]
      },
      {
       "output_type": "stream",
       "stream": "stdout",
       "text": [
        "\n",
        "Run #: 25"
       ]
      },
      {
       "output_type": "stream",
       "stream": "stdout",
       "text": [
        "\n",
        "Run #: 50"
       ]
      },
      {
       "output_type": "stream",
       "stream": "stdout",
       "text": [
        "\n",
        "Run #: 75"
       ]
      },
      {
       "output_type": "stream",
       "stream": "stdout",
       "text": [
        "\n",
        "Run #: 100"
       ]
      },
      {
       "output_type": "stream",
       "stream": "stdout",
       "text": [
        "\n",
        "Imputation type: imputeWithNegOne"
       ]
      },
      {
       "output_type": "stream",
       "stream": "stdout",
       "text": [
        "\n",
        "Run #: 25"
       ]
      },
      {
       "output_type": "stream",
       "stream": "stdout",
       "text": [
        "\n",
        "Run #: 50"
       ]
      },
      {
       "output_type": "stream",
       "stream": "stdout",
       "text": [
        "\n",
        "Run #: 75"
       ]
      },
      {
       "output_type": "stream",
       "stream": "stdout",
       "text": [
        "\n",
        "Run #: 100"
       ]
      },
      {
       "output_type": "stream",
       "stream": "stdout",
       "text": [
        "\n",
        "Patsy Function Name: f_TN"
       ]
      },
      {
       "output_type": "stream",
       "stream": "stdout",
       "text": [
        "\n",
        "Patsy Function: \n",
        "    fail_to_finish_high_school_in_4_years ~ GPA_Science_8th_grade + GPA_8th_grade + GPA_SocSci_8th_grade + \n",
        "    GPA_Math_8th_grade + exc_abs_8th_grade + unexc_abs_8th_grade + GPA_ENG_8th_grade +\n",
        "GPA_Science_9th_grade + GPA_9th_grade + GPA_SocSci_9th_grade + \n",
        "    GPA_Math_9th_grade + exc_abs_9th_grade + unexc_abs_9th_grade + GPA_ENG_9th_grade\n",
        "    \n",
        "Imputation type: imputeWithMedianOrMode\n",
        "Run #: 25"
       ]
      },
      {
       "output_type": "stream",
       "stream": "stdout",
       "text": [
        "\n",
        "Run #: 50"
       ]
      },
      {
       "output_type": "stream",
       "stream": "stdout",
       "text": [
        "\n",
        "Run #: 75"
       ]
      },
      {
       "output_type": "stream",
       "stream": "stdout",
       "text": [
        "\n",
        "Run #: 100"
       ]
      },
      {
       "output_type": "stream",
       "stream": "stdout",
       "text": [
        "\n",
        "Imputation type: imputeWithEmpDraws"
       ]
      },
      {
       "output_type": "stream",
       "stream": "stdout",
       "text": [
        "\n",
        "Run #: 25"
       ]
      },
      {
       "output_type": "stream",
       "stream": "stdout",
       "text": [
        "\n",
        "Run #: 50"
       ]
      },
      {
       "output_type": "stream",
       "stream": "stdout",
       "text": [
        "\n",
        "Run #: 75"
       ]
      },
      {
       "output_type": "stream",
       "stream": "stdout",
       "text": [
        "\n",
        "Run #: 100"
       ]
      },
      {
       "output_type": "stream",
       "stream": "stdout",
       "text": [
        "\n",
        "Imputation type: imputeWithNegOne"
       ]
      },
      {
       "output_type": "stream",
       "stream": "stdout",
       "text": [
        "\n",
        "Run #: 25"
       ]
      },
      {
       "output_type": "stream",
       "stream": "stdout",
       "text": [
        "\n",
        "Run #: 50"
       ]
      },
      {
       "output_type": "stream",
       "stream": "stdout",
       "text": [
        "\n",
        "Run #: 75"
       ]
      },
      {
       "output_type": "stream",
       "stream": "stdout",
       "text": [
        "\n",
        "Run #: 100"
       ]
      },
      {
       "output_type": "stream",
       "stream": "stdout",
       "text": [
        "\n",
        "Patsy Function Name: f_TN_D"
       ]
      },
      {
       "output_type": "stream",
       "stream": "stdout",
       "text": [
        "\n",
        "Patsy Function: \n",
        "    fail_to_finish_high_school_in_4_years ~ GPA_Science_8th_grade + GPA_8th_grade + GPA_SocSci_8th_grade + \n",
        "    GPA_Math_8th_grade + exc_abs_8th_grade + unexc_abs_8th_grade + GPA_ENG_8th_grade + \n",
        "GPA_Science_9th_grade + GPA_9th_grade + GPA_SocSci_9th_grade + \n",
        "    GPA_Math_9th_grade + exc_abs_9th_grade + unexc_abs_9th_grade + GPA_ENG_9th_grade +\n",
        "    C(school_code_8th_grade) + C(eds_8th_grade) + C(swd_8th_grade) + C(lep_8th_grade) + C(sex_8th_grade) + \n",
        "    C(ethnic_8th_grade) + C(CITY_8th_grade) + C(ZIP_8th_grade) +\n",
        "C(school_code_9th_grade) + C(eds_9th_grade) + C(swd_9th_grade) + C(lep_9th_grade) + C(sex_9th_grade) + \n",
        "    C(ethnic_9th_grade) + C(CITY_9th_grade) + C(ZIP_9th_grade)\n",
        "    \n",
        "Imputation type: imputeWithMedianOrMode\n",
        "Run #: 25"
       ]
      },
      {
       "output_type": "stream",
       "stream": "stdout",
       "text": [
        "\n",
        "Run #: 50"
       ]
      },
      {
       "output_type": "stream",
       "stream": "stdout",
       "text": [
        "\n",
        "Run #: 75"
       ]
      },
      {
       "output_type": "stream",
       "stream": "stdout",
       "text": [
        "\n",
        "Run #: 100"
       ]
      },
      {
       "output_type": "stream",
       "stream": "stdout",
       "text": [
        "\n",
        "Imputation type: imputeWithEmpDraws"
       ]
      },
      {
       "output_type": "stream",
       "stream": "stdout",
       "text": [
        "\n",
        "Run #: 25"
       ]
      },
      {
       "output_type": "stream",
       "stream": "stdout",
       "text": [
        "\n",
        "Run #: 50"
       ]
      },
      {
       "output_type": "stream",
       "stream": "stdout",
       "text": [
        "\n",
        "Run #: 75"
       ]
      },
      {
       "output_type": "stream",
       "stream": "stdout",
       "text": [
        "\n",
        "Run #: 100"
       ]
      },
      {
       "output_type": "stream",
       "stream": "stdout",
       "text": [
        "\n",
        "Imputation type: imputeWithNegOne"
       ]
      },
      {
       "output_type": "stream",
       "stream": "stdout",
       "text": [
        "\n",
        "Run #: 25"
       ]
      },
      {
       "output_type": "stream",
       "stream": "stdout",
       "text": [
        "\n",
        "Run #: 50"
       ]
      },
      {
       "output_type": "stream",
       "stream": "stdout",
       "text": [
        "\n",
        "Run #: 75"
       ]
      },
      {
       "output_type": "stream",
       "stream": "stdout",
       "text": [
        "\n",
        "Run #: 100"
       ]
      },
      {
       "output_type": "stream",
       "stream": "stdout",
       "text": [
        "\n",
        "Patsy Function Name: f_AN_D"
       ]
      },
      {
       "output_type": "stream",
       "stream": "stdout",
       "text": [
        "\n",
        "Patsy Function: \n",
        "    fail_to_finish_high_school_in_4_years ~ GPA_Science_8th_grade + GPA_8th_grade + GPA_SocSci_8th_grade + \n",
        "    GPA_Math_8th_grade + exc_abs_8th_grade + unexc_abs_8th_grade + GPA_ENG_8th_grade + \n",
        "    NumAdvanced_8th_grade + Num_Marks_8th_grade + NumAdvanced_SocSci_8th_grade + times_tardy_8th_grade +\n",
        "    Num_Science_8th_grade + Num_SocSci_8th_grade + NumAdvanced_Science_8th_grade + NumAdvanced_ENG_8th_grade +\n",
        "    Num_ENG_8th_grade + Num_Math_8th_grade + NumAdvanced_Math_8th_grade + C(retained_in_8_majority_vote) +\n",
        "GPA_Science_9th_grade + GPA_9th_grade + GPA_SocSci_9th_grade + \n",
        "    GPA_Math_9th_grade + exc_abs_9th_grade + unexc_abs_9th_grade + GPA_ENG_9th_grade + \n",
        "    NumAdvanced_9th_grade + Num_Marks_9th_grade + NumAdvanced_SocSci_9th_grade + times_tardy_9th_grade +\n",
        "    Num_Science_9th_grade + Num_SocSci_9th_grade + NumAdvanced_Science_9th_grade + NumAdvanced_ENG_9th_grade +\n",
        "    Num_ENG_9th_grade + Num_Math_9th_grade + NumAdvanced_Math_9th_grade + C(retained_in_9_majority_vote) +\n",
        "    C(school_code_8th_grade) + C(eds_8th_grade) + C(swd_8th_grade) + \n",
        "    C(lep_8th_grade) + C(sex_8th_grade) + C(ethnic_8th_grade) + C(CITY_8th_grade) + C(ZIP_8th_grade) +\n",
        "C(school_code_9th_grade) + C(eds_9th_grade) + C(swd_9th_grade) + C(lep_9th_grade) + C(sex_9th_grade) + \n",
        "    C(ethnic_9th_grade) + C(CITY_9th_grade) + C(ZIP_9th_grade)\n",
        "    \n",
        "Imputation type: imputeWithMedianOrMode\n",
        "Run #: 25"
       ]
      },
      {
       "output_type": "stream",
       "stream": "stdout",
       "text": [
        "\n",
        "Run #: 50"
       ]
      },
      {
       "output_type": "stream",
       "stream": "stdout",
       "text": [
        "\n",
        "Run #: 75"
       ]
      },
      {
       "output_type": "stream",
       "stream": "stdout",
       "text": [
        "\n",
        "Run #: 100"
       ]
      },
      {
       "output_type": "stream",
       "stream": "stdout",
       "text": [
        "\n",
        "Imputation type: imputeWithEmpDraws"
       ]
      },
      {
       "output_type": "stream",
       "stream": "stdout",
       "text": [
        "\n",
        "Run #: 25"
       ]
      },
      {
       "output_type": "stream",
       "stream": "stdout",
       "text": [
        "\n",
        "Run #: 50"
       ]
      },
      {
       "output_type": "stream",
       "stream": "stdout",
       "text": [
        "\n",
        "Run #: 75"
       ]
      },
      {
       "output_type": "stream",
       "stream": "stdout",
       "text": [
        "\n",
        "Run #: 100"
       ]
      },
      {
       "output_type": "stream",
       "stream": "stdout",
       "text": [
        "\n",
        "Imputation type: imputeWithNegOne"
       ]
      },
      {
       "output_type": "stream",
       "stream": "stdout",
       "text": [
        "\n",
        "Run #: 25"
       ]
      },
      {
       "output_type": "stream",
       "stream": "stdout",
       "text": [
        "\n",
        "Run #: 50"
       ]
      },
      {
       "output_type": "stream",
       "stream": "stdout",
       "text": [
        "\n",
        "Run #: 75"
       ]
      },
      {
       "output_type": "stream",
       "stream": "stdout",
       "text": [
        "\n",
        "Run #: 100"
       ]
      },
      {
       "output_type": "stream",
       "stream": "stdout",
       "text": [
        "\n",
        "Patsy Function Name: f_AN_D_ANXD"
       ]
      },
      {
       "output_type": "stream",
       "stream": "stdout",
       "text": [
        "\n",
        "Patsy Function: \n",
        "    fail_to_finish_high_school_in_4_years ~ (GPA_Science_8th_grade + GPA_8th_grade + GPA_SocSci_8th_grade + \n",
        "    GPA_Math_8th_grade + exc_abs_8th_grade + unexc_abs_8th_grade + GPA_ENG_8th_grade + \n",
        "    NumAdvanced_8th_grade + Num_Marks_8th_grade + NumAdvanced_SocSci_8th_grade + times_tardy_8th_grade +\n",
        "    Num_Science_8th_grade + Num_SocSci_8th_grade + NumAdvanced_Science_8th_grade + NumAdvanced_ENG_8th_grade +\n",
        "    Num_ENG_8th_grade + Num_Math_8th_grade + NumAdvanced_Math_8th_grade + C(retained_in_8_majority_vote) +\n",
        "GPA_Science_9th_grade + GPA_9th_grade + GPA_SocSci_9th_grade + \n",
        "    GPA_Math_9th_grade + exc_abs_9th_grade + unexc_abs_9th_grade + GPA_ENG_9th_grade + \n",
        "    NumAdvanced_9th_grade + Num_Marks_9th_grade + NumAdvanced_SocSci_9th_grade + times_tardy_9th_grade +\n",
        "    Num_Science_9th_grade + Num_SocSci_9th_grade + NumAdvanced_Science_9th_grade + NumAdvanced_ENG_9th_grade +\n",
        "    Num_ENG_9th_grade + Num_Math_9th_grade + NumAdvanced_Math_9th_grade + C(retained_in_9_majority_vote)) *\n",
        "    (C(school_code_8th_grade) + C(eds_8th_grade) + C(swd_8th_grade) + \n",
        "    C(lep_8th_grade) + C(sex_8th_grade) + C(ethnic_8th_grade) + C(CITY_8th_grade) + C(ZIP_8th_grade) +\n",
        "C(school_code_9th_grade) + C(eds_9th_grade) + C(swd_9th_grade) + C(lep_9th_grade) + C(sex_9th_grade) + \n",
        "    C(ethnic_9th_grade) + C(CITY_9th_grade) + C(ZIP_9th_grade))\n",
        "    \n",
        "Imputation type: imputeWithMedianOrMode\n",
        "Run #: 25"
       ]
      },
      {
       "output_type": "stream",
       "stream": "stdout",
       "text": [
        "\n",
        "Run #: 50"
       ]
      },
      {
       "output_type": "stream",
       "stream": "stdout",
       "text": [
        "\n",
        "Run #: 75"
       ]
      },
      {
       "output_type": "stream",
       "stream": "stdout",
       "text": [
        "\n",
        "Run #: 100"
       ]
      },
      {
       "output_type": "stream",
       "stream": "stdout",
       "text": [
        "\n",
        "Imputation type: imputeWithEmpDraws"
       ]
      },
      {
       "output_type": "stream",
       "stream": "stdout",
       "text": [
        "\n",
        "Run #: 25"
       ]
      },
      {
       "output_type": "stream",
       "stream": "stdout",
       "text": [
        "\n",
        "Run #: 50"
       ]
      },
      {
       "output_type": "stream",
       "stream": "stdout",
       "text": [
        "\n",
        "Run #: 75"
       ]
      },
      {
       "output_type": "stream",
       "stream": "stdout",
       "text": [
        "\n",
        "Run #: 100"
       ]
      },
      {
       "output_type": "stream",
       "stream": "stdout",
       "text": [
        "\n",
        "Imputation type: imputeWithNegOne"
       ]
      },
      {
       "output_type": "stream",
       "stream": "stdout",
       "text": [
        "\n",
        "Run #: 25"
       ]
      },
      {
       "output_type": "stream",
       "stream": "stdout",
       "text": [
        "\n",
        "Run #: 50"
       ]
      },
      {
       "output_type": "stream",
       "stream": "stdout",
       "text": [
        "\n",
        "Run #: 75"
       ]
      },
      {
       "output_type": "stream",
       "stream": "stdout",
       "text": [
        "\n",
        "Run #: 100"
       ]
      },
      {
       "output_type": "stream",
       "stream": "stdout",
       "text": [
        "\n",
        "Patsy Function Name: f_AN_D_ANXD_DbXDc"
       ]
      },
      {
       "output_type": "stream",
       "stream": "stdout",
       "text": [
        "\n",
        "Patsy Function: \n",
        "    fail_to_finish_high_school_in_4_years ~ (GPA_Science_8th_grade + GPA_8th_grade + GPA_SocSci_8th_grade + \n",
        "    GPA_Math_8th_grade + exc_abs_8th_grade + unexc_abs_8th_grade + GPA_ENG_8th_grade + \n",
        "    NumAdvanced_8th_grade + Num_Marks_8th_grade + NumAdvanced_SocSci_8th_grade + times_tardy_8th_grade +\n",
        "    Num_Science_8th_grade + Num_SocSci_8th_grade + NumAdvanced_Science_8th_grade + NumAdvanced_ENG_8th_grade +\n",
        "    Num_ENG_8th_grade + Num_Math_8th_grade + NumAdvanced_Math_8th_grade + C(retained_in_8_majority_vote) +\n",
        "GPA_Science_9th_grade + GPA_9th_grade + GPA_SocSci_9th_grade + \n",
        "    GPA_Math_9th_grade + exc_abs_9th_grade + unexc_abs_9th_grade + GPA_ENG_9th_grade + \n",
        "    NumAdvanced_9th_grade + Num_Marks_9th_grade + NumAdvanced_SocSci_9th_grade + times_tardy_9th_grade +\n",
        "    Num_Science_9th_grade + Num_SocSci_9th_grade + NumAdvanced_Science_9th_grade + NumAdvanced_ENG_9th_grade +\n",
        "    Num_ENG_9th_grade + Num_Math_9th_grade + NumAdvanced_Math_9th_grade + C(retained_in_9_majority_vote)) *\n",
        "    (C(school_code_8th_grade) + C(eds_8th_grade) + C(swd_8th_grade) + \n",
        "    C(lep_8th_grade) + C(sex_8th_grade) + C(ethnic_8th_grade) + C(CITY_8th_grade) + C(ZIP_8th_grade) +\n",
        "C(school_code_9th_grade) + C(eds_9th_grade) + C(swd_9th_grade) + C(lep_9th_grade) + C(sex_9th_grade) + \n",
        "    C(ethnic_9th_grade) + C(CITY_9th_grade) + C(ZIP_9th_grade)) + \n",
        "    (C(eds_8th_grade) + C(swd_8th_grade) + C(lep_8th_grade) + C(sex_8th_grade) +\n",
        "C(eds_9th_grade) + C(swd_9th_grade) + C(lep_9th_grade) + C(sex_8th_grade)) : \n",
        "    (C(ethnic_8th_grade) + C(CITY_8th_grade) + C(school_code_8th_grade) + C(ZIP_8th_grade) +\n",
        "C(ethnic_9th_grade) + C(CITY_9th_grade) + C(school_code_9th_grade) + C(ZIP_9th_grade))\n",
        "    \n",
        "Imputation type: imputeWithMedianOrMode\n",
        "Run #: 25"
       ]
      },
      {
       "output_type": "stream",
       "stream": "stdout",
       "text": [
        "\n",
        "Run #: 50"
       ]
      },
      {
       "output_type": "stream",
       "stream": "stdout",
       "text": [
        "\n",
        "Run #: 75"
       ]
      },
      {
       "output_type": "stream",
       "stream": "stdout",
       "text": [
        "\n",
        "Run #: 100"
       ]
      },
      {
       "output_type": "stream",
       "stream": "stdout",
       "text": [
        "\n",
        "Imputation type: imputeWithEmpDraws"
       ]
      },
      {
       "output_type": "stream",
       "stream": "stdout",
       "text": [
        "\n",
        "Run #: 25"
       ]
      },
      {
       "output_type": "stream",
       "stream": "stdout",
       "text": [
        "\n",
        "Run #: 50"
       ]
      },
      {
       "output_type": "stream",
       "stream": "stdout",
       "text": [
        "\n",
        "Run #: 75"
       ]
      },
      {
       "output_type": "stream",
       "stream": "stdout",
       "text": [
        "\n",
        "Run #: 100"
       ]
      },
      {
       "output_type": "stream",
       "stream": "stdout",
       "text": [
        "\n",
        "Imputation type: imputeWithNegOne"
       ]
      },
      {
       "output_type": "stream",
       "stream": "stdout",
       "text": [
        "\n",
        "Run #: 25"
       ]
      },
      {
       "output_type": "stream",
       "stream": "stdout",
       "text": [
        "\n",
        "Run #: 50"
       ]
      },
      {
       "output_type": "stream",
       "stream": "stdout",
       "text": [
        "\n",
        "Run #: 75"
       ]
      },
      {
       "output_type": "stream",
       "stream": "stdout",
       "text": [
        "\n",
        "Run #: 100"
       ]
      },
      {
       "output_type": "stream",
       "stream": "stdout",
       "text": [
        "\n",
        "Patsy Function Name: f_AN_D_ANqXD"
       ]
      },
      {
       "output_type": "stream",
       "stream": "stdout",
       "text": [
        "\n",
        "Patsy Function: \n",
        "    fail_to_finish_high_school_in_4_years ~ (GPA_Science_8th_grade + GPA_8th_grade + GPA_SocSci_8th_grade + \n",
        "    GPA_Math_8th_grade + exc_abs_8th_grade + unexc_abs_8th_grade + GPA_ENG_8th_grade + \n",
        "    NumAdvanced_8th_grade + Num_Marks_8th_grade + NumAdvanced_SocSci_8th_grade + times_tardy_8th_grade +\n",
        "    Num_Science_8th_grade + Num_SocSci_8th_grade + NumAdvanced_Science_8th_grade + NumAdvanced_ENG_8th_grade +\n",
        "    Num_ENG_8th_grade + Num_Math_8th_grade + NumAdvanced_Math_8th_grade + C(retained_in_8_majority_vote) +\n",
        "GPA_Science_9th_grade + GPA_9th_grade + GPA_SocSci_9th_grade + \n",
        "    GPA_Math_9th_grade + exc_abs_9th_grade + unexc_abs_9th_grade + GPA_ENG_9th_grade + \n",
        "    NumAdvanced_9th_grade + Num_Marks_9th_grade + NumAdvanced_SocSci_9th_grade + times_tardy_9th_grade +\n",
        "    Num_Science_9th_grade + Num_SocSci_9th_grade + NumAdvanced_Science_9th_grade + NumAdvanced_ENG_9th_grade +\n",
        "    Num_ENG_9th_grade + Num_Math_9th_grade + NumAdvanced_Math_9th_grade + C(retained_in_9_majority_vote)) +\n",
        "    (GPA_Science_8th_gradeQ + GPA_8th_gradeQ + GPA_SocSci_8th_gradeQ + GPA_Math_8th_gradeQ + exc_abs_8th_gradeQ +\n",
        "    GPA_ENG_8th_gradeQ +\n",
        "GPA_Science_9th_gradeQ + GPA_9th_gradeQ + GPA_SocSci_9th_gradeQ + GPA_Math_9th_gradeQ + exc_abs_9th_gradeQ +\n",
        "    GPA_ENG_9th_gradeQ)*\n",
        "    (C(school_code_8th_grade) + C(eds_8th_grade) + C(swd_8th_grade) + \n",
        "    C(lep_8th_grade) + C(sex_8th_grade) + C(ethnic_8th_grade) + C(CITY_8th_grade) + C(ZIP_8th_grade) +\n",
        "C(school_code_9th_grade) + C(eds_9th_grade) + C(swd_9th_grade) + C(lep_9th_grade) + C(sex_9th_grade) + \n",
        "    C(ethnic_9th_grade) + C(CITY_9th_grade) + C(ZIP_9th_grade))\n",
        "    \n",
        "Imputation type: imputeWithMedianOrMode\n",
        "Run #: 25"
       ]
      },
      {
       "output_type": "stream",
       "stream": "stdout",
       "text": [
        "\n",
        "Run #: 50"
       ]
      },
      {
       "output_type": "stream",
       "stream": "stdout",
       "text": [
        "\n",
        "Run #: 75"
       ]
      },
      {
       "output_type": "stream",
       "stream": "stdout",
       "text": [
        "\n",
        "Run #: 100"
       ]
      },
      {
       "output_type": "stream",
       "stream": "stdout",
       "text": [
        "\n",
        "Imputation type: imputeWithEmpDraws"
       ]
      },
      {
       "output_type": "stream",
       "stream": "stdout",
       "text": [
        "\n",
        "Run #: 25"
       ]
      },
      {
       "output_type": "stream",
       "stream": "stdout",
       "text": [
        "\n",
        "Run #: 50"
       ]
      },
      {
       "output_type": "stream",
       "stream": "stdout",
       "text": [
        "\n",
        "Run #: 75"
       ]
      },
      {
       "output_type": "stream",
       "stream": "stdout",
       "text": [
        "\n",
        "Run #: 100"
       ]
      },
      {
       "output_type": "stream",
       "stream": "stdout",
       "text": [
        "\n",
        "Imputation type: imputeWithNegOne"
       ]
      },
      {
       "output_type": "stream",
       "stream": "stdout",
       "text": [
        "\n",
        "Run #: 25"
       ]
      },
      {
       "output_type": "stream",
       "stream": "stdout",
       "text": [
        "\n",
        "Run #: 50"
       ]
      },
      {
       "output_type": "stream",
       "stream": "stdout",
       "text": [
        "\n",
        "Run #: 75"
       ]
      },
      {
       "output_type": "stream",
       "stream": "stdout",
       "text": [
        "\n",
        "Run #: 100"
       ]
      },
      {
       "output_type": "stream",
       "stream": "stdout",
       "text": [
        "\n",
        "Patsy Function Name: f_AN_D_ANqXD_DbXDc"
       ]
      },
      {
       "output_type": "stream",
       "stream": "stdout",
       "text": [
        "\n",
        "Patsy Function: \n",
        "    fail_to_finish_high_school_in_4_years ~ (GPA_Science_8th_grade + GPA_8th_grade + GPA_SocSci_8th_grade + \n",
        "    GPA_Math_8th_grade + exc_abs_8th_grade + unexc_abs_8th_grade + GPA_ENG_8th_grade + \n",
        "    NumAdvanced_8th_grade + Num_Marks_8th_grade + NumAdvanced_SocSci_8th_grade + times_tardy_8th_grade +\n",
        "    Num_Science_8th_grade + Num_SocSci_8th_grade + NumAdvanced_Science_8th_grade + NumAdvanced_ENG_8th_grade +\n",
        "    Num_ENG_8th_grade + Num_Math_8th_grade + NumAdvanced_Math_8th_grade + C(retained_in_8_majority_vote) +\n",
        "GPA_Science_9th_grade + GPA_9th_grade + GPA_SocSci_9th_grade + \n",
        "    GPA_Math_9th_grade + exc_abs_9th_grade + unexc_abs_9th_grade + GPA_ENG_9th_grade + \n",
        "    NumAdvanced_9th_grade + Num_Marks_9th_grade + NumAdvanced_SocSci_9th_grade + times_tardy_9th_grade +\n",
        "    Num_Science_9th_grade + Num_SocSci_9th_grade + NumAdvanced_Science_9th_grade + NumAdvanced_ENG_9th_grade +\n",
        "    Num_ENG_9th_grade + Num_Math_9th_grade + NumAdvanced_Math_9th_grade + C(retained_in_9_majority_vote)) +\n",
        "    (GPA_Science_8th_gradeQ + GPA_8th_gradeQ + GPA_SocSci_8th_gradeQ + GPA_Math_8th_gradeQ + exc_abs_8th_gradeQ +\n",
        "    GPA_ENG_8th_gradeQ +\n",
        "GPA_Science_9th_gradeQ + GPA_9th_gradeQ + GPA_SocSci_9th_gradeQ + GPA_Math_9th_gradeQ + exc_abs_9th_gradeQ +\n",
        "    GPA_ENG_9th_gradeQ) *\n",
        "    (C(school_code_8th_grade) + C(eds_8th_grade) + C(swd_8th_grade) + \n",
        "    C(lep_8th_grade) + C(sex_8th_grade) + C(ethnic_8th_grade) + C(CITY_8th_grade) + C(ZIP_8th_grade) +\n",
        "C(school_code_9th_grade) + C(eds_9th_grade) + C(swd_9th_grade) + C(lep_9th_grade) + C(sex_9th_grade) + \n",
        "    C(ethnic_9th_grade) + C(CITY_9th_grade) + C(ZIP_9th_grade)) + \n",
        "    (C(eds_8th_grade) + C(swd_8th_grade) + C(lep_8th_grade) + C(sex_8th_grade) +\n",
        "C(eds_9th_grade) + C(swd_9th_grade) + C(lep_9th_grade) + C(sex_8th_grade)) : \n",
        "    (C(ethnic_8th_grade) + C(CITY_8th_grade) + C(school_code_8th_grade) + C(ZIP_8th_grade) +\n",
        "C(ethnic_9th_grade) + C(CITY_9th_grade) + C(school_code_9th_grade) + C(ZIP_9th_grade))\n",
        "    \n",
        "Imputation type: imputeWithMedianOrMode\n",
        "Run #: 25"
       ]
      },
      {
       "output_type": "stream",
       "stream": "stdout",
       "text": [
        "\n",
        "Run #: 50"
       ]
      },
      {
       "output_type": "stream",
       "stream": "stdout",
       "text": [
        "\n",
        "Run #: 75"
       ]
      },
      {
       "output_type": "stream",
       "stream": "stdout",
       "text": [
        "\n",
        "Run #: 100"
       ]
      },
      {
       "output_type": "stream",
       "stream": "stdout",
       "text": [
        "\n",
        "Imputation type: imputeWithEmpDraws"
       ]
      },
      {
       "output_type": "stream",
       "stream": "stdout",
       "text": [
        "\n",
        "Run #: 25"
       ]
      },
      {
       "output_type": "stream",
       "stream": "stdout",
       "text": [
        "\n",
        "Run #: 50"
       ]
      },
      {
       "output_type": "stream",
       "stream": "stdout",
       "text": [
        "\n",
        "Run #: 75"
       ]
      },
      {
       "output_type": "stream",
       "stream": "stdout",
       "text": [
        "\n",
        "Run #: 100"
       ]
      },
      {
       "output_type": "stream",
       "stream": "stdout",
       "text": [
        "\n",
        "Imputation type: imputeWithNegOne"
       ]
      },
      {
       "output_type": "stream",
       "stream": "stdout",
       "text": [
        "\n",
        "Run #: 25"
       ]
      },
      {
       "output_type": "stream",
       "stream": "stdout",
       "text": [
        "\n",
        "Run #: 50"
       ]
      },
      {
       "output_type": "stream",
       "stream": "stdout",
       "text": [
        "\n",
        "Run #: 75"
       ]
      },
      {
       "output_type": "stream",
       "stream": "stdout",
       "text": [
        "\n",
        "Run #: 100"
       ]
      },
      {
       "output_type": "stream",
       "stream": "stdout",
       "text": [
        "\n"
       ]
      }
     ],
     "prompt_number": 99
    },
    {
     "cell_type": "code",
     "collapsed": false,
     "input": [
      "MRdf = pd.DataFrame(multiRunResults_svm9)\n",
      "fname = 'MRdfSVM_lin_9.csv'\n",
      "MRdf.to_csv('/Users/Nasir/Documents/DSaPP/Cabarrus County Public Schools/Results/' + fname)   "
     ],
     "language": "python",
     "metadata": {},
     "outputs": [],
     "prompt_number": 100
    },
    {
     "cell_type": "code",
     "collapsed": false,
     "input": [
      "#Loop through different options\n",
      "#Start with only RF100 classifier\n",
      "multiRunResults_rf5009 = []\n",
      "num_runs = 100\n",
      "\n",
      "#allClf_names = ['RF100','RF500','LR1_hiC','LR1_loC','LR2_hiC','LR2_loC','SVM_lin','SVM_poly','SVM_sig']\n",
      "allClf_names = ['RF500']\n",
      "allPatsyStrs = ['f_D', 'f_TN', 'f_TN_D', 'f_AN_D', 'f_AN_D_ANXD', 'f_AN_D_ANXD_DbXDc', 'f_AN_D_ANqXD', 'f_AN_D_ANqXD_DbXDc']\n",
      "allPatsyFs = [f_D, f_TN, f_TN_D, f_AN_D, f_AN_D_ANXD, f_AN_D_ANXD_DbXDc, f_AN_D_ANqXD, f_AN_D_ANqXD_DbXDc]\n",
      "impTypeStrs = ['imputeWithMedianOrMode','imputeWithEmpDraws','imputeWithNegOne']\n",
      "\n",
      "for clf_name in allClf_names:\n",
      "    print \"Classifier: \" + clf_name\n",
      "    \n",
      "    for p, patsyf in enumerate(allPatsyFs):\n",
      "        print \"Patsy Function Name: \" + allPatsyStrs[p]\n",
      "        print \"Patsy Function: \" + patsyf\n",
      "        \n",
      "        for imp in impTypeStrs:\n",
      "            print \"Imputation type: \" + imp\n",
      "            resN = []\n",
      "            for i in range(0,num_runs):\n",
      "                if (i+1)%25 == 0:\n",
      "                    print \"Run #: \" + str(i+1)\n",
      "                clf = cts.defaultClassifiers(clf_name,random_state=i)\n",
      "                resN.append(ppl.runPipe(train_data, test_data, important_features, outcome_col,median_features=median_features,\n",
      "                                        imputeFuncStr = imp, clf = clf, clf_name = clf_name, patsyf = patsyf, \n",
      "                                        printOutput = False, seed = i, do_get_feature_importances = False))\n",
      "\n",
      "            multiRunResults_svm9.append(ppl.convertRunsToMeanStdAddInfo(pd.DataFrame(resN),clf,clf_name,num_runs,modelGrade,\n",
      "                                                                   patsyf, imp, allPatsyStrs[p]))\n",
      "\n",
      "    "
     ],
     "language": "python",
     "metadata": {},
     "outputs": [
      {
       "output_type": "stream",
       "stream": "stdout",
       "text": [
        "Classifier: RF500\n",
        "Patsy Function Name: f_D\n",
        "Patsy Function: \n",
        "    fail_to_finish_high_school_in_4_years ~ C(school_code_8th_grade) +\n",
        "    C(eds_8th_grade) + C(swd_8th_grade) + C(lep_8th_grade) + C(sex_8th_grade) + C(ethnic_8th_grade) + \n",
        "    C(CITY_8th_grade) + C(ZIP_8th_grade) +\n",
        "    C(school_code_9th_grade) +\n",
        "    C(eds_9th_grade) + C(swd_9th_grade) + C(lep_9th_grade) + C(sex_9th_grade) + C(ethnic_9th_grade) + \n",
        "    C(CITY_9th_grade) + C(ZIP_9th_grade)\n",
        "    \n",
        "Imputation type: imputeWithMedianOrMode\n",
        "Run #: 25"
       ]
      },
      {
       "output_type": "stream",
       "stream": "stdout",
       "text": [
        "\n",
        "Run #: 50"
       ]
      },
      {
       "output_type": "stream",
       "stream": "stdout",
       "text": [
        "\n",
        "Run #: 75"
       ]
      },
      {
       "output_type": "stream",
       "stream": "stdout",
       "text": [
        "\n",
        "Run #: 100"
       ]
      },
      {
       "output_type": "stream",
       "stream": "stdout",
       "text": [
        "\n",
        "Imputation type: imputeWithEmpDraws"
       ]
      },
      {
       "output_type": "stream",
       "stream": "stdout",
       "text": [
        "\n",
        "Run #: 25"
       ]
      },
      {
       "output_type": "stream",
       "stream": "stdout",
       "text": [
        "\n",
        "Run #: 50"
       ]
      },
      {
       "output_type": "stream",
       "stream": "stdout",
       "text": [
        "\n",
        "Run #: 75"
       ]
      },
      {
       "output_type": "stream",
       "stream": "stdout",
       "text": [
        "\n",
        "Run #: 100"
       ]
      },
      {
       "output_type": "stream",
       "stream": "stdout",
       "text": [
        "\n",
        "Imputation type: imputeWithNegOne"
       ]
      },
      {
       "output_type": "stream",
       "stream": "stdout",
       "text": [
        "\n",
        "Run #: 25"
       ]
      },
      {
       "output_type": "stream",
       "stream": "stdout",
       "text": [
        "\n",
        "Run #: 50"
       ]
      },
      {
       "output_type": "stream",
       "stream": "stdout",
       "text": [
        "\n",
        "Run #: 75"
       ]
      },
      {
       "output_type": "stream",
       "stream": "stdout",
       "text": [
        "\n",
        "Run #: 100"
       ]
      },
      {
       "output_type": "stream",
       "stream": "stdout",
       "text": [
        "\n",
        "Patsy Function Name: f_TN"
       ]
      },
      {
       "output_type": "stream",
       "stream": "stdout",
       "text": [
        "\n",
        "Patsy Function: \n",
        "    fail_to_finish_high_school_in_4_years ~ GPA_Science_8th_grade + GPA_8th_grade + GPA_SocSci_8th_grade + \n",
        "    GPA_Math_8th_grade + exc_abs_8th_grade + unexc_abs_8th_grade + GPA_ENG_8th_grade +\n",
        "GPA_Science_9th_grade + GPA_9th_grade + GPA_SocSci_9th_grade + \n",
        "    GPA_Math_9th_grade + exc_abs_9th_grade + unexc_abs_9th_grade + GPA_ENG_9th_grade\n",
        "    \n",
        "Imputation type: imputeWithMedianOrMode\n",
        "Run #: 25"
       ]
      },
      {
       "output_type": "stream",
       "stream": "stdout",
       "text": [
        "\n",
        "Run #: 50"
       ]
      },
      {
       "output_type": "stream",
       "stream": "stdout",
       "text": [
        "\n",
        "Run #: 75"
       ]
      },
      {
       "output_type": "stream",
       "stream": "stdout",
       "text": [
        "\n",
        "Run #: 100"
       ]
      },
      {
       "output_type": "stream",
       "stream": "stdout",
       "text": [
        "\n",
        "Imputation type: imputeWithEmpDraws"
       ]
      },
      {
       "output_type": "stream",
       "stream": "stdout",
       "text": [
        "\n",
        "Run #: 25"
       ]
      },
      {
       "output_type": "stream",
       "stream": "stdout",
       "text": [
        "\n",
        "Run #: 50"
       ]
      },
      {
       "output_type": "stream",
       "stream": "stdout",
       "text": [
        "\n",
        "Run #: 75"
       ]
      },
      {
       "output_type": "stream",
       "stream": "stdout",
       "text": [
        "\n",
        "Run #: 100"
       ]
      },
      {
       "output_type": "stream",
       "stream": "stdout",
       "text": [
        "\n",
        "Imputation type: imputeWithNegOne"
       ]
      },
      {
       "output_type": "stream",
       "stream": "stdout",
       "text": [
        "\n",
        "Run #: 25"
       ]
      },
      {
       "output_type": "stream",
       "stream": "stdout",
       "text": [
        "\n",
        "Run #: 50"
       ]
      },
      {
       "output_type": "stream",
       "stream": "stdout",
       "text": [
        "\n",
        "Run #: 75"
       ]
      },
      {
       "output_type": "stream",
       "stream": "stdout",
       "text": [
        "\n",
        "Run #: 100"
       ]
      },
      {
       "output_type": "stream",
       "stream": "stdout",
       "text": [
        "\n",
        "Patsy Function Name: f_TN_D"
       ]
      },
      {
       "output_type": "stream",
       "stream": "stdout",
       "text": [
        "\n",
        "Patsy Function: \n",
        "    fail_to_finish_high_school_in_4_years ~ GPA_Science_8th_grade + GPA_8th_grade + GPA_SocSci_8th_grade + \n",
        "    GPA_Math_8th_grade + exc_abs_8th_grade + unexc_abs_8th_grade + GPA_ENG_8th_grade + \n",
        "GPA_Science_9th_grade + GPA_9th_grade + GPA_SocSci_9th_grade + \n",
        "    GPA_Math_9th_grade + exc_abs_9th_grade + unexc_abs_9th_grade + GPA_ENG_9th_grade +\n",
        "    C(school_code_8th_grade) + C(eds_8th_grade) + C(swd_8th_grade) + C(lep_8th_grade) + C(sex_8th_grade) + \n",
        "    C(ethnic_8th_grade) + C(CITY_8th_grade) + C(ZIP_8th_grade) +\n",
        "C(school_code_9th_grade) + C(eds_9th_grade) + C(swd_9th_grade) + C(lep_9th_grade) + C(sex_9th_grade) + \n",
        "    C(ethnic_9th_grade) + C(CITY_9th_grade) + C(ZIP_9th_grade)\n",
        "    \n",
        "Imputation type: imputeWithMedianOrMode\n",
        "Run #: 25"
       ]
      },
      {
       "output_type": "stream",
       "stream": "stdout",
       "text": [
        "\n",
        "Run #: 50"
       ]
      },
      {
       "output_type": "stream",
       "stream": "stdout",
       "text": [
        "\n",
        "Run #: 75"
       ]
      },
      {
       "output_type": "stream",
       "stream": "stdout",
       "text": [
        "\n",
        "Run #: 100"
       ]
      },
      {
       "output_type": "stream",
       "stream": "stdout",
       "text": [
        "\n",
        "Imputation type: imputeWithEmpDraws"
       ]
      },
      {
       "output_type": "stream",
       "stream": "stdout",
       "text": [
        "\n",
        "Run #: 25"
       ]
      },
      {
       "output_type": "stream",
       "stream": "stdout",
       "text": [
        "\n",
        "Run #: 50"
       ]
      },
      {
       "output_type": "stream",
       "stream": "stdout",
       "text": [
        "\n",
        "Run #: 75"
       ]
      },
      {
       "output_type": "stream",
       "stream": "stdout",
       "text": [
        "\n",
        "Run #: 100"
       ]
      },
      {
       "output_type": "stream",
       "stream": "stdout",
       "text": [
        "\n",
        "Imputation type: imputeWithNegOne"
       ]
      },
      {
       "output_type": "stream",
       "stream": "stdout",
       "text": [
        "\n",
        "Run #: 25"
       ]
      },
      {
       "output_type": "stream",
       "stream": "stdout",
       "text": [
        "\n",
        "Run #: 50"
       ]
      },
      {
       "output_type": "stream",
       "stream": "stdout",
       "text": [
        "\n",
        "Run #: 75"
       ]
      },
      {
       "output_type": "stream",
       "stream": "stdout",
       "text": [
        "\n",
        "Run #: 100"
       ]
      },
      {
       "output_type": "stream",
       "stream": "stdout",
       "text": [
        "\n",
        "Patsy Function Name: f_AN_D"
       ]
      },
      {
       "output_type": "stream",
       "stream": "stdout",
       "text": [
        "\n",
        "Patsy Function: \n",
        "    fail_to_finish_high_school_in_4_years ~ GPA_Science_8th_grade + GPA_8th_grade + GPA_SocSci_8th_grade + \n",
        "    GPA_Math_8th_grade + exc_abs_8th_grade + unexc_abs_8th_grade + GPA_ENG_8th_grade + \n",
        "    NumAdvanced_8th_grade + Num_Marks_8th_grade + NumAdvanced_SocSci_8th_grade + times_tardy_8th_grade +\n",
        "    Num_Science_8th_grade + Num_SocSci_8th_grade + NumAdvanced_Science_8th_grade + NumAdvanced_ENG_8th_grade +\n",
        "    Num_ENG_8th_grade + Num_Math_8th_grade + NumAdvanced_Math_8th_grade + C(retained_in_8_majority_vote) +\n",
        "GPA_Science_9th_grade + GPA_9th_grade + GPA_SocSci_9th_grade + \n",
        "    GPA_Math_9th_grade + exc_abs_9th_grade + unexc_abs_9th_grade + GPA_ENG_9th_grade + \n",
        "    NumAdvanced_9th_grade + Num_Marks_9th_grade + NumAdvanced_SocSci_9th_grade + times_tardy_9th_grade +\n",
        "    Num_Science_9th_grade + Num_SocSci_9th_grade + NumAdvanced_Science_9th_grade + NumAdvanced_ENG_9th_grade +\n",
        "    Num_ENG_9th_grade + Num_Math_9th_grade + NumAdvanced_Math_9th_grade + C(retained_in_9_majority_vote) +\n",
        "    C(school_code_8th_grade) + C(eds_8th_grade) + C(swd_8th_grade) + \n",
        "    C(lep_8th_grade) + C(sex_8th_grade) + C(ethnic_8th_grade) + C(CITY_8th_grade) + C(ZIP_8th_grade) +\n",
        "C(school_code_9th_grade) + C(eds_9th_grade) + C(swd_9th_grade) + C(lep_9th_grade) + C(sex_9th_grade) + \n",
        "    C(ethnic_9th_grade) + C(CITY_9th_grade) + C(ZIP_9th_grade)\n",
        "    \n",
        "Imputation type: imputeWithMedianOrMode\n",
        "Run #: 25"
       ]
      },
      {
       "output_type": "stream",
       "stream": "stdout",
       "text": [
        "\n",
        "Run #: 50"
       ]
      },
      {
       "output_type": "stream",
       "stream": "stdout",
       "text": [
        "\n",
        "Run #: 75"
       ]
      },
      {
       "output_type": "stream",
       "stream": "stdout",
       "text": [
        "\n",
        "Run #: 100"
       ]
      },
      {
       "output_type": "stream",
       "stream": "stdout",
       "text": [
        "\n",
        "Imputation type: imputeWithEmpDraws"
       ]
      },
      {
       "output_type": "stream",
       "stream": "stdout",
       "text": [
        "\n",
        "Run #: 25"
       ]
      },
      {
       "output_type": "stream",
       "stream": "stdout",
       "text": [
        "\n",
        "Run #: 50"
       ]
      },
      {
       "output_type": "stream",
       "stream": "stdout",
       "text": [
        "\n",
        "Run #: 75"
       ]
      },
      {
       "output_type": "stream",
       "stream": "stdout",
       "text": [
        "\n",
        "Run #: 100"
       ]
      },
      {
       "output_type": "stream",
       "stream": "stdout",
       "text": [
        "\n",
        "Imputation type: imputeWithNegOne"
       ]
      },
      {
       "output_type": "stream",
       "stream": "stdout",
       "text": [
        "\n",
        "Run #: 25"
       ]
      },
      {
       "output_type": "stream",
       "stream": "stdout",
       "text": [
        "\n",
        "Run #: 50"
       ]
      },
      {
       "output_type": "stream",
       "stream": "stdout",
       "text": [
        "\n",
        "Run #: 75"
       ]
      },
      {
       "output_type": "stream",
       "stream": "stdout",
       "text": [
        "\n",
        "Run #: 100"
       ]
      },
      {
       "output_type": "stream",
       "stream": "stdout",
       "text": [
        "\n",
        "Patsy Function Name: f_AN_D_ANXD"
       ]
      },
      {
       "output_type": "stream",
       "stream": "stdout",
       "text": [
        "\n",
        "Patsy Function: \n",
        "    fail_to_finish_high_school_in_4_years ~ (GPA_Science_8th_grade + GPA_8th_grade + GPA_SocSci_8th_grade + \n",
        "    GPA_Math_8th_grade + exc_abs_8th_grade + unexc_abs_8th_grade + GPA_ENG_8th_grade + \n",
        "    NumAdvanced_8th_grade + Num_Marks_8th_grade + NumAdvanced_SocSci_8th_grade + times_tardy_8th_grade +\n",
        "    Num_Science_8th_grade + Num_SocSci_8th_grade + NumAdvanced_Science_8th_grade + NumAdvanced_ENG_8th_grade +\n",
        "    Num_ENG_8th_grade + Num_Math_8th_grade + NumAdvanced_Math_8th_grade + C(retained_in_8_majority_vote) +\n",
        "GPA_Science_9th_grade + GPA_9th_grade + GPA_SocSci_9th_grade + \n",
        "    GPA_Math_9th_grade + exc_abs_9th_grade + unexc_abs_9th_grade + GPA_ENG_9th_grade + \n",
        "    NumAdvanced_9th_grade + Num_Marks_9th_grade + NumAdvanced_SocSci_9th_grade + times_tardy_9th_grade +\n",
        "    Num_Science_9th_grade + Num_SocSci_9th_grade + NumAdvanced_Science_9th_grade + NumAdvanced_ENG_9th_grade +\n",
        "    Num_ENG_9th_grade + Num_Math_9th_grade + NumAdvanced_Math_9th_grade + C(retained_in_9_majority_vote)) *\n",
        "    (C(school_code_8th_grade) + C(eds_8th_grade) + C(swd_8th_grade) + \n",
        "    C(lep_8th_grade) + C(sex_8th_grade) + C(ethnic_8th_grade) + C(CITY_8th_grade) + C(ZIP_8th_grade) +\n",
        "C(school_code_9th_grade) + C(eds_9th_grade) + C(swd_9th_grade) + C(lep_9th_grade) + C(sex_9th_grade) + \n",
        "    C(ethnic_9th_grade) + C(CITY_9th_grade) + C(ZIP_9th_grade))\n",
        "    \n",
        "Imputation type: imputeWithMedianOrMode\n",
        "Run #: 25"
       ]
      },
      {
       "output_type": "stream",
       "stream": "stdout",
       "text": [
        "\n",
        "Run #: 50"
       ]
      },
      {
       "output_type": "stream",
       "stream": "stdout",
       "text": [
        "\n",
        "Run #: 75"
       ]
      },
      {
       "output_type": "stream",
       "stream": "stdout",
       "text": [
        "\n",
        "Run #: 100"
       ]
      },
      {
       "output_type": "stream",
       "stream": "stdout",
       "text": [
        "\n",
        "Imputation type: imputeWithEmpDraws"
       ]
      },
      {
       "output_type": "stream",
       "stream": "stdout",
       "text": [
        "\n",
        "Run #: 25"
       ]
      },
      {
       "output_type": "stream",
       "stream": "stdout",
       "text": [
        "\n",
        "Run #: 50"
       ]
      },
      {
       "output_type": "stream",
       "stream": "stdout",
       "text": [
        "\n",
        "Run #: 75"
       ]
      },
      {
       "output_type": "stream",
       "stream": "stdout",
       "text": [
        "\n",
        "Run #: 100"
       ]
      },
      {
       "output_type": "stream",
       "stream": "stdout",
       "text": [
        "\n",
        "Imputation type: imputeWithNegOne"
       ]
      },
      {
       "output_type": "stream",
       "stream": "stdout",
       "text": [
        "\n",
        "Run #: 25"
       ]
      },
      {
       "output_type": "stream",
       "stream": "stdout",
       "text": [
        "\n",
        "Run #: 50"
       ]
      },
      {
       "output_type": "stream",
       "stream": "stdout",
       "text": [
        "\n",
        "Run #: 75"
       ]
      },
      {
       "output_type": "stream",
       "stream": "stdout",
       "text": [
        "\n",
        "Run #: 100"
       ]
      },
      {
       "output_type": "stream",
       "stream": "stdout",
       "text": [
        "\n",
        "Patsy Function Name: f_AN_D_ANXD_DbXDc"
       ]
      },
      {
       "output_type": "stream",
       "stream": "stdout",
       "text": [
        "\n",
        "Patsy Function: \n",
        "    fail_to_finish_high_school_in_4_years ~ (GPA_Science_8th_grade + GPA_8th_grade + GPA_SocSci_8th_grade + \n",
        "    GPA_Math_8th_grade + exc_abs_8th_grade + unexc_abs_8th_grade + GPA_ENG_8th_grade + \n",
        "    NumAdvanced_8th_grade + Num_Marks_8th_grade + NumAdvanced_SocSci_8th_grade + times_tardy_8th_grade +\n",
        "    Num_Science_8th_grade + Num_SocSci_8th_grade + NumAdvanced_Science_8th_grade + NumAdvanced_ENG_8th_grade +\n",
        "    Num_ENG_8th_grade + Num_Math_8th_grade + NumAdvanced_Math_8th_grade + C(retained_in_8_majority_vote) +\n",
        "GPA_Science_9th_grade + GPA_9th_grade + GPA_SocSci_9th_grade + \n",
        "    GPA_Math_9th_grade + exc_abs_9th_grade + unexc_abs_9th_grade + GPA_ENG_9th_grade + \n",
        "    NumAdvanced_9th_grade + Num_Marks_9th_grade + NumAdvanced_SocSci_9th_grade + times_tardy_9th_grade +\n",
        "    Num_Science_9th_grade + Num_SocSci_9th_grade + NumAdvanced_Science_9th_grade + NumAdvanced_ENG_9th_grade +\n",
        "    Num_ENG_9th_grade + Num_Math_9th_grade + NumAdvanced_Math_9th_grade + C(retained_in_9_majority_vote)) *\n",
        "    (C(school_code_8th_grade) + C(eds_8th_grade) + C(swd_8th_grade) + \n",
        "    C(lep_8th_grade) + C(sex_8th_grade) + C(ethnic_8th_grade) + C(CITY_8th_grade) + C(ZIP_8th_grade) +\n",
        "C(school_code_9th_grade) + C(eds_9th_grade) + C(swd_9th_grade) + C(lep_9th_grade) + C(sex_9th_grade) + \n",
        "    C(ethnic_9th_grade) + C(CITY_9th_grade) + C(ZIP_9th_grade)) + \n",
        "    (C(eds_8th_grade) + C(swd_8th_grade) + C(lep_8th_grade) + C(sex_8th_grade) +\n",
        "C(eds_9th_grade) + C(swd_9th_grade) + C(lep_9th_grade) + C(sex_8th_grade)) : \n",
        "    (C(ethnic_8th_grade) + C(CITY_8th_grade) + C(school_code_8th_grade) + C(ZIP_8th_grade) +\n",
        "C(ethnic_9th_grade) + C(CITY_9th_grade) + C(school_code_9th_grade) + C(ZIP_9th_grade))\n",
        "    \n",
        "Imputation type: imputeWithMedianOrMode\n",
        "Run #: 25"
       ]
      },
      {
       "output_type": "stream",
       "stream": "stdout",
       "text": [
        "\n",
        "Run #: 50"
       ]
      },
      {
       "output_type": "stream",
       "stream": "stdout",
       "text": [
        "\n",
        "Run #: 75"
       ]
      },
      {
       "output_type": "stream",
       "stream": "stdout",
       "text": [
        "\n",
        "Run #: 100"
       ]
      },
      {
       "output_type": "stream",
       "stream": "stdout",
       "text": [
        "\n",
        "Imputation type: imputeWithEmpDraws"
       ]
      },
      {
       "output_type": "stream",
       "stream": "stdout",
       "text": [
        "\n",
        "Run #: 25"
       ]
      },
      {
       "output_type": "stream",
       "stream": "stdout",
       "text": [
        "\n",
        "Run #: 50"
       ]
      },
      {
       "output_type": "stream",
       "stream": "stdout",
       "text": [
        "\n",
        "Run #: 75"
       ]
      },
      {
       "output_type": "stream",
       "stream": "stdout",
       "text": [
        "\n",
        "Run #: 100"
       ]
      },
      {
       "output_type": "stream",
       "stream": "stdout",
       "text": [
        "\n",
        "Imputation type: imputeWithNegOne"
       ]
      },
      {
       "output_type": "stream",
       "stream": "stdout",
       "text": [
        "\n",
        "Run #: 25"
       ]
      },
      {
       "output_type": "stream",
       "stream": "stdout",
       "text": [
        "\n",
        "Run #: 50"
       ]
      },
      {
       "output_type": "stream",
       "stream": "stdout",
       "text": [
        "\n",
        "Run #: 75"
       ]
      },
      {
       "output_type": "stream",
       "stream": "stdout",
       "text": [
        "\n",
        "Run #: 100"
       ]
      },
      {
       "output_type": "stream",
       "stream": "stdout",
       "text": [
        "\n",
        "Patsy Function Name: f_AN_D_ANqXD"
       ]
      },
      {
       "output_type": "stream",
       "stream": "stdout",
       "text": [
        "\n",
        "Patsy Function: \n",
        "    fail_to_finish_high_school_in_4_years ~ (GPA_Science_8th_grade + GPA_8th_grade + GPA_SocSci_8th_grade + \n",
        "    GPA_Math_8th_grade + exc_abs_8th_grade + unexc_abs_8th_grade + GPA_ENG_8th_grade + \n",
        "    NumAdvanced_8th_grade + Num_Marks_8th_grade + NumAdvanced_SocSci_8th_grade + times_tardy_8th_grade +\n",
        "    Num_Science_8th_grade + Num_SocSci_8th_grade + NumAdvanced_Science_8th_grade + NumAdvanced_ENG_8th_grade +\n",
        "    Num_ENG_8th_grade + Num_Math_8th_grade + NumAdvanced_Math_8th_grade + C(retained_in_8_majority_vote) +\n",
        "GPA_Science_9th_grade + GPA_9th_grade + GPA_SocSci_9th_grade + \n",
        "    GPA_Math_9th_grade + exc_abs_9th_grade + unexc_abs_9th_grade + GPA_ENG_9th_grade + \n",
        "    NumAdvanced_9th_grade + Num_Marks_9th_grade + NumAdvanced_SocSci_9th_grade + times_tardy_9th_grade +\n",
        "    Num_Science_9th_grade + Num_SocSci_9th_grade + NumAdvanced_Science_9th_grade + NumAdvanced_ENG_9th_grade +\n",
        "    Num_ENG_9th_grade + Num_Math_9th_grade + NumAdvanced_Math_9th_grade + C(retained_in_9_majority_vote)) +\n",
        "    (GPA_Science_8th_gradeQ + GPA_8th_gradeQ + GPA_SocSci_8th_gradeQ + GPA_Math_8th_gradeQ + exc_abs_8th_gradeQ +\n",
        "    GPA_ENG_8th_gradeQ +\n",
        "GPA_Science_9th_gradeQ + GPA_9th_gradeQ + GPA_SocSci_9th_gradeQ + GPA_Math_9th_gradeQ + exc_abs_9th_gradeQ +\n",
        "    GPA_ENG_9th_gradeQ)*\n",
        "    (C(school_code_8th_grade) + C(eds_8th_grade) + C(swd_8th_grade) + \n",
        "    C(lep_8th_grade) + C(sex_8th_grade) + C(ethnic_8th_grade) + C(CITY_8th_grade) + C(ZIP_8th_grade) +\n",
        "C(school_code_9th_grade) + C(eds_9th_grade) + C(swd_9th_grade) + C(lep_9th_grade) + C(sex_9th_grade) + \n",
        "    C(ethnic_9th_grade) + C(CITY_9th_grade) + C(ZIP_9th_grade))\n",
        "    \n",
        "Imputation type: imputeWithMedianOrMode\n",
        "Run #: 25"
       ]
      },
      {
       "output_type": "stream",
       "stream": "stdout",
       "text": [
        "\n",
        "Run #: 50"
       ]
      },
      {
       "output_type": "stream",
       "stream": "stdout",
       "text": [
        "\n",
        "Run #: 75"
       ]
      },
      {
       "output_type": "stream",
       "stream": "stdout",
       "text": [
        "\n",
        "Run #: 100"
       ]
      },
      {
       "output_type": "stream",
       "stream": "stdout",
       "text": [
        "\n",
        "Imputation type: imputeWithEmpDraws"
       ]
      },
      {
       "output_type": "stream",
       "stream": "stdout",
       "text": [
        "\n",
        "Run #: 25"
       ]
      },
      {
       "output_type": "stream",
       "stream": "stdout",
       "text": [
        "\n",
        "Run #: 50"
       ]
      },
      {
       "output_type": "stream",
       "stream": "stdout",
       "text": [
        "\n",
        "Run #: 75"
       ]
      },
      {
       "output_type": "stream",
       "stream": "stdout",
       "text": [
        "\n",
        "Run #: 100"
       ]
      },
      {
       "output_type": "stream",
       "stream": "stdout",
       "text": [
        "\n",
        "Imputation type: imputeWithNegOne"
       ]
      },
      {
       "output_type": "stream",
       "stream": "stdout",
       "text": [
        "\n",
        "Run #: 25"
       ]
      },
      {
       "output_type": "stream",
       "stream": "stdout",
       "text": [
        "\n",
        "Run #: 50"
       ]
      },
      {
       "output_type": "stream",
       "stream": "stdout",
       "text": [
        "\n",
        "Run #: 75"
       ]
      },
      {
       "output_type": "stream",
       "stream": "stdout",
       "text": [
        "\n",
        "Run #: 100"
       ]
      },
      {
       "output_type": "stream",
       "stream": "stdout",
       "text": [
        "\n",
        "Patsy Function Name: f_AN_D_ANqXD_DbXDc"
       ]
      },
      {
       "output_type": "stream",
       "stream": "stdout",
       "text": [
        "\n",
        "Patsy Function: \n",
        "    fail_to_finish_high_school_in_4_years ~ (GPA_Science_8th_grade + GPA_8th_grade + GPA_SocSci_8th_grade + \n",
        "    GPA_Math_8th_grade + exc_abs_8th_grade + unexc_abs_8th_grade + GPA_ENG_8th_grade + \n",
        "    NumAdvanced_8th_grade + Num_Marks_8th_grade + NumAdvanced_SocSci_8th_grade + times_tardy_8th_grade +\n",
        "    Num_Science_8th_grade + Num_SocSci_8th_grade + NumAdvanced_Science_8th_grade + NumAdvanced_ENG_8th_grade +\n",
        "    Num_ENG_8th_grade + Num_Math_8th_grade + NumAdvanced_Math_8th_grade + C(retained_in_8_majority_vote) +\n",
        "GPA_Science_9th_grade + GPA_9th_grade + GPA_SocSci_9th_grade + \n",
        "    GPA_Math_9th_grade + exc_abs_9th_grade + unexc_abs_9th_grade + GPA_ENG_9th_grade + \n",
        "    NumAdvanced_9th_grade + Num_Marks_9th_grade + NumAdvanced_SocSci_9th_grade + times_tardy_9th_grade +\n",
        "    Num_Science_9th_grade + Num_SocSci_9th_grade + NumAdvanced_Science_9th_grade + NumAdvanced_ENG_9th_grade +\n",
        "    Num_ENG_9th_grade + Num_Math_9th_grade + NumAdvanced_Math_9th_grade + C(retained_in_9_majority_vote)) +\n",
        "    (GPA_Science_8th_gradeQ + GPA_8th_gradeQ + GPA_SocSci_8th_gradeQ + GPA_Math_8th_gradeQ + exc_abs_8th_gradeQ +\n",
        "    GPA_ENG_8th_gradeQ +\n",
        "GPA_Science_9th_gradeQ + GPA_9th_gradeQ + GPA_SocSci_9th_gradeQ + GPA_Math_9th_gradeQ + exc_abs_9th_gradeQ +\n",
        "    GPA_ENG_9th_gradeQ) *\n",
        "    (C(school_code_8th_grade) + C(eds_8th_grade) + C(swd_8th_grade) + \n",
        "    C(lep_8th_grade) + C(sex_8th_grade) + C(ethnic_8th_grade) + C(CITY_8th_grade) + C(ZIP_8th_grade) +\n",
        "C(school_code_9th_grade) + C(eds_9th_grade) + C(swd_9th_grade) + C(lep_9th_grade) + C(sex_9th_grade) + \n",
        "    C(ethnic_9th_grade) + C(CITY_9th_grade) + C(ZIP_9th_grade)) + \n",
        "    (C(eds_8th_grade) + C(swd_8th_grade) + C(lep_8th_grade) + C(sex_8th_grade) +\n",
        "C(eds_9th_grade) + C(swd_9th_grade) + C(lep_9th_grade) + C(sex_8th_grade)) : \n",
        "    (C(ethnic_8th_grade) + C(CITY_8th_grade) + C(school_code_8th_grade) + C(ZIP_8th_grade) +\n",
        "C(ethnic_9th_grade) + C(CITY_9th_grade) + C(school_code_9th_grade) + C(ZIP_9th_grade))\n",
        "    \n",
        "Imputation type: imputeWithMedianOrMode\n",
        "Run #: 25"
       ]
      },
      {
       "output_type": "stream",
       "stream": "stdout",
       "text": [
        "\n",
        "Run #: 50"
       ]
      },
      {
       "output_type": "stream",
       "stream": "stdout",
       "text": [
        "\n",
        "Run #: 75"
       ]
      },
      {
       "output_type": "stream",
       "stream": "stdout",
       "text": [
        "\n",
        "Run #: 100"
       ]
      },
      {
       "output_type": "stream",
       "stream": "stdout",
       "text": [
        "\n",
        "Imputation type: imputeWithEmpDraws"
       ]
      },
      {
       "output_type": "stream",
       "stream": "stdout",
       "text": [
        "\n",
        "Run #: 25"
       ]
      },
      {
       "output_type": "stream",
       "stream": "stdout",
       "text": [
        "\n",
        "Run #: 50"
       ]
      },
      {
       "output_type": "stream",
       "stream": "stdout",
       "text": [
        "\n",
        "Run #: 75"
       ]
      },
      {
       "output_type": "stream",
       "stream": "stdout",
       "text": [
        "\n",
        "Run #: 100"
       ]
      },
      {
       "output_type": "stream",
       "stream": "stdout",
       "text": [
        "\n",
        "Imputation type: imputeWithNegOne"
       ]
      },
      {
       "output_type": "stream",
       "stream": "stdout",
       "text": [
        "\n",
        "Run #: 25"
       ]
      },
      {
       "output_type": "stream",
       "stream": "stdout",
       "text": [
        "\n",
        "Run #: 50"
       ]
      },
      {
       "output_type": "stream",
       "stream": "stdout",
       "text": [
        "\n",
        "Run #: 75"
       ]
      },
      {
       "output_type": "stream",
       "stream": "stdout",
       "text": [
        "\n",
        "Run #: 100"
       ]
      },
      {
       "output_type": "stream",
       "stream": "stdout",
       "text": [
        "\n"
       ]
      }
     ],
     "prompt_number": 101
    },
    {
     "cell_type": "code",
     "collapsed": false,
     "input": [
      "MRdf = pd.DataFrame(multiRunResults_svm9)"
     ],
     "language": "python",
     "metadata": {},
     "outputs": [],
     "prompt_number": 103
    },
    {
     "cell_type": "code",
     "collapsed": false,
     "input": [
      "MRdf2 = MRdf[24:]\n",
      "MRdf2"
     ],
     "language": "python",
     "metadata": {},
     "outputs": [
      {
       "html": [
        "<div style=\"max-height:1000px;max-width:1500px;overflow:auto;\">\n",
        "<table border=\"1\" class=\"dataframe\">\n",
        "  <thead>\n",
        "    <tr style=\"text-align: right;\">\n",
        "      <th></th>\n",
        "      <th>Prec_Top_100_mean</th>\n",
        "      <th>Prec_Top_100_std</th>\n",
        "      <th>Prec_Top_10perc_mean</th>\n",
        "      <th>Prec_Top_10perc_std</th>\n",
        "      <th>Prec_Top_200_mean</th>\n",
        "      <th>Prec_Top_200_std</th>\n",
        "      <th>Prec_Top_20perc_mean</th>\n",
        "      <th>Prec_Top_20perc_std</th>\n",
        "      <th>Prec_Top_30_mean</th>\n",
        "      <th>Prec_Top_30_std</th>\n",
        "      <th>...</th>\n",
        "      <th>num_runs</th>\n",
        "      <th>patsyf</th>\n",
        "      <th>patsyfstr</th>\n",
        "      <th>pr_auc_mean</th>\n",
        "      <th>pr_auc_std</th>\n",
        "      <th>pred_probas_mean</th>\n",
        "      <th>pred_probas_std</th>\n",
        "      <th>roc_auc_mean</th>\n",
        "      <th>roc_auc_std</th>\n",
        "      <th>timestamp</th>\n",
        "    </tr>\n",
        "  </thead>\n",
        "  <tbody>\n",
        "    <tr>\n",
        "      <th>24</th>\n",
        "      <td> 22.29</td>\n",
        "      <td> 1.327982</td>\n",
        "      <td> 22.8496</td>\n",
        "      <td> 0.896005</td>\n",
        "      <td> 22.215</td>\n",
        "      <td> 0.823441</td>\n",
        "      <td> 19.1694</td>\n",
        "      <td> 0.401580</td>\n",
        "      <td> 14.2317</td>\n",
        "      <td> 1.563706</td>\n",
        "      <td>...</td>\n",
        "      <td> 100</td>\n",
        "      <td> \\n    fail_to_finish_high_school_in_4_years ~ ...</td>\n",
        "      <td>                f_D</td>\n",
        "      <td> 0.159433</td>\n",
        "      <td> 0.001721</td>\n",
        "      <td> 0     0.071586\n",
        "1     0.227673\n",
        "2     0.013176\n",
        "3...</td>\n",
        "      <td> 0     0.007624\n",
        "1     0.017921\n",
        "2     0.005114\n",
        "3...</td>\n",
        "      <td> 0.630489</td>\n",
        "      <td> 0.002287</td>\n",
        "      <td>2014-12-21 18:05:42.034505</td>\n",
        "    </tr>\n",
        "    <tr>\n",
        "      <th>25</th>\n",
        "      <td> 22.36</td>\n",
        "      <td> 2.181279</td>\n",
        "      <td> 22.7589</td>\n",
        "      <td> 1.294215</td>\n",
        "      <td> 22.265</td>\n",
        "      <td> 1.360435</td>\n",
        "      <td> 19.4695</td>\n",
        "      <td> 0.632988</td>\n",
        "      <td> 21.4997</td>\n",
        "      <td> 4.220842</td>\n",
        "      <td>...</td>\n",
        "      <td> 100</td>\n",
        "      <td> \\n    fail_to_finish_high_school_in_4_years ~ ...</td>\n",
        "      <td>                f_D</td>\n",
        "      <td> 0.162326</td>\n",
        "      <td> 0.004135</td>\n",
        "      <td> 0     0.074792\n",
        "1     0.148800\n",
        "2     0.155084\n",
        "3...</td>\n",
        "      <td> 0     0.013961\n",
        "1     0.052917\n",
        "2     0.074175\n",
        "3...</td>\n",
        "      <td> 0.642956</td>\n",
        "      <td> 0.006116</td>\n",
        "      <td>2014-12-21 18:10:01.980225</td>\n",
        "    </tr>\n",
        "    <tr>\n",
        "      <th>26</th>\n",
        "      <td> 20.71</td>\n",
        "      <td> 1.451540</td>\n",
        "      <td> 20.2952</td>\n",
        "      <td> 0.811855</td>\n",
        "      <td> 19.735</td>\n",
        "      <td> 0.756971</td>\n",
        "      <td> 17.9912</td>\n",
        "      <td> 0.490063</td>\n",
        "      <td>  9.1675</td>\n",
        "      <td> 1.972895</td>\n",
        "      <td>...</td>\n",
        "      <td> 100</td>\n",
        "      <td> \\n    fail_to_finish_high_school_in_4_years ~ ...</td>\n",
        "      <td>                f_D</td>\n",
        "      <td> 0.151705</td>\n",
        "      <td> 0.001510</td>\n",
        "      <td> 0     0.061747\n",
        "1     0.278771\n",
        "2     0.035135\n",
        "3...</td>\n",
        "      <td> 0     0.006981\n",
        "1     0.018162\n",
        "2     0.007643\n",
        "3...</td>\n",
        "      <td> 0.628952</td>\n",
        "      <td> 0.002478</td>\n",
        "      <td>2014-12-21 18:12:39.469543</td>\n",
        "    </tr>\n",
        "    <tr>\n",
        "      <th>27</th>\n",
        "      <td> 50.41</td>\n",
        "      <td> 1.198442</td>\n",
        "      <td> 41.9693</td>\n",
        "      <td> 0.532507</td>\n",
        "      <td> 41.045</td>\n",
        "      <td> 0.678289</td>\n",
        "      <td> 28.4025</td>\n",
        "      <td> 0.343883</td>\n",
        "      <td> 72.1325</td>\n",
        "      <td> 2.823424</td>\n",
        "      <td>...</td>\n",
        "      <td> 100</td>\n",
        "      <td> \\n    fail_to_finish_high_school_in_4_years ~ ...</td>\n",
        "      <td>               f_TN</td>\n",
        "      <td> 0.400217</td>\n",
        "      <td> 0.005934</td>\n",
        "      <td> 0     0.03174\n",
        "1     0.04464\n",
        "2     0.21360\n",
        "3   ...</td>\n",
        "      <td> 0     0.008069\n",
        "1     0.009241\n",
        "2     0.018989\n",
        "3...</td>\n",
        "      <td> 0.803680</td>\n",
        "      <td> 0.002585</td>\n",
        "      <td>2014-12-21 18:20:47.367664</td>\n",
        "    </tr>\n",
        "    <tr>\n",
        "      <th>28</th>\n",
        "      <td> 51.65</td>\n",
        "      <td> 1.358661</td>\n",
        "      <td> 41.9361</td>\n",
        "      <td> 0.990276</td>\n",
        "      <td> 40.660</td>\n",
        "      <td> 0.961060</td>\n",
        "      <td> 28.5449</td>\n",
        "      <td> 0.551758</td>\n",
        "      <td> 70.1667</td>\n",
        "      <td> 3.225668</td>\n",
        "      <td>...</td>\n",
        "      <td> 100</td>\n",
        "      <td> \\n    fail_to_finish_high_school_in_4_years ~ ...</td>\n",
        "      <td>               f_TN</td>\n",
        "      <td> 0.398358</td>\n",
        "      <td> 0.008153</td>\n",
        "      <td> 0     0.02708\n",
        "1     0.08190\n",
        "2     0.20386\n",
        "3   ...</td>\n",
        "      <td> 0     0.011924\n",
        "1     0.066296\n",
        "2     0.072277\n",
        "3...</td>\n",
        "      <td> 0.806002</td>\n",
        "      <td> 0.004358</td>\n",
        "      <td>2014-12-21 18:24:54.709802</td>\n",
        "    </tr>\n",
        "    <tr>\n",
        "      <th>29</th>\n",
        "      <td> 49.05</td>\n",
        "      <td> 1.104399</td>\n",
        "      <td> 44.1243</td>\n",
        "      <td> 0.545570</td>\n",
        "      <td> 42.550</td>\n",
        "      <td> 0.510001</td>\n",
        "      <td> 29.0489</td>\n",
        "      <td> 0.312371</td>\n",
        "      <td> 67.2674</td>\n",
        "      <td> 2.857800</td>\n",
        "      <td>...</td>\n",
        "      <td> 100</td>\n",
        "      <td> \\n    fail_to_finish_high_school_in_4_years ~ ...</td>\n",
        "      <td>               f_TN</td>\n",
        "      <td> 0.394394</td>\n",
        "      <td> 0.006508</td>\n",
        "      <td> 0     0.01266\n",
        "1     0.03982\n",
        "2     0.15508\n",
        "3   ...</td>\n",
        "      <td> 0     0.004246\n",
        "1     0.009101\n",
        "2     0.015930\n",
        "3...</td>\n",
        "      <td> 0.813260</td>\n",
        "      <td> 0.002436</td>\n",
        "      <td>2014-12-21 18:26:55.799469</td>\n",
        "    </tr>\n",
        "    <tr>\n",
        "      <th>30</th>\n",
        "      <td> 52.95</td>\n",
        "      <td> 1.095215</td>\n",
        "      <td> 45.8605</td>\n",
        "      <td> 0.672740</td>\n",
        "      <td> 44.120</td>\n",
        "      <td> 0.603525</td>\n",
        "      <td> 29.0388</td>\n",
        "      <td> 0.426776</td>\n",
        "      <td> 69.3003</td>\n",
        "      <td> 3.187867</td>\n",
        "      <td>...</td>\n",
        "      <td> 100</td>\n",
        "      <td> \\n    fail_to_finish_high_school_in_4_years ~ ...</td>\n",
        "      <td>             f_TN_D</td>\n",
        "      <td> 0.428406</td>\n",
        "      <td> 0.005566</td>\n",
        "      <td> 0     0.01608\n",
        "1     0.12118\n",
        "2     0.12898\n",
        "3   ...</td>\n",
        "      <td> 0     0.005408\n",
        "1     0.016352\n",
        "2     0.015407\n",
        "3...</td>\n",
        "      <td> 0.815489</td>\n",
        "      <td> 0.003019</td>\n",
        "      <td>2014-12-21 18:36:09.682984</td>\n",
        "    </tr>\n",
        "    <tr>\n",
        "      <th>31</th>\n",
        "      <td> 53.74</td>\n",
        "      <td> 1.244138</td>\n",
        "      <td> 45.5802</td>\n",
        "      <td> 0.788921</td>\n",
        "      <td> 43.845</td>\n",
        "      <td> 0.842960</td>\n",
        "      <td> 29.7452</td>\n",
        "      <td> 0.530221</td>\n",
        "      <td> 69.7003</td>\n",
        "      <td> 3.938040</td>\n",
        "      <td>...</td>\n",
        "      <td> 100</td>\n",
        "      <td> \\n    fail_to_finish_high_school_in_4_years ~ ...</td>\n",
        "      <td>             f_TN_D</td>\n",
        "      <td> 0.433135</td>\n",
        "      <td> 0.005635</td>\n",
        "      <td> 0     0.01324\n",
        "1     0.10238\n",
        "2     0.15230\n",
        "3   ...</td>\n",
        "      <td> 0     0.005554\n",
        "1     0.046599\n",
        "2     0.044035\n",
        "3...</td>\n",
        "      <td> 0.818555</td>\n",
        "      <td> 0.003282</td>\n",
        "      <td>2014-12-21 18:41:20.146741</td>\n",
        "    </tr>\n",
        "    <tr>\n",
        "      <th>32</th>\n",
        "      <td> 53.91</td>\n",
        "      <td> 1.272038</td>\n",
        "      <td> 44.1729</td>\n",
        "      <td> 0.598880</td>\n",
        "      <td> 42.780</td>\n",
        "      <td> 0.604361</td>\n",
        "      <td> 29.8832</td>\n",
        "      <td> 0.283880</td>\n",
        "      <td> 70.5665</td>\n",
        "      <td> 3.731832</td>\n",
        "      <td>...</td>\n",
        "      <td> 100</td>\n",
        "      <td> \\n    fail_to_finish_high_school_in_4_years ~ ...</td>\n",
        "      <td>             f_TN_D</td>\n",
        "      <td> 0.431077</td>\n",
        "      <td> 0.005859</td>\n",
        "      <td> 0     0.01050\n",
        "1     0.11256\n",
        "2     0.15340\n",
        "3   ...</td>\n",
        "      <td> 0     0.004333\n",
        "1     0.013929\n",
        "2     0.014685\n",
        "3...</td>\n",
        "      <td> 0.819431</td>\n",
        "      <td> 0.002237</td>\n",
        "      <td>2014-12-21 18:44:45.669559</td>\n",
        "    </tr>\n",
        "    <tr>\n",
        "      <th>33</th>\n",
        "      <td> 59.15</td>\n",
        "      <td> 1.388081</td>\n",
        "      <td> 46.8699</td>\n",
        "      <td> 0.745523</td>\n",
        "      <td> 45.605</td>\n",
        "      <td> 0.644695</td>\n",
        "      <td> 30.2960</td>\n",
        "      <td> 0.255829</td>\n",
        "      <td> 82.0661</td>\n",
        "      <td> 2.949807</td>\n",
        "      <td>...</td>\n",
        "      <td> 100</td>\n",
        "      <td> \\n    fail_to_finish_high_school_in_4_years ~ ...</td>\n",
        "      <td>             f_AN_D</td>\n",
        "      <td> 0.481307</td>\n",
        "      <td> 0.004595</td>\n",
        "      <td> 0     0.00944\n",
        "1     0.09738\n",
        "2     0.17644\n",
        "3   ...</td>\n",
        "      <td> 0     0.004358\n",
        "1     0.014393\n",
        "2     0.018424\n",
        "3...</td>\n",
        "      <td> 0.817813</td>\n",
        "      <td> 0.002645</td>\n",
        "      <td>2014-12-21 18:54:09.057231</td>\n",
        "    </tr>\n",
        "    <tr>\n",
        "      <th>34</th>\n",
        "      <td> 60.40</td>\n",
        "      <td> 1.563472</td>\n",
        "      <td> 47.2626</td>\n",
        "      <td> 0.823368</td>\n",
        "      <td> 45.960</td>\n",
        "      <td> 0.821676</td>\n",
        "      <td> 30.2551</td>\n",
        "      <td> 0.388931</td>\n",
        "      <td> 83.2334</td>\n",
        "      <td> 3.653668</td>\n",
        "      <td>...</td>\n",
        "      <td> 100</td>\n",
        "      <td> \\n    fail_to_finish_high_school_in_4_years ~ ...</td>\n",
        "      <td>             f_AN_D</td>\n",
        "      <td> 0.485715</td>\n",
        "      <td> 0.005547</td>\n",
        "      <td> 0     0.00852\n",
        "1     0.07728\n",
        "2     0.20128\n",
        "3   ...</td>\n",
        "      <td> 0     0.004509\n",
        "1     0.039448\n",
        "2     0.032278\n",
        "3...</td>\n",
        "      <td> 0.822515</td>\n",
        "      <td> 0.002998</td>\n",
        "      <td>2014-12-21 18:59:43.050761</td>\n",
        "    </tr>\n",
        "    <tr>\n",
        "      <th>35</th>\n",
        "      <td> 59.06</td>\n",
        "      <td> 1.099311</td>\n",
        "      <td> 47.5099</td>\n",
        "      <td> 0.550409</td>\n",
        "      <td> 45.720</td>\n",
        "      <td> 0.514045</td>\n",
        "      <td> 30.6097</td>\n",
        "      <td> 0.303649</td>\n",
        "      <td> 78.0002</td>\n",
        "      <td> 4.075264</td>\n",
        "      <td>...</td>\n",
        "      <td> 100</td>\n",
        "      <td> \\n    fail_to_finish_high_school_in_4_years ~ ...</td>\n",
        "      <td>             f_AN_D</td>\n",
        "      <td> 0.471234</td>\n",
        "      <td> 0.006461</td>\n",
        "      <td> 0     0.00884\n",
        "1     0.14862\n",
        "2     0.17344\n",
        "3   ...</td>\n",
        "      <td> 0     0.004121\n",
        "1     0.014575\n",
        "2     0.017760\n",
        "3...</td>\n",
        "      <td> 0.823213</td>\n",
        "      <td> 0.002551</td>\n",
        "      <td>2014-12-21 19:03:31.283516</td>\n",
        "    </tr>\n",
        "    <tr>\n",
        "      <th>36</th>\n",
        "      <td> 59.86</td>\n",
        "      <td> 1.231079</td>\n",
        "      <td> 47.7949</td>\n",
        "      <td> 0.735812</td>\n",
        "      <td> 46.055</td>\n",
        "      <td> 0.639187</td>\n",
        "      <td> 30.1206</td>\n",
        "      <td> 0.383189</td>\n",
        "      <td> 78.7336</td>\n",
        "      <td> 2.949408</td>\n",
        "      <td>...</td>\n",
        "      <td> 100</td>\n",
        "      <td> \\n    fail_to_finish_high_school_in_4_years ~ ...</td>\n",
        "      <td>        f_AN_D_ANXD</td>\n",
        "      <td> 0.480489</td>\n",
        "      <td> 0.004696</td>\n",
        "      <td> 0     0.00668\n",
        "1     0.10666\n",
        "2     0.14026\n",
        "3   ...</td>\n",
        "      <td> 0     0.003632\n",
        "1     0.014672\n",
        "2     0.014756\n",
        "3...</td>\n",
        "      <td> 0.819901</td>\n",
        "      <td> 0.002551</td>\n",
        "      <td>2014-12-21 19:26:19.929109</td>\n",
        "    </tr>\n",
        "    <tr>\n",
        "      <th>37</th>\n",
        "      <td> 60.26</td>\n",
        "      <td> 1.573903</td>\n",
        "      <td> 48.0797</td>\n",
        "      <td> 1.016617</td>\n",
        "      <td> 46.210</td>\n",
        "      <td> 0.899439</td>\n",
        "      <td> 30.6943</td>\n",
        "      <td> 0.574668</td>\n",
        "      <td> 79.6001</td>\n",
        "      <td> 2.517743</td>\n",
        "      <td>...</td>\n",
        "      <td> 100</td>\n",
        "      <td> \\n    fail_to_finish_high_school_in_4_years ~ ...</td>\n",
        "      <td>        f_AN_D_ANXD</td>\n",
        "      <td> 0.488174</td>\n",
        "      <td> 0.006060</td>\n",
        "      <td> 0     0.00848\n",
        "1     0.08440\n",
        "2     0.14916\n",
        "3   ...</td>\n",
        "      <td> 0     0.004758\n",
        "1     0.034832\n",
        "2     0.041079\n",
        "3...</td>\n",
        "      <td> 0.824382</td>\n",
        "      <td> 0.003422</td>\n",
        "      <td>2014-12-21 19:43:29.305421</td>\n",
        "    </tr>\n",
        "    <tr>\n",
        "      <th>38</th>\n",
        "      <td> 56.68</td>\n",
        "      <td> 1.354976</td>\n",
        "      <td> 44.5163</td>\n",
        "      <td> 0.839990</td>\n",
        "      <td> 42.870</td>\n",
        "      <td> 0.892222</td>\n",
        "      <td> 30.7912</td>\n",
        "      <td> 0.393768</td>\n",
        "      <td> 67.2334</td>\n",
        "      <td> 4.077385</td>\n",
        "      <td>...</td>\n",
        "      <td> 100</td>\n",
        "      <td> \\n    fail_to_finish_high_school_in_4_years ~ ...</td>\n",
        "      <td>        f_AN_D_ANXD</td>\n",
        "      <td> 0.433744</td>\n",
        "      <td> 0.006961</td>\n",
        "      <td> 0     0.11736\n",
        "1     0.29566\n",
        "2     0.30894\n",
        "3   ...</td>\n",
        "      <td> 0     0.013724\n",
        "1     0.020329\n",
        "2     0.019782\n",
        "3...</td>\n",
        "      <td> 0.807194</td>\n",
        "      <td> 0.004995</td>\n",
        "      <td>2014-12-21 19:57:46.165391</td>\n",
        "    </tr>\n",
        "    <tr>\n",
        "      <th>39</th>\n",
        "      <td> 59.46</td>\n",
        "      <td> 1.104810</td>\n",
        "      <td> 47.9512</td>\n",
        "      <td> 0.691190</td>\n",
        "      <td> 46.130</td>\n",
        "      <td> 0.723418</td>\n",
        "      <td> 30.0181</td>\n",
        "      <td> 0.374235</td>\n",
        "      <td> 78.4337</td>\n",
        "      <td> 2.975289</td>\n",
        "      <td>...</td>\n",
        "      <td> 100</td>\n",
        "      <td> \\n    fail_to_finish_high_school_in_4_years ~ ...</td>\n",
        "      <td>  f_AN_D_ANXD_DbXDc</td>\n",
        "      <td> 0.476714</td>\n",
        "      <td> 0.004844</td>\n",
        "      <td> 0     0.00680\n",
        "1     0.11590\n",
        "2     0.14104\n",
        "3   ...</td>\n",
        "      <td> 0     0.003877\n",
        "1     0.012931\n",
        "2     0.015415\n",
        "3...</td>\n",
        "      <td> 0.819560</td>\n",
        "      <td> 0.002455</td>\n",
        "      <td>2014-12-21 20:21:11.595168</td>\n",
        "    </tr>\n",
        "    <tr>\n",
        "      <th>40</th>\n",
        "      <td> 60.06</td>\n",
        "      <td> 1.516375</td>\n",
        "      <td> 48.1390</td>\n",
        "      <td> 0.827698</td>\n",
        "      <td> 46.285</td>\n",
        "      <td> 0.856511</td>\n",
        "      <td> 30.4989</td>\n",
        "      <td> 0.459398</td>\n",
        "      <td> 79.9331</td>\n",
        "      <td> 3.176651</td>\n",
        "      <td>...</td>\n",
        "      <td> 100</td>\n",
        "      <td> \\n    fail_to_finish_high_school_in_4_years ~ ...</td>\n",
        "      <td>  f_AN_D_ANXD_DbXDc</td>\n",
        "      <td> 0.485841</td>\n",
        "      <td> 0.006122</td>\n",
        "      <td> 0     0.00806\n",
        "1     0.08944\n",
        "2     0.14992\n",
        "3   ...</td>\n",
        "      <td> 0     0.004094\n",
        "1     0.037544\n",
        "2     0.043614\n",
        "3...</td>\n",
        "      <td> 0.823211</td>\n",
        "      <td> 0.002939</td>\n",
        "      <td>2014-12-21 20:40:20.991234</td>\n",
        "    </tr>\n",
        "    <tr>\n",
        "      <th>41</th>\n",
        "      <td> 56.45</td>\n",
        "      <td> 1.402559</td>\n",
        "      <td> 44.7259</td>\n",
        "      <td> 0.838863</td>\n",
        "      <td> 43.145</td>\n",
        "      <td> 0.891302</td>\n",
        "      <td> 30.5980</td>\n",
        "      <td> 0.417496</td>\n",
        "      <td> 66.6998</td>\n",
        "      <td> 3.775968</td>\n",
        "      <td>...</td>\n",
        "      <td> 100</td>\n",
        "      <td> \\n    fail_to_finish_high_school_in_4_years ~ ...</td>\n",
        "      <td>  f_AN_D_ANXD_DbXDc</td>\n",
        "      <td> 0.433802</td>\n",
        "      <td> 0.006042</td>\n",
        "      <td> 0     0.11396\n",
        "1     0.29696\n",
        "2     0.30512\n",
        "3   ...</td>\n",
        "      <td> 0     0.014213\n",
        "1     0.022077\n",
        "2     0.020383\n",
        "3...</td>\n",
        "      <td> 0.807189</td>\n",
        "      <td> 0.004699</td>\n",
        "      <td>2014-12-21 20:57:03.451924</td>\n",
        "    </tr>\n",
        "    <tr>\n",
        "      <th>42</th>\n",
        "      <td> 58.38</td>\n",
        "      <td> 1.300971</td>\n",
        "      <td> 46.3492</td>\n",
        "      <td> 0.798315</td>\n",
        "      <td> 44.395</td>\n",
        "      <td> 0.700991</td>\n",
        "      <td> 28.9519</td>\n",
        "      <td> 0.318997</td>\n",
        "      <td> 76.6342</td>\n",
        "      <td> 2.901770</td>\n",
        "      <td>...</td>\n",
        "      <td> 100</td>\n",
        "      <td> \\n    fail_to_finish_high_school_in_4_years ~ ...</td>\n",
        "      <td>       f_AN_D_ANqXD</td>\n",
        "      <td> 0.428730</td>\n",
        "      <td> 0.005417</td>\n",
        "      <td> 0     0.02830\n",
        "1     0.12790\n",
        "2     0.07904\n",
        "3   ...</td>\n",
        "      <td> 0     0.007233\n",
        "1     0.015435\n",
        "2     0.012126\n",
        "3...</td>\n",
        "      <td> 0.809402</td>\n",
        "      <td> 0.002450</td>\n",
        "      <td>2014-12-21 21:14:55.871169</td>\n",
        "    </tr>\n",
        "    <tr>\n",
        "      <th>43</th>\n",
        "      <td> 59.91</td>\n",
        "      <td> 1.429099</td>\n",
        "      <td> 45.8496</td>\n",
        "      <td> 0.840972</td>\n",
        "      <td> 44.260</td>\n",
        "      <td> 0.842315</td>\n",
        "      <td> 29.5322</td>\n",
        "      <td> 0.507108</td>\n",
        "      <td> 75.0002</td>\n",
        "      <td> 3.561833</td>\n",
        "      <td>...</td>\n",
        "      <td> 100</td>\n",
        "      <td> \\n    fail_to_finish_high_school_in_4_years ~ ...</td>\n",
        "      <td>       f_AN_D_ANqXD</td>\n",
        "      <td> 0.435420</td>\n",
        "      <td> 0.006874</td>\n",
        "      <td> 0     0.02720\n",
        "1     0.11448\n",
        "2     0.13344\n",
        "3   ...</td>\n",
        "      <td> 0     0.007342\n",
        "1     0.037704\n",
        "2     0.030925\n",
        "3...</td>\n",
        "      <td> 0.815432</td>\n",
        "      <td> 0.003521</td>\n",
        "      <td>2014-12-21 21:30:02.463633</td>\n",
        "    </tr>\n",
        "    <tr>\n",
        "      <th>44</th>\n",
        "      <td> 55.08</td>\n",
        "      <td> 1.508762</td>\n",
        "      <td> 46.1290</td>\n",
        "      <td> 0.744230</td>\n",
        "      <td> 44.400</td>\n",
        "      <td> 0.651339</td>\n",
        "      <td> 28.5414</td>\n",
        "      <td> 0.294642</td>\n",
        "      <td> 52.7330</td>\n",
        "      <td> 3.461678</td>\n",
        "      <td>...</td>\n",
        "      <td> 100</td>\n",
        "      <td> \\n    fail_to_finish_high_school_in_4_years ~ ...</td>\n",
        "      <td>       f_AN_D_ANqXD</td>\n",
        "      <td> 0.379216</td>\n",
        "      <td> 0.005160</td>\n",
        "      <td> 0     0.01564\n",
        "1     0.19964\n",
        "2     0.13762\n",
        "3   ...</td>\n",
        "      <td> 0     0.005897\n",
        "1     0.016021\n",
        "2     0.014622\n",
        "3...</td>\n",
        "      <td> 0.814586</td>\n",
        "      <td> 0.001988</td>\n",
        "      <td>2014-12-21 21:45:42.575730</td>\n",
        "    </tr>\n",
        "    <tr>\n",
        "      <th>45</th>\n",
        "      <td> 60.55</td>\n",
        "      <td> 1.183856</td>\n",
        "      <td> 45.4728</td>\n",
        "      <td> 0.761613</td>\n",
        "      <td> 43.780</td>\n",
        "      <td> 0.704674</td>\n",
        "      <td> 29.0034</td>\n",
        "      <td> 0.376151</td>\n",
        "      <td> 69.9002</td>\n",
        "      <td> 3.463493</td>\n",
        "      <td>...</td>\n",
        "      <td> 100</td>\n",
        "      <td> \\n    fail_to_finish_high_school_in_4_years ~ ...</td>\n",
        "      <td> f_AN_D_ANqXD_DbXDc</td>\n",
        "      <td> 0.431392</td>\n",
        "      <td> 0.005907</td>\n",
        "      <td> 0     0.02632\n",
        "1     0.17926\n",
        "2     0.09382\n",
        "3   ...</td>\n",
        "      <td> 0     0.007196\n",
        "1     0.018121\n",
        "2     0.014420\n",
        "3...</td>\n",
        "      <td> 0.812960</td>\n",
        "      <td> 0.002326</td>\n",
        "      <td>2014-12-21 22:08:03.369630</td>\n",
        "    </tr>\n",
        "    <tr>\n",
        "      <th>46</th>\n",
        "      <td> 60.98</td>\n",
        "      <td> 1.786481</td>\n",
        "      <td> 45.6340</td>\n",
        "      <td> 1.017533</td>\n",
        "      <td> 43.845</td>\n",
        "      <td> 0.903682</td>\n",
        "      <td> 29.6133</td>\n",
        "      <td> 0.506986</td>\n",
        "      <td> 70.2669</td>\n",
        "      <td> 3.659971</td>\n",
        "      <td>...</td>\n",
        "      <td> 100</td>\n",
        "      <td> \\n    fail_to_finish_high_school_in_4_years ~ ...</td>\n",
        "      <td> f_AN_D_ANqXD_DbXDc</td>\n",
        "      <td> 0.435312</td>\n",
        "      <td> 0.007739</td>\n",
        "      <td> 0     0.02566\n",
        "1     0.14106\n",
        "2     0.14148\n",
        "3   ...</td>\n",
        "      <td> 0     0.007686\n",
        "1     0.042595\n",
        "2     0.036075\n",
        "3...</td>\n",
        "      <td> 0.818498</td>\n",
        "      <td> 0.003562</td>\n",
        "      <td>2014-12-21 22:26:13.418454</td>\n",
        "    </tr>\n",
        "    <tr>\n",
        "      <th>47</th>\n",
        "      <td> 54.40</td>\n",
        "      <td> 1.414214</td>\n",
        "      <td> 45.8602</td>\n",
        "      <td> 0.862719</td>\n",
        "      <td> 44.270</td>\n",
        "      <td> 0.679498</td>\n",
        "      <td> 28.4690</td>\n",
        "      <td> 0.324453</td>\n",
        "      <td> 54.5336</td>\n",
        "      <td> 4.034841</td>\n",
        "      <td>...</td>\n",
        "      <td> 100</td>\n",
        "      <td> \\n    fail_to_finish_high_school_in_4_years ~ ...</td>\n",
        "      <td> f_AN_D_ANqXD_DbXDc</td>\n",
        "      <td> 0.376544</td>\n",
        "      <td> 0.004745</td>\n",
        "      <td> 0     0.01340\n",
        "1     0.21686\n",
        "2     0.14942\n",
        "3   ...</td>\n",
        "      <td> 0     0.005703\n",
        "1     0.015897\n",
        "2     0.015943\n",
        "3...</td>\n",
        "      <td> 0.813172</td>\n",
        "      <td> 0.002184</td>\n",
        "      <td>2014-12-21 22:44:36.209535</td>\n",
        "    </tr>\n",
        "  </tbody>\n",
        "</table>\n",
        "<p>24 rows \u00d7 35 columns</p>\n",
        "</div>"
       ],
       "metadata": {},
       "output_type": "pyout",
       "prompt_number": 105,
       "text": [
        "    Prec_Top_100_mean  Prec_Top_100_std  Prec_Top_10perc_mean  \\\n",
        "24              22.29          1.327982               22.8496   \n",
        "25              22.36          2.181279               22.7589   \n",
        "26              20.71          1.451540               20.2952   \n",
        "27              50.41          1.198442               41.9693   \n",
        "28              51.65          1.358661               41.9361   \n",
        "29              49.05          1.104399               44.1243   \n",
        "30              52.95          1.095215               45.8605   \n",
        "31              53.74          1.244138               45.5802   \n",
        "32              53.91          1.272038               44.1729   \n",
        "33              59.15          1.388081               46.8699   \n",
        "34              60.40          1.563472               47.2626   \n",
        "35              59.06          1.099311               47.5099   \n",
        "36              59.86          1.231079               47.7949   \n",
        "37              60.26          1.573903               48.0797   \n",
        "38              56.68          1.354976               44.5163   \n",
        "39              59.46          1.104810               47.9512   \n",
        "40              60.06          1.516375               48.1390   \n",
        "41              56.45          1.402559               44.7259   \n",
        "42              58.38          1.300971               46.3492   \n",
        "43              59.91          1.429099               45.8496   \n",
        "44              55.08          1.508762               46.1290   \n",
        "45              60.55          1.183856               45.4728   \n",
        "46              60.98          1.786481               45.6340   \n",
        "47              54.40          1.414214               45.8602   \n",
        "\n",
        "    Prec_Top_10perc_std  Prec_Top_200_mean  Prec_Top_200_std  \\\n",
        "24             0.896005             22.215          0.823441   \n",
        "25             1.294215             22.265          1.360435   \n",
        "26             0.811855             19.735          0.756971   \n",
        "27             0.532507             41.045          0.678289   \n",
        "28             0.990276             40.660          0.961060   \n",
        "29             0.545570             42.550          0.510001   \n",
        "30             0.672740             44.120          0.603525   \n",
        "31             0.788921             43.845          0.842960   \n",
        "32             0.598880             42.780          0.604361   \n",
        "33             0.745523             45.605          0.644695   \n",
        "34             0.823368             45.960          0.821676   \n",
        "35             0.550409             45.720          0.514045   \n",
        "36             0.735812             46.055          0.639187   \n",
        "37             1.016617             46.210          0.899439   \n",
        "38             0.839990             42.870          0.892222   \n",
        "39             0.691190             46.130          0.723418   \n",
        "40             0.827698             46.285          0.856511   \n",
        "41             0.838863             43.145          0.891302   \n",
        "42             0.798315             44.395          0.700991   \n",
        "43             0.840972             44.260          0.842315   \n",
        "44             0.744230             44.400          0.651339   \n",
        "45             0.761613             43.780          0.704674   \n",
        "46             1.017533             43.845          0.903682   \n",
        "47             0.862719             44.270          0.679498   \n",
        "\n",
        "    Prec_Top_20perc_mean  Prec_Top_20perc_std  Prec_Top_30_mean  \\\n",
        "24               19.1694             0.401580           14.2317   \n",
        "25               19.4695             0.632988           21.4997   \n",
        "26               17.9912             0.490063            9.1675   \n",
        "27               28.4025             0.343883           72.1325   \n",
        "28               28.5449             0.551758           70.1667   \n",
        "29               29.0489             0.312371           67.2674   \n",
        "30               29.0388             0.426776           69.3003   \n",
        "31               29.7452             0.530221           69.7003   \n",
        "32               29.8832             0.283880           70.5665   \n",
        "33               30.2960             0.255829           82.0661   \n",
        "34               30.2551             0.388931           83.2334   \n",
        "35               30.6097             0.303649           78.0002   \n",
        "36               30.1206             0.383189           78.7336   \n",
        "37               30.6943             0.574668           79.6001   \n",
        "38               30.7912             0.393768           67.2334   \n",
        "39               30.0181             0.374235           78.4337   \n",
        "40               30.4989             0.459398           79.9331   \n",
        "41               30.5980             0.417496           66.6998   \n",
        "42               28.9519             0.318997           76.6342   \n",
        "43               29.5322             0.507108           75.0002   \n",
        "44               28.5414             0.294642           52.7330   \n",
        "45               29.0034             0.376151           69.9002   \n",
        "46               29.6133             0.506986           70.2669   \n",
        "47               28.4690             0.324453           54.5336   \n",
        "\n",
        "    Prec_Top_30_std            ...              num_runs  \\\n",
        "24         1.563706            ...                   100   \n",
        "25         4.220842            ...                   100   \n",
        "26         1.972895            ...                   100   \n",
        "27         2.823424            ...                   100   \n",
        "28         3.225668            ...                   100   \n",
        "29         2.857800            ...                   100   \n",
        "30         3.187867            ...                   100   \n",
        "31         3.938040            ...                   100   \n",
        "32         3.731832            ...                   100   \n",
        "33         2.949807            ...                   100   \n",
        "34         3.653668            ...                   100   \n",
        "35         4.075264            ...                   100   \n",
        "36         2.949408            ...                   100   \n",
        "37         2.517743            ...                   100   \n",
        "38         4.077385            ...                   100   \n",
        "39         2.975289            ...                   100   \n",
        "40         3.176651            ...                   100   \n",
        "41         3.775968            ...                   100   \n",
        "42         2.901770            ...                   100   \n",
        "43         3.561833            ...                   100   \n",
        "44         3.461678            ...                   100   \n",
        "45         3.463493            ...                   100   \n",
        "46         3.659971            ...                   100   \n",
        "47         4.034841            ...                   100   \n",
        "\n",
        "                                               patsyf           patsyfstr  \\\n",
        "24  \\n    fail_to_finish_high_school_in_4_years ~ ...                 f_D   \n",
        "25  \\n    fail_to_finish_high_school_in_4_years ~ ...                 f_D   \n",
        "26  \\n    fail_to_finish_high_school_in_4_years ~ ...                 f_D   \n",
        "27  \\n    fail_to_finish_high_school_in_4_years ~ ...                f_TN   \n",
        "28  \\n    fail_to_finish_high_school_in_4_years ~ ...                f_TN   \n",
        "29  \\n    fail_to_finish_high_school_in_4_years ~ ...                f_TN   \n",
        "30  \\n    fail_to_finish_high_school_in_4_years ~ ...              f_TN_D   \n",
        "31  \\n    fail_to_finish_high_school_in_4_years ~ ...              f_TN_D   \n",
        "32  \\n    fail_to_finish_high_school_in_4_years ~ ...              f_TN_D   \n",
        "33  \\n    fail_to_finish_high_school_in_4_years ~ ...              f_AN_D   \n",
        "34  \\n    fail_to_finish_high_school_in_4_years ~ ...              f_AN_D   \n",
        "35  \\n    fail_to_finish_high_school_in_4_years ~ ...              f_AN_D   \n",
        "36  \\n    fail_to_finish_high_school_in_4_years ~ ...         f_AN_D_ANXD   \n",
        "37  \\n    fail_to_finish_high_school_in_4_years ~ ...         f_AN_D_ANXD   \n",
        "38  \\n    fail_to_finish_high_school_in_4_years ~ ...         f_AN_D_ANXD   \n",
        "39  \\n    fail_to_finish_high_school_in_4_years ~ ...   f_AN_D_ANXD_DbXDc   \n",
        "40  \\n    fail_to_finish_high_school_in_4_years ~ ...   f_AN_D_ANXD_DbXDc   \n",
        "41  \\n    fail_to_finish_high_school_in_4_years ~ ...   f_AN_D_ANXD_DbXDc   \n",
        "42  \\n    fail_to_finish_high_school_in_4_years ~ ...        f_AN_D_ANqXD   \n",
        "43  \\n    fail_to_finish_high_school_in_4_years ~ ...        f_AN_D_ANqXD   \n",
        "44  \\n    fail_to_finish_high_school_in_4_years ~ ...        f_AN_D_ANqXD   \n",
        "45  \\n    fail_to_finish_high_school_in_4_years ~ ...  f_AN_D_ANqXD_DbXDc   \n",
        "46  \\n    fail_to_finish_high_school_in_4_years ~ ...  f_AN_D_ANqXD_DbXDc   \n",
        "47  \\n    fail_to_finish_high_school_in_4_years ~ ...  f_AN_D_ANqXD_DbXDc   \n",
        "\n",
        "    pr_auc_mean  pr_auc_std  \\\n",
        "24     0.159433    0.001721   \n",
        "25     0.162326    0.004135   \n",
        "26     0.151705    0.001510   \n",
        "27     0.400217    0.005934   \n",
        "28     0.398358    0.008153   \n",
        "29     0.394394    0.006508   \n",
        "30     0.428406    0.005566   \n",
        "31     0.433135    0.005635   \n",
        "32     0.431077    0.005859   \n",
        "33     0.481307    0.004595   \n",
        "34     0.485715    0.005547   \n",
        "35     0.471234    0.006461   \n",
        "36     0.480489    0.004696   \n",
        "37     0.488174    0.006060   \n",
        "38     0.433744    0.006961   \n",
        "39     0.476714    0.004844   \n",
        "40     0.485841    0.006122   \n",
        "41     0.433802    0.006042   \n",
        "42     0.428730    0.005417   \n",
        "43     0.435420    0.006874   \n",
        "44     0.379216    0.005160   \n",
        "45     0.431392    0.005907   \n",
        "46     0.435312    0.007739   \n",
        "47     0.376544    0.004745   \n",
        "\n",
        "                                     pred_probas_mean  \\\n",
        "24  0     0.071586\n",
        "1     0.227673\n",
        "2     0.013176\n",
        "3...   \n",
        "25  0     0.074792\n",
        "1     0.148800\n",
        "2     0.155084\n",
        "3...   \n",
        "26  0     0.061747\n",
        "1     0.278771\n",
        "2     0.035135\n",
        "3...   \n",
        "27  0     0.03174\n",
        "1     0.04464\n",
        "2     0.21360\n",
        "3   ...   \n",
        "28  0     0.02708\n",
        "1     0.08190\n",
        "2     0.20386\n",
        "3   ...   \n",
        "29  0     0.01266\n",
        "1     0.03982\n",
        "2     0.15508\n",
        "3   ...   \n",
        "30  0     0.01608\n",
        "1     0.12118\n",
        "2     0.12898\n",
        "3   ...   \n",
        "31  0     0.01324\n",
        "1     0.10238\n",
        "2     0.15230\n",
        "3   ...   \n",
        "32  0     0.01050\n",
        "1     0.11256\n",
        "2     0.15340\n",
        "3   ...   \n",
        "33  0     0.00944\n",
        "1     0.09738\n",
        "2     0.17644\n",
        "3   ...   \n",
        "34  0     0.00852\n",
        "1     0.07728\n",
        "2     0.20128\n",
        "3   ...   \n",
        "35  0     0.00884\n",
        "1     0.14862\n",
        "2     0.17344\n",
        "3   ...   \n",
        "36  0     0.00668\n",
        "1     0.10666\n",
        "2     0.14026\n",
        "3   ...   \n",
        "37  0     0.00848\n",
        "1     0.08440\n",
        "2     0.14916\n",
        "3   ...   \n",
        "38  0     0.11736\n",
        "1     0.29566\n",
        "2     0.30894\n",
        "3   ...   \n",
        "39  0     0.00680\n",
        "1     0.11590\n",
        "2     0.14104\n",
        "3   ...   \n",
        "40  0     0.00806\n",
        "1     0.08944\n",
        "2     0.14992\n",
        "3   ...   \n",
        "41  0     0.11396\n",
        "1     0.29696\n",
        "2     0.30512\n",
        "3   ...   \n",
        "42  0     0.02830\n",
        "1     0.12790\n",
        "2     0.07904\n",
        "3   ...   \n",
        "43  0     0.02720\n",
        "1     0.11448\n",
        "2     0.13344\n",
        "3   ...   \n",
        "44  0     0.01564\n",
        "1     0.19964\n",
        "2     0.13762\n",
        "3   ...   \n",
        "45  0     0.02632\n",
        "1     0.17926\n",
        "2     0.09382\n",
        "3   ...   \n",
        "46  0     0.02566\n",
        "1     0.14106\n",
        "2     0.14148\n",
        "3   ...   \n",
        "47  0     0.01340\n",
        "1     0.21686\n",
        "2     0.14942\n",
        "3   ...   \n",
        "\n",
        "                                      pred_probas_std  roc_auc_mean  \\\n",
        "24  0     0.007624\n",
        "1     0.017921\n",
        "2     0.005114\n",
        "3...      0.630489   \n",
        "25  0     0.013961\n",
        "1     0.052917\n",
        "2     0.074175\n",
        "3...      0.642956   \n",
        "26  0     0.006981\n",
        "1     0.018162\n",
        "2     0.007643\n",
        "3...      0.628952   \n",
        "27  0     0.008069\n",
        "1     0.009241\n",
        "2     0.018989\n",
        "3...      0.803680   \n",
        "28  0     0.011924\n",
        "1     0.066296\n",
        "2     0.072277\n",
        "3...      0.806002   \n",
        "29  0     0.004246\n",
        "1     0.009101\n",
        "2     0.015930\n",
        "3...      0.813260   \n",
        "30  0     0.005408\n",
        "1     0.016352\n",
        "2     0.015407\n",
        "3...      0.815489   \n",
        "31  0     0.005554\n",
        "1     0.046599\n",
        "2     0.044035\n",
        "3...      0.818555   \n",
        "32  0     0.004333\n",
        "1     0.013929\n",
        "2     0.014685\n",
        "3...      0.819431   \n",
        "33  0     0.004358\n",
        "1     0.014393\n",
        "2     0.018424\n",
        "3...      0.817813   \n",
        "34  0     0.004509\n",
        "1     0.039448\n",
        "2     0.032278\n",
        "3...      0.822515   \n",
        "35  0     0.004121\n",
        "1     0.014575\n",
        "2     0.017760\n",
        "3...      0.823213   \n",
        "36  0     0.003632\n",
        "1     0.014672\n",
        "2     0.014756\n",
        "3...      0.819901   \n",
        "37  0     0.004758\n",
        "1     0.034832\n",
        "2     0.041079\n",
        "3...      0.824382   \n",
        "38  0     0.013724\n",
        "1     0.020329\n",
        "2     0.019782\n",
        "3...      0.807194   \n",
        "39  0     0.003877\n",
        "1     0.012931\n",
        "2     0.015415\n",
        "3...      0.819560   \n",
        "40  0     0.004094\n",
        "1     0.037544\n",
        "2     0.043614\n",
        "3...      0.823211   \n",
        "41  0     0.014213\n",
        "1     0.022077\n",
        "2     0.020383\n",
        "3...      0.807189   \n",
        "42  0     0.007233\n",
        "1     0.015435\n",
        "2     0.012126\n",
        "3...      0.809402   \n",
        "43  0     0.007342\n",
        "1     0.037704\n",
        "2     0.030925\n",
        "3...      0.815432   \n",
        "44  0     0.005897\n",
        "1     0.016021\n",
        "2     0.014622\n",
        "3...      0.814586   \n",
        "45  0     0.007196\n",
        "1     0.018121\n",
        "2     0.014420\n",
        "3...      0.812960   \n",
        "46  0     0.007686\n",
        "1     0.042595\n",
        "2     0.036075\n",
        "3...      0.818498   \n",
        "47  0     0.005703\n",
        "1     0.015897\n",
        "2     0.015943\n",
        "3...      0.813172   \n",
        "\n",
        "   roc_auc_std                  timestamp  \n",
        "24    0.002287 2014-12-21 18:05:42.034505  \n",
        "25    0.006116 2014-12-21 18:10:01.980225  \n",
        "26    0.002478 2014-12-21 18:12:39.469543  \n",
        "27    0.002585 2014-12-21 18:20:47.367664  \n",
        "28    0.004358 2014-12-21 18:24:54.709802  \n",
        "29    0.002436 2014-12-21 18:26:55.799469  \n",
        "30    0.003019 2014-12-21 18:36:09.682984  \n",
        "31    0.003282 2014-12-21 18:41:20.146741  \n",
        "32    0.002237 2014-12-21 18:44:45.669559  \n",
        "33    0.002645 2014-12-21 18:54:09.057231  \n",
        "34    0.002998 2014-12-21 18:59:43.050761  \n",
        "35    0.002551 2014-12-21 19:03:31.283516  \n",
        "36    0.002551 2014-12-21 19:26:19.929109  \n",
        "37    0.003422 2014-12-21 19:43:29.305421  \n",
        "38    0.004995 2014-12-21 19:57:46.165391  \n",
        "39    0.002455 2014-12-21 20:21:11.595168  \n",
        "40    0.002939 2014-12-21 20:40:20.991234  \n",
        "41    0.004699 2014-12-21 20:57:03.451924  \n",
        "42    0.002450 2014-12-21 21:14:55.871169  \n",
        "43    0.003521 2014-12-21 21:30:02.463633  \n",
        "44    0.001988 2014-12-21 21:45:42.575730  \n",
        "45    0.002326 2014-12-21 22:08:03.369630  \n",
        "46    0.003562 2014-12-21 22:26:13.418454  \n",
        "47    0.002184 2014-12-21 22:44:36.209535  \n",
        "\n",
        "[24 rows x 35 columns]"
       ]
      }
     ],
     "prompt_number": 105
    },
    {
     "cell_type": "code",
     "collapsed": false,
     "input": [
      "fname = 'MRdfRF500_9.csv'\n",
      "MRdf2.to_csv('/Users/Nasir/Documents/DSaPP/Cabarrus County Public Schools/Results/' + fname)   "
     ],
     "language": "python",
     "metadata": {},
     "outputs": [],
     "prompt_number": 106
    },
    {
     "cell_type": "markdown",
     "metadata": {},
     "source": [
      "## Run pipeline in parts"
     ]
    },
    {
     "cell_type": "code",
     "collapsed": false,
     "input": [
      "imputed_training_data, imputed_testing_data = ppt.imputeWithNegOne(train_data, test_data, important_features, outcome_col)\n",
      "#Random Forest 100 trees, all originla data, no interactions\n",
      "clf = RandomForestClassifier(n_estimators=100, criterion='gini', random_state = 1)\n",
      "\n",
      "f = '''\n",
      "    fail_to_finish_high_school_in_4_years ~ GPA_Science_8th_grade + GPA_8th_grade + GPA_SocSci_8th_grade + \n",
      "    GPA_Math_8th_grade + C(school_code_8th_grade) + exc_abs_8th_grade + unexc_abs_8th_grade + GPA_ENG_8th_grade + \n",
      "    C(eds_8th_grade) + C(swd_8th_grade) + C(lep_8th_grade) + C(sex_8th_grade) + C(ethnic_8th_grade) + \n",
      "    C(CITY_8th_grade)\n",
      "    '''\n",
      "train_X, train_y, test_X, test_y, allFeatures = ppt.preprocessTrainAndTestWithPatsy(f, imputed_training_data, \n",
      "                                                                                    imputed_testing_data, \n",
      "                                                                                    printFeatureSelection=False, seed = 1)\n",
      "fitted_clf = clf.fit(train_X,train_y)\n",
      "R = dg.runDiagnostics(fitted_clf, test_X, test_y, allFeatures, '8th_-1_RF100_allData', do_get_feature_importances=True,\n",
      "                      doPlotPR = True, doPlotROC = True, doPrecisionAtTopX = True, printTopXResults = True)\n",
      "\n"
     ],
     "language": "python",
     "metadata": {},
     "outputs": [
      {
       "output_type": "stream",
       "stream": "stdout",
       "text": [
        "Feature Importances:\n",
        "----------\n",
        "1. GPA_8th_grade - 0.171\n",
        "2. GPA_SocSci_8th_grade - 0.120\n",
        "3. unexc_abs_8th_grade - 0.118\n",
        "4. GPA_ENG_8th_grade - 0.114\n",
        "5. GPA_Science_8th_grade - 0.106\n",
        "6. GPA_Math_8th_grade - 0.105\n",
        "7. exc_abs_8th_grade - 0.084\n",
        "8. C(eds_8th_grade)[T.Y] - 0.019\n",
        "9. C(swd_8th_grade)[T.Y] - 0.018\n",
        "10. C(school_code_8th_grade)[T.130317.0] - 0.018\n",
        "11. C(sex_8th_grade)[T.M] - 0.017\n",
        "12. C(CITY_8th_grade)[T.Concord] - 0.012\n",
        "13. C(school_code_8th_grade)[T.130315.0] - 0.011\n",
        "14. C(school_code_8th_grade)[T.130327.0] - 0.011\n",
        "15. C(school_code_8th_grade)[T.130320.0] - 0.010\n",
        "16. C(school_code_8th_grade)[T.130318.0] - 0.010\n",
        "17. C(school_code_8th_grade)[T.130323.0] - 0.008\n",
        "18. C(CITY_8th_grade)[T.Harrisburg] - 0.007\n",
        "19. C(CITY_8th_grade)[T.Kannapolis] - 0.007\n",
        "20. C(lep_8th_grade)[T.Y] - 0.007\n",
        "21. C(lep_8th_grade)[T.N] - 0.006\n",
        "22. C(CITY_8th_grade)[T.Midland] - 0.006\n",
        "23. C(school_code_8th_grade)[T.130334.0] - 0.006\n",
        "24. C(CITY_8th_grade)[T.Mount Pleasant] - 0.005\n",
        "25. C(CITY_8th_grade)[T.Rockwell] - 0.003\n",
        "26. C(CITY_8th_grade)[T.Huntersville] - 0.002\n",
        "27. C(lep_8th_grade)[T.U] - 0.001\n",
        "28. C(CITY_8th_grade)[T.Gold Hill] - 0.000\n",
        "29. C(CITY_8th_grade)[T.Davidson] - 0.000\n",
        "30. C(CITY_8th_grade)[T.Locust] - 0.000\n",
        "31. Intercept - 0.000\n"
       ]
      },
      {
       "metadata": {},
       "output_type": "display_data",
       "png": "[encoded data removed]",
       "text": [
        "<matplotlib.figure.Figure at 0x1024b6810>"
       ]
      },
      {
       "metadata": {},
       "output_type": "display_data",
       "png": "[encoded data removed]",
       "text": [
        "<matplotlib.figure.Figure at 0x10c22fd10>"
       ]
      },
      {
       "output_type": "stream",
       "stream": "stdout",
       "text": [
        "Precision at Top X Results for 8th_-1_RF100_allData ----------------\n",
        "      30  50 100   200\n",
        "0  73.33  66  62  47.5\n",
        "Precision at Top X% Results for 8th_-1_RF100_allData ----------------\n",
        "       5     10     20     30     50\n",
        "0  61.36  48.02  34.46  26.74  18.62\n"
       ]
      }
     ],
     "prompt_number": 9
    },
    {
     "cell_type": "markdown",
     "metadata": {},
     "source": [
      "## Matching probabilities with students"
     ]
    },
    {
     "cell_type": "code",
     "collapsed": false,
     "input": [
      "#Match predicted probability with student ID\n",
      "#mod_num is row in multiresults dataframe\n",
      "mod_num = 0\n",
      "test_data['probs'] = dfM1.pred_probas_mean[mod_num].values\n",
      "id_and_prob = pd.DataFrame(data = pd.concat([renamed_13.External_Student_ID, test_data.probs],axis = 1))\n",
      "#Plot distribution of predicted probabilities\n",
      "hist(id_and_prob.probs.dropna().values)"
     ],
     "language": "python",
     "metadata": {},
     "outputs": [
      {
       "metadata": {},
       "output_type": "pyout",
       "prompt_number": 138,
       "text": [
        "(array([ 1114.,   284.,   128.,    65.,    73.,    48.,    25.,    22.,\n",
        "           10.,     3.]),\n",
        " array([ 0.  ,  0.09,  0.18,  0.27,  0.36,  0.45,  0.54,  0.63,  0.72,\n",
        "         0.81,  0.9 ]),\n",
        " <a list of 10 Patch objects>)"
       ]
      },
      {
       "metadata": {},
       "output_type": "display_data",
       "png": "[encoded data removed]",
       "text": [
        "<matplotlib.figure.Figure at 0x10b14bf50>"
       ]
      }
     ],
     "prompt_number": 138
    },
    {
     "cell_type": "markdown",
     "metadata": {},
     "source": [
      "### Testing save and load df of results to csv\n",
      "* seems to work fine, though the true classifier object is not saved, rather a series with a string representing the function call"
     ]
    },
    {
     "cell_type": "code",
     "collapsed": false,
     "input": [
      "#Save DataFrame of multiRunResults to csv\n",
      "dfToSave.to_csv('/Users/Nasir/Documents/DSaPP/Cabarrus County Public Schools/Results/multiResult.csv')\n",
      "#Load csv of DataFrame\n",
      "df_in = pd.read_csv('/Users/Nasir/Documents/DSaPP/Cabarrus County Public Schools/Results/multiResult.csv')"
     ],
     "language": "python",
     "metadata": {},
     "outputs": [],
     "prompt_number": 17
    },
    {
     "cell_type": "markdown",
     "metadata": {},
     "source": [
      "### Testing save and load df of results as HDFStore"
     ]
    },
    {
     "cell_type": "code",
     "collapsed": false,
     "input": [
      "myStore = pd.HDFStore('/Users/Nasir/Documents/DSaPP/Cabarrus County Public Schools/Results/multiResult.h5')\n",
      "myStore.put('dfToSave',dfToSave)\n",
      "myStore.close()\n",
      "myStore\n",
      "store_in = pd.HDFStore('/Users/Nasir/Documents/DSaPP/Cabarrus County Public Schools/Results/multiResult.h5')\n",
      "df = store_in.select('dfToSave')\n",
      "store_in.close()"
     ],
     "language": "python",
     "metadata": {},
     "outputs": [],
     "prompt_number": 54
    }
   ],
   "metadata": {}
  }
 ]
}