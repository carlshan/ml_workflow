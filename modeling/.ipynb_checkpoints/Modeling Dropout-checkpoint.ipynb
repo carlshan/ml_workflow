{
 "metadata": {
  "name": "",
  "signature": "sha256:f73c8f68387abbea212d5fdaad6cea98db5ada7816777827535b6667db69d017"
 },
 "nbformat": 3,
 "nbformat_minor": 0,
 "worksheets": [
  {
   "cells": [
    {
     "cell_type": "code",
     "collapsed": false,
     "input": [
      "## Last modified: 10/15/2014 by Carl"
     ],
     "language": "python",
     "metadata": {},
     "outputs": [],
     "prompt_number": 1
    },
    {
     "cell_type": "code",
     "collapsed": false,
     "input": [
      "import pandas as pd\n",
      "import classification"
     ],
     "language": "python",
     "metadata": {},
     "outputs": [],
     "prompt_number": 2
    },
    {
     "cell_type": "code",
     "collapsed": false,
     "input": [
      "data_path = 's3://dsapp-edu-data/NC-Cabarrus/cleaned_data/'\n",
      "data_filename = 'master_10_14_2014.csv'"
     ],
     "language": "python",
     "metadata": {},
     "outputs": [],
     "prompt_number": 3
    },
    {
     "cell_type": "code",
     "collapsed": false,
     "input": [
      "data = pd.read_csv(data_path+data_filename)\n",
      "# The error below comes from parsing columns that have multiple data types\n",
      "# pandas automatically tries to find the \"right\" data type for that column\n",
      "# however, it needs to load the entire column into memory to do so if \n",
      "# there are multiple data types.\n",
      "# Otherwise, I believe it just smartly guesses what data type the column\n",
      "# should be.\n",
      "# So, all in all, I don't think the error is a big deal."
     ],
     "language": "python",
     "metadata": {},
     "outputs": [
      {
       "output_type": "stream",
       "stream": "stderr",
       "text": [
        "//anaconda/lib/python2.7/site-packages/pandas/io/parsers.py:1139: DtypeWarning: Columns (194,195,196) have mixed types. Specify dtype option on import or set low_memory=False.\n",
        "  data = self._reader.read(nrows)\n"
       ]
      }
     ],
     "prompt_number": 5
    },
    {
     "cell_type": "code",
     "collapsed": false,
     "input": [
      "data.shape"
     ],
     "language": "python",
     "metadata": {},
     "outputs": [
      {
       "metadata": {},
       "output_type": "pyout",
       "prompt_number": 6,
       "text": [
        "(28604, 245)"
       ]
      }
     ],
     "prompt_number": 6
    },
    {
     "cell_type": "code",
     "collapsed": false,
     "input": [
      "dropout_data = pd.read_csv(data_path + 'Dropout_Data_0708_1213_20141001_clean_2014_10_1.txt')"
     ],
     "language": "python",
     "metadata": {},
     "outputs": [],
     "prompt_number": 7
    },
    {
     "cell_type": "code",
     "collapsed": false,
     "input": [
      "dropout_data.shape"
     ],
     "language": "python",
     "metadata": {},
     "outputs": [
      {
       "metadata": {},
       "output_type": "pyout",
       "prompt_number": 8,
       "text": [
        "(1943, 10)"
       ]
      }
     ],
     "prompt_number": 8
    },
    {
     "cell_type": "code",
     "collapsed": false,
     "input": [
      "dropout_data.head()"
     ],
     "language": "python",
     "metadata": {},
     "outputs": [
      {
       "html": [
        "<div style=\"max-height:1000px;max-width:1500px;overflow:auto;\">\n",
        "<table border=\"1\" class=\"dataframe\">\n",
        "  <thead>\n",
        "    <tr style=\"text-align: right;\">\n",
        "      <th></th>\n",
        "      <th>School</th>\n",
        "      <th>SchoolName</th>\n",
        "      <th>External_Student_ID</th>\n",
        "      <th>DO_year</th>\n",
        "      <th>Grade</th>\n",
        "      <th>Age</th>\n",
        "      <th>Gender</th>\n",
        "      <th>Ethnicity</th>\n",
        "      <th>Wcode</th>\n",
        "      <th>Reason</th>\n",
        "    </tr>\n",
        "  </thead>\n",
        "  <tbody>\n",
        "    <tr>\n",
        "      <th>0</th>\n",
        "      <td> 130317</td>\n",
        "      <td> Cabarrus Co Opportunity School</td>\n",
        "      <td>  1002</td>\n",
        "      <td> 2012/13</td>\n",
        "      <td>  9</td>\n",
        "      <td> 17</td>\n",
        "      <td> M</td>\n",
        "      <td> HISP</td>\n",
        "      <td> W2</td>\n",
        "      <td> LTSU</td>\n",
        "    </tr>\n",
        "    <tr>\n",
        "      <th>1</th>\n",
        "      <td> 130316</td>\n",
        "      <td>            Jay M Robinson High</td>\n",
        "      <td> 60833</td>\n",
        "      <td> 2006/07</td>\n",
        "      <td> 12</td>\n",
        "      <td> 19</td>\n",
        "      <td> M</td>\n",
        "      <td> WHTE</td>\n",
        "      <td> W2</td>\n",
        "      <td> ATTD</td>\n",
        "    </tr>\n",
        "    <tr>\n",
        "      <th>2</th>\n",
        "      <td> 130310</td>\n",
        "      <td>          Central Cabarrus High</td>\n",
        "      <td>  1012</td>\n",
        "      <td> 2007/08</td>\n",
        "      <td> 10</td>\n",
        "      <td> 16</td>\n",
        "      <td> F</td>\n",
        "      <td> WHTE</td>\n",
        "      <td> W2</td>\n",
        "      <td> RNAW</td>\n",
        "    </tr>\n",
        "    <tr>\n",
        "      <th>3</th>\n",
        "      <td> 130310</td>\n",
        "      <td>          Central Cabarrus High</td>\n",
        "      <td>  1012</td>\n",
        "      <td> 2008/09</td>\n",
        "      <td> 10</td>\n",
        "      <td> 16</td>\n",
        "      <td> F</td>\n",
        "      <td> WHTE</td>\n",
        "      <td> W2</td>\n",
        "      <td> INCR</td>\n",
        "    </tr>\n",
        "    <tr>\n",
        "      <th>4</th>\n",
        "      <td> 130324</td>\n",
        "      <td>            Mount Pleasant High</td>\n",
        "      <td>  1013</td>\n",
        "      <td> 2008/09</td>\n",
        "      <td>  9</td>\n",
        "      <td> 16</td>\n",
        "      <td> F</td>\n",
        "      <td> WHTE</td>\n",
        "      <td> W2</td>\n",
        "      <td> ATTD</td>\n",
        "    </tr>\n",
        "  </tbody>\n",
        "</table>\n",
        "</div>"
       ],
       "metadata": {},
       "output_type": "pyout",
       "prompt_number": 9,
       "text": [
        "   School                      SchoolName  External_Student_ID  DO_year  \\\n",
        "0  130317  Cabarrus Co Opportunity School                 1002  2012/13   \n",
        "1  130316             Jay M Robinson High                60833  2006/07   \n",
        "2  130310           Central Cabarrus High                 1012  2007/08   \n",
        "3  130310           Central Cabarrus High                 1012  2008/09   \n",
        "4  130324             Mount Pleasant High                 1013  2008/09   \n",
        "\n",
        "   Grade  Age Gender Ethnicity Wcode Reason  \n",
        "0      9   17      M      HISP    W2   LTSU  \n",
        "1     12   19      M      WHTE    W2   ATTD  \n",
        "2     10   16      F      WHTE    W2   RNAW  \n",
        "3     10   16      F      WHTE    W2   INCR  \n",
        "4      9   16      F      WHTE    W2   ATTD  "
       ]
      }
     ],
     "prompt_number": 9
    },
    {
     "cell_type": "code",
     "collapsed": false,
     "input": [
      "cohort_graduating_years = [\n",
      "                            2014,\n",
      "                            2013,\n",
      "                            2012,\n",
      "#                             2011,\n",
      "                          ]"
     ],
     "language": "python",
     "metadata": {},
     "outputs": [],
     "prompt_number": 149
    },
    {
     "cell_type": "code",
     "collapsed": false,
     "input": [
      "exclude_grades = [8]\n",
      "exclude_student_ids = dropout_data[dropout_data['Grade'].isin(exclude_grades)]['External_Student_ID'].values"
     ],
     "language": "python",
     "metadata": {},
     "outputs": [],
     "prompt_number": 158
    },
    {
     "cell_type": "code",
     "collapsed": false,
     "input": [
      "cohort_data = data[(data['expected_graduation_year_majority_vote']\n",
      "                   .isin(cohort_graduating_years)) &\n",
      "                   (~data['External_Student_ID'].isin(exclude_student_ids))]"
     ],
     "language": "python",
     "metadata": {},
     "outputs": [],
     "prompt_number": 159
    },
    {
     "cell_type": "code",
     "collapsed": false,
     "input": [
      "cohort_data.shape"
     ],
     "language": "python",
     "metadata": {},
     "outputs": [
      {
       "metadata": {},
       "output_type": "pyout",
       "prompt_number": 160,
       "text": [
        "(8686, 245)"
       ]
      }
     ],
     "prompt_number": 160
    },
    {
     "cell_type": "code",
     "collapsed": false,
     "input": [
      "cohort_data['dropout_outcome'].value_counts(normalize=True)"
     ],
     "language": "python",
     "metadata": {},
     "outputs": [
      {
       "metadata": {},
       "output_type": "pyout",
       "prompt_number": 161,
       "text": [
        "0    0.938061\n",
        "1    0.061939\n",
        "dtype: float64"
       ]
      }
     ],
     "prompt_number": 161
    },
    {
     "cell_type": "code",
     "collapsed": false,
     "input": [
      "outcome_col = 'dropout_outcome'\n",
      "feature_cols = [\n",
      "#                  'External_Student_ID',\n",
      "#                  'earliest_reporting_year',\n",
      "#                  'earliest_recorded_grade',\n",
      "#                  'expected_graduating_year',\n",
      "#                  'retained',\n",
      "#                  'grades_retained',\n",
      "#                  'retained_in_8',\n",
      "#                  'retained_in_9',\n",
      "#                  'retained_in_10',\n",
      "#                  'retained_in_11',\n",
      "#                  'retained_in_12',\n",
      "#                  'completed_grade_12_in_cabarrus',\n",
      "                 'earliest_reporting_year_majority_vote',\n",
      "                 'earliest_recorded_grade_majority_vote',\n",
      "#                  'expected_graduation_year_majority_vote',\n",
      "                 'retained_majority_vote',\n",
      "#                  'grades_retained_majority_vote',\n",
      "                 'Num_Marks_2008',\n",
      "                 'Num_ENG_2008',\n",
      "                 'Num_Math_2008',\n",
      "                 'Num_Science_2008',\n",
      "                 'Num_SocSci_2008',\n",
      "                 'GPA_2008',\n",
      "                 'GPA_ENG_2008',\n",
      "                 'GPA_Math_2008',\n",
      "                 'GPA_Science_2008',\n",
      "                 'GPA_SocSci_2008',\n",
      "                 'NumAdvanced_2008',\n",
      "                 'NumAdvanced_ENG_2008',\n",
      "                 'NumAdvanced_Math_2008',\n",
      "                 'NumAdvanced_Science_2008',\n",
      "                 'NumAdvanced_SocSci_2008',\n",
      "                 'Num_Marks_2009',\n",
      "                 'Num_ENG_2009',\n",
      "                 'Num_Math_2009',\n",
      "                 'Num_Science_2009',\n",
      "                 'Num_SocSci_2009',\n",
      "                 'GPA_2009',\n",
      "                 'GPA_ENG_2009',\n",
      "                 'GPA_Math_2009',\n",
      "                 'GPA_Science_2009',\n",
      "                 'GPA_SocSci_2009',\n",
      "                 'NumAdvanced_2009',\n",
      "                 'NumAdvanced_ENG_2009',\n",
      "                 'NumAdvanced_Math_2009',\n",
      "                 'NumAdvanced_Science_2009',\n",
      "                 'NumAdvanced_SocSci_2009',\n",
      "#                  'Num_Marks_2010',\n",
      "#                  'Num_ENG_2010',\n",
      "#                  'Num_Math_2010',\n",
      "#                  'Num_Science_2010',\n",
      "#                  'Num_SocSci_2010',\n",
      "#                  'GPA_2010',\n",
      "#                  'GPA_ENG_2010',\n",
      "#                  'GPA_Math_2010',\n",
      "#                  'GPA_Science_2010',\n",
      "#                  'GPA_SocSci_2010',\n",
      "#                  'NumAdvanced_2010',\n",
      "#                  'NumAdvanced_ENG_2010',\n",
      "#                  'NumAdvanced_Math_2010',\n",
      "#                  'NumAdvanced_Science_2010',\n",
      "#                  'NumAdvanced_SocSci_2010',\n",
      "#                  'Num_Marks_2011',\n",
      "#                  'Num_ENG_2011',\n",
      "#                  'Num_Math_2011',\n",
      "#                  'Num_Science_2011',\n",
      "#                  'Num_SocSci_2011',\n",
      "#                  'GPA_2011',\n",
      "#                  'GPA_ENG_2011',\n",
      "#                  'GPA_Math_2011',\n",
      "#                  'GPA_Science_2011',\n",
      "#                  'GPA_SocSci_2011',\n",
      "#                  'NumAdvanced_2011',\n",
      "#                  'NumAdvanced_ENG_2011',\n",
      "#                  'NumAdvanced_Math_2011',\n",
      "#                  'NumAdvanced_Science_2011',\n",
      "#                  'NumAdvanced_SocSci_2011',\n",
      "#                  'Num_Marks_2012',\n",
      "#                  'Num_ENG_2012',\n",
      "#                  'Num_Math_2012',\n",
      "#                  'Num_Science_2012',\n",
      "#                  'Num_SocSci_2012',\n",
      "#                  'GPA_2012',\n",
      "#                  'GPA_ENG_2012',\n",
      "#                  'GPA_Math_2012',\n",
      "#                  'GPA_Science_2012',\n",
      "#                  'GPA_SocSci_2012',\n",
      "#                  'NumAdvanced_2012',\n",
      "#                  'NumAdvanced_ENG_2012',\n",
      "#                  'NumAdvanced_Math_2012',\n",
      "#                  'NumAdvanced_Science_2012',\n",
      "#                  'NumAdvanced_SocSci_2012',\n",
      "#                  'Num_Marks_2013',\n",
      "#                  'Num_ENG_2013',\n",
      "#                  'Num_Math_2013',\n",
      "#                  'Num_Science_2013',\n",
      "#                  'Num_SocSci_2013',\n",
      "#                  'GPA_2013',\n",
      "#                  'GPA_ENG_2013',\n",
      "#                  'GPA_Math_2013',\n",
      "#                  'GPA_Science_2013',\n",
      "#                  'GPA_SocSci_2013',\n",
      "#                  'NumAdvanced_2013',\n",
      "#                  'NumAdvanced_ENG_2013',\n",
      "#                  'NumAdvanced_Math_2013',\n",
      "#                  'NumAdvanced_Science_2013',\n",
      "#                  'NumAdvanced_SocSci_2013',\n",
      "#                  'Num_Marks_2014',\n",
      "#                  'Num_ENG_2014',\n",
      "#                  'Num_Math_2014',\n",
      "#                  'Num_Science_2014',\n",
      "#                  'Num_SocSci_2014',\n",
      "#                  'GPA_2014',\n",
      "#                  'GPA_ENG_2014',\n",
      "#                  'GPA_Math_2014',\n",
      "#                  'GPA_Science_2014',\n",
      "#                  'GPA_SocSci_2014',\n",
      "#                  'NumAdvanced_2014',\n",
      "#                  'NumAdvanced_ENG_2014',\n",
      "#                  'NumAdvanced_Math_2014',\n",
      "#                  'NumAdvanced_Science_2014',\n",
      "#                  'NumAdvanced_SocSci_2014',\n",
      "                 'ethnic_2008',\n",
      "                 'sex_2008',\n",
      "                 'swd_2008',\n",
      "                 'eds_2008',\n",
      "                 'lep_2008',\n",
      "                 'reporting_year_2008',\n",
      "                 'school_code_2008',\n",
      "                 'grade_2008',\n",
      "                 'daysabs_2008',\n",
      "                 'exc_abs_2008',\n",
      "                 'unexc_abs_2008',\n",
      "                 'times_tardy_2008',\n",
      "                 'ethnic_2009',\n",
      "                 'sex_2009',\n",
      "                 'swd_2009',\n",
      "                 'eds_2009',\n",
      "                 'lep_2009',\n",
      "                 'reporting_year_2009',\n",
      "                 'school_code_2009',\n",
      "                 'grade_2009',\n",
      "                 'daysabs_2009',\n",
      "                 'exc_abs_2009',\n",
      "                 'unexc_abs_2009',\n",
      "                 'times_tardy_2009',\n",
      "#                  'ethnic_2010',\n",
      "#                  'sex_2010',\n",
      "#                  'swd_2010',\n",
      "#                  'eds_2010',\n",
      "#                  'lep_2010',\n",
      "#                  'reporting_year_2010',\n",
      "#                  'school_code_2010',\n",
      "#                  'grade_2010',\n",
      "#                  'daysabs_2010',\n",
      "#                  'exc_abs_2010',\n",
      "#                  'unexc_abs_2010',\n",
      "#                  'times_tardy_2010',\n",
      "#                  'ethnic_2011',\n",
      "#                  'sex_2011',\n",
      "#                  'swd_2011',\n",
      "#                  'eds_2011',\n",
      "#                  'lep_2011',\n",
      "#                  'reporting_year_2011',\n",
      "#                  'school_code_2011',\n",
      "#                  'grade_2011',\n",
      "#                  'daysabs_2011',\n",
      "#                  'exc_abs_2011',\n",
      "#                  'unexc_abs_2011',\n",
      "#                  'times_tardy_2011',\n",
      "#                  'ethnic_2012',\n",
      "#                  'sex_2012',\n",
      "#                  'swd_2012',\n",
      "#                  'eds_2012',\n",
      "#                  'lep_2012',\n",
      "#                  'reporting_year_2012',\n",
      "#                  'school_code_2012',\n",
      "#                  'grade_2012',\n",
      "#                  'daysabs_2012',\n",
      "#                  'exc_abs_2012',\n",
      "#                  'unexc_abs_2012',\n",
      "#                  'times_tardy_2012',\n",
      "#                  'ethnic_2013',\n",
      "#                  'sex_2013',\n",
      "#                  'swd_2013',\n",
      "#                  'eds_2013',\n",
      "#                  'lep_2013',\n",
      "#                  'reporting_year_2013',\n",
      "#                  'school_code_2013',\n",
      "#                  'grade_2013',\n",
      "#                  'daysabs_2013',\n",
      "#                  'exc_abs_2013',\n",
      "#                  'unexc_abs_2013',\n",
      "#                  'times_tardy_2013',\n",
      "                 'Street_2008',\n",
      "                 'CITY_2008',\n",
      "                 'STATE_2008',\n",
      "                 'ZIP_2008',\n",
      "                 'Grade_2008',\n",
      "                 'Street_2009',\n",
      "                 'CITY_2009',\n",
      "                 'STATE_2009',\n",
      "                 'ZIP_2009',\n",
      "                 'Grade_2009',\n",
      "#                  'Street_2010',\n",
      "#                  'CITY_2010',\n",
      "#                  'STATE_2010',\n",
      "#                  'ZIP_2010',\n",
      "#                  'Grade_2010',\n",
      "#                  'Street_2011',\n",
      "#                  'CITY_2011',\n",
      "#                  'STATE_2011',\n",
      "#                  'ZIP_2011',\n",
      "#                  'Grade_2011',\n",
      "#                  'Street_2012',\n",
      "#                  'CITY_2012',\n",
      "#                  'STATE_2012',\n",
      "#                  'ZIP_2012',\n",
      "#                  'Grade_2012',\n",
      "#                  'Street_2013',\n",
      "#                  'CITY_2013',\n",
      "#                  'STATE_2013',\n",
      "#                  'ZIP_2013',\n",
      "#                  'Grade_2013',\n",
      "#                  'Street_2014',\n",
      "#                  'CITY_2014',\n",
      "#                  'STATE_2014',\n",
      "#                  'ZIP_2014',\n",
      "#                  'Grade_2014',\n",
      "                 'dropout_outcome',\n",
      "#                  'School_dropout',\n",
      "#                  'SchoolName_dropout',\n",
      "#                  'External_Student_ID_dropout',\n",
      "#                  'DO_year_dropout',\n",
      "#                  'Grade_dropout',\n",
      "#                  'Age_dropout',\n",
      "#                  'Gender_dropout',\n",
      "#                  'Ethnicity_dropout',\n",
      "#                  'Wcode_dropout',\n",
      "#                  'Reason_dropout',\n",
      "                 'retained_in_8_majority_vote',\n",
      "                 'retained_in_9_majority_vote',\n",
      "#                  'retained_in_10_majority_vote',\n",
      "#                  'retained_in_11_majority_vote',\n",
      "#                  'retained_in_12_majority_vote',\n",
      "                ]"
     ],
     "language": "python",
     "metadata": {},
     "outputs": [],
     "prompt_number": 141
    },
    {
     "cell_type": "code",
     "collapsed": false,
     "input": [
      "cohort_data.fillna(-1, inplace=True)"
     ],
     "language": "python",
     "metadata": {},
     "outputs": [],
     "prompt_number": 142
    },
    {
     "cell_type": "code",
     "collapsed": false,
     "input": [
      "model = classification.Model(cohort_data[feature_cols],\n",
      "                     outcome_col)"
     ],
     "language": "python",
     "metadata": {},
     "outputs": [
      {
       "output_type": "stream",
       "stream": "stdout",
       "text": [
        "Performing Feature Selection:\n",
        "Shape of dataset before feature selection: (2782, 69)\n",
        "Shape of dataset after feature selection: (2782, 20)\n",
        "\n"
       ]
      }
     ],
     "prompt_number": 143
    },
    {
     "cell_type": "code",
     "collapsed": false,
     "input": [
      "cohort_data['dropout_outcome'].value_counts(normalize=True)"
     ],
     "language": "python",
     "metadata": {},
     "outputs": [
      {
       "metadata": {},
       "output_type": "pyout",
       "prompt_number": 144,
       "text": [
        "0    0.949676\n",
        "1    0.050324\n",
        "dtype: float64"
       ]
      }
     ],
     "prompt_number": 144
    },
    {
     "cell_type": "code",
     "collapsed": false,
     "input": [
      "model.runClassification('topk', topK=0.015, models=['RF', 'LR'])"
     ],
     "language": "python",
     "metadata": {},
     "outputs": [
      {
       "output_type": "stream",
       "stream": "stdout",
       "text": [
        "RF Precision at top 1.5%\n",
        "0.341463414634\n",
        "\n",
        "\n",
        "LR Precision at top 1.5%"
       ]
      },
      {
       "output_type": "stream",
       "stream": "stdout",
       "text": [
        "\n",
        "0.268292682927\n",
        "\n",
        "\n"
       ]
      }
     ],
     "prompt_number": 148
    },
    {
     "cell_type": "code",
     "collapsed": false,
     "input": [
      "model.runClassification('prc', models=['RF', 'LR'])"
     ],
     "language": "python",
     "metadata": {},
     "outputs": [
      {
       "metadata": {},
       "output_type": "display_data",
       "png": "[encoded data removed]",
       "text": [
        "<matplotlib.figure.Figure at 0x10940fc90>"
       ]
      },
      {
       "metadata": {},
       "output_type": "display_data",
       "png": "[encoded data removed]",
       "text": [
        "<matplotlib.figure.Figure at 0x1097c0250>"
       ]
      }
     ],
     "prompt_number": 146
    },
    {
     "cell_type": "code",
     "collapsed": false,
     "input": [
      "model.runClassification('roc', models=['RF', 'LR'])"
     ],
     "language": "python",
     "metadata": {},
     "outputs": [
      {
       "metadata": {},
       "output_type": "display_data",
       "png": "[encoded data removed]",
       "text": [
        "<matplotlib.figure.Figure at 0x105a1d050>"
       ]
      },
      {
       "metadata": {},
       "output_type": "display_data",
       "png": "[encoded data removed]",
       "text": [
        "<matplotlib.figure.Figure at 0x1097c02d0>"
       ]
      }
     ],
     "prompt_number": 147
    },
    {
     "cell_type": "code",
     "collapsed": false,
     "input": [
      "## Combining 3 Cohorts"
     ],
     "language": "python",
     "metadata": {},
     "outputs": [],
     "prompt_number": 162
    },
    {
     "cell_type": "code",
     "collapsed": false,
     "input": [
      "cohort_graduating_years = [\n",
      "                            2012,\n",
      "                            2013,\n",
      "                            2014,\n",
      "                          ]"
     ],
     "language": "python",
     "metadata": {},
     "outputs": [],
     "prompt_number": 163
    },
    {
     "cell_type": "code",
     "collapsed": false,
     "input": [
      "def make_dict(column_name, year):\n",
      "    \"\"\"\n",
      "    Returns dictionary to rename columns respective to each graduating year\n",
      "    e.g., 'GPA_2008' --> 'GPA_8th_grade' for students in class of 2012\n",
      "    \"\"\"\n",
      "    d = {col: col for col in column_name}\n",
      "    grades = [8, 9, 10, 11, 12]\n",
      "    diffs = [4, 3, 2, 1, 0]\n",
      "    for grade, diff in zip(grades, diffs):\n",
      "        grade_year = year - diff\n",
      "        column_append = str(grade) + 'th_grade'\n",
      "        temp = {col: col[:-4] + column_append for col in column_name if str(grade_year) in col}\n",
      "        d.update(temp)\n",
      "    return d"
     ],
     "language": "python",
     "metadata": {},
     "outputs": [],
     "prompt_number": 138
    },
    {
     "cell_type": "code",
     "collapsed": false,
     "input": [
      "include_cols = [\n",
      " 'External_Student_ID',\n",
      " 'Grade_8th_grade',\n",
      " 'STATE_12th_grade',\n",
      " 'STATE_11th_grade',\n",
      " 'eds_8th_grade',\n",
      " 'GPA_Math_11th_grade',\n",
      " 'GPA_Math_12th_grade',\n",
      " 'GPA_Math_9th_grade',\n",
      " 'GPA_Math_10th_grade',\n",
      " 'swd_8th_grade',\n",
      " 'Street_8th_grade',\n",
      " 'CITY_10th_grade',\n",
      " 'NumAdvanced_8th_grade',\n",
      " 'CITY_9th_grade',\n",
      " 'STATE_10th_grade',\n",
      " 'grade_11th_grade',\n",
      " 'STATE_9th_grade',\n",
      " 'lep_8th_grade',\n",
      " 'GPA_SocSci_9th_grade',\n",
      " 'Grade_11th_grade',\n",
      " 'GPA_SocSci_10th_grade',\n",
      " 'reporting_year_8th_grade',\n",
      " 'Street_11th_grade',\n",
      " 'Street_12th_grade',\n",
      " 'GPA_Science_8th_grade',\n",
      " 'sex_11th_grade',\n",
      " 'GPA_Science_12th_grade',\n",
      " 'sex_9th_grade',\n",
      " 'sex_10th_grade',\n",
      " 'Num_Marks_8th_grade',\n",
      " 'daysabs_10th_grade',\n",
      " 'daysabs_9th_grade',\n",
      " 'NumAdvanced_SocSci_8th_grade',\n",
      " 'times_tardy_8th_grade',\n",
      " 'lep_11th_grade',\n",
      " 'lep_10th_grade',\n",
      " 'lep_9th_grade',\n",
      " 'sex_8th_grade',\n",
      " 'Street_9th_grade',\n",
      " 'Street_10th_grade',\n",
      " 'Grade_12th_grade',\n",
      " 'Grade_10th_grade',\n",
      " 'Grade_9th_grade',\n",
      " 'GPA_Science_10th_grade',\n",
      " 'GPA_Science_9th_grade',\n",
      " 'GPA_Science_11th_grade',\n",
      " 'GPA_9th_grade',\n",
      " 'GPA_10th_grade',\n",
      " 'GPA_11th_grade',\n",
      " 'GPA_12th_grade',\n",
      " 'NumAdvanced_SocSci_11th_grade',\n",
      " 'Num_Science_8th_grade',\n",
      " 'NumAdvanced_SocSci_9th_grade',\n",
      " 'NumAdvanced_SocSci_10th_grade',\n",
      " 'GPA_SocSci_8th_grade',\n",
      " 'reporting_year_10th_grade',\n",
      " 'reporting_year_9th_grade',\n",
      " 'CITY_8th_grade',\n",
      " 'eds_10th_grade',\n",
      " 'eds_11th_grade',\n",
      " 'grade_8th_grade',\n",
      " 'Num_SocSci_8th_grade',\n",
      " 'GPA_ENG_8th_grade',\n",
      " 'Num_Marks_10th_grade',\n",
      " 'Num_Marks_9th_grade',\n",
      " 'Num_Marks_12th_grade',\n",
      " 'Num_Marks_11th_grade',\n",
      " 'NumAdvanced_Science_8th_grade',\n",
      " 'Num_Science_12th_grade',\n",
      " 'Num_Science_11th_grade',\n",
      " 'Num_Science_10th_grade',\n",
      " 'Num_Science_9th_grade',\n",
      " 'GPA_SocSci_11th_grade',\n",
      " 'GPA_SocSci_12th_grade',\n",
      " 'GPA_8th_grade',\n",
      " 'NumAdvanced_ENG_8th_grade',\n",
      " 'reporting_year_11th_grade',\n",
      " 'grade_10th_grade',\n",
      " 'grade_9th_grade',\n",
      " 'exc_abs_8th_grade',\n",
      " 'daysabs_8th_grade',\n",
      " 'Num_ENG_8th_grade',\n",
      " 'Num_SocSci_9th_grade',\n",
      " 'Num_SocSci_10th_grade',\n",
      " 'Num_SocSci_11th_grade',\n",
      " 'Num_SocSci_12th_grade',\n",
      " 'GPA_ENG_12th_grade',\n",
      " 'GPA_ENG_11th_grade',\n",
      " 'GPA_ENG_10th_grade',\n",
      " 'GPA_ENG_9th_grade',\n",
      " 'ZIP_8th_grade',\n",
      " 'NumAdvanced_Science_10th_grade',\n",
      " 'NumAdvanced_Science_12th_grade',\n",
      " 'NumAdvanced_Science_11th_grade',\n",
      " 'times_tardy_11th_grade',\n",
      " 'times_tardy_10th_grade',\n",
      " 'times_tardy_9th_grade',\n",
      " 'NumAdvanced_ENG_12th_grade',\n",
      " 'NumAdvanced_ENG_11th_grade',\n",
      " 'NumAdvanced_ENG_10th_grade',\n",
      " 'NumAdvanced_ENG_9th_grade',\n",
      " 'ZIP_12th_grade',\n",
      " 'ethnic_8th_grade',\n",
      " 'CITY_11th_grade',\n",
      " 'CITY_12th_grade',\n",
      " 'Num_ENG_10th_grade',\n",
      " 'Num_ENG_9th_grade',\n",
      " 'Num_ENG_12th_grade',\n",
      " 'Num_ENG_11th_grade',\n",
      " 'daysabs_11th_grade',\n",
      " 'Num_Math_8th_grade',\n",
      " 'eds_9th_grade',\n",
      " 'unexc_abs_9th_grade',\n",
      " 'unexc_abs_10th_grade',\n",
      " 'unexc_abs_11th_grade',\n",
      " 'ZIP_10th_grade',\n",
      " 'ZIP_9th_grade',\n",
      " 'ZIP_11th_grade',\n",
      " 'NumAdvanced_Math_11th_grade',\n",
      " 'NumAdvanced_Math_12th_grade',\n",
      " 'NumAdvanced_Math_9th_grade',\n",
      " 'NumAdvanced_Math_10th_grade',\n",
      " 'NumAdvanced_SocSci_12th_grade',\n",
      " 'Num_Math_9th_grade',\n",
      " 'Num_Math_10th_grade',\n",
      " 'Num_Math_11th_grade',\n",
      " 'Num_Math_12th_grade',\n",
      " 'school_code_11th_grade',\n",
      " 'school_code_9th_grade',\n",
      " 'ethnic_11th_grade',\n",
      " 'ethnic_9th_grade',\n",
      " 'ethnic_10th_grade',\n",
      " 'exc_abs_9th_grade',\n",
      " 'unexc_abs_8th_grade',\n",
      " 'STATE_8th_grade',\n",
      " 'NumAdvanced_Math_8th_grade',\n",
      " 'exc_abs_11th_grade',\n",
      " 'exc_abs_10th_grade',\n",
      " 'NumAdvanced_Science_9th_grade',\n",
      " 'school_code_10th_grade',\n",
      " 'GPA_Math_8th_grade',\n",
      " 'swd_9th_grade',\n",
      " 'swd_10th_grade',\n",
      " 'swd_11th_grade',\n",
      " 'school_code_8th_grade',\n",
      " 'NumAdvanced_9th_grade',\n",
      " 'NumAdvanced_10th_grade',\n",
      " 'NumAdvanced_11th_grade',\n",
      " 'NumAdvanced_12th_grade',\n",
      " 'earliest_reporting_year_majority_vote',\n",
      " 'earliest_recorded_grade_majority_vote',\n",
      " 'retained_in_8_majority_vote',\n",
      " 'retained_in_9_majority_vote',\n",
      " 'retained_in_10_majority_vote',\n",
      " 'retained_in_11_majority_vote',\n",
      " 'retained_in_12_majority_vote',\n",
      " 'expected_graduation_year_majority_vote',\n",
      " 'dropout_outcome',]"
     ],
     "language": "python",
     "metadata": {},
     "outputs": [],
     "prompt_number": 139
    },
    {
     "cell_type": "code",
     "collapsed": false,
     "input": [
      "cohort_a = data[data['expected_graduation_year_majority_vote'] == 2012]\n",
      "cohort_b = data[data['expected_graduation_year_majority_vote'] == 2013]\n",
      "cohort_c = data[data['expected_graduation_year_majority_vote'] == 2014]"
     ],
     "language": "python",
     "metadata": {},
     "outputs": [],
     "prompt_number": 12
    },
    {
     "cell_type": "code",
     "collapsed": false,
     "input": [
      "renamed_a = cohort_a.rename(columns=make_dict(cohort_a.columns, 2012))[include_cols]\n",
      "renamed_b = cohort_b.rename(columns=make_dict(cohort_b.columns, 2013))[include_cols]\n",
      "renamed_c = cohort_c.rename(columns=make_dict(cohort_c.columns, 2014))[include_cols]"
     ],
     "language": "python",
     "metadata": {},
     "outputs": [],
     "prompt_number": 13
    },
    {
     "cell_type": "code",
     "collapsed": false,
     "input": [
      "merged_cohorts = pd.concat(objs=[renamed_a, renamed_b, renamed_c])"
     ],
     "language": "python",
     "metadata": {},
     "outputs": [],
     "prompt_number": 141
    },
    {
     "cell_type": "code",
     "collapsed": false,
     "input": [
      "merged_cohorts['dropout_outcome'].value_counts()"
     ],
     "language": "python",
     "metadata": {},
     "outputs": [
      {
       "metadata": {},
       "output_type": "pyout",
       "prompt_number": 142,
       "text": [
        "0    8148\n",
        "1     538\n",
        "dtype: int64"
       ]
      }
     ],
     "prompt_number": 142
    },
    {
     "cell_type": "code",
     "collapsed": false,
     "input": [
      "exclude_grades = [8, 9]\n",
      "exclude_student_ids = dropout_data[dropout_data['Grade'].isin(exclude_grades)]['External_Student_ID'].values\n",
      "cohort_data = merged_cohorts[~merged_cohorts['External_Student_ID'].isin(exclude_student_ids)]"
     ],
     "language": "python",
     "metadata": {},
     "outputs": [],
     "prompt_number": 143
    },
    {
     "cell_type": "code",
     "collapsed": false,
     "input": [
      "cohort_data.shape"
     ],
     "language": "python",
     "metadata": {},
     "outputs": [
      {
       "metadata": {},
       "output_type": "pyout",
       "prompt_number": 144,
       "text": [
        "(8496, 158)"
       ]
      }
     ],
     "prompt_number": 144
    },
    {
     "cell_type": "code",
     "collapsed": false,
     "input": [
      "cohort_data['dropout_outcome'].value_counts(normalize=False)"
     ],
     "language": "python",
     "metadata": {},
     "outputs": [
      {
       "metadata": {},
       "output_type": "pyout",
       "prompt_number": 145,
       "text": [
        "0    8148\n",
        "1     348\n",
        "dtype: int64"
       ]
      }
     ],
     "prompt_number": 145
    },
    {
     "cell_type": "code",
     "collapsed": false,
     "input": [
      "outcome_col = 'dropout_outcome'\n",
      "feature_cols = [\n",
      "#  'External_Student_ID',\n",
      "#  'earliest_reporting_year_majority_vote',\n",
      " 'retained_in_8_majority_vote',\n",
      " 'retained_in_9_majority_vote',\n",
      " 'retained_in_10_majority_vote',\n",
      " 'retained_in_11_majority_vote',\n",
      "#  'expected_graduation_year_majority_vote',\n",
      " 'dropout_outcome',\n",
      " 'Grade_8th_grade',\n",
      " 'eds_8th_grade',\n",
      " 'swd_8th_grade',\n",
      " 'Street_8th_grade',\n",
      " 'NumAdvanced_8th_grade',\n",
      " 'lep_8th_grade',\n",
      " 'reporting_year_8th_grade',\n",
      " 'GPA_Science_8th_grade',\n",
      " 'Num_Marks_8th_grade',\n",
      " 'NumAdvanced_SocSci_8th_grade',\n",
      " 'times_tardy_8th_grade',\n",
      " 'sex_8th_grade',\n",
      " 'Num_Science_8th_grade',\n",
      " 'GPA_SocSci_8th_grade',\n",
      " 'CITY_8th_grade',\n",
      " 'grade_8th_grade',\n",
      " 'Num_SocSci_8th_grade',\n",
      " 'GPA_ENG_8th_grade',\n",
      " 'NumAdvanced_Science_8th_grade',\n",
      " 'GPA_8th_grade',\n",
      " 'NumAdvanced_ENG_8th_grade',\n",
      " 'exc_abs_8th_grade',\n",
      " 'daysabs_8th_grade',\n",
      " 'Num_ENG_8th_grade',\n",
      " 'ZIP_8th_grade',\n",
      " 'ethnic_8th_grade',\n",
      " 'Num_Math_8th_grade',\n",
      " 'unexc_abs_8th_grade',\n",
      " 'STATE_8th_grade',\n",
      " 'NumAdvanced_Math_8th_grade',\n",
      " 'GPA_Math_8th_grade',\n",
      " 'school_code_8th_grade',\n",
      " 'GPA_Math_9th_grade',\n",
      " 'CITY_9th_grade',\n",
      " 'STATE_9th_grade',\n",
      " 'GPA_SocSci_9th_grade',\n",
      " 'sex_9th_grade',\n",
      " 'daysabs_9th_grade',\n",
      " 'lep_9th_grade',\n",
      " 'Street_9th_grade',\n",
      " 'Grade_9th_grade',\n",
      " 'GPA_Science_9th_grade',\n",
      " 'GPA_9th_grade',\n",
      " 'NumAdvanced_SocSci_9th_grade',\n",
      " 'reporting_year_9th_grade',\n",
      " 'Num_Marks_9th_grade',\n",
      " 'Num_Science_9th_grade',\n",
      " 'grade_9th_grade',\n",
      " 'Num_SocSci_9th_grade',\n",
      " 'GPA_ENG_9th_grade',\n",
      " 'times_tardy_9th_grade',\n",
      " 'NumAdvanced_ENG_9th_grade',\n",
      " 'Num_ENG_9th_grade',\n",
      " 'eds_9th_grade',\n",
      " 'unexc_abs_9th_grade',\n",
      " 'ZIP_9th_grade',\n",
      " 'NumAdvanced_Math_9th_grade',\n",
      " 'Num_Math_9th_grade',\n",
      " 'school_code_9th_grade',\n",
      " 'ethnic_9th_grade',\n",
      " 'exc_abs_9th_grade',\n",
      " 'NumAdvanced_Science_9th_grade',\n",
      " 'swd_9th_grade',\n",
      " 'NumAdvanced_9th_grade',\n",
      " 'GPA_Math_10th_grade',\n",
      " 'CITY_10th_grade',\n",
      " 'STATE_10th_grade',\n",
      " 'GPA_SocSci_10th_grade',\n",
      " 'sex_10th_grade',\n",
      " 'daysabs_10th_grade',\n",
      " 'lep_10th_grade',\n",
      " 'Street_10th_grade',\n",
      " 'Grade_10th_grade',\n",
      " 'GPA_Science_10th_grade',\n",
      " 'GPA_10th_grade',\n",
      " 'NumAdvanced_SocSci_10th_grade',\n",
      " 'reporting_year_10th_grade',\n",
      " 'eds_10th_grade',\n",
      " 'Num_Marks_10th_grade',\n",
      " 'Num_Science_10th_grade',\n",
      " 'grade_10th_grade',\n",
      " 'Num_SocSci_10th_grade',\n",
      " 'GPA_ENG_10th_grade',\n",
      " 'NumAdvanced_Science_10th_grade',\n",
      " 'times_tardy_10th_grade',\n",
      " 'NumAdvanced_ENG_10th_grade',\n",
      " 'Num_ENG_10th_grade',\n",
      " 'unexc_abs_10th_grade',\n",
      " 'ZIP_10th_grade',\n",
      " 'NumAdvanced_Math_10th_grade',\n",
      " 'Num_Math_10th_grade',\n",
      " 'ethnic_10th_grade',\n",
      " 'exc_abs_10th_grade',\n",
      " 'school_code_10th_grade',\n",
      " 'swd_10th_grade',\n",
      " 'NumAdvanced_10th_grade',\n",
      " 'STATE_11th_grade',\n",
      " 'GPA_Math_11th_grade',\n",
      " 'grade_11th_grade',\n",
      " 'Grade_11th_grade',\n",
      " 'Street_11th_grade',\n",
      " 'sex_11th_grade',\n",
      " 'lep_11th_grade',\n",
      " 'GPA_Science_11th_grade',\n",
      " 'GPA_11th_grade',\n",
      " 'NumAdvanced_SocSci_11th_grade',\n",
      " 'eds_11th_grade',\n",
      " 'Num_Marks_11th_grade',\n",
      " 'Num_Science_11th_grade',\n",
      " 'GPA_SocSci_11th_grade',\n",
      " 'reporting_year_11th_grade',\n",
      " 'Num_SocSci_11th_grade',\n",
      " 'GPA_ENG_11th_grade',\n",
      " 'NumAdvanced_Science_11th_grade',\n",
      " 'times_tardy_11th_grade',\n",
      " 'NumAdvanced_ENG_11th_grade',\n",
      " 'CITY_11th_grade',\n",
      " 'Num_ENG_11th_grade',\n",
      " 'daysabs_11th_grade',\n",
      " 'unexc_abs_11th_grade',\n",
      " 'ZIP_11th_grade',\n",
      " 'NumAdvanced_Math_11th_grade',\n",
      " 'Num_Math_11th_grade',\n",
      " 'school_code_11th_grade',\n",
      " 'ethnic_11th_grade',\n",
      " 'exc_abs_11th_grade',\n",
      " 'swd_11th_grade',\n",
      " 'NumAdvanced_11th_grade',\n",
      "]"
     ],
     "language": "python",
     "metadata": {},
     "outputs": [],
     "prompt_number": 146
    },
    {
     "cell_type": "code",
     "collapsed": false,
     "input": [
      "cohort_data.fillna(-1, inplace=True)"
     ],
     "language": "python",
     "metadata": {},
     "outputs": [],
     "prompt_number": 147
    },
    {
     "cell_type": "code",
     "collapsed": false,
     "input": [
      "model = classification.Model(cohort_data, outcome_col, doFeatureSelection=True)"
     ],
     "language": "python",
     "metadata": {},
     "outputs": [
      {
       "output_type": "stream",
       "stream": "stdout",
       "text": [
        "Performing Feature Selection:\n",
        "Shape of dataset before feature selection: (8496, 157)\n",
        "Shape of dataset after feature selection: (8496, 36)\n"
       ]
      },
      {
       "output_type": "stream",
       "stream": "stdout",
       "text": [
        "\n"
       ]
      }
     ],
     "prompt_number": 160
    },
    {
     "cell_type": "code",
     "collapsed": false,
     "input": [
      "print cohort_data['dropout_outcome'].value_counts(normalize=True)\n",
      "print cohort_data['dropout_outcome'].value_counts(normalize=False)"
     ],
     "language": "python",
     "metadata": {},
     "outputs": [
      {
       "output_type": "stream",
       "stream": "stdout",
       "text": [
        "0    0.95904\n",
        "1    0.04096\n",
        "dtype: float64\n",
        "0    8148\n",
        "1     348\n",
        "dtype: int64\n"
       ]
      }
     ],
     "prompt_number": 161
    },
    {
     "cell_type": "code",
     "collapsed": false,
     "input": [
      "num_students = 100\n",
      "nrows = cohort_data.shape[0]\n",
      "topK = float(num_students)/nrows"
     ],
     "language": "python",
     "metadata": {},
     "outputs": [],
     "prompt_number": 162
    },
    {
     "cell_type": "code",
     "collapsed": false,
     "input": [
      "model.runClassification('topk', topK=topK, models=['RF'])"
     ],
     "language": "python",
     "metadata": {},
     "outputs": [
      {
       "output_type": "stream",
       "stream": "stdout",
       "text": [
        "RF Precision at top 1.17702448211%\n",
        "0.6\n",
        "\n",
        "\n"
       ]
      }
     ],
     "prompt_number": 167
    },
    {
     "cell_type": "code",
     "collapsed": false,
     "input": [
      "model.runClassification('prc',\n",
      "                        models=['RF'],)"
     ],
     "language": "python",
     "metadata": {},
     "outputs": [
      {
       "metadata": {},
       "output_type": "display_data",
       "png": "[encoded data removed]",
       "text": [
        "<matplotlib.figure.Figure at 0x110cbf190>"
       ]
      }
     ],
     "prompt_number": 166
    },
    {
     "cell_type": "markdown",
     "metadata": {},
     "source": [
      "## Using models built on 2012 to predict for class of 2013"
     ]
    },
    {
     "cell_type": "code",
     "collapsed": false,
     "input": [
      "from sklearn import preprocessing, decomposition\n",
      "from sklearn.tree import DecisionTreeClassifier"
     ],
     "language": "python",
     "metadata": {},
     "outputs": [],
     "prompt_number": 38
    },
    {
     "cell_type": "code",
     "collapsed": false,
     "input": [
      "def preprocess(dataSet, dependentVar, doFeatureSelection=True, doPCA=False, nComponents=10):\n",
      "        \"\"\" Data pre-processing constructor.\n",
      "\n",
      "        Constructor to pre-process pandas DataFrames, extracting and encoding the outcome\n",
      "        labels (class), dropping them from the dataset and converting categorical variables\n",
      "        into integer numbers for compatibility with scikit-learn.\n",
      "\n",
      "        Parameters\n",
      "        ----------\n",
      "        dataSet : pd.DataFrame\n",
      "            The entire dataset as loaded and parsed in the main program\n",
      "        dependentVar : string\n",
      "            A string denoting the column to be used as the class\n",
      "        doFeatureSelection : bool\n",
      "            A flag to denote whether or not to perform feature selection\n",
      "        doPCA : bool\n",
      "            A flag to denote whether or not to perform principle component analysis\n",
      "        nComponents : int\n",
      "            The desired number of principle components\n",
      "\n",
      "        \"\"\"\n",
      "        # Encode nominal features to conform with sklearn\n",
      "        for i,tp in enumerate(dataSet.dtypes):\n",
      "            if tp == 'object':\n",
      "                unique_vals, dataSet.ix[:,i]  = np.unique(dataSet.ix[:,i] , return_inverse=True)\n",
      "\n",
      "        # Set the dependent variable (y) to the appropriate column\n",
      "        y = dataSet.loc[:,dependentVar]\n",
      "\n",
      "        # Transform that information to a format that scikit-learn understands\n",
      "        # This may be redundant at times\n",
      "        labels = preprocessing.LabelEncoder().fit_transform(y)\n",
      "\n",
      "        # Remove the dependent variable from training sets\n",
      "        X = dataSet.drop(dependentVar,1).values\n",
      "\n",
      "        # Perform entropy-based feature selection\n",
      "        if doFeatureSelection:\n",
      "            print 'Performing Feature Selection:'\n",
      "            print 'Shape of dataset before feature selection: ' + str(X.shape)\n",
      "            clf = DecisionTreeClassifier(criterion='entropy')\n",
      "            X = clf.fit(X, y).transform(X)\n",
      "            print 'Shape of dataset after feature selection: ' + str(X.shape) + '\\n'\n",
      "\n",
      "        # Normalize values\n",
      "        X = preprocessing.StandardScaler().fit(X).transform(X)\n",
      "\n",
      "        # Collapse features using principal component analysis\n",
      "        if doPCA:\n",
      "            print 'Performing PCA'\n",
      "            estimator = decomposition.PCA(n_components=nComponents)\n",
      "            X = estimator.fit_transform(X)\n",
      "            print 'Shape of dataset after PCA: ' + str(X.shape) + '\\n'\n",
      "\n",
      "        # Save processed dataset, labels and student ids\n",
      "        \n",
      "        return (X, labels)"
     ],
     "language": "python",
     "metadata": {},
     "outputs": [],
     "prompt_number": 45
    },
    {
     "cell_type": "code",
     "collapsed": false,
     "input": [
      "renamed_a['dropout_outcome'].value_counts()"
     ],
     "language": "python",
     "metadata": {},
     "outputs": [
      {
       "metadata": {},
       "output_type": "pyout",
       "prompt_number": 46,
       "text": [
        "0    2642\n",
        "1     224\n",
        "dtype: int64"
       ]
      }
     ],
     "prompt_number": 46
    },
    {
     "cell_type": "code",
     "collapsed": false,
     "input": [
      "from sklearn.ensemble import RandomForestClassifier"
     ],
     "language": "python",
     "metadata": {},
     "outputs": [],
     "prompt_number": 47
    },
    {
     "cell_type": "code",
     "collapsed": false,
     "input": [
      "clf = RandomForestClassifier(n_estimators=100, criterion='entropy')"
     ],
     "language": "python",
     "metadata": {},
     "outputs": [],
     "prompt_number": 48
    },
    {
     "cell_type": "code",
     "collapsed": false,
     "input": [
      "model_data = renamed_a[feature_cols]\n",
      "y_labels = renamed_a[outcome_col]"
     ],
     "language": "python",
     "metadata": {},
     "outputs": [],
     "prompt_number": 49
    },
    {
     "cell_type": "code",
     "collapsed": false,
     "input": [
      "model_data.fillna(-1, inplace=True)"
     ],
     "language": "python",
     "metadata": {},
     "outputs": [],
     "prompt_number": 50
    },
    {
     "cell_type": "code",
     "collapsed": false,
     "input": [
      "X, y = preprocess(model_data, outcome_col, doFeatureSelection=False)"
     ],
     "language": "python",
     "metadata": {},
     "outputs": [],
     "prompt_number": 54
    },
    {
     "cell_type": "code",
     "collapsed": false,
     "input": [
      "fitted_clf = clf.fit(X, y)"
     ],
     "language": "python",
     "metadata": {},
     "outputs": [],
     "prompt_number": 55
    },
    {
     "cell_type": "code",
     "collapsed": false,
     "input": [
      "testing_data = renamed_b[feature_cols]"
     ],
     "language": "python",
     "metadata": {},
     "outputs": [],
     "prompt_number": 60
    },
    {
     "cell_type": "code",
     "collapsed": false,
     "input": [
      "testing_data.fillna(-1, inplace=True)"
     ],
     "language": "python",
     "metadata": {},
     "outputs": [],
     "prompt_number": 61
    },
    {
     "cell_type": "code",
     "collapsed": false,
     "input": [
      "testing_X, testing_y = preprocess(testing_data, outcome_col, doFeatureSelection=False)"
     ],
     "language": "python",
     "metadata": {},
     "outputs": [],
     "prompt_number": 63
    },
    {
     "cell_type": "code",
     "collapsed": false,
     "input": [
      "predicted_probs = fitted_clf.predict_proba(testing_X)"
     ],
     "language": "python",
     "metadata": {},
     "outputs": [],
     "prompt_number": 86
    },
    {
     "cell_type": "code",
     "collapsed": false,
     "input": [
      "predicted_probs = [p[1] for p in predicted_probs]"
     ],
     "language": "python",
     "metadata": {},
     "outputs": [],
     "prompt_number": 87
    },
    {
     "cell_type": "code",
     "collapsed": false,
     "input": [
      "from sklearn.metrics import precision_recall_curve, auc"
     ],
     "language": "python",
     "metadata": {},
     "outputs": [],
     "prompt_number": 91
    },
    {
     "cell_type": "code",
     "collapsed": false,
     "input": [
      "precision, recall, thresholds = precision_recall_curve(testing_y, predicted_probs)"
     ],
     "language": "python",
     "metadata": {},
     "outputs": [],
     "prompt_number": 89
    },
    {
     "cell_type": "code",
     "collapsed": false,
     "input": [
      "pr_auc = auc(recall, precision)"
     ],
     "language": "python",
     "metadata": {},
     "outputs": [],
     "prompt_number": 92
    },
    {
     "cell_type": "code",
     "collapsed": false,
     "input": [
      "import matplotlib.pylab as pl"
     ],
     "language": "python",
     "metadata": {},
     "outputs": [],
     "prompt_number": 93
    },
    {
     "cell_type": "code",
     "collapsed": false,
     "input": [
      "pd.options.display.mpl_style = 'default'"
     ],
     "language": "python",
     "metadata": {},
     "outputs": [],
     "prompt_number": 97
    },
    {
     "cell_type": "code",
     "collapsed": false,
     "input": [
      "pl.plot(recall, precision, color = 'b', label='Precision-Recall curve (area = %0.2f)' % pr_auc)\n",
      "pl.xlim([-0.05, 1.05])\n",
      "pl.ylim([-0.05, 1.05])\n",
      "pl.xlabel('Recall')\n",
      "pl.ylabel('Precision')\n",
      "pl.title('RF Precision-Recall')\n",
      "pl.legend(loc=\"best\")\n",
      "pl.show()"
     ],
     "language": "python",
     "metadata": {},
     "outputs": [
      {
       "metadata": {},
       "output_type": "display_data",
       "png": "[encoded data removed]",
       "text": [
        "<matplotlib.figure.Figure at 0x11286dd50>"
       ]
      }
     ],
     "prompt_number": 130
    },
    {
     "cell_type": "code",
     "collapsed": false,
     "input": [
      "cohort_b['rf_predicted_probs'] = predicted_probs"
     ],
     "language": "python",
     "metadata": {},
     "outputs": [],
     "prompt_number": 101
    },
    {
     "cell_type": "code",
     "collapsed": false,
     "input": [
      "cohort_b.shape"
     ],
     "language": "python",
     "metadata": {},
     "outputs": [
      {
       "metadata": {},
       "output_type": "pyout",
       "prompt_number": 124,
       "text": [
        "(2917, 246)"
       ]
      }
     ],
     "prompt_number": 124
    },
    {
     "cell_type": "code",
     "collapsed": false,
     "input": [
      "cohort_b[cohort_b['rf_predicted_probs'] >= 0.4]['dropout_outcome'].value_counts(normalize=False)"
     ],
     "language": "python",
     "metadata": {},
     "outputs": [
      {
       "metadata": {},
       "output_type": "pyout",
       "prompt_number": 129,
       "text": [
        "0    97\n",
        "1    91\n",
        "dtype: int64"
       ]
      }
     ],
     "prompt_number": 129
    },
    {
     "cell_type": "code",
     "collapsed": false,
     "input": [
      "cohort_b.sort(columns=['rf_predicted_probs'], \n",
      "              ascending=False, inplace=True)"
     ],
     "language": "python",
     "metadata": {},
     "outputs": [
      {
       "output_type": "stream",
       "stream": "stderr",
       "text": [
        "//anaconda/lib/python2.7/site-packages/pandas/core/frame.py:2679: SettingWithCopyWarning: A value is trying to be set on a copy of a slice from a DataFrame\n",
        "  inplace=inplace, kind=kind, na_position=na_position)\n"
       ]
      }
     ],
     "prompt_number": 132
    },
    {
     "cell_type": "code",
     "collapsed": false,
     "input": [
      "cohort_b.iloc[:30]['dropout_outcome'].value_counts(normalize=True)"
     ],
     "language": "python",
     "metadata": {},
     "outputs": [
      {
       "metadata": {},
       "output_type": "pyout",
       "prompt_number": 137,
       "text": [
        "1    0.633333\n",
        "0    0.366667\n",
        "dtype: float64"
       ]
      }
     ],
     "prompt_number": 137
    },
    {
     "cell_type": "code",
     "collapsed": false,
     "input": [],
     "language": "python",
     "metadata": {},
     "outputs": []
    }
   ],
   "metadata": {}
  }
 ]
}