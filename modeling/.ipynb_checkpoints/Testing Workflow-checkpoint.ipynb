{
 "cells": [
  {
   "cell_type": "code",
   "execution_count": 2,
   "metadata": {
    "collapsed": false
   },
   "outputs": [],
   "source": [
    "# This Notebook was made by Carl on 1/13 to test out workflow code, and to\n",
    "# try to use these functions with the MCPS dataset"
   ]
  },
  {
   "cell_type": "code",
   "execution_count": 60,
   "metadata": {
    "collapsed": false
   },
   "outputs": [
    {
     "name": "stdout",
     "output_type": "stream",
     "text": [
      "Populating the interactive namespace from numpy and matplotlib\n"
     ]
    }
   ],
   "source": [
    "%pylab inline\n",
    "import pandas as pd\n",
    "import workflow_diagnostics\n",
    "from workflow_preprocessing import preprocess_data\n",
    "from workflow_model_setup import run_and_output_model_to_s3, run_model\n",
    "from sklearn.ensemble import RandomForestClassifier, ExtraTreesClassifier\n",
    "from sklearn.linear_model import LogisticRegression"
   ]
  },
  {
   "cell_type": "code",
   "execution_count": 2,
   "metadata": {
    "collapsed": false
   },
   "outputs": [
    {
     "name": "stderr",
     "output_type": "stream",
     "text": [
      "//anaconda/lib/python2.7/site-packages/pandas/io/parsers.py:1159: DtypeWarning: Columns (16,17,18,20,21,22,43,46,47,48,49,50,121,137) have mixed types. Specify dtype option on import or set low_memory=False.\n",
      "  data = self._reader.read(nrows)\n"
     ]
    }
   ],
   "source": [
    "#Load master data file\n",
    "s3_path = 'NC-Cabarrus/results'\n",
    "data_path = 's3://dsapp-edu-data/NC-Cabarrus/cleaned_data/'\n",
    "data_filename = 'master_03182015.csv'\n",
    "data = pd.read_csv(data_path + data_filename)\n",
    "dropout_data = pd.read_csv(data_path + 'Dropout_Data_0708_1213_20141001_clean_2014_10_1.txt')"
   ]
  },
  {
   "cell_type": "code",
   "execution_count": 24,
   "metadata": {
    "collapsed": false
   },
   "outputs": [
    {
     "data": {
      "text/plain": [
       "(36654, 233)"
      ]
     },
     "execution_count": 24,
     "metadata": {},
     "output_type": "execute_result"
    }
   ],
   "source": [
    "data.shape"
   ]
  },
  {
   "cell_type": "code",
   "execution_count": 5,
   "metadata": {
    "collapsed": false
   },
   "outputs": [],
   "source": [
    "# Preprocessing"
   ]
  },
  {
   "cell_type": "code",
   "execution_count": 7,
   "metadata": {
    "collapsed": false
   },
   "outputs": [
    {
     "data": {
      "text/plain": [
       "Index([u'External_Student_ID', u'FirstEntryDate', u'LastExitDate', u'FirstEntry_ReportingYear', u'LastExit_ReportingYear', u'FirstEntry_Grade', u'LastEntry_Grade', u'Grade_repeats', u'RepeatedGrades', u'RepeatedYears', u'TransOut_Before_Grade12_Year', u'g8year', u'graduate', u'grad_year', u'Expected_GradYear', u'Grad_4yr', u'Street_2008', u'CITY_2008', u'STATE_2008', u'ZIP_2008', u'Street_2009', u'CITY_2009', u'STATE_2009', u'ZIP_2009', u'Street_2010', u'CITY_2010', u'STATE_2010', u'ZIP_2010', u'Street_2011', u'CITY_2011', u'STATE_2011', u'ZIP_2011', u'Street_2012', u'CITY_2012', u'STATE_2012', u'ZIP_2012', u'Street_2013', u'CITY_2013', u'STATE_2013', u'ZIP_2013', u'Street_2014', u'CITY_2014', u'STATE_2014', u'ZIP_2014', u'school_code_2008', u'grade_2008', u'ethnic_2008', u'sex_2008', u'swd_2008', u'eds_2008', u'lep_2008', u'daysabs_2008', u'exc_abs_2008', u'unexc_abs_2008', u'times_tardy_2008', u'school_code_2009', u'grade_2009', u'ethnic_2009', u'sex_2009', u'swd_2009', u'eds_2009', u'lep_2009', u'daysabs_2009', u'exc_abs_2009', u'unexc_abs_2009', u'times_tardy_2009', u'school_code_2010', u'grade_2010', u'ethnic_2010', u'sex_2010', u'swd_2010', u'eds_2010', u'lep_2010', u'daysabs_2010', u'exc_abs_2010', u'unexc_abs_2010', u'times_tardy_2010', u'school_code_2011', u'grade_2011', u'ethnic_2011', u'sex_2011', u'swd_2011', u'eds_2011', u'lep_2011', u'daysabs_2011', u'exc_abs_2011', u'unexc_abs_2011', u'times_tardy_2011', u'school_code_2012', u'grade_2012', u'ethnic_2012', u'sex_2012', u'swd_2012', u'eds_2012', u'lep_2012', u'daysabs_2012', u'exc_abs_2012', u'unexc_abs_2012', u'times_tardy_2012', u'school_code_2013', ...], dtype='object')"
      ]
     },
     "execution_count": 7,
     "metadata": {},
     "output_type": "execute_result"
    }
   ],
   "source": [
    "data.columns"
   ]
  },
  {
   "cell_type": "code",
   "execution_count": null,
   "metadata": {
    "collapsed": true
   },
   "outputs": [],
   "source": [
    "# Ideally, we'd be making predictions on either current 8th graders or current 9th graders\n",
    "# These are students who were in 7th or 8th grade in 2014"
   ]
  },
  {
   "cell_type": "code",
   "execution_count": 33,
   "metadata": {
    "collapsed": false
   },
   "outputs": [
    {
     "data": {
      "text/plain": [
       "9     2693\n",
       "7     2614\n",
       "8     2612\n",
       "6     2489\n",
       "10    2418\n",
       "12    2160\n",
       "11    2121\n",
       "13       5\n",
       "dtype: int64"
      ]
     },
     "execution_count": 33,
     "metadata": {},
     "output_type": "execute_result"
    }
   ],
   "source": [
    "data['grade_2014'].value_counts()"
   ]
  },
  {
   "cell_type": "code",
   "execution_count": 35,
   "metadata": {
    "collapsed": false
   },
   "outputs": [
    {
     "data": {
      "text/plain": [
       "25660"
      ]
     },
     "execution_count": 35,
     "metadata": {},
     "output_type": "execute_result"
    }
   ],
   "source": [
    "data['grad_year'].isnull().sum()"
   ]
  },
  {
   "cell_type": "code",
   "execution_count": 36,
   "metadata": {
    "collapsed": false
   },
   "outputs": [
    {
     "data": {
      "text/plain": [
       "22103"
      ]
     },
     "execution_count": 36,
     "metadata": {},
     "output_type": "execute_result"
    }
   ],
   "source": [
    "data['Expected_GradYear'].isnull().sum()"
   ]
  },
  {
   "cell_type": "code",
   "execution_count": 34,
   "metadata": {
    "collapsed": false
   },
   "outputs": [
    {
     "data": {
      "text/plain": [
       "2014    2045\n",
       "2013    1922\n",
       "2012    1909\n",
       "2011    1885\n",
       "2010    1625\n",
       "2009    1589\n",
       "2008      19\n",
       "dtype: int64"
      ]
     },
     "execution_count": 34,
     "metadata": {},
     "output_type": "execute_result"
    }
   ],
   "source": [
    "data['grad_year'].value_counts()"
   ]
  },
  {
   "cell_type": "code",
   "execution_count": 47,
   "metadata": {
    "collapsed": false
   },
   "outputs": [
    {
     "data": {
      "text/plain": [
       "9     2560\n",
       "8     2270\n",
       "10    2223\n",
       "7     2218\n",
       "6     2187\n",
       "11    1967\n",
       "12    1728\n",
       "dtype: int64"
      ]
     },
     "execution_count": 47,
     "metadata": {},
     "output_type": "execute_result"
    }
   ],
   "source": [
    "data['grade_2010'].value_counts()"
   ]
  },
  {
   "cell_type": "code",
   "execution_count": 48,
   "metadata": {
    "collapsed": false
   },
   "outputs": [
    {
     "data": {
      "text/plain": [
       "2008    24841\n",
       "2009     2035\n",
       "2010     1676\n",
       "2011     1580\n",
       "2012     1448\n",
       "2013     1315\n",
       "2014     1247\n",
       "dtype: int64"
      ]
     },
     "execution_count": 48,
     "metadata": {},
     "output_type": "execute_result"
    }
   ],
   "source": [
    "data['FirstEntry_ReportingYear'].value_counts()"
   ]
  },
  {
   "cell_type": "code",
   "execution_count": 51,
   "metadata": {
    "collapsed": false
   },
   "outputs": [
    {
     "data": {
      "text/plain": [
       "9     4016\n",
       "6     3415\n",
       "7     3385\n",
       "8     3270\n",
       "10    2815\n",
       "5     2814\n",
       "4     2433\n",
       "11    2321\n",
       "3     2277\n",
       "2     2160\n",
       "1     1920\n",
       "12    1784\n",
       "0     1531\n",
       "13       1\n",
       "dtype: int64"
      ]
     },
     "execution_count": 51,
     "metadata": {},
     "output_type": "execute_result"
    }
   ],
   "source": [
    "data['FirstEntry_Grade'].value_counts()"
   ]
  },
  {
   "cell_type": "code",
   "execution_count": 88,
   "metadata": {
    "collapsed": false,
    "scrolled": true
   },
   "outputs": [
    {
     "data": {
      "text/plain": [
       "8/27/2007    23306\n",
       "8/25/2008     1160\n",
       "8/25/2009      843\n",
       "8/25/2010      836\n",
       "8/25/2011      801\n",
       "8/27/2012      698\n",
       "8/26/2013      597\n",
       "8/28/2007      232\n",
       "8/29/2007      103\n",
       "1/24/2008       54\n",
       "8/26/2008       54\n",
       "1/26/2009       51\n",
       "8/26/2009       49\n",
       "8/26/2010       47\n",
       "8/30/2007       44\n",
       "...\n",
       "12/20/2011    1\n",
       "4/20/2011     1\n",
       "4/20/2012     1\n",
       "3/30/2009     1\n",
       "12/31/2013    1\n",
       "10/9/2008     1\n",
       "11/16/2007    1\n",
       "4/6/2012      1\n",
       "11/1/2013     1\n",
       "2/14/2014     1\n",
       "9/3/2010      1\n",
       "2/27/2012     1\n",
       "2/27/2013     1\n",
       "4/3/2012      1\n",
       "12/20/2010    1\n",
       "Length: 1061, dtype: int64"
      ]
     },
     "execution_count": 88,
     "metadata": {},
     "output_type": "execute_result"
    }
   ],
   "source": [
    "data['FirstEntryDate'].value_counts()"
   ]
  },
  {
   "cell_type": "code",
   "execution_count": 77,
   "metadata": {
    "collapsed": true
   },
   "outputs": [],
   "source": [
    "def compute_expected_gradyear(row):\n",
    "    entry_date = row['FirstEntryDate']\n",
    "    entry_grade = row['FirstEntry_Grade']\n",
    "    if pd.isnull(entry_date) or pd.isnull(entry_grade):\n",
    "        return np.nan\n",
    "    dt = pd.to_datetime(entry_date)\n",
    "    entry_year = dt.year\n",
    "    # two conditions here, depending on whether you entered in the first half or 2nd half of the year\n",
    "    if dt.month > 6: # entered in fall of year\n",
    "        diff = 12 - entry_grade + 1\n",
    "    else: # entered in spring of year\n",
    "        diff = 12 - entry_grade\n",
    "    expected_grad_year = entry_year + diff\n",
    "    return expected_grad_year"
   ]
  },
  {
   "cell_type": "code",
   "execution_count": 74,
   "metadata": {
    "collapsed": true
   },
   "outputs": [],
   "source": [
    "s = '8/30/2007'"
   ]
  },
  {
   "cell_type": "code",
   "execution_count": 85,
   "metadata": {
    "collapsed": false
   },
   "outputs": [
    {
     "data": {
      "text/plain": [
       "False"
      ]
     },
     "execution_count": 85,
     "metadata": {},
     "output_type": "execute_result"
    }
   ],
   "source": [
    "pd.to_datetime(s).month > 9"
   ]
  },
  {
   "cell_type": "code",
   "execution_count": 78,
   "metadata": {
    "collapsed": false
   },
   "outputs": [],
   "source": [
    "data['cExpected_GradYear'] = data.apply(compute_expected_gradyear, axis=1)"
   ]
  },
  {
   "cell_type": "code",
   "execution_count": 79,
   "metadata": {
    "collapsed": false
   },
   "outputs": [
    {
     "data": {
      "text/plain": [
       "2015    3118\n",
       "2014    3082\n",
       "2017    3049\n",
       "2016    3040\n",
       "2013    2979\n",
       "2018    2952\n",
       "2019    2830\n",
       "2011    2790\n",
       "2012    2718\n",
       "2020    2370\n",
       "2010    2093\n",
       "2009    1681\n",
       "2008    1436\n",
       "2021       4\n",
       "dtype: int64"
      ]
     },
     "execution_count": 79,
     "metadata": {},
     "output_type": "execute_result"
    }
   ],
   "source": [
    "data['cExpected_GradYear'].value_counts()"
   ]
  },
  {
   "cell_type": "code",
   "execution_count": 80,
   "metadata": {
    "collapsed": false
   },
   "outputs": [
    {
     "data": {
      "text/plain": [
       "2013    2687\n",
       "2014    2681\n",
       "2011    2531\n",
       "2012    2513\n",
       "2010    2109\n",
       "2009    1856\n",
       "2008     119\n",
       "2015      35\n",
       "2007      17\n",
       "2017       1\n",
       "2006       1\n",
       "2005       1\n",
       "dtype: int64"
      ]
     },
     "execution_count": 80,
     "metadata": {},
     "output_type": "execute_result"
    }
   ],
   "source": [
    "data['Expected_GradYear'].value_counts()"
   ]
  },
  {
   "cell_type": "code",
   "execution_count": 82,
   "metadata": {
    "collapsed": false
   },
   "outputs": [
    {
     "data": {
      "text/plain": [
       "(1145, 234)"
      ]
     },
     "execution_count": 82,
     "metadata": {},
     "output_type": "execute_result"
    }
   ],
   "source": [
    "data[(data['cExpected_GradYear'] != data['Expected_GradYear'])\n",
    "    & data['Expected_GradYear'].notnull()].shape"
   ]
  },
  {
   "cell_type": "code",
   "execution_count": 83,
   "metadata": {
    "collapsed": false
   },
   "outputs": [
    {
     "data": {
      "text/plain": [
       "-1    882\n",
       "-2    122\n",
       " 1    110\n",
       "-3     16\n",
       " 2      5\n",
       "-4      5\n",
       " 3      4\n",
       "-6      1\n",
       "dtype: int64"
      ]
     },
     "execution_count": 83,
     "metadata": {},
     "output_type": "execute_result"
    }
   ],
   "source": [
    "data[(data['cExpected_GradYear'] != data['Expected_GradYear'])\n",
    "    & data['Expected_GradYear'].notnull()]['Expected_GradYear'].value_counts()\n",
    "#.apply(lambda row: int(row['Expected_GradYear']) - int(row['cExpected_GradYear']), axis=1).value_counts()"
   ]
  },
  {
   "cell_type": "code",
   "execution_count": 37,
   "metadata": {
    "collapsed": false
   },
   "outputs": [],
   "source": [
    "cohort_2012 = data[data['Expected_GradYear'] == 2012]"
   ]
  },
  {
   "cell_type": "code",
   "execution_count": 38,
   "metadata": {
    "collapsed": false
   },
   "outputs": [],
   "source": [
    "cohort_2013 = data[data['Expected_GradYear'] == 2013]"
   ]
  },
  {
   "cell_type": "code",
   "execution_count": 40,
   "metadata": {
    "collapsed": false
   },
   "outputs": [
    {
     "data": {
      "text/plain": [
       "10    1956\n",
       "9      177\n",
       "11       7\n",
       "dtype: int64"
      ]
     },
     "execution_count": 40,
     "metadata": {},
     "output_type": "execute_result"
    }
   ],
   "source": [
    "cohort_2012['grade_2010'].value_counts()"
   ]
  },
  {
   "cell_type": "code",
   "execution_count": 8,
   "metadata": {
    "collapsed": false
   },
   "outputs": [],
   "source": [
    "training = preprocess_data(raw_data=cohort_12, partner_name='cabarrus', \n",
    "                           cohort_graduating_year=2012,\n",
    "                           earliest_grade=8,\n",
    "                           model_grade=8)"
   ]
  },
  {
   "cell_type": "code",
   "execution_count": 9,
   "metadata": {
    "collapsed": false
   },
   "outputs": [],
   "source": [
    "testing = preprocess_data(raw_data=cohort_13, partner_name='cabarrus', \n",
    "                           cohort_graduating_year=2013,\n",
    "                           earliest_grade=8,\n",
    "                           model_grade=8)"
   ]
  },
  {
   "cell_type": "code",
   "execution_count": 10,
   "metadata": {
    "collapsed": false
   },
   "outputs": [],
   "source": [
    "# Modeling"
   ]
  },
  {
   "cell_type": "code",
   "execution_count": 11,
   "metadata": {
    "collapsed": false
   },
   "outputs": [],
   "source": [
    "feature_cols = ['student_gpa_8',\n",
    "                'student_days_absent_8',\n",
    "                'num_marks_8',]\n",
    "outcome_col = 'student_dropout'\n",
    "seed=1"
   ]
  },
  {
   "cell_type": "code",
   "execution_count": 12,
   "metadata": {
    "collapsed": false
   },
   "outputs": [],
   "source": [
    "clf_name = 'RF_100_gini'\n",
    "clf = RandomForestClassifier(n_estimators=100, criterion='gini', random_state=seed)"
   ]
  },
  {
   "cell_type": "code",
   "execution_count": 13,
   "metadata": {
    "collapsed": false
   },
   "outputs": [
    {
     "name": "stdout",
     "output_type": "stream",
     "text": [
      "Starting training of: rf_100\n",
      "----------\n",
      "Num Features: 3\n",
      "Shape of Training: (1731, 248)\n",
      "Shape of Testing: (1769, 248)\n",
      "Outcome: student_dropout\n",
      "Finished Training\n",
      "\n",
      "\n",
      "Starting Testing:\n",
      "----------\n",
      "Finished Testing...\n",
      "\n"
     ]
    }
   ],
   "source": [
    "fitted_clf, predicted_probs = run_model(training=training, testing=testing, \n",
    "          features=feature_cols, clf=clf, clf_name='rf_100',\n",
    "          outcome=outcome_col)"
   ]
  },
  {
   "cell_type": "code",
   "execution_count": 14,
   "metadata": {
    "collapsed": false
   },
   "outputs": [],
   "source": [
    "# Diagnostics"
   ]
  },
  {
   "cell_type": "code",
   "execution_count": 15,
   "metadata": {
    "collapsed": false
   },
   "outputs": [
    {
     "name": "stdout",
     "output_type": "stream",
     "text": [
      "Starting training of: RF_100_gini\n",
      "----------\n",
      "Num Features: 3\n",
      "Shape of Training: (1731, 248)\n",
      "Shape of Testing: (1769, 248)\n",
      "Outcome: student_dropout\n",
      "Finished Training\n",
      "\n",
      "\n",
      "Starting Testing:\n",
      "----------\n",
      "Finished Testing...\n",
      "\n",
      "Uploading to S3 at NC-Cabarrus/results\n",
      "..........Done uploading ../results/temp/RF_100_gini.pkl to s3 \n",
      "\n",
      "Precision at Top X Results for RF_100_gini\n",
      "----------------\n",
      "           30  50  100  200\n",
      "% Dropout  50  48   38   33\n",
      "\n",
      "\n",
      "Precision at Top X% Results for RF_100_gini\n",
      "----------------\n",
      "               5%    10%    20%    30%    50%\n",
      "% Dropout:  39.77  35.23  24.36  19.62  13.46\n",
      "\n",
      "\n"
     ]
    },
    {
     "data": {
      "image/png": "[encoded data removed]",
      "text/plain": [
       "<matplotlib.figure.Figure at 0x102984c90>"
      ]
     },
     "metadata": {},
     "output_type": "display_data"
    },
    {
     "data": {
      "image/png": "[encoded data removed]",
      "text/plain": [
       "<matplotlib.figure.Figure at 0x10c703590>"
      ]
     },
     "metadata": {},
     "output_type": "display_data"
    },
    {
     "data": {
      "image/png": "[encoded data removed]",
      "text/plain": [
       "<matplotlib.figure.Figure at 0x10dfc5a10>"
      ]
     },
     "metadata": {},
     "output_type": "display_data"
    },
    {
     "name": "stdout",
     "output_type": "stream",
     "text": [
      "Feature Importances:\n",
      "----------\n",
      "1. student_gpa_8 - (0.603, std: 0.052) \n",
      "2. student_days_absent_8 - (0.334, std: 0.048) \n",
      "3. num_marks_8 - (0.063, std: 0.026) \n",
      "\n"
     ]
    }
   ],
   "source": [
    "d = run_and_output_model_to_s3(training=training, testing=testing, \n",
    "                               features=feature_cols, \n",
    "                               outcome=outcome_col, \n",
    "                               clf=clf, clf_name=clf_name, \n",
    "                               s3_path=s3_path,\n",
    "                     get_feature_importances = True, print_importances = True, get_pr = True, plot_pr = True,\n",
    "                     get_roc = True, plot_roc = True, get_precision_at_top_x = True,\n",
    "                     top_n = [30,50,100,200], top_p = [5,10,20,30,50], print_results = True)"
   ]
  },
  {
   "cell_type": "markdown",
   "metadata": {},
   "source": [
    "### MCPS"
   ]
  },
  {
   "cell_type": "code",
   "execution_count": 20,
   "metadata": {
    "collapsed": false
   },
   "outputs": [],
   "source": [
    "data_path = '/Users/liyan/Dropbox (Personal)/DSSG/DSSG - MCPS/imputedData/'"
   ]
  },
  {
   "cell_type": "code",
   "execution_count": 45,
   "metadata": {
    "collapsed": false
   },
   "outputs": [],
   "source": [
    "mcps_cleaned = pd.read_csv('/Users/liyan/Dropbox (Personal)/DSSG/DSSG - MCPS/MCPS_cleaned.csv', index_col=0, na_values='NA')"
   ]
  },
  {
   "cell_type": "code",
   "execution_count": 46,
   "metadata": {
    "collapsed": false
   },
   "outputs": [
    {
     "data": {
      "text/plain": [
       "(11286, 106)"
      ]
     },
     "execution_count": 46,
     "metadata": {},
     "output_type": "execute_result"
    }
   ],
   "source": [
    "mcps_cleaned.shape"
   ]
  },
  {
   "cell_type": "code",
   "execution_count": 52,
   "metadata": {
    "collapsed": false
   },
   "outputs": [
    {
     "data": {
      "text/html": [
       "<div style=\"max-height:1000px;max-width:1500px;overflow:auto;\">\n",
       "<table border=\"1\" class=\"dataframe\">\n",
       "  <thead>\n",
       "    <tr style=\"text-align: right;\">\n",
       "      <th></th>\n",
       "      <th>pid</th>\n",
       "      <th>ssname1</th>\n",
       "      <th>school1</th>\n",
       "      <th>absrate1</th>\n",
       "      <th>tardyr1</th>\n",
       "      <th>nsusp1</th>\n",
       "      <th>mobility1</th>\n",
       "      <th>q1mpa1</th>\n",
       "      <th>q2mpa1</th>\n",
       "      <th>q3mpa1</th>\n",
       "      <th>...</th>\n",
       "      <th>new6</th>\n",
       "      <th>new7</th>\n",
       "      <th>attend_class</th>\n",
       "      <th>g8_schl</th>\n",
       "      <th>g9_schl</th>\n",
       "      <th>g8_name</th>\n",
       "      <th>g9_name</th>\n",
       "      <th>mpa_ave</th>\n",
       "      <th>nsusp_ave</th>\n",
       "      <th>abs_ave</th>\n",
       "    </tr>\n",
       "    <tr>\n",
       "      <th>X</th>\n",
       "      <th></th>\n",
       "      <th></th>\n",
       "      <th></th>\n",
       "      <th></th>\n",
       "      <th></th>\n",
       "      <th></th>\n",
       "      <th></th>\n",
       "      <th></th>\n",
       "      <th></th>\n",
       "      <th></th>\n",
       "      <th></th>\n",
       "      <th></th>\n",
       "      <th></th>\n",
       "      <th></th>\n",
       "      <th></th>\n",
       "      <th></th>\n",
       "      <th></th>\n",
       "      <th></th>\n",
       "      <th></th>\n",
       "      <th></th>\n",
       "      <th></th>\n",
       "    </tr>\n",
       "  </thead>\n",
       "  <tbody>\n",
       "    <tr>\n",
       "      <th>1</th>\n",
       "      <td> 1</td>\n",
       "      <td> NaN</td>\n",
       "      <td>NaN</td>\n",
       "      <td>NaN</td>\n",
       "      <td>NaN</td>\n",
       "      <td>NaN</td>\n",
       "      <td>NaN</td>\n",
       "      <td>NaN</td>\n",
       "      <td>NaN</td>\n",
       "      <td>NaN</td>\n",
       "      <td>...</td>\n",
       "      <td> 1</td>\n",
       "      <td> 0</td>\n",
       "      <td> 4</td>\n",
       "      <td>NaN</td>\n",
       "      <td> 798</td>\n",
       "      <td> NaN</td>\n",
       "      <td> SPRINGBROOK HS</td>\n",
       "      <td>NaN</td>\n",
       "      <td>NaN</td>\n",
       "      <td>NaN</td>\n",
       "    </tr>\n",
       "    <tr>\n",
       "      <th>2</th>\n",
       "      <td> 2</td>\n",
       "      <td> NaN</td>\n",
       "      <td>NaN</td>\n",
       "      <td>NaN</td>\n",
       "      <td>NaN</td>\n",
       "      <td>NaN</td>\n",
       "      <td>NaN</td>\n",
       "      <td>NaN</td>\n",
       "      <td>NaN</td>\n",
       "      <td>NaN</td>\n",
       "      <td>...</td>\n",
       "      <td> 1</td>\n",
       "      <td> 0</td>\n",
       "      <td> 4</td>\n",
       "      <td>NaN</td>\n",
       "      <td> 757</td>\n",
       "      <td> NaN</td>\n",
       "      <td>       BLAIR HS</td>\n",
       "      <td>NaN</td>\n",
       "      <td>NaN</td>\n",
       "      <td>NaN</td>\n",
       "    </tr>\n",
       "    <tr>\n",
       "      <th>3</th>\n",
       "      <td> 3</td>\n",
       "      <td> NaN</td>\n",
       "      <td>NaN</td>\n",
       "      <td>NaN</td>\n",
       "      <td>NaN</td>\n",
       "      <td>NaN</td>\n",
       "      <td>NaN</td>\n",
       "      <td>NaN</td>\n",
       "      <td>NaN</td>\n",
       "      <td>NaN</td>\n",
       "      <td>...</td>\n",
       "      <td> 1</td>\n",
       "      <td> 0</td>\n",
       "      <td> 4</td>\n",
       "      <td>NaN</td>\n",
       "      <td> 406</td>\n",
       "      <td> NaN</td>\n",
       "      <td>         BCC HS</td>\n",
       "      <td>NaN</td>\n",
       "      <td>NaN</td>\n",
       "      <td>NaN</td>\n",
       "    </tr>\n",
       "    <tr>\n",
       "      <th>4</th>\n",
       "      <td> 4</td>\n",
       "      <td> NaN</td>\n",
       "      <td>NaN</td>\n",
       "      <td>NaN</td>\n",
       "      <td>NaN</td>\n",
       "      <td>NaN</td>\n",
       "      <td>NaN</td>\n",
       "      <td>NaN</td>\n",
       "      <td>NaN</td>\n",
       "      <td>NaN</td>\n",
       "      <td>...</td>\n",
       "      <td> 1</td>\n",
       "      <td> 0</td>\n",
       "      <td> 3</td>\n",
       "      <td>NaN</td>\n",
       "      <td> 406</td>\n",
       "      <td> NaN</td>\n",
       "      <td>         BCC HS</td>\n",
       "      <td>NaN</td>\n",
       "      <td>NaN</td>\n",
       "      <td>NaN</td>\n",
       "    </tr>\n",
       "    <tr>\n",
       "      <th>5</th>\n",
       "      <td> 5</td>\n",
       "      <td> NaN</td>\n",
       "      <td>NaN</td>\n",
       "      <td>NaN</td>\n",
       "      <td>NaN</td>\n",
       "      <td>NaN</td>\n",
       "      <td>NaN</td>\n",
       "      <td>NaN</td>\n",
       "      <td>NaN</td>\n",
       "      <td>NaN</td>\n",
       "      <td>...</td>\n",
       "      <td> 1</td>\n",
       "      <td> 0</td>\n",
       "      <td> 4</td>\n",
       "      <td>NaN</td>\n",
       "      <td> 796</td>\n",
       "      <td> NaN</td>\n",
       "      <td>   NORTHWOOD HS</td>\n",
       "      <td>NaN</td>\n",
       "      <td>NaN</td>\n",
       "      <td>NaN</td>\n",
       "    </tr>\n",
       "  </tbody>\n",
       "</table>\n",
       "<p>5 rows × 106 columns</p>\n",
       "</div>"
      ],
      "text/plain": [
       "   pid ssname1  school1  absrate1  tardyr1  nsusp1  mobility1  q1mpa1  q2mpa1  \\\n",
       "X                                                                               \n",
       "1    1     NaN      NaN       NaN      NaN     NaN        NaN     NaN     NaN   \n",
       "2    2     NaN      NaN       NaN      NaN     NaN        NaN     NaN     NaN   \n",
       "3    3     NaN      NaN       NaN      NaN     NaN        NaN     NaN     NaN   \n",
       "4    4     NaN      NaN       NaN      NaN     NaN        NaN     NaN     NaN   \n",
       "5    5     NaN      NaN       NaN      NaN     NaN        NaN     NaN     NaN   \n",
       "\n",
       "   q3mpa1   ...     new6  new7  attend_class g8_schl  g9_schl  g8_name  \\\n",
       "X           ...                                                          \n",
       "1     NaN   ...        1     0             4     NaN      798      NaN   \n",
       "2     NaN   ...        1     0             4     NaN      757      NaN   \n",
       "3     NaN   ...        1     0             4     NaN      406      NaN   \n",
       "4     NaN   ...        1     0             3     NaN      406      NaN   \n",
       "5     NaN   ...        1     0             4     NaN      796      NaN   \n",
       "\n",
       "          g9_name  mpa_ave  nsusp_ave  abs_ave  \n",
       "X                                               \n",
       "1  SPRINGBROOK HS      NaN        NaN      NaN  \n",
       "2        BLAIR HS      NaN        NaN      NaN  \n",
       "3          BCC HS      NaN        NaN      NaN  \n",
       "4          BCC HS      NaN        NaN      NaN  \n",
       "5    NORTHWOOD HS      NaN        NaN      NaN  \n",
       "\n",
       "[5 rows x 106 columns]"
      ]
     },
     "execution_count": 52,
     "metadata": {},
     "output_type": "execute_result"
    }
   ],
   "source": [
    "mcps_cleaned.head()"
   ]
  },
  {
   "cell_type": "code",
   "execution_count": null,
   "metadata": {
    "collapsed": false
   },
   "outputs": [],
   "source": [
    "training = preprocess_data()\n",
    "testing = preprocess_data()"
   ]
  },
  {
   "cell_type": "code",
   "execution_count": null,
   "metadata": {
    "collapsed": false
   },
   "outputs": [],
   "source": [
    "# Modeling"
   ]
  },
  {
   "cell_type": "code",
   "execution_count": null,
   "metadata": {
    "collapsed": false
   },
   "outputs": [],
   "source": [
    "feature_cols = ['',\n",
    "                '',]\n",
    "outcome_col = ''\n",
    "seed=1"
   ]
  },
  {
   "cell_type": "code",
   "execution_count": null,
   "metadata": {
    "collapsed": false
   },
   "outputs": [],
   "source": [
    "clf_name = 'RF_100_gini'\n",
    "clf = RandomForestClassifier(n_estimators=100, criterion='gini', \n",
    "                             random_state=seed)\n",
    "fitted_clf, predicted_probs = run_model(training=training, testing=testing, \n",
    "          features=feature_cols, clf=clf, clf_name='rf_100',\n",
    "          outcome=outcome_col)"
   ]
  },
  {
   "cell_type": "code",
   "execution_count": null,
   "metadata": {
    "collapsed": false
   },
   "outputs": [],
   "source": [
    "d = run_and_output_model_to_s3(training=training, testing=testing, \n",
    "                               features=feature_cols, \n",
    "                               outcome=outcome_col, \n",
    "                               clf=clf, clf_name=clf_name, \n",
    "                               s3_path=s3_path,\n",
    "                     get_feature_importances = True, print_importances = True, get_pr = True, plot_pr = True,\n",
    "                     get_roc = True, plot_roc = True, get_precision_at_top_x = True,\n",
    "                     top_n = [30,50,100,200], top_p = [5,10,20,30,50], print_results = True)"
   ]
  }
 ],
 "metadata": {
  "kernelspec": {
   "display_name": "Python 2",
   "language": "python",
   "name": "python2"
  },
  "language_info": {
   "codemirror_mode": {
    "name": "ipython",
    "version": 2
   },
   "file_extension": ".py",
   "mimetype": "text/x-python",
   "name": "python",
   "nbconvert_exporter": "python",
   "pygments_lexer": "ipython2",
   "version": "2.7.9"
  }
 },
 "nbformat": 4,
 "nbformat_minor": 0
}
