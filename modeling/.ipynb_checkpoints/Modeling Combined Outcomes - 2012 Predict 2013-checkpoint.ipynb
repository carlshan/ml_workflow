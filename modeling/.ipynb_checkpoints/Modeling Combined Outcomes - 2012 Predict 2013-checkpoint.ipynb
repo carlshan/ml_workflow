{
 "metadata": {
  "name": "",
  "signature": "sha256:8c5ceda5b26c64a7018975d1507847888c9ac9906dd16b9078e819c141942f0f"
 },
 "nbformat": 3,
 "nbformat_minor": 0,
 "worksheets": [
  {
   "cells": [
    {
     "cell_type": "code",
     "collapsed": false,
     "input": [
      "## Last modified: 12/09/2014 by Carl"
     ],
     "language": "python",
     "metadata": {},
     "outputs": [],
     "prompt_number": 1
    },
    {
     "cell_type": "code",
     "collapsed": false,
     "input": [
      "import pandas as pd\n",
      "import classification\n",
      "import matplotlib.pylab as pl\n",
      "import sys\n",
      "sys.path.append('../etl/')\n",
      "import util\n",
      "import diagnostics\n",
      "from pprint import pprint\n",
      "from sklearn import tree\n",
      "from diagnostics import get_feature_importances\n",
      "from sklearn.ensemble import RandomForestClassifier\n",
      "from sklearn import preprocessing, decomposition\n",
      "from sklearn.tree import DecisionTreeClassifier\n",
      "from sklearn.metrics import precision_recall_curve, auc\n",
      "from sklearn.cross_validation import cross_val_score\n",
      "pd.options.display.mpl_style = 'default'"
     ],
     "language": "python",
     "metadata": {},
     "outputs": [],
     "prompt_number": 1
    },
    {
     "cell_type": "code",
     "collapsed": false,
     "input": [
      "data_path = 's3://dsapp-edu-data/NC-Cabarrus/cleaned_data/'\n",
      "data_filename = 'master_10_17_2014.csv'"
     ],
     "language": "python",
     "metadata": {},
     "outputs": [],
     "prompt_number": 2
    },
    {
     "cell_type": "code",
     "collapsed": false,
     "input": [
      "# Setting low_memory=False allows more accurate type inference as python loads\n",
      "# the csv\n",
      "data = pd.read_csv(data_path+data_filename, low_memory=False)"
     ],
     "language": "python",
     "metadata": {},
     "outputs": [],
     "prompt_number": 4
    },
    {
     "cell_type": "code",
     "collapsed": false,
     "input": [
      "data.shape"
     ],
     "language": "python",
     "metadata": {},
     "outputs": [
      {
       "metadata": {},
       "output_type": "pyout",
       "prompt_number": 5,
       "text": [
        "(28604, 248)"
       ]
      }
     ],
     "prompt_number": 5
    },
    {
     "cell_type": "code",
     "collapsed": false,
     "input": [
      "data.head()"
     ],
     "language": "python",
     "metadata": {},
     "outputs": [
      {
       "html": [
        "<div style=\"max-height:1000px;max-width:1500px;overflow:auto;\">\n",
        "<table border=\"1\" class=\"dataframe\">\n",
        "  <thead>\n",
        "    <tr style=\"text-align: right;\">\n",
        "      <th></th>\n",
        "      <th>External_Student_ID</th>\n",
        "      <th>earliest_reporting_year</th>\n",
        "      <th>earliest_recorded_grade</th>\n",
        "      <th>expected_graduating_year</th>\n",
        "      <th>retained</th>\n",
        "      <th>grades_retained</th>\n",
        "      <th>retained_in_8</th>\n",
        "      <th>retained_in_9</th>\n",
        "      <th>retained_in_10</th>\n",
        "      <th>retained_in_11</th>\n",
        "      <th>...</th>\n",
        "      <th>Wcode_dropout</th>\n",
        "      <th>Reason_dropout</th>\n",
        "      <th>retained_in_8_majority_vote</th>\n",
        "      <th>retained_in_9_majority_vote</th>\n",
        "      <th>retained_in_10_majority_vote</th>\n",
        "      <th>retained_in_11_majority_vote</th>\n",
        "      <th>retained_in_12_majority_vote</th>\n",
        "      <th>graduated_on_time_majority_vote</th>\n",
        "      <th>transferred_out_before_graduating</th>\n",
        "      <th>fail_to_finish_high_school_in_4_years</th>\n",
        "    </tr>\n",
        "  </thead>\n",
        "  <tbody>\n",
        "    <tr>\n",
        "      <th>0</th>\n",
        "      <td> 1002</td>\n",
        "      <td> 2011</td>\n",
        "      <td> 8</td>\n",
        "      <td> 2015</td>\n",
        "      <td> 1</td>\n",
        "      <td> ['9']</td>\n",
        "      <td> 0</td>\n",
        "      <td> 1</td>\n",
        "      <td> 0</td>\n",
        "      <td> 0</td>\n",
        "      <td>...</td>\n",
        "      <td>  W2</td>\n",
        "      <td> LTSU</td>\n",
        "      <td> 0</td>\n",
        "      <td> 1</td>\n",
        "      <td> 0</td>\n",
        "      <td> 0</td>\n",
        "      <td> 0</td>\n",
        "      <td> 0</td>\n",
        "      <td> 0</td>\n",
        "      <td> 1</td>\n",
        "    </tr>\n",
        "    <tr>\n",
        "      <th>1</th>\n",
        "      <td> 1003</td>\n",
        "      <td> 2008</td>\n",
        "      <td> 9</td>\n",
        "      <td> 2011</td>\n",
        "      <td> 0</td>\n",
        "      <td>   NaN</td>\n",
        "      <td> 0</td>\n",
        "      <td> 0</td>\n",
        "      <td> 0</td>\n",
        "      <td> 0</td>\n",
        "      <td>...</td>\n",
        "      <td> NaN</td>\n",
        "      <td>  NaN</td>\n",
        "      <td> 0</td>\n",
        "      <td> 0</td>\n",
        "      <td> 0</td>\n",
        "      <td> 0</td>\n",
        "      <td> 0</td>\n",
        "      <td> 1</td>\n",
        "      <td> 0</td>\n",
        "      <td> 0</td>\n",
        "    </tr>\n",
        "    <tr>\n",
        "      <th>2</th>\n",
        "      <td> 1004</td>\n",
        "      <td> 2009</td>\n",
        "      <td> 9</td>\n",
        "      <td> 2012</td>\n",
        "      <td> 1</td>\n",
        "      <td> ['9']</td>\n",
        "      <td> 0</td>\n",
        "      <td> 1</td>\n",
        "      <td> 0</td>\n",
        "      <td> 0</td>\n",
        "      <td>...</td>\n",
        "      <td> NaN</td>\n",
        "      <td>  NaN</td>\n",
        "      <td> 0</td>\n",
        "      <td> 1</td>\n",
        "      <td> 0</td>\n",
        "      <td> 0</td>\n",
        "      <td> 0</td>\n",
        "      <td> 0</td>\n",
        "      <td> 1</td>\n",
        "      <td> 1</td>\n",
        "    </tr>\n",
        "    <tr>\n",
        "      <th>3</th>\n",
        "      <td> 1005</td>\n",
        "      <td> 2008</td>\n",
        "      <td> 9</td>\n",
        "      <td> 2011</td>\n",
        "      <td> 0</td>\n",
        "      <td>   NaN</td>\n",
        "      <td> 0</td>\n",
        "      <td> 0</td>\n",
        "      <td> 0</td>\n",
        "      <td> 0</td>\n",
        "      <td>...</td>\n",
        "      <td> NaN</td>\n",
        "      <td>  NaN</td>\n",
        "      <td> 0</td>\n",
        "      <td> 0</td>\n",
        "      <td> 0</td>\n",
        "      <td> 0</td>\n",
        "      <td> 0</td>\n",
        "      <td> 0</td>\n",
        "      <td> 1</td>\n",
        "      <td> 1</td>\n",
        "    </tr>\n",
        "    <tr>\n",
        "      <th>4</th>\n",
        "      <td> 1006</td>\n",
        "      <td> 2010</td>\n",
        "      <td> 8</td>\n",
        "      <td> 2014</td>\n",
        "      <td> 0</td>\n",
        "      <td>   NaN</td>\n",
        "      <td> 0</td>\n",
        "      <td> 0</td>\n",
        "      <td> 0</td>\n",
        "      <td> 0</td>\n",
        "      <td>...</td>\n",
        "      <td> NaN</td>\n",
        "      <td>  NaN</td>\n",
        "      <td> 0</td>\n",
        "      <td> 0</td>\n",
        "      <td> 0</td>\n",
        "      <td> 0</td>\n",
        "      <td> 0</td>\n",
        "      <td> 1</td>\n",
        "      <td> 0</td>\n",
        "      <td> 0</td>\n",
        "    </tr>\n",
        "  </tbody>\n",
        "</table>\n",
        "<p>5 rows \u00d7 248 columns</p>\n",
        "</div>"
       ],
       "metadata": {},
       "output_type": "pyout",
       "prompt_number": 6,
       "text": [
        "   External_Student_ID  earliest_reporting_year  earliest_recorded_grade  \\\n",
        "0                 1002                     2011                        8   \n",
        "1                 1003                     2008                        9   \n",
        "2                 1004                     2009                        9   \n",
        "3                 1005                     2008                        9   \n",
        "4                 1006                     2010                        8   \n",
        "\n",
        "   expected_graduating_year  retained grades_retained  retained_in_8  \\\n",
        "0                      2015         1           ['9']              0   \n",
        "1                      2011         0             NaN              0   \n",
        "2                      2012         1           ['9']              0   \n",
        "3                      2011         0             NaN              0   \n",
        "4                      2014         0             NaN              0   \n",
        "\n",
        "   retained_in_9  retained_in_10  retained_in_11  \\\n",
        "0              1               0               0   \n",
        "1              0               0               0   \n",
        "2              1               0               0   \n",
        "3              0               0               0   \n",
        "4              0               0               0   \n",
        "\n",
        "                   ...                    Wcode_dropout  Reason_dropout  \\\n",
        "0                  ...                               W2            LTSU   \n",
        "1                  ...                              NaN             NaN   \n",
        "2                  ...                              NaN             NaN   \n",
        "3                  ...                              NaN             NaN   \n",
        "4                  ...                              NaN             NaN   \n",
        "\n",
        "   retained_in_8_majority_vote  retained_in_9_majority_vote  \\\n",
        "0                            0                            1   \n",
        "1                            0                            0   \n",
        "2                            0                            1   \n",
        "3                            0                            0   \n",
        "4                            0                            0   \n",
        "\n",
        "   retained_in_10_majority_vote  retained_in_11_majority_vote  \\\n",
        "0                             0                             0   \n",
        "1                             0                             0   \n",
        "2                             0                             0   \n",
        "3                             0                             0   \n",
        "4                             0                             0   \n",
        "\n",
        "  retained_in_12_majority_vote  graduated_on_time_majority_vote  \\\n",
        "0                            0                                0   \n",
        "1                            0                                1   \n",
        "2                            0                                0   \n",
        "3                            0                                0   \n",
        "4                            0                                1   \n",
        "\n",
        "   transferred_out_before_graduating  fail_to_finish_high_school_in_4_years  \n",
        "0                                  0                                      1  \n",
        "1                                  0                                      0  \n",
        "2                                  1                                      1  \n",
        "3                                  1                                      1  \n",
        "4                                  0                                      0  \n",
        "\n",
        "[5 rows x 248 columns]"
       ]
      }
     ],
     "prompt_number": 6
    },
    {
     "cell_type": "code",
     "collapsed": false,
     "input": [
      "dropout_data = pd.read_csv(data_path + 'Dropout_Data_0708_1213_20141001_clean_2014_10_1.txt')"
     ],
     "language": "python",
     "metadata": {},
     "outputs": [],
     "prompt_number": 7
    },
    {
     "cell_type": "code",
     "collapsed": false,
     "input": [
      "dropout_data.shape"
     ],
     "language": "python",
     "metadata": {},
     "outputs": [
      {
       "metadata": {},
       "output_type": "pyout",
       "prompt_number": 8,
       "text": [
        "(1943, 10)"
       ]
      }
     ],
     "prompt_number": 8
    },
    {
     "cell_type": "code",
     "collapsed": false,
     "input": [
      "include_cols = [\n",
      " 'External_Student_ID',\n",
      " 'Grade_8th_grade',\n",
      " 'STATE_12th_grade',\n",
      " 'STATE_11th_grade',\n",
      " 'eds_8th_grade',\n",
      " 'GPA_Math_11th_grade',\n",
      " 'GPA_Math_12th_grade',\n",
      " 'GPA_Math_9th_grade',\n",
      " 'GPA_Math_10th_grade',\n",
      " 'swd_8th_grade',\n",
      " 'Street_8th_grade',\n",
      " 'CITY_10th_grade',\n",
      " 'NumAdvanced_8th_grade',\n",
      " 'CITY_9th_grade',\n",
      " 'STATE_10th_grade',\n",
      "#  'grade_11th_grade',\n",
      " 'STATE_9th_grade',\n",
      " 'lep_8th_grade',\n",
      " 'GPA_SocSci_9th_grade',\n",
      "#  'Grade_11th_grade',\n",
      " 'GPA_SocSci_10th_grade',\n",
      " 'reporting_year_8th_grade',\n",
      " 'Street_11th_grade',\n",
      " 'Street_12th_grade',\n",
      " 'GPA_Science_8th_grade',\n",
      " 'sex_11th_grade',\n",
      " 'GPA_Science_12th_grade',\n",
      " 'sex_9th_grade',\n",
      " 'sex_10th_grade',\n",
      " 'Num_Marks_8th_grade',\n",
      " 'daysabs_10th_grade',\n",
      " 'daysabs_9th_grade',\n",
      " 'NumAdvanced_SocSci_8th_grade',\n",
      " 'times_tardy_8th_grade',\n",
      " 'lep_11th_grade',\n",
      " 'lep_10th_grade',\n",
      " 'lep_9th_grade',\n",
      " 'sex_8th_grade',\n",
      " 'Street_9th_grade',\n",
      " 'Street_10th_grade',\n",
      " 'Grade_12th_grade',\n",
      "#  'Grade_10th_grade',\n",
      " 'Grade_9th_grade',\n",
      " 'GPA_Science_10th_grade',\n",
      " 'GPA_Science_9th_grade',\n",
      " 'GPA_Science_11th_grade',\n",
      " 'GPA_9th_grade',\n",
      " 'GPA_10th_grade',\n",
      " 'GPA_11th_grade',\n",
      " 'GPA_12th_grade',\n",
      " 'NumAdvanced_SocSci_11th_grade',\n",
      " 'Num_Science_8th_grade',\n",
      " 'NumAdvanced_SocSci_9th_grade',\n",
      " 'NumAdvanced_SocSci_10th_grade',\n",
      " 'GPA_SocSci_8th_grade',\n",
      " 'reporting_year_10th_grade',\n",
      " 'reporting_year_9th_grade',\n",
      " 'CITY_8th_grade',\n",
      " 'eds_10th_grade',\n",
      " 'eds_11th_grade',\n",
      " 'grade_8th_grade',\n",
      " 'Num_SocSci_8th_grade',\n",
      " 'GPA_ENG_8th_grade',\n",
      " 'Num_Marks_10th_grade',\n",
      " 'Num_Marks_9th_grade',\n",
      " 'Num_Marks_12th_grade',\n",
      " 'Num_Marks_11th_grade',\n",
      " 'NumAdvanced_Science_8th_grade',\n",
      " 'Num_Science_12th_grade',\n",
      " 'Num_Science_11th_grade',\n",
      " 'Num_Science_10th_grade',\n",
      " 'Num_Science_9th_grade',\n",
      " 'GPA_SocSci_11th_grade',\n",
      " 'GPA_SocSci_12th_grade',\n",
      " 'GPA_8th_grade',\n",
      " 'NumAdvanced_ENG_8th_grade',\n",
      " 'reporting_year_11th_grade',\n",
      "#  'grade_10th_grade',\n",
      "#  'grade_9th_grade',\n",
      " 'exc_abs_8th_grade',\n",
      " 'daysabs_8th_grade',\n",
      " 'Num_ENG_8th_grade',\n",
      " 'Num_SocSci_9th_grade',\n",
      " 'Num_SocSci_10th_grade',\n",
      " 'Num_SocSci_11th_grade',\n",
      " 'Num_SocSci_12th_grade',\n",
      " 'GPA_ENG_12th_grade',\n",
      " 'GPA_ENG_11th_grade',\n",
      " 'GPA_ENG_10th_grade',\n",
      " 'GPA_ENG_9th_grade',\n",
      " 'ZIP_8th_grade',\n",
      " 'NumAdvanced_Science_10th_grade',\n",
      " 'NumAdvanced_Science_12th_grade',\n",
      " 'NumAdvanced_Science_11th_grade',\n",
      " 'times_tardy_11th_grade',\n",
      " 'times_tardy_10th_grade',\n",
      " 'times_tardy_9th_grade',\n",
      " 'NumAdvanced_ENG_12th_grade',\n",
      " 'NumAdvanced_ENG_11th_grade',\n",
      " 'NumAdvanced_ENG_10th_grade',\n",
      " 'NumAdvanced_ENG_9th_grade',\n",
      " 'ZIP_12th_grade',\n",
      " 'ethnic_8th_grade',\n",
      " 'CITY_11th_grade',\n",
      " 'CITY_12th_grade',\n",
      " 'Num_ENG_10th_grade',\n",
      " 'Num_ENG_9th_grade',\n",
      " 'Num_ENG_12th_grade',\n",
      " 'Num_ENG_11th_grade',\n",
      " 'daysabs_11th_grade',\n",
      " 'Num_Math_8th_grade',\n",
      " 'eds_9th_grade',\n",
      " 'unexc_abs_9th_grade',\n",
      " 'unexc_abs_10th_grade',\n",
      " 'unexc_abs_11th_grade',\n",
      " 'ZIP_10th_grade',\n",
      " 'ZIP_9th_grade',\n",
      " 'ZIP_11th_grade',\n",
      " 'NumAdvanced_Math_11th_grade',\n",
      " 'NumAdvanced_Math_12th_grade',\n",
      " 'NumAdvanced_Math_9th_grade',\n",
      " 'NumAdvanced_Math_10th_grade',\n",
      " 'NumAdvanced_SocSci_12th_grade',\n",
      " 'Num_Math_9th_grade',\n",
      " 'Num_Math_10th_grade',\n",
      " 'Num_Math_11th_grade',\n",
      " 'Num_Math_12th_grade',\n",
      " 'school_code_11th_grade',\n",
      " 'school_code_9th_grade',\n",
      " 'ethnic_11th_grade',\n",
      " 'ethnic_9th_grade',\n",
      " 'ethnic_10th_grade',\n",
      " 'exc_abs_9th_grade',\n",
      " 'unexc_abs_8th_grade',\n",
      " 'STATE_8th_grade',\n",
      " 'NumAdvanced_Math_8th_grade',\n",
      " 'exc_abs_11th_grade',\n",
      " 'exc_abs_10th_grade',\n",
      " 'NumAdvanced_Science_9th_grade',\n",
      " 'school_code_10th_grade',\n",
      " 'GPA_Math_8th_grade',\n",
      " 'swd_9th_grade',\n",
      " 'swd_10th_grade',\n",
      " 'swd_11th_grade',\n",
      " 'school_code_8th_grade',\n",
      " 'NumAdvanced_9th_grade',\n",
      " 'NumAdvanced_10th_grade',\n",
      " 'NumAdvanced_11th_grade',\n",
      " 'NumAdvanced_12th_grade',\n",
      " 'earliest_reporting_year_majority_vote',\n",
      " 'earliest_recorded_grade_majority_vote',\n",
      " 'retained_in_8_majority_vote',\n",
      " 'retained_in_9_majority_vote',\n",
      " 'retained_in_10_majority_vote',\n",
      " 'retained_in_11_majority_vote',\n",
      " 'retained_in_12_majority_vote',\n",
      " 'expected_graduation_year_majority_vote',\n",
      " 'Grade_dropout',\n",
      " 'dropout_outcome',\n",
      " 'fail_to_finish_high_school_in_4_years',\n",
      " 'transferred_out_before_graduating',]"
     ],
     "language": "python",
     "metadata": {},
     "outputs": [],
     "prompt_number": 9
    },
    {
     "cell_type": "code",
     "collapsed": false,
     "input": [
      "cohort_a = data[data['expected_graduation_year_majority_vote'] == 2012]\n",
      "cohort_b = data[data['expected_graduation_year_majority_vote'] == 2013]\n",
      "cohort_c = data[data['expected_graduation_year_majority_vote'] == 2014]"
     ],
     "language": "python",
     "metadata": {},
     "outputs": [],
     "prompt_number": 10
    },
    {
     "cell_type": "code",
     "collapsed": false,
     "input": [
      "print cohort_a.shape[0], sum(cohort_a['dropout_outcome'])\n",
      "print cohort_b.shape[0], sum(cohort_b['dropout_outcome'])\n",
      "print cohort_c.shape[0], sum(cohort_c['dropout_outcome'])"
     ],
     "language": "python",
     "metadata": {},
     "outputs": [
      {
       "output_type": "stream",
       "stream": "stdout",
       "text": [
        "2866 224\n",
        "2917 198\n",
        "2903 116\n"
       ]
      }
     ],
     "prompt_number": 11
    },
    {
     "cell_type": "code",
     "collapsed": false,
     "input": [
      "renamed_a = cohort_a.rename(columns=\n",
      "                            util.make_rename_col_dict(cohort_a.columns, 2012))[include_cols]\n",
      "renamed_b = cohort_b.rename(columns=\n",
      "                            util.make_rename_col_dict(cohort_b.columns, 2013))[include_cols]\n",
      "renamed_c = cohort_c.rename(columns=\n",
      "                            util.make_rename_col_dict(cohort_c.columns, 2014))[include_cols]"
     ],
     "language": "python",
     "metadata": {},
     "outputs": [],
     "prompt_number": 15
    },
    {
     "cell_type": "code",
     "collapsed": false,
     "input": [
      "# Roughly 8% of 9th grade students in the class of 2012 drop out of\n",
      "# high school.\n",
      "renamed_a[(renamed_a['GPA_9th_grade'].notnull()) &\n",
      "          (renamed_a['daysabs_9th_grade'].notnull()) &\n",
      "          (renamed_a['transferred_out_before_graduating'] == 0)]['dropout_outcome'].value_counts(normalize=True)"
     ],
     "language": "python",
     "metadata": {},
     "outputs": [
      {
       "metadata": {},
       "output_type": "pyout",
       "prompt_number": 24,
       "text": [
        "0    0.91974\n",
        "1    0.08026\n",
        "dtype: float64"
       ]
      }
     ],
     "prompt_number": 24
    },
    {
     "cell_type": "code",
     "collapsed": false,
     "input": [
      "# Roughly 10.9% of 9th grade students in the class of 2012 drop out of\n",
      "# high school.\n",
      "renamed_a[(renamed_a['GPA_9th_grade'].notnull())&\n",
      "          (renamed_a['daysabs_9th_grade'].notnull())&\n",
      "          (renamed_a['transferred_out_before_graduating'] == 0)]['fail_to_finish_high_school_in_4_years'].value_counts(normalize=True)"
     ],
     "language": "python",
     "metadata": {},
     "outputs": [
      {
       "metadata": {},
       "output_type": "pyout",
       "prompt_number": 25,
       "text": [
        "0    0.890998\n",
        "1    0.109002\n",
        "dtype: float64"
       ]
      }
     ],
     "prompt_number": 25
    },
    {
     "cell_type": "code",
     "collapsed": false,
     "input": [
      "# Roughly 6.5% of 9th grade students in the class of 2013 drop out of\n",
      "# high school.\n",
      "renamed_b[(renamed_b['GPA_9th_grade'].notnull())&\n",
      "          (renamed_b['daysabs_9th_grade'].notnull())&\n",
      "          (renamed_b['transferred_out_before_graduating'] == 0)]['dropout_outcome'].value_counts(normalize=True)"
     ],
     "language": "python",
     "metadata": {},
     "outputs": [
      {
       "metadata": {},
       "output_type": "pyout",
       "prompt_number": 26,
       "text": [
        "0    0.934252\n",
        "1    0.065748\n",
        "dtype: float64"
       ]
      }
     ],
     "prompt_number": 26
    },
    {
     "cell_type": "code",
     "collapsed": false,
     "input": [
      "# Roughly 10.3% of 9th grade students in the class of 2013 drop out of\n",
      "# high school.\n",
      "renamed_b[(renamed_b['GPA_9th_grade'].notnull()) &\n",
      "          (renamed_b['daysabs_9th_grade'].notnull())&\n",
      "          (renamed_b['transferred_out_before_graduating'] == 0)]['fail_to_finish_high_school_in_4_years'].value_counts(normalize=True)"
     ],
     "language": "python",
     "metadata": {},
     "outputs": [
      {
       "metadata": {},
       "output_type": "pyout",
       "prompt_number": 27,
       "text": [
        "0    0.896607\n",
        "1    0.103393\n",
        "dtype: float64"
       ]
      }
     ],
     "prompt_number": 27
    },
    {
     "cell_type": "markdown",
     "metadata": {},
     "source": [
      "# Modeling 2013 using 2012"
     ]
    },
    {
     "cell_type": "code",
     "collapsed": false,
     "input": [
      "outcome_col = 'fail_to_finish_high_school_in_4_years'\n",
      "feature_cols = [\n",
      "#  'External_Student_ID',\n",
      "#  'earliest_reporting_year_majority_vote',\n",
      " 'retained_in_8_majority_vote',\n",
      "#  'retained_in_9_majority_vote',\n",
      "#  'retained_in_10_majority_vote',\n",
      "#  'retained_in_11_majority_vote',\n",
      "#  'expected_graduation_year_majority_vote',\n",
      "#  'dropout_outcome',\n",
      "#  'Grade_8th_grade',\n",
      " 'eds_8th_grade',\n",
      " 'swd_8th_grade',\n",
      "#  'Street_8th_grade',\n",
      " 'NumAdvanced_8th_grade',\n",
      " 'lep_8th_grade',\n",
      " 'reporting_year_8th_grade',\n",
      " 'GPA_Science_8th_grade',\n",
      " 'Num_Marks_8th_grade',\n",
      " 'NumAdvanced_SocSci_8th_grade',\n",
      " 'times_tardy_8th_grade',\n",
      " 'sex_8th_grade',\n",
      " 'Num_Science_8th_grade',\n",
      " 'GPA_SocSci_8th_grade',\n",
      " 'CITY_8th_grade',\n",
      "#  'grade_8th_grade',\n",
      " 'Num_SocSci_8th_grade',\n",
      " 'GPA_ENG_8th_grade',\n",
      " 'NumAdvanced_Science_8th_grade',\n",
      " 'GPA_8th_grade',\n",
      " 'NumAdvanced_ENG_8th_grade',\n",
      " 'exc_abs_8th_grade',\n",
      " 'daysabs_8th_grade',\n",
      " 'Num_ENG_8th_grade',\n",
      " 'ZIP_8th_grade',\n",
      " 'ethnic_8th_grade',\n",
      " 'Num_Math_8th_grade',\n",
      " 'unexc_abs_8th_grade',\n",
      " 'STATE_8th_grade',\n",
      " 'NumAdvanced_Math_8th_grade',\n",
      " 'GPA_Math_8th_grade',\n",
      " 'school_code_8th_grade',\n",
      "#  'GPA_Math_9th_grade',\n",
      "#  'CITY_9th_grade',\n",
      "#  'STATE_9th_grade',\n",
      "#  'GPA_SocSci_9th_grade',\n",
      "#  'sex_9th_grade',\n",
      "#  'daysabs_9th_grade',\n",
      "#  'lep_9th_grade',\n",
      "#  'Street_9th_grade',\n",
      "#  'Grade_9th_grade',\n",
      "#  'GPA_Science_9th_grade',\n",
      "#  'GPA_9th_grade',\n",
      "#  'NumAdvanced_SocSci_9th_grade',\n",
      "#  'reporting_year_9th_grade',\n",
      "#  'Num_Marks_9th_grade',\n",
      "#  'Num_Science_9th_grade',\n",
      "#  'grade_9th_grade',\n",
      "#  'Num_SocSci_9th_grade',\n",
      "#  'GPA_ENG_9th_grade',\n",
      "#  'times_tardy_9th_grade',\n",
      "#  'NumAdvanced_ENG_9th_grade',\n",
      "#  'Num_ENG_9th_grade',\n",
      "#  'eds_9th_grade',\n",
      "#  'unexc_abs_9th_grade',\n",
      "#  'ZIP_9th_grade',\n",
      "#  'NumAdvanced_Math_9th_grade',\n",
      "#  'Num_Math_9th_grade',\n",
      "#  'school_code_9th_grade',\n",
      "#  'ethnic_9th_grade',\n",
      "#  'exc_abs_9th_grade',\n",
      "#  'NumAdvanced_Science_9th_grade',\n",
      "#  'swd_9th_grade',\n",
      "#  'NumAdvanced_9th_grade',\n",
      "#  'GPA_Math_10th_grade',\n",
      "#  'CITY_10th_grade',\n",
      "#  'STATE_10th_grade',\n",
      "#  'GPA_SocSci_10th_grade',\n",
      "#  'sex_10th_grade',\n",
      "#  'daysabs_10th_grade',\n",
      "#  'lep_10th_grade',\n",
      "#  'Street_10th_grade',\n",
      "#  'Grade_10th_grade',\n",
      "#  'GPA_Science_10th_grade',\n",
      "#  'GPA_10th_grade',\n",
      "#  'NumAdvanced_SocSci_10th_grade',\n",
      "#  'reporting_year_10th_grade',\n",
      "#  'eds_10th_grade',\n",
      "#  'Num_Marks_10th_grade',\n",
      "#  'Num_Science_10th_grade',\n",
      "#  'grade_10th_grade',\n",
      "#  'Num_SocSci_10th_grade',\n",
      "#  'GPA_ENG_10th_grade',\n",
      "#  'NumAdvanced_Science_10th_grade',\n",
      "#  'times_tardy_10th_grade',\n",
      "#  'NumAdvanced_ENG_10th_grade',\n",
      "#  'Num_ENG_10th_grade',\n",
      "#  'unexc_abs_10th_grade',\n",
      "#  'ZIP_10th_grade',\n",
      "#  'NumAdvanced_Math_10th_grade',\n",
      "#  'Num_Math_10th_grade',\n",
      "#  'ethnic_10th_grade',\n",
      "#  'exc_abs_10th_grade',\n",
      "#  'school_code_10th_grade',\n",
      "#  'swd_10th_grade',\n",
      "#  'NumAdvanced_10th_grade',\n",
      "#  'STATE_11th_grade',\n",
      "#  'GPA_Math_11th_grade',\n",
      "#  'grade_11th_grade',\n",
      "#  'Grade_11th_grade',\n",
      "#  'Street_11th_grade',\n",
      "#  'sex_11th_grade',\n",
      "#  'lep_11th_grade',\n",
      "#  'GPA_Science_11th_grade',\n",
      "#  'GPA_11th_grade',\n",
      "#  'NumAdvanced_SocSci_11th_grade',\n",
      "#  'eds_11th_grade',\n",
      "#  'Num_Marks_11th_grade',\n",
      "#  'Num_Science_11th_grade',\n",
      "#  'GPA_SocSci_11th_grade',\n",
      "#  'reporting_year_11th_grade',\n",
      "#  'Num_SocSci_11th_grade',\n",
      "#  'GPA_ENG_11th_grade',\n",
      "#  'NumAdvanced_Science_11th_grade',\n",
      "#  'times_tardy_11th_grade',\n",
      "#  'NumAdvanced_ENG_11th_grade',\n",
      "#  'CITY_11th_grade',\n",
      "#  'Num_ENG_11th_grade',\n",
      "#  'daysabs_11th_grade',\n",
      "#  'unexc_abs_11th_grade',\n",
      "#  'ZIP_11th_grade',\n",
      "#  'NumAdvanced_Math_11th_grade',\n",
      "#  'Num_Math_11th_grade',\n",
      "#  'school_code_11th_grade',\n",
      "#  'ethnic_11th_grade',\n",
      "#  'exc_abs_11th_grade',\n",
      "#  'swd_11th_grade',\n",
      "#  'NumAdvanced_11th_grade',\n",
      "]"
     ],
     "language": "python",
     "metadata": {},
     "outputs": [],
     "prompt_number": 28
    },
    {
     "cell_type": "code",
     "collapsed": false,
     "input": [
      "# Abstracted from model/classification.py \n",
      "def preprocess(dataSet, dependentVar, doFeatureSelection=True, doPCA=False, nComponents=10):\n",
      "        \"\"\" Data pre-processing constructor.\n",
      "\n",
      "        Constructor to pre-process pandas DataFrames, extracting and encoding the outcome\n",
      "        labels (class), dropping them from the dataset and converting categorical variables\n",
      "        into integer numbers for compatibility with scikit-learn.\n",
      "\n",
      "        Parameters\n",
      "        ----------\n",
      "        dataSet : pd.DataFrame\n",
      "            The entire dataset as loaded and parsed in the main program\n",
      "        dependentVar : string\n",
      "            A string denoting the column to be used as the class\n",
      "        doFeatureSelection : bool\n",
      "            A flag to denote whether or not to perform feature selection\n",
      "        doPCA : bool\n",
      "            A flag to denote whether or not to perform principle component analysis\n",
      "        nComponents : int\n",
      "            The desired number of principle components\n",
      "\n",
      "        \"\"\"\n",
      "        # Encode nominal features to conform with sklearn\n",
      "        for i,tp in enumerate(dataSet.dtypes):\n",
      "            if tp == 'object':\n",
      "                unique_vals, dataSet.ix[:,i]  = np.unique(dataSet.ix[:,i] , return_inverse=True)\n",
      "\n",
      "        # Set the dependent variable (y) to the appropriate column\n",
      "        y = dataSet.loc[:,dependentVar]\n",
      "\n",
      "        # Transform that information to a format that scikit-learn understands\n",
      "        # This may be redundant at times\n",
      "        labels = preprocessing.LabelEncoder().fit_transform(y)\n",
      "\n",
      "        # Remove the dependent variable from training sets\n",
      "        X = dataSet.drop(dependentVar,1).values\n",
      "\n",
      "        # Perform entropy-based feature selection\n",
      "        if doFeatureSelection:\n",
      "            print 'Performing Feature Selection:'\n",
      "            print 'Shape of dataset before feature selection: ' + str(X.shape)\n",
      "            clf = DecisionTreeClassifier(criterion='entropy')\n",
      "            X = clf.fit(X, y).transform(X)\n",
      "            print 'Shape of dataset after feature selection: ' + str(X.shape) + '\\n'\n",
      "\n",
      "        # Normalize values\n",
      "        X = preprocessing.StandardScaler().fit(X).transform(X)\n",
      "\n",
      "        # Collapse features using principal component analysis\n",
      "        if doPCA:\n",
      "            print 'Performing PCA'\n",
      "            estimator = decomposition.PCA(n_components=nComponents)\n",
      "            X = estimator.fit_transform(X)\n",
      "            print 'Shape of dataset after PCA: ' + str(X.shape) + '\\n'\n",
      "\n",
      "        # Save processed dataset, labels and student ids\n",
      "        \n",
      "        return (X, labels)"
     ],
     "language": "python",
     "metadata": {},
     "outputs": [],
     "prompt_number": 29
    },
    {
     "cell_type": "code",
     "collapsed": false,
     "input": [
      "clf = RandomForestClassifier(n_estimators=100, criterion='entropy')"
     ],
     "language": "python",
     "metadata": {},
     "outputs": [],
     "prompt_number": 30
    },
    {
     "cell_type": "code",
     "collapsed": false,
     "input": [
      "# Making training data\n",
      "# Exclude students who transferred into Cabarrus after 8th grade\n",
      "# Also exclude students who transferred out and we therefore don't have \n",
      "# outcome labels for\n",
      "model_data = renamed_a[(renamed_a['daysabs_8th_grade'].notnull())\n",
      "                       & renamed_a['GPA_8th_grade'].notnull()\n",
      "                       & (renamed_a['transferred_out_before_graduating'] == 0)][feature_cols + [outcome_col]]\n",
      "y_labels = model_data[outcome_col]"
     ],
     "language": "python",
     "metadata": {},
     "outputs": [],
     "prompt_number": 31
    },
    {
     "cell_type": "code",
     "collapsed": false,
     "input": [
      "model_data[outcome_col].value_counts(normalize=True)"
     ],
     "language": "python",
     "metadata": {},
     "outputs": [
      {
       "metadata": {},
       "output_type": "pyout",
       "prompt_number": 32,
       "text": [
        "0    0.88446\n",
        "1    0.11554\n",
        "dtype: float64"
       ]
      }
     ],
     "prompt_number": 32
    },
    {
     "cell_type": "code",
     "collapsed": false,
     "input": [
      "model_data.fillna(-1, inplace=True)"
     ],
     "language": "python",
     "metadata": {},
     "outputs": [],
     "prompt_number": 33
    },
    {
     "cell_type": "code",
     "collapsed": false,
     "input": [
      "X, y = preprocess(model_data, outcome_col, doFeatureSelection=False)"
     ],
     "language": "python",
     "metadata": {},
     "outputs": [],
     "prompt_number": 34
    },
    {
     "cell_type": "code",
     "collapsed": false,
     "input": [
      "fitted_clf = clf.fit(X, y)"
     ],
     "language": "python",
     "metadata": {},
     "outputs": [],
     "prompt_number": 35
    },
    {
     "cell_type": "code",
     "collapsed": false,
     "input": [
      "# Looking at in-sample precision\n",
      "scores = cross_val_score(clf, X, y, cv=10, scoring='precision', verbose=1)"
     ],
     "language": "python",
     "metadata": {},
     "outputs": [
      {
       "output_type": "stream",
       "stream": "stderr",
       "text": [
        "[Parallel(n_jobs=1)]: Done   1 jobs       | elapsed:    0.3s\n",
        "[Parallel(n_jobs=1)]: Done  10 out of  10 | elapsed:    2.5s finished\n"
       ]
      }
     ],
     "prompt_number": 36
    },
    {
     "cell_type": "code",
     "collapsed": false,
     "input": [
      "# The idea is that this should be hopefully similar (or possibly slightly higher)\n",
      "# than the testing cohort\n",
      "scores.mean()"
     ],
     "language": "python",
     "metadata": {},
     "outputs": [
      {
       "metadata": {},
       "output_type": "pyout",
       "prompt_number": 37,
       "text": [
        "0.65252572719677981"
       ]
      }
     ],
     "prompt_number": 37
    },
    {
     "cell_type": "code",
     "collapsed": false,
     "input": [
      "# Excluding students who have already dropped out by the grade we're using\n",
      "# data to predict up to.\n",
      "# Also exclude students who transferred into Cabarrus after the relevant grade\n",
      "# Also exclude students who will transfer out, as predictions on them are \n",
      "# moot given we cannot know their true outcome.\n",
      "\n",
      "# Note: There are no students who are recorded as having dropped out in 8th grade, \n",
      "exclude_grades = [8] \n",
      "testing_data = renamed_b[~renamed_b['Grade_dropout'].isin(exclude_grades)\n",
      "                              & (renamed_b['daysabs_8th_grade'].notnull())\n",
      "                              & renamed_b['GPA_8th_grade'].notnull()\n",
      "                              & (renamed_b['transferred_out_before_graduating'] == 0)]\n",
      "testing_data = testing_data[feature_cols + [outcome_col]]"
     ],
     "language": "python",
     "metadata": {},
     "outputs": [],
     "prompt_number": 65
    },
    {
     "cell_type": "code",
     "collapsed": false,
     "input": [
      "testing_data[outcome_col].value_counts(normalize=True)"
     ],
     "language": "python",
     "metadata": {},
     "outputs": [
      {
       "metadata": {},
       "output_type": "pyout",
       "prompt_number": 81,
       "text": [
        "0    0.890334\n",
        "1    0.109666\n",
        "dtype: float64"
       ]
      }
     ],
     "prompt_number": 81
    },
    {
     "cell_type": "code",
     "collapsed": false,
     "input": [
      "testing_data.fillna(-1, inplace=True)"
     ],
     "language": "python",
     "metadata": {},
     "outputs": [],
     "prompt_number": 67
    },
    {
     "cell_type": "code",
     "collapsed": false,
     "input": [
      "testing_X, testing_y = preprocess(testing_data, \n",
      "                                  outcome_col, \n",
      "                                  doFeatureSelection=False)"
     ],
     "language": "python",
     "metadata": {},
     "outputs": [],
     "prompt_number": 68
    },
    {
     "cell_type": "code",
     "collapsed": false,
     "input": [
      "predicted_probs = fitted_clf.predict_proba(testing_X)"
     ],
     "language": "python",
     "metadata": {},
     "outputs": [],
     "prompt_number": 72
    },
    {
     "cell_type": "code",
     "collapsed": false,
     "input": [
      "# getting probability of predicting dropout\n",
      "predicted_probs = [p[1] for p in predicted_probs]"
     ],
     "language": "python",
     "metadata": {},
     "outputs": [],
     "prompt_number": 73
    },
    {
     "cell_type": "code",
     "collapsed": false,
     "input": [
      "precision, recall, thresholds = precision_recall_curve(testing_y, predicted_probs)"
     ],
     "language": "python",
     "metadata": {},
     "outputs": [],
     "prompt_number": 74
    },
    {
     "cell_type": "code",
     "collapsed": false,
     "input": [
      "pr_auc = auc(recall, precision)"
     ],
     "language": "python",
     "metadata": {},
     "outputs": [],
     "prompt_number": 75
    },
    {
     "cell_type": "code",
     "collapsed": false,
     "input": [
      "pl.plot(recall, precision, color = 'b', label='Precision-Recall curve (area = %0.2f)' % pr_auc)\n",
      "pl.xlim([-0.05, 1.05])\n",
      "pl.ylim([-0.05, 1.05])\n",
      "pl.xlabel('Recall')\n",
      "pl.ylabel('Precision')\n",
      "pl.title('RF Precision-Recall')\n",
      "pl.legend(loc=\"best\")\n",
      "pl.show()"
     ],
     "language": "python",
     "metadata": {},
     "outputs": [
      {
       "metadata": {},
       "output_type": "display_data",
       "png": "[encoded data removed]",
       "text": [
        "<matplotlib.figure.Figure at 0x10b8a38d0>"
       ]
      }
     ],
     "prompt_number": 76
    },
    {
     "cell_type": "code",
     "collapsed": false,
     "input": [
      "testing_data['rf_predicted_probs'] = predicted_probs"
     ],
     "language": "python",
     "metadata": {},
     "outputs": [],
     "prompt_number": 77
    },
    {
     "cell_type": "code",
     "collapsed": false,
     "input": [
      "testing_data.sort(columns=['rf_predicted_probs'], \n",
      "              ascending=False, inplace=True)"
     ],
     "language": "python",
     "metadata": {},
     "outputs": [],
     "prompt_number": 78
    },
    {
     "cell_type": "code",
     "collapsed": false,
     "input": [
      "# Making a list to just look at the top and bottom ranked students\n",
      "examine_cols = ['GPA_8th_grade', \n",
      "                'daysabs_8th_grade',\n",
      "                'sex_8th_grade', \n",
      "                'ethnic_8th_grade', \n",
      "                'fail_to_finish_high_school_in_4_years',\n",
      "                'retained_in_8_majority_vote',]"
     ],
     "language": "python",
     "metadata": {},
     "outputs": [],
     "prompt_number": 82
    },
    {
     "cell_type": "code",
     "collapsed": false,
     "input": [
      "testing_data.head(20)[examine_cols]"
     ],
     "language": "python",
     "metadata": {},
     "outputs": [
      {
       "html": [
        "<div style=\"max-height:1000px;max-width:1500px;overflow:auto;\">\n",
        "<table border=\"1\" class=\"dataframe\">\n",
        "  <thead>\n",
        "    <tr style=\"text-align: right;\">\n",
        "      <th></th>\n",
        "      <th>GPA_8th_grade</th>\n",
        "      <th>daysabs_8th_grade</th>\n",
        "      <th>sex_8th_grade</th>\n",
        "      <th>ethnic_8th_grade</th>\n",
        "      <th>fail_to_finish_high_school_in_4_years</th>\n",
        "      <th>retained_in_8_majority_vote</th>\n",
        "    </tr>\n",
        "  </thead>\n",
        "  <tbody>\n",
        "    <tr>\n",
        "      <th>691  </th>\n",
        "      <td> 68.83</td>\n",
        "      <td> 74</td>\n",
        "      <td> 0</td>\n",
        "      <td> 5</td>\n",
        "      <td> 1</td>\n",
        "      <td> 0</td>\n",
        "    </tr>\n",
        "    <tr>\n",
        "      <th>5013 </th>\n",
        "      <td> 51.25</td>\n",
        "      <td> 56</td>\n",
        "      <td> 0</td>\n",
        "      <td> 5</td>\n",
        "      <td> 1</td>\n",
        "      <td> 0</td>\n",
        "    </tr>\n",
        "    <tr>\n",
        "      <th>14412</th>\n",
        "      <td> 61.57</td>\n",
        "      <td> 32</td>\n",
        "      <td> 1</td>\n",
        "      <td> 5</td>\n",
        "      <td> 1</td>\n",
        "      <td> 0</td>\n",
        "    </tr>\n",
        "    <tr>\n",
        "      <th>6871 </th>\n",
        "      <td> 73.14</td>\n",
        "      <td> 37</td>\n",
        "      <td> 0</td>\n",
        "      <td> 5</td>\n",
        "      <td> 0</td>\n",
        "      <td> 0</td>\n",
        "    </tr>\n",
        "    <tr>\n",
        "      <th>14291</th>\n",
        "      <td> 63.33</td>\n",
        "      <td> 17</td>\n",
        "      <td> 0</td>\n",
        "      <td> 5</td>\n",
        "      <td> 1</td>\n",
        "      <td> 1</td>\n",
        "    </tr>\n",
        "    <tr>\n",
        "      <th>8265 </th>\n",
        "      <td> 73.33</td>\n",
        "      <td> 22</td>\n",
        "      <td> 0</td>\n",
        "      <td> 5</td>\n",
        "      <td> 1</td>\n",
        "      <td> 0</td>\n",
        "    </tr>\n",
        "    <tr>\n",
        "      <th>343  </th>\n",
        "      <td> 71.43</td>\n",
        "      <td> 26</td>\n",
        "      <td> 1</td>\n",
        "      <td> 5</td>\n",
        "      <td> 1</td>\n",
        "      <td> 0</td>\n",
        "    </tr>\n",
        "    <tr>\n",
        "      <th>9627 </th>\n",
        "      <td> 58.00</td>\n",
        "      <td> 26</td>\n",
        "      <td> 0</td>\n",
        "      <td> 1</td>\n",
        "      <td> 1</td>\n",
        "      <td> 0</td>\n",
        "    </tr>\n",
        "    <tr>\n",
        "      <th>6090 </th>\n",
        "      <td> 67.43</td>\n",
        "      <td> 39</td>\n",
        "      <td> 1</td>\n",
        "      <td> 1</td>\n",
        "      <td> 1</td>\n",
        "      <td> 0</td>\n",
        "    </tr>\n",
        "    <tr>\n",
        "      <th>23701</th>\n",
        "      <td> 62.71</td>\n",
        "      <td> 54</td>\n",
        "      <td> 1</td>\n",
        "      <td> 5</td>\n",
        "      <td> 1</td>\n",
        "      <td> 0</td>\n",
        "    </tr>\n",
        "    <tr>\n",
        "      <th>13909</th>\n",
        "      <td> 74.17</td>\n",
        "      <td> 21</td>\n",
        "      <td> 1</td>\n",
        "      <td> 5</td>\n",
        "      <td> 0</td>\n",
        "      <td> 0</td>\n",
        "    </tr>\n",
        "    <tr>\n",
        "      <th>8992 </th>\n",
        "      <td> 62.00</td>\n",
        "      <td> 21</td>\n",
        "      <td> 1</td>\n",
        "      <td> 5</td>\n",
        "      <td> 1</td>\n",
        "      <td> 0</td>\n",
        "    </tr>\n",
        "    <tr>\n",
        "      <th>9085 </th>\n",
        "      <td> 73.17</td>\n",
        "      <td> 17</td>\n",
        "      <td> 1</td>\n",
        "      <td> 5</td>\n",
        "      <td> 0</td>\n",
        "      <td> 0</td>\n",
        "    </tr>\n",
        "    <tr>\n",
        "      <th>6429 </th>\n",
        "      <td> 75.00</td>\n",
        "      <td> 20</td>\n",
        "      <td> 1</td>\n",
        "      <td> 5</td>\n",
        "      <td> 1</td>\n",
        "      <td> 0</td>\n",
        "    </tr>\n",
        "    <tr>\n",
        "      <th>9564 </th>\n",
        "      <td> 69.50</td>\n",
        "      <td> 86</td>\n",
        "      <td> 0</td>\n",
        "      <td> 4</td>\n",
        "      <td> 1</td>\n",
        "      <td> 0</td>\n",
        "    </tr>\n",
        "    <tr>\n",
        "      <th>5071 </th>\n",
        "      <td> 76.13</td>\n",
        "      <td> 51</td>\n",
        "      <td> 0</td>\n",
        "      <td> 5</td>\n",
        "      <td> 1</td>\n",
        "      <td> 0</td>\n",
        "    </tr>\n",
        "    <tr>\n",
        "      <th>4334 </th>\n",
        "      <td> 73.38</td>\n",
        "      <td> 32</td>\n",
        "      <td> 0</td>\n",
        "      <td> 2</td>\n",
        "      <td> 0</td>\n",
        "      <td> 0</td>\n",
        "    </tr>\n",
        "    <tr>\n",
        "      <th>9181 </th>\n",
        "      <td> 63.00</td>\n",
        "      <td> 19</td>\n",
        "      <td> 1</td>\n",
        "      <td> 5</td>\n",
        "      <td> 1</td>\n",
        "      <td> 0</td>\n",
        "    </tr>\n",
        "    <tr>\n",
        "      <th>9757 </th>\n",
        "      <td> 65.63</td>\n",
        "      <td> 22</td>\n",
        "      <td> 1</td>\n",
        "      <td> 2</td>\n",
        "      <td> 1</td>\n",
        "      <td> 0</td>\n",
        "    </tr>\n",
        "    <tr>\n",
        "      <th>9712 </th>\n",
        "      <td> 62.63</td>\n",
        "      <td> 14</td>\n",
        "      <td> 1</td>\n",
        "      <td> 5</td>\n",
        "      <td> 1</td>\n",
        "      <td> 0</td>\n",
        "    </tr>\n",
        "  </tbody>\n",
        "</table>\n",
        "</div>"
       ],
       "metadata": {},
       "output_type": "pyout",
       "prompt_number": 83,
       "text": [
        "       GPA_8th_grade  daysabs_8th_grade  sex_8th_grade  ethnic_8th_grade  \\\n",
        "691            68.83                 74              0                 5   \n",
        "5013           51.25                 56              0                 5   \n",
        "14412          61.57                 32              1                 5   \n",
        "6871           73.14                 37              0                 5   \n",
        "14291          63.33                 17              0                 5   \n",
        "8265           73.33                 22              0                 5   \n",
        "343            71.43                 26              1                 5   \n",
        "9627           58.00                 26              0                 1   \n",
        "6090           67.43                 39              1                 1   \n",
        "23701          62.71                 54              1                 5   \n",
        "13909          74.17                 21              1                 5   \n",
        "8992           62.00                 21              1                 5   \n",
        "9085           73.17                 17              1                 5   \n",
        "6429           75.00                 20              1                 5   \n",
        "9564           69.50                 86              0                 4   \n",
        "5071           76.13                 51              0                 5   \n",
        "4334           73.38                 32              0                 2   \n",
        "9181           63.00                 19              1                 5   \n",
        "9757           65.63                 22              1                 2   \n",
        "9712           62.63                 14              1                 5   \n",
        "\n",
        "       fail_to_finish_high_school_in_4_years  retained_in_8_majority_vote  \n",
        "691                                        1                            0  \n",
        "5013                                       1                            0  \n",
        "14412                                      1                            0  \n",
        "6871                                       0                            0  \n",
        "14291                                      1                            1  \n",
        "8265                                       1                            0  \n",
        "343                                        1                            0  \n",
        "9627                                       1                            0  \n",
        "6090                                       1                            0  \n",
        "23701                                      1                            0  \n",
        "13909                                      0                            0  \n",
        "8992                                       1                            0  \n",
        "9085                                       0                            0  \n",
        "6429                                       1                            0  \n",
        "9564                                       1                            0  \n",
        "5071                                       1                            0  \n",
        "4334                                       0                            0  \n",
        "9181                                       1                            0  \n",
        "9757                                       1                            0  \n",
        "9712                                       1                            0  "
       ]
      }
     ],
     "prompt_number": 83
    },
    {
     "cell_type": "code",
     "collapsed": false,
     "input": [
      "testing_data.tail(10)[examine_cols]"
     ],
     "language": "python",
     "metadata": {},
     "outputs": [
      {
       "html": [
        "<div style=\"max-height:1000px;max-width:1500px;overflow:auto;\">\n",
        "<table border=\"1\" class=\"dataframe\">\n",
        "  <thead>\n",
        "    <tr style=\"text-align: right;\">\n",
        "      <th></th>\n",
        "      <th>GPA_8th_grade</th>\n",
        "      <th>daysabs_8th_grade</th>\n",
        "      <th>sex_8th_grade</th>\n",
        "      <th>ethnic_8th_grade</th>\n",
        "      <th>fail_to_finish_high_school_in_4_years</th>\n",
        "      <th>retained_in_8_majority_vote</th>\n",
        "    </tr>\n",
        "  </thead>\n",
        "  <tbody>\n",
        "    <tr>\n",
        "      <th>8310 </th>\n",
        "      <td> 89.17</td>\n",
        "      <td>  3</td>\n",
        "      <td> 0</td>\n",
        "      <td> 5</td>\n",
        "      <td> 0</td>\n",
        "      <td> 0</td>\n",
        "    </tr>\n",
        "    <tr>\n",
        "      <th>11378</th>\n",
        "      <td> 94.71</td>\n",
        "      <td>  3</td>\n",
        "      <td> 0</td>\n",
        "      <td> 5</td>\n",
        "      <td> 0</td>\n",
        "      <td> 0</td>\n",
        "    </tr>\n",
        "    <tr>\n",
        "      <th>8300 </th>\n",
        "      <td> 97.17</td>\n",
        "      <td>  6</td>\n",
        "      <td> 0</td>\n",
        "      <td> 5</td>\n",
        "      <td> 1</td>\n",
        "      <td> 0</td>\n",
        "    </tr>\n",
        "    <tr>\n",
        "      <th>8292 </th>\n",
        "      <td> 92.67</td>\n",
        "      <td>  2</td>\n",
        "      <td> 1</td>\n",
        "      <td> 5</td>\n",
        "      <td> 0</td>\n",
        "      <td> 0</td>\n",
        "    </tr>\n",
        "    <tr>\n",
        "      <th>8291 </th>\n",
        "      <td> 94.50</td>\n",
        "      <td>  2</td>\n",
        "      <td> 1</td>\n",
        "      <td> 5</td>\n",
        "      <td> 0</td>\n",
        "      <td> 0</td>\n",
        "    </tr>\n",
        "    <tr>\n",
        "      <th>8284 </th>\n",
        "      <td> 97.17</td>\n",
        "      <td>  6</td>\n",
        "      <td> 0</td>\n",
        "      <td> 5</td>\n",
        "      <td> 0</td>\n",
        "      <td> 0</td>\n",
        "    </tr>\n",
        "    <tr>\n",
        "      <th>8275 </th>\n",
        "      <td> 91.14</td>\n",
        "      <td>  5</td>\n",
        "      <td> 1</td>\n",
        "      <td> 5</td>\n",
        "      <td> 0</td>\n",
        "      <td> 0</td>\n",
        "    </tr>\n",
        "    <tr>\n",
        "      <th>8272 </th>\n",
        "      <td> 92.83</td>\n",
        "      <td> 12</td>\n",
        "      <td> 1</td>\n",
        "      <td> 5</td>\n",
        "      <td> 0</td>\n",
        "      <td> 0</td>\n",
        "    </tr>\n",
        "    <tr>\n",
        "      <th>8268 </th>\n",
        "      <td> 89.00</td>\n",
        "      <td>  6</td>\n",
        "      <td> 1</td>\n",
        "      <td> 5</td>\n",
        "      <td> 0</td>\n",
        "      <td> 0</td>\n",
        "    </tr>\n",
        "    <tr>\n",
        "      <th>9606 </th>\n",
        "      <td> 91.00</td>\n",
        "      <td> 10</td>\n",
        "      <td> 0</td>\n",
        "      <td> 4</td>\n",
        "      <td> 0</td>\n",
        "      <td> 0</td>\n",
        "    </tr>\n",
        "  </tbody>\n",
        "</table>\n",
        "</div>"
       ],
       "metadata": {},
       "output_type": "pyout",
       "prompt_number": 84,
       "text": [
        "       GPA_8th_grade  daysabs_8th_grade  sex_8th_grade  ethnic_8th_grade  \\\n",
        "8310           89.17                  3              0                 5   \n",
        "11378          94.71                  3              0                 5   \n",
        "8300           97.17                  6              0                 5   \n",
        "8292           92.67                  2              1                 5   \n",
        "8291           94.50                  2              1                 5   \n",
        "8284           97.17                  6              0                 5   \n",
        "8275           91.14                  5              1                 5   \n",
        "8272           92.83                 12              1                 5   \n",
        "8268           89.00                  6              1                 5   \n",
        "9606           91.00                 10              0                 4   \n",
        "\n",
        "       fail_to_finish_high_school_in_4_years  retained_in_8_majority_vote  \n",
        "8310                                       0                            0  \n",
        "11378                                      0                            0  \n",
        "8300                                       1                            0  \n",
        "8292                                       0                            0  \n",
        "8291                                       0                            0  \n",
        "8284                                       0                            0  \n",
        "8275                                       0                            0  \n",
        "8272                                       0                            0  \n",
        "8268                                       0                            0  \n",
        "9606                                       0                            0  "
       ]
      }
     ],
     "prompt_number": 84
    },
    {
     "cell_type": "code",
     "collapsed": false,
     "input": [
      "num_students = 30"
     ],
     "language": "python",
     "metadata": {},
     "outputs": [],
     "prompt_number": 85
    },
    {
     "cell_type": "code",
     "collapsed": false,
     "input": [
      "testing_data[outcome_col][:num_students].value_counts(normalize=True)"
     ],
     "language": "python",
     "metadata": {},
     "outputs": [
      {
       "metadata": {},
       "output_type": "pyout",
       "prompt_number": 86,
       "text": [
        "1    0.766667\n",
        "0    0.233333\n",
        "dtype: float64"
       ]
      }
     ],
     "prompt_number": 86
    },
    {
     "cell_type": "code",
     "collapsed": false,
     "input": [
      "testing_data[outcome_col][:num_students].value_counts(normalize=True)"
     ],
     "language": "python",
     "metadata": {},
     "outputs": [
      {
       "metadata": {},
       "output_type": "pyout",
       "prompt_number": 89,
       "text": [
        "1    0.766667\n",
        "0    0.233333\n",
        "dtype: float64"
       ]
      }
     ],
     "prompt_number": 89
    },
    {
     "cell_type": "code",
     "collapsed": false,
     "input": [
      "testing_data[testing_data['retained_in_8_majority_vote'] == 1][outcome_col].value_counts(normalize=True)"
     ],
     "language": "python",
     "metadata": {},
     "outputs": [
      {
       "metadata": {},
       "output_type": "pyout",
       "prompt_number": 90,
       "text": [
        "1    1\n",
        "dtype: float64"
       ]
      }
     ],
     "prompt_number": 90
    },
    {
     "cell_type": "code",
     "collapsed": false,
     "input": [
      "sorted_features, sorted_importances = diagnostics.get_feature_importances(fitted_clf, feature_cols)"
     ],
     "language": "python",
     "metadata": {},
     "outputs": [
      {
       "output_type": "stream",
       "stream": "stdout",
       "text": [
        "Feature Importances:\n",
        "----------\n",
        "1. GPA_8th_grade - 0.167\n",
        "2. GPA_ENG_8th_grade - 0.109\n",
        "3. GPA_SocSci_8th_grade - 0.097\n",
        "4. GPA_Science_8th_grade - 0.097\n",
        "5. GPA_Math_8th_grade - 0.093\n",
        "6. daysabs_8th_grade - 0.083\n",
        "7. unexc_abs_8th_grade - 0.081\n",
        "8. exc_abs_8th_grade - 0.059\n",
        "9. school_code_8th_grade - 0.037\n",
        "10. Num_Marks_8th_grade - 0.030\n",
        "11. ZIP_8th_grade - 0.029\n",
        "12. ethnic_8th_grade - 0.023\n",
        "13. CITY_8th_grade - 0.017\n",
        "14. eds_8th_grade - 0.016\n",
        "15. sex_8th_grade - 0.012\n",
        "16. swd_8th_grade - 0.012\n",
        "17. Num_Science_8th_grade - 0.010\n",
        "18. Num_ENG_8th_grade - 0.008\n",
        "19. retained_in_8_majority_vote - 0.007\n",
        "20. lep_8th_grade - 0.006\n",
        "21. Num_SocSci_8th_grade - 0.005\n",
        "22. NumAdvanced_Math_8th_grade - 0.002\n",
        "23. Num_Math_8th_grade - 0.001\n",
        "24. NumAdvanced_8th_grade - 0.001\n",
        "25. NumAdvanced_Science_8th_grade - 0.000\n",
        "26. times_tardy_8th_grade - 0.000\n",
        "27. NumAdvanced_SocSci_8th_grade - 0.000\n",
        "28. NumAdvanced_ENG_8th_grade - 0.000\n",
        "29. reporting_year_8th_grade - 0.000\n",
        "30. STATE_8th_grade - 0.000\n"
       ]
      }
     ],
     "prompt_number": 91
    },
    {
     "cell_type": "markdown",
     "metadata": {},
     "source": [
      "## Generating TSV for topmodel"
     ]
    },
    {
     "cell_type": "code",
     "collapsed": false,
     "input": [
      "'rf_predicted_probs' in testing_data.columns"
     ],
     "language": "python",
     "metadata": {},
     "outputs": [
      {
       "metadata": {},
       "output_type": "pyout",
       "prompt_number": 97,
       "text": [
        "True"
       ]
      }
     ],
     "prompt_number": 97
    },
    {
     "cell_type": "code",
     "collapsed": false,
     "input": [
      "export_data = testing_data[[outcome_col, 'rf_predicted_probs']]"
     ],
     "language": "python",
     "metadata": {},
     "outputs": [],
     "prompt_number": 99
    },
    {
     "cell_type": "code",
     "collapsed": false,
     "input": [
      "export_data.rename(columns={outcome_col: 'actual',\n",
      "                            'rf_predicted_probs': 'pred_score'},\n",
      "                   inplace=True)"
     ],
     "language": "python",
     "metadata": {},
     "outputs": [
      {
       "output_type": "stream",
       "stream": "stderr",
       "text": [
        "//anaconda/lib/python2.7/site-packages/pandas/core/frame.py:2417: SettingWithCopyWarning: \n",
        "A value is trying to be set on a copy of a slice from a DataFrame\n",
        "\n",
        "See the the caveats in the documentation: http://pandas.pydata.org/pandas-docs/stable/indexing.html#indexing-view-versus-copy\n",
        "  **kwargs)\n"
       ]
      }
     ],
     "prompt_number": 104
    },
    {
     "cell_type": "code",
     "collapsed": false,
     "input": [
      "export_data.to_csv?"
     ],
     "language": "python",
     "metadata": {},
     "outputs": [],
     "prompt_number": 106
    },
    {
     "cell_type": "markdown",
     "metadata": {},
     "source": [
      "### Examining False Negatives\n",
      "These are students who predict as finishing on time who do not"
     ]
    },
    {
     "cell_type": "code",
     "collapsed": false,
     "input": [
      "outcome_col"
     ],
     "language": "python",
     "metadata": {},
     "outputs": [
      {
       "metadata": {},
       "output_type": "pyout",
       "prompt_number": 92,
       "text": [
        "'fail_to_finish_high_school_in_4_years'"
       ]
      }
     ],
     "prompt_number": 92
    },
    {
     "cell_type": "code",
     "collapsed": false,
     "input": [
      "## Woah, this is kinda scary. There are a lot of students who do not finish\n",
      "# high school within 4 years but are not giving a probability above 0.5.\n",
      "testing_data[testing_data[outcome_col] == 1]['rf_predicted_probs'].hist()"
     ],
     "language": "python",
     "metadata": {},
     "outputs": [
      {
       "metadata": {},
       "output_type": "pyout",
       "prompt_number": 94,
       "text": [
        "<matplotlib.axes.AxesSubplot at 0x1095b6c10>"
       ]
      },
      {
       "metadata": {},
       "output_type": "display_data",
       "png": "[encoded data removed]",
       "text": [
        "<matplotlib.figure.Figure at 0x104c05290>"
       ]
      }
     ],
     "prompt_number": 94
    },
    {
     "cell_type": "code",
     "collapsed": false,
     "input": [
      "examine_cols = [\n",
      " 'retained_in_8_majority_vote',\n",
      "#  'eds_8th_grade',\n",
      "#  'swd_8th_grade',\n",
      "#  'NumAdvanced_8th_grade',\n",
      "#  'lep_8th_grade',\n",
      "#  'reporting_year_8th_grade',\n",
      "#  'GPA_Science_8th_grade',\n",
      "#  'Num_Marks_8th_grade',\n",
      "#  'NumAdvanced_SocSci_8th_grade',\n",
      "#  'times_tardy_8th_grade',\n",
      "#  'sex_8th_grade',\n",
      "#  'Num_Science_8th_grade',\n",
      "#  'GPA_SocSci_8th_grade',\n",
      "#  'CITY_8th_grade',\n",
      "#  'Num_SocSci_8th_grade',\n",
      "#  'GPA_ENG_8th_grade',\n",
      "#  'NumAdvanced_Science_8th_grade',\n",
      " 'GPA_8th_grade',\n",
      "#  'NumAdvanced_ENG_8th_grade',\n",
      "#  'exc_abs_8th_grade',\n",
      " 'daysabs_8th_grade',\n",
      "#  'Num_ENG_8th_grade',\n",
      "#  'ZIP_8th_grade',\n",
      "#  'ethnic_8th_grade',\n",
      "#  'Num_Math_8th_grade',\n",
      "#  'unexc_abs_8th_grade',\n",
      "#  'STATE_8th_grade',\n",
      "#  'NumAdvanced_Math_8th_grade',\n",
      "#  'GPA_Math_8th_grade',\n",
      "#  'school_code_8th_grade'\n",
      " 'dropout_outcome',\n",
      " 'fail_to_finish_high_school_in_4_years', \n",
      " 'retained_in_9_majority_vote',\n",
      " 'retained_in_10_majority_vote',\n",
      " 'retained_in_11_majority_vote',\n",
      "]"
     ],
     "language": "python",
     "metadata": {},
     "outputs": [],
     "prompt_number": 120
    },
    {
     "cell_type": "code",
     "collapsed": false,
     "input": [
      "testing_cohort_b[(testing_cohort_b[outcome_col] == 1)].tail(20)[examine_cols]"
     ],
     "language": "python",
     "metadata": {},
     "outputs": [
      {
       "html": [
        "<div style=\"max-height:1000px;max-width:1500px;overflow:auto;\">\n",
        "<table border=\"1\" class=\"dataframe\">\n",
        "  <thead>\n",
        "    <tr style=\"text-align: right;\">\n",
        "      <th></th>\n",
        "      <th>retained_in_8_majority_vote</th>\n",
        "      <th>GPA_8th_grade</th>\n",
        "      <th>daysabs_8th_grade</th>\n",
        "      <th>dropout_outcome</th>\n",
        "      <th>fail_to_finish_high_school_in_4_years</th>\n",
        "      <th>retained_in_9_majority_vote</th>\n",
        "      <th>retained_in_10_majority_vote</th>\n",
        "      <th>retained_in_11_majority_vote</th>\n",
        "    </tr>\n",
        "  </thead>\n",
        "  <tbody>\n",
        "    <tr>\n",
        "      <th>20334</th>\n",
        "      <td> 0</td>\n",
        "      <td> 94.14</td>\n",
        "      <td>  7</td>\n",
        "      <td> 0</td>\n",
        "      <td> 1</td>\n",
        "      <td> 0</td>\n",
        "      <td> 0</td>\n",
        "      <td> 0</td>\n",
        "    </tr>\n",
        "    <tr>\n",
        "      <th>8751 </th>\n",
        "      <td> 0</td>\n",
        "      <td> 91.57</td>\n",
        "      <td> 10</td>\n",
        "      <td> 0</td>\n",
        "      <td> 1</td>\n",
        "      <td> 0</td>\n",
        "      <td> 0</td>\n",
        "      <td> 0</td>\n",
        "    </tr>\n",
        "    <tr>\n",
        "      <th>9478 </th>\n",
        "      <td> 0</td>\n",
        "      <td> 88.43</td>\n",
        "      <td>  4</td>\n",
        "      <td> 0</td>\n",
        "      <td> 1</td>\n",
        "      <td> 0</td>\n",
        "      <td> 0</td>\n",
        "      <td> 0</td>\n",
        "    </tr>\n",
        "    <tr>\n",
        "      <th>6600 </th>\n",
        "      <td> 0</td>\n",
        "      <td> 85.71</td>\n",
        "      <td>  4</td>\n",
        "      <td> 0</td>\n",
        "      <td> 1</td>\n",
        "      <td> 0</td>\n",
        "      <td> 0</td>\n",
        "      <td> 0</td>\n",
        "    </tr>\n",
        "    <tr>\n",
        "      <th>6615 </th>\n",
        "      <td> 0</td>\n",
        "      <td> 88.71</td>\n",
        "      <td>  1</td>\n",
        "      <td> 1</td>\n",
        "      <td> 1</td>\n",
        "      <td> 0</td>\n",
        "      <td> 0</td>\n",
        "      <td> 0</td>\n",
        "    </tr>\n",
        "    <tr>\n",
        "      <th>11551</th>\n",
        "      <td> 0</td>\n",
        "      <td> 92.50</td>\n",
        "      <td>  6</td>\n",
        "      <td> 0</td>\n",
        "      <td> 1</td>\n",
        "      <td> 0</td>\n",
        "      <td> 0</td>\n",
        "      <td> 0</td>\n",
        "    </tr>\n",
        "    <tr>\n",
        "      <th>14499</th>\n",
        "      <td> 0</td>\n",
        "      <td> 81.67</td>\n",
        "      <td>  6</td>\n",
        "      <td> 1</td>\n",
        "      <td> 1</td>\n",
        "      <td> 0</td>\n",
        "      <td> 1</td>\n",
        "      <td> 0</td>\n",
        "    </tr>\n",
        "    <tr>\n",
        "      <th>21362</th>\n",
        "      <td> 0</td>\n",
        "      <td> 96.50</td>\n",
        "      <td> 13</td>\n",
        "      <td> 0</td>\n",
        "      <td> 1</td>\n",
        "      <td> 0</td>\n",
        "      <td> 0</td>\n",
        "      <td> 0</td>\n",
        "    </tr>\n",
        "    <tr>\n",
        "      <th>22346</th>\n",
        "      <td> 0</td>\n",
        "      <td> 85.29</td>\n",
        "      <td>  4</td>\n",
        "      <td> 1</td>\n",
        "      <td> 1</td>\n",
        "      <td> 0</td>\n",
        "      <td> 0</td>\n",
        "      <td> 0</td>\n",
        "    </tr>\n",
        "    <tr>\n",
        "      <th>20329</th>\n",
        "      <td> 0</td>\n",
        "      <td> 94.17</td>\n",
        "      <td>  6</td>\n",
        "      <td> 0</td>\n",
        "      <td> 1</td>\n",
        "      <td> 0</td>\n",
        "      <td> 0</td>\n",
        "      <td> 0</td>\n",
        "    </tr>\n",
        "    <tr>\n",
        "      <th>9283 </th>\n",
        "      <td> 0</td>\n",
        "      <td> 96.71</td>\n",
        "      <td> 14</td>\n",
        "      <td> 0</td>\n",
        "      <td> 1</td>\n",
        "      <td> 0</td>\n",
        "      <td> 0</td>\n",
        "      <td> 0</td>\n",
        "    </tr>\n",
        "    <tr>\n",
        "      <th>195  </th>\n",
        "      <td> 0</td>\n",
        "      <td> 95.50</td>\n",
        "      <td>  1</td>\n",
        "      <td> 0</td>\n",
        "      <td> 1</td>\n",
        "      <td> 0</td>\n",
        "      <td> 0</td>\n",
        "      <td> 0</td>\n",
        "    </tr>\n",
        "    <tr>\n",
        "      <th>9191 </th>\n",
        "      <td> 0</td>\n",
        "      <td> 88.50</td>\n",
        "      <td> 11</td>\n",
        "      <td> 0</td>\n",
        "      <td> 1</td>\n",
        "      <td> 0</td>\n",
        "      <td> 0</td>\n",
        "      <td> 0</td>\n",
        "    </tr>\n",
        "    <tr>\n",
        "      <th>22085</th>\n",
        "      <td> 0</td>\n",
        "      <td> 97.00</td>\n",
        "      <td>  8</td>\n",
        "      <td> 0</td>\n",
        "      <td> 1</td>\n",
        "      <td> 0</td>\n",
        "      <td> 0</td>\n",
        "      <td> 0</td>\n",
        "    </tr>\n",
        "    <tr>\n",
        "      <th>9391 </th>\n",
        "      <td> 0</td>\n",
        "      <td> 86.50</td>\n",
        "      <td>  2</td>\n",
        "      <td> 1</td>\n",
        "      <td> 1</td>\n",
        "      <td> 0</td>\n",
        "      <td> 0</td>\n",
        "      <td> 0</td>\n",
        "    </tr>\n",
        "    <tr>\n",
        "      <th>6376 </th>\n",
        "      <td> 0</td>\n",
        "      <td> 91.14</td>\n",
        "      <td>  1</td>\n",
        "      <td> 0</td>\n",
        "      <td> 1</td>\n",
        "      <td> 0</td>\n",
        "      <td> 0</td>\n",
        "      <td> 0</td>\n",
        "    </tr>\n",
        "    <tr>\n",
        "      <th>6265 </th>\n",
        "      <td> 0</td>\n",
        "      <td> 93.00</td>\n",
        "      <td>  7</td>\n",
        "      <td> 0</td>\n",
        "      <td> 1</td>\n",
        "      <td> 0</td>\n",
        "      <td> 0</td>\n",
        "      <td> 0</td>\n",
        "    </tr>\n",
        "    <tr>\n",
        "      <th>8300 </th>\n",
        "      <td> 0</td>\n",
        "      <td> 97.17</td>\n",
        "      <td>  6</td>\n",
        "      <td> 0</td>\n",
        "      <td> 1</td>\n",
        "      <td> 0</td>\n",
        "      <td> 0</td>\n",
        "      <td> 0</td>\n",
        "    </tr>\n",
        "    <tr>\n",
        "      <th>14402</th>\n",
        "      <td> 0</td>\n",
        "      <td> 90.00</td>\n",
        "      <td>  6</td>\n",
        "      <td> 1</td>\n",
        "      <td> 1</td>\n",
        "      <td> 0</td>\n",
        "      <td> 0</td>\n",
        "      <td> 0</td>\n",
        "    </tr>\n",
        "    <tr>\n",
        "      <th>6099 </th>\n",
        "      <td> 0</td>\n",
        "      <td> 91.86</td>\n",
        "      <td>  6</td>\n",
        "      <td> 0</td>\n",
        "      <td> 1</td>\n",
        "      <td> 0</td>\n",
        "      <td> 0</td>\n",
        "      <td> 0</td>\n",
        "    </tr>\n",
        "  </tbody>\n",
        "</table>\n",
        "</div>"
       ],
       "metadata": {},
       "output_type": "pyout",
       "prompt_number": 121,
       "text": [
        "       retained_in_8_majority_vote  GPA_8th_grade  daysabs_8th_grade  \\\n",
        "20334                            0          94.14                  7   \n",
        "8751                             0          91.57                 10   \n",
        "9478                             0          88.43                  4   \n",
        "6600                             0          85.71                  4   \n",
        "6615                             0          88.71                  1   \n",
        "11551                            0          92.50                  6   \n",
        "14499                            0          81.67                  6   \n",
        "21362                            0          96.50                 13   \n",
        "22346                            0          85.29                  4   \n",
        "20329                            0          94.17                  6   \n",
        "9283                             0          96.71                 14   \n",
        "195                              0          95.50                  1   \n",
        "9191                             0          88.50                 11   \n",
        "22085                            0          97.00                  8   \n",
        "9391                             0          86.50                  2   \n",
        "6376                             0          91.14                  1   \n",
        "6265                             0          93.00                  7   \n",
        "8300                             0          97.17                  6   \n",
        "14402                            0          90.00                  6   \n",
        "6099                             0          91.86                  6   \n",
        "\n",
        "       dropout_outcome  fail_to_finish_high_school_in_4_years  \\\n",
        "20334                0                                      1   \n",
        "8751                 0                                      1   \n",
        "9478                 0                                      1   \n",
        "6600                 0                                      1   \n",
        "6615                 1                                      1   \n",
        "11551                0                                      1   \n",
        "14499                1                                      1   \n",
        "21362                0                                      1   \n",
        "22346                1                                      1   \n",
        "20329                0                                      1   \n",
        "9283                 0                                      1   \n",
        "195                  0                                      1   \n",
        "9191                 0                                      1   \n",
        "22085                0                                      1   \n",
        "9391                 1                                      1   \n",
        "6376                 0                                      1   \n",
        "6265                 0                                      1   \n",
        "8300                 0                                      1   \n",
        "14402                1                                      1   \n",
        "6099                 0                                      1   \n",
        "\n",
        "       retained_in_9_majority_vote  retained_in_10_majority_vote  \\\n",
        "20334                            0                             0   \n",
        "8751                             0                             0   \n",
        "9478                             0                             0   \n",
        "6600                             0                             0   \n",
        "6615                             0                             0   \n",
        "11551                            0                             0   \n",
        "14499                            0                             1   \n",
        "21362                            0                             0   \n",
        "22346                            0                             0   \n",
        "20329                            0                             0   \n",
        "9283                             0                             0   \n",
        "195                              0                             0   \n",
        "9191                             0                             0   \n",
        "22085                            0                             0   \n",
        "9391                             0                             0   \n",
        "6376                             0                             0   \n",
        "6265                             0                             0   \n",
        "8300                             0                             0   \n",
        "14402                            0                             0   \n",
        "6099                             0                             0   \n",
        "\n",
        "       retained_in_11_majority_vote  \n",
        "20334                             0  \n",
        "8751                              0  \n",
        "9478                              0  \n",
        "6600                              0  \n",
        "6615                              0  \n",
        "11551                             0  \n",
        "14499                             0  \n",
        "21362                             0  \n",
        "22346                             0  \n",
        "20329                             0  \n",
        "9283                              0  \n",
        "195                               0  \n",
        "9191                              0  \n",
        "22085                             0  \n",
        "9391                              0  \n",
        "6376                              0  \n",
        "6265                              0  \n",
        "8300                              0  \n",
        "14402                             0  \n",
        "6099                              0  "
       ]
      }
     ],
     "prompt_number": 121
    },
    {
     "cell_type": "markdown",
     "metadata": {},
     "source": [
      "### Using Logistic Regression"
     ]
    },
    {
     "cell_type": "code",
     "collapsed": false,
     "input": [
      "import statsmodels.api as sm\n",
      "import random\n",
      "from preprocessing import empirical_imputation"
     ],
     "language": "python",
     "metadata": {},
     "outputs": [],
     "prompt_number": 68
    },
    {
     "cell_type": "code",
     "collapsed": false,
     "input": [
      "outcome_col = 'fail_to_finish_high_school_in_4_years'\n",
      "feature_cols = [\n",
      "#  'External_Student_ID',\n",
      "#  'earliest_reporting_year_majority_vote',\n",
      " 'retained_in_8_majority_vote',\n",
      "#  'retained_in_9_majority_vote',\n",
      "#  'retained_in_10_majority_vote',\n",
      "#  'retained_in_11_majority_vote',\n",
      "#  'expected_graduation_year_majority_vote',\n",
      "#  'fail_to_finish_high_school_in_4_years',\n",
      "#  'dropout_outcome',\n",
      "#  'Grade_8th_grade',\n",
      "#  'eds_8th_grade',\n",
      " 'swd_8th_grade',\n",
      "#  'Street_8th_grade',\n",
      " 'NumAdvanced_8th_grade',\n",
      " 'lep_8th_grade',\n",
      "#  'reporting_year_8th_grade',\n",
      " 'GPA_Science_8th_grade',\n",
      " 'Num_Marks_8th_grade',\n",
      "#  'NumAdvanced_SocSci_8th_grade',\n",
      "#  'times_tardy_8th_grade',\n",
      " 'sex_8th_grade',\n",
      " 'Num_Science_8th_grade',\n",
      " 'GPA_SocSci_8th_grade',\n",
      " 'CITY_8th_grade',\n",
      " 'grade_8th_grade',\n",
      " 'Num_SocSci_8th_grade',\n",
      " 'GPA_ENG_8th_grade',\n",
      " 'NumAdvanced_Science_8th_grade',\n",
      " 'GPA_8th_grade',\n",
      " 'NumAdvanced_ENG_8th_grade',\n",
      " 'exc_abs_8th_grade',\n",
      "#  'daysabs_8th_grade',\n",
      " 'Num_ENG_8th_grade',\n",
      " 'ZIP_8th_grade',\n",
      " 'ethnic_8th_grade',\n",
      " 'Num_Math_8th_grade',\n",
      " 'unexc_abs_8th_grade',\n",
      " 'STATE_8th_grade',\n",
      " 'NumAdvanced_Math_8th_grade',\n",
      " 'GPA_Math_8th_grade',\n",
      " 'school_code_8th_grade',\n",
      "#  'GPA_Math_9th_grade',\n",
      "#  'CITY_9th_grade',\n",
      "#  'STATE_9th_grade',\n",
      "#  'GPA_SocSci_9th_grade',\n",
      "#  'sex_9th_grade',\n",
      "#  'daysabs_9th_grade',\n",
      "#  'lep_9th_grade',\n",
      "#  'Street_9th_grade',\n",
      "#  'Grade_9th_grade',\n",
      "#  'GPA_Science_9th_grade',\n",
      "#  'GPA_9th_grade',\n",
      "#  'NumAdvanced_SocSci_9th_grade',\n",
      "#  'reporting_year_9th_grade',\n",
      "#  'Num_Marks_9th_grade',\n",
      "#  'Num_Science_9th_grade',\n",
      "#  'grade_9th_grade',\n",
      "#  'Num_SocSci_9th_grade',\n",
      "#  'GPA_ENG_9th_grade',\n",
      "#  'times_tardy_9th_grade',\n",
      "#  'NumAdvanced_ENG_9th_grade',\n",
      "#  'Num_ENG_9th_grade',\n",
      "#  'eds_9th_grade',\n",
      "#  'unexc_abs_9th_grade',\n",
      "#  'ZIP_9th_grade',\n",
      "#  'NumAdvanced_Math_9th_grade',\n",
      "#  'Num_Math_9th_grade',\n",
      "#  'school_code_9th_grade',\n",
      "#  'ethnic_9th_grade',\n",
      "#  'exc_abs_9th_grade',\n",
      "#  'NumAdvanced_Science_9th_grade',\n",
      "#  'swd_9th_grade',\n",
      "#  'NumAdvanced_9th_grade',\n",
      "#  'GPA_Math_10th_grade',\n",
      "#  'CITY_10th_grade',\n",
      "#  'STATE_10th_grade',\n",
      "#  'GPA_SocSci_10th_grade',\n",
      "#  'sex_10th_grade',\n",
      "#  'daysabs_10th_grade',\n",
      "#  'lep_10th_grade',\n",
      "#  'Street_10th_grade',\n",
      "#  'Grade_10th_grade',\n",
      "#  'GPA_Science_10th_grade',\n",
      "#  'GPA_10th_grade',\n",
      "#  'NumAdvanced_SocSci_10th_grade',\n",
      "#  'reporting_year_10th_grade',\n",
      "#  'eds_10th_grade',\n",
      "#  'Num_Marks_10th_grade',\n",
      "#  'Num_Science_10th_grade',\n",
      "#  'grade_10th_grade',\n",
      "#  'Num_SocSci_10th_grade',\n",
      "#  'GPA_ENG_10th_grade',\n",
      "#  'NumAdvanced_Science_10th_grade',\n",
      "#  'times_tardy_10th_grade',\n",
      "#  'NumAdvanced_ENG_10th_grade',\n",
      "#  'Num_ENG_10th_grade',\n",
      "#  'unexc_abs_10th_grade',\n",
      "#  'ZIP_10th_grade',\n",
      "#  'NumAdvanced_Math_10th_grade',\n",
      "#  'Num_Math_10th_grade',\n",
      "#  'ethnic_10th_grade',\n",
      "#  'exc_abs_10th_grade',\n",
      "#  'school_code_10th_grade',\n",
      "#  'swd_10th_grade',\n",
      "#  'NumAdvanced_10th_grade',\n",
      "#  'STATE_11th_grade',\n",
      "#  'GPA_Math_11th_grade',\n",
      "#  'grade_11th_grade',\n",
      "#  'Grade_11th_grade',\n",
      "#  'Street_11th_grade',\n",
      "#  'sex_11th_grade',\n",
      "#  'lep_11th_grade',\n",
      "#  'GPA_Science_11th_grade',\n",
      "#  'GPA_11th_grade',\n",
      "#  'NumAdvanced_SocSci_11th_grade',\n",
      "#  'eds_11th_grade',\n",
      "#  'Num_Marks_11th_grade',\n",
      "#  'Num_Science_11th_grade',\n",
      "#  'GPA_SocSci_11th_grade',\n",
      "#  'reporting_year_11th_grade',\n",
      "#  'Num_SocSci_11th_grade',\n",
      "#  'GPA_ENG_11th_grade',\n",
      "#  'NumAdvanced_Science_11th_grade',\n",
      "#  'times_tardy_11th_grade',\n",
      "#  'NumAdvanced_ENG_11th_grade',\n",
      "#  'CITY_11th_grade',\n",
      "#  'Num_ENG_11th_grade',\n",
      "#  'daysabs_11th_grade',\n",
      "#  'unexc_abs_11th_grade',\n",
      "#  'ZIP_11th_grade',\n",
      "#  'NumAdvanced_Math_11th_grade',\n",
      "#  'Num_Math_11th_grade',\n",
      "#  'school_code_11th_grade',\n",
      "#  'ethnic_11th_grade',\n",
      "#  'exc_abs_11th_grade',\n",
      "#  'swd_11th_grade',\n",
      "#  'NumAdvanced_11th_grade',\n",
      "]"
     ],
     "language": "python",
     "metadata": {},
     "outputs": [],
     "prompt_number": 69
    },
    {
     "cell_type": "code",
     "collapsed": false,
     "input": [
      "# So that this is replicable\n",
      "random.seed = 1"
     ],
     "language": "python",
     "metadata": {},
     "outputs": [],
     "prompt_number": 70
    },
    {
     "cell_type": "code",
     "collapsed": false,
     "input": [
      "imputed_training_data = pd.DataFrame()\n",
      "imputed_training_data[outcome_col] = model_data[outcome_col]\n",
      "imputed_training_data['intercept'] = 1"
     ],
     "language": "python",
     "metadata": {},
     "outputs": [],
     "prompt_number": 71
    },
    {
     "cell_type": "code",
     "collapsed": false,
     "input": [
      "imputed_testing_data = pd.DataFrame()\n",
      "imputed_testing_data[outcome_col] = testing_cohort_b[outcome_col]\n",
      "imputed_testing_data['intercept'] = 1"
     ],
     "language": "python",
     "metadata": {},
     "outputs": [],
     "prompt_number": 72
    },
    {
     "cell_type": "code",
     "collapsed": false,
     "input": [
      "for col in feature_cols:\n",
      "    s = model_data[col].copy()\n",
      "    imputed_training_data[col] = empirical_imputation(s)"
     ],
     "language": "python",
     "metadata": {},
     "outputs": [],
     "prompt_number": 73
    },
    {
     "cell_type": "code",
     "collapsed": false,
     "input": [
      "\n",
      "for col in feature_cols:\n",
      "    s = testing_cohort_b[col].copy()\n",
      "    imputed_testing_data[col] = empirical_imputation(s)"
     ],
     "language": "python",
     "metadata": {},
     "outputs": [],
     "prompt_number": 74
    },
    {
     "cell_type": "code",
     "collapsed": false,
     "input": [
      "def convert_nominal(dataframe):\n",
      "    for i, tp in enumerate(dataframe.dtypes):\n",
      "        if tp == 'object':\n",
      "            unique_vals, dataframe.ix[:,i] = np.unique(dataframe.ix[:,i] , return_inverse=True)"
     ],
     "language": "python",
     "metadata": {},
     "outputs": [],
     "prompt_number": 75
    },
    {
     "cell_type": "code",
     "collapsed": false,
     "input": [
      "convert_nominal(imputed_training_data)"
     ],
     "language": "python",
     "metadata": {},
     "outputs": [],
     "prompt_number": 76
    },
    {
     "cell_type": "code",
     "collapsed": false,
     "input": [
      "np.linalg.matrix_rank(imputed_training_data[feature_cols])"
     ],
     "language": "python",
     "metadata": {},
     "outputs": [
      {
       "metadata": {},
       "output_type": "pyout",
       "prompt_number": 77,
       "text": [
        "23"
       ]
      }
     ],
     "prompt_number": 77
    },
    {
     "cell_type": "code",
     "collapsed": false,
     "input": [
      "imputed_training_data.shape"
     ],
     "language": "python",
     "metadata": {},
     "outputs": [
      {
       "metadata": {},
       "output_type": "pyout",
       "prompt_number": 78,
       "text": [
        "(1740, 28)"
       ]
      }
     ],
     "prompt_number": 78
    },
    {
     "cell_type": "code",
     "collapsed": false,
     "input": [
      "logit_model = sm.Logit(imputed_training_data[outcome_col], \n",
      "                       imputed_training_data[feature_cols + ['intercept']])"
     ],
     "language": "python",
     "metadata": {},
     "outputs": [],
     "prompt_number": 79
    },
    {
     "cell_type": "code",
     "collapsed": false,
     "input": [
      "fitted_logit_model = logit_model.fit()"
     ],
     "language": "python",
     "metadata": {},
     "outputs": [
      {
       "ename": "LinAlgError",
       "evalue": "Singular matrix",
       "output_type": "pyerr",
       "traceback": [
        "\u001b[0;31m---------------------------------------------------------------------------\u001b[0m\n\u001b[0;31mLinAlgError\u001b[0m                               Traceback (most recent call last)",
        "\u001b[0;32m<ipython-input-80-18b51dbd5089>\u001b[0m in \u001b[0;36m<module>\u001b[0;34m()\u001b[0m\n\u001b[0;32m----> 1\u001b[0;31m \u001b[0mfitted_logit_model\u001b[0m \u001b[0;34m=\u001b[0m \u001b[0mlogit_model\u001b[0m\u001b[0;34m.\u001b[0m\u001b[0mfit\u001b[0m\u001b[0;34m(\u001b[0m\u001b[0;34m)\u001b[0m\u001b[0;34m\u001b[0m\u001b[0m\n\u001b[0m",
        "\u001b[0;32m//anaconda/lib/python2.7/site-packages/statsmodels/discrete/discrete_model.pyc\u001b[0m in \u001b[0;36mfit\u001b[0;34m(self, start_params, method, maxiter, full_output, disp, callback, **kwargs)\u001b[0m\n\u001b[1;32m   1184\u001b[0m         bnryfit = super(Logit, self).fit(start_params=start_params,\n\u001b[1;32m   1185\u001b[0m                 \u001b[0mmethod\u001b[0m\u001b[0;34m=\u001b[0m\u001b[0mmethod\u001b[0m\u001b[0;34m,\u001b[0m \u001b[0mmaxiter\u001b[0m\u001b[0;34m=\u001b[0m\u001b[0mmaxiter\u001b[0m\u001b[0;34m,\u001b[0m \u001b[0mfull_output\u001b[0m\u001b[0;34m=\u001b[0m\u001b[0mfull_output\u001b[0m\u001b[0;34m,\u001b[0m\u001b[0;34m\u001b[0m\u001b[0m\n\u001b[0;32m-> 1186\u001b[0;31m                 disp=disp, callback=callback, **kwargs)\n\u001b[0m\u001b[1;32m   1187\u001b[0m         \u001b[0mdiscretefit\u001b[0m \u001b[0;34m=\u001b[0m \u001b[0mLogitResults\u001b[0m\u001b[0;34m(\u001b[0m\u001b[0mself\u001b[0m\u001b[0;34m,\u001b[0m \u001b[0mbnryfit\u001b[0m\u001b[0;34m)\u001b[0m\u001b[0;34m\u001b[0m\u001b[0m\n\u001b[1;32m   1188\u001b[0m         \u001b[0;32mreturn\u001b[0m \u001b[0mBinaryResultsWrapper\u001b[0m\u001b[0;34m(\u001b[0m\u001b[0mdiscretefit\u001b[0m\u001b[0;34m)\u001b[0m\u001b[0;34m\u001b[0m\u001b[0m\n",
        "\u001b[0;32m//anaconda/lib/python2.7/site-packages/statsmodels/discrete/discrete_model.pyc\u001b[0m in \u001b[0;36mfit\u001b[0;34m(self, start_params, method, maxiter, full_output, disp, callback, **kwargs)\u001b[0m\n\u001b[1;32m    162\u001b[0m         mlefit = super(DiscreteModel, self).fit(start_params=start_params,\n\u001b[1;32m    163\u001b[0m                 \u001b[0mmethod\u001b[0m\u001b[0;34m=\u001b[0m\u001b[0mmethod\u001b[0m\u001b[0;34m,\u001b[0m \u001b[0mmaxiter\u001b[0m\u001b[0;34m=\u001b[0m\u001b[0mmaxiter\u001b[0m\u001b[0;34m,\u001b[0m \u001b[0mfull_output\u001b[0m\u001b[0;34m=\u001b[0m\u001b[0mfull_output\u001b[0m\u001b[0;34m,\u001b[0m\u001b[0;34m\u001b[0m\u001b[0m\n\u001b[0;32m--> 164\u001b[0;31m                 disp=disp, callback=callback, **kwargs)\n\u001b[0m\u001b[1;32m    165\u001b[0m         \u001b[0;32mreturn\u001b[0m \u001b[0mmlefit\u001b[0m \u001b[0;31m# up to subclasses to wrap results\u001b[0m\u001b[0;34m\u001b[0m\u001b[0m\n\u001b[1;32m    166\u001b[0m \u001b[0;34m\u001b[0m\u001b[0m\n",
        "\u001b[0;32m//anaconda/lib/python2.7/site-packages/statsmodels/base/model.pyc\u001b[0m in \u001b[0;36mfit\u001b[0;34m(self, start_params, method, maxiter, full_output, disp, fargs, callback, retall, **kwargs)\u001b[0m\n\u001b[1;32m    355\u001b[0m                              \u001b[0mdisp\u001b[0m\u001b[0;34m=\u001b[0m\u001b[0mdisp\u001b[0m\u001b[0;34m,\u001b[0m \u001b[0mmaxiter\u001b[0m\u001b[0;34m=\u001b[0m\u001b[0mmaxiter\u001b[0m\u001b[0;34m,\u001b[0m \u001b[0mcallback\u001b[0m\u001b[0;34m=\u001b[0m\u001b[0mcallback\u001b[0m\u001b[0;34m,\u001b[0m\u001b[0;34m\u001b[0m\u001b[0m\n\u001b[1;32m    356\u001b[0m                              \u001b[0mretall\u001b[0m\u001b[0;34m=\u001b[0m\u001b[0mretall\u001b[0m\u001b[0;34m,\u001b[0m \u001b[0mfull_output\u001b[0m\u001b[0;34m=\u001b[0m\u001b[0mfull_output\u001b[0m\u001b[0;34m,\u001b[0m\u001b[0;34m\u001b[0m\u001b[0m\n\u001b[0;32m--> 357\u001b[0;31m                              hess=hess)\n\u001b[0m\u001b[1;32m    358\u001b[0m \u001b[0;34m\u001b[0m\u001b[0m\n\u001b[1;32m    359\u001b[0m         \u001b[0;32mif\u001b[0m \u001b[0;32mnot\u001b[0m \u001b[0mfull_output\u001b[0m\u001b[0;34m:\u001b[0m \u001b[0;31m# xopt should be None and retvals is argmin\u001b[0m\u001b[0;34m\u001b[0m\u001b[0m\n",
        "\u001b[0;32m//anaconda/lib/python2.7/site-packages/statsmodels/base/model.pyc\u001b[0m in \u001b[0;36m_fit_mle_newton\u001b[0;34m(f, score, start_params, fargs, kwargs, disp, maxiter, callback, retall, full_output, hess)\u001b[0m\n\u001b[1;32m    403\u001b[0m         \u001b[0mH\u001b[0m \u001b[0;34m=\u001b[0m \u001b[0mhess\u001b[0m\u001b[0;34m(\u001b[0m\u001b[0mnewparams\u001b[0m\u001b[0;34m)\u001b[0m\u001b[0;34m\u001b[0m\u001b[0m\n\u001b[1;32m    404\u001b[0m         \u001b[0moldparams\u001b[0m \u001b[0;34m=\u001b[0m \u001b[0mnewparams\u001b[0m\u001b[0;34m\u001b[0m\u001b[0m\n\u001b[0;32m--> 405\u001b[0;31m         newparams = oldparams - np.dot(np.linalg.inv(H),\n\u001b[0m\u001b[1;32m    406\u001b[0m                 score(oldparams))\n\u001b[1;32m    407\u001b[0m         \u001b[0;32mif\u001b[0m \u001b[0mretall\u001b[0m\u001b[0;34m:\u001b[0m\u001b[0;34m\u001b[0m\u001b[0m\n",
        "\u001b[0;32m//anaconda/lib/python2.7/site-packages/numpy/linalg/linalg.pyc\u001b[0m in \u001b[0;36minv\u001b[0;34m(a)\u001b[0m\n\u001b[1;32m    518\u001b[0m     \u001b[0msignature\u001b[0m \u001b[0;34m=\u001b[0m \u001b[0;34m'D->D'\u001b[0m \u001b[0;32mif\u001b[0m \u001b[0misComplexType\u001b[0m\u001b[0;34m(\u001b[0m\u001b[0mt\u001b[0m\u001b[0;34m)\u001b[0m \u001b[0;32melse\u001b[0m \u001b[0;34m'd->d'\u001b[0m\u001b[0;34m\u001b[0m\u001b[0m\n\u001b[1;32m    519\u001b[0m     \u001b[0mextobj\u001b[0m \u001b[0;34m=\u001b[0m \u001b[0mget_linalg_error_extobj\u001b[0m\u001b[0;34m(\u001b[0m\u001b[0m_raise_linalgerror_singular\u001b[0m\u001b[0;34m)\u001b[0m\u001b[0;34m\u001b[0m\u001b[0m\n\u001b[0;32m--> 520\u001b[0;31m     \u001b[0mainv\u001b[0m \u001b[0;34m=\u001b[0m \u001b[0m_umath_linalg\u001b[0m\u001b[0;34m.\u001b[0m\u001b[0minv\u001b[0m\u001b[0;34m(\u001b[0m\u001b[0ma\u001b[0m\u001b[0;34m,\u001b[0m \u001b[0msignature\u001b[0m\u001b[0;34m=\u001b[0m\u001b[0msignature\u001b[0m\u001b[0;34m,\u001b[0m \u001b[0mextobj\u001b[0m\u001b[0;34m=\u001b[0m\u001b[0mextobj\u001b[0m\u001b[0;34m)\u001b[0m\u001b[0;34m\u001b[0m\u001b[0m\n\u001b[0m\u001b[1;32m    521\u001b[0m     \u001b[0;32mreturn\u001b[0m \u001b[0mwrap\u001b[0m\u001b[0;34m(\u001b[0m\u001b[0mainv\u001b[0m\u001b[0;34m.\u001b[0m\u001b[0mastype\u001b[0m\u001b[0;34m(\u001b[0m\u001b[0mresult_t\u001b[0m\u001b[0;34m)\u001b[0m\u001b[0;34m)\u001b[0m\u001b[0;34m\u001b[0m\u001b[0m\n\u001b[1;32m    522\u001b[0m \u001b[0;34m\u001b[0m\u001b[0m\n",
        "\u001b[0;32m//anaconda/lib/python2.7/site-packages/numpy/linalg/linalg.pyc\u001b[0m in \u001b[0;36m_raise_linalgerror_singular\u001b[0;34m(err, flag)\u001b[0m\n\u001b[1;32m     88\u001b[0m \u001b[0;34m\u001b[0m\u001b[0m\n\u001b[1;32m     89\u001b[0m \u001b[0;32mdef\u001b[0m \u001b[0m_raise_linalgerror_singular\u001b[0m\u001b[0;34m(\u001b[0m\u001b[0merr\u001b[0m\u001b[0;34m,\u001b[0m \u001b[0mflag\u001b[0m\u001b[0;34m)\u001b[0m\u001b[0;34m:\u001b[0m\u001b[0;34m\u001b[0m\u001b[0m\n\u001b[0;32m---> 90\u001b[0;31m     \u001b[0;32mraise\u001b[0m \u001b[0mLinAlgError\u001b[0m\u001b[0;34m(\u001b[0m\u001b[0;34m\"Singular matrix\"\u001b[0m\u001b[0;34m)\u001b[0m\u001b[0;34m\u001b[0m\u001b[0m\n\u001b[0m\u001b[1;32m     91\u001b[0m \u001b[0;34m\u001b[0m\u001b[0m\n\u001b[1;32m     92\u001b[0m \u001b[0;32mdef\u001b[0m \u001b[0m_raise_linalgerror_nonposdef\u001b[0m\u001b[0;34m(\u001b[0m\u001b[0merr\u001b[0m\u001b[0;34m,\u001b[0m \u001b[0mflag\u001b[0m\u001b[0;34m)\u001b[0m\u001b[0;34m:\u001b[0m\u001b[0;34m\u001b[0m\u001b[0m\n",
        "\u001b[0;31mLinAlgError\u001b[0m: Singular matrix"
       ]
      }
     ],
     "prompt_number": 80
    },
    {
     "cell_type": "code",
     "collapsed": false,
     "input": [
      "fitted_logit_model.summary()"
     ],
     "language": "python",
     "metadata": {},
     "outputs": [
      {
       "ename": "NameError",
       "evalue": "name 'fitted_logit_model' is not defined",
       "output_type": "pyerr",
       "traceback": [
        "\u001b[0;31m---------------------------------------------------------------------------\u001b[0m\n\u001b[0;31mNameError\u001b[0m                                 Traceback (most recent call last)",
        "\u001b[0;32m<ipython-input-81-903dfd72a007>\u001b[0m in \u001b[0;36m<module>\u001b[0;34m()\u001b[0m\n\u001b[0;32m----> 1\u001b[0;31m \u001b[0mfitted_logit_model\u001b[0m\u001b[0;34m.\u001b[0m\u001b[0msummary\u001b[0m\u001b[0;34m(\u001b[0m\u001b[0;34m)\u001b[0m\u001b[0;34m\u001b[0m\u001b[0m\n\u001b[0m",
        "\u001b[0;31mNameError\u001b[0m: name 'fitted_logit_model' is not defined"
       ]
      }
     ],
     "prompt_number": 81
    },
    {
     "cell_type": "code",
     "collapsed": false,
     "input": [
      "imputed_testing_data['4 Feature Log Prob'] = fitted_logit_model.predict(imputed_testing_data[feature_cols + ['intercept']])"
     ],
     "language": "python",
     "metadata": {},
     "outputs": [],
     "prompt_number": 729
    },
    {
     "cell_type": "code",
     "collapsed": false,
     "input": [
      "imputed_testing_data.sort('4 Feature Log Prob', inplace=True, ascending=False)"
     ],
     "language": "python",
     "metadata": {},
     "outputs": [],
     "prompt_number": 737
    },
    {
     "cell_type": "code",
     "collapsed": false,
     "input": [
      "num_students=100"
     ],
     "language": "python",
     "metadata": {},
     "outputs": [],
     "prompt_number": 738
    },
    {
     "cell_type": "code",
     "collapsed": false,
     "input": [
      "imputed_testing_data[testing_cohort_b['transferred_out_before_graduating'] == 0][:num_students][outcome_col].value_counts(normalize=True)"
     ],
     "language": "python",
     "metadata": {},
     "outputs": [
      {
       "metadata": {},
       "output_type": "pyout",
       "prompt_number": 739,
       "text": [
        "1    0.62\n",
        "0    0.38\n",
        "dtype: float64"
       ]
      }
     ],
     "prompt_number": 739
    },
    {
     "cell_type": "markdown",
     "metadata": {},
     "source": [
      "## Using the Bhanpuri-Model"
     ]
    },
    {
     "cell_type": "code",
     "collapsed": false,
     "input": [
      "def rule_based_outcome(row):\n",
      "    score = 0\n",
      "    retained = row['retained_in_8_majority_vote']\n",
      "    days_abs = row['daysabs_8th_grade']\n",
      "    gpa = row['GPA_8th_grade']\n",
      "    num_marks = row['Num_Marks_8th_grade']\n",
      "    if ~pd.isnull(gpa) and (gpa <= 72.7):\n",
      "        score += 1\n",
      "    if ~pd.isnull(num_marks) and (num_marks <= 4):\n",
      "        score += 1\n",
      "    if ~pd.isnull(days_abs) and (days_abs >= 23):\n",
      "        score += 1\n",
      "    if ~pd.isnull(retained) and (retained == 1):\n",
      "        score += 1\n",
      "    return score"
     ],
     "language": "python",
     "metadata": {},
     "outputs": [],
     "prompt_number": 465
    },
    {
     "cell_type": "code",
     "collapsed": false,
     "input": [
      "testing_cohort_b['Rule Predictions'] = testing_cohort_b.apply(rule_based_outcome,\n",
      "                                                              axis=1)"
     ],
     "language": "python",
     "metadata": {},
     "outputs": [],
     "prompt_number": 466
    },
    {
     "cell_type": "code",
     "collapsed": false,
     "input": [
      "testing_cohort_b.sort('Rule Predictions', inplace=True, ascending=False)"
     ],
     "language": "python",
     "metadata": {},
     "outputs": [],
     "prompt_number": 467
    },
    {
     "cell_type": "code",
     "collapsed": false,
     "input": [
      "num_students = 100"
     ],
     "language": "python",
     "metadata": {},
     "outputs": [],
     "prompt_number": 468
    },
    {
     "cell_type": "code",
     "collapsed": false,
     "input": [
      "testing_cohort_b[testing_cohort_b['transferred_out_before_graduating'] == 0][:num_students][outcome_col].value_counts(normalize=True)"
     ],
     "language": "python",
     "metadata": {},
     "outputs": [
      {
       "metadata": {},
       "output_type": "pyout",
       "prompt_number": 469,
       "text": [
        "1    0.58\n",
        "0    0.42\n",
        "dtype: float64"
       ]
      }
     ],
     "prompt_number": 469
    },
    {
     "cell_type": "code",
     "collapsed": false,
     "input": [
      "# Simple Decision Tree"
     ],
     "language": "python",
     "metadata": {},
     "outputs": [],
     "prompt_number": 369
    },
    {
     "cell_type": "code",
     "collapsed": false,
     "input": [
      "feature_cols = ['retained_in_8_majority_vote',\n",
      "    'daysabs_8th_grade',\n",
      "    'GPA_8th_grade',\n",
      "    'Num_Marks_8th_grade',]"
     ],
     "language": "python",
     "metadata": {},
     "outputs": [],
     "prompt_number": 370
    },
    {
     "cell_type": "code",
     "collapsed": false,
     "input": [
      "clf = tree.DecisionTreeClassifier()"
     ],
     "language": "python",
     "metadata": {},
     "outputs": [],
     "prompt_number": 371
    },
    {
     "cell_type": "code",
     "collapsed": false,
     "input": [
      "clf = RandomForestClassifier(n_estimators=100, criterion='entropy')"
     ],
     "language": "python",
     "metadata": {},
     "outputs": [],
     "prompt_number": 372
    },
    {
     "cell_type": "code",
     "collapsed": false,
     "input": [
      "clf = clf.fit(model_data[feature_cols].fillna(-1), model_data[outcome_col])"
     ],
     "language": "python",
     "metadata": {},
     "outputs": [],
     "prompt_number": 373
    },
    {
     "cell_type": "code",
     "collapsed": false,
     "input": [
      "preds = clf.predict(testing_cohort_b[feature_cols].fillna(-1))"
     ],
     "language": "python",
     "metadata": {},
     "outputs": [],
     "prompt_number": 374
    },
    {
     "cell_type": "code",
     "collapsed": false,
     "input": [
      "testing_cohort_b['Random Forest Classification'] = preds"
     ],
     "language": "python",
     "metadata": {},
     "outputs": [],
     "prompt_number": 375
    },
    {
     "cell_type": "code",
     "collapsed": false,
     "input": [
      "testing_cohort_b['Random Forest Classification'].value_counts()"
     ],
     "language": "python",
     "metadata": {},
     "outputs": [
      {
       "metadata": {},
       "output_type": "pyout",
       "prompt_number": 376,
       "text": [
        "0    1630\n",
        "1     139\n",
        "dtype: int64"
       ]
      }
     ],
     "prompt_number": 376
    },
    {
     "cell_type": "code",
     "collapsed": false,
     "input": [
      "num_students = 100"
     ],
     "language": "python",
     "metadata": {},
     "outputs": [],
     "prompt_number": 377
    },
    {
     "cell_type": "code",
     "collapsed": false,
     "input": [
      "testing_cohort_b[(testing_cohort_b['Random Forest Classification'] == 1)\n",
      "                 & (testing_cohort_b['transferred_out_before_graduating'] == 0)][:num_students][outcome_col].value_counts(normalize=True)"
     ],
     "language": "python",
     "metadata": {},
     "outputs": [
      {
       "metadata": {},
       "output_type": "pyout",
       "prompt_number": 378,
       "text": [
        "1    0.59\n",
        "0    0.41\n",
        "dtype: float64"
       ]
      }
     ],
     "prompt_number": 378
    },
    {
     "cell_type": "markdown",
     "metadata": {},
     "source": [
      "## Doing Feature Selection"
     ]
    },
    {
     "cell_type": "code",
     "collapsed": false,
     "input": [
      "outcome_col = 'fail_to_finish_high_school_in_4_years'\n",
      "feature_cols = [\n",
      "#  'External_Student_ID',\n",
      "#  'earliest_reporting_year_majority_vote',\n",
      " 'retained_in_8_majority_vote',\n",
      "#  'retained_in_9_majority_vote',\n",
      "#  'retained_in_10_majority_vote',\n",
      "#  'retained_in_11_majority_vote',\n",
      "#  'expected_graduation_year_majority_vote',\n",
      "#  'fail_to_finish_high_school_in_4_years',\n",
      "#  'dropout_outcome',\n",
      " 'Grade_8th_grade',\n",
      " 'eds_8th_grade',\n",
      " 'swd_8th_grade',\n",
      "#  'Street_8th_grade',\n",
      " 'NumAdvanced_8th_grade',\n",
      " 'lep_8th_grade',\n",
      " 'reporting_year_8th_grade',\n",
      " 'GPA_Science_8th_grade',\n",
      " 'Num_Marks_8th_grade',\n",
      " 'NumAdvanced_SocSci_8th_grade',\n",
      " 'times_tardy_8th_grade',\n",
      " 'sex_8th_grade',\n",
      " 'Num_Science_8th_grade',\n",
      " 'GPA_SocSci_8th_grade',\n",
      " 'CITY_8th_grade',\n",
      " 'grade_8th_grade',\n",
      " 'Num_SocSci_8th_grade',\n",
      " 'GPA_ENG_8th_grade',\n",
      " 'NumAdvanced_Science_8th_grade',\n",
      " 'GPA_8th_grade',\n",
      " 'NumAdvanced_ENG_8th_grade',\n",
      " 'exc_abs_8th_grade',\n",
      " 'daysabs_8th_grade',\n",
      " 'Num_ENG_8th_grade',\n",
      " 'ZIP_8th_grade',\n",
      " 'ethnic_8th_grade',\n",
      " 'Num_Math_8th_grade',\n",
      " 'unexc_abs_8th_grade',\n",
      " 'STATE_8th_grade',\n",
      " 'NumAdvanced_Math_8th_grade',\n",
      " 'GPA_Math_8th_grade',\n",
      " 'school_code_8th_grade',\n",
      "#  'GPA_Math_9th_grade',\n",
      "#  'CITY_9th_grade',\n",
      "#  'STATE_9th_grade',\n",
      "#  'GPA_SocSci_9th_grade',\n",
      "#  'sex_9th_grade',\n",
      "#  'daysabs_9th_grade',\n",
      "#  'lep_9th_grade',\n",
      "#  'Street_9th_grade',\n",
      "#  'Grade_9th_grade',\n",
      "#  'GPA_Science_9th_grade',\n",
      "#  'GPA_9th_grade',\n",
      "#  'NumAdvanced_SocSci_9th_grade',\n",
      "#  'reporting_year_9th_grade',\n",
      "#  'Num_Marks_9th_grade',\n",
      "#  'Num_Science_9th_grade',\n",
      "#  'grade_9th_grade',\n",
      "#  'Num_SocSci_9th_grade',\n",
      "#  'GPA_ENG_9th_grade',\n",
      "#  'times_tardy_9th_grade',\n",
      "#  'NumAdvanced_ENG_9th_grade',\n",
      "#  'Num_ENG_9th_grade',\n",
      "#  'eds_9th_grade',\n",
      "#  'unexc_abs_9th_grade',\n",
      "#  'ZIP_9th_grade',\n",
      "#  'NumAdvanced_Math_9th_grade',\n",
      "#  'Num_Math_9th_grade',\n",
      "#  'school_code_9th_grade',\n",
      "#  'ethnic_9th_grade',\n",
      "#  'exc_abs_9th_grade',\n",
      "#  'NumAdvanced_Science_9th_grade',\n",
      "#  'swd_9th_grade',\n",
      "#  'NumAdvanced_9th_grade',\n",
      "#  'GPA_Math_10th_grade',\n",
      "#  'CITY_10th_grade',\n",
      "#  'STATE_10th_grade',\n",
      "#  'GPA_SocSci_10th_grade',\n",
      "#  'sex_10th_grade',\n",
      "#  'daysabs_10th_grade',\n",
      "#  'lep_10th_grade',\n",
      "#  'Street_10th_grade',\n",
      "#  'Grade_10th_grade',\n",
      "#  'GPA_Science_10th_grade',\n",
      "#  'GPA_10th_grade',\n",
      "#  'NumAdvanced_SocSci_10th_grade',\n",
      "#  'reporting_year_10th_grade',\n",
      "#  'eds_10th_grade',\n",
      "#  'Num_Marks_10th_grade',\n",
      "#  'Num_Science_10th_grade',\n",
      "#  'grade_10th_grade',\n",
      "#  'Num_SocSci_10th_grade',\n",
      "#  'GPA_ENG_10th_grade',\n",
      "#  'NumAdvanced_Science_10th_grade',\n",
      "#  'times_tardy_10th_grade',\n",
      "#  'NumAdvanced_ENG_10th_grade',\n",
      "#  'Num_ENG_10th_grade',\n",
      "#  'unexc_abs_10th_grade',\n",
      "#  'ZIP_10th_grade',\n",
      "#  'NumAdvanced_Math_10th_grade',\n",
      "#  'Num_Math_10th_grade',\n",
      "#  'ethnic_10th_grade',\n",
      "#  'exc_abs_10th_grade',\n",
      "#  'school_code_10th_grade',\n",
      "#  'swd_10th_grade',\n",
      "#  'NumAdvanced_10th_grade',\n",
      "#  'STATE_11th_grade',\n",
      "#  'GPA_Math_11th_grade',\n",
      "#  'grade_11th_grade',\n",
      "#  'Grade_11th_grade',\n",
      "#  'Street_11th_grade',\n",
      "#  'sex_11th_grade',\n",
      "#  'lep_11th_grade',\n",
      "#  'GPA_Science_11th_grade',\n",
      "#  'GPA_11th_grade',\n",
      "#  'NumAdvanced_SocSci_11th_grade',\n",
      "#  'eds_11th_grade',\n",
      "#  'Num_Marks_11th_grade',\n",
      "#  'Num_Science_11th_grade',\n",
      "#  'GPA_SocSci_11th_grade',\n",
      "#  'reporting_year_11th_grade',\n",
      "#  'Num_SocSci_11th_grade',\n",
      "#  'GPA_ENG_11th_grade',\n",
      "#  'NumAdvanced_Science_11th_grade',\n",
      "#  'times_tardy_11th_grade',\n",
      "#  'NumAdvanced_ENG_11th_grade',\n",
      "#  'CITY_11th_grade',\n",
      "#  'Num_ENG_11th_grade',\n",
      "#  'daysabs_11th_grade',\n",
      "#  'unexc_abs_11th_grade',\n",
      "#  'ZIP_11th_grade',\n",
      "#  'NumAdvanced_Math_11th_grade',\n",
      "#  'Num_Math_11th_grade',\n",
      "#  'school_code_11th_grade',\n",
      "#  'ethnic_11th_grade',\n",
      "#  'exc_abs_11th_grade',\n",
      "#  'swd_11th_grade',\n",
      "#  'NumAdvanced_11th_grade',\n",
      "]"
     ],
     "language": "python",
     "metadata": {},
     "outputs": [],
     "prompt_number": 151
    },
    {
     "cell_type": "markdown",
     "metadata": {},
     "source": [
      "### Using a Decision Tree"
     ]
    },
    {
     "cell_type": "code",
     "collapsed": false,
     "input": [
      "entropy_dt = DecisionTreeClassifier(criterion='entropy', random_state=1)"
     ],
     "language": "python",
     "metadata": {},
     "outputs": [],
     "prompt_number": 188
    },
    {
     "cell_type": "code",
     "collapsed": false,
     "input": [
      "gini_dt = DecisionTreeClassifier(criterion='gini', random_state=1)"
     ],
     "language": "python",
     "metadata": {},
     "outputs": [],
     "prompt_number": 187
    },
    {
     "cell_type": "code",
     "collapsed": false,
     "input": [
      "model_data = renamed_a[feature_cols + [outcome_col]]"
     ],
     "language": "python",
     "metadata": {},
     "outputs": [],
     "prompt_number": 176
    },
    {
     "cell_type": "code",
     "collapsed": false,
     "input": [
      "# In our feature importance, we exclude students who transferred into 8th grade\n",
      "# and those who transferred out of Cabarrus (and we thus don't know their outcome)\n",
      "model_data = model_data[(renamed_a['GPA_8th_grade'].notnull())\n",
      "                        & (renamed_a['transferred_out_before_graduating'] == 0)]"
     ],
     "language": "python",
     "metadata": {},
     "outputs": [],
     "prompt_number": 177
    },
    {
     "cell_type": "code",
     "collapsed": false,
     "input": [
      "model_data.shape"
     ],
     "language": "python",
     "metadata": {},
     "outputs": [
      {
       "metadata": {},
       "output_type": "pyout",
       "prompt_number": 178,
       "text": [
        "(1731, 33)"
       ]
      }
     ],
     "prompt_number": 178
    },
    {
     "cell_type": "code",
     "collapsed": false,
     "input": [
      "model_data.fillna(-1, inplace=True)"
     ],
     "language": "python",
     "metadata": {},
     "outputs": [],
     "prompt_number": 179
    },
    {
     "cell_type": "code",
     "collapsed": false,
     "input": [
      "# This normalizes the data, as well as converts nominal features to\n",
      "# something sklearn can handle.\n",
      "# It doesn't do any feature selection by itself, and I want to do feature\n",
      "# selection more carefully and I want to inspect the features.\n",
      "X, y = preprocess(model_data, outcome_col, doFeatureSelection=False)"
     ],
     "language": "python",
     "metadata": {},
     "outputs": [],
     "prompt_number": 180
    },
    {
     "cell_type": "code",
     "collapsed": false,
     "input": [
      "fitted_model = entropy_dt.fit(X, y)"
     ],
     "language": "python",
     "metadata": {},
     "outputs": [],
     "prompt_number": 181
    },
    {
     "cell_type": "code",
     "collapsed": false,
     "input": [
      "gini_fitted_model = gini_dt.fit(X, y)"
     ],
     "language": "python",
     "metadata": {},
     "outputs": [],
     "prompt_number": 189
    },
    {
     "cell_type": "code",
     "collapsed": false,
     "input": [
      "entropy_sorted_features, entropy_sorted_importances = get_feature_importances(fitted_model, feature_cols)"
     ],
     "language": "python",
     "metadata": {},
     "outputs": [
      {
       "output_type": "stream",
       "stream": "stdout",
       "text": [
        "Feature Importances:\n",
        "----------\n",
        "1. GPA_8th_grade - 0.383\n",
        "2. GPA_Science_8th_grade - 0.111\n",
        "3. daysabs_8th_grade - 0.076\n",
        "4. GPA_Math_8th_grade - 0.067\n",
        "5. exc_abs_8th_grade - 0.066\n",
        "6. GPA_SocSci_8th_grade - 0.059\n",
        "7. school_code_8th_grade - 0.058\n",
        "8. GPA_ENG_8th_grade - 0.051\n",
        "9. unexc_abs_8th_grade - 0.031\n",
        "10. ethnic_8th_grade - 0.018\n",
        "11. ZIP_8th_grade - 0.017\n",
        "12. sex_8th_grade - 0.015\n",
        "13. Num_Marks_8th_grade - 0.014\n",
        "14. Num_Science_8th_grade - 0.010\n",
        "15. retained_in_8_majority_vote - 0.008\n",
        "16. eds_8th_grade - 0.007\n",
        "17. swd_8th_grade - 0.003\n",
        "18. CITY_8th_grade - 0.003\n",
        "19. Num_ENG_8th_grade - 0.003\n",
        "20. Num_SocSci_8th_grade - 0.000\n",
        "21. reporting_year_8th_grade - 0.000\n",
        "22. Grade_8th_grade - 0.000\n",
        "23. NumAdvanced_8th_grade - 0.000\n",
        "24. lep_8th_grade - 0.000\n",
        "25. STATE_8th_grade - 0.000\n",
        "26. NumAdvanced_Math_8th_grade - 0.000\n",
        "27. NumAdvanced_Science_8th_grade - 0.000\n",
        "28. NumAdvanced_SocSci_8th_grade - 0.000\n",
        "29. times_tardy_8th_grade - 0.000\n",
        "30. Num_Math_8th_grade - 0.000\n",
        "31. NumAdvanced_ENG_8th_grade - 0.000\n",
        "32. grade_8th_grade - 0.000\n"
       ]
      }
     ],
     "prompt_number": 192
    },
    {
     "cell_type": "code",
     "collapsed": false,
     "input": [
      "gini_sorted_features, gini_sorted_importances = get_feature_importances(gini_fitted_model, feature_cols)"
     ],
     "language": "python",
     "metadata": {},
     "outputs": [
      {
       "output_type": "stream",
       "stream": "stdout",
       "text": [
        "Feature Importances:\n",
        "----------\n",
        "1. GPA_8th_grade - 0.320\n",
        "2. GPA_Science_8th_grade - 0.095\n",
        "3. daysabs_8th_grade - 0.089\n",
        "4. exc_abs_8th_grade - 0.083\n",
        "5. GPA_ENG_8th_grade - 0.081\n",
        "6. unexc_abs_8th_grade - 0.059\n",
        "7. GPA_Math_8th_grade - 0.054\n",
        "8. GPA_SocSci_8th_grade - 0.042\n",
        "9. school_code_8th_grade - 0.042\n",
        "10. Num_Marks_8th_grade - 0.038\n",
        "11. ZIP_8th_grade - 0.022\n",
        "12. retained_in_8_majority_vote - 0.017\n",
        "13. Num_Science_8th_grade - 0.012\n",
        "14. sex_8th_grade - 0.011\n",
        "15. ethnic_8th_grade - 0.010\n",
        "16. swd_8th_grade - 0.009\n",
        "17. eds_8th_grade - 0.008\n",
        "18. lep_8th_grade - 0.005\n",
        "19. CITY_8th_grade - 0.002\n",
        "20. Num_ENG_8th_grade - 0.001\n",
        "21. NumAdvanced_ENG_8th_grade - 0.000\n",
        "22. reporting_year_8th_grade - 0.000\n",
        "23. Grade_8th_grade - 0.000\n",
        "24. NumAdvanced_8th_grade - 0.000\n",
        "25. NumAdvanced_SocSci_8th_grade - 0.000\n",
        "26. NumAdvanced_Math_8th_grade - 0.000\n",
        "27. STATE_8th_grade - 0.000\n",
        "28. NumAdvanced_Science_8th_grade - 0.000\n",
        "29. times_tardy_8th_grade - 0.000\n",
        "30. Num_Math_8th_grade - 0.000\n",
        "31. Num_SocSci_8th_grade - 0.000\n",
        "32. grade_8th_grade - 0.000\n"
       ]
      }
     ],
     "prompt_number": 190
    },
    {
     "cell_type": "markdown",
     "metadata": {},
     "source": [
      "Feature Importances (Entropy):\n",
      "----------\n",
      "1. GPA_8th_grade - 0.383\n",
      "2. GPA_Science_8th_grade - 0.111\n",
      "3. daysabs_8th_grade - 0.076\n",
      "4. GPA_Math_8th_grade - 0.067\n",
      "5. exc_abs_8th_grade - 0.066\n",
      "6. GPA_SocSci_8th_grade - 0.059\n",
      "7. school_code_8th_grade - 0.058\n",
      "8. GPA_ENG_8th_grade - 0.051\n",
      "9. unexc_abs_8th_grade - 0.031\n",
      "10. ethnic_8th_grade - 0.018\n",
      "11. ZIP_8th_grade - 0.017\n",
      "12. sex_8th_grade - 0.015\n",
      "13. Num_Marks_8th_grade - 0.014\n",
      "14. Num_Science_8th_grade - 0.010\n",
      "15. retained_in_8_majority_vote - 0.008\n",
      "16. eds_8th_grade - 0.007\n",
      "17. swd_8th_grade - 0.003\n",
      "18. CITY_8th_grade - 0.003\n",
      "19. Num_ENG_8th_grade - 0.003\n",
      "20. Num_SocSci_8th_grade - 0.000\n",
      "21. reporting_year_8th_grade - 0.000\n",
      "22. Grade_8th_grade - 0.000\n",
      "23. NumAdvanced_8th_grade - 0.000\n",
      "24. lep_8th_grade - 0.000\n",
      "25. STATE_8th_grade - 0.000\n",
      "26. NumAdvanced_Math_8th_grade - 0.000\n",
      "27. NumAdvanced_Science_8th_grade - 0.000\n",
      "28. NumAdvanced_SocSci_8th_grade - 0.000\n",
      "29. times_tardy_8th_grade - 0.000\n",
      "30. Num_Math_8th_grade - 0.000\n",
      "31. NumAdvanced_ENG_8th_grade - 0.000\n",
      "32. grade_8th_grade - 0.000"
     ]
    },
    {
     "cell_type": "markdown",
     "metadata": {},
     "source": [
      "Feature Importances (Gini):\n",
      "----------\n",
      "1. GPA_8th_grade - 0.320\n",
      "2. GPA_Science_8th_grade - 0.095\n",
      "3. daysabs_8th_grade - 0.089\n",
      "4. exc_abs_8th_grade - 0.083\n",
      "5. GPA_ENG_8th_grade - 0.081\n",
      "6. unexc_abs_8th_grade - 0.059\n",
      "7. GPA_Math_8th_grade - 0.054\n",
      "8. GPA_SocSci_8th_grade - 0.042\n",
      "9. school_code_8th_grade - 0.042\n",
      "10. Num_Marks_8th_grade - 0.038\n",
      "11. ZIP_8th_grade - 0.022\n",
      "12. retained_in_8_majority_vote - 0.017\n",
      "13. Num_Science_8th_grade - 0.012\n",
      "14. sex_8th_grade - 0.011\n",
      "15. ethnic_8th_grade - 0.010\n",
      "16. swd_8th_grade - 0.009\n",
      "17. eds_8th_grade - 0.008\n",
      "18. lep_8th_grade - 0.005\n",
      "19. CITY_8th_grade - 0.002\n",
      "20. Num_ENG_8th_grade - 0.001\n",
      "21. NumAdvanced_ENG_8th_grade - 0.000\n",
      "22. reporting_year_8th_grade - 0.000\n",
      "23. Grade_8th_grade - 0.000\n",
      "24. NumAdvanced_8th_grade - 0.000\n",
      "25. NumAdvanced_SocSci_8th_grade - 0.000\n",
      "26. NumAdvanced_Math_8th_grade - 0.000\n",
      "27. STATE_8th_grade - 0.000\n",
      "28. NumAdvanced_Science_8th_grade - 0.000\n",
      "29. times_tardy_8th_grade - 0.000\n",
      "30. Num_Math_8th_grade - 0.000\n",
      "31. Num_SocSci_8th_grade - 0.000\n",
      "32. grade_8th_grade - 0.000"
     ]
    },
    {
     "cell_type": "code",
     "collapsed": false,
     "input": [
      "## Take the intersection of the two different measurements at the top 10 features"
     ],
     "language": "python",
     "metadata": {},
     "outputs": [],
     "prompt_number": 191
    },
    {
     "cell_type": "code",
     "collapsed": false,
     "input": [
      "top_n = 10"
     ],
     "language": "python",
     "metadata": {},
     "outputs": [],
     "prompt_number": 194
    },
    {
     "cell_type": "code",
     "collapsed": false,
     "input": [
      "f = set(gini_sorted_features[:top_n]).intersection(entropy_sorted_features[:top_n])"
     ],
     "language": "python",
     "metadata": {},
     "outputs": [],
     "prompt_number": 196
    },
    {
     "cell_type": "code",
     "collapsed": false,
     "input": [
      "pprint(f)"
     ],
     "language": "python",
     "metadata": {},
     "outputs": [
      {
       "output_type": "stream",
       "stream": "stdout",
       "text": [
        "set(['GPA_8th_grade',\n",
        "     'GPA_ENG_8th_grade',\n",
        "     'GPA_Math_8th_grade',\n",
        "     'GPA_Science_8th_grade',\n",
        "     'GPA_SocSci_8th_grade',\n",
        "     'daysabs_8th_grade',\n",
        "     'exc_abs_8th_grade',\n",
        "     'school_code_8th_grade',\n",
        "     'unexc_abs_8th_grade'])\n"
       ]
      }
     ],
     "prompt_number": 200
    },
    {
     "cell_type": "code",
     "collapsed": false,
     "input": [
      "important_features = list(f)"
     ],
     "language": "python",
     "metadata": {},
     "outputs": [],
     "prompt_number": 201
    },
    {
     "cell_type": "code",
     "collapsed": false,
     "input": [
      "### Now, run a decision tree, random forest and logistic regression using\n",
      "# just these features"
     ],
     "language": "python",
     "metadata": {},
     "outputs": [],
     "prompt_number": 202
    },
    {
     "cell_type": "code",
     "collapsed": false,
     "input": [
      "exclude_grades = [8, 9] \n",
      "exclude_student_ids = dropout_data[dropout_data['Grade'].isin(exclude_grades)]['External_Student_ID'].values"
     ],
     "language": "python",
     "metadata": {},
     "outputs": [],
     "prompt_number": 697
    },
    {
     "cell_type": "code",
     "collapsed": false,
     "input": [
      "# Exclude students who were transferred into Cabarrus after the relevant grade\n",
      "# dropped out in that grade\n",
      "# or transferred out (and we thus don't have outcome labels for)\n",
      "model_data = renamed_a[renamed_a['GPA_8th_grade'].notnull()\n",
      "                             & ~(renamed_a['External_Student_ID'].isin(exclude_student_ids)) \n",
      "                             & (renamed_a['transferred_out_before_graduating'] == 0)][feature_cols + [outcome_col]]"
     ],
     "language": "python",
     "metadata": {},
     "outputs": [],
     "prompt_number": 698
    },
    {
     "cell_type": "code",
     "collapsed": false,
     "input": [
      "model_data[outcome_col].value_counts()"
     ],
     "language": "python",
     "metadata": {},
     "outputs": [
      {
       "metadata": {},
       "output_type": "pyout",
       "prompt_number": 699,
       "text": [
        "0    1531\n",
        "1     143\n",
        "dtype: int64"
       ]
      }
     ],
     "prompt_number": 699
    },
    {
     "cell_type": "code",
     "collapsed": false,
     "input": [
      "dt_clf = tree.DecisionTreeClassifier(criterion='gini', random_state=1)"
     ],
     "language": "python",
     "metadata": {},
     "outputs": [],
     "prompt_number": 700
    },
    {
     "cell_type": "code",
     "collapsed": false,
     "input": [
      "test_data = renamed_b[renamed_b['GPA_8th_grade'].notnull()\n",
      "                             & ~(renamed_b['External_Student_ID'].isin(exclude_student_ids)) \n",
      "                             & (renamed_b['transferred_out_before_graduating'] == 0)]"
     ],
     "language": "python",
     "metadata": {},
     "outputs": [],
     "prompt_number": 701
    },
    {
     "cell_type": "code",
     "collapsed": false,
     "input": [
      "test_data[outcome_col].value_counts()"
     ],
     "language": "python",
     "metadata": {},
     "outputs": [
      {
       "metadata": {},
       "output_type": "pyout",
       "prompt_number": 703,
       "text": [
        "0    1577\n",
        "1     155\n",
        "dtype: int64"
       ]
      }
     ],
     "prompt_number": 703
    },
    {
     "cell_type": "code",
     "collapsed": false,
     "input": [
      "filled_test_data = test_data.fillna(-1)"
     ],
     "language": "python",
     "metadata": {},
     "outputs": [],
     "prompt_number": 704
    },
    {
     "cell_type": "code",
     "collapsed": false,
     "input": [
      "filled_test_data[outcome_col].value_counts()"
     ],
     "language": "python",
     "metadata": {},
     "outputs": [
      {
       "metadata": {},
       "output_type": "pyout",
       "prompt_number": 705,
       "text": [
        "0    1577\n",
        "1     155\n",
        "dtype: int64"
       ]
      }
     ],
     "prompt_number": 705
    },
    {
     "cell_type": "code",
     "collapsed": false,
     "input": [
      "model_data = model_data.fillna(-1)"
     ],
     "language": "python",
     "metadata": {},
     "outputs": [],
     "prompt_number": 706
    },
    {
     "cell_type": "code",
     "collapsed": false,
     "input": [
      "X, y = preprocess(model_data, outcome_col, doFeatureSelection=False)"
     ],
     "language": "python",
     "metadata": {},
     "outputs": [],
     "prompt_number": 299
    },
    {
     "cell_type": "code",
     "collapsed": false,
     "input": [
      "fitted_dt_clf = dt_clf.fit(X, y)"
     ],
     "language": "python",
     "metadata": {},
     "outputs": [],
     "prompt_number": 300
    },
    {
     "cell_type": "code",
     "collapsed": false,
     "input": [
      "testing_X, testing_y = preprocess(filled_test_data, outcome_col, doFeatureSelection=False)"
     ],
     "language": "python",
     "metadata": {},
     "outputs": [],
     "prompt_number": 301
    },
    {
     "cell_type": "code",
     "collapsed": false,
     "input": [
      "pred_probs = fitted_dt_clf.predict_proba(testing_X)"
     ],
     "language": "python",
     "metadata": {},
     "outputs": [],
     "prompt_number": 302
    },
    {
     "cell_type": "code",
     "collapsed": false,
     "input": [
      "pred_probs = [p[1] for p in pred_probs]"
     ],
     "language": "python",
     "metadata": {},
     "outputs": [],
     "prompt_number": 303
    },
    {
     "cell_type": "code",
     "collapsed": false,
     "input": [
      "precision, recall, thresholds = precision_recall_curve(testing_y, pred_probs)"
     ],
     "language": "python",
     "metadata": {},
     "outputs": [],
     "prompt_number": 304
    },
    {
     "cell_type": "code",
     "collapsed": false,
     "input": [
      "apr_auc = auc(recall, precision)\n",
      "pl.plot(recall, precision, color = 'b', label='Precision-Recall curve (area = %0.2f)' % pr_auc)\n",
      "pl.xlim([-0.05, 1.05])\n",
      "pl.ylim([-0.05, 1.05])\n",
      "pl.xlabel('Recall')\n",
      "pl.ylabel('Precision')\n",
      "pl.title('RF Precision-Recall')\n",
      "pl.legend(loc=\"best\")\n",
      "pl.show()"
     ],
     "language": "python",
     "metadata": {},
     "outputs": [
      {
       "metadata": {},
       "output_type": "display_data",
       "png": "[encoded data removed]",
       "text": [
        "<matplotlib.figure.Figure at 0x10afcda10>"
       ]
      }
     ],
     "prompt_number": 305
    },
    {
     "cell_type": "code",
     "collapsed": false,
     "input": [
      "filled_test_data['DT Predictions'] = pred_probs"
     ],
     "language": "python",
     "metadata": {},
     "outputs": [],
     "prompt_number": 306
    },
    {
     "cell_type": "code",
     "collapsed": false,
     "input": [
      "num_students = 194"
     ],
     "language": "python",
     "metadata": {},
     "outputs": [],
     "prompt_number": 321
    },
    {
     "cell_type": "code",
     "collapsed": false,
     "input": [
      "filled_test_data.sort('DT Predictions', ascending=False)[:num_students][outcome_col].value_counts(normalize=True)"
     ],
     "language": "python",
     "metadata": {},
     "outputs": [
      {
       "metadata": {},
       "output_type": "pyout",
       "prompt_number": 322,
       "text": [
        "0    0.664948\n",
        "1    0.335052\n",
        "dtype: float64"
       ]
      }
     ],
     "prompt_number": 322
    },
    {
     "cell_type": "markdown",
     "metadata": {},
     "source": [
      "### Using a random forest"
     ]
    },
    {
     "cell_type": "code",
     "collapsed": false,
     "input": [
      "def pred(clf, clf_name, model_data, test_data, feature_cols, \n",
      "         outcome_col):\n",
      "    ## Filling NAs\n",
      "    filled_model_data = model_data.fillna(-1)[feature_cols + [outcome_col]]\n",
      "    filled_test_data = test_data.fillna(-1)[feature_cols + [outcome_col]]\n",
      "    \n",
      "    # Preprocessing\n",
      "    X, y = preprocess(filled_model_data, outcome_col, \n",
      "                      doFeatureSelection=False)\n",
      "    testing_X, testing_y = preprocess(filled_test_data, outcome_col, \n",
      "                                      doFeatureSelection=False)\n",
      "    # Fitting model\n",
      "    fitted_clf = clf.fit(X, y)\n",
      "    \n",
      "    # Making Predictions\n",
      "    pred_probs = fitted_clf.predict_proba(testing_X)\n",
      "    pred_probs = [p[1] for p in pred_probs]\n",
      "    \n",
      "    # Plotting Precision-Recall AUC\n",
      "    precision, recall, thresholds = precision_recall_curve(testing_y, pred_probs)\n",
      "    apr_auc = auc(recall, precision)\n",
      "    pl.plot(recall, precision, color = 'b', label='Precision-Recall curve (area = %0.2f)' % pr_auc)\n",
      "    pl.xlim([-0.05, 1.05])\n",
      "    pl.ylim([-0.05, 1.05])\n",
      "    pl.xlabel('Recall')\n",
      "    pl.ylabel('Precision')\n",
      "    pl.title('{} Precision-Recall'.format(clf_name))\n",
      "    pl.legend(loc=\"best\")\n",
      "    pl.show()\n",
      "    \n",
      "    # Appending a column\n",
      "    filled_test_data['{} Predicted Probs'.format(clf_name)] = pred_probs\n",
      "    return filled_test_data"
     ],
     "language": "python",
     "metadata": {},
     "outputs": [],
     "prompt_number": 363
    },
    {
     "cell_type": "code",
     "collapsed": false,
     "input": [
      "clf = RandomForestClassifier(n_estimators=100, criterion='gini',\n",
      "                             random_state=1)"
     ],
     "language": "python",
     "metadata": {},
     "outputs": [],
     "prompt_number": 334
    },
    {
     "cell_type": "code",
     "collapsed": false,
     "input": [
      "df = pred(clf, 'RF', model_data, test_data, feature_cols, \n",
      "          outcome_col)"
     ],
     "language": "python",
     "metadata": {},
     "outputs": [
      {
       "metadata": {},
       "output_type": "display_data",
       "png": "[encoded data removed]",
       "text": [
        "<matplotlib.figure.Figure at 0x10b07a1d0>"
       ]
      }
     ],
     "prompt_number": 350
    },
    {
     "cell_type": "code",
     "collapsed": false,
     "input": [
      "num_students = 194"
     ],
     "language": "python",
     "metadata": {},
     "outputs": [],
     "prompt_number": 361
    },
    {
     "cell_type": "code",
     "collapsed": false,
     "input": [
      "df.sort('RF Predicted Probs', ascending=False)[:num_students][outcome_col].value_counts(normalize=True)"
     ],
     "language": "python",
     "metadata": {},
     "outputs": [
      {
       "metadata": {},
       "output_type": "pyout",
       "prompt_number": 362,
       "text": [
        "0    0.510309\n",
        "1    0.489691\n",
        "dtype: float64"
       ]
      }
     ],
     "prompt_number": 362
    },
    {
     "cell_type": "markdown",
     "metadata": {},
     "source": [
      "### Using a logistic regression"
     ]
    },
    {
     "cell_type": "code",
     "collapsed": false,
     "input": [
      "model_data['intercept'] = 1"
     ],
     "language": "python",
     "metadata": {},
     "outputs": [],
     "prompt_number": 381
    },
    {
     "cell_type": "code",
     "collapsed": false,
     "input": [
      "test_data['intercept'] = 1"
     ],
     "language": "python",
     "metadata": {},
     "outputs": [],
     "prompt_number": 390
    },
    {
     "cell_type": "code",
     "collapsed": false,
     "input": [
      "important_features = ['GPA_Science_8th_grade',\n",
      "                     'GPA_8th_grade',\n",
      "                     'GPA_SocSci_8th_grade',\n",
      "#                      'daysabs_8th_grade',\n",
      "                     'GPA_Math_8th_grade',\n",
      "                     'school_code_8th_grade',\n",
      "                     'exc_abs_8th_grade',\n",
      "                     'unexc_abs_8th_grade',\n",
      "                     'GPA_ENG_8th_grade']"
     ],
     "language": "python",
     "metadata": {},
     "outputs": [],
     "prompt_number": 385
    },
    {
     "cell_type": "code",
     "collapsed": false,
     "input": [
      "from preprocessing import empirical_imputation"
     ],
     "language": "python",
     "metadata": {},
     "outputs": [],
     "prompt_number": 400
    },
    {
     "cell_type": "code",
     "collapsed": false,
     "input": [
      "## Impute model data using empirical draws"
     ],
     "language": "python",
     "metadata": {},
     "outputs": []
    },
    {
     "cell_type": "code",
     "collapsed": false,
     "input": [
      "np.random.seed(seed=1)"
     ],
     "language": "python",
     "metadata": {},
     "outputs": [],
     "prompt_number": 428
    },
    {
     "cell_type": "code",
     "collapsed": false,
     "input": [
      "imputed_training_data = pd.DataFrame()\n",
      "imputed_testing_data = pd.DataFrame()"
     ],
     "language": "python",
     "metadata": {},
     "outputs": [],
     "prompt_number": 429
    },
    {
     "cell_type": "code",
     "collapsed": false,
     "input": [
      "for col in important_features:\n",
      "    s = model_data[col].copy()\n",
      "    imputed_training_data[col] = empirical_imputation(s)\n",
      "\n",
      "for col in important_features:\n",
      "    s = test_data[col].copy()\n",
      "    imputed_testing_data[col] = empirical_imputation(s)\n",
      "    \n",
      "imputed_training_data['intercept'] = 1\n",
      "imputed_training_data[outcome_col] = model_data[outcome_col]\n",
      "imputed_testing_data['intercept'] = 1\n",
      "imputed_testing_data[outcome_col] = test_data[outcome_col]"
     ],
     "language": "python",
     "metadata": {},
     "outputs": [],
     "prompt_number": 430
    },
    {
     "cell_type": "code",
     "collapsed": false,
     "input": [
      "logit_model = sm.Logit(imputed_training_data[outcome_col], imputed_training_data[important_features + ['intercept']])"
     ],
     "language": "python",
     "metadata": {},
     "outputs": [],
     "prompt_number": 431
    },
    {
     "cell_type": "code",
     "collapsed": false,
     "input": [
      "logit_model = logit_model.fit()"
     ],
     "language": "python",
     "metadata": {},
     "outputs": [
      {
       "output_type": "stream",
       "stream": "stdout",
       "text": [
        "Warning: Maximum number of iterations has been exceeded.\n",
        "         Current function value: 0.238071\n",
        "         Iterations: 35\n"
       ]
      }
     ],
     "prompt_number": 432
    },
    {
     "cell_type": "code",
     "collapsed": false,
     "input": [
      "logit_model.summary()"
     ],
     "language": "python",
     "metadata": {},
     "outputs": [
      {
       "html": [
        "<table class=\"simpletable\">\n",
        "<caption>Logit Regression Results</caption>\n",
        "<tr>\n",
        "  <th>Dep. Variable:</th> <td>fail_to_finish_high_school_in_4_years</td> <th>  No. Observations:  </th>  <td>  1731</td>  \n",
        "</tr>\n",
        "<tr>\n",
        "  <th>Model:</th>                         <td>Logit</td>                 <th>  Df Residuals:      </th>  <td>  1722</td>  \n",
        "</tr>\n",
        "<tr>\n",
        "  <th>Method:</th>                         <td>MLE</td>                  <th>  Df Model:          </th>  <td>     8</td>  \n",
        "</tr>\n",
        "<tr>\n",
        "  <th>Date:</th>                    <td>Wed, 12 Nov 2014</td>            <th>  Pseudo R-squ.:     </th>  <td>0.3349</td>  \n",
        "</tr>\n",
        "<tr>\n",
        "  <th>Time:</th>                        <td>14:35:29</td>                <th>  Log-Likelihood:    </th> <td> -412.10</td> \n",
        "</tr>\n",
        "<tr>\n",
        "  <th>converged:</th>                     <td>False</td>                 <th>  LL-Null:           </th> <td> -619.60</td> \n",
        "</tr>\n",
        "<tr>\n",
        "  <th> </th>                                <td> </td>                   <th>  LLR p-value:       </th> <td>1.156e-84</td>\n",
        "</tr>\n",
        "</table>\n",
        "<table class=\"simpletable\">\n",
        "<tr>\n",
        "            <td></td>               <th>coef</th>     <th>std err</th>      <th>z</th>      <th>P>|z|</th> <th>[95.0% Conf. Int.]</th> \n",
        "</tr>\n",
        "<tr>\n",
        "  <th>GPA_Science_8th_grade</th> <td>    0.0208</td> <td>    0.016</td> <td>    1.271</td> <td> 0.204</td> <td>   -0.011     0.053</td>\n",
        "</tr>\n",
        "<tr>\n",
        "  <th>GPA_8th_grade</th>         <td>   -0.1487</td> <td>    0.025</td> <td>   -5.943</td> <td> 0.000</td> <td>   -0.198    -0.100</td>\n",
        "</tr>\n",
        "<tr>\n",
        "  <th>GPA_SocSci_8th_grade</th>  <td>   -0.0092</td> <td>    0.004</td> <td>   -2.246</td> <td> 0.025</td> <td>   -0.017    -0.001</td>\n",
        "</tr>\n",
        "<tr>\n",
        "  <th>GPA_Math_8th_grade</th>    <td>   -0.0015</td> <td>    0.008</td> <td>   -0.181</td> <td> 0.856</td> <td>   -0.018     0.015</td>\n",
        "</tr>\n",
        "<tr>\n",
        "  <th>school_code_8th_grade</th> <td>    0.0137</td> <td>    0.020</td> <td>    0.701</td> <td> 0.483</td> <td>   -0.025     0.052</td>\n",
        "</tr>\n",
        "<tr>\n",
        "  <th>exc_abs_8th_grade</th>     <td>    0.0510</td> <td>    0.014</td> <td>    3.534</td> <td> 0.000</td> <td>    0.023     0.079</td>\n",
        "</tr>\n",
        "<tr>\n",
        "  <th>unexc_abs_8th_grade</th>   <td>    0.0932</td> <td>    0.020</td> <td>    4.777</td> <td> 0.000</td> <td>    0.055     0.131</td>\n",
        "</tr>\n",
        "<tr>\n",
        "  <th>GPA_ENG_8th_grade</th>     <td>   -0.0171</td> <td>    0.008</td> <td>   -2.123</td> <td> 0.034</td> <td>   -0.033    -0.001</td>\n",
        "</tr>\n",
        "<tr>\n",
        "  <th>intercept</th>             <td>-1773.3342</td> <td> 2543.826</td> <td>   -0.697</td> <td> 0.486</td> <td>-6759.142  3212.474</td>\n",
        "</tr>\n",
        "</table>"
       ],
       "metadata": {},
       "output_type": "pyout",
       "prompt_number": 433,
       "text": [
        "<class 'statsmodels.iolib.summary.Summary'>\n",
        "\"\"\"\n",
        "                                     Logit Regression Results                                    \n",
        "=================================================================================================\n",
        "Dep. Variable:     fail_to_finish_high_school_in_4_years   No. Observations:                 1731\n",
        "Model:                                             Logit   Df Residuals:                     1722\n",
        "Method:                                              MLE   Df Model:                            8\n",
        "Date:                                   Wed, 12 Nov 2014   Pseudo R-squ.:                  0.3349\n",
        "Time:                                           14:35:29   Log-Likelihood:                -412.10\n",
        "converged:                                         False   LL-Null:                       -619.60\n",
        "                                                           LLR p-value:                 1.156e-84\n",
        "=========================================================================================\n",
        "                            coef    std err          z      P>|z|      [95.0% Conf. Int.]\n",
        "-----------------------------------------------------------------------------------------\n",
        "GPA_Science_8th_grade     0.0208      0.016      1.271      0.204        -0.011     0.053\n",
        "GPA_8th_grade            -0.1487      0.025     -5.943      0.000        -0.198    -0.100\n",
        "GPA_SocSci_8th_grade     -0.0092      0.004     -2.246      0.025        -0.017    -0.001\n",
        "GPA_Math_8th_grade       -0.0015      0.008     -0.181      0.856        -0.018     0.015\n",
        "school_code_8th_grade     0.0137      0.020      0.701      0.483        -0.025     0.052\n",
        "exc_abs_8th_grade         0.0510      0.014      3.534      0.000         0.023     0.079\n",
        "unexc_abs_8th_grade       0.0932      0.020      4.777      0.000         0.055     0.131\n",
        "GPA_ENG_8th_grade        -0.0171      0.008     -2.123      0.034        -0.033    -0.001\n",
        "intercept             -1773.3342   2543.826     -0.697      0.486     -6759.142  3212.474\n",
        "=========================================================================================\n",
        "\"\"\""
       ]
      }
     ],
     "prompt_number": 433
    },
    {
     "cell_type": "code",
     "collapsed": false,
     "input": [
      "log_preds = logit_model.predict(imputed_testing_data[important_features + ['intercept']])"
     ],
     "language": "python",
     "metadata": {},
     "outputs": [],
     "prompt_number": 434
    },
    {
     "cell_type": "code",
     "collapsed": false,
     "input": [
      "test_data['Log Preds'] = log_preds"
     ],
     "language": "python",
     "metadata": {},
     "outputs": [],
     "prompt_number": 435
    },
    {
     "cell_type": "code",
     "collapsed": false,
     "input": [
      "num_students = 194"
     ],
     "language": "python",
     "metadata": {},
     "outputs": [],
     "prompt_number": 448
    },
    {
     "cell_type": "code",
     "collapsed": false,
     "input": [
      "test_data.sort('Log Preds', ascending=False)[:num_students][outcome_col].value_counts(normalize=True)"
     ],
     "language": "python",
     "metadata": {},
     "outputs": [
      {
       "metadata": {},
       "output_type": "pyout",
       "prompt_number": 449,
       "text": [
        "0    0.56701\n",
        "1    0.43299\n",
        "dtype: float64"
       ]
      }
     ],
     "prompt_number": 449
    },
    {
     "cell_type": "code",
     "collapsed": false,
     "input": [
      "## Adding the four rules"
     ],
     "language": "python",
     "metadata": {},
     "outputs": [],
     "prompt_number": 451
    },
    {
     "cell_type": "code",
     "collapsed": false,
     "input": [
      "model_data = renamed_a[renamed_a['GPA_8th_grade'].notnull()\n",
      "                             & ~(renamed_a['External_Student_ID'].isin(exclude_student_ids)) \n",
      "                             & (renamed_a['transferred_out_before_graduating'] == 0)]"
     ],
     "language": "python",
     "metadata": {},
     "outputs": [],
     "prompt_number": 936
    },
    {
     "cell_type": "code",
     "collapsed": false,
     "input": [
      "test_data = renamed_b[renamed_b['GPA_8th_grade'].notnull()\n",
      "                             & ~(renamed_b['External_Student_ID'].isin(exclude_student_ids)) \n",
      "                             & (renamed_b['transferred_out_before_graduating'] == 0)]"
     ],
     "language": "python",
     "metadata": {},
     "outputs": [],
     "prompt_number": 937
    },
    {
     "cell_type": "code",
     "collapsed": false,
     "input": [
      "imputed_training_data['gpa_rule'] = imputed_training_data['GPA_8th_grade'].apply(lambda gpa: 1 if gpa <= 72.7 else 0)\n",
      "imputed_training_data['days_abs_rule'] = model_data['daysabs_8th_grade'].apply(lambda days_abs: 1 if days_abs >= 23 else 0)\n",
      "imputed_training_data['retained_rule'] = model_data['retained_in_8_majority_vote']\n",
      "imputed_training_data['num_marks_rule'] = model_data['Num_Marks_8th_grade'].apply(lambda marks: 1 if marks <= 4 else 0)"
     ],
     "language": "python",
     "metadata": {},
     "outputs": [],
     "prompt_number": 938
    },
    {
     "cell_type": "code",
     "collapsed": false,
     "input": [
      "imputed_testing_data['gpa_rule'] = imputed_testing_data['GPA_8th_grade'].apply(lambda gpa: 1 if gpa <= 72.7 else 0)\n",
      "imputed_testing_data['days_abs_rule'] = test_data['daysabs_8th_grade'].apply(lambda days_abs: 1 if days_abs >= 23 else 0)\n",
      "imputed_testing_data['retained_rule'] = test_data['retained_in_8_majority_vote']\n",
      "imputed_testing_data['num_marks_rule'] = test_data['Num_Marks_8th_grade'].apply(lambda marks: 1 if marks <= 4 else 0)"
     ],
     "language": "python",
     "metadata": {},
     "outputs": [],
     "prompt_number": 939
    },
    {
     "cell_type": "code",
     "collapsed": false,
     "input": [
      "important_features = ['GPA_Science_8th_grade',\n",
      "                     'GPA_8th_grade',\n",
      "                     'GPA_SocSci_8th_grade',\n",
      "                     'GPA_Math_8th_grade',\n",
      "                     'school_code_8th_grade',\n",
      "                     'exc_abs_8th_grade',\n",
      "                     'unexc_abs_8th_grade',\n",
      "                     'GPA_ENG_8th_grade',\n",
      "                     'gpa_rule',\n",
      "                     'days_abs_rule',\n",
      "                     'retained_rule',\n",
      "                     'num_marks_rule',\n",
      "                    ]"
     ],
     "language": "python",
     "metadata": {},
     "outputs": [],
     "prompt_number": 940
    },
    {
     "cell_type": "code",
     "collapsed": false,
     "input": [
      "logit_model = sm.Logit(imputed_training_data[outcome_col], imputed_training_data[important_features + ['intercept']])"
     ],
     "language": "python",
     "metadata": {},
     "outputs": [],
     "prompt_number": 941
    },
    {
     "cell_type": "code",
     "collapsed": false,
     "input": [
      "logit_model = logit_model.fit()"
     ],
     "language": "python",
     "metadata": {},
     "outputs": [
      {
       "output_type": "stream",
       "stream": "stdout",
       "text": [
        "Warning: Maximum number of iterations has been exceeded.\n",
        "         Current function value: 0.228205\n",
        "         Iterations: 35\n"
       ]
      }
     ],
     "prompt_number": 942
    },
    {
     "cell_type": "code",
     "collapsed": false,
     "input": [
      "logit_model.summary()"
     ],
     "language": "python",
     "metadata": {},
     "outputs": [
      {
       "html": [
        "<table class=\"simpletable\">\n",
        "<caption>Logit Regression Results</caption>\n",
        "<tr>\n",
        "  <th>Dep. Variable:</th> <td>fail_to_finish_high_school_in_4_years</td> <th>  No. Observations:  </th>  <td>  1731</td>  \n",
        "</tr>\n",
        "<tr>\n",
        "  <th>Model:</th>                         <td>Logit</td>                 <th>  Df Residuals:      </th>  <td>  1718</td>  \n",
        "</tr>\n",
        "<tr>\n",
        "  <th>Method:</th>                         <td>MLE</td>                  <th>  Df Model:          </th>  <td>    12</td>  \n",
        "</tr>\n",
        "<tr>\n",
        "  <th>Date:</th>                    <td>Wed, 12 Nov 2014</td>            <th>  Pseudo R-squ.:     </th>  <td>0.3625</td>  \n",
        "</tr>\n",
        "<tr>\n",
        "  <th>Time:</th>                        <td>18:34:38</td>                <th>  Log-Likelihood:    </th> <td> -395.02</td> \n",
        "</tr>\n",
        "<tr>\n",
        "  <th>converged:</th>                     <td>False</td>                 <th>  LL-Null:           </th> <td> -619.60</td> \n",
        "</tr>\n",
        "<tr>\n",
        "  <th> </th>                                <td> </td>                   <th>  LLR p-value:       </th> <td>1.426e-88</td>\n",
        "</tr>\n",
        "</table>\n",
        "<table class=\"simpletable\">\n",
        "<tr>\n",
        "            <td></td>               <th>coef</th>     <th>std err</th>      <th>z</th>      <th>P>|z|</th> <th>[95.0% Conf. Int.]</th> \n",
        "</tr>\n",
        "<tr>\n",
        "  <th>GPA_Science_8th_grade</th> <td>    0.0046</td> <td>    0.018</td> <td>    0.253</td> <td> 0.800</td> <td>   -0.031     0.041</td>\n",
        "</tr>\n",
        "<tr>\n",
        "  <th>GPA_8th_grade</th>         <td>   -0.1727</td> <td>    0.041</td> <td>   -4.224</td> <td> 0.000</td> <td>   -0.253    -0.093</td>\n",
        "</tr>\n",
        "<tr>\n",
        "  <th>GPA_SocSci_8th_grade</th>  <td>    0.0392</td> <td>    0.014</td> <td>    2.723</td> <td> 0.006</td> <td>    0.011     0.067</td>\n",
        "</tr>\n",
        "<tr>\n",
        "  <th>GPA_Math_8th_grade</th>    <td>   -0.0208</td> <td>    0.014</td> <td>   -1.527</td> <td> 0.127</td> <td>   -0.047     0.006</td>\n",
        "</tr>\n",
        "<tr>\n",
        "  <th>school_code_8th_grade</th> <td>    0.0217</td> <td>    0.021</td> <td>    1.048</td> <td> 0.295</td> <td>   -0.019     0.062</td>\n",
        "</tr>\n",
        "<tr>\n",
        "  <th>exc_abs_8th_grade</th>     <td>    0.0707</td> <td>    0.020</td> <td>    3.584</td> <td> 0.000</td> <td>    0.032     0.109</td>\n",
        "</tr>\n",
        "<tr>\n",
        "  <th>unexc_abs_8th_grade</th>   <td>    0.1221</td> <td>    0.023</td> <td>    5.309</td> <td> 0.000</td> <td>    0.077     0.167</td>\n",
        "</tr>\n",
        "<tr>\n",
        "  <th>GPA_ENG_8th_grade</th>     <td>   -0.0058</td> <td>    0.015</td> <td>   -0.382</td> <td> 0.703</td> <td>   -0.036     0.024</td>\n",
        "</tr>\n",
        "<tr>\n",
        "  <th>gpa_rule</th>              <td>   -0.1161</td> <td>    0.313</td> <td>   -0.371</td> <td> 0.711</td> <td>   -0.730     0.498</td>\n",
        "</tr>\n",
        "<tr>\n",
        "  <th>days_abs_rule</th>         <td>   -0.7182</td> <td>    0.466</td> <td>   -1.543</td> <td> 0.123</td> <td>   -1.631     0.194</td>\n",
        "</tr>\n",
        "<tr>\n",
        "  <th>retained_rule</th>         <td>   39.4867</td> <td> 1.94e+07</td> <td> 2.04e-06</td> <td> 1.000</td> <td> -3.8e+07   3.8e+07</td>\n",
        "</tr>\n",
        "<tr>\n",
        "  <th>num_marks_rule</th>        <td>    2.5985</td> <td>    0.690</td> <td>    3.764</td> <td> 0.000</td> <td>    1.245     3.952</td>\n",
        "</tr>\n",
        "<tr>\n",
        "  <th>intercept</th>             <td>-2821.9171</td> <td> 2702.548</td> <td>   -1.044</td> <td> 0.296</td> <td>-8118.813  2474.979</td>\n",
        "</tr>\n",
        "</table>"
       ],
       "metadata": {},
       "output_type": "pyout",
       "prompt_number": 943,
       "text": [
        "<class 'statsmodels.iolib.summary.Summary'>\n",
        "\"\"\"\n",
        "                                     Logit Regression Results                                    \n",
        "=================================================================================================\n",
        "Dep. Variable:     fail_to_finish_high_school_in_4_years   No. Observations:                 1731\n",
        "Model:                                             Logit   Df Residuals:                     1718\n",
        "Method:                                              MLE   Df Model:                           12\n",
        "Date:                                   Wed, 12 Nov 2014   Pseudo R-squ.:                  0.3625\n",
        "Time:                                           18:34:38   Log-Likelihood:                -395.02\n",
        "converged:                                         False   LL-Null:                       -619.60\n",
        "                                                           LLR p-value:                 1.426e-88\n",
        "=========================================================================================\n",
        "                            coef    std err          z      P>|z|      [95.0% Conf. Int.]\n",
        "-----------------------------------------------------------------------------------------\n",
        "GPA_Science_8th_grade     0.0046      0.018      0.253      0.800        -0.031     0.041\n",
        "GPA_8th_grade            -0.1727      0.041     -4.224      0.000        -0.253    -0.093\n",
        "GPA_SocSci_8th_grade      0.0392      0.014      2.723      0.006         0.011     0.067\n",
        "GPA_Math_8th_grade       -0.0208      0.014     -1.527      0.127        -0.047     0.006\n",
        "school_code_8th_grade     0.0217      0.021      1.048      0.295        -0.019     0.062\n",
        "exc_abs_8th_grade         0.0707      0.020      3.584      0.000         0.032     0.109\n",
        "unexc_abs_8th_grade       0.1221      0.023      5.309      0.000         0.077     0.167\n",
        "GPA_ENG_8th_grade        -0.0058      0.015     -0.382      0.703        -0.036     0.024\n",
        "gpa_rule                 -0.1161      0.313     -0.371      0.711        -0.730     0.498\n",
        "days_abs_rule            -0.7182      0.466     -1.543      0.123        -1.631     0.194\n",
        "retained_rule            39.4867   1.94e+07   2.04e-06      1.000      -3.8e+07   3.8e+07\n",
        "num_marks_rule            2.5985      0.690      3.764      0.000         1.245     3.952\n",
        "intercept             -2821.9171   2702.548     -1.044      0.296     -8118.813  2474.979\n",
        "=========================================================================================\n",
        "\"\"\""
       ]
      }
     ],
     "prompt_number": 943
    },
    {
     "cell_type": "code",
     "collapsed": false,
     "input": [
      "log_preds = logit_model.predict(imputed_testing_data[important_features + ['intercept']])"
     ],
     "language": "python",
     "metadata": {},
     "outputs": [],
     "prompt_number": 944
    },
    {
     "cell_type": "code",
     "collapsed": false,
     "input": [
      "test_data['Log + Rule Preds'] = log_preds"
     ],
     "language": "python",
     "metadata": {},
     "outputs": [],
     "prompt_number": 945
    },
    {
     "cell_type": "code",
     "collapsed": false,
     "input": [
      "test_data['Log + Rule Preds'].hist()"
     ],
     "language": "python",
     "metadata": {},
     "outputs": [
      {
       "metadata": {},
       "output_type": "pyout",
       "prompt_number": 946,
       "text": [
        "<matplotlib.axes.AxesSubplot at 0x11c192fd0>"
       ]
      },
      {
       "metadata": {},
       "output_type": "display_data",
       "png": "[encoded data removed]",
       "text": [
        "<matplotlib.figure.Figure at 0x11c189f50>"
       ]
      }
     ],
     "prompt_number": 946
    },
    {
     "cell_type": "code",
     "collapsed": false,
     "input": [
      "num_students = 195"
     ],
     "language": "python",
     "metadata": {},
     "outputs": [],
     "prompt_number": 956
    },
    {
     "cell_type": "code",
     "collapsed": false,
     "input": [
      "test_data.sort('Log + Rule Preds', ascending=False)[:num_students][outcome_col].value_counts(normalize=True)"
     ],
     "language": "python",
     "metadata": {},
     "outputs": [
      {
       "metadata": {},
       "output_type": "pyout",
       "prompt_number": 957,
       "text": [
        "0    0.533333\n",
        "1    0.466667\n",
        "dtype: float64"
       ]
      }
     ],
     "prompt_number": 957
    },
    {
     "cell_type": "markdown",
     "metadata": {},
     "source": [
      "### Predictions on other years\n",
      "\n",
      "After some discussion, we decided to use a logistic regression model with the top 7 features + features associated with the 4 rules.\n",
      "\n",
      "That amounted to the basic below (where the grade can be replaced with the relevant grade, and previous grades are also appended):\n",
      "\n",
      "- GPA_Science_8th_grade\n",
      "- GPA_8th_grade\n",
      "- GPA_SocSci_8th_grade\n",
      "- GPA_Math_8th_grade\n",
      "- school_code_8th_grade\n",
      "- exc_abs_8th_grade\n",
      "- unexc_abs_8th_grade\n",
      "- GPA_ENG_8th_grade\n",
      "- retained_in_8\n",
      "- Num_Marks_8th_grade"
     ]
    },
    {
     "cell_type": "code",
     "collapsed": false,
     "input": [
      "last_grade = 11\n",
      "exclude_grades = range(8, last_grade+1)\n",
      "exclude_student_ids = dropout_data[dropout_data['Grade'].isin(exclude_grades)]['External_Student_ID'].values"
     ],
     "language": "python",
     "metadata": {},
     "outputs": [],
     "prompt_number": 1271
    },
    {
     "cell_type": "code",
     "collapsed": false,
     "input": [
      "\n",
      "important_features = ['GPA_Science_{}th_grade'.format(last_grade),\n",
      "                     'GPA_{}th_grade'.format(last_grade),\n",
      "                     'GPA_SocSci_{}th_grade'.format(last_grade),\n",
      "                     'GPA_Math_{}th_grade'.format(last_grade),\n",
      "                     'school_code_{}th_grade'.format(last_grade),\n",
      "                     'exc_abs_{}th_grade'.format(last_grade),\n",
      "                     'unexc_abs_{}th_grade'.format(last_grade),\n",
      "                     'GPA_ENG_{}th_grade'.format(last_grade),\n",
      "                     'retained_in_{}_majority_vote'.format(last_grade),\n",
      "                     'Num_Marks_{}th_grade'.format(last_grade),\n",
      "                     ]\n",
      "                     \n",
      "for grade in range(8, last_grade):\n",
      "    previous_year_features = ['GPA_Science_{}th_grade'.format(grade),\n",
      "                     'GPA_{}th_grade'.format(grade),\n",
      "                     'GPA_SocSci_{}th_grade'.format(grade),\n",
      "                     'GPA_Math_{}th_grade'.format(grade),\n",
      "                     'school_code_{}th_grade'.format(grade),\n",
      "                     'exc_abs_{}th_grade'.format(grade),\n",
      "                     'unexc_abs_{}th_grade'.format(grade),\n",
      "                     'GPA_ENG_{}th_grade'.format(grade),\n",
      "                     'retained_in_{}_majority_vote'.format(grade),\n",
      "                     'Num_Marks_{}th_grade'.format(grade),\n",
      "                     ]\n",
      "    important_features += previous_year_features"
     ],
     "language": "python",
     "metadata": {},
     "outputs": [],
     "prompt_number": 1272
    },
    {
     "cell_type": "code",
     "collapsed": false,
     "input": [
      "important_features"
     ],
     "language": "python",
     "metadata": {},
     "outputs": [
      {
       "metadata": {},
       "output_type": "pyout",
       "prompt_number": 1273,
       "text": [
        "['GPA_Science_11th_grade',\n",
        " 'GPA_11th_grade',\n",
        " 'GPA_SocSci_11th_grade',\n",
        " 'GPA_Math_11th_grade',\n",
        " 'school_code_11th_grade',\n",
        " 'exc_abs_11th_grade',\n",
        " 'unexc_abs_11th_grade',\n",
        " 'GPA_ENG_11th_grade',\n",
        " 'retained_in_11_majority_vote',\n",
        " 'Num_Marks_11th_grade',\n",
        " 'GPA_Science_8th_grade',\n",
        " 'GPA_8th_grade',\n",
        " 'GPA_SocSci_8th_grade',\n",
        " 'GPA_Math_8th_grade',\n",
        " 'school_code_8th_grade',\n",
        " 'exc_abs_8th_grade',\n",
        " 'unexc_abs_8th_grade',\n",
        " 'GPA_ENG_8th_grade',\n",
        " 'retained_in_8_majority_vote',\n",
        " 'Num_Marks_8th_grade',\n",
        " 'GPA_Science_9th_grade',\n",
        " 'GPA_9th_grade',\n",
        " 'GPA_SocSci_9th_grade',\n",
        " 'GPA_Math_9th_grade',\n",
        " 'school_code_9th_grade',\n",
        " 'exc_abs_9th_grade',\n",
        " 'unexc_abs_9th_grade',\n",
        " 'GPA_ENG_9th_grade',\n",
        " 'retained_in_9_majority_vote',\n",
        " 'Num_Marks_9th_grade',\n",
        " 'GPA_Science_10th_grade',\n",
        " 'GPA_10th_grade',\n",
        " 'GPA_SocSci_10th_grade',\n",
        " 'GPA_Math_10th_grade',\n",
        " 'school_code_10th_grade',\n",
        " 'exc_abs_10th_grade',\n",
        " 'unexc_abs_10th_grade',\n",
        " 'GPA_ENG_10th_grade',\n",
        " 'retained_in_10_majority_vote',\n",
        " 'Num_Marks_10th_grade']"
       ]
      }
     ],
     "prompt_number": 1273
    },
    {
     "cell_type": "code",
     "collapsed": false,
     "input": [
      "renamed_a.shape"
     ],
     "language": "python",
     "metadata": {},
     "outputs": [
      {
       "metadata": {},
       "output_type": "pyout",
       "prompt_number": 1274,
       "text": [
        "(2866, 161)"
       ]
      }
     ],
     "prompt_number": 1274
    },
    {
     "cell_type": "code",
     "collapsed": false,
     "input": [
      "model_data = renamed_a[renamed_a['GPA_{}th_grade'.format(last_grade)].notnull()\n",
      "                             & ~(renamed_a['External_Student_ID'].isin(exclude_student_ids)) \n",
      "                             & (renamed_a['transferred_out_before_graduating'] == 0)]"
     ],
     "language": "python",
     "metadata": {},
     "outputs": [],
     "prompt_number": 1275
    },
    {
     "cell_type": "code",
     "collapsed": false,
     "input": [
      "test_data = renamed_b[renamed_b['GPA_{}th_grade'.format(last_grade)].notnull()\n",
      "                             & ~(renamed_b['External_Student_ID'].isin(exclude_student_ids)) \n",
      "                             & (renamed_b['transferred_out_before_graduating'] == 0)]"
     ],
     "language": "python",
     "metadata": {},
     "outputs": [],
     "prompt_number": 1276
    },
    {
     "cell_type": "code",
     "collapsed": false,
     "input": [
      "model_data[outcome_col].value_counts()"
     ],
     "language": "python",
     "metadata": {},
     "outputs": [
      {
       "metadata": {},
       "output_type": "pyout",
       "prompt_number": 1277,
       "text": [
        "0    1805\n",
        "1      88\n",
        "dtype: int64"
       ]
      }
     ],
     "prompt_number": 1277
    },
    {
     "cell_type": "code",
     "collapsed": false,
     "input": [
      "test_data[outcome_col].value_counts()"
     ],
     "language": "python",
     "metadata": {},
     "outputs": [
      {
       "metadata": {},
       "output_type": "pyout",
       "prompt_number": 1278,
       "text": [
        "0    1832\n",
        "1      93\n",
        "dtype: int64"
       ]
      }
     ],
     "prompt_number": 1278
    },
    {
     "cell_type": "code",
     "collapsed": false,
     "input": [
      "imputed_training_data = pd.DataFrame()\n",
      "imputed_testing_data = pd.DataFrame()"
     ],
     "language": "python",
     "metadata": {},
     "outputs": [],
     "prompt_number": 1279
    },
    {
     "cell_type": "code",
     "collapsed": false,
     "input": [
      "for col in important_features:\n",
      "    s = model_data[col].copy()\n",
      "    imputed_training_data[col] = empirical_imputation(s)\n",
      "\n",
      "for col in important_features:\n",
      "    s = test_data[col].copy()\n",
      "    imputed_testing_data[col] = empirical_imputation(s)\n",
      "    \n",
      "imputed_training_data['intercept'] = 1\n",
      "imputed_training_data[outcome_col] = model_data[outcome_col]\n",
      "imputed_testing_data['intercept'] = 1\n",
      "imputed_testing_data[outcome_col] = test_data[outcome_col]"
     ],
     "language": "python",
     "metadata": {},
     "outputs": [],
     "prompt_number": 1280
    },
    {
     "cell_type": "code",
     "collapsed": false,
     "input": [
      "logit_model = sm.Logit(imputed_training_data[outcome_col], imputed_training_data[important_features + ['intercept']]).fit()"
     ],
     "language": "python",
     "metadata": {},
     "outputs": [
      {
       "output_type": "stream",
       "stream": "stdout",
       "text": [
        "Warning: Maximum number of iterations has been exceeded.\n",
        "         Current function value: 0.116745\n",
        "         Iterations: 35\n"
       ]
      }
     ],
     "prompt_number": 1281
    },
    {
     "cell_type": "code",
     "collapsed": false,
     "input": [
      "logit_model.summary()"
     ],
     "language": "python",
     "metadata": {},
     "outputs": [
      {
       "html": [
        "<table class=\"simpletable\">\n",
        "<caption>Logit Regression Results</caption>\n",
        "<tr>\n",
        "  <th>Dep. Variable:</th> <td>fail_to_finish_high_school_in_4_years</td> <th>  No. Observations:  </th>  <td>  1893</td>  \n",
        "</tr>\n",
        "<tr>\n",
        "  <th>Model:</th>                         <td>Logit</td>                 <th>  Df Residuals:      </th>  <td>  1852</td>  \n",
        "</tr>\n",
        "<tr>\n",
        "  <th>Method:</th>                         <td>MLE</td>                  <th>  Df Model:          </th>  <td>    40</td>  \n",
        "</tr>\n",
        "<tr>\n",
        "  <th>Date:</th>                    <td>Wed, 12 Nov 2014</td>            <th>  Pseudo R-squ.:     </th>  <td>0.3791</td>  \n",
        "</tr>\n",
        "<tr>\n",
        "  <th>Time:</th>                        <td>19:14:18</td>                <th>  Log-Likelihood:    </th> <td> -221.00</td> \n",
        "</tr>\n",
        "<tr>\n",
        "  <th>converged:</th>                     <td>False</td>                 <th>  LL-Null:           </th> <td> -355.96</td> \n",
        "</tr>\n",
        "<tr>\n",
        "  <th> </th>                                <td> </td>                   <th>  LLR p-value:       </th> <td>6.950e-36</td>\n",
        "</tr>\n",
        "</table>\n",
        "<table class=\"simpletable\">\n",
        "<tr>\n",
        "                <td></td>                  <th>coef</th>     <th>std err</th>      <th>z</th>      <th>P>|z|</th> <th>[95.0% Conf. Int.]</th> \n",
        "</tr>\n",
        "<tr>\n",
        "  <th>GPA_Science_11th_grade</th>       <td>   -0.0053</td> <td>    0.016</td> <td>   -0.338</td> <td> 0.735</td> <td>   -0.036     0.025</td>\n",
        "</tr>\n",
        "<tr>\n",
        "  <th>GPA_11th_grade</th>               <td>    0.0113</td> <td>    0.041</td> <td>    0.276</td> <td> 0.782</td> <td>   -0.069     0.091</td>\n",
        "</tr>\n",
        "<tr>\n",
        "  <th>GPA_SocSci_11th_grade</th>        <td>   -0.0033</td> <td>    0.014</td> <td>   -0.238</td> <td> 0.812</td> <td>   -0.030     0.024</td>\n",
        "</tr>\n",
        "<tr>\n",
        "  <th>GPA_Math_11th_grade</th>          <td>    0.0017</td> <td>    0.013</td> <td>    0.126</td> <td> 0.900</td> <td>   -0.024     0.028</td>\n",
        "</tr>\n",
        "<tr>\n",
        "  <th>school_code_11th_grade</th>       <td> 1.412e-05</td> <td> 6.97e-06</td> <td>    2.027</td> <td> 0.043</td> <td> 4.65e-07  2.78e-05</td>\n",
        "</tr>\n",
        "<tr>\n",
        "  <th>exc_abs_11th_grade</th>           <td>    0.1397</td> <td>    0.062</td> <td>    2.270</td> <td> 0.023</td> <td>    0.019     0.260</td>\n",
        "</tr>\n",
        "<tr>\n",
        "  <th>unexc_abs_11th_grade</th>         <td>    0.0655</td> <td>    0.018</td> <td>    3.550</td> <td> 0.000</td> <td>    0.029     0.102</td>\n",
        "</tr>\n",
        "<tr>\n",
        "  <th>GPA_ENG_11th_grade</th>           <td>   -0.0337</td> <td>    0.015</td> <td>   -2.194</td> <td> 0.028</td> <td>   -0.064    -0.004</td>\n",
        "</tr>\n",
        "<tr>\n",
        "  <th>retained_in_11_majority_vote</th> <td>    0.8771</td> <td>    0.889</td> <td>    0.987</td> <td> 0.324</td> <td>   -0.865     2.619</td>\n",
        "</tr>\n",
        "<tr>\n",
        "  <th>Num_Marks_11th_grade</th>         <td>    0.5091</td> <td>    0.089</td> <td>    5.714</td> <td> 0.000</td> <td>    0.334     0.684</td>\n",
        "</tr>\n",
        "<tr>\n",
        "  <th>GPA_Science_8th_grade</th>        <td>    0.0061</td> <td>    0.020</td> <td>    0.303</td> <td> 0.762</td> <td>   -0.033     0.045</td>\n",
        "</tr>\n",
        "<tr>\n",
        "  <th>GPA_8th_grade</th>                <td>   -0.0223</td> <td>    0.032</td> <td>   -0.696</td> <td> 0.487</td> <td>   -0.085     0.041</td>\n",
        "</tr>\n",
        "<tr>\n",
        "  <th>GPA_SocSci_8th_grade</th>         <td>   -0.0190</td> <td>    0.018</td> <td>   -1.065</td> <td> 0.287</td> <td>   -0.054     0.016</td>\n",
        "</tr>\n",
        "<tr>\n",
        "  <th>GPA_Math_8th_grade</th>           <td>    0.0127</td> <td>    0.019</td> <td>    0.672</td> <td> 0.502</td> <td>   -0.024     0.050</td>\n",
        "</tr>\n",
        "<tr>\n",
        "  <th>school_code_8th_grade</th>        <td>    0.0637</td> <td>    0.028</td> <td>    2.254</td> <td> 0.024</td> <td>    0.008     0.119</td>\n",
        "</tr>\n",
        "<tr>\n",
        "  <th>exc_abs_8th_grade</th>            <td>    0.0102</td> <td>    0.034</td> <td>    0.301</td> <td> 0.763</td> <td>   -0.056     0.077</td>\n",
        "</tr>\n",
        "<tr>\n",
        "  <th>unexc_abs_8th_grade</th>          <td>    0.0141</td> <td>    0.039</td> <td>    0.358</td> <td> 0.721</td> <td>   -0.063     0.091</td>\n",
        "</tr>\n",
        "<tr>\n",
        "  <th>GPA_ENG_8th_grade</th>            <td>   -0.0221</td> <td>    0.020</td> <td>   -1.093</td> <td> 0.275</td> <td>   -0.062     0.018</td>\n",
        "</tr>\n",
        "<tr>\n",
        "  <th>retained_in_8_majority_vote</th>  <td>   40.0174</td> <td> 2.24e+07</td> <td> 1.79e-06</td> <td> 1.000</td> <td>-4.38e+07  4.38e+07</td>\n",
        "</tr>\n",
        "<tr>\n",
        "  <th>Num_Marks_8th_grade</th>          <td>   -0.4021</td> <td>    0.222</td> <td>   -1.813</td> <td> 0.070</td> <td>   -0.837     0.033</td>\n",
        "</tr>\n",
        "<tr>\n",
        "  <th>GPA_Science_9th_grade</th>        <td>    0.0128</td> <td>    0.012</td> <td>    1.086</td> <td> 0.277</td> <td>   -0.010     0.036</td>\n",
        "</tr>\n",
        "<tr>\n",
        "  <th>GPA_9th_grade</th>                <td>   -0.0384</td> <td>    0.022</td> <td>   -1.716</td> <td> 0.086</td> <td>   -0.082     0.005</td>\n",
        "</tr>\n",
        "<tr>\n",
        "  <th>GPA_SocSci_9th_grade</th>         <td>    0.0111</td> <td>    0.012</td> <td>    0.919</td> <td> 0.358</td> <td>   -0.013     0.035</td>\n",
        "</tr>\n",
        "<tr>\n",
        "  <th>GPA_Math_9th_grade</th>           <td>   -0.0050</td> <td>    0.014</td> <td>   -0.365</td> <td> 0.715</td> <td>   -0.032     0.022</td>\n",
        "</tr>\n",
        "<tr>\n",
        "  <th>school_code_9th_grade</th>        <td> 3.996e-06</td> <td> 9.99e-06</td> <td>    0.400</td> <td> 0.689</td> <td>-1.56e-05  2.36e-05</td>\n",
        "</tr>\n",
        "<tr>\n",
        "  <th>exc_abs_9th_grade</th>            <td>   -0.1461</td> <td>    0.061</td> <td>   -2.409</td> <td> 0.016</td> <td>   -0.265    -0.027</td>\n",
        "</tr>\n",
        "<tr>\n",
        "  <th>unexc_abs_9th_grade</th>          <td>   -0.0358</td> <td>    0.027</td> <td>   -1.317</td> <td> 0.188</td> <td>   -0.089     0.017</td>\n",
        "</tr>\n",
        "<tr>\n",
        "  <th>GPA_ENG_9th_grade</th>            <td>    0.0183</td> <td>    0.011</td> <td>    1.652</td> <td> 0.098</td> <td>   -0.003     0.040</td>\n",
        "</tr>\n",
        "<tr>\n",
        "  <th>retained_in_9_majority_vote</th>  <td>    1.4089</td> <td>    0.430</td> <td>    3.279</td> <td> 0.001</td> <td>    0.567     2.251</td>\n",
        "</tr>\n",
        "<tr>\n",
        "  <th>Num_Marks_9th_grade</th>          <td>   -0.2232</td> <td>    0.115</td> <td>   -1.939</td> <td> 0.052</td> <td>   -0.449     0.002</td>\n",
        "</tr>\n",
        "<tr>\n",
        "  <th>GPA_Science_10th_grade</th>       <td>   -0.0088</td> <td>    0.013</td> <td>   -0.696</td> <td> 0.486</td> <td>   -0.034     0.016</td>\n",
        "</tr>\n",
        "<tr>\n",
        "  <th>GPA_10th_grade</th>               <td>   -0.0423</td> <td>    0.030</td> <td>   -1.405</td> <td> 0.160</td> <td>   -0.101     0.017</td>\n",
        "</tr>\n",
        "<tr>\n",
        "  <th>GPA_SocSci_10th_grade</th>        <td>    0.0160</td> <td>    0.015</td> <td>    1.057</td> <td> 0.291</td> <td>   -0.014     0.046</td>\n",
        "</tr>\n",
        "<tr>\n",
        "  <th>GPA_Math_10th_grade</th>          <td>    0.0069</td> <td>    0.012</td> <td>    0.559</td> <td> 0.576</td> <td>   -0.017     0.031</td>\n",
        "</tr>\n",
        "<tr>\n",
        "  <th>school_code_10th_grade</th>       <td>-1.619e-06</td> <td>  6.8e-06</td> <td>   -0.238</td> <td> 0.812</td> <td>-1.49e-05  1.17e-05</td>\n",
        "</tr>\n",
        "<tr>\n",
        "  <th>exc_abs_10th_grade</th>           <td>    0.0581</td> <td>    0.057</td> <td>    1.025</td> <td> 0.306</td> <td>   -0.053     0.169</td>\n",
        "</tr>\n",
        "<tr>\n",
        "  <th>unexc_abs_10th_grade</th>         <td>    0.0098</td> <td>    0.024</td> <td>    0.407</td> <td> 0.684</td> <td>   -0.037     0.057</td>\n",
        "</tr>\n",
        "<tr>\n",
        "  <th>GPA_ENG_10th_grade</th>           <td>    0.0258</td> <td>    0.013</td> <td>    1.955</td> <td> 0.051</td> <td>-6.58e-05     0.052</td>\n",
        "</tr>\n",
        "<tr>\n",
        "  <th>retained_in_10_majority_vote</th> <td>    0.2115</td> <td>    0.589</td> <td>    0.359</td> <td> 0.720</td> <td>   -0.944     1.367</td>\n",
        "</tr>\n",
        "<tr>\n",
        "  <th>Num_Marks_10th_grade</th>         <td>    0.1207</td> <td>    0.161</td> <td>    0.749</td> <td> 0.454</td> <td>   -0.195     0.436</td>\n",
        "</tr>\n",
        "<tr>\n",
        "  <th>intercept</th>                    <td>-8297.5977</td> <td> 3679.568</td> <td>   -2.255</td> <td> 0.024</td> <td>-1.55e+04 -1085.777</td>\n",
        "</tr>\n",
        "</table>"
       ],
       "metadata": {},
       "output_type": "pyout",
       "prompt_number": 1282,
       "text": [
        "<class 'statsmodels.iolib.summary.Summary'>\n",
        "\"\"\"\n",
        "                                     Logit Regression Results                                    \n",
        "=================================================================================================\n",
        "Dep. Variable:     fail_to_finish_high_school_in_4_years   No. Observations:                 1893\n",
        "Model:                                             Logit   Df Residuals:                     1852\n",
        "Method:                                              MLE   Df Model:                           40\n",
        "Date:                                   Wed, 12 Nov 2014   Pseudo R-squ.:                  0.3791\n",
        "Time:                                           19:14:18   Log-Likelihood:                -221.00\n",
        "converged:                                         False   LL-Null:                       -355.96\n",
        "                                                           LLR p-value:                 6.950e-36\n",
        "================================================================================================\n",
        "                                   coef    std err          z      P>|z|      [95.0% Conf. Int.]\n",
        "------------------------------------------------------------------------------------------------\n",
        "GPA_Science_11th_grade          -0.0053      0.016     -0.338      0.735        -0.036     0.025\n",
        "GPA_11th_grade                   0.0113      0.041      0.276      0.782        -0.069     0.091\n",
        "GPA_SocSci_11th_grade           -0.0033      0.014     -0.238      0.812        -0.030     0.024\n",
        "GPA_Math_11th_grade              0.0017      0.013      0.126      0.900        -0.024     0.028\n",
        "school_code_11th_grade        1.412e-05   6.97e-06      2.027      0.043      4.65e-07  2.78e-05\n",
        "exc_abs_11th_grade               0.1397      0.062      2.270      0.023         0.019     0.260\n",
        "unexc_abs_11th_grade             0.0655      0.018      3.550      0.000         0.029     0.102\n",
        "GPA_ENG_11th_grade              -0.0337      0.015     -2.194      0.028        -0.064    -0.004\n",
        "retained_in_11_majority_vote     0.8771      0.889      0.987      0.324        -0.865     2.619\n",
        "Num_Marks_11th_grade             0.5091      0.089      5.714      0.000         0.334     0.684\n",
        "GPA_Science_8th_grade            0.0061      0.020      0.303      0.762        -0.033     0.045\n",
        "GPA_8th_grade                   -0.0223      0.032     -0.696      0.487        -0.085     0.041\n",
        "GPA_SocSci_8th_grade            -0.0190      0.018     -1.065      0.287        -0.054     0.016\n",
        "GPA_Math_8th_grade               0.0127      0.019      0.672      0.502        -0.024     0.050\n",
        "school_code_8th_grade            0.0637      0.028      2.254      0.024         0.008     0.119\n",
        "exc_abs_8th_grade                0.0102      0.034      0.301      0.763        -0.056     0.077\n",
        "unexc_abs_8th_grade              0.0141      0.039      0.358      0.721        -0.063     0.091\n",
        "GPA_ENG_8th_grade               -0.0221      0.020     -1.093      0.275        -0.062     0.018\n",
        "retained_in_8_majority_vote     40.0174   2.24e+07   1.79e-06      1.000     -4.38e+07  4.38e+07\n",
        "Num_Marks_8th_grade             -0.4021      0.222     -1.813      0.070        -0.837     0.033\n",
        "GPA_Science_9th_grade            0.0128      0.012      1.086      0.277        -0.010     0.036\n",
        "GPA_9th_grade                   -0.0384      0.022     -1.716      0.086        -0.082     0.005\n",
        "GPA_SocSci_9th_grade             0.0111      0.012      0.919      0.358        -0.013     0.035\n",
        "GPA_Math_9th_grade              -0.0050      0.014     -0.365      0.715        -0.032     0.022\n",
        "school_code_9th_grade         3.996e-06   9.99e-06      0.400      0.689     -1.56e-05  2.36e-05\n",
        "exc_abs_9th_grade               -0.1461      0.061     -2.409      0.016        -0.265    -0.027\n",
        "unexc_abs_9th_grade             -0.0358      0.027     -1.317      0.188        -0.089     0.017\n",
        "GPA_ENG_9th_grade                0.0183      0.011      1.652      0.098        -0.003     0.040\n",
        "retained_in_9_majority_vote      1.4089      0.430      3.279      0.001         0.567     2.251\n",
        "Num_Marks_9th_grade             -0.2232      0.115     -1.939      0.052        -0.449     0.002\n",
        "GPA_Science_10th_grade          -0.0088      0.013     -0.696      0.486        -0.034     0.016\n",
        "GPA_10th_grade                  -0.0423      0.030     -1.405      0.160        -0.101     0.017\n",
        "GPA_SocSci_10th_grade            0.0160      0.015      1.057      0.291        -0.014     0.046\n",
        "GPA_Math_10th_grade              0.0069      0.012      0.559      0.576        -0.017     0.031\n",
        "school_code_10th_grade       -1.619e-06    6.8e-06     -0.238      0.812     -1.49e-05  1.17e-05\n",
        "exc_abs_10th_grade               0.0581      0.057      1.025      0.306        -0.053     0.169\n",
        "unexc_abs_10th_grade             0.0098      0.024      0.407      0.684        -0.037     0.057\n",
        "GPA_ENG_10th_grade               0.0258      0.013      1.955      0.051     -6.58e-05     0.052\n",
        "retained_in_10_majority_vote     0.2115      0.589      0.359      0.720        -0.944     1.367\n",
        "Num_Marks_10th_grade             0.1207      0.161      0.749      0.454        -0.195     0.436\n",
        "intercept                    -8297.5977   3679.568     -2.255      0.024     -1.55e+04 -1085.777\n",
        "================================================================================================\n",
        "\"\"\""
       ]
      }
     ],
     "prompt_number": 1282
    },
    {
     "cell_type": "code",
     "collapsed": false,
     "input": [
      "pred_probs = logit_model.predict(imputed_testing_data[important_features + ['intercept']])"
     ],
     "language": "python",
     "metadata": {},
     "outputs": [],
     "prompt_number": 1283
    },
    {
     "cell_type": "code",
     "collapsed": false,
     "input": [
      "imputed_testing_data['log_{}_probs'.format(last_grade)] = pred_probs"
     ],
     "language": "python",
     "metadata": {},
     "outputs": [],
     "prompt_number": 1284
    },
    {
     "cell_type": "code",
     "collapsed": false,
     "input": [
      "imputed_testing_data['log_{}_probs'.format(last_grade)].hist()"
     ],
     "language": "python",
     "metadata": {},
     "outputs": [
      {
       "metadata": {},
       "output_type": "pyout",
       "prompt_number": 1285,
       "text": [
        "<matplotlib.axes.AxesSubplot at 0x11e3560d0>"
       ]
      },
      {
       "metadata": {},
       "output_type": "display_data",
       "png": "[encoded data removed]",
       "text": [
        "<matplotlib.figure.Figure at 0x11e16f750>"
       ]
      }
     ],
     "prompt_number": 1285
    },
    {
     "cell_type": "code",
     "collapsed": false,
     "input": [
      "num_students = 10"
     ],
     "language": "python",
     "metadata": {},
     "outputs": [],
     "prompt_number": 1300
    },
    {
     "cell_type": "code",
     "collapsed": false,
     "input": [
      "imputed_testing_data.sort('log_{}_probs'.format(last_grade), ascending=False)[:num_students][outcome_col].value_counts(normalize=True)"
     ],
     "language": "python",
     "metadata": {},
     "outputs": [
      {
       "metadata": {},
       "output_type": "pyout",
       "prompt_number": 1301,
       "text": [
        "1    0.5\n",
        "0    0.5\n",
        "dtype: float64"
       ]
      }
     ],
     "prompt_number": 1301
    },
    {
     "cell_type": "markdown",
     "metadata": {},
     "source": [
      "## Feature Importance"
     ]
    },
    {
     "cell_type": "code",
     "collapsed": false,
     "input": [
      "last_grade = 8\n",
      "exclude_grades = range(8, last_grade+1)\n",
      "exclude_student_ids = dropout_data[dropout_data['Grade'].isin(exclude_grades)]['External_Student_ID'].values"
     ],
     "language": "python",
     "metadata": {},
     "outputs": [],
     "prompt_number": 1444
    },
    {
     "cell_type": "code",
     "collapsed": false,
     "input": [
      "model_data = renamed_a[renamed_a['GPA_{}th_grade'.format(last_grade)].notnull()\n",
      "                             & ~(renamed_a['External_Student_ID'].isin(exclude_student_ids)) \n",
      "                             & (renamed_a['transferred_out_before_graduating'] == 0)]"
     ],
     "language": "python",
     "metadata": {},
     "outputs": [],
     "prompt_number": 1445
    },
    {
     "cell_type": "code",
     "collapsed": false,
     "input": [
      "clf = tree.DecisionTreeClassifier(criterion='gini')"
     ],
     "language": "python",
     "metadata": {},
     "outputs": [],
     "prompt_number": 1446
    },
    {
     "cell_type": "code",
     "collapsed": false,
     "input": [
      "outcome_col = 'fail_to_finish_high_school_in_4_years'\n",
      "feature_cols = []\n",
      "for year in range(8, last_grade+1):\n",
      "    feature_cols += [\n",
      "#                      'CITY_{}th_grade'.format(year),\n",
      "                     'GPA_{}th_grade'.format(year),\n",
      "                     'GPA_ENG_{}th_grade'.format(year),\n",
      "                     'GPA_Math_{}th_grade'.format(year),\n",
      "                     'GPA_Science_{}th_grade'.format(year),\n",
      "                     'GPA_SocSci_{}th_grade'.format(year),\n",
      "#                      'Grade_{}th_grade'.format(year),\n",
      "                     'NumAdvanced_{}th_grade'.format(year),\n",
      "                     'NumAdvanced_ENG_{}th_grade'.format(year),\n",
      "                     'NumAdvanced_Math_{}th_grade'.format(year),\n",
      "                     'NumAdvanced_Science_{}th_grade'.format(year),\n",
      "                     'NumAdvanced_SocSci_{}th_grade'.format(year),\n",
      "                     'Num_ENG_{}th_grade'.format(year),\n",
      "                     'Num_Marks_{}th_grade'.format(year),\n",
      "                     'Num_Math_{}th_grade'.format(year),\n",
      "                     'Num_Science_{}th_grade'.format(year),\n",
      "                     'Num_SocSci_{}th_grade'.format(year),\n",
      "#                      'STATE_{}th_grade'.format(year),\n",
      "#                      'Street_{}th_grade'.format(year),\n",
      "                     'ZIP_{}th_grade'.format(year),\n",
      "                     'daysabs_{}th_grade'.format(year),\n",
      "                     'eds_{}th_grade'.format(year),\n",
      "                     'ethnic_{}th_grade'.format(year),\n",
      "                     'exc_abs_{}th_grade'.format(year),\n",
      "#                      'grade_{}th_grade'.format(year),\n",
      "                     'lep_{}th_grade'.format(year),\n",
      "                     'reporting_year_{}th_grade'.format(year),\n",
      "                     'retained_in_{}_majority_vote'.format(year),\n",
      "                     'school_code_{}th_grade'.format(year),\n",
      "                     'sex_{}th_grade'.format(year),\n",
      "                     'swd_{}th_grade'.format(year),\n",
      "                     'times_tardy_{}th_grade'.format(year),\n",
      "                     'unexc_abs_{}th_grade'.format(year)]"
     ],
     "language": "python",
     "metadata": {},
     "outputs": [],
     "prompt_number": 1447
    },
    {
     "cell_type": "code",
     "collapsed": false,
     "input": [
      "model_data = model_data.fillna(-1)"
     ],
     "language": "python",
     "metadata": {},
     "outputs": [],
     "prompt_number": 1448
    },
    {
     "cell_type": "code",
     "collapsed": false,
     "input": [
      "X, y = preprocess(model_data[feature_cols + [outcome_col]], outcome_col\n",
      "                  , doFeatureSelection=False)"
     ],
     "language": "python",
     "metadata": {},
     "outputs": [],
     "prompt_number": 1449
    },
    {
     "cell_type": "code",
     "collapsed": false,
     "input": [
      "clf = clf.fit(X, y)"
     ],
     "language": "python",
     "metadata": {},
     "outputs": [],
     "prompt_number": 1450
    },
    {
     "cell_type": "code",
     "collapsed": false,
     "input": [
      "sorted_features, sorted_importances = get_feature_importances(clf, feature_cols)"
     ],
     "language": "python",
     "metadata": {},
     "outputs": [
      {
       "output_type": "stream",
       "stream": "stdout",
       "text": [
        "Feature Importances:\n",
        "----------\n",
        "1. GPA_8th_grade - 0.329\n",
        "2. exc_abs_8th_grade - 0.105\n",
        "3. GPA_ENG_8th_grade - 0.092\n",
        "4. GPA_Science_8th_grade - 0.082\n",
        "5. daysabs_8th_grade - 0.077\n",
        "6. GPA_SocSci_8th_grade - 0.061\n",
        "7. school_code_8th_grade - 0.058\n",
        "8. unexc_abs_8th_grade - 0.042\n",
        "9. GPA_Math_8th_grade - 0.040\n",
        "10. Num_Marks_8th_grade - 0.034\n",
        "11. ZIP_8th_grade - 0.028\n",
        "12. retained_in_8_majority_vote - 0.017\n",
        "13. ethnic_8th_grade - 0.013\n",
        "14. swd_8th_grade - 0.007\n",
        "15. Num_Science_8th_grade - 0.006\n",
        "16. eds_8th_grade - 0.003\n",
        "17. Num_SocSci_8th_grade - 0.003\n",
        "18. Num_Math_8th_grade - 0.003\n",
        "19. Num_ENG_8th_grade - 0.001\n",
        "20. NumAdvanced_8th_grade - 0.000\n",
        "21. sex_8th_grade - 0.000\n",
        "22. lep_8th_grade - 0.000\n",
        "23. NumAdvanced_ENG_8th_grade - 0.000\n",
        "24. NumAdvanced_Math_8th_grade - 0.000\n",
        "25. NumAdvanced_Science_8th_grade - 0.000\n",
        "26. times_tardy_8th_grade - 0.000\n",
        "27. reporting_year_8th_grade - 0.000\n",
        "28. NumAdvanced_SocSci_8th_grade - 0.000\n"
       ]
      }
     ],
     "prompt_number": 1451
    },
    {
     "cell_type": "code",
     "collapsed": false,
     "input": [
      "model_data['times_tardy_8th_grade'].value_counts()"
     ],
     "language": "python",
     "metadata": {},
     "outputs": [
      {
       "metadata": {},
       "output_type": "pyout",
       "prompt_number": 1452,
       "text": [
        "0    1731\n",
        "dtype: int64"
       ]
      }
     ],
     "prompt_number": 1452
    },
    {
     "cell_type": "code",
     "collapsed": false,
     "input": [],
     "language": "python",
     "metadata": {},
     "outputs": [],
     "prompt_number": 1452
    },
    {
     "cell_type": "code",
     "collapsed": false,
     "input": [],
     "language": "python",
     "metadata": {},
     "outputs": []
    }
   ],
   "metadata": {}
  }
 ]
}