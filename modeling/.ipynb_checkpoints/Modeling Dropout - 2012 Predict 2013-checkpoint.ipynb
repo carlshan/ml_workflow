{
 "metadata": {
  "name": "",
  "signature": "sha256:80b2e708aea9501368d14c9425c8ad30718cfbac11b65a0703789cf3222dc78d"
 },
 "nbformat": 3,
 "nbformat_minor": 0,
 "worksheets": [
  {
   "cells": [
    {
     "cell_type": "code",
     "collapsed": false,
     "input": [
      "## Last modified: 12/9/2014 by Carl"
     ],
     "language": "python",
     "metadata": {},
     "outputs": [],
     "prompt_number": 1
    },
    {
     "cell_type": "code",
     "collapsed": false,
     "input": [
      "%pylab inline\n",
      "import pandas as pd\n",
      "import classification\n",
      "import matplotlib.pylab as pl\n",
      "import numpy as np\n",
      "import sys\n",
      "sys.path.append('../etl/')\n",
      "import util\n",
      "from sklearn.ensemble import RandomForestClassifier\n",
      "from sklearn import preprocessing, decomposition\n",
      "from sklearn.tree import DecisionTreeClassifier\n",
      "from sklearn.metrics import precision_recall_curve, auc\n",
      "import random\n",
      "pd.options.display.mpl_style = 'default'\n",
      "import statsmodels.api as sm"
     ],
     "language": "python",
     "metadata": {},
     "outputs": [
      {
       "output_type": "stream",
       "stream": "stdout",
       "text": [
        "Populating the interactive namespace from numpy and matplotlib\n"
       ]
      }
     ],
     "prompt_number": 2
    },
    {
     "cell_type": "code",
     "collapsed": false,
     "input": [
      "data_path = 's3://dsapp-edu-data/NC-Cabarrus/cleaned_data/'\n",
      "data_filename = 'master_10_17_2014.csv'"
     ],
     "language": "python",
     "metadata": {},
     "outputs": [],
     "prompt_number": 3
    },
    {
     "cell_type": "code",
     "collapsed": false,
     "input": [
      "data = pd.read_csv(data_path+data_filename)\n",
      "# The error below comes from parsing columns that have multiple data types\n",
      "# pandas automatically tries to find the \"right\" data type for that column\n",
      "# however, it needs to load the entire column into memory to do so if \n",
      "# there are multiple data types.\n",
      "# Otherwise, I believe it just smartly guesses what data type the column\n",
      "# should be.\n",
      "# So, all in all, I don't think the error is a big deal."
     ],
     "language": "python",
     "metadata": {},
     "outputs": [
      {
       "output_type": "stream",
       "stream": "stderr",
       "text": [
        "//anaconda/lib/python2.7/site-packages/pandas/io/parsers.py:1150: DtypeWarning: Columns (194,195,196) have mixed types. Specify dtype option on import or set low_memory=False.\n",
        "  data = self._reader.read(nrows)\n"
       ]
      }
     ],
     "prompt_number": 4
    },
    {
     "cell_type": "code",
     "collapsed": false,
     "input": [
      "data.shape"
     ],
     "language": "python",
     "metadata": {},
     "outputs": [
      {
       "metadata": {},
       "output_type": "pyout",
       "prompt_number": 5,
       "text": [
        "(28604, 248)"
       ]
      }
     ],
     "prompt_number": 5
    },
    {
     "cell_type": "code",
     "collapsed": false,
     "input": [
      "dropout_data = pd.read_csv(data_path + 'Dropout_Data_0708_1213_20141001_clean_2014_10_1.txt')"
     ],
     "language": "python",
     "metadata": {},
     "outputs": [],
     "prompt_number": 6
    },
    {
     "cell_type": "code",
     "collapsed": false,
     "input": [
      "dropout_data.shape"
     ],
     "language": "python",
     "metadata": {},
     "outputs": [
      {
       "metadata": {},
       "output_type": "pyout",
       "prompt_number": 7,
       "text": [
        "(1943, 10)"
       ]
      }
     ],
     "prompt_number": 7
    },
    {
     "cell_type": "code",
     "collapsed": false,
     "input": [
      "include_cols = [\n",
      " 'External_Student_ID',\n",
      " 'Grade_8th_grade',\n",
      " 'STATE_12th_grade',\n",
      " 'STATE_11th_grade',\n",
      " 'eds_8th_grade',\n",
      " 'GPA_Math_11th_grade',\n",
      " 'GPA_Math_12th_grade',\n",
      " 'GPA_Math_9th_grade',\n",
      " 'GPA_Math_10th_grade',\n",
      " 'swd_8th_grade',\n",
      " 'Street_8th_grade',\n",
      " 'CITY_10th_grade',\n",
      " 'NumAdvanced_8th_grade',\n",
      " 'CITY_9th_grade',\n",
      " 'STATE_10th_grade',\n",
      " 'grade_11th_grade',\n",
      " 'STATE_9th_grade',\n",
      " 'lep_8th_grade',\n",
      " 'GPA_SocSci_9th_grade',\n",
      " 'Grade_11th_grade',\n",
      " 'GPA_SocSci_10th_grade',\n",
      " 'reporting_year_8th_grade',\n",
      " 'Street_11th_grade',\n",
      " 'Street_12th_grade',\n",
      " 'GPA_Science_8th_grade',\n",
      " 'sex_11th_grade',\n",
      " 'GPA_Science_12th_grade',\n",
      " 'sex_9th_grade',\n",
      " 'sex_10th_grade',\n",
      " 'Num_Marks_8th_grade',\n",
      " 'daysabs_10th_grade',\n",
      " 'daysabs_9th_grade',\n",
      " 'NumAdvanced_SocSci_8th_grade',\n",
      " 'times_tardy_8th_grade',\n",
      " 'lep_11th_grade',\n",
      " 'lep_10th_grade',\n",
      " 'lep_9th_grade',\n",
      " 'sex_8th_grade',\n",
      " 'Street_9th_grade',\n",
      " 'Street_10th_grade',\n",
      " 'Grade_12th_grade',\n",
      " 'Grade_10th_grade',\n",
      " 'Grade_9th_grade',\n",
      " 'GPA_Science_10th_grade',\n",
      " 'GPA_Science_9th_grade',\n",
      " 'GPA_Science_11th_grade',\n",
      " 'GPA_9th_grade',\n",
      " 'GPA_10th_grade',\n",
      " 'GPA_11th_grade',\n",
      " 'GPA_12th_grade',\n",
      " 'NumAdvanced_SocSci_11th_grade',\n",
      " 'Num_Science_8th_grade',\n",
      " 'NumAdvanced_SocSci_9th_grade',\n",
      " 'NumAdvanced_SocSci_10th_grade',\n",
      " 'GPA_SocSci_8th_grade',\n",
      " 'reporting_year_10th_grade',\n",
      " 'reporting_year_9th_grade',\n",
      " 'CITY_8th_grade',\n",
      " 'eds_10th_grade',\n",
      " 'eds_11th_grade',\n",
      " 'grade_8th_grade',\n",
      " 'Num_SocSci_8th_grade',\n",
      " 'GPA_ENG_8th_grade',\n",
      " 'Num_Marks_10th_grade',\n",
      " 'Num_Marks_9th_grade',\n",
      " 'Num_Marks_12th_grade',\n",
      " 'Num_Marks_11th_grade',\n",
      " 'NumAdvanced_Science_8th_grade',\n",
      " 'Num_Science_12th_grade',\n",
      " 'Num_Science_11th_grade',\n",
      " 'Num_Science_10th_grade',\n",
      " 'Num_Science_9th_grade',\n",
      " 'GPA_SocSci_11th_grade',\n",
      " 'GPA_SocSci_12th_grade',\n",
      " 'GPA_8th_grade',\n",
      " 'NumAdvanced_ENG_8th_grade',\n",
      " 'reporting_year_11th_grade',\n",
      " 'grade_10th_grade',\n",
      " 'grade_9th_grade',\n",
      " 'exc_abs_8th_grade',\n",
      " 'daysabs_8th_grade',\n",
      " 'Num_ENG_8th_grade',\n",
      " 'Num_SocSci_9th_grade',\n",
      " 'Num_SocSci_10th_grade',\n",
      " 'Num_SocSci_11th_grade',\n",
      " 'Num_SocSci_12th_grade',\n",
      " 'GPA_ENG_12th_grade',\n",
      " 'GPA_ENG_11th_grade',\n",
      " 'GPA_ENG_10th_grade',\n",
      " 'GPA_ENG_9th_grade',\n",
      " 'ZIP_8th_grade',\n",
      " 'NumAdvanced_Science_10th_grade',\n",
      " 'NumAdvanced_Science_12th_grade',\n",
      " 'NumAdvanced_Science_11th_grade',\n",
      " 'times_tardy_11th_grade',\n",
      " 'times_tardy_10th_grade',\n",
      " 'times_tardy_9th_grade',\n",
      " 'NumAdvanced_ENG_12th_grade',\n",
      " 'NumAdvanced_ENG_11th_grade',\n",
      " 'NumAdvanced_ENG_10th_grade',\n",
      " 'NumAdvanced_ENG_9th_grade',\n",
      " 'ZIP_12th_grade',\n",
      " 'ethnic_8th_grade',\n",
      " 'CITY_11th_grade',\n",
      " 'CITY_12th_grade',\n",
      " 'Num_ENG_10th_grade',\n",
      " 'Num_ENG_9th_grade',\n",
      " 'Num_ENG_12th_grade',\n",
      " 'Num_ENG_11th_grade',\n",
      " 'daysabs_11th_grade',\n",
      " 'Num_Math_8th_grade',\n",
      " 'eds_9th_grade',\n",
      " 'unexc_abs_9th_grade',\n",
      " 'unexc_abs_10th_grade',\n",
      " 'unexc_abs_11th_grade',\n",
      " 'ZIP_10th_grade',\n",
      " 'ZIP_9th_grade',\n",
      " 'ZIP_11th_grade',\n",
      " 'NumAdvanced_Math_11th_grade',\n",
      " 'NumAdvanced_Math_12th_grade',\n",
      " 'NumAdvanced_Math_9th_grade',\n",
      " 'NumAdvanced_Math_10th_grade',\n",
      " 'NumAdvanced_SocSci_12th_grade',\n",
      " 'Num_Math_9th_grade',\n",
      " 'Num_Math_10th_grade',\n",
      " 'Num_Math_11th_grade',\n",
      " 'Num_Math_12th_grade',\n",
      " 'school_code_11th_grade',\n",
      " 'school_code_9th_grade',\n",
      " 'ethnic_11th_grade',\n",
      " 'ethnic_9th_grade',\n",
      " 'ethnic_10th_grade',\n",
      " 'exc_abs_9th_grade',\n",
      " 'unexc_abs_8th_grade',\n",
      " 'STATE_8th_grade',\n",
      " 'NumAdvanced_Math_8th_grade',\n",
      " 'exc_abs_11th_grade',\n",
      " 'exc_abs_10th_grade',\n",
      " 'NumAdvanced_Science_9th_grade',\n",
      " 'school_code_10th_grade',\n",
      " 'GPA_Math_8th_grade',\n",
      " 'swd_9th_grade',\n",
      " 'swd_10th_grade',\n",
      " 'swd_11th_grade',\n",
      " 'school_code_8th_grade',\n",
      " 'NumAdvanced_9th_grade',\n",
      " 'NumAdvanced_10th_grade',\n",
      " 'NumAdvanced_11th_grade',\n",
      " 'NumAdvanced_12th_grade',\n",
      " 'earliest_reporting_year_majority_vote',\n",
      " 'earliest_recorded_grade_majority_vote',\n",
      " 'retained_in_8_majority_vote',\n",
      " 'retained_in_9_majority_vote',\n",
      " 'retained_in_10_majority_vote',\n",
      " 'retained_in_11_majority_vote',\n",
      " 'retained_in_12_majority_vote',\n",
      " 'expected_graduation_year_majority_vote',\n",
      " 'Grade_dropout',\n",
      " 'dropout_outcome',\n",
      "'fail_to_finish_high_school_in_4_years',\n",
      "'transferred_out_before_graduating',]"
     ],
     "language": "python",
     "metadata": {},
     "outputs": [],
     "prompt_number": 8
    },
    {
     "cell_type": "code",
     "collapsed": false,
     "input": [
      "cohort_a = data[data['expected_graduation_year_majority_vote'] == 2012]\n",
      "cohort_b = data[data['expected_graduation_year_majority_vote'] == 2013]\n",
      "cohort_c = data[data['expected_graduation_year_majority_vote'] == 2014]"
     ],
     "language": "python",
     "metadata": {},
     "outputs": [],
     "prompt_number": 9
    },
    {
     "cell_type": "code",
     "collapsed": false,
     "input": [
      "renamed_a = cohort_a.rename(columns=util.make_rename_col_dict(cohort_a.columns, 2012))[include_cols]\n",
      "renamed_b = cohort_b.rename(columns=util.make_rename_col_dict(cohort_b.columns, 2013))[include_cols]\n",
      "renamed_c = cohort_c.rename(columns=util.make_rename_col_dict(cohort_c.columns, 2014))[include_cols]"
     ],
     "language": "python",
     "metadata": {},
     "outputs": [],
     "prompt_number": 10
    },
    {
     "cell_type": "markdown",
     "metadata": {},
     "source": [
      "## Using models built on 2012 to predict for class of 2013"
     ]
    },
    {
     "cell_type": "code",
     "collapsed": false,
     "input": [
      "outcome_col = 'dropout_outcome'\n",
      "feature_cols = [\n",
      "#  'External_Student_ID',\n",
      "#  'earliest_reporting_year_majority_vote',\n",
      " 'retained_in_8_majority_vote',\n",
      "#  'retained_in_9_majority_vote',\n",
      "#  'retained_in_10_majority_vote',\n",
      "#  'retained_in_11_majority_vote',\n",
      "#  'expected_graduation_year_majority_vote',\n",
      " 'eds_8th_grade',\n",
      " 'swd_8th_grade',\n",
      " 'NumAdvanced_8th_grade',\n",
      " 'lep_8th_grade',\n",
      " 'GPA_Science_8th_grade',\n",
      " 'Num_Marks_8th_grade',\n",
      " 'NumAdvanced_SocSci_8th_grade',\n",
      " 'times_tardy_8th_grade',\n",
      " 'sex_8th_grade',\n",
      " 'Num_Science_8th_grade',\n",
      " 'GPA_SocSci_8th_grade',\n",
      " 'CITY_8th_grade',\n",
      " 'Num_SocSci_8th_grade',\n",
      " 'GPA_ENG_8th_grade',\n",
      " 'NumAdvanced_Science_8th_grade',\n",
      " 'GPA_8th_grade',\n",
      " 'NumAdvanced_ENG_8th_grade',\n",
      " 'exc_abs_8th_grade',\n",
      " 'daysabs_8th_grade',\n",
      " 'Num_ENG_8th_grade',\n",
      " 'ZIP_8th_grade',\n",
      " 'ethnic_8th_grade',\n",
      " 'Num_Math_8th_grade',\n",
      " 'unexc_abs_8th_grade',\n",
      " 'STATE_8th_grade',\n",
      " 'NumAdvanced_Math_8th_grade',\n",
      " 'GPA_Math_8th_grade',\n",
      " 'school_code_8th_grade',\n",
      "#  'GPA_Math_9th_grade',\n",
      "#  'CITY_9th_grade',\n",
      "#  'STATE_9th_grade',\n",
      "#  'GPA_SocSci_9th_grade',\n",
      "#  'sex_9th_grade',\n",
      "#  'daysabs_9th_grade',\n",
      "#  'lep_9th_grade',\n",
      "#  'Street_9th_grade',\n",
      "#  'Grade_9th_grade',\n",
      "#  'GPA_Science_9th_grade',\n",
      "#  'GPA_9th_grade',\n",
      "#  'NumAdvanced_SocSci_9th_grade',\n",
      "#  'reporting_year_9th_grade',\n",
      "#  'Num_Marks_9th_grade',\n",
      "#  'Num_Science_9th_grade',\n",
      "#  'grade_9th_grade',\n",
      "#  'Num_SocSci_9th_grade',\n",
      "#  'GPA_ENG_9th_grade',\n",
      "#  'times_tardy_9th_grade',\n",
      "#  'NumAdvanced_ENG_9th_grade',\n",
      "#  'Num_ENG_9th_grade',\n",
      "#  'eds_9th_grade',\n",
      "#  'unexc_abs_9th_grade',\n",
      "#  'ZIP_9th_grade',\n",
      "#  'NumAdvanced_Math_9th_grade',\n",
      "#  'Num_Math_9th_grade',\n",
      "#  'school_code_9th_grade',\n",
      "#  'ethnic_9th_grade',\n",
      "#  'exc_abs_9th_grade',\n",
      "#  'NumAdvanced_Science_9th_grade',\n",
      "#  'swd_9th_grade',\n",
      "#  'NumAdvanced_9th_grade',\n",
      "#  'GPA_Math_10th_grade',\n",
      "#  'CITY_10th_grade',\n",
      "#  'STATE_10th_grade',\n",
      "#  'GPA_SocSci_10th_grade',\n",
      "#  'sex_10th_grade',\n",
      "#  'daysabs_10th_grade',\n",
      "#  'lep_10th_grade',\n",
      "#  'Street_10th_grade',\n",
      "#  'Grade_10th_grade',\n",
      "#  'GPA_Science_10th_grade',\n",
      "#  'GPA_10th_grade',\n",
      "#  'NumAdvanced_SocSci_10th_grade',\n",
      "#  'reporting_year_10th_grade',\n",
      "#  'eds_10th_grade',\n",
      "#  'Num_Marks_10th_grade',\n",
      "#  'Num_Science_10th_grade',\n",
      "#  'grade_10th_grade',\n",
      "#  'Num_SocSci_10th_grade',\n",
      "#  'GPA_ENG_10th_grade',\n",
      "#  'NumAdvanced_Science_10th_grade',\n",
      "#  'times_tardy_10th_grade',\n",
      "#  'NumAdvanced_ENG_10th_grade',\n",
      "#  'Num_ENG_10th_grade',\n",
      "#  'unexc_abs_10th_grade',\n",
      "#  'ZIP_10th_grade',\n",
      "#  'NumAdvanced_Math_10th_grade',\n",
      "#  'Num_Math_10th_grade',\n",
      "#  'ethnic_10th_grade',\n",
      "#  'exc_abs_10th_grade',\n",
      "#  'school_code_10th_grade',\n",
      "#  'swd_10th_grade',\n",
      "#  'NumAdvanced_10th_grade',\n",
      "#  'STATE_11th_grade',\n",
      "#  'GPA_Math_11th_grade',\n",
      "#  'grade_11th_grade',\n",
      "#  'Grade_11th_grade',\n",
      "#  'Street_11th_grade',\n",
      "#  'sex_11th_grade',\n",
      "#  'lep_11th_grade',\n",
      "#  'GPA_Science_11th_grade',\n",
      "#  'GPA_11th_grade',\n",
      "#  'NumAdvanced_SocSci_11th_grade',\n",
      "#  'eds_11th_grade',\n",
      "#  'Num_Marks_11th_grade',\n",
      "#  'Num_Science_11th_grade',\n",
      "#  'GPA_SocSci_11th_grade',\n",
      "#  'reporting_year_11th_grade',\n",
      "#  'Num_SocSci_11th_grade',\n",
      "#  'GPA_ENG_11th_grade',\n",
      "#  'NumAdvanced_Science_11th_grade',\n",
      "#  'times_tardy_11th_grade',\n",
      "#  'NumAdvanced_ENG_11th_grade',\n",
      "#  'CITY_11th_grade',\n",
      "#  'Num_ENG_11th_grade',\n",
      "#  'daysabs_11th_grade',\n",
      "#  'unexc_abs_11th_grade',\n",
      "#  'ZIP_11th_grade',\n",
      "#  'NumAdvanced_Math_11th_grade',\n",
      "#  'Num_Math_11th_grade',\n",
      "#  'school_code_11th_grade',\n",
      "#  'ethnic_11th_grade',\n",
      "#  'exc_abs_11th_grade',\n",
      "#  'swd_11th_grade',\n",
      "#  'NumAdvanced_11th_grade',\n",
      "]"
     ],
     "language": "python",
     "metadata": {},
     "outputs": [],
     "prompt_number": 12
    },
    {
     "cell_type": "code",
     "collapsed": false,
     "input": [
      "def preprocess(dataSet, dependentVar, doFeatureSelection=True, doPCA=False, nComponents=10):\n",
      "        \"\"\" Data pre-processing constructor.\n",
      "\n",
      "        Constructor to pre-process pandas DataFrames, extracting and encoding the outcome\n",
      "        labels (class), dropping them from the dataset and converting categorical variables\n",
      "        into integer numbers for compatibility with scikit-learn.\n",
      "\n",
      "        Parameters\n",
      "        ----------\n",
      "        dataSet : pd.DataFrame\n",
      "            The entire dataset as loaded and parsed in the main program\n",
      "        dependentVar : string\n",
      "            A string denoting the column to be used as the class\n",
      "        doFeatureSelection : bool\n",
      "            A flag to denote whether or not to perform feature selection\n",
      "        doPCA : bool\n",
      "            A flag to denote whether or not to perform principle component analysis\n",
      "        nComponents : int\n",
      "            The desired number of principle components\n",
      "\n",
      "        \"\"\"\n",
      "        # Encode nominal features to conform with sklearn\n",
      "        for i,tp in enumerate(dataSet.dtypes):\n",
      "            if tp == 'object':\n",
      "                unique_vals, dataSet.ix[:,i]  = np.unique(dataSet.ix[:,i] , return_inverse=True)\n",
      "\n",
      "        # Set the dependent variable (y) to the appropriate column\n",
      "        y = dataSet.loc[:,dependentVar]\n",
      "\n",
      "        # Transform that information to a format that scikit-learn understands\n",
      "        # This may be redundant at times\n",
      "        labels = preprocessing.LabelEncoder().fit_transform(y)\n",
      "\n",
      "        # Remove the dependent variable from training sets\n",
      "        X = dataSet.drop(dependentVar,1).values\n",
      "\n",
      "        # Perform entropy-based feature selection\n",
      "        if doFeatureSelection:\n",
      "            print 'Performing Feature Selection:'\n",
      "            print 'Shape of dataset before feature selection: ' + str(X.shape)\n",
      "            clf = DecisionTreeClassifier(criterion='entropy')\n",
      "            X = clf.fit(X, y).transform(X)\n",
      "            print 'Shape of dataset after feature selection: ' + str(X.shape) + '\\n'\n",
      "\n",
      "        # Normalize values\n",
      "        X = preprocessing.StandardScaler().fit(X).transform(X)\n",
      "\n",
      "        # Collapse features using principal component analysis\n",
      "        if doPCA:\n",
      "            print 'Performing PCA'\n",
      "            estimator = decomposition.PCA(n_components=nComponents)\n",
      "            X = estimator.fit_transform(X)\n",
      "            print 'Shape of dataset after PCA: ' + str(X.shape) + '\\n'\n",
      "\n",
      "        # Save processed dataset, labels and student ids\n",
      "        \n",
      "        return (X, labels)"
     ],
     "language": "python",
     "metadata": {},
     "outputs": [],
     "prompt_number": 13
    },
    {
     "cell_type": "code",
     "collapsed": false,
     "input": [
      "exclude_grades = [8]\n",
      "exclude_student_ids = dropout_data[dropout_data['Grade'].isin(exclude_grades)]['External_Student_ID'].values"
     ],
     "language": "python",
     "metadata": {},
     "outputs": [],
     "prompt_number": 14
    },
    {
     "cell_type": "code",
     "collapsed": false,
     "input": [
      "clf = RandomForestClassifier(n_estimators=100, criterion='entropy')"
     ],
     "language": "python",
     "metadata": {},
     "outputs": [],
     "prompt_number": 32
    },
    {
     "cell_type": "code",
     "collapsed": false,
     "input": [
      "# Exclude students who were not part of the grade that year\n",
      "# The proxy way of addressing this is checking if days_abs is NA\n",
      "# or if GPA_8th_grade is NA\n",
      "\n",
      "model_data = renamed_a[(renamed_a['daysabs_8th_grade'].notnull())\n",
      "                       & (renamed_a['GPA_8th_grade'].notnull())\n",
      "                       & (renamed_a['transferred_out_before_graduating'] == 0)][feature_cols + [outcome_col]]\n",
      "y_labels = model_data[outcome_col]"
     ],
     "language": "python",
     "metadata": {},
     "outputs": [],
     "prompt_number": 17
    },
    {
     "cell_type": "code",
     "collapsed": false,
     "input": [
      "model_data.fillna(-1, inplace=True)"
     ],
     "language": "python",
     "metadata": {},
     "outputs": [],
     "prompt_number": 18
    },
    {
     "cell_type": "code",
     "collapsed": false,
     "input": [
      "print model_data[outcome_col].value_counts(normalize=True)"
     ],
     "language": "python",
     "metadata": {},
     "outputs": [
      {
       "output_type": "stream",
       "stream": "stdout",
       "text": [
        "0    0.910456\n",
        "1    0.089544\n",
        "dtype: float64\n"
       ]
      }
     ],
     "prompt_number": 19
    },
    {
     "cell_type": "code",
     "collapsed": false,
     "input": [
      "X, y = preprocess(model_data, outcome_col, doFeatureSelection=False)"
     ],
     "language": "python",
     "metadata": {},
     "outputs": [],
     "prompt_number": 20
    },
    {
     "cell_type": "code",
     "collapsed": false,
     "input": [
      "fitted_clf = clf.fit(X, y)"
     ],
     "language": "python",
     "metadata": {},
     "outputs": [],
     "prompt_number": 33
    },
    {
     "cell_type": "code",
     "collapsed": false,
     "input": [
      "# Excluding students who have dropped out already by grade 8,\n",
      "# as we would not make a prediction on them\n",
      "# Also excluding students in this cohort who were not in Cabarrus in 8th grade\n",
      "testing_cohort_b = renamed_b[(~renamed_b['External_Student_ID'].isin(exclude_student_ids))\n",
      "                             & (renamed_b['daysabs_8th_grade'].notnull())\n",
      "                             & (renamed_b['GPA_8th_grade'].notnull())\n",
      "                             & (renamed_b['transferred_out_before_graduating'] == 0)]"
     ],
     "language": "python",
     "metadata": {},
     "outputs": [],
     "prompt_number": 22
    },
    {
     "cell_type": "code",
     "collapsed": false,
     "input": [
      "testing_cohort_b[outcome_col].value_counts(normalize=True)"
     ],
     "language": "python",
     "metadata": {},
     "outputs": [
      {
       "metadata": {},
       "output_type": "pyout",
       "prompt_number": 24,
       "text": [
        "0    0.924251\n",
        "1    0.075749\n",
        "dtype: float64"
       ]
      }
     ],
     "prompt_number": 24
    },
    {
     "cell_type": "code",
     "collapsed": false,
     "input": [
      "testing_data = testing_cohort_b[feature_cols + [outcome_col]]"
     ],
     "language": "python",
     "metadata": {},
     "outputs": [],
     "prompt_number": 27
    },
    {
     "cell_type": "code",
     "collapsed": false,
     "input": [
      "testing_data.fillna(-1, inplace=True)"
     ],
     "language": "python",
     "metadata": {},
     "outputs": [],
     "prompt_number": 28
    },
    {
     "cell_type": "code",
     "collapsed": false,
     "input": [
      "testing_X, testing_y = preprocess(testing_data, outcome_col, doFeatureSelection=False)"
     ],
     "language": "python",
     "metadata": {},
     "outputs": [],
     "prompt_number": 29
    },
    {
     "cell_type": "code",
     "collapsed": false,
     "input": [
      "predicted_probs = fitted_clf.predict_proba(testing_X)"
     ],
     "language": "python",
     "metadata": {},
     "outputs": [],
     "prompt_number": 34
    },
    {
     "cell_type": "code",
     "collapsed": false,
     "input": [
      "predicted_probs = [p[1] for p in predicted_probs]"
     ],
     "language": "python",
     "metadata": {},
     "outputs": [],
     "prompt_number": 35
    },
    {
     "cell_type": "code",
     "collapsed": false,
     "input": [
      "precision, recall, thresholds = precision_recall_curve(testing_y, predicted_probs)"
     ],
     "language": "python",
     "metadata": {},
     "outputs": [],
     "prompt_number": 36
    },
    {
     "cell_type": "code",
     "collapsed": false,
     "input": [
      "pr_auc = auc(recall, precision)"
     ],
     "language": "python",
     "metadata": {},
     "outputs": [],
     "prompt_number": 37
    },
    {
     "cell_type": "code",
     "collapsed": false,
     "input": [
      "pl.plot(recall, precision, color = 'b', label='Precision-Recall curve (area = %0.2f)' % pr_auc)\n",
      "pl.xlim([-0.05, 1.05])\n",
      "pl.ylim([-0.05, 1.05])\n",
      "pl.xlabel('Recall')\n",
      "pl.ylabel('Precision')\n",
      "pl.title('RF Precision-Recall')\n",
      "pl.legend(loc=\"best\")\n",
      "pl.show()"
     ],
     "language": "python",
     "metadata": {},
     "outputs": [
      {
       "metadata": {},
       "output_type": "display_data",
       "png": "[encoded data removed]",
       "text": [
        "<matplotlib.figure.Figure at 0x100735650>"
       ]
      }
     ],
     "prompt_number": 38
    },
    {
     "cell_type": "code",
     "collapsed": false,
     "input": [
      "testing_cohort_b['rf_predicted_probs'] = predicted_probs"
     ],
     "language": "python",
     "metadata": {},
     "outputs": [
      {
       "output_type": "stream",
       "stream": "stderr",
       "text": [
        "-c:1: SettingWithCopyWarning: \n",
        "A value is trying to be set on a copy of a slice from a DataFrame.\n",
        "Try using .loc[row_indexer,col_indexer] = value instead\n",
        "\n",
        "See the the caveats in the documentation: http://pandas.pydata.org/pandas-docs/stable/indexing.html#indexing-view-versus-copy\n"
       ]
      }
     ],
     "prompt_number": 39
    },
    {
     "cell_type": "code",
     "collapsed": false,
     "input": [
      "testing_cohort_b.shape"
     ],
     "language": "python",
     "metadata": {},
     "outputs": [
      {
       "metadata": {},
       "output_type": "pyout",
       "prompt_number": 40,
       "text": [
        "(1769, 162)"
       ]
      }
     ],
     "prompt_number": 40
    },
    {
     "cell_type": "code",
     "collapsed": false,
     "input": [
      "testing_cohort_b.sort(columns=['rf_predicted_probs'], \n",
      "              ascending=False, inplace=True)"
     ],
     "language": "python",
     "metadata": {},
     "outputs": [
      {
       "output_type": "stream",
       "stream": "stderr",
       "text": [
        "//anaconda/lib/python2.7/site-packages/pandas/core/frame.py:2760: SettingWithCopyWarning: \n",
        "A value is trying to be set on a copy of a slice from a DataFrame\n",
        "\n",
        "See the the caveats in the documentation: http://pandas.pydata.org/pandas-docs/stable/indexing.html#indexing-view-versus-copy\n",
        "  inplace=inplace, kind=kind, na_position=na_position)\n"
       ]
      }
     ],
     "prompt_number": 41
    },
    {
     "cell_type": "markdown",
     "metadata": {},
     "source": [
      "## Looking at false negatives"
     ]
    },
    {
     "cell_type": "code",
     "collapsed": false,
     "input": [
      "# Looking at the predicted probabilities here, it seems that a large number\n",
      "# of students who drop out are predicted as having a low probability of \n",
      "# dropping out\n",
      "testing_cohort_b[testing_cohort_b[outcome_col] == 1]['rf_predicted_probs'].hist()"
     ],
     "language": "python",
     "metadata": {},
     "outputs": [
      {
       "metadata": {},
       "output_type": "pyout",
       "prompt_number": 46,
       "text": [
        "<matplotlib.axes.AxesSubplot at 0x11141e250>"
       ]
      },
      {
       "metadata": {},
       "output_type": "display_data",
       "png": "[encoded data removed]",
       "text": [
        "<matplotlib.figure.Figure at 0x1113f2e50>"
       ]
      }
     ],
     "prompt_number": 46
    },
    {
     "cell_type": "markdown",
     "metadata": {},
     "source": [
      "### Using a logistic regression to predict at the 8th grade level"
     ]
    },
    {
     "cell_type": "code",
     "collapsed": false,
     "input": [
      "filled_testing_data = pd.DataFrame()"
     ],
     "language": "python",
     "metadata": {},
     "outputs": [],
     "prompt_number": 562
    },
    {
     "cell_type": "code",
     "collapsed": false,
     "input": [
      "for col in feature_cols:\n",
      "    s = testing_cohort_b[col].copy()\n",
      "    empirical_distribution = s.dropna().apply(lambda v: v[0] if not(v, numpy.float64) \n",
      "                                                  else v).values\n",
      "    def replace_na(val, empirical_distribution):\n",
      "        if pd.isnull(val):\n",
      "            return random.sample(empirical_distribution, k=1)[0]\n",
      "        elif hasattr(val, 'len'):\n",
      "            return val[0]\n",
      "        else:\n",
      "            return val\n",
      "    s_replaced = s.apply(replace_na, empirical_distribution=empirical_distribution)\n",
      "    filled_testing_data[col] = s_replaced"
     ],
     "language": "python",
     "metadata": {},
     "outputs": [],
     "prompt_number": 563
    },
    {
     "cell_type": "code",
     "collapsed": false,
     "input": [
      "filled_testing_data[outcome_col] = testing_cohort_b[outcome_col]"
     ],
     "language": "python",
     "metadata": {},
     "outputs": [],
     "prompt_number": 578
    },
    {
     "cell_type": "code",
     "collapsed": false,
     "input": [
      "outcome_col = 'dropout_outcome'\n",
      "feature_cols = [\n",
      " 'retained_in_8_majority_vote',\n",
      "#  'Grade_8th_grade',\n",
      " 'eds_8th_grade',\n",
      " 'swd_8th_grade',\n",
      " 'Street_8th_grade',\n",
      " 'NumAdvanced_8th_grade',\n",
      " 'lep_8th_grade',\n",
      "#  'reporting_year_8th_grade',\n",
      " 'GPA_Science_8th_grade',\n",
      " 'Num_Marks_8th_grade',\n",
      "#  'NumAdvanced_SocSci_8th_grade',\n",
      "#  'times_tardy_8th_grade',\n",
      " 'sex_8th_grade',\n",
      " 'Num_Science_8th_grade',\n",
      "#  'GPA_SocSci_8th_grade',\n",
      "#  'CITY_8th_grade',\n",
      "#  'grade_8th_grade',\n",
      "#  'Num_SocSci_8th_grade',\n",
      " 'GPA_ENG_8th_grade',\n",
      "#  'NumAdvanced_Science_8th_grade',\n",
      " 'GPA_8th_grade',\n",
      "#  'NumAdvanced_ENG_8th_grade',\n",
      " 'exc_abs_8th_grade',\n",
      "#  'daysabs_8th_grade',\n",
      " 'Num_ENG_8th_grade',\n",
      " 'ZIP_8th_grade',\n",
      " 'ethnic_8th_grade',\n",
      " 'Num_Math_8th_grade',\n",
      " 'unexc_abs_8th_grade',\n",
      "#  'STATE_8th_grade',\n",
      " 'NumAdvanced_Math_8th_grade',\n",
      " 'GPA_Math_8th_grade',\n",
      " 'school_code_8th_grade'\n",
      "]"
     ],
     "language": "python",
     "metadata": {},
     "outputs": [],
     "prompt_number": 559
    },
    {
     "cell_type": "code",
     "collapsed": false,
     "input": [
      "filled_model_data = pd.DataFrame()"
     ],
     "language": "python",
     "metadata": {},
     "outputs": [],
     "prompt_number": 476
    },
    {
     "cell_type": "code",
     "collapsed": false,
     "input": [
      "model_data = renamed_a[renamed_a['daysabs_8th_grade'].notnull()][feature_cols + [outcome_col]]"
     ],
     "language": "python",
     "metadata": {},
     "outputs": [],
     "prompt_number": 482
    },
    {
     "cell_type": "code",
     "collapsed": false,
     "input": [
      "filled_model_data['intercept'] = 1"
     ],
     "language": "python",
     "metadata": {},
     "outputs": [],
     "prompt_number": 488
    },
    {
     "cell_type": "code",
     "collapsed": false,
     "input": [
      "filled_model_data[outcome_col] = model_data[outcome_col]"
     ],
     "language": "python",
     "metadata": {},
     "outputs": [],
     "prompt_number": 484
    },
    {
     "cell_type": "code",
     "collapsed": false,
     "input": [
      "for col in feature_cols:\n",
      "    s = model_data[col].copy()\n",
      "    empirical_distribution = s.dropna().apply(lambda v: v[0] if not(v, numpy.float64) \n",
      "                                                  else v).values\n",
      "    def replace_na(val, empirical_distribution):\n",
      "        if pd.isnull(val):\n",
      "            return random.sample(empirical_distribution, k=1)[0]\n",
      "        elif hasattr(val, 'len'):\n",
      "            return val[0]\n",
      "        else:\n",
      "            return val\n",
      "    s_replaced = s.apply(replace_na, empirical_distribution=empirical_distribution)\n",
      "    filled_model_data[col] = s_replaced"
     ],
     "language": "python",
     "metadata": {},
     "outputs": [],
     "prompt_number": 485
    },
    {
     "cell_type": "code",
     "collapsed": false,
     "input": [
      "for i,tp in enumerate(filled_model_data.dtypes):\n",
      "            if tp == 'object':\n",
      "                unique_vals, filled_model_data.ix[:,i]  = np.unique(filled_model_data.ix[:,i] , return_inverse=True)"
     ],
     "language": "python",
     "metadata": {},
     "outputs": [],
     "prompt_number": 491
    },
    {
     "cell_type": "code",
     "collapsed": false,
     "input": [
      "logit_model = sm.Logit(filled_model_data[outcome_col], filled_model_data[feature_cols + ['intercept']])"
     ],
     "language": "python",
     "metadata": {},
     "outputs": [],
     "prompt_number": 560
    },
    {
     "cell_type": "code",
     "collapsed": false,
     "input": [
      "fitted_logit_model = logit_model.fit()"
     ],
     "language": "python",
     "metadata": {},
     "outputs": [
      {
       "output_type": "stream",
       "stream": "stdout",
       "text": [
        "Optimization terminated successfully.\n",
        "         Current function value: 0.204818\n",
        "         Iterations 15\n"
       ]
      }
     ],
     "prompt_number": 561
    },
    {
     "cell_type": "code",
     "collapsed": false,
     "input": [
      "for i,tp in enumerate(filled_testing_data.dtypes):\n",
      "            if tp == 'object':\n",
      "                unique_vals, filled_testing_data.ix[:,i]  = np.unique(filled_testing_data.ix[:,i] , return_inverse=True)"
     ],
     "language": "python",
     "metadata": {},
     "outputs": [],
     "prompt_number": 566
    },
    {
     "cell_type": "code",
     "collapsed": false,
     "input": [
      "fitted_logit_model.summary()"
     ],
     "language": "python",
     "metadata": {},
     "outputs": [
      {
       "html": [
        "<table class=\"simpletable\">\n",
        "<caption>Logit Regression Results</caption>\n",
        "<tr>\n",
        "  <th>Dep. Variable:</th>  <td>dropout_outcome</td> <th>  No. Observations:  </th>  <td>  2094</td>  \n",
        "</tr>\n",
        "<tr>\n",
        "  <th>Model:</th>               <td>Logit</td>      <th>  Df Residuals:      </th>  <td>  2072</td>  \n",
        "</tr>\n",
        "<tr>\n",
        "  <th>Method:</th>               <td>MLE</td>       <th>  Df Model:          </th>  <td>    21</td>  \n",
        "</tr>\n",
        "<tr>\n",
        "  <th>Date:</th>          <td>Fri, 07 Nov 2014</td> <th>  Pseudo R-squ.:     </th>  <td>0.2309</td>  \n",
        "</tr>\n",
        "<tr>\n",
        "  <th>Time:</th>              <td>17:52:53</td>     <th>  Log-Likelihood:    </th> <td> -428.89</td> \n",
        "</tr>\n",
        "<tr>\n",
        "  <th>converged:</th>           <td>True</td>       <th>  LL-Null:           </th> <td> -557.68</td> \n",
        "</tr>\n",
        "<tr>\n",
        "  <th> </th>                      <td> </td>        <th>  LLR p-value:       </th> <td>1.225e-42</td>\n",
        "</tr>\n",
        "</table>\n",
        "<table class=\"simpletable\">\n",
        "<tr>\n",
        "               <td></td>                  <th>coef</th>     <th>std err</th>      <th>z</th>      <th>P>|z|</th> <th>[95.0% Conf. Int.]</th> \n",
        "</tr>\n",
        "<tr>\n",
        "  <th>retained_in_8_majority_vote</th> <td>   -1.2807</td> <td>    0.962</td> <td>   -1.332</td> <td> 0.183</td> <td>   -3.166     0.604</td>\n",
        "</tr>\n",
        "<tr>\n",
        "  <th>eds_8th_grade</th>               <td>    0.3848</td> <td>    0.209</td> <td>    1.842</td> <td> 0.065</td> <td>   -0.025     0.794</td>\n",
        "</tr>\n",
        "<tr>\n",
        "  <th>swd_8th_grade</th>               <td>   -0.0285</td> <td>    0.253</td> <td>   -0.113</td> <td> 0.910</td> <td>   -0.524     0.467</td>\n",
        "</tr>\n",
        "<tr>\n",
        "  <th>Street_8th_grade</th>            <td>    0.0002</td> <td>    0.000</td> <td>    1.377</td> <td> 0.169</td> <td>-9.52e-05     0.001</td>\n",
        "</tr>\n",
        "<tr>\n",
        "  <th>NumAdvanced_8th_grade</th>       <td>   -1.2036</td> <td>    2.479</td> <td>   -0.486</td> <td> 0.627</td> <td>   -6.062     3.654</td>\n",
        "</tr>\n",
        "<tr>\n",
        "  <th>lep_8th_grade</th>               <td>    0.3658</td> <td>    0.167</td> <td>    2.196</td> <td> 0.028</td> <td>    0.039     0.692</td>\n",
        "</tr>\n",
        "<tr>\n",
        "  <th>GPA_Science_8th_grade</th>       <td>   -0.0156</td> <td>    0.014</td> <td>   -1.087</td> <td> 0.277</td> <td>   -0.044     0.013</td>\n",
        "</tr>\n",
        "<tr>\n",
        "  <th>Num_Marks_8th_grade</th>         <td>   -0.0649</td> <td>    0.160</td> <td>   -0.406</td> <td> 0.685</td> <td>   -0.378     0.248</td>\n",
        "</tr>\n",
        "<tr>\n",
        "  <th>sex_8th_grade</th>               <td>    0.0917</td> <td>    0.196</td> <td>    0.467</td> <td> 0.641</td> <td>   -0.293     0.477</td>\n",
        "</tr>\n",
        "<tr>\n",
        "  <th>Num_Science_8th_grade</th>       <td>    0.2859</td> <td>    0.260</td> <td>    1.099</td> <td> 0.272</td> <td>   -0.224     0.796</td>\n",
        "</tr>\n",
        "<tr>\n",
        "  <th>GPA_ENG_8th_grade</th>           <td>   -0.0234</td> <td>    0.014</td> <td>   -1.705</td> <td> 0.088</td> <td>   -0.050     0.004</td>\n",
        "</tr>\n",
        "<tr>\n",
        "  <th>GPA_8th_grade</th>               <td>   -0.0349</td> <td>    0.027</td> <td>   -1.271</td> <td> 0.204</td> <td>   -0.089     0.019</td>\n",
        "</tr>\n",
        "<tr>\n",
        "  <th>exc_abs_8th_grade</th>           <td>    0.0391</td> <td>    0.011</td> <td>    3.403</td> <td> 0.001</td> <td>    0.017     0.062</td>\n",
        "</tr>\n",
        "<tr>\n",
        "  <th>Num_ENG_8th_grade</th>           <td>   -0.3320</td> <td>    0.392</td> <td>   -0.848</td> <td> 0.397</td> <td>   -1.100     0.436</td>\n",
        "</tr>\n",
        "<tr>\n",
        "  <th>ZIP_8th_grade</th>               <td>    0.0014</td> <td>    0.002</td> <td>    0.692</td> <td> 0.489</td> <td>   -0.003     0.005</td>\n",
        "</tr>\n",
        "<tr>\n",
        "  <th>ethnic_8th_grade</th>            <td>    0.2088</td> <td>    0.066</td> <td>    3.160</td> <td> 0.002</td> <td>    0.079     0.338</td>\n",
        "</tr>\n",
        "<tr>\n",
        "  <th>Num_Math_8th_grade</th>          <td>   -0.3563</td> <td>    0.785</td> <td>   -0.454</td> <td> 0.650</td> <td>   -1.894     1.182</td>\n",
        "</tr>\n",
        "<tr>\n",
        "  <th>unexc_abs_8th_grade</th>         <td>    0.0363</td> <td>    0.011</td> <td>    3.390</td> <td> 0.001</td> <td>    0.015     0.057</td>\n",
        "</tr>\n",
        "<tr>\n",
        "  <th>NumAdvanced_Math_8th_grade</th>  <td>    0.2788</td> <td>    2.474</td> <td>    0.113</td> <td> 0.910</td> <td>   -4.571     5.128</td>\n",
        "</tr>\n",
        "<tr>\n",
        "  <th>GPA_Math_8th_grade</th>          <td>   -0.0295</td> <td>    0.013</td> <td>   -2.362</td> <td> 0.018</td> <td>   -0.054    -0.005</td>\n",
        "</tr>\n",
        "<tr>\n",
        "  <th>school_code_8th_grade</th>       <td>    0.0162</td> <td>    0.022</td> <td>    0.751</td> <td> 0.453</td> <td>   -0.026     0.058</td>\n",
        "</tr>\n",
        "<tr>\n",
        "  <th>intercept</th>                   <td>-2144.3247</td> <td> 2807.727</td> <td>   -0.764</td> <td> 0.445</td> <td>-7647.369  3358.719</td>\n",
        "</tr>\n",
        "</table>"
       ],
       "metadata": {},
       "output_type": "pyout",
       "prompt_number": 570,
       "text": [
        "<class 'statsmodels.iolib.summary.Summary'>\n",
        "\"\"\"\n",
        "                           Logit Regression Results                           \n",
        "==============================================================================\n",
        "Dep. Variable:        dropout_outcome   No. Observations:                 2094\n",
        "Model:                          Logit   Df Residuals:                     2072\n",
        "Method:                           MLE   Df Model:                           21\n",
        "Date:                Fri, 07 Nov 2014   Pseudo R-squ.:                  0.2309\n",
        "Time:                        17:52:53   Log-Likelihood:                -428.89\n",
        "converged:                       True   LL-Null:                       -557.68\n",
        "                                        LLR p-value:                 1.225e-42\n",
        "===============================================================================================\n",
        "                                  coef    std err          z      P>|z|      [95.0% Conf. Int.]\n",
        "-----------------------------------------------------------------------------------------------\n",
        "retained_in_8_majority_vote    -1.2807      0.962     -1.332      0.183        -3.166     0.604\n",
        "eds_8th_grade                   0.3848      0.209      1.842      0.065        -0.025     0.794\n",
        "swd_8th_grade                  -0.0285      0.253     -0.113      0.910        -0.524     0.467\n",
        "Street_8th_grade                0.0002      0.000      1.377      0.169     -9.52e-05     0.001\n",
        "NumAdvanced_8th_grade          -1.2036      2.479     -0.486      0.627        -6.062     3.654\n",
        "lep_8th_grade                   0.3658      0.167      2.196      0.028         0.039     0.692\n",
        "GPA_Science_8th_grade          -0.0156      0.014     -1.087      0.277        -0.044     0.013\n",
        "Num_Marks_8th_grade            -0.0649      0.160     -0.406      0.685        -0.378     0.248\n",
        "sex_8th_grade                   0.0917      0.196      0.467      0.641        -0.293     0.477\n",
        "Num_Science_8th_grade           0.2859      0.260      1.099      0.272        -0.224     0.796\n",
        "GPA_ENG_8th_grade              -0.0234      0.014     -1.705      0.088        -0.050     0.004\n",
        "GPA_8th_grade                  -0.0349      0.027     -1.271      0.204        -0.089     0.019\n",
        "exc_abs_8th_grade               0.0391      0.011      3.403      0.001         0.017     0.062\n",
        "Num_ENG_8th_grade              -0.3320      0.392     -0.848      0.397        -1.100     0.436\n",
        "ZIP_8th_grade                   0.0014      0.002      0.692      0.489        -0.003     0.005\n",
        "ethnic_8th_grade                0.2088      0.066      3.160      0.002         0.079     0.338\n",
        "Num_Math_8th_grade             -0.3563      0.785     -0.454      0.650        -1.894     1.182\n",
        "unexc_abs_8th_grade             0.0363      0.011      3.390      0.001         0.015     0.057\n",
        "NumAdvanced_Math_8th_grade      0.2788      2.474      0.113      0.910        -4.571     5.128\n",
        "GPA_Math_8th_grade             -0.0295      0.013     -2.362      0.018        -0.054    -0.005\n",
        "school_code_8th_grade           0.0162      0.022      0.751      0.453        -0.026     0.058\n",
        "intercept                   -2144.3247   2807.727     -0.764      0.445     -7647.369  3358.719\n",
        "===============================================================================================\n",
        "\"\"\""
       ]
      }
     ],
     "prompt_number": 570
    },
    {
     "cell_type": "code",
     "collapsed": false,
     "input": [
      "filled_testing_data['intercept'] = 1"
     ],
     "language": "python",
     "metadata": {},
     "outputs": [],
     "prompt_number": 571
    },
    {
     "cell_type": "code",
     "collapsed": false,
     "input": [
      "predicted_probs = fitted_logit_model.predict(filled_testing_data[feature_cols + ['intercept']])"
     ],
     "language": "python",
     "metadata": {},
     "outputs": [],
     "prompt_number": 575
    },
    {
     "cell_type": "code",
     "collapsed": false,
     "input": [
      "precision, recall, thresholds = precision_recall_curve(filled_testing_data[outcome_col], predicted_probs)"
     ],
     "language": "python",
     "metadata": {},
     "outputs": [],
     "prompt_number": 579
    },
    {
     "cell_type": "code",
     "collapsed": false,
     "input": [
      "pr_auc = auc(recall, precision)"
     ],
     "language": "python",
     "metadata": {},
     "outputs": [],
     "prompt_number": 580
    },
    {
     "cell_type": "code",
     "collapsed": false,
     "input": [
      "pl.plot(recall, precision, color = 'b', label='Precision-Recall curve (area = %0.2f)' % pr_auc)\n",
      "pl.xlim([-0.05, 1.05])\n",
      "pl.ylim([-0.05, 1.05])\n",
      "pl.xlabel('Recall')\n",
      "pl.ylabel('Precision')\n",
      "pl.title('LR Precision-Recall')\n",
      "pl.legend(loc=\"best\")\n",
      "pl.show()"
     ],
     "language": "python",
     "metadata": {},
     "outputs": [
      {
       "metadata": {},
       "output_type": "display_data",
       "png": "[encoded data removed]",
       "text": [
        "<matplotlib.figure.Figure at 0x115e33110>"
       ]
      }
     ],
     "prompt_number": 601
    },
    {
     "cell_type": "code",
     "collapsed": false,
     "input": [
      "testing_cohort_b['predicted_logit_probs'] = predicted_probs"
     ],
     "language": "python",
     "metadata": {},
     "outputs": [],
     "prompt_number": 591
    },
    {
     "cell_type": "code",
     "collapsed": false,
     "input": [
      "testing_cohort_b.sort('predicted_logit_probs', inplace=True, ascending=False)"
     ],
     "language": "python",
     "metadata": {},
     "outputs": [],
     "prompt_number": 592
    },
    {
     "cell_type": "code",
     "collapsed": false,
     "input": [
      "testing_cohort_b[feature_cols + ['predicted_logit_probs'] + [outcome_col]].head()"
     ],
     "language": "python",
     "metadata": {},
     "outputs": [
      {
       "html": [
        "<div style=\"max-height:1000px;max-width:1500px;overflow:auto;\">\n",
        "<table border=\"1\" class=\"dataframe\">\n",
        "  <thead>\n",
        "    <tr style=\"text-align: right;\">\n",
        "      <th></th>\n",
        "      <th>retained_in_8_majority_vote</th>\n",
        "      <th>eds_8th_grade</th>\n",
        "      <th>swd_8th_grade</th>\n",
        "      <th>Street_8th_grade</th>\n",
        "      <th>NumAdvanced_8th_grade</th>\n",
        "      <th>lep_8th_grade</th>\n",
        "      <th>GPA_Science_8th_grade</th>\n",
        "      <th>Num_Marks_8th_grade</th>\n",
        "      <th>sex_8th_grade</th>\n",
        "      <th>Num_Science_8th_grade</th>\n",
        "      <th>...</th>\n",
        "      <th>Num_ENG_8th_grade</th>\n",
        "      <th>ZIP_8th_grade</th>\n",
        "      <th>ethnic_8th_grade</th>\n",
        "      <th>Num_Math_8th_grade</th>\n",
        "      <th>unexc_abs_8th_grade</th>\n",
        "      <th>NumAdvanced_Math_8th_grade</th>\n",
        "      <th>GPA_Math_8th_grade</th>\n",
        "      <th>school_code_8th_grade</th>\n",
        "      <th>predicted_logit_probs</th>\n",
        "      <th>dropout_outcome</th>\n",
        "    </tr>\n",
        "  </thead>\n",
        "  <tbody>\n",
        "    <tr>\n",
        "      <th>21543</th>\n",
        "      <td> 0</td>\n",
        "      <td> N</td>\n",
        "      <td> N</td>\n",
        "      <td>        2051 Moss Creek Dr</td>\n",
        "      <td> 0</td>\n",
        "      <td> N</td>\n",
        "      <td> 62</td>\n",
        "      <td> 4</td>\n",
        "      <td> M</td>\n",
        "      <td> 1</td>\n",
        "      <td>...</td>\n",
        "      <td> 1</td>\n",
        "      <td> 28075</td>\n",
        "      <td> M</td>\n",
        "      <td> 1</td>\n",
        "      <td> 2</td>\n",
        "      <td> 0</td>\n",
        "      <td> 62</td>\n",
        "      <td> 260635</td>\n",
        "      <td> 1</td>\n",
        "      <td> 0</td>\n",
        "    </tr>\n",
        "    <tr>\n",
        "      <th>6246 </th>\n",
        "      <td> 0</td>\n",
        "      <td> N</td>\n",
        "      <td> Y</td>\n",
        "      <td>      5521 Carving Tree Dr</td>\n",
        "      <td> 0</td>\n",
        "      <td> N</td>\n",
        "      <td> 97</td>\n",
        "      <td> 5</td>\n",
        "      <td> M</td>\n",
        "      <td> 1</td>\n",
        "      <td>...</td>\n",
        "      <td> 1</td>\n",
        "      <td> 28075</td>\n",
        "      <td> W</td>\n",
        "      <td> 1</td>\n",
        "      <td> 2</td>\n",
        "      <td> 0</td>\n",
        "      <td> 68</td>\n",
        "      <td> 260628</td>\n",
        "      <td> 1</td>\n",
        "      <td> 0</td>\n",
        "    </tr>\n",
        "    <tr>\n",
        "      <th>6108 </th>\n",
        "      <td> 0</td>\n",
        "      <td> N</td>\n",
        "      <td> N</td>\n",
        "      <td>             4991 Nash Ave</td>\n",
        "      <td> 0</td>\n",
        "      <td> N</td>\n",
        "      <td> 84</td>\n",
        "      <td> 6</td>\n",
        "      <td> F</td>\n",
        "      <td> 1</td>\n",
        "      <td>...</td>\n",
        "      <td> 1</td>\n",
        "      <td> 28025</td>\n",
        "      <td> W</td>\n",
        "      <td> 1</td>\n",
        "      <td> 6</td>\n",
        "      <td> 0</td>\n",
        "      <td> 80</td>\n",
        "      <td> 260640</td>\n",
        "      <td> 1</td>\n",
        "      <td> 0</td>\n",
        "    </tr>\n",
        "    <tr>\n",
        "      <th>20425</th>\n",
        "      <td> 0</td>\n",
        "      <td> N</td>\n",
        "      <td> Y</td>\n",
        "      <td>          9723 Starwood Dr</td>\n",
        "      <td> 0</td>\n",
        "      <td> N</td>\n",
        "      <td> 84</td>\n",
        "      <td> 4</td>\n",
        "      <td> M</td>\n",
        "      <td> 1</td>\n",
        "      <td>...</td>\n",
        "      <td> 1</td>\n",
        "      <td> 28215</td>\n",
        "      <td> M</td>\n",
        "      <td> 1</td>\n",
        "      <td> 0</td>\n",
        "      <td> 0</td>\n",
        "      <td> 74</td>\n",
        "      <td> 260644</td>\n",
        "      <td> 1</td>\n",
        "      <td> 1</td>\n",
        "    </tr>\n",
        "    <tr>\n",
        "      <th>11628</th>\n",
        "      <td> 0</td>\n",
        "      <td> N</td>\n",
        "      <td> N</td>\n",
        "      <td> 1260 Danielle Downs Ct SE</td>\n",
        "      <td> 0</td>\n",
        "      <td> N</td>\n",
        "      <td> 80</td>\n",
        "      <td> 7</td>\n",
        "      <td> M</td>\n",
        "      <td> 1</td>\n",
        "      <td>...</td>\n",
        "      <td> 1</td>\n",
        "      <td> 28025</td>\n",
        "      <td> W</td>\n",
        "      <td> 1</td>\n",
        "      <td> 2</td>\n",
        "      <td> 0</td>\n",
        "      <td> 89</td>\n",
        "      <td> 260636</td>\n",
        "      <td> 1</td>\n",
        "      <td> 0</td>\n",
        "    </tr>\n",
        "  </tbody>\n",
        "</table>\n",
        "<p>5 rows \u00d7 23 columns</p>\n",
        "</div>"
       ],
       "metadata": {},
       "output_type": "pyout",
       "prompt_number": 593,
       "text": [
        "       retained_in_8_majority_vote eds_8th_grade swd_8th_grade  \\\n",
        "21543                            0             N             N   \n",
        "6246                             0             N             Y   \n",
        "6108                             0             N             N   \n",
        "20425                            0             N             Y   \n",
        "11628                            0             N             N   \n",
        "\n",
        "                Street_8th_grade  NumAdvanced_8th_grade lep_8th_grade  \\\n",
        "21543         2051 Moss Creek Dr                      0             N   \n",
        "6246        5521 Carving Tree Dr                      0             N   \n",
        "6108               4991 Nash Ave                      0             N   \n",
        "20425           9723 Starwood Dr                      0             N   \n",
        "11628  1260 Danielle Downs Ct SE                      0             N   \n",
        "\n",
        "       GPA_Science_8th_grade  Num_Marks_8th_grade sex_8th_grade  \\\n",
        "21543                     62                    4             M   \n",
        "6246                      97                    5             M   \n",
        "6108                      84                    6             F   \n",
        "20425                     84                    4             M   \n",
        "11628                     80                    7             M   \n",
        "\n",
        "       Num_Science_8th_grade       ...         Num_ENG_8th_grade  \\\n",
        "21543                      1       ...                         1   \n",
        "6246                       1       ...                         1   \n",
        "6108                       1       ...                         1   \n",
        "20425                      1       ...                         1   \n",
        "11628                      1       ...                         1   \n",
        "\n",
        "       ZIP_8th_grade  ethnic_8th_grade  Num_Math_8th_grade  \\\n",
        "21543          28075                 M                   1   \n",
        "6246           28075                 W                   1   \n",
        "6108           28025                 W                   1   \n",
        "20425          28215                 M                   1   \n",
        "11628          28025                 W                   1   \n",
        "\n",
        "       unexc_abs_8th_grade NumAdvanced_Math_8th_grade  GPA_Math_8th_grade  \\\n",
        "21543                    2                          0                  62   \n",
        "6246                     2                          0                  68   \n",
        "6108                     6                          0                  80   \n",
        "20425                    0                          0                  74   \n",
        "11628                    2                          0                  89   \n",
        "\n",
        "       school_code_8th_grade  predicted_logit_probs  dropout_outcome  \n",
        "21543                 260635                      1                0  \n",
        "6246                  260628                      1                0  \n",
        "6108                  260640                      1                0  \n",
        "20425                 260644                      1                1  \n",
        "11628                 260636                      1                0  \n",
        "\n",
        "[5 rows x 23 columns]"
       ]
      }
     ],
     "prompt_number": 593
    },
    {
     "cell_type": "code",
     "collapsed": false,
     "input": [
      "num_students = 100"
     ],
     "language": "python",
     "metadata": {},
     "outputs": [],
     "prompt_number": 597
    },
    {
     "cell_type": "code",
     "collapsed": false,
     "input": [
      "exclude_transfers = testing_cohort_b[(testing_cohort_b['transferred_out_before_graduating'] == 0)]"
     ],
     "language": "python",
     "metadata": {},
     "outputs": [],
     "prompt_number": 598
    },
    {
     "cell_type": "code",
     "collapsed": false,
     "input": [
      "exclude_transfers[outcome_col][:num_students].value_counts(normalize=True)"
     ],
     "language": "python",
     "metadata": {},
     "outputs": [
      {
       "metadata": {},
       "output_type": "pyout",
       "prompt_number": 599,
       "text": [
        "0    0.53\n",
        "1    0.47\n",
        "dtype: float64"
       ]
      }
     ],
     "prompt_number": 599
    },
    {
     "cell_type": "code",
     "collapsed": false,
     "input": [
      "testing_cohort_b[feature_cols].count()"
     ],
     "language": "python",
     "metadata": {},
     "outputs": [
      {
       "metadata": {},
       "output_type": "pyout",
       "prompt_number": 600,
       "text": [
        "retained_in_8_majority_vote    2203\n",
        "eds_8th_grade                  2203\n",
        "swd_8th_grade                  2203\n",
        "Street_8th_grade               2201\n",
        "NumAdvanced_8th_grade          2166\n",
        "lep_8th_grade                  2203\n",
        "GPA_Science_8th_grade          2162\n",
        "Num_Marks_8th_grade            2166\n",
        "sex_8th_grade                  2203\n",
        "Num_Science_8th_grade          2166\n",
        "GPA_ENG_8th_grade              2138\n",
        "GPA_8th_grade                  2166\n",
        "exc_abs_8th_grade              2203\n",
        "Num_ENG_8th_grade              2166\n",
        "ZIP_8th_grade                  2201\n",
        "ethnic_8th_grade               2203\n",
        "Num_Math_8th_grade             2166\n",
        "unexc_abs_8th_grade            2203\n",
        "NumAdvanced_Math_8th_grade     2166\n",
        "GPA_Math_8th_grade             2163\n",
        "school_code_8th_grade          2203\n",
        "dtype: int64"
       ]
      }
     ],
     "prompt_number": 600
    },
    {
     "cell_type": "code",
     "collapsed": false,
     "input": [],
     "language": "python",
     "metadata": {},
     "outputs": []
    }
   ],
   "metadata": {}
  }
 ]
}